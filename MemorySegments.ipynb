{
 "cells": [
  {
   "cell_type": "markdown",
   "metadata": {},
   "source": [
    "# Memory segments\n",
    "\n",
    "## Table of Contents\n",
    "- Memory segments\n",
    "- Demo program"
   ]
  },
  {
   "cell_type": "markdown",
   "metadata": {},
   "source": [
    "## Memory segments in C/C++ programs\n",
    "- main memory (RAM) is typically divided into 2 main spaces:\n",
    "    1. kernel space - reserved for running the kernel (OS background processes, device drivers, etc.)\n",
    "        - loaded in lower addresses\n",
    "    2. user space - user-mode applications are loaded\n",
    "        - loaded in higher addresses\n",
    "    \n",
    "- in C/C++ programs, user space is divided into 5 different areas, called segments:\n",
    "\n",
    "<img src=\"media/MemorySegments.png\">\n",
    "\n",
    "### Text segment\n",
    "- also called a code segment\n",
    "- compiled program/code is loaded\n",
    "- code segment is typically read-only\n",
    "\n",
    "### Data segment\n",
    "- also called the initialized data segment\n",
    "- initialized global and static variables are stored\n",
    "\n",
    "### BSS (Block Started by Symbol) segment\n",
    "- also called the uninitialized data segment)\n",
    "- zero-initialized or uninitialized global and static variables are stored\n",
    "\n",
    "\n",
    "### Heap segment\n",
    "- memory for dynamically allocated variables (using pointers) are allocated in this segment\n",
    "- Heap size is normally much larger compared to stack size\n",
    "- size (actual) grows and shrinks based on program needs\n",
    "- programmers repsponsibility to deallocate dynamic memory\n",
    "    - memory leak could occur, otherwise!\n",
    "    \n",
    "\n",
    "### Stack segment\n",
    "- also called scratch pad\n",
    "- function parameters, local variables, and other function-related register variables are stored\n",
    "- size automatically grows and shrinks based on program needs\n",
    "    \n",
    "\n",
    "\n",
    "Programmers primarily focus on the heap and the stack, as that is where most of the interesting stuff takes place."
   ]
  },
  {
   "cell_type": "markdown",
   "metadata": {},
   "source": [
    "## Demo program\n",
    "- let's compile and see memory addresses of demos/memory_segments.cpp file"
   ]
  },
  {
   "cell_type": "code",
   "execution_count": 1,
   "metadata": {},
   "outputs": [
    {
     "name": "stdout",
     "output_type": "stream",
     "text": [
      "#include <cstdio>\r\n",
      "#include <cstdlib>\r\n",
      "#include <iostream>\r\n",
      "\r\n",
      "using namespace std;\r\n",
      "\r\n",
      "int global_var;\r\n",
      "int global_initialized_var = 5;\r\n",
      "char global_string[] = \"John Smith!\";\r\n",
      "\r\n",
      "void function() {\r\n",
      "   int stack_var = 100; \r\n",
      "   // notice this variable has the same name as the one in main()\r\n",
      "   static int static_initialized_var = 5;\r\n",
      "   static_initialized_var += 10;\r\n",
      "   printf(\"%s\\n\", \"Output inside function:\");\r\n",
      "   printf(\"static_initialized_var = %d\\n\", static_initialized_var);\r\n",
      "   printf(\"static_initialized_var is at address %p\\n\", &static_initialized_var);\r\n",
      "   printf(\"stack_var = %d\\n\", stack_var);\r\n",
      "   printf(\"stack_var is at address %p\\n\", &stack_var);\r\n",
      "}\r\n",
      "\r\n",
      "\r\n",
      "int main() {\r\n",
      "   int stack_var; // same name as the variable in function()\r\n",
      "   static int static_var;\r\n",
      "   int * heap_var_ptr;\r\n",
      "   static int static_initialized_var = 5;\r\n",
      "\r\n",
      "   heap_var_ptr = (int *) malloc(4);\r\n",
      "   printf(\"%s\\n\", \"output from main function\");\r\n",
      "   // these addressse are in the code/text segment\r\n",
      "   printf(\"main is at address: %p\\n\", main);\r\n",
      "   printf(\"main is at address: %p\\n\", &main);\r\n",
      "   printf(\"function is at address: %p\\n\", function);\r\n",
      "\r\n",
      "   // These variables are in the data segment\r\n",
      "   printf(\"global_initialized_var is at address %p\\n\", &global_initialized_var);\r\n",
      "   printf(\"static_initialized_var is at address %p\\n\\n\", &static_initialized_var);\r\n",
      "\r\n",
      "   // These variables are in the bss segment\r\n",
      "   printf(\"static_var is at address %p\\n\", &static_var);\r\n",
      "   printf(\"global_var is at address %p\\n\\n\", &global_var);\r\n",
      "\r\n",
      "   // This variable is in the heap segment\r\n",
      "   printf(\"heap_var is at address %p\\n\\n\", heap_var_ptr);\r\n",
      "\r\n",
      "   // These variables are in the stack segment\r\n",
      "   printf(\"stack_var is at address %p\\n\", &stack_var);\r\n",
      "\r\n",
      "   printf(\"\\ncalling function()...\\n\");   \r\n",
      "   function();\r\n",
      "\r\n",
      "   // call function again\r\n",
      "   printf(\"\\ncalling function() again...\\n\");\r\n",
      "   // what do you think is the values of static variable in function()?\r\n",
      "   function();\r\n",
      "   return 0;\r\n",
      "}  \r\n"
     ]
    }
   ],
   "source": [
    "# see the memory_segments.cpp source file\n",
    "! cat ./demos/memory_segments.cpp"
   ]
  },
  {
   "cell_type": "code",
   "execution_count": 4,
   "metadata": {},
   "outputs": [],
   "source": [
    "# let's compile and run the program\n",
    "! g++ -m32 -o memory_segments.exe demos/memory_segments.cpp"
   ]
  },
  {
   "cell_type": "code",
   "execution_count": 5,
   "metadata": {},
   "outputs": [
    {
     "name": "stdout",
     "output_type": "stream",
     "text": [
      "output from main function\r\n",
      "main is at address: 0x565a0277\r\n",
      "main is at address: 0x565a0277\r\n",
      "function is at address: 0x565a01d9\r\n",
      "global_initialized_var is at address 0x565a302c\r\n",
      "static_initialized_var is at address 0x565a3040\r\n",
      "\r\n",
      "static_var is at address 0x565a3050\r\n",
      "global_var is at address 0x565a3048\r\n",
      "\r\n",
      "heap_var is at address 0x56648bb0\r\n",
      "\r\n",
      "stack_var is at address 0xffae8278\r\n",
      "\r\n",
      "calling function()...\r\n",
      "Output inside function:\r\n",
      "static_initialized_var = 15\r\n",
      "static_initialized_var is at address 0x565a303c\r\n",
      "stack_var = 100\r\n",
      "stack_var is at address 0xffae825c\r\n",
      "\r\n",
      "calling function() again...\r\n",
      "Output inside function:\r\n",
      "static_initialized_var = 25\r\n",
      "static_initialized_var is at address 0x565a303c\r\n",
      "stack_var = 100\r\n",
      "stack_var is at address 0xffae825c\r\n"
     ]
    }
   ],
   "source": [
    "! ./memory_segments.exe"
   ]
  },
  {
   "cell_type": "code",
   "execution_count": null,
   "metadata": {},
   "outputs": [],
   "source": []
  }
 ],
 "metadata": {
  "kernelspec": {
   "display_name": "Python 3",
   "language": "python",
   "name": "python3"
  },
  "language_info": {
   "codemirror_mode": {
    "name": "ipython",
    "version": 3
   },
   "file_extension": ".py",
   "mimetype": "text/x-python",
   "name": "python",
   "nbconvert_exporter": "python",
   "pygments_lexer": "ipython3",
   "version": "3.8.5"
  }
 },
 "nbformat": 4,
 "nbformat_minor": 2
}
