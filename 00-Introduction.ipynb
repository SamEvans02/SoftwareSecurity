{
 "cells": [
  {
   "cell_type": "markdown",
   "metadata": {},
   "source": [
    "# Ethical Hacking\n",
    "\n",
    "## Table of Contents\n",
    "\n",
    "### Linux and Bash Scripting\n",
    "\n",
    "- **[Setup Hacking VM](./SetupVM.ipynb)**\n",
    "- **[Linux Command Fundamentals](https://github.com/rambasnet/LinuxCommand-Notebooks)**\n",
    "- **[Bash Script Fundamentals](https://github.com/rambasnet/BashNotebooks)**\n",
    "\n",
    "### Hacking Tools and Techniques\n",
    "\n",
    "- **[Hacking Tools](./HackingTools.ipynb)**\n",
    "- **[Fast and Easy Hacking](./FastAndEasyHacking.ipynb)**\n",
    "\n",
    "### C++ Review\n",
    "- **[C++ Basics Review](./CS1-Review.ipynb)**\n",
    "- **[Functions & Unit testing](./FunctionsAndUnittesting.ipynb)**\n",
    "- **[C Arrays](./C-Arrays.ipynb)**\n",
    "- **[Pointers & Applications](./Pointers-Applications.ipynb)**\n",
    "- **[C String - Buffer](./C-String.ipynb)**\n",
    "- **[Function Pointers](./Function-Pointers.ipynb)**\n",
    "- **[C++ Fundamentals Notebooks](https://github.com/rambasnet/CPPFundamentals-Notebooks)**\n",
    "- **[Data Structures with C++ Notebooks](https://github.com/rambasnet/DataStructures-Notebooks)**\n",
    "- **[C++ STL Notebooks](https://github.com/rambasnet/STL-Notebooks)**\n",
    "\n",
    "### Under the Hood\n",
    "- **[ELF Binary Format](./ELF.ipynb)**\n",
    "- **[C/C++ Program Memory Segments](./MemorySegments.ipynb)**\n",
    "- **[x86 Assembly and Stack](./x86-AssemblyAndStack.ipynb)**\n",
    "- **[GDB & PEDA](./GDB-Peda.ipynb)**\n",
    "\n",
    "### Reverse Engineering\n",
    "- **[Reverse Engineering Basics](./ReverseEngineering.ipynb)**\n",
    "\n",
    "### Buffer Overflow\n",
    "- **[Buffer Overflow Protections](./BufferOverflowProtections.ipynb)**\n",
    "- **[Buffer Overflow Basics](./BufferOverflowBasics.ipynb)**\n",
    "- **[Stack Overflow - Memory Corruption](./StackOverflow-MemoryCorruption.ipynb)**\n",
    "- **[Stack Overflow - Arbitrary Code Execution](./StackOverflowArbitraryCodeExecution.ipynb)**\n",
    "- **[Global Segment Overflow - Exploiting Function Pointers](./GlobalSegmentOverflow.ipynb)**\n",
    "    \n",
    "### Format String\n",
    "- **[Format String Vulnerability & Exploitations](./FormatStrings.ipynb)**\n",
    "\n",
    "### Capture The Flag\n",
    "- **[Capture The Flag](./CTF.ipynb)**"
   ]
  },
  {
   "cell_type": "code",
   "execution_count": null,
   "metadata": {},
   "outputs": [],
   "source": []
  }
 ],
 "metadata": {
  "kernelspec": {
   "display_name": "Python 3",
   "language": "python",
   "name": "python3"
  },
  "language_info": {
   "codemirror_mode": {
    "name": "ipython",
    "version": 3
   },
   "file_extension": ".py",
   "mimetype": "text/x-python",
   "name": "python",
   "nbconvert_exporter": "python",
   "pygments_lexer": "ipython3",
   "version": "3.8.3"
  }
 },
 "nbformat": 4,
 "nbformat_minor": 2
}
