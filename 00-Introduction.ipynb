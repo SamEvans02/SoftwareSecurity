{
 "cells": [
  {
   "cell_type": "markdown",
   "metadata": {},
   "source": [
    "# System Exploitation 101\n",
    "\n",
    "## Table of Contents\n",
    "\n",
    "### Linux 101\n",
    "\n",
    "- **[Setup Hacking VM](./SetupVM.ipynb)**<br>\n",
    "- **[Linux Command Fundamentals](https://github.com/rambasnet/LinuxCommand-Notebooks)**<br>\n",
    "- **[Bash Script Fundamentals](https://github.com/rambasnet/BashNotebooks)**<br>\n",
    "\n",
    "### Ethical Hacking 101\n",
    "\n",
    "- **[Hacking Tools Explorations](./HackingTools.ipynb)** <br>\n",
    "- **[Fast and Easy Hacking](./FastAndEasyHacking.ipynb)**<br>\n",
    "- **[Capture The Flag](./CTF.ipynb)** <br>\n",
    "\n",
    "### Under the Hood\n",
    "- **[ELF Binary Format](./ELF.ipynb)**<br>\n",
    "- **[C/C++ Program Memory Segments](./MemorySegments.ipynb)**<br>\n",
    "- **[x86 Assembly and Stack](./x86-AssemblyAndStack.ipynb)**<br>\n",
    "- **[GDB & PEDA](./GDB-Peda.ipynb)**<br>\n",
    "\n",
    "\n",
    "### Buffer Overflow\n",
    "- **[Buffer Overflow Protections](./BufferOverflowProtections.ipynb)**<br>\n",
    "- **[Buffer Overflow Basics](./BufferOverflowBasics.ipynb)**<br>\n",
    "- **[Stack Overflow - Memory Corruption](./StackOverflowMemoryCorruption.ipynb)**<br>\n",
    "- **[Stack Overflow - Arbitrary Code Execution](./StackOverflowArbitraryCodeExecution.ipynb)**<br>\n",
    "- **[Global Segment Overflow - Exploiting Function Pointers](./OverflowingFunctionPointers.ipynb)**<br>\n",
    "    \n",
    "### Format String\n",
    "- **[Format String Vulnerability & Exploitations](./FormatStrings.ipynb)**<br>"
   ]
  },
  {
   "cell_type": "code",
   "execution_count": null,
   "metadata": {},
   "outputs": [],
   "source": []
  }
 ],
 "metadata": {
  "kernelspec": {
   "display_name": "Python 3",
   "language": "python",
   "name": "python3"
  },
  "language_info": {
   "codemirror_mode": {
    "name": "ipython",
    "version": 3
   },
   "file_extension": ".py",
   "mimetype": "text/x-python",
   "name": "python",
   "nbconvert_exporter": "python",
   "pygments_lexer": "ipython3",
   "version": "3.8.3"
  }
 },
 "nbformat": 4,
 "nbformat_minor": 2
}
