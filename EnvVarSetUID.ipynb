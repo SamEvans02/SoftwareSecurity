{
 "cells": [
  {
   "cell_type": "markdown",
   "id": "ad2157ad-d5d7-4898-9dc7-5914736c5116",
   "metadata": {},
   "source": [
    "# Environment Variable and Set-UID Programs\n",
    "\n",
    "- environment variables are a"
   ]
  }
 ],
 "metadata": {
  "kernelspec": {
   "display_name": "Python 3 (ipykernel)",
   "language": "python",
   "name": "python3"
  },
  "language_info": {
   "codemirror_mode": {
    "name": "ipython",
    "version": 3
   },
   "file_extension": ".py",
   "mimetype": "text/x-python",
   "name": "python",
   "nbconvert_exporter": "python",
   "pygments_lexer": "ipython3",
   "version": "3.11.7"
  }
 },
 "nbformat": 4,
 "nbformat_minor": 5
}
