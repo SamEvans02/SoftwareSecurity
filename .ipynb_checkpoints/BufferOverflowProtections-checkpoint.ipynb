{
 "cells": [
  {
   "cell_type": "markdown",
   "metadata": {},
   "source": [
    "# Buffer Overflow Protections\n",
    "- modern kernel and compilers provide various proctections from bufferoverlow attacks\n",
    "- Reference: https://ocw.cs.pub.ro/courses/cns/labs/lab-06"
   ]
  },
  {
   "cell_type": "markdown",
   "metadata": {},
   "source": [
    "## 1. ASLR - Address Space Layout Randomization\n",
    "- Kernel specific protection\n",
    "- loads the stack, data and program in random memory locations making it difficult to guess their addresses\n",
    "\n",
    "- the following segments are possible to randomize on x86:\n",
    "    - **stack** is easily randomizable, as all stack addresses are relative to `esp` or `ebp`\n",
    "    - **Data segment** may be randomized, if e.g., the data segment is set to a random value\n",
    "    - **Code** can only be randomized by comiling the program as Position Independent Code/Position Independent Executable\n",
    "       - default for shared libraries, but otherwise executable code is usually placed at fixed addresses\n",
    "\n",
    "### ASLR values\n",
    "- Linux allows 3 options:\n",
    "    - 0: disabled\n",
    "    - 1: randomize stack, vdso, libraries (except data? not sure...)\n",
    "    - 2: enabled (including data segment - default value)\n",
    "    \n",
    "### checking ASLR\n",
    "- compile and run demos/aslr.cpp program to check ASLR\n",
    "- run gdb-peda \n",
    "\n",
    "    ```bash\n",
    "    aslr # run aslr command\n",
    "    ASLR is OFF # output\n",
    "    ```"
   ]
  },
  {
   "cell_type": "code",
   "execution_count": 26,
   "metadata": {},
   "outputs": [
    {
     "name": "stdout",
     "output_type": "stream",
     "text": [
      "2\n"
     ]
    },
    {
     "name": "stderr",
     "output_type": "stream",
     "text": [
      "[sudo] password for kali: "
     ]
    }
   ],
   "source": [
    "! echo kali | sudo -S cat /proc/sys/kernel/randomize_va_space"
   ]
  },
  {
   "cell_type": "code",
   "execution_count": 28,
   "metadata": {},
   "outputs": [],
   "source": [
    "# let's copy and compile aslr.cpp demo program\n",
    "! cp demos/aslr.cpp ."
   ]
  },
  {
   "cell_type": "code",
   "execution_count": 29,
   "metadata": {},
   "outputs": [
    {
     "name": "stdout",
     "output_type": "stream",
     "text": [
      "// aslr.cpp - program to check address space layout randomization\r\n",
      "// compile and run the program multiple times\r\n",
      "// if you see same value for $esp, ASLR is disabled\r\n",
      "// $ g++ -g -m 32 -o aslr.exe aslr.cpp\r\n",
      "#include <stdio.h>\r\n",
      "#include <iostream>\r\n",
      "using namespace std;\r\n",
      "\r\n",
      "int global_var = 100; // data segment\r\n",
      "char global_name[20]; // bss segment\r\n",
      "\r\n",
      "int main(void) {\r\n",
      "    char buffer[] = \"Hello World!\";\r\n",
      "    register int esp asm(\"esp\");\r\n",
      "    register int ebp asm(\"ebp\");\r\n",
      "    cout << \"Registers info:\\n\";\r\n",
      "    cout << \"===============\\n\";\r\n",
      "    printf(\"$esp = %p\\n\", esp);\r\n",
      "    printf(\"$ebp = %p\\n\", ebp);\r\n",
      "    cout << \"\\nData and BSS segement\\n\";\r\n",
      "    cout << \"======================\\n\";\r\n",
      "    printf(\"global_var is at: %p\\n\", &global_var);\r\n",
      "    printf(\"global_name is at: %p\\n\", global_name);\r\n",
      "    cout << \"\\nStack variable:\\n\";\r\n",
      "    cout << \"===============\\n\";\r\n",
      "    printf(\"buffer is at: %p\\n\", buffer);\r\n",
      "    cout << \"\\nCode segment:\\n\";\r\n",
      "    cout << \"=============\\n\";\r\n",
      "    printf(\"main is at %p\\n\", main);\r\n",
      "    cout << \"\\nShared library code\\n\";\r\n",
      "    cout << \"=====================\\n\";\r\n",
      "    printf(\"printf is at %p\\n\", printf);\r\n",
      "    printf(\"cout is at %p\\n\", &cout); // cout is an operator\r\n",
      "    return 0;\r\n",
      "}"
     ]
    }
   ],
   "source": [
    "! cat aslr.cpp"
   ]
  },
  {
   "cell_type": "code",
   "execution_count": 30,
   "metadata": {},
   "outputs": [],
   "source": [
    "! g++ -m32 aslr.cpp -o aslr.exe"
   ]
  },
  {
   "cell_type": "code",
   "execution_count": 34,
   "metadata": {},
   "outputs": [
    {
     "name": "stdout",
     "output_type": "stream",
     "text": [
      "Registers info:\r\n",
      "===============\r\n",
      "$esp = 0xffe40950\r\n",
      "$ebp = 0xffe40968\r\n",
      "\r\n",
      "Data and BSS segement\r\n",
      "======================\r\n",
      "global_var is at: 0x5659c024\r\n",
      "global_name is at: 0x5659c02c\r\n",
      "\r\n",
      "Stack variable:\r\n",
      "===============\r\n",
      "buffer is at: 0xffe40953\r\n",
      "\r\n",
      "Code segment:\r\n",
      "=============\r\n",
      "main is at 0x565991b9\r\n",
      "\r\n",
      "Shared library code\r\n",
      "=====================\r\n",
      "printf is at 0xf7bcdf20\r\n",
      "cout is at 0xf7f2bc00\r\n"
     ]
    }
   ],
   "source": [
    "! ./aslr.exe | tee aslr2-1.txt"
   ]
  },
  {
   "cell_type": "code",
   "execution_count": 35,
   "metadata": {},
   "outputs": [
    {
     "name": "stdout",
     "output_type": "stream",
     "text": [
      "Registers info:\r\n",
      "===============\r\n",
      "$esp = 0xffdf9490\r\n",
      "$ebp = 0xffdf94a8\r\n",
      "\r\n",
      "Data and BSS segement\r\n",
      "======================\r\n",
      "global_var is at: 0x5659f024\r\n",
      "global_name is at: 0x5659f02c\r\n",
      "\r\n",
      "Stack variable:\r\n",
      "===============\r\n",
      "buffer is at: 0xffdf9493\r\n",
      "\r\n",
      "Code segment:\r\n",
      "=============\r\n",
      "main is at 0x5659c1b9\r\n",
      "\r\n",
      "Shared library code\r\n",
      "=====================\r\n",
      "printf is at 0xf7c34f20\r\n",
      "cout is at 0xf7f92c00\r\n"
     ]
    }
   ],
   "source": [
    "! ./aslr.exe | tee aslr2-2.txt"
   ]
  },
  {
   "cell_type": "code",
   "execution_count": 37,
   "metadata": {},
   "outputs": [
    {
     "name": "stdout",
     "output_type": "stream",
     "text": [
      "3,4c3,4\r\n",
      "< $esp = 0xffe40950\r\n",
      "< $ebp = 0xffe40968\r\n",
      "---\r\n",
      "> $esp = 0xffdf9490\r\n",
      "> $ebp = 0xffdf94a8\r\n",
      "8,9c8,9\r\n",
      "< global_var is at: 0x5659c024\r\n",
      "< global_name is at: 0x5659c02c\r\n",
      "---\r\n",
      "> global_var is at: 0x5659f024\r\n",
      "> global_name is at: 0x5659f02c\r\n",
      "13c13\r\n",
      "< buffer is at: 0xffe40953\r\n",
      "---\r\n",
      "> buffer is at: 0xffdf9493\r\n",
      "17c17\r\n",
      "< main is at 0x565991b9\r\n",
      "---\r\n",
      "> main is at 0x5659c1b9\r\n",
      "21,22c21,22\r\n",
      "< printf is at 0xf7bcdf20\r\n",
      "< cout is at 0xf7f2bc00\r\n",
      "---\r\n",
      "> printf is at 0xf7c34f20\r\n",
      "> cout is at 0xf7f92c00\r\n"
     ]
    }
   ],
   "source": [
    "# run the diff of aslr2-1.txt and aslr2-2.txt\n",
    "! diff aslr2-1.txt aslr2-2.txt"
   ]
  },
  {
   "cell_type": "markdown",
   "metadata": {},
   "source": [
    "### Set ASLR to option 1\n",
    "- randomize stack, vdso, libraries (except data?)\n",
    "- actually, global data and bss segments are also randomized!"
   ]
  },
  {
   "cell_type": "code",
   "execution_count": null,
   "metadata": {},
   "outputs": [],
   "source": [
    "# run it on terminal as you can't write in sudo interactive in Jupyter Notebook\n",
    "! echo 1 | sudo tee /proc/sys/kernel/randomize_va_space"
   ]
  },
  {
   "cell_type": "code",
   "execution_count": 42,
   "metadata": {},
   "outputs": [
    {
     "name": "stdout",
     "output_type": "stream",
     "text": [
      "[sudo] password for kali: 1\r\n"
     ]
    }
   ],
   "source": [
    "! echo kali | sudo -S cat /proc/sys/kernel/randomize_va_space"
   ]
  },
  {
   "cell_type": "code",
   "execution_count": 43,
   "metadata": {},
   "outputs": [
    {
     "name": "stdout",
     "output_type": "stream",
     "text": [
      "Registers info:\r\n",
      "===============\r\n",
      "$esp = 0xffa92ec0\r\n",
      "$ebp = 0xffa92ed8\r\n",
      "\r\n",
      "Data and BSS segement\r\n",
      "======================\r\n",
      "global_var is at: 0x565fc024\r\n",
      "global_name is at: 0x565fc02c\r\n",
      "\r\n",
      "Stack variable:\r\n",
      "===============\r\n",
      "buffer is at: 0xffa92ec3\r\n",
      "\r\n",
      "Code segment:\r\n",
      "=============\r\n",
      "main is at 0x565f91b9\r\n",
      "\r\n",
      "Shared library code\r\n",
      "=====================\r\n",
      "printf is at 0xf7be6f20\r\n",
      "cout is at 0xf7f44c00\r\n"
     ]
    }
   ],
   "source": [
    "! ./aslr.exe | tee aslr1-1.txt"
   ]
  },
  {
   "cell_type": "code",
   "execution_count": 44,
   "metadata": {},
   "outputs": [
    {
     "name": "stdout",
     "output_type": "stream",
     "text": [
      "Registers info:\r\n",
      "===============\r\n",
      "$esp = 0xffec4850\r\n",
      "$ebp = 0xffec4868\r\n",
      "\r\n",
      "Data and BSS segement\r\n",
      "======================\r\n",
      "global_var is at: 0x5659b024\r\n",
      "global_name is at: 0x5659b02c\r\n",
      "\r\n",
      "Stack variable:\r\n",
      "===============\r\n",
      "buffer is at: 0xffec4853\r\n",
      "\r\n",
      "Code segment:\r\n",
      "=============\r\n",
      "main is at 0x565981b9\r\n",
      "\r\n",
      "Shared library code\r\n",
      "=====================\r\n",
      "printf is at 0xf7c13f20\r\n",
      "cout is at 0xf7f71c00\r\n"
     ]
    }
   ],
   "source": [
    "! ./aslr.exe | tee aslr1-2.txt"
   ]
  },
  {
   "cell_type": "code",
   "execution_count": 45,
   "metadata": {},
   "outputs": [
    {
     "name": "stdout",
     "output_type": "stream",
     "text": [
      "3,4c3,4\r\n",
      "< $esp = 0xffa92ec0\r\n",
      "< $ebp = 0xffa92ed8\r\n",
      "---\r\n",
      "> $esp = 0xffec4850\r\n",
      "> $ebp = 0xffec4868\r\n",
      "8,9c8,9\r\n",
      "< global_var is at: 0x565fc024\r\n",
      "< global_name is at: 0x565fc02c\r\n",
      "---\r\n",
      "> global_var is at: 0x5659b024\r\n",
      "> global_name is at: 0x5659b02c\r\n",
      "13c13\r\n",
      "< buffer is at: 0xffa92ec3\r\n",
      "---\r\n",
      "> buffer is at: 0xffec4853\r\n",
      "17c17\r\n",
      "< main is at 0x565f91b9\r\n",
      "---\r\n",
      "> main is at 0x565981b9\r\n",
      "21,22c21,22\r\n",
      "< printf is at 0xf7be6f20\r\n",
      "< cout is at 0xf7f44c00\r\n",
      "---\r\n",
      "> printf is at 0xf7c13f20\r\n",
      "> cout is at 0xf7f71c00\r\n"
     ]
    }
   ],
   "source": [
    "! diff aslr1-1.txt aslr1-2.txt"
   ]
  },
  {
   "cell_type": "markdown",
   "metadata": {},
   "source": [
    "### Set ASLR to option 0\n",
    "- disable ASLR"
   ]
  },
  {
   "cell_type": "code",
   "execution_count": null,
   "metadata": {},
   "outputs": [],
   "source": [
    "# run it on terminal as you can't write in sudo interactive in Jupyter Notebook\n",
    "! echo 0 | sudo tee /proc/sys/kernel/randomize_va_space"
   ]
  },
  {
   "cell_type": "code",
   "execution_count": 46,
   "metadata": {},
   "outputs": [
    {
     "name": "stdout",
     "output_type": "stream",
     "text": [
      "[sudo] password for kali: 0\r\n"
     ]
    }
   ],
   "source": [
    "! echo kali | sudo -S cat /proc/sys/kernel/randomize_va_space"
   ]
  },
  {
   "cell_type": "code",
   "execution_count": 47,
   "metadata": {},
   "outputs": [
    {
     "name": "stdout",
     "output_type": "stream",
     "text": [
      "Registers info:\r\n",
      "===============\r\n",
      "$esp = 0xffffc370\r\n",
      "$ebp = 0xffffc388\r\n",
      "\r\n",
      "Data and BSS segement\r\n",
      "======================\r\n",
      "global_var is at: 0x56559024\r\n",
      "global_name is at: 0x5655902c\r\n",
      "\r\n",
      "Stack variable:\r\n",
      "===============\r\n",
      "buffer is at: 0xffffc373\r\n",
      "\r\n",
      "Code segment:\r\n",
      "=============\r\n",
      "main is at 0x565561b9\r\n",
      "\r\n",
      "Shared library code\r\n",
      "=====================\r\n",
      "printf is at 0xf7c54f20\r\n",
      "cout is at 0xf7fb2c00\r\n"
     ]
    }
   ],
   "source": [
    "! ./aslr.exe | tee aslr0-1.txt"
   ]
  },
  {
   "cell_type": "code",
   "execution_count": 48,
   "metadata": {},
   "outputs": [
    {
     "name": "stdout",
     "output_type": "stream",
     "text": [
      "Registers info:\r\n",
      "===============\r\n",
      "$esp = 0xffffc370\r\n",
      "$ebp = 0xffffc388\r\n",
      "\r\n",
      "Data and BSS segement\r\n",
      "======================\r\n",
      "global_var is at: 0x56559024\r\n",
      "global_name is at: 0x5655902c\r\n",
      "\r\n",
      "Stack variable:\r\n",
      "===============\r\n",
      "buffer is at: 0xffffc373\r\n",
      "\r\n",
      "Code segment:\r\n",
      "=============\r\n",
      "main is at 0x565561b9\r\n",
      "\r\n",
      "Shared library code\r\n",
      "=====================\r\n",
      "printf is at 0xf7c54f20\r\n",
      "cout is at 0xf7fb2c00\r\n"
     ]
    }
   ],
   "source": [
    "! ./aslr.exe | tee aslr0-2.txt"
   ]
  },
  {
   "cell_type": "code",
   "execution_count": 49,
   "metadata": {},
   "outputs": [],
   "source": [
    "! diff aslr0-1.txt aslr0-2.txt\n",
    "# no difference!"
   ]
  },
  {
   "cell_type": "markdown",
   "metadata": {},
   "source": [
    "#### Allow ptrace processes\n",
    "**ptrace** - allows parent process to observe and control the execution of another process\n",
    "- used primarily to implement breakpoint debugging and system call tracing"
   ]
  },
  {
   "cell_type": "code",
   "execution_count": 7,
   "metadata": {},
   "outputs": [
    {
     "name": "stdout",
     "output_type": "stream",
     "text": [
      "kernel.yama.ptrace_scope = 0\n"
     ]
    },
    {
     "name": "stderr",
     "output_type": "stream",
     "text": [
      "[sudo] password for kali: "
     ]
    }
   ],
   "source": [
    "# check the ptrace value\n",
    "! echo kali | sudo -S sysctl kernel.yama.ptrace_scope"
   ]
  },
  {
   "cell_type": "code",
   "execution_count": 8,
   "metadata": {},
   "outputs": [
    {
     "name": "stdout",
     "output_type": "stream",
     "text": [
      "kernel.yama.ptrace_scope = 0\n"
     ]
    },
    {
     "name": "stderr",
     "output_type": "stream",
     "text": [
      "[sudo] password for kali: "
     ]
    }
   ],
   "source": [
    "# set the ptrace value\n",
    "! echo kali | sudo -S sysctl -w kernel.yama.ptrace_scope=0"
   ]
  },
  {
   "cell_type": "markdown",
   "metadata": {},
   "source": [
    "### 2. PIE\n",
    "- Position Independent Executable\n",
    "- randomizes Code segment base address\n",
    "- randomizes GOT (Global Offset Table for global data-variables) and PLT (Procedure Linkage Table)\n",
    "    - PLT addresses are fixed during  linking to load the libc.so library codes/functions\n",
    "    - shared libraries are position independent code (PIC); they don't know where they are being loaded\n",
    "- disable PIE in gcc using **-no-pie** flag"
   ]
  },
  {
   "cell_type": "markdown",
   "metadata": {},
   "source": [
    "### 3. Executable Stack Protection (NX) also (DEP)\n",
    "- DEP - Data Execution Prevention\n",
    "- in newer gcc, programs must be compiled by disabling stack protector to execute code injected into stack\n",
    "- check executable stack:\n",
    "`$ readelf -l <filename>`\n",
    "- note the line: \n",
    "GNU_STACK      0x000000 0x00000000 0x00000000 0x00000 0x00000 RW  0x10\n",
    "RW \n",
    "- RW - Read and Write but not Executable\n",
    "- RWE - Read, Write, and Executable\n",
    "\n"
   ]
  },
  {
   "cell_type": "code",
   "execution_count": 9,
   "metadata": {},
   "outputs": [
    {
     "name": "stdout",
     "output_type": "stream",
     "text": [
      "  GNU_STACK      0x000000 0x00000000 0x00000000 0x00000 0x00000 RW  0x10\n"
     ]
    }
   ],
   "source": [
    "%%bash\n",
    "in=./demo-programs/hello.cpp\n",
    "out=hello\n",
    "g++ -g -m32 -o $out $in \n",
    "\n",
    "readelf -l ./demo-programs/aslr | grep GNU_STACK"
   ]
  },
  {
   "cell_type": "markdown",
   "metadata": {},
   "source": [
    "#### enable RWX/disable DEP\n",
    "- compile the program using -z execstack switch of gcc"
   ]
  },
  {
   "cell_type": "code",
   "execution_count": 10,
   "metadata": {},
   "outputs": [
    {
     "name": "stdout",
     "output_type": "stream",
     "text": [
      "  GNU_STACK      0x000000 0x00000000 0x00000000 0x00000 0x00000 RWE 0x10\n"
     ]
    }
   ],
   "source": [
    "%%bash\n",
    "in=./demo-programs/hello.cpp\n",
    "out=hello\n",
    "g++ -g -m32 -z execstack -o $out $in \n",
    "\n",
    "readelf -l $out | grep GNU_STACK"
   ]
  },
  {
   "cell_type": "markdown",
   "metadata": {},
   "source": [
    "### 4. Stack Canaries\n",
    "- \"canary in a coal mine\" to detect carbon monoxide by using a warm blooded animal like a bird\n",
    "- place a small random integer just before the stack return pointer\n",
    "    - if the value is overwritten/corrupted during the function call then there's a buffer overflow attempt\n",
    "- use **-fno-stack-protector** flag in gcc to disable canaries"
   ]
  },
  {
   "cell_type": "code",
   "execution_count": null,
   "metadata": {},
   "outputs": [],
   "source": []
  }
 ],
 "metadata": {
  "kernelspec": {
   "display_name": "Python 3",
   "language": "python",
   "name": "python3"
  },
  "language_info": {
   "codemirror_mode": {
    "name": "ipython",
    "version": 3
   },
   "file_extension": ".py",
   "mimetype": "text/x-python",
   "name": "python",
   "nbconvert_exporter": "python",
   "pygments_lexer": "ipython3",
   "version": "3.8.3"
  }
 },
 "nbformat": 4,
 "nbformat_minor": 2
}
