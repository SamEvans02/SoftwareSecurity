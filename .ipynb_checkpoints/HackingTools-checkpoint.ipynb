{
 "cells": [
  {
   "cell_type": "markdown",
   "metadata": {},
   "source": [
    "# Useful Hacking Tools\n",
    "- collection of some important hacking tools for CTF and Security exercises"
   ]
  },
  {
   "cell_type": "markdown",
   "metadata": {},
   "source": [
    "## Linux System\n",
    "- preferably 64-bit Debian-based such as Ubuntu, Kali or Parrot, etc.\n",
    "- Kali - [https://www.kali.org/](https://www.kali.org/)\n",
    "- Parrot OS - [https://www.parrotsec.org/](https://www.parrotsec.org/)\n",
    "- Ubuntu - [https://ubuntu.com/download/desktop](https://ubuntu.com/download/desktop)"
   ]
  },
  {
   "cell_type": "markdown",
   "metadata": {},
   "source": [
    "## Bash\n",
    "- most Linux systems come with pre-installed bash\n",
    "- /bin/bash or /bin/sh\n",
    "- Jupyter notebooks to learn bash command line and scripting: https://github.com/rambasnet/BashNotebooks"
   ]
  },
  {
   "cell_type": "markdown",
   "metadata": {},
   "source": [
    "## VS Code Editor\n",
    "- download 64-bit .deb file: https://code.visualstudio.com/download into Download folder\n",
    "- install deb file using:\n",
    "```bash\n",
    "   cd ~/Download \n",
    "   sudo dpkg -i *.deb\n",
    "```"
   ]
  },
  {
   "cell_type": "code",
   "execution_count": 3,
   "metadata": {},
   "outputs": [
    {
     "name": "stdout",
     "output_type": "stream",
     "text": [
      "Hello World!\r\n"
     ]
    }
   ],
   "source": [
    "! /bin/bash -c 'echo \"Hello World!\"'"
   ]
  },
  {
   "cell_type": "code",
   "execution_count": 4,
   "metadata": {},
   "outputs": [
    {
     "name": "stdout",
     "output_type": "stream",
     "text": [
      "Hello World!\r\n"
     ]
    }
   ],
   "source": [
    "! /bin/sh -c 'echo \"Hello World!\"'"
   ]
  },
  {
   "cell_type": "markdown",
   "metadata": {},
   "source": [
    "## Curl\n",
    "- https://www.computerhope.com/unix/curl.htm\n",
    "- `$curl options URL` \n",
    "- command line utility to transfer data from or to a server using various protocols such as (HTTP, HTTPS, FTP, TENLENT, SCP, FTPS, etc.)\n",
    "- can use it e.g., in TinyCore CTF level 2 (simple webpage with a cookie) and level 5 (Web service to post data)"
   ]
  },
  {
   "cell_type": "code",
   "execution_count": 27,
   "metadata": {},
   "outputs": [
    {
     "name": "stdout",
     "output_type": "stream",
     "text": [
      "curl 7.72.0 (x86_64-pc-linux-gnu) libcurl/7.72.0 OpenSSL/1.1.1g zlib/1.2.11 brotli/1.0.7 libidn2/2.3.0 libpsl/0.21.0 (+libidn2/2.3.0) libssh2/1.8.0 nghttp2/1.41.0 librtmp/2.3\r\n",
      "Release-Date: 2020-08-19\r\n",
      "Protocols: dict file ftp ftps gopher http https imap imaps ldap ldaps pop3 pop3s rtmp rtsp scp sftp smb smbs smtp smtps telnet tftp \r\n",
      "Features: AsynchDNS brotli GSS-API HTTP2 HTTPS-proxy IDN IPv6 Kerberos Largefile libz NTLM NTLM_WB PSL SPNEGO SSL TLS-SRP UnixSockets\r\n"
     ]
    }
   ],
   "source": [
    "! curl --version"
   ]
  },
  {
   "cell_type": "code",
   "execution_count": 28,
   "metadata": {},
   "outputs": [
    {
     "name": "stdout",
     "output_type": "stream",
     "text": [
      "Reading package lists... Done\n",
      "Building dependency tree       \n",
      "Reading state information... Done\n",
      "curl is already the newest version (7.72.0-1).\n",
      "curl set to manually installed.\n",
      "The following packages were automatically installed and are no longer required:\n",
      "  libcdio18 libgtksourceview2.0-0 libgtksourceview2.0-common libmpdec2\n",
      "  libprotobuf22 libx264-155 libx264-159 python-cairo python-chardet\n",
      "  python-dbus python-enchant python-gi python-gobject-2 python-numpy\n",
      "  python-pkg-resources\n",
      "Use 'sudo apt autoremove' to remove them.\n",
      "0 upgraded, 0 newly installed, 0 to remove and 903 not upgraded.\n"
     ]
    }
   ],
   "source": [
    "# install curl if not installed\n",
    "! echo kali | sudo -S apt install -y curl"
   ]
  },
  {
   "cell_type": "code",
   "execution_count": 29,
   "metadata": {},
   "outputs": [
    {
     "name": "stdout",
     "output_type": "stream",
     "text": [
      "  % Total    % Received % Xferd  Average Speed   Time    Time     Time  Current\n",
      "                                 Dload  Upload   Total   Spent    Left  Speed\n",
      "100  1256  100  1256    0     0   5924      0 --:--:-- --:--:-- --:--:--  5924\n"
     ]
    }
   ],
   "source": [
    "! curl http://example.com --output example.html"
   ]
  },
  {
   "cell_type": "code",
   "execution_count": 30,
   "metadata": {},
   "outputs": [
    {
     "name": "stdout",
     "output_type": "stream",
     "text": [
      "<!doctype html>\r\n",
      "<html>\r\n",
      "<head>\r\n",
      "    <title>Example Domain</title>\r\n",
      "\r\n",
      "    <meta charset=\"utf-8\" />\r\n",
      "    <meta http-equiv=\"Content-type\" content=\"text/html; charset=utf-8\" />\r\n",
      "    <meta name=\"viewport\" content=\"width=device-width, initial-scale=1\" />\r\n",
      "    <style type=\"text/css\">\r\n",
      "    body {\r\n",
      "        background-color: #f0f0f2;\r\n",
      "        margin: 0;\r\n",
      "        padding: 0;\r\n",
      "        font-family: -apple-system, system-ui, BlinkMacSystemFont, \"Segoe UI\", \"Open Sans\", \"Helvetica Neue\", Helvetica, Arial, sans-serif;\r\n",
      "        \r\n",
      "    }\r\n",
      "    div {\r\n",
      "        width: 600px;\r\n",
      "        margin: 5em auto;\r\n",
      "        padding: 2em;\r\n",
      "        background-color: #fdfdff;\r\n",
      "        border-radius: 0.5em;\r\n",
      "        box-shadow: 2px 3px 7px 2px rgba(0,0,0,0.02);\r\n",
      "    }\r\n",
      "    a:link, a:visited {\r\n",
      "        color: #38488f;\r\n",
      "        text-decoration: none;\r\n",
      "    }\r\n",
      "    @media (max-width: 700px) {\r\n",
      "        div {\r\n",
      "            margin: 0 auto;\r\n",
      "            width: auto;\r\n",
      "        }\r\n",
      "    }\r\n",
      "    </style>    \r\n",
      "</head>\r\n",
      "\r\n",
      "<body>\r\n",
      "<div>\r\n",
      "    <h1>Example Domain</h1>\r\n",
      "    <p>This domain is for use in illustrative examples in documents. You may use this\r\n",
      "    domain in literature without prior coordination or asking for permission.</p>\r\n",
      "    <p><a href=\"https://www.iana.org/domains/example\">More information...</a></p>\r\n",
      "</div>\r\n",
      "</body>\r\n",
      "</html>\r\n"
     ]
    }
   ],
   "source": [
    "! cat example.html"
   ]
  },
  {
   "cell_type": "markdown",
   "metadata": {},
   "source": [
    "## Netcat (nc)\n",
    "- https://en.wikipedia.org/wiki/Netcat\n",
    "https://www.sans.org/security-resources/sec560/netcat_cheat_sheet_v1.pdf\n",
    "- nc - networking utility for reading from and writing to network connections using TCP or UDP\n",
    "- can be very useful to transfer file between computers with limited resources\n",
    "- e.g. TinyCoreCTF doens't have GUI to work with files so one can send files back-and-forth to a GUI supported Linux environment\n",
    "    - if you want to send file to TinyCore do the following:\n",
    "    - on Tinycore run netcat in listening mode:\n",
    "        - `$ nc -v -l -p [port] > filename` \n",
    "    - from Kali Linux send a file:\n",
    "        - `$ cat file | nc -v [tinycoreIP] [tinycorePort]`"
   ]
  },
  {
   "cell_type": "markdown",
   "metadata": {},
   "source": [
    "## Python2\n",
    "- Python2 is easier to write exploitcode with\n",
    "- similar to Python3\n",
    "- print is a statement\n",
    "    print \"hello world!\""
   ]
  },
  {
   "cell_type": "code",
   "execution_count": 5,
   "metadata": {},
   "outputs": [
    {
     "name": "stdout",
     "output_type": "stream",
     "text": [
      "Python 2.7.18\r\n"
     ]
    }
   ],
   "source": [
    "! python2 --version"
   ]
  },
  {
   "cell_type": "code",
   "execution_count": 8,
   "metadata": {},
   "outputs": [
    {
     "name": "stdout",
     "output_type": "stream",
     "text": [
      "Reading package lists... Done\n",
      "Building dependency tree       \n",
      "Reading state information... Done\n",
      "python2 is already the newest version (2.7.18-2).\n",
      "python2 set to manually installed.\n",
      "The following packages were automatically installed and are no longer required:\n",
      "  libcdio18 libgtksourceview2.0-0 libgtksourceview2.0-common libmpdec2\n",
      "  libprotobuf22 libx264-155 libx264-159 python-cairo python-chardet\n",
      "  python-dbus python-enchant python-gi python-gobject-2 python-numpy\n",
      "  python-pkg-resources\n",
      "Use 'sudo apt autoremove' to remove them.\n",
      "0 upgraded, 0 newly installed, 0 to remove and 916 not upgraded.\n"
     ]
    }
   ],
   "source": [
    "# install python2 if doesn't exist\n",
    "! echo kali | sudo -S apt install -y python2"
   ]
  },
  {
   "cell_type": "code",
   "execution_count": 10,
   "metadata": {},
   "outputs": [
    {
     "name": "stdout",
     "output_type": "stream",
     "text": [
      "Hello World!\r\n"
     ]
    }
   ],
   "source": [
    "# run python2 code from terminal\n",
    "! python2 -c 'print \"Hello World!\"'"
   ]
  },
  {
   "cell_type": "markdown",
   "metadata": {},
   "source": [
    "## Python3\n",
    "- Jupyter notebooks to learn python3: https://github.com/rambasnet/thinkpythonnotebooks\n",
    "- if Jupyter Notebook is installed, it may overwrite system's Python with conda's Python distribution\n",
    "- Python2 builds up a byte string with `'...'`, however, Python3 builds up a Unicode string object\n",
    "- in Python3, bytes object can be built with `b'...'` - trailing **b**"
   ]
  },
  {
   "cell_type": "code",
   "execution_count": 13,
   "metadata": {},
   "outputs": [
    {
     "name": "stdout",
     "output_type": "stream",
     "text": [
      "Python 3.8.3\r\n"
     ]
    }
   ],
   "source": [
    "! python3 --version"
   ]
  },
  {
   "cell_type": "code",
   "execution_count": 12,
   "metadata": {},
   "outputs": [
    {
     "name": "stdout",
     "output_type": "stream",
     "text": [
      "Reading package lists... Done\n",
      "Building dependency tree       \n",
      "Reading state information... Done\n",
      "The following packages were automatically installed and are no longer required:\n",
      "  libcdio18 libgtksourceview2.0-0 libgtksourceview2.0-common libmpdec2\n",
      "  libprotobuf22 libx264-155 libx264-159 python-cairo python-chardet\n",
      "  python-dbus python-enchant python-gi python-gobject-2 python-numpy\n",
      "  python-pkg-resources\n",
      "Use 'sudo apt autoremove' to remove them.\n",
      "The following additional packages will be installed:\n",
      "  libpython3-dev libpython3-stdlib libpython3.8 libpython3.8-dev\n",
      "  libpython3.8-minimal libpython3.8-stdlib python3-dev python3-distutils\n",
      "  python3-minimal python3.8 python3.8-dev python3.8-minimal\n",
      "Suggested packages:\n",
      "  python3-doc python3-tk python3-venv python3.8-venv python3.8-doc\n",
      "The following packages will be upgraded:\n",
      "  libpython3-dev libpython3-stdlib libpython3.8 libpython3.8-dev\n",
      "  libpython3.8-minimal libpython3.8-stdlib python3 python3-dev\n",
      "  python3-distutils python3-minimal python3.8 python3.8-dev python3.8-minimal\n",
      "13 upgraded, 0 newly installed, 0 to remove and 903 not upgraded.\n",
      "Need to get 11.0 MB of archives.\n",
      "After this operation, 1,024 B disk space will be freed.\n",
      "Get:1 http://kali.download/kali kali-rolling/main amd64 python3-distutils all 3.8.6-1 [145 kB]\n",
      "Get:2 http://kali.download/kali kali-rolling/main amd64 python3.8-dev amd64 3.8.6-1 [515 kB]\n",
      "Get:3 http://kali.download/kali kali-rolling/main amd64 python3.8 amd64 3.8.6-1 [422 kB]\n",
      "Get:4 http://kali.download/kali kali-rolling/main amd64 python3-dev amd64 3.8.6-1 [1,164 B]\n",
      "Get:5 http://kali.download/kali kali-rolling/main amd64 libpython3-dev amd64 3.8.6-1 [21.1 kB]\n",
      "Get:6 http://kali.download/kali kali-rolling/main amd64 libpython3.8-dev amd64 3.8.6-1 [3,840 kB]\n",
      "Get:7 http://kali.download/kali kali-rolling/main amd64 libpython3.8 amd64 3.8.6-1 [1,608 kB]3m\n",
      "Get:8 http://kali.download/kali kali-rolling/main amd64 python3.8-minimal amd64 3.8.6-1 [1,863 kB]\n",
      "Get:9 http://kali.download/kali kali-rolling/main amd64 libpython3.8-minimal amd64 3.8.6-1 [761 kB]\n",
      "Get:10 http://kali.download/kali kali-rolling/main amd64 libpython3.8-stdlib amd64 3.8.6-1 [1,720 kB]\n",
      "Get:11 http://kali.download/kali kali-rolling/main amd64 python3-minimal amd64 3.8.6-1 [37.7 kB]\n",
      "Get:12 http://kali.download/kali kali-rolling/main amd64 python3 amd64 3.8.6-1 [64.0 kB]\n",
      "Get:13 http://kali.download/kali kali-rolling/main amd64 libpython3-stdlib amd64 3.8.6-1 [20.9 kB]\n",
      "Fetched 11.0 MB in 3s (3,647 kB/s)             \u001b[0m\u001b[33m\n",
      "\n",
      "(Reading database ... 263948 files and directories currently installed.)\n",
      "Preparing to unpack .../0-python3-distutils_3.8.6-1_all.deb ...\n",
      "\u001b7\u001b[24;0f\u001b[42m\u001b[30mProgress: [  0%]\u001b[49m\u001b[39m [..........................................................] \u001b8\u001b7\u001b[24;0f\u001b[42m\u001b[30mProgress: [  2%]\u001b[49m\u001b[39m [#.........................................................] \u001b8Unpacking python3-distutils (3.8.6-1) over (3.8.5-1) ...\n",
      "\u001b7\u001b[24;0f\u001b[42m\u001b[30mProgress: [  4%]\u001b[49m\u001b[39m [##........................................................] \u001b8Preparing to unpack .../1-python3.8-dev_3.8.6-1_amd64.deb ...\n",
      "\u001b7\u001b[24;0f\u001b[42m\u001b[30mProgress: [  6%]\u001b[49m\u001b[39m [###.......................................................] \u001b8Unpacking python3.8-dev (3.8.6-1) over (3.8.5-2) ...\n",
      "\u001b7\u001b[24;0f\u001b[42m\u001b[30mProgress: [  8%]\u001b[49m\u001b[39m [####......................................................] \u001b8Preparing to unpack .../2-python3.8_3.8.6-1_amd64.deb ...\n",
      "\u001b7\u001b[24;0f\u001b[42m\u001b[30mProgress: [  9%]\u001b[49m\u001b[39m [#####.....................................................] \u001b8Unpacking python3.8 (3.8.6-1) over (3.8.5-2) ...\n",
      "\u001b7\u001b[24;0f\u001b[42m\u001b[30mProgress: [ 11%]\u001b[49m\u001b[39m [######....................................................] \u001b8Preparing to unpack .../3-python3-dev_3.8.6-1_amd64.deb ...\n",
      "\u001b7\u001b[24;0f\u001b[42m\u001b[30mProgress: [ 13%]\u001b[49m\u001b[39m [#######...................................................] \u001b8Unpacking python3-dev (3.8.6-1) over (3.8.2-3) ...\n",
      "\u001b7\u001b[24;0f\u001b[42m\u001b[30mProgress: [ 15%]\u001b[49m\u001b[39m [########..................................................] \u001b8Preparing to unpack .../4-libpython3-dev_3.8.6-1_amd64.deb ...\n",
      "\u001b7\u001b[24;0f\u001b[42m\u001b[30mProgress: [ 17%]\u001b[49m\u001b[39m [#########.................................................] \u001b8Unpacking libpython3-dev:amd64 (3.8.6-1) over (3.8.2-3) ...\n",
      "\u001b7\u001b[24;0f\u001b[42m\u001b[30mProgress: [ 19%]\u001b[49m\u001b[39m [##########................................................] \u001b8Preparing to unpack .../5-libpython3.8-dev_3.8.6-1_amd64.deb ...\n",
      "\u001b7\u001b[24;0f\u001b[42m\u001b[30mProgress: [ 21%]\u001b[49m\u001b[39m [############..............................................] \u001b8Unpacking libpython3.8-dev:amd64 (3.8.6-1) over (3.8.5-2) ...\n",
      "\u001b7\u001b[24;0f\u001b[42m\u001b[30mProgress: [ 23%]\u001b[49m\u001b[39m [#############.............................................] \u001b8Preparing to unpack .../6-libpython3.8_3.8.6-1_amd64.deb ...\n",
      "\u001b7\u001b[24;0f\u001b[42m\u001b[30mProgress: [ 25%]\u001b[49m\u001b[39m [##############............................................] \u001b8Unpacking libpython3.8:amd64 (3.8.6-1) over (3.8.5-2) ...\n",
      "\u001b7\u001b[24;0f\u001b[42m\u001b[30mProgress: [ 26%]\u001b[49m\u001b[39m [###############...........................................] \u001b8Preparing to unpack .../7-python3.8-minimal_3.8.6-1_amd64.deb ...\n",
      "\u001b7\u001b[24;0f\u001b[42m\u001b[30mProgress: [ 28%]\u001b[49m\u001b[39m [################..........................................] \u001b8Unpacking python3.8-minimal (3.8.6-1) over (3.8.5-2) ...\n",
      "\u001b7\u001b[24;0f\u001b[42m\u001b[30mProgress: [ 30%]\u001b[49m\u001b[39m [#################.........................................] \u001b8Preparing to unpack .../8-libpython3.8-minimal_3.8.6-1_amd64.deb ...\n",
      "\u001b7\u001b[24;0f\u001b[42m\u001b[30mProgress: [ 32%]\u001b[49m\u001b[39m [##################........................................] \u001b8Unpacking libpython3.8-minimal:amd64 (3.8.6-1) over (3.8.5-2) ...\n",
      "\u001b7\u001b[24;0f\u001b[42m\u001b[30mProgress: [ 34%]\u001b[49m\u001b[39m [###################.......................................] \u001b8Preparing to unpack .../9-libpython3.8-stdlib_3.8.6-1_amd64.deb ...\n",
      "\u001b7\u001b[24;0f\u001b[42m\u001b[30mProgress: [ 36%]\u001b[49m\u001b[39m [####################......................................] \u001b8Unpacking libpython3.8-stdlib:amd64 (3.8.6-1) over (3.8.5-2) ...\n",
      "\u001b7\u001b[24;0f\u001b[42m\u001b[30mProgress: [ 38%]\u001b[49m\u001b[39m [#####################.....................................] \u001b8Setting up libpython3.8-minimal:amd64 (3.8.6-1) ...\n",
      "\u001b7\u001b[24;0f\u001b[42m\u001b[30mProgress: [ 40%]\u001b[49m\u001b[39m [######################....................................] \u001b8\u001b7\u001b[24;0f\u001b[42m\u001b[30mProgress: [ 42%]\u001b[49m\u001b[39m [########################..................................] \u001b8Setting up python3.8-minimal (3.8.6-1) ...\n",
      "(Reading database ... 263948 files and directories currently installed.).................................] \u001b8\u001b7\u001b[24;0f\u001b[42m\u001b[30mProgress: [ 45%]\u001b[49m\u001b[39m [##########################................................] \u001b8(Reading database ... \n",
      "Preparing to unpack .../python3-minimal_3.8.6-1_amd64.deb ...\n",
      "\u001b7\u001b[24;0f\u001b[42m\u001b[30mProgress: [ 47%]\u001b[49m\u001b[39m [###########################...............................] \u001b8Unpacking python3-minimal (3.8.6-1) over (3.8.2-3) ...\n",
      "\u001b7\u001b[24;0f\u001b[42m\u001b[30mProgress: [ 49%]\u001b[49m\u001b[39m [############################..............................] \u001b8Setting up python3-minimal (3.8.6-1) ...\n",
      "(Reading database ... 263948 files and directories currently installed.)####.............................] \u001b8\u001b7\u001b[24;0f\u001b[42m\u001b[30mProgress: [ 53%]\u001b[49m\u001b[39m [##############################............................] \u001b8(Reading database ... \n",
      "Preparing to unpack .../python3_3.8.6-1_amd64.deb ...\n",
      "\u001b7\u001b[24;0f\u001b[42m\u001b[30mProgress: [ 55%]\u001b[49m\u001b[39m [###############################...........................] \u001b8running python pre-rtupdate hooks for python3.8...\n",
      "Unpacking python3 (3.8.6-1) over (3.8.2-3) ...\n",
      "\u001b7\u001b[24;0f\u001b[42m\u001b[30mProgress: [ 57%]\u001b[49m\u001b[39m [################################..........................] \u001b8Preparing to unpack .../libpython3-stdlib_3.8.6-1_amd64.deb ...\n",
      "\u001b7\u001b[24;0f\u001b[42m\u001b[30mProgress: [ 58%]\u001b[49m\u001b[39m [#################################.........................] \u001b8Unpacking libpython3-stdlib:amd64 (3.8.6-1) over (3.8.2-3) ...\n",
      "\u001b7\u001b[24;0f\u001b[42m\u001b[30mProgress: [ 60%]\u001b[49m\u001b[39m [###################################.......................] \u001b8Setting up libpython3.8-stdlib:amd64 (3.8.6-1) ...\n",
      "\u001b7\u001b[24;0f\u001b[42m\u001b[30mProgress: [ 62%]\u001b[49m\u001b[39m [####################################......................] \u001b8\u001b7\u001b[24;0f\u001b[42m\u001b[30mProgress: [ 64%]\u001b[49m\u001b[39m [#####################################.....................] \u001b8Setting up python3.8 (3.8.6-1) ...\n",
      "\u001b7\u001b[24;0f\u001b[42m\u001b[30mProgress: [ 66%]\u001b[49m\u001b[39m [######################################....................] \u001b8\u001b7\u001b[24;0f\u001b[42m\u001b[30mProgress: [ 68%]\u001b[49m\u001b[39m [#######################################...................] \u001b8Setting up libpython3-stdlib:amd64 (3.8.6-1) ...\n",
      "\u001b7\u001b[24;0f\u001b[42m\u001b[30mProgress: [ 70%]\u001b[49m\u001b[39m [########################################..................] \u001b8\u001b7\u001b[24;0f\u001b[42m\u001b[30mProgress: [ 72%]\u001b[49m\u001b[39m [#########################################.................] \u001b8Setting up python3 (3.8.6-1) ...\n",
      "\u001b7\u001b[24;0f\u001b[42m\u001b[30mProgress: [ 74%]\u001b[49m\u001b[39m [##########################################................] \u001b8running python rtupdate hooks for python3.8...\n",
      "/usr/share/legion/app/auxiliary.py:273: SyntaxWarning: \"is not\" with a literal. Did you mean \"!=\"?\n",
      "  if text is not '' and text is not ' ':\n",
      "/usr/share/legion/app/auxiliary.py:273: SyntaxWarning: \"is not\" with a literal. Did you mean \"!=\"?\n",
      "  if text is not '' and text is not ' ':\n",
      "/usr/share/legion/app/auxiliary.py:285: SyntaxWarning: \"is not\" with a literal. Did you mean \"!=\"?\n",
      "  if text is not '' and re.search(\"[^A-Za-z0-9_-]+\", text) is None:\n",
      "/usr/share/legion/app/auxiliary.py:291: SyntaxWarning: \"is not\" with a literal. Did you mean \"!=\"?\n",
      "  if text is not '' and re.search(\"[^A-Za-z0-9_() -]+\", text) is None:\n",
      "/usr/share/legion/app/cvemodels.py:55: SyntaxWarning: \"is not\" with a literal. Did you mean \"!=\"?\n",
      "  if not len(self.__cves) is 0:\n",
      "/usr/share/legion/app/hostmodels.py:43: SyntaxWarning: \"is not\" with a literal. Did you mean \"!=\"?\n",
      "  if not len(self.__hosts) is 0:\n",
      "/usr/share/legion/app/processmodels.py:43: SyntaxWarning: \"is not\" with a literal. Did you mean \"!=\"?\n",
      "  if not len(self.__processes) is 0:\n",
      "/usr/share/legion/app/scriptmodels.py:44: SyntaxWarning: \"is not\" with a literal. Did you mean \"!=\"?\n",
      "  if not len(self.__scripts) is 0:\n",
      "/usr/share/legion/app/servicemodels.py:40: SyntaxWarning: \"is not\" with a literal. Did you mean \"!=\"?\n",
      "  if not len(self.__services) is 0:\n",
      "/usr/share/legion/app/servicemodels.py:184: SyntaxWarning: \"is not\" with a literal. Did you mean \"!=\"?\n",
      "  if not len(self.__serviceNames) is 0:\n",
      "/usr/share/responder/servers/Browser.py:19: SyntaxWarning: \"is\" with a literal. Did you mean \"==\"?\n",
      "  if settings.Config.PY2OR3 is \"PY3\":\n",
      "/usr/share/responder/servers/DNS.py:19: SyntaxWarning: \"is\" with a literal. Did you mean \"==\"?\n",
      "  if settings.Config.PY2OR3 is \"PY3\":\n",
      "/usr/share/responder/servers/FTP.py:18: SyntaxWarning: \"is\" with a literal. Did you mean \"==\"?\n",
      "  if settings.Config.PY2OR3 is \"PY3\":\n",
      "/usr/share/responder/servers/HTTP.py:20: SyntaxWarning: \"is\" with a literal. Did you mean \"==\"?\n",
      "  if settings.Config.PY2OR3 is \"PY3\":\n",
      "/usr/share/responder/servers/HTTP_Proxy.py:18: SyntaxWarning: \"is\" with a literal. Did you mean \"==\"?\n",
      "  if settings.Config.PY2OR3 is \"PY3\":\n",
      "/usr/share/responder/servers/Kerberos.py:20: SyntaxWarning: \"is\" with a literal. Did you mean \"==\"?\n",
      "  if settings.Config.PY2OR3 is \"PY3\":\n",
      "/usr/share/responder/servers/MSSQL.py:21: SyntaxWarning: \"is\" with a literal. Did you mean \"==\"?\n",
      "  if settings.Config.PY2OR3 is \"PY3\":\n",
      "/usr/share/responder/servers/POP3.py:18: SyntaxWarning: \"is\" with a literal. Did you mean \"==\"?\n",
      "  if settings.Config.PY2OR3 is \"PY3\":\n",
      "/usr/share/responder/servers/Proxy_Auth.py:18: SyntaxWarning: \"is\" with a literal. Did you mean \"==\"?\n",
      "  if settings.Config.PY2OR3 is \"PY3\":\n",
      "/usr/share/responder/servers/RDP.py:22: SyntaxWarning: \"is\" with a literal. Did you mean \"==\"?\n",
      "  if settings.Config.PY2OR3 is \"PY3\":\n",
      "/usr/share/responder/servers/SMB.py:20: SyntaxWarning: \"is\" with a literal. Did you mean \"==\"?\n",
      "  if settings.Config.PY2OR3 is \"PY3\":\n",
      "/usr/share/responder/servers/SMTP.py:19: SyntaxWarning: \"is\" with a literal. Did you mean \"==\"?\n",
      "  if settings.Config.PY2OR3 is \"PY3\":\n",
      "/usr/share/responder/settings.py:209: SyntaxWarning: \"is not\" with a literal. Did you mean \"!=\"?\n",
      "  if len(self.NumChal) is not 16 and not \"random\":\n",
      "/usr/share/responder/tools/MultiRelay.py:418: SyntaxWarning: \"is not\" with a literal. Did you mean \"!=\"?\n",
      "  if data.find(\"NTLM\") is not -1:\n",
      "/usr/share/responder/tools/MultiRelay.py:423: SyntaxWarning: \"is not\" with a literal. Did you mean \"!=\"?\n",
      "  if data.find(\"NTLM\") is not -1:\n",
      "/usr/share/responder/tools/RunFinger.py:61: SyntaxWarning: \"is\" with a literal. Did you mean \"==\"?\n",
      "  if PY2OR3 is \"PY2\":\n",
      "/usr/share/responder/tools/RunFinger.py:68: SyntaxWarning: \"is\" with a literal. Did you mean \"==\"?\n",
      "  if PY2OR3 is \"PY2\":\n",
      "/usr/share/responder/tools/RunFinger.py:74: SyntaxWarning: \"is\" with a literal. Did you mean \"==\"?\n",
      "  if PY2OR3 is \"PY2\":\n",
      "/usr/share/responder/tools/RunFingerPackets.py:14: SyntaxWarning: \"is\" with a literal. Did you mean \"==\"?\n",
      "  if PY2OR3 is \"PY2\":\n",
      "/usr/share/responder/utils.py:29: SyntaxWarning: \"is\" with a literal. Did you mean \"==\"?\n",
      "  if settings.Config.PY2OR3 is \"PY3\":\n",
      "/usr/share/responder/utils.py:110: SyntaxWarning: \"is\" with a literal. Did you mean \"==\"?\n",
      "  if settings.Config.PY2OR3 is \"PY2\":\n",
      "/usr/share/responder/utils.py:170: SyntaxWarning: \"is\" with a literal. Did you mean \"==\"?\n",
      "  if settings.Config.PY2OR3 is \"PY2\":\n",
      "/usr/share/responder/utils.py:178: SyntaxWarning: \"is\" with a literal. Did you mean \"==\"?\n",
      "  if settings.Config.PY2OR3 is \"PY2\":\n",
      "/usr/share/responder/utils.py:185: SyntaxWarning: \"is\" with a literal. Did you mean \"==\"?\n",
      "  if settings.Config.PY2OR3 is \"PY2\":\n",
      "/usr/share/responder/utils.py:191: SyntaxWarning: \"is\" with a literal. Did you mean \"==\"?\n",
      "  if settings.Config.PY2OR3 is \"PY2\":\n",
      "running python post-rtupdate hooks for python3.8...\n",
      "\u001b7\u001b[24;0f\u001b[42m\u001b[30mProgress: [ 75%]\u001b[49m\u001b[39m [###########################################...............] \u001b8Setting up libpython3.8:amd64 (3.8.6-1) ...\n",
      "\u001b7\u001b[24;0f\u001b[42m\u001b[30mProgress: [ 77%]\u001b[49m\u001b[39m [############################################..............] \u001b8\u001b7\u001b[24;0f\u001b[42m\u001b[30mProgress: [ 79%]\u001b[49m\u001b[39m [#############################################.............] \u001b8Setting up python3-distutils (3.8.6-1) ...\n",
      "\u001b7\u001b[24;0f\u001b[42m\u001b[30mProgress: [ 81%]\u001b[49m\u001b[39m [###############################################...........] \u001b8\u001b7\u001b[24;0f\u001b[42m\u001b[30mProgress: [ 83%]\u001b[49m\u001b[39m [################################################..........] \u001b8Setting up libpython3.8-dev:amd64 (3.8.6-1) ...\n",
      "\u001b7\u001b[24;0f\u001b[42m\u001b[30mProgress: [ 85%]\u001b[49m\u001b[39m [#################################################.........] \u001b8\u001b7\u001b[24;0f\u001b[42m\u001b[30mProgress: [ 87%]\u001b[49m\u001b[39m [##################################################........] \u001b8Setting up python3.8-dev (3.8.6-1) ...\n",
      "\u001b7\u001b[24;0f\u001b[42m\u001b[30mProgress: [ 89%]\u001b[49m\u001b[39m [###################################################.......] \u001b8\u001b7\u001b[24;0f\u001b[42m\u001b[30mProgress: [ 91%]\u001b[49m\u001b[39m [####################################################......] \u001b8Setting up libpython3-dev:amd64 (3.8.6-1) ...\n",
      "\u001b7\u001b[24;0f\u001b[42m\u001b[30mProgress: [ 92%]\u001b[49m\u001b[39m [#####################################################.....] \u001b8\u001b7\u001b[24;0f\u001b[42m\u001b[30mProgress: [ 94%]\u001b[49m\u001b[39m [######################################################....] \u001b8Setting up python3-dev (3.8.6-1) ...\n",
      "\u001b7\u001b[24;0f\u001b[42m\u001b[30mProgress: [ 96%]\u001b[49m\u001b[39m [#######################################################...] \u001b8\u001b7\u001b[24;0f\u001b[42m\u001b[30mProgress: [ 98%]\u001b[49m\u001b[39m [########################################################..] \u001b8Processing triggers for desktop-file-utils (0.26-1) ...\n",
      "Processing triggers for mime-support (3.64) ...\n",
      "Processing triggers for libc-bin (2.31-2) ...\n",
      "Processing triggers for man-db (2.9.3-2) ...\n",
      "Processing triggers for kali-menu (2020.3.2) ...\n",
      "\n",
      "\u001b7\u001b[0;24r\u001b8\u001b[1A\u001b[J"
     ]
    }
   ],
   "source": [
    "# install python3 if doesn't exist\n",
    "! echo kali | sudo -S apt install -y python3"
   ]
  },
  {
   "cell_type": "code",
   "execution_count": 14,
   "metadata": {},
   "outputs": [
    {
     "name": "stdout",
     "output_type": "stream",
     "text": [
      "Hello World\r\n"
     ]
    }
   ],
   "source": [
    "! python3 -c 'print(\"Hello World\")'"
   ]
  },
  {
   "cell_type": "code",
   "execution_count": 15,
   "metadata": {},
   "outputs": [
    {
     "name": "stdout",
     "output_type": "stream",
     "text": [
      "/home/kali/miniconda3/bin/python\r\n"
     ]
    }
   ],
   "source": [
    "! which python"
   ]
  },
  {
   "cell_type": "code",
   "execution_count": 13,
   "metadata": {},
   "outputs": [
    {
     "name": "stdout",
     "output_type": "stream",
     "text": [
      "b'\\x89\\xe2\\xd9\\xcf\\xd9r\\xf4ZJJJJJ'\n"
     ]
    }
   ],
   "source": [
    "import sys\n",
    "\n",
    "shellcode =  b\"\"\n",
    "shellcode += b\"\\x89\\xe2\\xd9\\xcf\\xd9\\x72\\xf4\\x5a\\x4a\\x4a\\x4a\\x4a\\x4a\"\n",
    "offset = b\"A\" * 100\n",
    "eip = b\"\\x43\\xca\\xff\\xff\"\n",
    "nop = b\"\\x90\" * 200\n",
    "\n",
    "#sys.stdout.buffer.write(shellcode)\n",
    "print(shellcode)"
   ]
  },
  {
   "cell_type": "markdown",
   "metadata": {},
   "source": [
    "## Python libraries\n",
    "\n",
    "### PIP\n",
    "- package installer for Python\n",
    "\n",
    "### conda\n",
    "- package installer for Anaconda Python distribution\n",
    "- use conda to install pip and other packages if Python3 is installed from Anaconda distribution\n",
    "\n",
    "### pwntools\n",
    "- pwntools - CTF Framework and exploit development libray - [http://docs.pwntools.com/en/stable/](http://docs.pwntools.com/en/stable/)\n",
    "- pwntools tutorial - https://github.com/Gallopsled/pwntools-tutorial"
   ]
  },
  {
   "cell_type": "code",
   "execution_count": null,
   "metadata": {},
   "outputs": [],
   "source": [
    "%%bash\n",
    "# install Pwntools dependency\n",
    "echo kali | sudo -S apt update -y\n",
    "echo kali | sudo -S apt install -y python3 python3-pip python3-dev git libssl-dev libffi-dev build-essential"
   ]
  },
  {
   "cell_type": "code",
   "execution_count": 4,
   "metadata": {
    "scrolled": true
   },
   "outputs": [
    {
     "name": "stdout",
     "output_type": "stream",
     "text": [
      "Collecting package metadata (current_repodata.json): done\n",
      "Solving environment: done\n",
      "\n",
      "# All requested packages already installed.\n",
      "\n"
     ]
    }
   ],
   "source": [
    "! conda install pip"
   ]
  },
  {
   "cell_type": "code",
   "execution_count": 6,
   "metadata": {},
   "outputs": [
    {
     "name": "stdout",
     "output_type": "stream",
     "text": [
      "Collecting pwntools\n",
      "  Downloading pwntools-4.3.1-py2.py3-none-any.whl (10.0 MB)\n",
      "\u001b[K     |████████████████████████████████| 10.0 MB 7.4 MB/s eta 0:00:01\n",
      "\u001b[?25hRequirement already satisfied: pysocks in /home/kali/miniconda3/lib/python3.8/site-packages (from pwntools) (1.7.1)\n",
      "Requirement already satisfied: packaging in /home/kali/miniconda3/lib/python3.8/site-packages (from pwntools) (20.7)\n",
      "Requirement already satisfied: requests>=2.0 in /home/kali/miniconda3/lib/python3.8/site-packages (from pwntools) (2.25.0)\n",
      "Requirement already satisfied: python-dateutil in /home/kali/miniconda3/lib/python3.8/site-packages (from pwntools) (2.8.1)\n",
      "Requirement already satisfied: pip>=6.0.8 in /home/kali/miniconda3/lib/python3.8/site-packages (from pwntools) (20.3.1)\n",
      "Requirement already satisfied: six>=1.12.0 in /home/kali/miniconda3/lib/python3.8/site-packages (from pwntools) (1.15.0)\n",
      "Requirement already satisfied: pygments>=2.0 in /home/kali/miniconda3/lib/python3.8/site-packages (from pwntools) (2.7.3)\n",
      "Collecting capstone>=3.0.5rc2\n",
      "  Downloading capstone-4.0.2-py2.py3-none-manylinux1_x86_64.whl (2.1 MB)\n",
      "\u001b[K     |████████████████████████████████| 2.1 MB 6.7 MB/s eta 0:00:01\n",
      "\u001b[?25hCollecting intervaltree>=3.0\n",
      "  Downloading intervaltree-3.1.0.tar.gz (32 kB)\n",
      "Collecting mako>=1.0.0\n",
      "  Downloading Mako-1.1.3-py2.py3-none-any.whl (75 kB)\n",
      "\u001b[K     |████████████████████████████████| 75 kB 5.5 MB/s  eta 0:00:01\n",
      "\u001b[?25hRequirement already satisfied: MarkupSafe>=0.9.2 in /home/kali/miniconda3/lib/python3.8/site-packages (from mako>=1.0.0->pwntools) (1.1.1)\n",
      "Requirement already satisfied: pyparsing>=2.0.2 in /home/kali/miniconda3/lib/python3.8/site-packages (from packaging->pwntools) (2.4.7)\n",
      "Collecting paramiko>=1.15.2\n",
      "  Downloading paramiko-2.7.2-py2.py3-none-any.whl (206 kB)\n",
      "\u001b[K     |████████████████████████████████| 206 kB 8.5 MB/s eta 0:00:01\n",
      "\u001b[?25hRequirement already satisfied: cryptography>=2.5 in /home/kali/miniconda3/lib/python3.8/site-packages (from paramiko>=1.15.2->pwntools) (3.2.1)\n",
      "Collecting bcrypt>=3.1.3\n",
      "  Downloading bcrypt-3.2.0-cp36-abi3-manylinux2010_x86_64.whl (63 kB)\n",
      "\u001b[K     |████████████████████████████████| 63 kB 5.0 MB/s  eta 0:00:01\n",
      "\u001b[?25hRequirement already satisfied: cffi>=1.1 in /home/kali/miniconda3/lib/python3.8/site-packages (from bcrypt>=3.1.3->paramiko>=1.15.2->pwntools) (1.14.4)\n",
      "Requirement already satisfied: six>=1.12.0 in /home/kali/miniconda3/lib/python3.8/site-packages (from pwntools) (1.15.0)\n",
      "Requirement already satisfied: pycparser in /home/kali/miniconda3/lib/python3.8/site-packages (from cffi>=1.1->bcrypt>=3.1.3->paramiko>=1.15.2->pwntools) (2.20)\n",
      "Requirement already satisfied: six>=1.12.0 in /home/kali/miniconda3/lib/python3.8/site-packages (from pwntools) (1.15.0)\n",
      "Requirement already satisfied: cffi>=1.1 in /home/kali/miniconda3/lib/python3.8/site-packages (from bcrypt>=3.1.3->paramiko>=1.15.2->pwntools) (1.14.4)\n",
      "Collecting psutil>=3.3.0\n",
      "  Downloading psutil-5.7.3.tar.gz (465 kB)\n",
      "\u001b[K     |████████████████████████████████| 465 kB 14.8 MB/s eta 0:00:01\n",
      "\u001b[?25hCollecting pyelftools>=0.2.4\n",
      "  Downloading pyelftools-0.27-py2.py3-none-any.whl (151 kB)\n",
      "\u001b[K     |████████████████████████████████| 151 kB 9.3 MB/s eta 0:00:01\n",
      "\u001b[?25hCollecting pynacl>=1.0.1\n",
      "  Downloading PyNaCl-1.4.0-cp35-abi3-manylinux1_x86_64.whl (961 kB)\n",
      "\u001b[K     |████████████████████████████████| 961 kB 5.8 MB/s eta 0:00:01\n",
      "\u001b[?25hRequirement already satisfied: cffi>=1.1 in /home/kali/miniconda3/lib/python3.8/site-packages (from bcrypt>=3.1.3->paramiko>=1.15.2->pwntools) (1.14.4)\n",
      "Requirement already satisfied: six>=1.12.0 in /home/kali/miniconda3/lib/python3.8/site-packages (from pwntools) (1.15.0)\n",
      "Collecting pyserial>=2.7\n",
      "  Downloading pyserial-3.5-py2.py3-none-any.whl (90 kB)\n",
      "\u001b[K     |████████████████████████████████| 90 kB 11.7 MB/s eta 0:00:01\n",
      "\u001b[?25hRequirement already satisfied: six>=1.12.0 in /home/kali/miniconda3/lib/python3.8/site-packages (from pwntools) (1.15.0)\n",
      "Requirement already satisfied: urllib3<1.27,>=1.21.1 in /home/kali/miniconda3/lib/python3.8/site-packages (from requests>=2.0->pwntools) (1.25.11)\n",
      "Requirement already satisfied: chardet<4,>=3.0.2 in /home/kali/miniconda3/lib/python3.8/site-packages (from requests>=2.0->pwntools) (3.0.4)\n",
      "Requirement already satisfied: idna<3,>=2.5 in /home/kali/miniconda3/lib/python3.8/site-packages (from requests>=2.0->pwntools) (2.10)\n",
      "Requirement already satisfied: certifi>=2017.4.17 in /home/kali/miniconda3/lib/python3.8/site-packages (from requests>=2.0->pwntools) (2020.12.5)\n",
      "Collecting ropgadget>=5.3\n",
      "  Downloading ROPGadget-6.4-py3-none-any.whl (30 kB)\n",
      "Collecting sortedcontainers\n",
      "  Downloading sortedcontainers-2.3.0-py2.py3-none-any.whl (29 kB)\n",
      "Collecting unicorn<1.0.2rc4,>=1.0.2rc1\n",
      "  Downloading unicorn-1.0.2rc3-py2.py3-none-manylinux1_x86_64.whl (8.1 MB)\n",
      "\u001b[K     |████████████████████████████████| 8.1 MB 7.4 MB/s eta 0:00:01\n",
      "\u001b[?25hBuilding wheels for collected packages: intervaltree, psutil\n",
      "  Building wheel for intervaltree (setup.py) ... \u001b[?25ldone\n",
      "\u001b[?25h  Created wheel for intervaltree: filename=intervaltree-3.1.0-py2.py3-none-any.whl size=26101 sha256=d2cd17725472c6b4cc869879ef26afc5c7ab0a76b86824ca1ef58a42afbf3f29\n",
      "  Stored in directory: /home/kali/.cache/pip/wheels/45/23/de/5789a92962483fd33cb06674792b9697c1b3766d7c7742830e\n",
      "  Building wheel for psutil (setup.py) ... \u001b[?25ldone\n",
      "\u001b[?25h  Created wheel for psutil: filename=psutil-5.7.3-cp38-cp38-linux_x86_64.whl size=227683 sha256=d9a60e7a40b02667a0c45f3aa014faf401989e171a7446e0bab7ac9c46798eea\n",
      "  Stored in directory: /home/kali/.cache/pip/wheels/f6/59/c2/38111ef4c354088a156bc95fbeb5396c0cac91a0f62f7158b9\n",
      "Successfully built intervaltree psutil\n",
      "Installing collected packages: sortedcontainers, pynacl, capstone, bcrypt, unicorn, ropgadget, pyserial, pyelftools, psutil, paramiko, mako, intervaltree, pwntools\n",
      "Successfully installed bcrypt-3.2.0 capstone-4.0.2 intervaltree-3.1.0 mako-1.1.3 paramiko-2.7.2 psutil-5.7.3 pwntools-4.3.1 pyelftools-0.27 pynacl-1.4.0 pyserial-3.5 ropgadget-6.4 sortedcontainers-2.3.0 unicorn-1.0.2rc3\n"
     ]
    }
   ],
   "source": [
    "! pip install --upgrade pwntools"
   ]
  },
  {
   "cell_type": "markdown",
   "metadata": {},
   "source": [
    "## Know your ASCII values\n",
    "- especially hex or learn to quickly convert from decimal to hex"
   ]
  },
  {
   "cell_type": "code",
   "execution_count": 17,
   "metadata": {},
   "outputs": [
    {
     "name": "stdout",
     "output_type": "stream",
     "text": [
      "ASCII(7)                   Linux Programmer's Manual                  ASCII(7)\r\n",
      "\r\n",
      "N\bNA\bAM\bME\bE\r\n",
      "       ascii - ASCII character set encoded in octal, decimal, and hexadecimal\r\n",
      "\r\n",
      "D\bDE\bES\bSC\bCR\bRI\bIP\bPT\bTI\bIO\bON\bN\r\n",
      "       ASCII is the American Standard Code for Information Interchange.  It is\r\n",
      "       a 7-bit code.  Many 8-bit codes (e.g., ISO  8859-1)  contain  ASCII  as\r\n",
      "       their  lower  half.  The international counterpart of ASCII is known as\r\n",
      "       ISO 646-IRV.\r\n",
      "\r\n",
      "       The following table contains the 128 ASCII characters.\r\n",
      "\r\n",
      "       C program '\\X' escapes are noted.\r\n",
      "\r\n",
      "       Oct   Dec   Hex   Char                        Oct   Dec   Hex   Char\r\n",
      "       ────────────────────────────────────────────────────────────────────────\r\n",
      "       000   0     00    NUL '\\0' (null character)   100   64    40    @\r\n",
      "       001   1     01    SOH (start of heading)      101   65    41    A\r\n",
      "       002   2     02    STX (start of text)         102   66    42    B\r\n",
      "       003   3     03    ETX (end of text)           103   67    43    C\r\n",
      "       004   4     04    EOT (end of transmission)   104   68    44    D\r\n",
      "       005   5     05    ENQ (enquiry)               105   69    45    E\r\n",
      "       006   6     06    ACK (acknowledge)           106   70    46    F\r\n",
      "       007   7     07    BEL '\\a' (bell)             107   71    47    G\r\n",
      "       010   8     08    BS  '\\b' (backspace)        110   72    48    H\r\n",
      "       011   9     09    HT  '\\t' (horizontal tab)   111   73    49    I\r\n",
      "       012   10    0A    LF  '\\n' (new line)         112   74    4A    J\r\n",
      "       013   11    0B    VT  '\\v' (vertical tab)     113   75    4B    K\r\n",
      "       014   12    0C    FF  '\\f' (form feed)        114   76    4C    L\r\n",
      "       015   13    0D    CR  '\\r' (carriage ret)     115   77    4D    M\r\n",
      "       016   14    0E    SO  (shift out)             116   78    4E    N\r\n",
      "       017   15    0F    SI  (shift in)              117   79    4F    O\r\n",
      "       020   16    10    DLE (data link escape)      120   80    50    P\r\n",
      "       021   17    11    DC1 (device control 1)      121   81    51    Q\r\n",
      "       022   18    12    DC2 (device control 2)      122   82    52    R\r\n",
      "       023   19    13    DC3 (device control 3)      123   83    53    S\r\n",
      "       024   20    14    DC4 (device control 4)      124   84    54    T\r\n",
      "       025   21    15    NAK (negative ack.)         125   85    55    U\r\n",
      "       026   22    16    SYN (synchronous idle)      126   86    56    V\r\n",
      "       027   23    17    ETB (end of trans. blk)     127   87    57    W\r\n",
      "       030   24    18    CAN (cancel)                130   88    58    X\r\n",
      "       031   25    19    EM  (end of medium)         131   89    59    Y\r\n",
      "       032   26    1A    SUB (substitute)            132   90    5A    Z\r\n",
      "       033   27    1B    ESC (escape)                133   91    5B    [\r\n",
      "       034   28    1C    FS  (file separator)        134   92    5C    \\  '\\\\'\r\n",
      "       035   29    1D    GS  (group separator)       135   93    5D    ]\r\n",
      "       036   30    1E    RS  (record separator)      136   94    5E    ^\r\n",
      "       037   31    1F    US  (unit separator)        137   95    5F    _\r\n",
      "       040   32    20    SPACE                       140   96    60    `\r\n",
      "       041   33    21    !                           141   97    61    a\r\n",
      "       042   34    22    \"                           142   98    62    b\r\n",
      "       043   35    23    #                           143   99    63    c\r\n",
      "       044   36    24    $                           144   100   64    d\r\n",
      "       045   37    25    %                           145   101   65    e\r\n",
      "       046   38    26    &                           146   102   66    f\r\n",
      "       047   39    27    '                           147   103   67    g\r\n",
      "       050   40    28    (                           150   104   68    h\r\n",
      "       051   41    29    )                           151   105   69    i\r\n",
      "       052   42    2A    *                           152   106   6A    j\r\n",
      "       053   43    2B    +                           153   107   6B    k\r\n",
      "       054   44    2C    ,                           154   108   6C    l\r\n",
      "       055   45    2D    -                           155   109   6D    m\r\n",
      "\r\n",
      "       056   46    2E    .                           156   110   6E    n\r\n",
      "       057   47    2F    /                           157   111   6F    o\r\n",
      "       060   48    30    0                           160   112   70    p\r\n",
      "       061   49    31    1                           161   113   71    q\r\n",
      "       062   50    32    2                           162   114   72    r\r\n",
      "       063   51    33    3                           163   115   73    s\r\n",
      "       064   52    34    4                           164   116   74    t\r\n",
      "       065   53    35    5                           165   117   75    u\r\n",
      "       066   54    36    6                           166   118   76    v\r\n",
      "       067   55    37    7                           167   119   77    w\r\n",
      "       070   56    38    8                           170   120   78    x\r\n",
      "       071   57    39    9                           171   121   79    y\r\n",
      "       072   58    3A    :                           172   122   7A    z\r\n",
      "       073   59    3B    ;                           173   123   7B    {\r\n",
      "       074   60    3C    <                           174   124   7C    |\r\n",
      "       075   61    3D    =                           175   125   7D    }\r\n",
      "       076   62    3E    >                           176   126   7E    ~\r\n",
      "       077   63    3F    ?                           177   127   7F    DEL\r\n",
      "\r\n",
      "   T\bTa\bab\bbl\ble\bes\bs\r\n",
      "       For convenience, below are more compact tables in hex and decimal.\r\n",
      "\r\n",
      "          2 3 4 5 6 7       30 40 50 60 70 80 90 100 110 120\r\n",
      "        -------------      ---------------------------------\r\n",
      "       0:   0 @ P ` p     0:    (  2  <  F  P  Z  d   n   x\r\n",
      "       1: ! 1 A Q a q     1:    )  3  =  G  Q  [  e   o   y\r\n",
      "       2: \" 2 B R b r     2:    *  4  >  H  R  \\  f   p   z\r\n",
      "       3: # 3 C S c s     3: !  +  5  ?  I  S  ]  g   q   {\r\n",
      "       4: $ 4 D T d t     4: \"  ,  6  @  J  T  ^  h   r   |\r\n",
      "       5: % 5 E U e u     5: #  -  7  A  K  U  _  i   s   }\r\n",
      "       6: & 6 F V f v     6: $  .  8  B  L  V  `  j   t   ~\r\n",
      "       7: ' 7 G W g w     7: %  /  9  C  M  W  a  k   u  DEL\r\n",
      "       8: ( 8 H X h x     8: &  0  :  D  N  X  b  l   v\r\n",
      "       9: ) 9 I Y i y     9: '  1  ;  E  O  Y  c  m   w\r\n",
      "       A: * : J Z j z\r\n",
      "       B: + ; K [ k {\r\n",
      "       C: , < L \\ l |\r\n",
      "       D: - = M ] m }\r\n",
      "       E: . > N ^ n ~\r\n",
      "       F: / ? O _ o DEL\r\n",
      "\r\n",
      "N\bNO\bOT\bTE\bES\bS\r\n",
      "   H\bHi\bis\bst\bto\bor\bry\by\r\n",
      "       An a\bas\bsc\bci\bii\bi manual page appeared in Version 7 of AT&T UNIX.\r\n",
      "\r\n",
      "       On older terminals, the underscore code is displayed as a  left  arrow,\r\n",
      "       called  backarrow, the caret is displayed as an up-arrow and the verti‐\r\n",
      "       cal bar has a hole in the middle.\r\n",
      "\r\n",
      "       Uppercase and lowercase characters differ by just one bit and the ASCII\r\n",
      "       character  2  differs from the double quote by just one bit, too.  That\r\n",
      "       made it much easier to encode characters mechanically or with a non-mi‐\r\n",
      "       crocontroller-based  electronic  keyboard and that pairing was found on\r\n",
      "       old teletypes.\r\n",
      "\r\n",
      "       The ASCII standard was published by the United States of America  Stan‐\r\n",
      "       dards Institute (USASI) in 1968.\r\n",
      "\r\n",
      "S\bSE\bEE\bE A\bAL\bLS\bSO\bO\r\n",
      "       c\bch\bha\bar\brs\bse\bet\bts\bs(7),     i\bis\bso\bo_\b_8\b88\b85\b59\b9-\b-1\b1(7),     i\bis\bso\bo_\b_8\b88\b85\b59\b9-\b-1\b10\b0(7),     i\bis\bso\bo_\b_8\b88\b85\b59\b9-\b-1\b11\b1(7),\r\n",
      "       i\bis\bso\bo_\b_8\b88\b85\b59\b9-\b-1\b13\b3(7),   i\bis\bso\bo_\b_8\b88\b85\b59\b9-\b-1\b14\b4(7),    i\bis\bso\bo_\b_8\b88\b85\b59\b9-\b-1\b15\b5(7),    i\bis\bso\bo_\b_8\b88\b85\b59\b9-\b-1\b16\b6(7),\r\n",
      "       i\bis\bso\bo_\b_8\b88\b85\b59\b9-\b-2\b2(7),     i\bis\bso\bo_\b_8\b88\b85\b59\b9-\b-3\b3(7),     i\bis\bso\bo_\b_8\b88\b85\b59\b9-\b-4\b4(7),     i\bis\bso\bo_\b_8\b88\b85\b59\b9-\b-5\b5(7),\r\n",
      "       i\bis\bso\bo_\b_8\b88\b85\b59\b9-\b-6\b6(7), i\bis\bso\bo_\b_8\b88\b85\b59\b9-\b-7\b7(7), i\bis\bso\bo_\b_8\b88\b85\b59\b9-\b-8\b8(7), i\bis\bso\bo_\b_8\b88\b85\b59\b9-\b-9\b9(7), u\but\btf\bf-\b-8\b8(7)\r\n",
      "\r\n",
      "C\bCO\bOL\bLO\bOP\bPH\bHO\bON\bN\r\n",
      "       This page is part of release 5.02 of the Linux  _\bm_\ba_\bn_\b-_\bp_\ba_\bg_\be_\bs  project.   A\r\n",
      "       description  of  the project, information about reporting bugs, and the\r\n",
      "       latest    version    of    this    page,    can     be     found     at\r\n",
      "       https://www.kernel.org/doc/man-pages/.\r\n",
      "\r\n",
      "Linux                             2016-10-08                          ASCII(7)\r\n"
     ]
    }
   ],
   "source": [
    "! man ascii"
   ]
  },
  {
   "cell_type": "code",
   "execution_count": 22,
   "metadata": {},
   "outputs": [
    {
     "name": "stdout",
     "output_type": "stream",
     "text": [
      "Hello World! Bye World!\r\n"
     ]
    }
   ],
   "source": [
    "# hex-based ascii is escaped using \\x[hex_value]\n",
    "! python -c 'print(\"\\x48ello World\\x21\", \"\\x42ye World!\")'"
   ]
  },
  {
   "cell_type": "code",
   "execution_count": 21,
   "metadata": {},
   "outputs": [
    {
     "name": "stdout",
     "output_type": "stream",
     "text": [
      "ABCDZZZZZ"
     ]
    }
   ],
   "source": [
    "# write the binary buffer in hex to stdout\n",
    "# useful in writing memory addressed and binary shellcode\n",
    "! python -c 'import sys; sys.stdout.buffer.write(b\"\\x41\\x42\\x43\\x44\" + b\"Z\"*(10-5))'"
   ]
  },
  {
   "cell_type": "code",
   "execution_count": 23,
   "metadata": {},
   "outputs": [
    {
     "name": "stdout",
     "output_type": "stream",
     "text": [
      "-B-C-D-B-C-D-B-C-D\r\n"
     ]
    }
   ],
   "source": [
    "! python3 -c 'print(\"-\\x42-\\x43-\\x44\"*3)'"
   ]
  },
  {
   "cell_type": "markdown",
   "metadata": {},
   "source": [
    "## Perl\n",
    "- yet another scripting language: https://www.perl.org\n",
    "- Hacking-book uses Perl extensively for exploit writing; this notebook uses Python3 extensively"
   ]
  },
  {
   "cell_type": "code",
   "execution_count": 7,
   "metadata": {},
   "outputs": [
    {
     "name": "stdout",
     "output_type": "stream",
     "text": [
      "\r\n",
      "This is perl 5, version 30, subversion 3 (v5.30.3) built for x86_64-linux-gnu-thread-multi\r\n",
      "(with 50 registered patches, see perl -V for more detail)\r\n",
      "\r\n",
      "Copyright 1987-2020, Larry Wall\r\n",
      "\r\n",
      "Perl may be copied only under the terms of either the Artistic License or the\r\n",
      "GNU General Public License, which may be found in the Perl 5 source kit.\r\n",
      "\r\n",
      "Complete documentation for Perl, including FAQ lists, should be found on\r\n",
      "this system using \"man perl\" or \"perldoc perl\".  If you have access to the\r\n",
      "Internet, point your browser at http://www.perl.org/, the Perl Home Page.\r\n",
      "\r\n"
     ]
    }
   ],
   "source": [
    "! perl -v"
   ]
  },
  {
   "cell_type": "code",
   "execution_count": 8,
   "metadata": {},
   "outputs": [
    {
     "name": "stdout",
     "output_type": "stream",
     "text": [
      "Reading package lists... Done\n",
      "Building dependency tree       \n",
      "Reading state information... Done\n",
      "The following packages were automatically installed and are no longer required:\n",
      "  libcdio18 libgtksourceview2.0-0 libgtksourceview2.0-common libmpdec2\n",
      "  libprotobuf22 libpython3.8 libpython3.8-dev libqt5opengl5 libx264-155\n",
      "  libx264-159 libxml-dom-perl libxml-perl libxml-regexp-perl libyara3\n",
      "  python-cairo python-chardet python-dbus python-enchant python-gi\n",
      "  python-gobject-2 python-numpy python-pkg-resources python3.8-dev\n",
      "Use 'sudo apt autoremove' to remove them.\n",
      "The following additional packages will be installed:\n",
      "  libcrypt-ssleay-perl libdbd-mariadb-perl libdbi-perl libfcgi-perl\n",
      "  libfile-fcntllock-perl libhtml-parser-perl liblocale-gettext-perl\n",
      "  libnet-dbus-perl libnet-dns-sec-perl libnet-libidn-perl libnet-ssleay-perl\n",
      "  libperl5.32 libsocket6-perl libterm-readkey-perl libtext-charwidth-perl\n",
      "  libtext-iconv-perl libxml-parser-perl perl-base perl-modules-5.32\n",
      "Suggested packages:\n",
      "  libclone-perl libmldbm-perl libnet-daemon-perl libsql-statement-perl\n",
      "  libdata-dump-perl perl-doc libterm-readline-gnu-perl\n",
      "  | libterm-readline-perl-perl libtap-harness-archive-perl\n",
      "The following packages will be REMOVED:\n",
      "  davtest kali-linux-default libhttp-dav-perl\n",
      "The following NEW packages will be installed:\n",
      "  libperl5.32 perl-modules-5.32\n",
      "The following packages will be upgraded:\n",
      "  libcrypt-ssleay-perl libdbd-mariadb-perl libdbi-perl libfcgi-perl\n",
      "  libfile-fcntllock-perl libhtml-parser-perl liblocale-gettext-perl\n",
      "  libnet-dbus-perl libnet-dns-sec-perl libnet-libidn-perl libnet-ssleay-perl\n",
      "  libsocket6-perl libterm-readkey-perl libtext-charwidth-perl\n",
      "  libtext-iconv-perl libxml-parser-perl perl perl-base\n",
      "18 upgraded, 2 newly installed, 3 to remove and 853 not upgraded.\n",
      "Need to get 10.9 MB of archives.\n",
      "After this operation, 42.8 MB of additional disk space will be used.\n",
      "Get:1 http://kali.download/kali kali-rolling/main amd64 libnet-dns-sec-perl amd64 1.18-1+b1 [54.1 kB]\n",
      "Get:2 http://kali.download/kali kali-rolling/main amd64 libcrypt-ssleay-perl amd64 0.73.06-1+b3 [58.4 kB]\n",
      "Get:3 http://kali.download/kali kali-rolling/main amd64 libxml-parser-perl amd64 2.46-2 [206 kB]\n",
      "Get:4 http://kali.download/kali kali-rolling/main amd64 libtext-iconv-perl amd64 1.7-7+b1 [16.1 kB]\n",
      "Get:5 http://kali.download/kali kali-rolling/main amd64 libtext-charwidth-perl amd64 0.04-10+b1 [10.6 kB]\n",
      "Get:6 http://kali.download/kali kali-rolling/main amd64 libterm-readkey-perl amd64 2.38-1+b2 [27.8 kB]\n",
      "Get:7 http://kali.download/kali kali-rolling/main amd64 libsocket6-perl amd64 0.29-1+b3 [24.4 kB]\n",
      "Get:8 http://kali.download/kali kali-rolling/main amd64 libnet-ssleay-perl amd64 1.88-3+b1 [321 kB]\n",
      "Get:9 http://kali.download/kali kali-rolling/main amd64 libnet-libidn-perl amd64 0.12.ds-3+b3 [18.8 kB]\n",
      "Get:10 http://kali.download/kali kali-rolling/main amd64 libnet-dbus-perl amd64 1.2.0-1+b1 [182 kB]\n",
      "Get:11 http://kali.download/kali kali-rolling/main amd64 perl-modules-5.32 all 5.32.0-5 [2,821 kB]\n",
      "Get:12 http://kali.download/kali kali-rolling/main amd64 libperl5.32 amd64 5.32.0-5 [4,119 kB]\n",
      "Get:13 http://kali.download/kali kali-rolling/main amd64 perl amd64 5.32.0-5 [293 kB]m\u001b[33m\n",
      "Get:14 http://kali.download/kali kali-rolling/main amd64 perl-base amd64 5.32.0-5 [1,626 kB]\n",
      "Get:15 http://kali.download/kali kali-rolling/main amd64 liblocale-gettext-perl amd64 1.07-4+b1 [19.0 kB]\n",
      "Get:16 http://kali.download/kali kali-rolling/main amd64 libhtml-parser-perl amd64 3.75-1+b1 [105 kB]\n",
      "Get:17 http://kali.download/kali kali-rolling/main amd64 libfile-fcntllock-perl amd64 0.22-3+b7 [35.5 kB]\n",
      "Get:18 http://kali.download/kali kali-rolling/main amd64 libfcgi-perl amd64 0.79-1+b1 [39.8 kB]\n",
      "Get:19 http://kali.download/kali kali-rolling/main amd64 libdbi-perl amd64 1.643-3+b1 [780 kB]\n",
      "Get:20 http://kali.download/kali kali-rolling/main amd64 libdbd-mariadb-perl amd64 1.21-1+b1 [109 kB]\n",
      "Fetched 10.9 MB in 5s (2,011 kB/s)        \u001b[0m\u001b[33m\n",
      "\n",
      "(Reading database ... 265018 files and directories currently installed.)\n",
      "Preparing to unpack .../00-libnet-dns-sec-perl_1.18-1+b1_amd64.deb ...\n",
      "\u001b7\u001b[24;0f\u001b[42m\u001b[30mProgress: [  0%]\u001b[49m\u001b[39m [..........................................................] \u001b8\u001b7\u001b[24;0f\u001b[42m\u001b[30mProgress: [  1%]\u001b[49m\u001b[39m [..........................................................] \u001b8Unpacking libnet-dns-sec-perl (1.18-1+b1) over (1.17-1) ...\n",
      "\u001b7\u001b[24;0f\u001b[42m\u001b[30mProgress: [  2%]\u001b[49m\u001b[39m [#.........................................................] \u001b8Preparing to unpack .../01-libcrypt-ssleay-perl_0.73.06-1+b3_amd64.deb ...\n",
      "\u001b7\u001b[24;0f\u001b[42m\u001b[30mProgress: [  3%]\u001b[49m\u001b[39m [##........................................................] \u001b8Unpacking libcrypt-ssleay-perl (0.73.06-1+b3) over (0.73.06-1+b2) ...\n",
      "\u001b7\u001b[24;0f\u001b[42m\u001b[30mProgress: [  5%]\u001b[49m\u001b[39m [##........................................................] \u001b8Preparing to unpack .../02-libxml-parser-perl_2.46-2_amd64.deb ...\n",
      "\u001b7\u001b[24;0f\u001b[42m\u001b[30mProgress: [  6%]\u001b[49m\u001b[39m [###.......................................................] \u001b8Unpacking libxml-parser-perl:amd64 (2.46-2) over (2.46-1+b1) ...\n",
      "\u001b7\u001b[24;0f\u001b[42m\u001b[30mProgress: [  7%]\u001b[49m\u001b[39m [####......................................................] \u001b8Preparing to unpack .../03-libtext-iconv-perl_1.7-7+b1_amd64.deb ...\n",
      "\u001b7\u001b[24;0f\u001b[42m\u001b[30mProgress: [  8%]\u001b[49m\u001b[39m [####......................................................] \u001b8Unpacking libtext-iconv-perl (1.7-7+b1) over (1.7-7) ...\n",
      "\u001b7\u001b[24;0f\u001b[42m\u001b[30mProgress: [  9%]\u001b[49m\u001b[39m [#####.....................................................] \u001b8Preparing to unpack .../04-libtext-charwidth-perl_0.04-10+b1_amd64.deb ...\n",
      "\u001b7\u001b[24;0f\u001b[42m\u001b[30mProgress: [ 10%]\u001b[49m\u001b[39m [######....................................................] \u001b8Unpacking libtext-charwidth-perl (0.04-10+b1) over (0.04-10) ...\n",
      "\u001b7\u001b[24;0f\u001b[42m\u001b[30mProgress: [ 11%]\u001b[49m\u001b[39m [######....................................................] \u001b8Preparing to unpack .../05-libterm-readkey-perl_2.38-1+b2_amd64.deb ...\n",
      "\u001b7\u001b[24;0f\u001b[42m\u001b[30mProgress: [ 13%]\u001b[49m\u001b[39m [#######...................................................] \u001b8Unpacking libterm-readkey-perl (2.38-1+b2) over (2.38-1+b1) ...\n",
      "\u001b7\u001b[24;0f\u001b[42m\u001b[30mProgress: [ 14%]\u001b[49m\u001b[39m [########..................................................] \u001b8Preparing to unpack .../06-libsocket6-perl_0.29-1+b3_amd64.deb ...\n",
      "\u001b7\u001b[24;0f\u001b[42m\u001b[30mProgress: [ 15%]\u001b[49m\u001b[39m [########..................................................] \u001b8Unpacking libsocket6-perl (0.29-1+b3) over (0.29-1+b2) ...\n",
      "\u001b7\u001b[24;0f\u001b[42m\u001b[30mProgress: [ 16%]\u001b[49m\u001b[39m [#########.................................................] \u001b8Preparing to unpack .../07-libnet-ssleay-perl_1.88-3+b1_amd64.deb ...\n",
      "\u001b7\u001b[24;0f\u001b[42m\u001b[30mProgress: [ 17%]\u001b[49m\u001b[39m [#########.................................................] \u001b8Unpacking libnet-ssleay-perl (1.88-3+b1) over (1.88-3) ...\n",
      "\u001b7\u001b[24;0f\u001b[42m\u001b[30mProgress: [ 18%]\u001b[49m\u001b[39m [##########................................................] \u001b8Preparing to unpack .../08-libnet-libidn-perl_0.12.ds-3+b3_amd64.deb ...\n",
      "\u001b7\u001b[24;0f\u001b[42m\u001b[30mProgress: [ 20%]\u001b[49m\u001b[39m [###########...............................................] \u001b8Unpacking libnet-libidn-perl (0.12.ds-3+b3) over (0.12.ds-3+b2) ...\n",
      "\u001b7\u001b[24;0f\u001b[42m\u001b[30mProgress: [ 21%]\u001b[49m\u001b[39m [############..............................................] \u001b8Preparing to unpack .../09-libnet-dbus-perl_1.2.0-1+b1_amd64.deb ...\n",
      "\u001b7\u001b[24;0f\u001b[42m\u001b[30mProgress: [ 22%]\u001b[49m\u001b[39m [############..............................................] \u001b8Unpacking libnet-dbus-perl (1.2.0-1+b1) over (1.2.0-1) ...\n",
      "\u001b7\u001b[24;0f\u001b[42m\u001b[30mProgress: [ 23%]\u001b[49m\u001b[39m [#############.............................................] \u001b8Preparing to unpack .../10-perl_5.32.0-5_amd64.deb ...\n",
      "\u001b7\u001b[24;0f\u001b[42m\u001b[30mProgress: [ 24%]\u001b[49m\u001b[39m [##############............................................] \u001b8Unpacking perl (5.32.0-5) over (5.30.3-4) ...\n",
      "\u001b7\u001b[24;0f\u001b[42m\u001b[30mProgress: [ 25%]\u001b[49m\u001b[39m [##############............................................] \u001b8Selecting previously unselected package perl-modules-5.32.\n",
      "Preparing to unpack .../11-perl-modules-5.32_5.32.0-5_all.deb ...\n",
      "\u001b7\u001b[24;0f\u001b[42m\u001b[30mProgress: [ 26%]\u001b[49m\u001b[39m [###############...........................................] \u001b8Unpacking perl-modules-5.32 (5.32.0-5) ...\n"
     ]
    },
    {
     "name": "stdout",
     "output_type": "stream",
     "text": [
      "\u001b7\u001b[24;0f\u001b[42m\u001b[30mProgress: [ 28%]\u001b[49m\u001b[39m [################..........................................] \u001b8Selecting previously unselected package libperl5.32:amd64.\n",
      "Preparing to unpack .../12-libperl5.32_5.32.0-5_amd64.deb ...\n",
      "\u001b7\u001b[24;0f\u001b[42m\u001b[30mProgress: [ 29%]\u001b[49m\u001b[39m [################..........................................] \u001b8Unpacking libperl5.32:amd64 (5.32.0-5) ...\n",
      "\u001b7\u001b[24;0f\u001b[42m\u001b[30mProgress: [ 30%]\u001b[49m\u001b[39m [#################.........................................] \u001b8Preparing to unpack .../13-perl-base_5.32.0-5_amd64.deb ...\n",
      "\u001b7\u001b[24;0f\u001b[42m\u001b[30mProgress: [ 31%]\u001b[49m\u001b[39m [##################........................................] \u001b8Unpacking perl-base (5.32.0-5) over (5.30.3-4) ...\n",
      "\u001b7\u001b[24;0f\u001b[42m\u001b[30mProgress: [ 32%]\u001b[49m\u001b[39m [##################........................................] \u001b8Setting up perl-base (5.32.0-5) ...\n",
      "(Reading database ... 266945 files and directories currently installed.).................................] \u001b8\u001b7\u001b[24;0f\u001b[42m\u001b[30mProgress: [ 34%]\u001b[49m\u001b[39m [###################.......................................] \u001b8(Reading database ... \n",
      "Preparing to unpack .../0-liblocale-gettext-perl_1.07-4+b1_amd64.deb ...\n",
      "\u001b7\u001b[24;0f\u001b[42m\u001b[30mProgress: [ 36%]\u001b[49m\u001b[39m [####################......................................] \u001b8Unpacking liblocale-gettext-perl (1.07-4+b1) over (1.07-4) ...\n",
      "\u001b7\u001b[24;0f\u001b[42m\u001b[30mProgress: [ 37%]\u001b[49m\u001b[39m [#####################.....................................] \u001b8Preparing to unpack .../1-libhtml-parser-perl_3.75-1+b1_amd64.deb ...\n",
      "\u001b7\u001b[24;0f\u001b[42m\u001b[30mProgress: [ 38%]\u001b[49m\u001b[39m [######################....................................] \u001b8Unpacking libhtml-parser-perl (3.75-1+b1) over (3.72-5) ...\n",
      "\u001b7\u001b[24;0f\u001b[42m\u001b[30mProgress: [ 39%]\u001b[49m\u001b[39m [######################....................................] \u001b8Preparing to unpack .../2-libfile-fcntllock-perl_0.22-3+b7_amd64.deb ...\n",
      "\u001b7\u001b[24;0f\u001b[42m\u001b[30mProgress: [ 40%]\u001b[49m\u001b[39m [#######################...................................] \u001b8Unpacking libfile-fcntllock-perl (0.22-3+b7) over (0.22-3+b6) ...\n",
      "\u001b7\u001b[24;0f\u001b[42m\u001b[30mProgress: [ 41%]\u001b[49m\u001b[39m [########################..................................] \u001b8Preparing to unpack .../3-libfcgi-perl_0.79-1+b1_amd64.deb ...\n",
      "\u001b7\u001b[24;0f\u001b[42m\u001b[30mProgress: [ 43%]\u001b[49m\u001b[39m [########################..................................] \u001b8Unpacking libfcgi-perl (0.79-1+b1) over (0.79-1) ...\n",
      "\u001b7\u001b[24;0f\u001b[42m\u001b[30mProgress: [ 44%]\u001b[49m\u001b[39m [#########################.................................] \u001b8Preparing to unpack .../4-libdbi-perl_1.643-3+b1_amd64.deb ...\n",
      "\u001b7\u001b[24;0f\u001b[42m\u001b[30mProgress: [ 45%]\u001b[49m\u001b[39m [##########################................................] \u001b8Unpacking libdbi-perl:amd64 (1.643-3+b1) over (1.643-2) ...\n",
      "\u001b7\u001b[24;0f\u001b[42m\u001b[30mProgress: [ 46%]\u001b[49m\u001b[39m [##########################................................] \u001b8Preparing to unpack .../5-libdbd-mariadb-perl_1.21-1+b1_amd64.deb ...\n",
      "\u001b7\u001b[24;0f\u001b[42m\u001b[30mProgress: [ 47%]\u001b[49m\u001b[39m [###########################...............................] \u001b8Unpacking libdbd-mariadb-perl (1.21-1+b1) over (1.21-1) ...\n",
      "(Reading database ... 266949 files and directories currently installed.)###..............................] \u001b8(Reading database ... \n",
      "Removing kali-linux-default (2020.3.11) ...\n",
      "\u001b7\u001b[24;0f\u001b[42m\u001b[30mProgress: [ 49%]\u001b[49m\u001b[39m [############################..............................] \u001b8\u001b7\u001b[24;0f\u001b[42m\u001b[30mProgress: [ 51%]\u001b[49m\u001b[39m [#############################.............................] \u001b8Removing davtest (1.0-1kali3) ...\n",
      "\u001b7\u001b[24;0f\u001b[42m\u001b[30mProgress: [ 52%]\u001b[49m\u001b[39m [#############################.............................] \u001b8\u001b7\u001b[24;0f\u001b[42m\u001b[30mProgress: [ 53%]\u001b[49m\u001b[39m [##############################............................] \u001b8Removing libhttp-dav-perl (0.49-2) ...\n",
      "\u001b7\u001b[24;0f\u001b[42m\u001b[30mProgress: [ 54%]\u001b[49m\u001b[39m [###############################...........................] \u001b8\u001b7\u001b[24;0f\u001b[42m\u001b[30mProgress: [ 55%]\u001b[49m\u001b[39m [################################..........................] \u001b8Setting up libtext-iconv-perl (1.7-7+b1) ...\n",
      "\u001b7\u001b[24;0f\u001b[42m\u001b[30mProgress: [ 56%]\u001b[49m\u001b[39m [################################..........................] \u001b8\u001b7\u001b[24;0f\u001b[42m\u001b[30mProgress: [ 57%]\u001b[49m\u001b[39m [#################################.........................] \u001b8Setting up libtext-charwidth-perl (0.04-10+b1) ...\n",
      "\u001b7\u001b[24;0f\u001b[42m\u001b[30mProgress: [ 59%]\u001b[49m\u001b[39m [##################################........................] \u001b8\u001b7\u001b[24;0f\u001b[42m\u001b[30mProgress: [ 60%]\u001b[49m\u001b[39m [##################################........................] \u001b8Setting up perl-modules-5.32 (5.32.0-5) ...\n",
      "\u001b7\u001b[24;0f\u001b[42m\u001b[30mProgress: [ 61%]\u001b[49m\u001b[39m [###################################.......................] \u001b8\u001b7\u001b[24;0f\u001b[42m\u001b[30mProgress: [ 62%]\u001b[49m\u001b[39m [####################################......................] \u001b8Setting up libperl5.32:amd64 (5.32.0-5) ...\n",
      "\u001b7\u001b[24;0f\u001b[42m\u001b[30mProgress: [ 63%]\u001b[49m\u001b[39m [####################################......................] \u001b8\u001b7\u001b[24;0f\u001b[42m\u001b[30mProgress: [ 64%]\u001b[49m\u001b[39m [#####################################.....................] \u001b8Setting up liblocale-gettext-perl (1.07-4+b1) ...\n",
      "\u001b7\u001b[24;0f\u001b[42m\u001b[30mProgress: [ 66%]\u001b[49m\u001b[39m [######################################....................] \u001b8\u001b7\u001b[24;0f\u001b[42m\u001b[30mProgress: [ 67%]\u001b[49m\u001b[39m [######################################....................] \u001b8Setting up perl (5.32.0-5) ...\n",
      "\u001b7\u001b[24;0f\u001b[42m\u001b[30mProgress: [ 68%]\u001b[49m\u001b[39m [#######################################...................] \u001b8\u001b7\u001b[24;0f\u001b[42m\u001b[30mProgress: [ 69%]\u001b[49m\u001b[39m [#######################################...................] \u001b8Setting up libsocket6-perl (0.29-1+b3) ...\n",
      "\u001b7\u001b[24;0f\u001b[42m\u001b[30mProgress: [ 70%]\u001b[49m\u001b[39m [########################################..................] \u001b8\u001b7\u001b[24;0f\u001b[42m\u001b[30mProgress: [ 71%]\u001b[49m\u001b[39m [#########################################.................] \u001b8Setting up libnet-libidn-perl (0.12.ds-3+b3) ...\n",
      "\u001b7\u001b[24;0f\u001b[42m\u001b[30mProgress: [ 72%]\u001b[49m\u001b[39m [##########################################................] \u001b8\u001b7\u001b[24;0f\u001b[42m\u001b[30mProgress: [ 74%]\u001b[49m\u001b[39m [##########################################................] \u001b8Setting up libhtml-parser-perl (3.75-1+b1) ...\n",
      "\u001b7\u001b[24;0f\u001b[42m\u001b[30mProgress: [ 75%]\u001b[49m\u001b[39m [###########################################...............] \u001b8\u001b7\u001b[24;0f\u001b[42m\u001b[30mProgress: [ 76%]\u001b[49m\u001b[39m [############################################..............] \u001b8Setting up libcrypt-ssleay-perl (0.73.06-1+b3) ...\n",
      "\u001b7\u001b[24;0f\u001b[42m\u001b[30mProgress: [ 77%]\u001b[49m\u001b[39m [############################################..............] \u001b8\u001b7\u001b[24;0f\u001b[42m\u001b[30mProgress: [ 78%]\u001b[49m\u001b[39m [#############################################.............] \u001b8Setting up libfcgi-perl (0.79-1+b1) ...\n",
      "\u001b7\u001b[24;0f\u001b[42m\u001b[30mProgress: [ 79%]\u001b[49m\u001b[39m [##############################################............] \u001b8\u001b7\u001b[24;0f\u001b[42m\u001b[30mProgress: [ 80%]\u001b[49m\u001b[39m [##############################################............] \u001b8Setting up libterm-readkey-perl (2.38-1+b2) ...\n",
      "\u001b7\u001b[24;0f\u001b[42m\u001b[30mProgress: [ 82%]\u001b[49m\u001b[39m [###############################################...........] \u001b8\u001b7\u001b[24;0f\u001b[42m\u001b[30mProgress: [ 83%]\u001b[49m\u001b[39m [################################################..........] \u001b8Setting up libdbi-perl:amd64 (1.643-3+b1) ...\n",
      "\u001b7\u001b[24;0f\u001b[42m\u001b[30mProgress: [ 84%]\u001b[49m\u001b[39m [################################################..........] \u001b8\u001b7\u001b[24;0f\u001b[42m\u001b[30mProgress: [ 85%]\u001b[49m\u001b[39m [#################################################.........] \u001b8Setting up libnet-ssleay-perl (1.88-3+b1) ...\n",
      "\u001b7\u001b[24;0f\u001b[42m\u001b[30mProgress: [ 86%]\u001b[49m\u001b[39m [##################################################........] \u001b8\u001b7\u001b[24;0f\u001b[42m\u001b[30mProgress: [ 87%]\u001b[49m\u001b[39m [##################################################........] \u001b8Setting up libxml-parser-perl:amd64 (2.46-2) ...\n",
      "\u001b7\u001b[24;0f\u001b[42m\u001b[30mProgress: [ 89%]\u001b[49m\u001b[39m [###################################################.......] \u001b8\u001b7\u001b[24;0f\u001b[42m\u001b[30mProgress: [ 90%]\u001b[49m\u001b[39m [####################################################......] \u001b8Setting up libfile-fcntllock-perl (0.22-3+b7) ...\n",
      "\u001b7\u001b[24;0f\u001b[42m\u001b[30mProgress: [ 91%]\u001b[49m\u001b[39m [####################################################......] \u001b8\u001b7\u001b[24;0f\u001b[42m\u001b[30mProgress: [ 92%]\u001b[49m\u001b[39m [#####################################################.....] \u001b8Setting up libnet-dbus-perl (1.2.0-1+b1) ...\n",
      "\u001b7\u001b[24;0f\u001b[42m\u001b[30mProgress: [ 93%]\u001b[49m\u001b[39m [#####################################################.....] \u001b8\u001b7\u001b[24;0f\u001b[42m\u001b[30mProgress: [ 94%]\u001b[49m\u001b[39m [######################################################....] \u001b8Setting up libnet-dns-sec-perl (1.18-1+b1) ...\n"
     ]
    },
    {
     "name": "stdout",
     "output_type": "stream",
     "text": [
      "\u001b7\u001b[24;0f\u001b[42m\u001b[30mProgress: [ 95%]\u001b[49m\u001b[39m [#######################################################...] \u001b8\u001b7\u001b[24;0f\u001b[42m\u001b[30mProgress: [ 97%]\u001b[49m\u001b[39m [########################################################..] \u001b8Setting up libdbd-mariadb-perl (1.21-1+b1) ...\n",
      "\u001b7\u001b[24;0f\u001b[42m\u001b[30mProgress: [ 98%]\u001b[49m\u001b[39m [########################################################..] \u001b8\u001b7\u001b[24;0f\u001b[42m\u001b[30mProgress: [ 99%]\u001b[49m\u001b[39m [#########################################################.] \u001b8Processing triggers for libc-bin (2.31-2) ...\n",
      "Processing triggers for man-db (2.9.3-2) ...\n",
      "Processing triggers for kali-menu (2020.3.2) ...\n",
      "\n",
      "\u001b7\u001b[0;24r\u001b8\u001b[1A\u001b[J"
     ]
    }
   ],
   "source": [
    "! echo kali | sudo -S apt install -y perl"
   ]
  },
  {
   "cell_type": "code",
   "execution_count": 9,
   "metadata": {
    "scrolled": true
   },
   "outputs": [
    {
     "name": "stdout",
     "output_type": "stream",
     "text": [
      "ABCefABCefABCefABCefABCefABCefABCefABCefABCefABCef"
     ]
    }
   ],
   "source": [
    "! perl -e 'print \"ABC\\x65\\x66\"x10'"
   ]
  },
  {
   "cell_type": "markdown",
   "metadata": {},
   "source": [
    "## GDB - GNU Debugger\n",
    "- cheatsheet: http://www.yolinux.com/TUTORIALS/GDB-Commands.html\n",
    "- [GDB & Peda Notebook](./GDB-Peda.ipynb)"
   ]
  },
  {
   "cell_type": "markdown",
   "metadata": {},
   "source": [
    "## PEDA - Python Exploit Development Assistance\n",
    "\n",
    "- we'll dive into GDB and PEDA in more details later\n",
    "- wrapper for GDB with extra features\n",
    "- https://github.com/longld/peda\n",
    "- [GDB & Peda Notebook](/.GDB-Peda.ipynb)"
   ]
  },
  {
   "cell_type": "markdown",
   "metadata": {},
   "source": [
    "## XXD\n",
    "- Linux command that creates a hex dump of a given file or standard input\n",
    "- can also convert hex dump back to its original binary form"
   ]
  },
  {
   "cell_type": "code",
   "execution_count": 15,
   "metadata": {},
   "outputs": [
    {
     "name": "stdout",
     "output_type": "stream",
     "text": [
      "00000000: 4141 4141 4141 4141 4141 4141 4141 4141  AAAAAAAAAAAAAAAA\r\n",
      "00000010: 4141 4141 4141 4141 4141 4141 4141 4141  AAAAAAAAAAAAAAAA\r\n",
      "00000020: 0a                                       .\r\n"
     ]
    }
   ],
   "source": [
    "! python -c 'print(\"A\"*32)' | xxd"
   ]
  },
  {
   "cell_type": "code",
   "execution_count": null,
   "metadata": {},
   "outputs": [],
   "source": []
  }
 ],
 "metadata": {
  "kernelspec": {
   "display_name": "Python 3",
   "language": "python",
   "name": "python3"
  },
  "language_info": {
   "codemirror_mode": {
    "name": "ipython",
    "version": 3
   },
   "file_extension": ".py",
   "mimetype": "text/x-python",
   "name": "python",
   "nbconvert_exporter": "python",
   "pygments_lexer": "ipython3",
   "version": "3.8.3"
  }
 },
 "nbformat": 4,
 "nbformat_minor": 2
}
