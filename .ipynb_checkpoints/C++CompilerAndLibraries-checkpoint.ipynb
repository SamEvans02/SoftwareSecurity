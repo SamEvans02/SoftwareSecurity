{
 "cells": [
  {
   "cell_type": "markdown",
   "metadata": {},
   "source": [
    "# Compiler and Libraries required\n",
    "\n",
    "- update the system\n",
    "- g++ compiler\n",
    "- multilib library to compile x86 programs in x64-bit OS"
   ]
  },
  {
   "cell_type": "code",
   "execution_count": null,
   "metadata": {},
   "outputs": [],
   "source": []
  },
  {
   "cell_type": "code",
   "execution_count": 2,
   "metadata": {},
   "outputs": [
    {
     "name": "stdout",
     "output_type": "stream",
     "text": [
      "Reading package lists... Done\n",
      "Building dependency tree       \n",
      "Reading state information... Done\n",
      "build-essential is already the newest version (12.8).\n",
      "The following packages were automatically installed and are no longer required:\n",
      "  libcdio18 libmpdec2 libprotobuf22 libx264-155 libx264-159\n",
      "Use 'sudo apt autoremove' to remove them.\n",
      "0 upgraded, 0 newly installed, 0 to remove and 0 not upgraded.\n"
     ]
    }
   ],
   "source": [
    "# install g++ compiler\n",
    "! echo kali | sudo -S apt install build-essential"
   ]
  },
  {
   "cell_type": "code",
   "execution_count": 4,
   "metadata": {
    "scrolled": true
   },
   "outputs": [
    {
     "name": "stdout",
     "output_type": "stream",
     "text": [
      "Reading package lists... Done\n",
      "Building dependency tree       \n",
      "Reading state information... Done\n",
      "gcc-multilib is already the newest version (4:9.2.1-3.1).\n",
      "The following packages were automatically installed and are no longer required:\n",
      "  libcdio18 libmpdec2 libprotobuf22 libx264-155 libx264-159\n",
      "Use 'sudo apt autoremove' to remove them.\n",
      "The following additional packages will be installed:\n",
      "  g++-9-multilib lib32stdc++-9-dev libx32stdc++-9-dev\n",
      "Suggested packages:\n",
      "  lib32stdc++6-9-dbg libx32stdc++6-9-dbg\n",
      "The following NEW packages will be installed:\n",
      "  g++-9-multilib g++-multilib lib32stdc++-9-dev libx32stdc++-9-dev\n",
      "0 upgraded, 4 newly installed, 0 to remove and 0 not upgraded.\n",
      "Need to get 1,445 kB of archives.\n",
      "After this operation, 20.6 MB of additional disk space will be used.\n",
      "Err:1 http://http.kali.org/kali kali-rolling/main amd64 lib32stdc++-9-dev amd64 9.3.0-15\n",
      "  404  Not Found [IP: 192.99.200.113 80]\n",
      "Err:2 http://http.kali.org/kali kali-rolling/main amd64 libx32stdc++-9-dev amd64 9.3.0-15\n",
      "  404  Not Found [IP: 192.99.200.113 80]\n",
      "Err:3 http://http.kali.org/kali kali-rolling/main amd64 g++-9-multilib amd64 9.3.0-15\n",
      "  404  Not Found [IP: 192.99.200.113 80]\n",
      "Get:4 http://kali.download/kali kali-rolling/main amd64 g++-multilib amd64 4:9.2.1-3.1 [996 B]\n",
      "Fetched 996 B in 2s (425 B/s)       \u001b[0m\u001b[33m    \n",
      "\u001b[1;31mE: \u001b[0mFailed to fetch http://http.kali.org/kali/pool/main/g/gcc-9/lib32stdc++-9-dev_9.3.0-15_amd64.deb  404  Not Found [IP: 192.99.200.113 80]\u001b[0m\n",
      "\u001b[1;31mE: \u001b[0mFailed to fetch http://http.kali.org/kali/pool/main/g/gcc-9/libx32stdc++-9-dev_9.3.0-15_amd64.deb  404  Not Found [IP: 192.99.200.113 80]\u001b[0m\n",
      "\u001b[1;31mE: \u001b[0mFailed to fetch http://http.kali.org/kali/pool/main/g/gcc-9/g++-9-multilib_9.3.0-15_amd64.deb  404  Not Found [IP: 192.99.200.113 80]\u001b[0m\n",
      "\u001b[1;31mE: \u001b[0mUnable to fetch some archives, maybe run apt-get update or try with --fix-missing?\u001b[0m\n"
     ]
    }
   ],
   "source": [
    "# install multilib library for gcc and g++\n",
    "# -y automatically answers Y if asked\n",
    "! echo kali | sudo -S apt install -y gcc-multilib g++-multilib"
   ]
  },
  {
   "cell_type": "code",
   "execution_count": null,
   "metadata": {},
   "outputs": [],
   "source": [
    "Y"
   ]
  }
 ],
 "metadata": {
  "kernelspec": {
   "display_name": "Python 3",
   "language": "python",
   "name": "python3"
  },
  "language_info": {
   "codemirror_mode": {
    "name": "ipython",
    "version": 3
   },
   "file_extension": ".py",
   "mimetype": "text/x-python",
   "name": "python",
   "nbconvert_exporter": "python",
   "pygments_lexer": "ipython3",
   "version": "3.8.3"
  }
 },
 "nbformat": 4,
 "nbformat_minor": 4
}
