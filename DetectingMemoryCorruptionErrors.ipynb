{
 "cells": [
  {
   "cell_type": "markdown",
   "id": "9bea814b",
   "metadata": {},
   "source": [
    "# Detecting and Mitigating Memory Corruption Errors\n",
    "\n",
    "- from programmers point-of-view, there are two main ways to detect bufferoverlow in C/C++ programs\n",
    "- White box and black box testing\n",
    "\n",
    "## White box testing\n",
    "- have access to source code\n",
    "- manually or use scanning tool to detect memory flaws and vulnerabilities\n",
    "- also called static analysis\n",
    "- code can be manually read for memory related errors such as memory leak, buffer overrun, etc.\n",
    "    - pros and cons?\n",
    "- can use automated tools to scan for errors\n",
    "    - pros and cons?\n",
    "\n",
    "## Black box testing\n",
    "- also called dynamic analysis\n",
    "- manually test the binary/executable\n",
    "- employ `fuzz testing` - use automated tools called fuzzer to provide invalid, unexpected or random data as inputs to the program\n",
    "\n",
    "### Use 3rd party scanners such as Valgrind's Memcheck\n",
    "- https://valgrind.org/docs/manual/quick-start.html\n",
    "- compile your program using -g (dubuggin info) and -o1 (line numbers in error message)\n",
    "    - `-o0` is also a good idea, if you can tolerate the slowdown   \n",
    "- must install valgrind and libc6-dbg:i386 packages\n",
    "\n",
    "### Use gcc/g++ compiler flags\n",
    "\n",
    "### NOTE: Automated tools are not perfect!"
   ]
  },
  {
   "cell_type": "code",
   "execution_count": 1,
   "id": "d2a93ab7",
   "metadata": {},
   "outputs": [
    {
     "name": "stdout",
     "output_type": "stream",
     "text": [
      "Reading package lists... Done\n",
      "Building dependency tree... Done\n",
      "Reading state information... Done\n",
      "valgrind is already the newest version (1:3.18.1-1).\n",
      "The following packages were automatically installed and are no longer required:\n",
      "  cryptsetup-run fastjar gir1.2-gst-plugins-base-1.0 gnome-desktop3-data\n",
      "  gnome-session-canberra gstreamer1.0-pulseaudio jarwrapper\n",
      "  kali-wallpapers-2021.4 kazam libamtk-5-0 libamtk-5-common libavresample4\n",
      "  libcbor0 libdap27 libdapclient6v5 libepsilon1 libfluidsynth2 libfmt7\n",
      "  libgdal28 libgeos-3.9.0 libgnome-desktop-3-19 libgupnp-1.2-0 libidn11\n",
      "  libigdgmm11 libnetcdf18 libntfs-3g883 libodbc1 libodbccr2 libomp-9-dev\n",
      "  libomp5-9 libperl5.30 libproj19 libqhull8.0 librest-0.7-0 libssl1.0.2\n",
      "  libtepl-5-0 liburcu6 liburing1 libwireshark14 libwiretap11 libwsutil12\n",
      "  libxkbregistry0 libxml-dom-perl libxml-perl libxml-regexp-perl libyara4\n",
      "  linux-image-5.10.0-kali8-amd64 linux-image-5.9.0-kali4-amd64 odbcinst\n",
      "  odbcinst1debian2 python3-editor python3-exif python3-humanize python3-orjson\n",
      "  python3-pbr python3-plotly python3-pylnk python3-stem python3-tenacity\n",
      "  ruby-atomic ruby-thread-safe\n",
      "Use 'sudo apt autoremove' to remove them.\n",
      "0 upgraded, 0 newly installed, 0 to remove and 271 not upgraded.\n"
     ]
    }
   ],
   "source": [
    "! echo kali | sudo -S apt install valgrind -y"
   ]
  },
  {
   "cell_type": "code",
   "execution_count": 2,
   "id": "449bf875",
   "metadata": {},
   "outputs": [
    {
     "name": "stdout",
     "output_type": "stream",
     "text": [
      "valgrind-3.18.1\r\n"
     ]
    }
   ],
   "source": [
    "# check valgrind version\n",
    "! valgrind --version"
   ]
  },
  {
   "cell_type": "code",
   "execution_count": 3,
   "id": "d6929fba",
   "metadata": {},
   "outputs": [
    {
     "name": "stdout",
     "output_type": "stream",
     "text": [
      "Reading package lists...\n",
      "Building dependency tree...\n",
      "Reading state information...\n",
      "libc6-dbg is already the newest version (2.33-1).\n",
      "The following packages were automatically installed and are no longer required:\n",
      "  cryptsetup-run fastjar gir1.2-gst-plugins-base-1.0 gnome-desktop3-data\n",
      "  gnome-session-canberra gstreamer1.0-pulseaudio jarwrapper\n",
      "  kali-wallpapers-2021.4 kazam libamtk-5-0 libamtk-5-common libavresample4\n",
      "  libcbor0 libdap27 libdapclient6v5 libepsilon1 libfluidsynth2 libfmt7\n",
      "  libgdal28 libgeos-3.9.0 libgnome-desktop-3-19 libgupnp-1.2-0 libidn11\n",
      "  libigdgmm11 libnetcdf18 libntfs-3g883 libodbc1 libodbccr2 libomp-9-dev\n",
      "  libomp5-9 libperl5.30 libproj19 libqhull8.0 librest-0.7-0 libssl1.0.2\n",
      "  libtepl-5-0 liburcu6 liburing1 libwireshark14 libwiretap11 libwsutil12\n",
      "  libxkbregistry0 libxml-dom-perl libxml-perl libxml-regexp-perl libyara4\n",
      "  linux-image-5.10.0-kali8-amd64 linux-image-5.9.0-kali4-amd64 odbcinst\n",
      "  odbcinst1debian2 python3-editor python3-exif python3-humanize python3-orjson\n",
      "  python3-pbr python3-plotly python3-pylnk python3-stem python3-tenacity\n",
      "  ruby-atomic ruby-thread-safe\n",
      "Use 'sudo apt autoremove' to remove them.\n",
      "0 upgraded, 0 newly installed, 0 to remove and 271 not upgraded.\n",
      "Reading package lists...\n",
      "Building dependency tree...\n",
      "Reading state information...\n",
      "libc6-dbg:i386 is already the newest version (2.33-1).\n",
      "The following packages were automatically installed and are no longer required:\n",
      "  cryptsetup-run fastjar gir1.2-gst-plugins-base-1.0 gnome-desktop3-data\n",
      "  gnome-session-canberra gstreamer1.0-pulseaudio jarwrapper\n",
      "  kali-wallpapers-2021.4 kazam libamtk-5-0 libamtk-5-common libavresample4\n",
      "  libcbor0 libdap27 libdapclient6v5 libepsilon1 libfluidsynth2 libfmt7\n",
      "  libgdal28 libgeos-3.9.0 libgnome-desktop-3-19 libgupnp-1.2-0 libidn11\n",
      "  libigdgmm11 libnetcdf18 libntfs-3g883 libodbc1 libodbccr2 libomp-9-dev\n",
      "  libomp5-9 libperl5.30 libproj19 libqhull8.0 librest-0.7-0 libssl1.0.2\n",
      "  libtepl-5-0 liburcu6 liburing1 libwireshark14 libwiretap11 libwsutil12\n",
      "  libxkbregistry0 libxml-dom-perl libxml-perl libxml-regexp-perl libyara4\n",
      "  linux-image-5.10.0-kali8-amd64 linux-image-5.9.0-kali4-amd64 odbcinst\n",
      "  odbcinst1debian2 python3-editor python3-exif python3-humanize python3-orjson\n",
      "  python3-pbr python3-plotly python3-pylnk python3-stem python3-tenacity\n",
      "  ruby-atomic ruby-thread-safe\n",
      "Use 'sudo apt autoremove' to remove them.\n",
      "0 upgraded, 0 newly installed, 0 to remove and 271 not upgraded.\n"
     ]
    },
    {
     "name": "stderr",
     "output_type": "stream",
     "text": [
      "[sudo] password for kali: \n",
      "WARNING: apt does not have a stable CLI interface. Use with caution in scripts.\n",
      "\n",
      "\n",
      "WARNING: apt does not have a stable CLI interface. Use with caution in scripts.\n",
      "\n"
     ]
    }
   ],
   "source": [
    "%%bash\n",
    "# install libc6-dbg:i386 for debugging x86 program in x64\n",
    "echo kali | sudo -S sudo apt install libc6-dbg -y\n",
    "echo kali | sudo -S sudo apt install libc6-dbg:i386 -y"
   ]
  },
  {
   "cell_type": "code",
   "execution_count": 4,
   "id": "cc52fc98",
   "metadata": {},
   "outputs": [
    {
     "name": "stdout",
     "output_type": "stream",
     "text": [
      "  #include <stdlib.h>\r\n",
      "  #include <cstring>\r\n",
      "  #include <cstdio>\r\n",
      "\r\n",
      "  void f(char * arg)\r\n",
      "  {\r\n",
      "\t // C dynamic memory\r\n",
      "\t int* x = (int *)malloc(10 * sizeof(int));\r\n",
      "\t // C++ dynamic memory\r\n",
      "\t char* name = new char[20];\r\n",
      "\t \r\n",
      "\t x[10] = 0;        // problem 1: heap block overrun\r\n",
      "\t\t                // problem 2: memory leak -- x not freed\r\n",
      "\t strcpy(name, arg);\r\n",
      "\t // problem 3: heap block overrun\r\n",
      "\t // problem 4: memory leak -- x not freed\r\n",
      "\t printf(\"Hello %s\\n\", arg);\r\n",
      "  }\r\n",
      "\r\n",
      "  int main(int argc, char* argv[1])\r\n",
      "  {\r\n",
      "\t // what if f() is called over and again in an infinite loop, e.g. \r\n",
      "\t f(argv[1]);\r\n",
      "\t return 0;\r\n",
      "  }\r\n"
     ]
    }
   ],
   "source": [
    "# let's use demos/memory_leak.cpp program for demo\n",
    "! cat demos/memory_leak.cpp"
   ]
  },
  {
   "cell_type": "code",
   "execution_count": 5,
   "id": "8219960f",
   "metadata": {},
   "outputs": [],
   "source": [
    "# compile with -g -o0 options to use with valgrind\n",
    "! g++ -m32 -g -o0 demos/memory_leak.cpp -o memory_leak.exe"
   ]
  },
  {
   "cell_type": "code",
   "execution_count": 6,
   "id": "228ad087",
   "metadata": {},
   "outputs": [
    {
     "name": "stdout",
     "output_type": "stream",
     "text": [
      "Hello John\r\n"
     ]
    }
   ],
   "source": [
    "# Run the program with an argument\n",
    "! ./memory_leak.exe John"
   ]
  },
  {
   "cell_type": "code",
   "execution_count": 7,
   "id": "7d098d34",
   "metadata": {},
   "outputs": [
    {
     "name": "stdout",
     "output_type": "stream",
     "text": [
      "malloc(): corrupted top size\r\n"
     ]
    }
   ],
   "source": [
    "# program crashes or behaves unexpectedly\n",
    "! ./memory_leak.exe \"some very very very very long string\""
   ]
  },
  {
   "cell_type": "code",
   "execution_count": 8,
   "id": "4e67cde1",
   "metadata": {},
   "outputs": [
    {
     "name": "stdout",
     "output_type": "stream",
     "text": [
      "==41417== Memcheck, a memory error detector\n",
      "==41417== Copyright (C) 2002-2017, and GNU GPL'd, by Julian Seward et al.\n",
      "==41417== Using Valgrind-3.18.1 and LibVEX; rerun with -h for copyright info\n",
      "==41417== Command: ./memory_leak.exe John\\ Smith\n",
      "==41417== \n",
      "==41417== Invalid write of size 4\n",
      "==41417==    at 0x109205: f(char*) (memory_leak.cpp:12)\n",
      "==41417==    by 0x109264: main (memory_leak.cpp:23)\n",
      "==41417==  Address 0x4d94a80 is 0 bytes after a block of size 40 alloc'd\n",
      "==41417==    at 0x483E670: malloc (vg_replace_malloc.c:381)\n",
      "==41417==    by 0x1091E8: f(char*) (memory_leak.cpp:8)\n",
      "==41417==    by 0x109264: main (memory_leak.cpp:23)\n",
      "==41417== \n",
      "Hello John Smith\n",
      "==41417== \n",
      "==41417== HEAP SUMMARY:\n",
      "==41417==     in use at exit: 60 bytes in 2 blocks\n",
      "==41417==   total heap usage: 4 allocs, 2 frees, 20,028 bytes allocated\n",
      "==41417== \n",
      "==41417== LEAK SUMMARY:\n",
      "==41417==    definitely lost: 60 bytes in 2 blocks\n",
      "==41417==    indirectly lost: 0 bytes in 0 blocks\n",
      "==41417==      possibly lost: 0 bytes in 0 blocks\n",
      "==41417==    still reachable: 0 bytes in 0 blocks\n",
      "==41417==         suppressed: 0 bytes in 0 blocks\n",
      "==41417== Rerun with --leak-check=full to see details of leaked memory\n",
      "==41417== \n",
      "==41417== For lists of detected and suppressed errors, rerun with: -s\n",
      "==41417== ERROR SUMMARY: 1 errors from 1 contexts (suppressed: 0 from 0)\n"
     ]
    }
   ],
   "source": [
    "# by default gives summary of memory leak\n",
    "# doesn't give the detail/full memory leaks info\n",
    "! valgrind ./memory_leak.exe \"John Smith\""
   ]
  },
  {
   "cell_type": "code",
   "execution_count": 11,
   "id": "1eeea2a8",
   "metadata": {},
   "outputs": [
    {
     "name": "stdout",
     "output_type": "stream",
     "text": [
      "==41441== Memcheck, a memory error detector\n",
      "==41441== Copyright (C) 2002-2017, and GNU GPL'd, by Julian Seward et al.\n",
      "==41441== Using Valgrind-3.18.1 and LibVEX; rerun with -h for copyright info\n",
      "==41441== Command: ./memory_leak.exe John\\ Smith\n",
      "==41441== \n",
      "==41441== Invalid write of size 4\n",
      "==41441==    at 0x109205: f(char*) (memory_leak.cpp:12)\n",
      "==41441==    by 0x109264: main (memory_leak.cpp:23)\n",
      "==41441==  Address 0x4d94a80 is 0 bytes after a block of size 40 alloc'd\n",
      "==41441==    at 0x483E670: malloc (vg_replace_malloc.c:381)\n",
      "==41441==    by 0x1091E8: f(char*) (memory_leak.cpp:8)\n",
      "==41441==    by 0x109264: main (memory_leak.cpp:23)\n",
      "==41441== \n",
      "Hello John Smith\n",
      "==41441== \n",
      "==41441== HEAP SUMMARY:\n",
      "==41441==     in use at exit: 60 bytes in 2 blocks\n",
      "==41441==   total heap usage: 4 allocs, 2 frees, 20,028 bytes allocated\n",
      "==41441== \n",
      "==41441== 20 bytes in 1 blocks are definitely lost in loss record 1 of 2\n",
      "==41441==    at 0x484000B: operator new[](unsigned int) (vg_replace_malloc.c:633)\n",
      "==41441==    by 0x1091F8: f(char*) (memory_leak.cpp:10)\n",
      "==41441==    by 0x109264: main (memory_leak.cpp:23)\n",
      "==41441== \n",
      "==41441== 40 bytes in 1 blocks are definitely lost in loss record 2 of 2\n",
      "==41441==    at 0x483E670: malloc (vg_replace_malloc.c:381)\n",
      "==41441==    by 0x1091E8: f(char*) (memory_leak.cpp:8)\n",
      "==41441==    by 0x109264: main (memory_leak.cpp:23)\n",
      "==41441== \n",
      "==41441== LEAK SUMMARY:\n",
      "==41441==    definitely lost: 60 bytes in 2 blocks\n",
      "==41441==    indirectly lost: 0 bytes in 0 blocks\n",
      "==41441==      possibly lost: 0 bytes in 0 blocks\n",
      "==41441==    still reachable: 0 bytes in 0 blocks\n",
      "==41441==         suppressed: 0 bytes in 0 blocks\n",
      "==41441== \n",
      "==41441== ERROR SUMMARY: 3 errors from 3 contexts (suppressed: 0 from 0)\n",
      "==41441== \n",
      "==41441== 1 errors in context 1 of 3:\n",
      "==41441== Invalid write of size 4\n",
      "==41441==    at 0x109205: f(char*) (memory_leak.cpp:12)\n",
      "==41441==    by 0x109264: main (memory_leak.cpp:23)\n",
      "==41441==  Address 0x4d94a80 is 0 bytes after a block of size 40 alloc'd\n",
      "==41441==    at 0x483E670: malloc (vg_replace_malloc.c:381)\n",
      "==41441==    by 0x1091E8: f(char*) (memory_leak.cpp:8)\n",
      "==41441==    by 0x109264: main (memory_leak.cpp:23)\n",
      "==41441== \n",
      "==41441== ERROR SUMMARY: 3 errors from 3 contexts (suppressed: 0 from 0)\n"
     ]
    }
   ],
   "source": [
    "! valgrind --leak-check=full -s ./memory_leak.exe \"John Smith\""
   ]
  },
  {
   "cell_type": "markdown",
   "id": "6457f19c",
   "metadata": {},
   "source": [
    "## gcc/g++ Warning flags and AddressSanitizer\n",
    "- https://en.wikipedia.org/wiki/AddressSanitizer\n",
    "- https://gcc.gnu.org/onlinedocs/gcc-3.4.6/gcc/Warning-Options.html#Warning-Options\n",
    "\n",
    "- `-Wall` - display all the warning\n",
    "- `-Wpedantic` - display nonstandard warnings\n",
    "- `-Wextra` - print extra newer warning messages\n",
    "- `-Wconversion` - warning any implicit type conversions\n",
    "- Warnings are like static analysis\n",
    "\n",
    "- `-fsanitize=address` - use address sanitizer (ONLY works on Linux)\n",
    "- must compile and run the program to see the results of any buffer-over-flow errors (dynamic analysis)\n",
    "- For more: https://www.osc.edu/resources/getting_started/howto/howto_use_address_sanitizer"
   ]
  },
  {
   "cell_type": "code",
   "execution_count": 16,
   "id": "ee673eb3",
   "metadata": {},
   "outputs": [
    {
     "name": "stdout",
     "output_type": "stream",
     "text": [
      "\u001b[01m\u001b[Kdemos/memory_leak.cpp:\u001b[m\u001b[K In function ‘\u001b[01m\u001b[Kint main(int, char**)\u001b[m\u001b[K’:\r\n",
      "\u001b[01m\u001b[Kdemos/memory_leak.cpp:20:16:\u001b[m\u001b[K \u001b[01;35m\u001b[Kwarning: \u001b[m\u001b[Kunused parameter ‘\u001b[01m\u001b[Kargc\u001b[m\u001b[K’ [\u001b[01;35m\u001b[K\u001b]8;;https://gcc.gnu.org/onlinedocs/gcc/Warning-Options.html#index-Wunused-parameter\u0007-Wunused-parameter\u001b]8;;\u0007\u001b[m\u001b[K]\r\n",
      "   20 |   int main(\u001b[01;35m\u001b[Kint argc\u001b[m\u001b[K, char* argv[1])\r\n",
      "      |            \u001b[01;35m\u001b[K~~~~^~~~\u001b[m\u001b[K\r\n"
     ]
    }
   ],
   "source": [
    "! g++ -std=c++17 -m32 -g -o0 -Wall -Wpedantic -Wextra -Wconversion -fsanitize=address demos/memory_leak.cpp -o memory_leak.exe"
   ]
  },
  {
   "cell_type": "code",
   "execution_count": 17,
   "id": "d4f931d7",
   "metadata": {},
   "outputs": [
    {
     "name": "stdout",
     "output_type": "stream",
     "text": [
      "=================================================================\n",
      "\u001b[1m\u001b[31m==41528==ERROR: AddressSanitizer: heap-buffer-overflow on address 0xf5000f78 at pc 0x5655629d bp 0xffffc1f8 sp 0xffffc1ec\n",
      "\u001b[1m\u001b[0m\u001b[1m\u001b[34mWRITE of size 4 at 0xf5000f78 thread T0\u001b[1m\u001b[0m\n",
      "    #0 0x5655629c in f(char*) demos/memory_leak.cpp:12\n",
      "    #1 0x56556338 in main demos/memory_leak.cpp:23\n",
      "    #2 0xf74fa904 in __libc_start_main ../csu/libc-start.c:332\n",
      "    #3 0x56556120 in _start (/home/kali/projects/SystemSecurity/memory_leak.exe+0x1120)\n",
      "\n",
      "\u001b[1m\u001b[32m0xf5000f78 is located 0 bytes to the right of 40-byte region [0xf5000f50,0xf5000f78)\n",
      "\u001b[1m\u001b[0m\u001b[1m\u001b[35mallocated by thread T0 here:\u001b[1m\u001b[0m\n",
      "    #0 0xf7ab4ffb in __interceptor_malloc ../../../../../src/libsanitizer/asan/asan_malloc_linux.cpp:145\n",
      "    #1 0x56556249 in f(char*) demos/memory_leak.cpp:8\n",
      "    #2 0x56556338 in main demos/memory_leak.cpp:23\n",
      "    #3 0xf74fa904 in __libc_start_main ../csu/libc-start.c:332\n",
      "\n",
      "SUMMARY: AddressSanitizer: heap-buffer-overflow demos/memory_leak.cpp:12 in f(char*)\n",
      "Shadow bytes around the buggy address:\n",
      "  0x3ea00190: \u001b[1m\u001b[31mfa\u001b[1m\u001b[0m \u001b[1m\u001b[31mfa\u001b[1m\u001b[0m \u001b[1m\u001b[31mfa\u001b[1m\u001b[0m \u001b[1m\u001b[31mfa\u001b[1m\u001b[0m \u001b[1m\u001b[31mfa\u001b[1m\u001b[0m \u001b[1m\u001b[31mfa\u001b[1m\u001b[0m \u001b[1m\u001b[31mfa\u001b[1m\u001b[0m \u001b[1m\u001b[31mfa\u001b[1m\u001b[0m \u001b[1m\u001b[31mfa\u001b[1m\u001b[0m \u001b[1m\u001b[31mfa\u001b[1m\u001b[0m \u001b[1m\u001b[31mfa\u001b[1m\u001b[0m \u001b[1m\u001b[31mfa\u001b[1m\u001b[0m \u001b[1m\u001b[31mfa\u001b[1m\u001b[0m \u001b[1m\u001b[31mfa\u001b[1m\u001b[0m \u001b[1m\u001b[31mfa\u001b[1m\u001b[0m \u001b[1m\u001b[31mfa\u001b[1m\u001b[0m\n",
      "  0x3ea001a0: \u001b[1m\u001b[31mfa\u001b[1m\u001b[0m \u001b[1m\u001b[31mfa\u001b[1m\u001b[0m \u001b[1m\u001b[31mfa\u001b[1m\u001b[0m \u001b[1m\u001b[31mfa\u001b[1m\u001b[0m \u001b[1m\u001b[31mfa\u001b[1m\u001b[0m \u001b[1m\u001b[31mfa\u001b[1m\u001b[0m \u001b[1m\u001b[31mfa\u001b[1m\u001b[0m \u001b[1m\u001b[31mfa\u001b[1m\u001b[0m \u001b[1m\u001b[31mfa\u001b[1m\u001b[0m \u001b[1m\u001b[31mfa\u001b[1m\u001b[0m \u001b[1m\u001b[31mfa\u001b[1m\u001b[0m \u001b[1m\u001b[31mfa\u001b[1m\u001b[0m \u001b[1m\u001b[31mfa\u001b[1m\u001b[0m \u001b[1m\u001b[31mfa\u001b[1m\u001b[0m \u001b[1m\u001b[31mfa\u001b[1m\u001b[0m \u001b[1m\u001b[31mfa\u001b[1m\u001b[0m\n",
      "  0x3ea001b0: \u001b[1m\u001b[31mfa\u001b[1m\u001b[0m \u001b[1m\u001b[31mfa\u001b[1m\u001b[0m \u001b[1m\u001b[31mfa\u001b[1m\u001b[0m \u001b[1m\u001b[31mfa\u001b[1m\u001b[0m \u001b[1m\u001b[31mfa\u001b[1m\u001b[0m \u001b[1m\u001b[31mfa\u001b[1m\u001b[0m \u001b[1m\u001b[31mfa\u001b[1m\u001b[0m \u001b[1m\u001b[31mfa\u001b[1m\u001b[0m \u001b[1m\u001b[31mfa\u001b[1m\u001b[0m \u001b[1m\u001b[31mfa\u001b[1m\u001b[0m \u001b[1m\u001b[31mfa\u001b[1m\u001b[0m \u001b[1m\u001b[31mfa\u001b[1m\u001b[0m \u001b[1m\u001b[31mfa\u001b[1m\u001b[0m \u001b[1m\u001b[31mfa\u001b[1m\u001b[0m \u001b[1m\u001b[31mfa\u001b[1m\u001b[0m \u001b[1m\u001b[31mfa\u001b[1m\u001b[0m\n",
      "  0x3ea001c0: \u001b[1m\u001b[31mfa\u001b[1m\u001b[0m \u001b[1m\u001b[31mfa\u001b[1m\u001b[0m \u001b[1m\u001b[31mfa\u001b[1m\u001b[0m \u001b[1m\u001b[31mfa\u001b[1m\u001b[0m \u001b[1m\u001b[31mfa\u001b[1m\u001b[0m \u001b[1m\u001b[31mfa\u001b[1m\u001b[0m \u001b[1m\u001b[31mfa\u001b[1m\u001b[0m \u001b[1m\u001b[31mfa\u001b[1m\u001b[0m \u001b[1m\u001b[31mfa\u001b[1m\u001b[0m \u001b[1m\u001b[31mfa\u001b[1m\u001b[0m \u001b[1m\u001b[31mfa\u001b[1m\u001b[0m \u001b[1m\u001b[31mfa\u001b[1m\u001b[0m \u001b[1m\u001b[31mfa\u001b[1m\u001b[0m \u001b[1m\u001b[31mfa\u001b[1m\u001b[0m \u001b[1m\u001b[31mfa\u001b[1m\u001b[0m \u001b[1m\u001b[31mfa\u001b[1m\u001b[0m\n",
      "  0x3ea001d0: \u001b[1m\u001b[31mfa\u001b[1m\u001b[0m \u001b[1m\u001b[31mfa\u001b[1m\u001b[0m \u001b[1m\u001b[31mfa\u001b[1m\u001b[0m \u001b[1m\u001b[31mfa\u001b[1m\u001b[0m \u001b[1m\u001b[31mfa\u001b[1m\u001b[0m \u001b[1m\u001b[31mfa\u001b[1m\u001b[0m \u001b[1m\u001b[31mfa\u001b[1m\u001b[0m \u001b[1m\u001b[31mfa\u001b[1m\u001b[0m \u001b[1m\u001b[31mfa\u001b[1m\u001b[0m \u001b[1m\u001b[31mfa\u001b[1m\u001b[0m \u001b[1m\u001b[31mfa\u001b[1m\u001b[0m \u001b[1m\u001b[31mfa\u001b[1m\u001b[0m \u001b[1m\u001b[31mfa\u001b[1m\u001b[0m \u001b[1m\u001b[31mfa\u001b[1m\u001b[0m \u001b[1m\u001b[31mfa\u001b[1m\u001b[0m \u001b[1m\u001b[31mfa\u001b[1m\u001b[0m\n",
      "=>0x3ea001e0: \u001b[1m\u001b[31mfa\u001b[1m\u001b[0m \u001b[1m\u001b[31mfa\u001b[1m\u001b[0m \u001b[1m\u001b[31mfa\u001b[1m\u001b[0m \u001b[1m\u001b[31mfa\u001b[1m\u001b[0m \u001b[1m\u001b[31mfa\u001b[1m\u001b[0m \u001b[1m\u001b[31mfa\u001b[1m\u001b[0m \u001b[1m\u001b[31mfa\u001b[1m\u001b[0m \u001b[1m\u001b[31mfa\u001b[1m\u001b[0m \u001b[1m\u001b[31mfa\u001b[1m\u001b[0m \u001b[1m\u001b[31mfa\u001b[1m\u001b[0m \u001b[1m\u001b[0m00\u001b[1m\u001b[0m \u001b[1m\u001b[0m00\u001b[1m\u001b[0m \u001b[1m\u001b[0m00\u001b[1m\u001b[0m \u001b[1m\u001b[0m00\u001b[1m\u001b[0m \u001b[1m\u001b[0m00\u001b[1m\u001b[0m[\u001b[1m\u001b[31mfa\u001b[1m\u001b[0m]\n",
      "  0x3ea001f0: \u001b[1m\u001b[31mfa\u001b[1m\u001b[0m \u001b[1m\u001b[31mfa\u001b[1m\u001b[0m \u001b[1m\u001b[31mfa\u001b[1m\u001b[0m \u001b[1m\u001b[31mfa\u001b[1m\u001b[0m \u001b[1m\u001b[31mfa\u001b[1m\u001b[0m \u001b[1m\u001b[31mfa\u001b[1m\u001b[0m \u001b[1m\u001b[31mfa\u001b[1m\u001b[0m \u001b[1m\u001b[31mfa\u001b[1m\u001b[0m \u001b[1m\u001b[31mfa\u001b[1m\u001b[0m \u001b[1m\u001b[31mfa\u001b[1m\u001b[0m \u001b[1m\u001b[31mfa\u001b[1m\u001b[0m \u001b[1m\u001b[31mfa\u001b[1m\u001b[0m \u001b[1m\u001b[31mfa\u001b[1m\u001b[0m \u001b[1m\u001b[31mfa\u001b[1m\u001b[0m \u001b[1m\u001b[31mfa\u001b[1m\u001b[0m \u001b[1m\u001b[31mfa\u001b[1m\u001b[0m\n",
      "  0x3ea00200: \u001b[1m\u001b[31mfa\u001b[1m\u001b[0m \u001b[1m\u001b[31mfa\u001b[1m\u001b[0m \u001b[1m\u001b[31mfa\u001b[1m\u001b[0m \u001b[1m\u001b[31mfa\u001b[1m\u001b[0m \u001b[1m\u001b[31mfa\u001b[1m\u001b[0m \u001b[1m\u001b[31mfa\u001b[1m\u001b[0m \u001b[1m\u001b[31mfa\u001b[1m\u001b[0m \u001b[1m\u001b[31mfa\u001b[1m\u001b[0m \u001b[1m\u001b[31mfa\u001b[1m\u001b[0m \u001b[1m\u001b[31mfa\u001b[1m\u001b[0m \u001b[1m\u001b[31mfa\u001b[1m\u001b[0m \u001b[1m\u001b[31mfa\u001b[1m\u001b[0m \u001b[1m\u001b[31mfa\u001b[1m\u001b[0m \u001b[1m\u001b[31mfa\u001b[1m\u001b[0m \u001b[1m\u001b[31mfa\u001b[1m\u001b[0m \u001b[1m\u001b[31mfa\u001b[1m\u001b[0m\n",
      "  0x3ea00210: \u001b[1m\u001b[31mfa\u001b[1m\u001b[0m \u001b[1m\u001b[31mfa\u001b[1m\u001b[0m \u001b[1m\u001b[31mfa\u001b[1m\u001b[0m \u001b[1m\u001b[31mfa\u001b[1m\u001b[0m \u001b[1m\u001b[31mfa\u001b[1m\u001b[0m \u001b[1m\u001b[31mfa\u001b[1m\u001b[0m \u001b[1m\u001b[31mfa\u001b[1m\u001b[0m \u001b[1m\u001b[31mfa\u001b[1m\u001b[0m \u001b[1m\u001b[31mfa\u001b[1m\u001b[0m \u001b[1m\u001b[31mfa\u001b[1m\u001b[0m \u001b[1m\u001b[31mfa\u001b[1m\u001b[0m \u001b[1m\u001b[31mfa\u001b[1m\u001b[0m \u001b[1m\u001b[31mfa\u001b[1m\u001b[0m \u001b[1m\u001b[31mfa\u001b[1m\u001b[0m \u001b[1m\u001b[31mfa\u001b[1m\u001b[0m \u001b[1m\u001b[31mfa\u001b[1m\u001b[0m\n",
      "  0x3ea00220: \u001b[1m\u001b[31mfa\u001b[1m\u001b[0m \u001b[1m\u001b[31mfa\u001b[1m\u001b[0m \u001b[1m\u001b[31mfa\u001b[1m\u001b[0m \u001b[1m\u001b[31mfa\u001b[1m\u001b[0m \u001b[1m\u001b[31mfa\u001b[1m\u001b[0m \u001b[1m\u001b[31mfa\u001b[1m\u001b[0m \u001b[1m\u001b[31mfa\u001b[1m\u001b[0m \u001b[1m\u001b[31mfa\u001b[1m\u001b[0m \u001b[1m\u001b[31mfa\u001b[1m\u001b[0m \u001b[1m\u001b[31mfa\u001b[1m\u001b[0m \u001b[1m\u001b[31mfa\u001b[1m\u001b[0m \u001b[1m\u001b[31mfa\u001b[1m\u001b[0m \u001b[1m\u001b[31mfa\u001b[1m\u001b[0m \u001b[1m\u001b[31mfa\u001b[1m\u001b[0m \u001b[1m\u001b[31mfa\u001b[1m\u001b[0m \u001b[1m\u001b[31mfa\u001b[1m\u001b[0m\n",
      "  0x3ea00230: \u001b[1m\u001b[31mfa\u001b[1m\u001b[0m \u001b[1m\u001b[31mfa\u001b[1m\u001b[0m \u001b[1m\u001b[31mfa\u001b[1m\u001b[0m \u001b[1m\u001b[31mfa\u001b[1m\u001b[0m \u001b[1m\u001b[31mfa\u001b[1m\u001b[0m \u001b[1m\u001b[31mfa\u001b[1m\u001b[0m \u001b[1m\u001b[31mfa\u001b[1m\u001b[0m \u001b[1m\u001b[31mfa\u001b[1m\u001b[0m \u001b[1m\u001b[31mfa\u001b[1m\u001b[0m \u001b[1m\u001b[31mfa\u001b[1m\u001b[0m \u001b[1m\u001b[31mfa\u001b[1m\u001b[0m \u001b[1m\u001b[31mfa\u001b[1m\u001b[0m \u001b[1m\u001b[31mfa\u001b[1m\u001b[0m \u001b[1m\u001b[31mfa\u001b[1m\u001b[0m \u001b[1m\u001b[31mfa\u001b[1m\u001b[0m \u001b[1m\u001b[31mfa\u001b[1m\u001b[0m\n",
      "Shadow byte legend (one shadow byte represents 8 application bytes):\n",
      "  Addressable:           \u001b[1m\u001b[0m00\u001b[1m\u001b[0m\n",
      "  Partially addressable: \u001b[1m\u001b[0m01\u001b[1m\u001b[0m \u001b[1m\u001b[0m02\u001b[1m\u001b[0m \u001b[1m\u001b[0m03\u001b[1m\u001b[0m \u001b[1m\u001b[0m04\u001b[1m\u001b[0m \u001b[1m\u001b[0m05\u001b[1m\u001b[0m \u001b[1m\u001b[0m06\u001b[1m\u001b[0m \u001b[1m\u001b[0m07\u001b[1m\u001b[0m \n",
      "  Heap left redzone:       \u001b[1m\u001b[31mfa\u001b[1m\u001b[0m\n",
      "  Freed heap region:       \u001b[1m\u001b[35mfd\u001b[1m\u001b[0m\n",
      "  Stack left redzone:      \u001b[1m\u001b[31mf1\u001b[1m\u001b[0m\n",
      "  Stack mid redzone:       \u001b[1m\u001b[31mf2\u001b[1m\u001b[0m\n",
      "  Stack right redzone:     \u001b[1m\u001b[31mf3\u001b[1m\u001b[0m\n",
      "  Stack after return:      \u001b[1m\u001b[35mf5\u001b[1m\u001b[0m\n",
      "  Stack use after scope:   \u001b[1m\u001b[35mf8\u001b[1m\u001b[0m\n",
      "  Global redzone:          \u001b[1m\u001b[31mf9\u001b[1m\u001b[0m\n",
      "  Global init order:       \u001b[1m\u001b[36mf6\u001b[1m\u001b[0m\n",
      "  Poisoned by user:        \u001b[1m\u001b[34mf7\u001b[1m\u001b[0m\n",
      "  Container overflow:      \u001b[1m\u001b[34mfc\u001b[1m\u001b[0m\n",
      "  Array cookie:            \u001b[1m\u001b[31mac\u001b[1m\u001b[0m\n",
      "  Intra object redzone:    \u001b[1m\u001b[33mbb\u001b[1m\u001b[0m\n",
      "  ASan internal:           \u001b[1m\u001b[33mfe\u001b[1m\u001b[0m\n",
      "  Left alloca redzone:     \u001b[1m\u001b[34mca\u001b[1m\u001b[0m\n",
      "  Right alloca redzone:    \u001b[1m\u001b[34mcb\u001b[1m\u001b[0m\n",
      "  Shadow gap:              \u001b[1m\u001b[0mcc\u001b[1m\u001b[0m\n",
      "==41528==ABORTING\n"
     ]
    }
   ],
   "source": [
    "# run the program to see the Address Sanitizer's result\n",
    "# detects overflow during run-time\n",
    "! ./memory_leak.exe"
   ]
  },
  {
   "cell_type": "code",
   "execution_count": null,
   "id": "c2906ff8",
   "metadata": {},
   "outputs": [],
   "source": [
    "# let's compile demos/stack_overflow/so_stdio.cpp with address sanitize flag and warning\n",
    "! g++ -std=c++17 -m32 -g -o0 -Wall -Wpedantic -Wextra -Wconversion -fsanitize=address demos/stack_overflow/so_stdio.cpp -o so_stdio.exe"
   ]
  },
  {
   "cell_type": "code",
   "execution_count": 18,
   "id": "191dc003",
   "metadata": {},
   "outputs": [
    {
     "name": "stdout",
     "output_type": "stream",
     "text": [
      "buffer is at 0xffffc1b0\r\n",
      "Give me some text: Acknowledged: here you go some long long long string... with length 41\r\n",
      "Good bye!\r\n"
     ]
    }
   ],
   "source": [
    "# let's manually test it... perhaps string not long enough\n",
    "! echo \"here you go some long long long string...\" | ./so_stdio.exe"
   ]
  },
  {
   "cell_type": "code",
   "execution_count": 19,
   "id": "c3c4c9a9",
   "metadata": {},
   "outputs": [
    {
     "name": "stdout",
     "output_type": "stream",
     "text": [
      "buffer is at 0xffffc1b0\n",
      "Give me some text: =================================================================\n",
      "\u001b[1m\u001b[31m==41564==ERROR: AddressSanitizer: stack-buffer-overflow on address 0xffffc230 at pc 0x56556447 bp 0xffffc128 sp 0xffffc11c\n",
      "\u001b[1m\u001b[0m\u001b[1m\u001b[34mWRITE of size 1 at 0xffffc230 thread T0\u001b[1m\u001b[0m\n",
      "    #0 0x56556446 in mgets(char*) demos/stack_overflow/so_stdio.cpp:39\n",
      "    #1 0x565565c4 in bad() demos/stack_overflow/so_stdio.cpp:50\n",
      "    #2 0x565566fb in main demos/stack_overflow/so_stdio.cpp:58\n",
      "    #3 0xf74fa904 in __libc_start_main ../csu/libc-start.c:332\n",
      "    #4 0x565561d0 in _start (/home/kali/projects/SystemSecurity/so_stdio.exe+0x11d0)\n",
      "\n",
      "\u001b[1m\u001b[32mAddress 0xffffc230 is located in stack of thread T0 at offset 160 in frame\u001b[1m\u001b[0m\n",
      "\u001b[1m\u001b[0m    #0 0x565564a8 in bad() demos/stack_overflow/so_stdio.cpp:45\n",
      "\n",
      "  This frame has 1 object(s):\n",
      "    [32, 160) 'buffer' (line 46)\u001b[1m\u001b[32m <== Memory access at offset 160 overflows this variable\u001b[1m\u001b[0m\n",
      "HINT: this may be a false positive if your program uses some custom stack unwind mechanism, swapcontext or vfork\n",
      "      (longjmp and C++ exceptions *are* supported)\n",
      "SUMMARY: AddressSanitizer: stack-buffer-overflow demos/stack_overflow/so_stdio.cpp:39 in mgets(char*)\n",
      "Shadow bytes around the buggy address:\n",
      "  0x3ffff7f0: \u001b[1m\u001b[0m00\u001b[1m\u001b[0m \u001b[1m\u001b[0m00\u001b[1m\u001b[0m \u001b[1m\u001b[0m00\u001b[1m\u001b[0m \u001b[1m\u001b[0m00\u001b[1m\u001b[0m \u001b[1m\u001b[0m00\u001b[1m\u001b[0m \u001b[1m\u001b[0m00\u001b[1m\u001b[0m \u001b[1m\u001b[0m00\u001b[1m\u001b[0m \u001b[1m\u001b[0m00\u001b[1m\u001b[0m \u001b[1m\u001b[0m00\u001b[1m\u001b[0m \u001b[1m\u001b[0m00\u001b[1m\u001b[0m \u001b[1m\u001b[0m00\u001b[1m\u001b[0m \u001b[1m\u001b[0m00\u001b[1m\u001b[0m \u001b[1m\u001b[0m00\u001b[1m\u001b[0m \u001b[1m\u001b[0m00\u001b[1m\u001b[0m \u001b[1m\u001b[0m00\u001b[1m\u001b[0m \u001b[1m\u001b[0m00\u001b[1m\u001b[0m\n",
      "  0x3ffff800: \u001b[1m\u001b[0m00\u001b[1m\u001b[0m \u001b[1m\u001b[0m00\u001b[1m\u001b[0m \u001b[1m\u001b[0m00\u001b[1m\u001b[0m \u001b[1m\u001b[0m00\u001b[1m\u001b[0m \u001b[1m\u001b[0m00\u001b[1m\u001b[0m \u001b[1m\u001b[0m00\u001b[1m\u001b[0m \u001b[1m\u001b[0m00\u001b[1m\u001b[0m \u001b[1m\u001b[0m00\u001b[1m\u001b[0m \u001b[1m\u001b[0m00\u001b[1m\u001b[0m \u001b[1m\u001b[0m00\u001b[1m\u001b[0m \u001b[1m\u001b[0m00\u001b[1m\u001b[0m \u001b[1m\u001b[0m00\u001b[1m\u001b[0m \u001b[1m\u001b[0m00\u001b[1m\u001b[0m \u001b[1m\u001b[0m00\u001b[1m\u001b[0m \u001b[1m\u001b[0m00\u001b[1m\u001b[0m \u001b[1m\u001b[0m00\u001b[1m\u001b[0m\n",
      "  0x3ffff810: \u001b[1m\u001b[0m00\u001b[1m\u001b[0m \u001b[1m\u001b[0m00\u001b[1m\u001b[0m \u001b[1m\u001b[0m00\u001b[1m\u001b[0m \u001b[1m\u001b[0m00\u001b[1m\u001b[0m \u001b[1m\u001b[0m00\u001b[1m\u001b[0m \u001b[1m\u001b[0m00\u001b[1m\u001b[0m \u001b[1m\u001b[0m00\u001b[1m\u001b[0m \u001b[1m\u001b[0m00\u001b[1m\u001b[0m \u001b[1m\u001b[0m00\u001b[1m\u001b[0m \u001b[1m\u001b[0m00\u001b[1m\u001b[0m \u001b[1m\u001b[0m00\u001b[1m\u001b[0m \u001b[1m\u001b[0m00\u001b[1m\u001b[0m \u001b[1m\u001b[0m00\u001b[1m\u001b[0m \u001b[1m\u001b[0m00\u001b[1m\u001b[0m \u001b[1m\u001b[0m00\u001b[1m\u001b[0m \u001b[1m\u001b[0m00\u001b[1m\u001b[0m\n",
      "  0x3ffff820: \u001b[1m\u001b[0m00\u001b[1m\u001b[0m \u001b[1m\u001b[0m00\u001b[1m\u001b[0m \u001b[1m\u001b[0m00\u001b[1m\u001b[0m \u001b[1m\u001b[0m00\u001b[1m\u001b[0m \u001b[1m\u001b[0m00\u001b[1m\u001b[0m \u001b[1m\u001b[0m00\u001b[1m\u001b[0m \u001b[1m\u001b[0m00\u001b[1m\u001b[0m \u001b[1m\u001b[0m00\u001b[1m\u001b[0m \u001b[1m\u001b[0m00\u001b[1m\u001b[0m \u001b[1m\u001b[0m00\u001b[1m\u001b[0m \u001b[1m\u001b[0m00\u001b[1m\u001b[0m \u001b[1m\u001b[0m00\u001b[1m\u001b[0m \u001b[1m\u001b[0m00\u001b[1m\u001b[0m \u001b[1m\u001b[0m00\u001b[1m\u001b[0m \u001b[1m\u001b[0m00\u001b[1m\u001b[0m \u001b[1m\u001b[0m00\u001b[1m\u001b[0m\n",
      "  0x3ffff830: \u001b[1m\u001b[0m00\u001b[1m\u001b[0m \u001b[1m\u001b[0m00\u001b[1m\u001b[0m \u001b[1m\u001b[31mf1\u001b[1m\u001b[0m \u001b[1m\u001b[31mf1\u001b[1m\u001b[0m \u001b[1m\u001b[31mf1\u001b[1m\u001b[0m \u001b[1m\u001b[31mf1\u001b[1m\u001b[0m \u001b[1m\u001b[0m00\u001b[1m\u001b[0m \u001b[1m\u001b[0m00\u001b[1m\u001b[0m \u001b[1m\u001b[0m00\u001b[1m\u001b[0m \u001b[1m\u001b[0m00\u001b[1m\u001b[0m \u001b[1m\u001b[0m00\u001b[1m\u001b[0m \u001b[1m\u001b[0m00\u001b[1m\u001b[0m \u001b[1m\u001b[0m00\u001b[1m\u001b[0m \u001b[1m\u001b[0m00\u001b[1m\u001b[0m \u001b[1m\u001b[0m00\u001b[1m\u001b[0m \u001b[1m\u001b[0m00\u001b[1m\u001b[0m\n",
      "=>0x3ffff840: \u001b[1m\u001b[0m00\u001b[1m\u001b[0m \u001b[1m\u001b[0m00\u001b[1m\u001b[0m \u001b[1m\u001b[0m00\u001b[1m\u001b[0m \u001b[1m\u001b[0m00\u001b[1m\u001b[0m \u001b[1m\u001b[0m00\u001b[1m\u001b[0m \u001b[1m\u001b[0m00\u001b[1m\u001b[0m[\u001b[1m\u001b[31mf3\u001b[1m\u001b[0m]\u001b[1m\u001b[31mf3\u001b[1m\u001b[0m \u001b[1m\u001b[31mf3\u001b[1m\u001b[0m \u001b[1m\u001b[31mf3\u001b[1m\u001b[0m \u001b[1m\u001b[0m00\u001b[1m\u001b[0m \u001b[1m\u001b[0m00\u001b[1m\u001b[0m \u001b[1m\u001b[0m00\u001b[1m\u001b[0m \u001b[1m\u001b[0m00\u001b[1m\u001b[0m \u001b[1m\u001b[0m00\u001b[1m\u001b[0m \u001b[1m\u001b[0m00\u001b[1m\u001b[0m\n",
      "  0x3ffff850: \u001b[1m\u001b[0m00\u001b[1m\u001b[0m \u001b[1m\u001b[0m00\u001b[1m\u001b[0m \u001b[1m\u001b[0m00\u001b[1m\u001b[0m \u001b[1m\u001b[0m00\u001b[1m\u001b[0m \u001b[1m\u001b[0m00\u001b[1m\u001b[0m \u001b[1m\u001b[0m00\u001b[1m\u001b[0m \u001b[1m\u001b[0m00\u001b[1m\u001b[0m \u001b[1m\u001b[0m00\u001b[1m\u001b[0m \u001b[1m\u001b[0m00\u001b[1m\u001b[0m \u001b[1m\u001b[0m00\u001b[1m\u001b[0m \u001b[1m\u001b[0m00\u001b[1m\u001b[0m \u001b[1m\u001b[0m00\u001b[1m\u001b[0m \u001b[1m\u001b[0m00\u001b[1m\u001b[0m \u001b[1m\u001b[0m00\u001b[1m\u001b[0m \u001b[1m\u001b[0m00\u001b[1m\u001b[0m \u001b[1m\u001b[0m00\u001b[1m\u001b[0m\n",
      "  0x3ffff860: \u001b[1m\u001b[0m00\u001b[1m\u001b[0m \u001b[1m\u001b[0m00\u001b[1m\u001b[0m \u001b[1m\u001b[0m00\u001b[1m\u001b[0m \u001b[1m\u001b[0m00\u001b[1m\u001b[0m \u001b[1m\u001b[0m00\u001b[1m\u001b[0m \u001b[1m\u001b[0m00\u001b[1m\u001b[0m \u001b[1m\u001b[0m00\u001b[1m\u001b[0m \u001b[1m\u001b[0m00\u001b[1m\u001b[0m \u001b[1m\u001b[0m00\u001b[1m\u001b[0m \u001b[1m\u001b[0m00\u001b[1m\u001b[0m \u001b[1m\u001b[0m00\u001b[1m\u001b[0m \u001b[1m\u001b[0m00\u001b[1m\u001b[0m \u001b[1m\u001b[0m00\u001b[1m\u001b[0m \u001b[1m\u001b[0m00\u001b[1m\u001b[0m \u001b[1m\u001b[0m00\u001b[1m\u001b[0m \u001b[1m\u001b[0m00\u001b[1m\u001b[0m\n",
      "  0x3ffff870: \u001b[1m\u001b[0m00\u001b[1m\u001b[0m \u001b[1m\u001b[0m00\u001b[1m\u001b[0m \u001b[1m\u001b[0m00\u001b[1m\u001b[0m \u001b[1m\u001b[0m00\u001b[1m\u001b[0m \u001b[1m\u001b[0m00\u001b[1m\u001b[0m \u001b[1m\u001b[0m00\u001b[1m\u001b[0m \u001b[1m\u001b[0m00\u001b[1m\u001b[0m \u001b[1m\u001b[0m00\u001b[1m\u001b[0m \u001b[1m\u001b[0m00\u001b[1m\u001b[0m \u001b[1m\u001b[0m00\u001b[1m\u001b[0m \u001b[1m\u001b[0m00\u001b[1m\u001b[0m \u001b[1m\u001b[0m00\u001b[1m\u001b[0m \u001b[1m\u001b[0m00\u001b[1m\u001b[0m \u001b[1m\u001b[0m00\u001b[1m\u001b[0m \u001b[1m\u001b[0m00\u001b[1m\u001b[0m \u001b[1m\u001b[0m00\u001b[1m\u001b[0m\n",
      "  0x3ffff880: \u001b[1m\u001b[0m00\u001b[1m\u001b[0m \u001b[1m\u001b[0m00\u001b[1m\u001b[0m \u001b[1m\u001b[0m00\u001b[1m\u001b[0m \u001b[1m\u001b[0m00\u001b[1m\u001b[0m \u001b[1m\u001b[0m00\u001b[1m\u001b[0m \u001b[1m\u001b[0m00\u001b[1m\u001b[0m \u001b[1m\u001b[0m00\u001b[1m\u001b[0m \u001b[1m\u001b[0m00\u001b[1m\u001b[0m \u001b[1m\u001b[0m00\u001b[1m\u001b[0m \u001b[1m\u001b[0m00\u001b[1m\u001b[0m \u001b[1m\u001b[0m00\u001b[1m\u001b[0m \u001b[1m\u001b[0m00\u001b[1m\u001b[0m \u001b[1m\u001b[0m00\u001b[1m\u001b[0m \u001b[1m\u001b[0m00\u001b[1m\u001b[0m \u001b[1m\u001b[0m00\u001b[1m\u001b[0m \u001b[1m\u001b[0m00\u001b[1m\u001b[0m\n",
      "  0x3ffff890: \u001b[1m\u001b[0m00\u001b[1m\u001b[0m \u001b[1m\u001b[0m00\u001b[1m\u001b[0m \u001b[1m\u001b[0m00\u001b[1m\u001b[0m \u001b[1m\u001b[0m00\u001b[1m\u001b[0m \u001b[1m\u001b[0m00\u001b[1m\u001b[0m \u001b[1m\u001b[0m00\u001b[1m\u001b[0m \u001b[1m\u001b[0m00\u001b[1m\u001b[0m \u001b[1m\u001b[0m00\u001b[1m\u001b[0m \u001b[1m\u001b[0m00\u001b[1m\u001b[0m \u001b[1m\u001b[0m00\u001b[1m\u001b[0m \u001b[1m\u001b[0m00\u001b[1m\u001b[0m \u001b[1m\u001b[0m00\u001b[1m\u001b[0m \u001b[1m\u001b[0m00\u001b[1m\u001b[0m \u001b[1m\u001b[0m00\u001b[1m\u001b[0m \u001b[1m\u001b[0m00\u001b[1m\u001b[0m \u001b[1m\u001b[0m00\u001b[1m\u001b[0m\n",
      "Shadow byte legend (one shadow byte represents 8 application bytes):\n",
      "  Addressable:           \u001b[1m\u001b[0m00\u001b[1m\u001b[0m\n",
      "  Partially addressable: \u001b[1m\u001b[0m01\u001b[1m\u001b[0m \u001b[1m\u001b[0m02\u001b[1m\u001b[0m \u001b[1m\u001b[0m03\u001b[1m\u001b[0m \u001b[1m\u001b[0m04\u001b[1m\u001b[0m \u001b[1m\u001b[0m05\u001b[1m\u001b[0m \u001b[1m\u001b[0m06\u001b[1m\u001b[0m \u001b[1m\u001b[0m07\u001b[1m\u001b[0m \n",
      "  Heap left redzone:       \u001b[1m\u001b[31mfa\u001b[1m\u001b[0m\n",
      "  Freed heap region:       \u001b[1m\u001b[35mfd\u001b[1m\u001b[0m\n",
      "  Stack left redzone:      \u001b[1m\u001b[31mf1\u001b[1m\u001b[0m\n",
      "  Stack mid redzone:       \u001b[1m\u001b[31mf2\u001b[1m\u001b[0m\n",
      "  Stack right redzone:     \u001b[1m\u001b[31mf3\u001b[1m\u001b[0m\n",
      "  Stack after return:      \u001b[1m\u001b[35mf5\u001b[1m\u001b[0m\n",
      "  Stack use after scope:   \u001b[1m\u001b[35mf8\u001b[1m\u001b[0m\n",
      "  Global redzone:          \u001b[1m\u001b[31mf9\u001b[1m\u001b[0m\n",
      "  Global init order:       \u001b[1m\u001b[36mf6\u001b[1m\u001b[0m\n",
      "  Poisoned by user:        \u001b[1m\u001b[34mf7\u001b[1m\u001b[0m\n",
      "  Container overflow:      \u001b[1m\u001b[34mfc\u001b[1m\u001b[0m\n",
      "  Array cookie:            \u001b[1m\u001b[31mac\u001b[1m\u001b[0m\n",
      "  Intra object redzone:    \u001b[1m\u001b[33mbb\u001b[1m\u001b[0m\n",
      "  ASan internal:           \u001b[1m\u001b[33mfe\u001b[1m\u001b[0m\n",
      "  Left alloca redzone:     \u001b[1m\u001b[34mca\u001b[1m\u001b[0m\n",
      "  Right alloca redzone:    \u001b[1m\u001b[34mcb\u001b[1m\u001b[0m\n",
      "  Shadow gap:              \u001b[1m\u001b[0mcc\u001b[1m\u001b[0m\n",
      "==41564==ABORTING\n"
     ]
    }
   ],
   "source": [
    "# just overflow BUFFSIZE of 128\n",
    "! python -c 'print(\"A\"*200)' | ./so_stdio.exe"
   ]
  },
  {
   "cell_type": "markdown",
   "id": "ca858127",
   "metadata": {},
   "source": [
    "## Fixing memory leak and over-run vulnerabilities\n",
    "- find the vulnerable line of code/functions, etc. and fix it\n",
    "- see `demos/memory_leak_fixed.cpp` for demo"
   ]
  },
  {
   "cell_type": "code",
   "execution_count": 12,
   "id": "d3d11c61",
   "metadata": {},
   "outputs": [
    {
     "name": "stdout",
     "output_type": "stream",
     "text": [
      "#include <stdlib.h>\r\n",
      "#include <cstring>\r\n",
      "#include <cstdio>\r\n",
      "\r\n",
      "void f(char * arg)\r\n",
      "{\r\n",
      "\t// C dynamic memory\r\n",
      "\tint* x = (int *)malloc(10 * sizeof(int));\r\n",
      "\t// C++ dynamic memory\r\n",
      "\tchar* name = new char[20];\r\n",
      "\r\n",
      "\tx[9] = 0; // problem 1: heap block overrun\r\n",
      "\t\t\t// problem 2: memory leak -- x not freed\r\n",
      "\tstrncpy(name, arg, sizeof(char)*20-1);\r\n",
      "\tname[19] = '\\0';\r\n",
      "\t// problem 3: heap block overrun\r\n",
      "\t// problem 4: memory leak -- name not freed\r\n",
      "\tprintf(\"Hello %s\\n\", name);\r\n",
      "\tfree(x); // C\r\n",
      "\tdelete[] name; // C++\r\n",
      "}\r\n",
      "\r\n",
      "int main(int argc, char* argv[1])\r\n",
      "{\r\n",
      "\t// what if f() is called over and again in an infinite loop, e.g. \r\n",
      "\tf(argv[1]);\r\n",
      "\treturn 0;\r\n",
      "}\r\n"
     ]
    }
   ],
   "source": [
    "! cat demos/memory_leak_fixed.cpp"
   ]
  },
  {
   "cell_type": "code",
   "execution_count": 13,
   "id": "e2632f1d",
   "metadata": {},
   "outputs": [],
   "source": [
    "# compile with -g -o0 options to use with valgrind\n",
    "! g++ -m32 -g -o0 demos/memory_leak_fixed.cpp -o memory_leak_fixed.exe"
   ]
  },
  {
   "cell_type": "code",
   "execution_count": 14,
   "id": "e4ff965d",
   "metadata": {},
   "outputs": [
    {
     "name": "stdout",
     "output_type": "stream",
     "text": [
      "Hello some very very very\r\n"
     ]
    }
   ],
   "source": [
    "# manually check the fix\n",
    "! ./memory_leak_fixed.exe \"some very very very very long string\""
   ]
  },
  {
   "cell_type": "code",
   "execution_count": 15,
   "id": "52f2c5c7",
   "metadata": {},
   "outputs": [
    {
     "name": "stdout",
     "output_type": "stream",
     "text": [
      "==41501== Memcheck, a memory error detector\n",
      "==41501== Copyright (C) 2002-2017, and GNU GPL'd, by Julian Seward et al.\n",
      "==41501== Using Valgrind-3.18.1 and LibVEX; rerun with -h for copyright info\n",
      "==41501== Command: ./memory_leak_fixed.exe some\\ very\\ very\\ very\\ very\\ long\\ string\n",
      "==41501== \n",
      "Hello some very very very\n",
      "==41501== \n",
      "==41501== HEAP SUMMARY:\n",
      "==41501==     in use at exit: 0 bytes in 0 blocks\n",
      "==41501==   total heap usage: 4 allocs, 4 frees, 20,028 bytes allocated\n",
      "==41501== \n",
      "==41501== All heap blocks were freed -- no leaks are possible\n",
      "==41501== \n",
      "==41501== For lists of detected and suppressed errors, rerun with: -s\n",
      "==41501== ERROR SUMMARY: 0 errors from 0 contexts (suppressed: 0 from 0)\n"
     ]
    }
   ],
   "source": [
    "# check with valgrind\n",
    "! valgrind --leak-check=yes ./memory_leak_fixed.exe \"some very very very very long string\""
   ]
  },
  {
   "cell_type": "code",
   "execution_count": null,
   "id": "fd029b74",
   "metadata": {},
   "outputs": [],
   "source": []
  }
 ],
 "metadata": {
  "kernelspec": {
   "display_name": "Python 3",
   "language": "python",
   "name": "python3"
  },
  "language_info": {
   "codemirror_mode": {
    "name": "ipython",
    "version": 3
   },
   "file_extension": ".py",
   "mimetype": "text/x-python",
   "name": "python",
   "nbconvert_exporter": "python",
   "pygments_lexer": "ipython3",
   "version": "3.8.10"
  }
 },
 "nbformat": 4,
 "nbformat_minor": 5
}
