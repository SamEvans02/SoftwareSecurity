{
 "cells": [
  {
   "cell_type": "markdown",
   "metadata": {},
   "source": [
    "# Buffer Overflow Protections\n",
    "- modern kernel and compilers provide various proctections from bufferoverlow attacks\n",
    "- Reference: https://ocw.cs.pub.ro/courses/cns/labs/lab-06"
   ]
  },
  {
   "cell_type": "markdown",
   "metadata": {},
   "source": [
    "## 1. ASLR - Address Space Layout Randomization\n",
    "- Kernel specific protection\n",
    "- loads the stack, data and program in random memory locations making it difficult to guess their addresses\n",
    "\n",
    "- the following segments are possible to randomize on x86:\n",
    "    - **stack** is easily randomizable, as all stack addresses are relative to `esp` or `ebp`\n",
    "    - **Data segment** may be randomized, if e.g., the data segment is set to a random value\n",
    "    - **Code** can only be randomized by comiling the program as Position Independent Code/Position Independent Executable\n",
    "       - default for shared libraries, but otherwise executable code is usually placed at fixed addresses\n",
    "\n",
    "### ASLR values\n",
    "- Linux allows 3 options:\n",
    "    - 0: disabled\n",
    "    - 1: randomize stack, vdso, libraries (except data? not sure...)\n",
    "    - 2: enabled (including data segment - default value)\n",
    "    \n",
    "### checking ASLR\n",
    "- compile and run demos/aslr.cpp program to check ASLR\n",
    "- run gdb-peda \n",
    "\n",
    "    ```bash\n",
    "    aslr # run aslr command\n",
    "    ASLR is OFF # output\n",
    "    ```"
   ]
  },
  {
   "cell_type": "code",
   "execution_count": 1,
   "metadata": {},
   "outputs": [
    {
     "name": "stdout",
     "output_type": "stream",
     "text": [
      "[sudo] password for kali: 0\r\n"
     ]
    }
   ],
   "source": [
    "! echo kali | sudo -S cat /proc/sys/kernel/randomize_va_space"
   ]
  },
  {
   "cell_type": "code",
   "execution_count": 2,
   "metadata": {},
   "outputs": [
    {
     "name": "stdout",
     "output_type": "stream",
     "text": [
      "// aslr.cpp - program to check address space layout randomization\r\n",
      "// compile and run the program multiple times\r\n",
      "// if you see same value for $esp, ASLR is disabled\r\n",
      "// $ g++ -g -m 32 -o aslr.exe aslr.cpp\r\n",
      "#include <stdio.h>\r\n",
      "#include <iostream>\r\n",
      "using namespace std;\r\n",
      "\r\n",
      "int global_var = 100; // data segment\r\n",
      "char global_name[20]; // bss segment\r\n",
      "\r\n",
      "int main(void) {\r\n",
      "    char buffer[] = \"Hello World!\";\r\n",
      "    register int esp asm(\"esp\");\r\n",
      "    register int ebp asm(\"ebp\");\r\n",
      "    cout << \"Registers info:\\n\";\r\n",
      "    cout << \"===============\\n\";\r\n",
      "    printf(\"$esp = %p\\n\", esp);\r\n",
      "    printf(\"$ebp = %p\\n\", ebp);\r\n",
      "    cout << \"\\nData and BSS segement\\n\";\r\n",
      "    cout << \"======================\\n\";\r\n",
      "    printf(\"global_var is at: %p\\n\", &global_var);\r\n",
      "    printf(\"global_name is at: %p\\n\", global_name);\r\n",
      "    cout << \"\\nStack variable:\\n\";\r\n",
      "    cout << \"===============\\n\";\r\n",
      "    printf(\"buffer is at: %p\\n\", buffer);\r\n",
      "    cout << \"\\nCode segment:\\n\";\r\n",
      "    cout << \"=============\\n\";\r\n",
      "    printf(\"main is at %p\\n\", main);\r\n",
      "    cout << \"\\nShared library code\\n\";\r\n",
      "    cout << \"=====================\\n\";\r\n",
      "    printf(\"printf is at %p\\n\", printf);\r\n",
      "    printf(\"cout is at %p\\n\", &cout); // cout is an operator\r\n",
      "    return 0;\r\n",
      "}"
     ]
    }
   ],
   "source": [
    "! cat demos/aslr/aslr.cpp"
   ]
  },
  {
   "cell_type": "code",
   "execution_count": 3,
   "metadata": {},
   "outputs": [],
   "source": [
    "%%bash\n",
    "input=\"demos/aslr/aslr.cpp\"\n",
    "output=\"aslr.exe\"\n",
    "g++ -m32 $input -o $output"
   ]
  },
  {
   "cell_type": "code",
   "execution_count": 4,
   "metadata": {},
   "outputs": [
    {
     "name": "stdout",
     "output_type": "stream",
     "text": [
      "Registers info:\r\n",
      "===============\r\n",
      "$esp = 0xffffc350\r\n",
      "$ebp = 0xffffc368\r\n",
      "\r\n",
      "Data and BSS segement\r\n",
      "======================\r\n",
      "global_var is at: 0x56559024\r\n",
      "global_name is at: 0x5655902c\r\n",
      "\r\n",
      "Stack variable:\r\n",
      "===============\r\n",
      "buffer is at: 0xffffc353\r\n",
      "\r\n",
      "Code segment:\r\n",
      "=============\r\n",
      "main is at 0x565561b9\r\n",
      "\r\n",
      "Shared library code\r\n",
      "=====================\r\n",
      "printf is at 0xf7c50f80\r\n",
      "cout is at 0xf7faec00\r\n"
     ]
    }
   ],
   "source": [
    "! ./aslr.exe | tee aslr2-1.txt"
   ]
  },
  {
   "cell_type": "code",
   "execution_count": 5,
   "metadata": {},
   "outputs": [
    {
     "name": "stdout",
     "output_type": "stream",
     "text": [
      "Registers info:\r\n",
      "===============\r\n",
      "$esp = 0xffffc350\r\n",
      "$ebp = 0xffffc368\r\n",
      "\r\n",
      "Data and BSS segement\r\n",
      "======================\r\n",
      "global_var is at: 0x56559024\r\n",
      "global_name is at: 0x5655902c\r\n",
      "\r\n",
      "Stack variable:\r\n",
      "===============\r\n",
      "buffer is at: 0xffffc353\r\n",
      "\r\n",
      "Code segment:\r\n",
      "=============\r\n",
      "main is at 0x565561b9\r\n",
      "\r\n",
      "Shared library code\r\n",
      "=====================\r\n",
      "printf is at 0xf7c50f80\r\n",
      "cout is at 0xf7faec00\r\n"
     ]
    }
   ],
   "source": [
    "! ./aslr.exe | tee aslr2-2.txt"
   ]
  },
  {
   "cell_type": "code",
   "execution_count": 6,
   "metadata": {},
   "outputs": [],
   "source": [
    "# run the diff of aslr2-1.txt and aslr2-2.txt\n",
    "! diff aslr2-1.txt aslr2-2.txt"
   ]
  },
  {
   "cell_type": "code",
   "execution_count": 7,
   "metadata": {},
   "outputs": [
    {
     "name": "stdout",
     "output_type": "stream",
     "text": [
      "\tlinux-gate.so.1 (0xf7fd1000)\r\n",
      "\tlibstdc++.so.6 => /lib32/libstdc++.so.6 (0xf7de1000)\r\n",
      "\tlibc.so.6 => /lib32/libc.so.6 (0xf7bf8000)\r\n",
      "\tlibm.so.6 => /lib32/libm.so.6 (0xf7af4000)\r\n",
      "\t/lib/ld-linux.so.2 (0xf7fd3000)\r\n",
      "\tlibgcc_s.so.1 => /lib32/libgcc_s.so.1 (0xf7ad5000)\r\n"
     ]
    }
   ],
   "source": [
    "# ldd invokes the standard dynamic linker with LD_TRACE_LOADED OBJECTS\n",
    "# causes the dynamic linker to inspect the program's dynamic dependencies and the objects\n",
    "! ldd ./aslr.exe"
   ]
  },
  {
   "cell_type": "code",
   "execution_count": 8,
   "metadata": {},
   "outputs": [
    {
     "name": "stdout",
     "output_type": "stream",
     "text": [
      "\tlinux-gate.so.1 (0xf7fd1000)\r\n",
      "\tlibstdc++.so.6 => /lib32/libstdc++.so.6 (0xf7de1000)\r\n",
      "\tlibc.so.6 => /lib32/libc.so.6 (0xf7bf8000)\r\n",
      "\tlibm.so.6 => /lib32/libm.so.6 (0xf7af4000)\r\n",
      "\t/lib/ld-linux.so.2 (0xf7fd3000)\r\n",
      "\tlibgcc_s.so.1 => /lib32/libgcc_s.so.1 (0xf7ad5000)\r\n"
     ]
    }
   ],
   "source": [
    "! ldd ./aslr.exe"
   ]
  },
  {
   "cell_type": "markdown",
   "metadata": {},
   "source": [
    "### Set ASLR to option 1\n",
    "- randomize stack, vdso, libraries (except data?)\n",
    "- actually, global data and bss segments are also randomized!"
   ]
  },
  {
   "cell_type": "code",
   "execution_count": 12,
   "metadata": {},
   "outputs": [
    {
     "name": "stdout",
     "output_type": "stream",
     "text": [
      "[sudo] password for kali: 1\r\n"
     ]
    }
   ],
   "source": [
    "! echo kali | sudo -S bash -c 'echo 1 | sudo -S tee /proc/sys/kernel/randomize_va_space'"
   ]
  },
  {
   "cell_type": "code",
   "execution_count": 13,
   "metadata": {},
   "outputs": [
    {
     "name": "stdout",
     "output_type": "stream",
     "text": [
      "[sudo] password for kali: 1\r\n"
     ]
    }
   ],
   "source": [
    "! echo kali | sudo -S cat /proc/sys/kernel/randomize_va_space"
   ]
  },
  {
   "cell_type": "code",
   "execution_count": 14,
   "metadata": {},
   "outputs": [
    {
     "name": "stdout",
     "output_type": "stream",
     "text": [
      "Registers info:\r\n",
      "===============\r\n",
      "$esp = 0xffa8b720\r\n",
      "$ebp = 0xffa8b738\r\n",
      "\r\n",
      "Data and BSS segement\r\n",
      "======================\r\n",
      "global_var is at: 0x565be024\r\n",
      "global_name is at: 0x565be02c\r\n",
      "\r\n",
      "Stack variable:\r\n",
      "===============\r\n",
      "buffer is at: 0xffa8b723\r\n",
      "\r\n",
      "Code segment:\r\n",
      "=============\r\n",
      "main is at 0x565bb1b9\r\n",
      "\r\n",
      "Shared library code\r\n",
      "=====================\r\n",
      "printf is at 0xf7c4ff80\r\n",
      "cout is at 0xf7fadc00\r\n"
     ]
    }
   ],
   "source": [
    "! ./aslr.exe | tee aslr1-1.txt"
   ]
  },
  {
   "cell_type": "code",
   "execution_count": 15,
   "metadata": {},
   "outputs": [
    {
     "name": "stdout",
     "output_type": "stream",
     "text": [
      "Registers info:\r\n",
      "===============\r\n",
      "$esp = 0xffd808d0\r\n",
      "$ebp = 0xffd808e8\r\n",
      "\r\n",
      "Data and BSS segement\r\n",
      "======================\r\n",
      "global_var is at: 0x565a7024\r\n",
      "global_name is at: 0x565a702c\r\n",
      "\r\n",
      "Stack variable:\r\n",
      "===============\r\n",
      "buffer is at: 0xffd808d3\r\n",
      "\r\n",
      "Code segment:\r\n",
      "=============\r\n",
      "main is at 0x565a41b9\r\n",
      "\r\n",
      "Shared library code\r\n",
      "=====================\r\n",
      "printf is at 0xf7ba2f80\r\n",
      "cout is at 0xf7f00c00\r\n"
     ]
    }
   ],
   "source": [
    "! ./aslr.exe | tee aslr1-2.txt"
   ]
  },
  {
   "cell_type": "code",
   "execution_count": 16,
   "metadata": {},
   "outputs": [
    {
     "name": "stdout",
     "output_type": "stream",
     "text": [
      "3,4c3,4\r\n",
      "< $esp = 0xffa8b720\r\n",
      "< $ebp = 0xffa8b738\r\n",
      "---\r\n",
      "> $esp = 0xffd808d0\r\n",
      "> $ebp = 0xffd808e8\r\n",
      "8,9c8,9\r\n",
      "< global_var is at: 0x565be024\r\n",
      "< global_name is at: 0x565be02c\r\n",
      "---\r\n",
      "> global_var is at: 0x565a7024\r\n",
      "> global_name is at: 0x565a702c\r\n",
      "13c13\r\n",
      "< buffer is at: 0xffa8b723\r\n",
      "---\r\n",
      "> buffer is at: 0xffd808d3\r\n",
      "17c17\r\n",
      "< main is at 0x565bb1b9\r\n",
      "---\r\n",
      "> main is at 0x565a41b9\r\n",
      "21,22c21,22\r\n",
      "< printf is at 0xf7c4ff80\r\n",
      "< cout is at 0xf7fadc00\r\n",
      "---\r\n",
      "> printf is at 0xf7ba2f80\r\n",
      "> cout is at 0xf7f00c00\r\n"
     ]
    }
   ],
   "source": [
    "! diff aslr1-1.txt aslr1-2.txt"
   ]
  },
  {
   "cell_type": "code",
   "execution_count": 17,
   "metadata": {},
   "outputs": [
    {
     "name": "stdout",
     "output_type": "stream",
     "text": [
      "\tlinux-gate.so.1 (0xf7ed7000)\r\n",
      "\tlibstdc++.so.6 => /lib32/libstdc++.so.6 (0xf7ce7000)\r\n",
      "\tlibc.so.6 => /lib32/libc.so.6 (0xf7afe000)\r\n",
      "\tlibm.so.6 => /lib32/libm.so.6 (0xf79fa000)\r\n",
      "\t/lib/ld-linux.so.2 (0xf7ed9000)\r\n",
      "\tlibgcc_s.so.1 => /lib32/libgcc_s.so.1 (0xf79db000)\r\n"
     ]
    }
   ],
   "source": [
    "! ldd ./aslr.exe"
   ]
  },
  {
   "cell_type": "code",
   "execution_count": 18,
   "metadata": {},
   "outputs": [
    {
     "name": "stdout",
     "output_type": "stream",
     "text": [
      "\tlinux-gate.so.1 (0xf7f64000)\r\n",
      "\tlibstdc++.so.6 => /lib32/libstdc++.so.6 (0xf7d74000)\r\n",
      "\tlibc.so.6 => /lib32/libc.so.6 (0xf7b8b000)\r\n",
      "\tlibm.so.6 => /lib32/libm.so.6 (0xf7a87000)\r\n",
      "\t/lib/ld-linux.so.2 (0xf7f66000)\r\n",
      "\tlibgcc_s.so.1 => /lib32/libgcc_s.so.1 (0xf7a68000)\r\n"
     ]
    }
   ],
   "source": [
    "! ldd ./aslr.exe"
   ]
  },
  {
   "cell_type": "markdown",
   "metadata": {},
   "source": [
    "### Set ASLR to option 0\n",
    "- disable ASLR"
   ]
  },
  {
   "cell_type": "code",
   "execution_count": 19,
   "metadata": {},
   "outputs": [
    {
     "name": "stdout",
     "output_type": "stream",
     "text": [
      "[sudo] password for kali: 0\r\n"
     ]
    }
   ],
   "source": [
    "! echo kali | sudo -S bash -c 'echo 0 | sudo tee /proc/sys/kernel/randomize_va_space'"
   ]
  },
  {
   "cell_type": "code",
   "execution_count": 20,
   "metadata": {},
   "outputs": [
    {
     "name": "stdout",
     "output_type": "stream",
     "text": [
      "[sudo] password for kali: 0\r\n"
     ]
    }
   ],
   "source": [
    "! echo kali | sudo -S cat /proc/sys/kernel/randomize_va_space"
   ]
  },
  {
   "cell_type": "code",
   "execution_count": 21,
   "metadata": {},
   "outputs": [
    {
     "name": "stdout",
     "output_type": "stream",
     "text": [
      "Registers info:\r\n",
      "===============\r\n",
      "$esp = 0xffffc370\r\n",
      "$ebp = 0xffffc388\r\n",
      "\r\n",
      "Data and BSS segement\r\n",
      "======================\r\n",
      "global_var is at: 0x56559024\r\n",
      "global_name is at: 0x5655902c\r\n",
      "\r\n",
      "Stack variable:\r\n",
      "===============\r\n",
      "buffer is at: 0xffffc373\r\n",
      "\r\n",
      "Code segment:\r\n",
      "=============\r\n",
      "main is at 0x565561b9\r\n",
      "\r\n",
      "Shared library code\r\n",
      "=====================\r\n",
      "printf is at 0xf7c50f80\r\n",
      "cout is at 0xf7faec00\r\n"
     ]
    }
   ],
   "source": [
    "! ./aslr.exe | tee aslr0-1.txt"
   ]
  },
  {
   "cell_type": "code",
   "execution_count": 22,
   "metadata": {},
   "outputs": [
    {
     "name": "stdout",
     "output_type": "stream",
     "text": [
      "Registers info:\r\n",
      "===============\r\n",
      "$esp = 0xffffc370\r\n",
      "$ebp = 0xffffc388\r\n",
      "\r\n",
      "Data and BSS segement\r\n",
      "======================\r\n",
      "global_var is at: 0x56559024\r\n",
      "global_name is at: 0x5655902c\r\n",
      "\r\n",
      "Stack variable:\r\n",
      "===============\r\n",
      "buffer is at: 0xffffc373\r\n",
      "\r\n",
      "Code segment:\r\n",
      "=============\r\n",
      "main is at 0x565561b9\r\n",
      "\r\n",
      "Shared library code\r\n",
      "=====================\r\n",
      "printf is at 0xf7c50f80\r\n",
      "cout is at 0xf7faec00\r\n"
     ]
    }
   ],
   "source": [
    "! ./aslr.exe | tee aslr0-2.txt"
   ]
  },
  {
   "cell_type": "code",
   "execution_count": 23,
   "metadata": {},
   "outputs": [],
   "source": [
    "! diff aslr0-1.txt aslr0-2.txt\n",
    "# no difference!"
   ]
  },
  {
   "cell_type": "code",
   "execution_count": 25,
   "metadata": {},
   "outputs": [
    {
     "name": "stdout",
     "output_type": "stream",
     "text": [
      "\tlinux-gate.so.1 (0xf7fd1000)\r\n",
      "\tlibstdc++.so.6 => /lib32/libstdc++.so.6 (0xf7de1000)\r\n",
      "\tlibc.so.6 => /lib32/libc.so.6 (0xf7bf8000)\r\n",
      "\tlibm.so.6 => /lib32/libm.so.6 (0xf7af4000)\r\n",
      "\t/lib/ld-linux.so.2 (0xf7fd3000)\r\n",
      "\tlibgcc_s.so.1 => /lib32/libgcc_s.so.1 (0xf7ad5000)\r\n"
     ]
    }
   ],
   "source": [
    "! ldd ./aslr.exe"
   ]
  },
  {
   "cell_type": "code",
   "execution_count": 26,
   "metadata": {},
   "outputs": [
    {
     "name": "stdout",
     "output_type": "stream",
     "text": [
      "\tlinux-gate.so.1 (0xf7fd1000)\r\n",
      "\tlibstdc++.so.6 => /lib32/libstdc++.so.6 (0xf7de1000)\r\n",
      "\tlibc.so.6 => /lib32/libc.so.6 (0xf7bf8000)\r\n",
      "\tlibm.so.6 => /lib32/libm.so.6 (0xf7af4000)\r\n",
      "\t/lib/ld-linux.so.2 (0xf7fd3000)\r\n",
      "\tlibgcc_s.so.1 => /lib32/libgcc_s.so.1 (0xf7ad5000)\r\n"
     ]
    }
   ],
   "source": [
    "! ldd ./aslr.exe"
   ]
  },
  {
   "cell_type": "markdown",
   "metadata": {},
   "source": [
    "#### Allow ptrace processes\n",
    "**ptrace** - allows parent process to observe and control the execution of another process\n",
    "- used primarily to implement breakpoint debugging and system call tracing"
   ]
  },
  {
   "cell_type": "code",
   "execution_count": 7,
   "metadata": {},
   "outputs": [
    {
     "name": "stdout",
     "output_type": "stream",
     "text": [
      "kernel.yama.ptrace_scope = 0\n"
     ]
    },
    {
     "name": "stderr",
     "output_type": "stream",
     "text": [
      "[sudo] password for kali: "
     ]
    }
   ],
   "source": [
    "# check the ptrace value\n",
    "! echo kali | sudo -S sysctl kernel.yama.ptrace_scope"
   ]
  },
  {
   "cell_type": "code",
   "execution_count": 8,
   "metadata": {},
   "outputs": [
    {
     "name": "stdout",
     "output_type": "stream",
     "text": [
      "kernel.yama.ptrace_scope = 0\n"
     ]
    },
    {
     "name": "stderr",
     "output_type": "stream",
     "text": [
      "[sudo] password for kali: "
     ]
    }
   ],
   "source": [
    "# set the ptrace value\n",
    "! echo kali | sudo -S sysctl -w kernel.yama.ptrace_scope=0"
   ]
  },
  {
   "cell_type": "markdown",
   "metadata": {},
   "source": [
    "### 2. PIE\n",
    "- Position Independent Executable\n",
    "- randomizes Code segment base address\n",
    "- randomizes GOT (Global Offset Table for global data-variables) and PLT (Procedure Linkage Table)\n",
    "    - PLT addresses are fixed during  linking to load the libc.so library codes/functions\n",
    "    - shared libraries are position independent code (PIC); they don't know where they are being loaded\n",
    "- disable PIE in gcc/g++ using **-no-pie** flag"
   ]
  },
  {
   "cell_type": "markdown",
   "metadata": {},
   "source": [
    "### 3. Executable Stack Protection (NX) also called (DEP)\n",
    "- also called DEP - Data Execution Prevention\n",
    "- in newer g++, programs must be compiled by disabling stack protector to execute code injected into stack\n",
    "- check executable stack:\n",
    "`$ readelf -l <filename>`\n",
    "- note the line: \n",
    "GNU_STACK      0x000000 0x00000000 0x00000000 0x00000 0x00000 RW  0x10\n",
    "RW \n",
    "- RW - Read and Write but not Executable\n",
    "- RWE - Read, Write, and Executable"
   ]
  },
  {
   "cell_type": "code",
   "execution_count": 10,
   "metadata": {},
   "outputs": [
    {
     "name": "stdout",
     "output_type": "stream",
     "text": [
      "  GNU_STACK      0x000000 0x00000000 0x00000000 0x00000 0x00000 RW  0x10\n"
     ]
    }
   ],
   "source": [
    "%%bash\n",
    "in=./demos/hello.cpp\n",
    "out=hello\n",
    "g++ -g -m32 -o $out $in \n",
    "\n",
    "readelf -l $out | grep GNU_STACK"
   ]
  },
  {
   "cell_type": "markdown",
   "metadata": {},
   "source": [
    "#### enable RWX/disable DEP\n",
    "- compile the program using -z execstack switch of gcc/g++"
   ]
  },
  {
   "cell_type": "code",
   "execution_count": 11,
   "metadata": {
    "scrolled": true
   },
   "outputs": [
    {
     "name": "stdout",
     "output_type": "stream",
     "text": [
      "  GNU_STACK      0x000000 0x00000000 0x00000000 0x00000 0x00000 RWE 0x10\n"
     ]
    }
   ],
   "source": [
    "%%bash\n",
    "in=./demos/hello.cpp\n",
    "out=hello\n",
    "g++ -g -m32 -z execstack -o $out $in \n",
    "\n",
    "readelf -l $out | grep GNU_STACK"
   ]
  },
  {
   "cell_type": "markdown",
   "metadata": {},
   "source": [
    "### 4. Stack Canaries\n",
    "- \"canary in a coal mine\" to detect carbon monoxide by using a warm blooded animal like a bird\n",
    "- place a small random integer just before the stack return address\n",
    "    - if the value is overwritten/corrupted during the function call, there's a stack overflow overflow attempt!\n",
    "- use **-fno-stack-protector** flag in gcc/g++ to disable canaries"
   ]
  },
  {
   "cell_type": "code",
   "execution_count": null,
   "metadata": {},
   "outputs": [],
   "source": []
  }
 ],
 "metadata": {
  "kernelspec": {
   "display_name": "Python 3",
   "language": "python",
   "name": "python3"
  },
  "language_info": {
   "codemirror_mode": {
    "name": "ipython",
    "version": 3
   },
   "file_extension": ".py",
   "mimetype": "text/x-python",
   "name": "python",
   "nbconvert_exporter": "python",
   "pygments_lexer": "ipython3",
   "version": "3.8.5"
  }
 },
 "nbformat": 4,
 "nbformat_minor": 2
}
