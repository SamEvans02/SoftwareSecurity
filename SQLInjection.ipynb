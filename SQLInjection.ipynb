{
 "cells": [
  {
   "cell_type": "markdown",
   "metadata": {},
   "source": [
    "# SQL Injection Attack\n",
    "\n",
    "- Details - [https://owasp.org/www-community/attacks/SQL_Injection](https://owasp.org/www-community/attacks/SQL_Injection)\n",
    "- attack consists of insertion or \"injection\" of a SQL query via the input data from the client to the application\n",
    "- a successful attack violates all three principles of CIA (Confidentialiy, Integrity and Availablity) and more\n",
    "\n",
    "## Consequences\n",
    "- the main consequences are:\n",
    "\n",
    "### Confidentiality\n",
    "- exploit can read unauthorized sensitive data violating confidentiality of the data\n",
    "    \n",
    "### Integrity\n",
    "- exploit can alter unauthrized sensitive data violating integrity of the data\n",
    "\n",
    "### Availability\n",
    "- exploit can delete data by dropping table or the whole database viloating availability of the data\n",
    "\n",
    "### Authentication\n",
    "- exploit allows an attacker to authenticate to a vulnerable application as someone else without the knowledge of password\n",
    "\n",
    "### Authorization\n",
    "- if access control and authrizaton information is held on the SQL database, it can be modified as well e.g., allowing a regular user all the priviledges of an administrative user\n",
    "\n",
    "## Risk Factors\n",
    "- the platform affected ared:\n",
    "    - Language: SQL - Structured query language\n",
    "    - Platform: Any that interacts with a SQL database\n",
    "- SQL injection has become a common issue with SQL-based web applications\n",
    "- the flaw can be easily deteced and exploited as well as mitigated\n",
    "\n",
    "## Programming Flaw\n",
    "- developers simply trust the user input and concatenates the user input as part of the SQL query that's sent to the database engine\n",
    "- the flaw is not specific to any programming language API used to connect to the SQL database; but affects all the languages if not done correctly!\n",
    "- attack is accomplished by placing/injecting a meta character into data input thus fooling the application to execute the injected SQL and forcing the application to do things that was not intended by the developers\n",
    "\n",
    "## Examples\n",
    "- the following example demonstrates C++ language interaction with the SQL database"
   ]
  },
  {
   "cell_type": "code",
   "execution_count": 1,
   "metadata": {},
   "outputs": [],
   "source": [
    "#include <string>\n",
    "#include <iostream>\n",
    "\n",
    "using namespace std;"
   ]
  },
  {
   "cell_type": "code",
   "execution_count": 2,
   "metadata": {},
   "outputs": [],
   "source": [
    "string username, password, sql;"
   ]
  },
  {
   "cell_type": "code",
   "execution_count": 3,
   "metadata": {},
   "outputs": [
    {
     "name": "stdout",
     "output_type": "stream",
     "text": [
      "enter username: user\n"
     ]
    }
   ],
   "source": [
    "cout << \"enter username: \";\n",
    "cin >> username;"
   ]
  },
  {
   "cell_type": "code",
   "execution_count": 4,
   "metadata": {},
   "outputs": [
    {
     "name": "stdout",
     "output_type": "stream",
     "text": [
      "enter password: user\n"
     ]
    }
   ],
   "source": [
    "cout << \"enter password: \";\n",
    "cin >> password;"
   ]
  },
  {
   "cell_type": "code",
   "execution_count": 7,
   "metadata": {},
   "outputs": [],
   "source": [
    "sql = \"select uid, username, password from account where username='\"+username+\"' and password='\"+password+\"'\";"
   ]
  },
  {
   "cell_type": "code",
   "execution_count": 8,
   "metadata": {},
   "outputs": [
    {
     "data": {
      "text/plain": [
       "\"select uid, username, password from account where username='user' and password='user'\""
      ]
     },
     "execution_count": 8,
     "metadata": {},
     "output_type": "execute_result"
    }
   ],
   "source": [
    "sql"
   ]
  },
  {
   "cell_type": "markdown",
   "metadata": {},
   "source": [
    "### what if the attackers provided\n",
    "- username: yada' or 1=1' --\n",
    "- password: who cares?"
   ]
  },
  {
   "cell_type": "code",
   "execution_count": 9,
   "metadata": {},
   "outputs": [
    {
     "name": "stdout",
     "output_type": "stream",
     "text": [
      "enter username: yada' or 1=1; --\n"
     ]
    }
   ],
   "source": [
    "cout << \"enter username: \";\n",
    "getline(cin, username);"
   ]
  },
  {
   "cell_type": "code",
   "execution_count": 10,
   "metadata": {},
   "outputs": [
    {
     "name": "stdout",
     "output_type": "stream",
     "text": [
      "enter password: who cares?\n"
     ]
    }
   ],
   "source": [
    "cout << \"enter password: \";\n",
    "getline(cin, password);"
   ]
  },
  {
   "cell_type": "code",
   "execution_count": 11,
   "metadata": {},
   "outputs": [],
   "source": [
    "sql = \"select uid, username, password from account where username='\"+username+\"' and password='\"+password+\"'\";"
   ]
  },
  {
   "cell_type": "code",
   "execution_count": 12,
   "metadata": {},
   "outputs": [
    {
     "data": {
      "text/plain": [
       "\"select uid, username, password from account where username='yada' or 1=1; --' and password='who cares?'\""
      ]
     },
     "execution_count": 12,
     "metadata": {},
     "output_type": "execute_result"
    }
   ],
   "source": [
    "sql"
   ]
  },
  {
   "cell_type": "markdown",
   "metadata": {},
   "source": [
    "## SQL Injection Demos\n",
    "- see demos/SQL/injection folder"
   ]
  },
  {
   "cell_type": "code",
   "execution_count": null,
   "metadata": {},
   "outputs": [],
   "source": []
  }
 ],
 "metadata": {
  "kernelspec": {
   "display_name": "C++14",
   "language": "C++14",
   "name": "xcpp14"
  },
  "language_info": {
   "codemirror_mode": "text/x-c++src",
   "file_extension": ".cpp",
   "mimetype": "text/x-c++src",
   "name": "c++",
   "version": "14"
  }
 },
 "nbformat": 4,
 "nbformat_minor": 4
}
