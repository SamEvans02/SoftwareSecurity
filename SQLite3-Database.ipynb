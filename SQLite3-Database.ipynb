{
 "cells": [
  {
   "cell_type": "markdown",
   "metadata": {},
   "source": [
    "# SQLite Database\n",
    "\n",
    "- SQLite is an open-source software library that implements a self-contained, serverless, zero-configuration, transactional SQL database engine\n",
    "- SQLite is the most widely deployed SQL database engine in the world\n",
    "- for more on SQLite database, visit [https://sqlite.org/index.html](https://sqlite.org/index.html)\n",
    "\n",
    "## Installation\n",
    "- SQLite is cross-platform\n",
    "- on Linux install sqlite3 (core SQL enigine), libsqlite3-dev (developer API), and sqlitebrowser (GUI sqlite3 db editor)"
   ]
  },
  {
   "cell_type": "code",
   "execution_count": 3,
   "metadata": {},
   "outputs": [
    {
     "name": "stdout",
     "output_type": "stream",
     "text": [
      "[sudo] password for kali: \n",
      "WARNING: apt does not have a stable CLI interface. Use with caution in scripts.\n",
      "\n",
      "Reading package lists...\n",
      "Building dependency tree...\n",
      "Reading state information...\n",
      "sqlite3 is already the newest version (3.33.0-1).\n",
      "The following packages were automatically installed and are no longer required:\n",
      "  libcdio18 libgtksourceview2.0-0 libgtksourceview2.0-common libmpdec2\n",
      "  libprotobuf22 libpython3.8 libpython3.8-dev libqt5opengl5 libx264-155\n",
      "  libx264-159 libxml-dom-perl libxml-perl libxml-regexp-perl libyara3\n",
      "  python-cairo python-chardet python-dbus python-enchant python-gi\n",
      "  python-gobject-2 python-numpy python-pkg-resources python3.8-dev\n",
      "Use 'sudo apt autoremove' to remove them.\n",
      "0 upgraded, 0 newly installed, 0 to remove and 877 not upgraded.\n"
     ]
    }
   ],
   "source": [
    "! echo kali | sudo -S apt install sqlite3"
   ]
  },
  {
   "cell_type": "code",
   "execution_count": 4,
   "metadata": {},
   "outputs": [
    {
     "name": "stdout",
     "output_type": "stream",
     "text": [
      "[sudo] password for kali: \n",
      "WARNING: apt does not have a stable CLI interface. Use with caution in scripts.\n",
      "\n",
      "Reading package lists...\n",
      "Building dependency tree...\n",
      "Reading state information...\n",
      "libsqlite3-dev is already the newest version (3.33.0-1).\n",
      "The following packages were automatically installed and are no longer required:\n",
      "  libcdio18 libgtksourceview2.0-0 libgtksourceview2.0-common libmpdec2\n",
      "  libprotobuf22 libpython3.8 libpython3.8-dev libqt5opengl5 libx264-155\n",
      "  libx264-159 libxml-dom-perl libxml-perl libxml-regexp-perl libyara3\n",
      "  python-cairo python-chardet python-dbus python-enchant python-gi\n",
      "  python-gobject-2 python-numpy python-pkg-resources python3.8-dev\n",
      "Use 'sudo apt autoremove' to remove them.\n",
      "0 upgraded, 0 newly installed, 0 to remove and 877 not upgraded.\n"
     ]
    }
   ],
   "source": [
    "! echo kali | sudo -S apt install libsqlite3-dev"
   ]
  },
  {
   "cell_type": "code",
   "execution_count": 7,
   "metadata": {},
   "outputs": [
    {
     "name": "stdout",
     "output_type": "stream",
     "text": [
      "[sudo] password for kali: \n",
      "WARNING: apt does not have a stable CLI interface. Use with caution in scripts.\n",
      "\n",
      "Reading package lists...\n",
      "Building dependency tree...\n",
      "Reading state information...\n",
      "sqlitebrowser is already the newest version (3.12.1-2).\n",
      "The following packages were automatically installed and are no longer required:\n",
      "  libcdio18 libgtksourceview2.0-0 libgtksourceview2.0-common libmpdec2\n",
      "  libprotobuf22 libpython3.8 libpython3.8-dev libqt5opengl5 libx264-155\n",
      "  libx264-159 libxml-dom-perl libxml-perl libxml-regexp-perl libyara3\n",
      "  python-cairo python-chardet python-dbus python-enchant python-gi\n",
      "  python-gobject-2 python-numpy python-pkg-resources python3.8-dev\n",
      "Use 'sudo apt autoremove' to remove them.\n",
      "0 upgraded, 0 newly installed, 0 to remove and 877 not upgraded.\n"
     ]
    }
   ],
   "source": [
    "! echo kali | sudo -S apt install sqlitebrowser"
   ]
  },
  {
   "cell_type": "markdown",
   "metadata": {},
   "source": [
    "- once the libsqlite3-dev libray is installed, sqlite3 database can be used programetically using C/C++\n",
    "- C/C++ Interface APIs\n",
    "- must include `sqlite3.h` header file\n",
    "- must include `-l sqlite3` while building the C++ program that uses `sqlite3.h` API\n",
    "\n",
    "### sqlite3_open(const char * filename, sqlite3 **db)\n",
    "\n",
    "- opens a connection to an SQLite database file and returns a database connection object to be used by other SQLite routines\n",
    "- ff the filename argument is NULL or ':memory:', sqlite3_open() will create an in-memory database in RAM that lasts only for the duration of the session\n",
    "- if the filename is not NULL, sqlite3_open() attempts to open the database file by using its value\n",
    "    - if no file by that name exists, sqlite3_open() will open a new database file by that name.\n",
    "\n",
    "### sqlite3_exec(sqlite3 * db, const char *sql, sqlite_callback, void *data, char **errmsg)\n",
    "- execute SQL commands provided by sql argument which can consist of more than one SQL command\n",
    "- the first argument sqlite3 is an open database object, sqlite_callback is a call back for which data is the 1st argument and errmsg will be returned to capture any error raised by the routine.\n",
    "- sqlite3_exec() routine parses and executes every command given in the sql argument until it reaches the end of the string or encounters an error\n",
    "\n",
    "### sqlite3_close(sqlite3 *db )\n",
    "- closes a database connection previously opened by a call to sqlite3_open()\n",
    "- all prepared statements associated with the connection should be finalized prior to closing the connection\n",
    "- if any queries remain that have not been finalized, sqlite3_close() will return SQLITE_BUSY with the error message Unable to close due to unfinalized statements\n",
    "\n",
    "### Examples\n",
    "- see [demos/sqlite3/](demos/sqlite3/) folder for sqlite3 demos\n",
    "- detail tutorials on the API can be found here: [https://www.tutorialspoint.com/sqlite/sqlite_c_cpp.htm](https://www.tutorialspoint.com/sqlite/sqlite_c_cpp.htm)"
   ]
  },
  {
   "cell_type": "code",
   "execution_count": null,
   "metadata": {},
   "outputs": [],
   "source": []
  }
 ],
 "metadata": {
  "kernelspec": {
   "display_name": "C++17",
   "language": "C++17",
   "name": "xcpp17"
  },
  "language_info": {
   "codemirror_mode": "text/x-c++src",
   "file_extension": ".cpp",
   "mimetype": "text/x-c++src",
   "name": "c++",
   "version": "17"
  }
 },
 "nbformat": 4,
 "nbformat_minor": 4
}
