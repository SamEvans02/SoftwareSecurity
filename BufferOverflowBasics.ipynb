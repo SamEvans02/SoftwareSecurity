{
 "cells": [
  {
   "cell_type": "markdown",
   "metadata": {},
   "source": [
    "# Buffer Overflow\n",
    "\n",
    "- one of the top 25 most dangerous software errors according to Common Weakness Enemuration (CWE) for several years as recently as 2019 [https://cwe.mitre.org/top25/archive/2019/2019_cwe_top25.html](https://cwe.mitre.org/top25/archive/2019/2019_cwe_top25.html)\n",
    "- learn buffer overflow with animation - [https://mirrorlearning.org/emate2/bufferoverflow/pub/bufferoverflow/Assets/index.html](https://mirrorlearning.org/emate2/bufferoverflow/pub/bufferoverflow/Assets/index.html)\n",
    "- most Internet worms use buffer overflow vulnerabilities to propagate\n",
    "- C and C++ assume that programmers are responsible for data integrity\n",
    "- modern compilers and OSes provide various protections making it harder to exploit traditional buffer overflows\n",
    "- once the buffer/memory is allocated, there's no built-in mechanism to safeguard the amount of data that can be stored into\n",
    "    - this is called buffer overrun or buffer overflow\n",
    "    - user data may overwrite other part of the memory it's not supposed to making the program behave differently or crashing it\n",
    "    - attackers could take advantage of this flaw to control the program and may pawn the system by executing shellcode or payload of their choice\n",
    "- buffer overflow can violate all three core principles of **CIA** triad - **Confidentiality, Integrity, and Availability**\n",
    "- **Confidentiality**: allows attackers to read confidential or data that they're not supposed to have access to\n",
    "- **Integrity**: allows attackers to modify part of the data/program that they're not supposed to\n",
    "- **Availability**: allows attackes to crash the system (SEGFAULT) violating availbility of the service\n",
    "\n",
    "- buffer can be overflown in all memory segments (Global, Stack and Heap)\n",
    "- Stack overflow can have the most significant consequences!"
   ]
  },
  {
   "cell_type": "markdown",
   "metadata": {},
   "source": [
    "## Disable ASLR and other compiler protections\n",
    "- compile.sh script disables ASLR and compiler protections"
   ]
  },
  {
   "cell_type": "code",
   "execution_count": 1,
   "metadata": {},
   "outputs": [
    {
     "name": "stdout",
     "output_type": "stream",
     "text": [
      "0\n"
     ]
    }
   ],
   "source": [
    "# if value is 0; ASLR is disabled\n",
    "! cat /proc/sys/kernel/randomize_va_space"
   ]
  },
  {
   "cell_type": "code",
   "execution_count": 2,
   "metadata": {},
   "outputs": [
    {
     "name": "stdout",
     "output_type": "stream",
     "text": [
      "[sudo] password for kali: 0\n"
     ]
    }
   ],
   "source": [
    "# disable ASLR if randomize_va_space is not 0\n",
    "! echo kali | sudo -S bash -c 'echo 0 | sudo -S tee /proc/sys/kernel/randomize_va_space'"
   ]
  },
  {
   "cell_type": "markdown",
   "metadata": {},
   "source": [
    "## Program's memory and stack may shift\n",
    "- programs and data must be loaded into RAM inorder to execute\n",
    "- depending on how the program is launched, several factors make the program's location in memory shift\n",
    "    - even after virtual-address space layout randomization is disabled\n",
    "- e.g. environment variables, length of program name, arguments to program, etc.\n",
    "- gdb also sets its own environment variables such as LINES, COLUMNS, etc.\n",
    "<img src=\"media/gdb-env.png\">\n",
    "- detail: https://stackoverflow.com/questions/17775186/buffer-overflow-works-in-gdb-but-not-without-it/17775966#17775966\n",
    "- let's see `demos/env_demo.cpp` for demonstration"
   ]
  },
  {
   "cell_type": "code",
   "execution_count": 1,
   "metadata": {},
   "outputs": [
    {
     "name": "stdout",
     "output_type": "stream",
     "text": [
      "#include <cstdio>\n",
      "#include <stdlib.h> // getenv, putenv, setenv, unsetenv, etc.\n",
      "// see: http://www.manpagez.com/man/3/getenv/\n",
      "\n",
      "int main(int argc, char* argv[]) {\n",
      "\tif (argc == 2) {\n",
      "\t\t// read value of env variable\n",
      "\t\t//getenv(char * name) retruns NUL-terminated string; if name doesn't exists, returns NULL\n",
      "\t\tprintf(\"%s=%s\\n\", argv[1], getenv(argv[1]));\n",
      "\t}\n",
      "\telse if (argc == 3) { \n",
      "\t\t// set env variable, 0 doesn't overwrite, 1 overwrites\n",
      "\t\tint result = setenv(argv[1], argv[2], 0); // returns 0 on successful, -1 otherwise\n",
      "\t\tif (result == 0) {\n",
      "\t\t\tprintf(\"Successfully set env variable!\\n\");\n",
      "\t\t\tprintf(\"%s=%s\\n\", argv[1], getenv(argv[1]));\n",
      "\t\t\t// you can't use setenv to export variables from current process to the calling process (shell)\n",
      "\t\t}\n",
      "\t\telse {\n",
      "\t\t\tprintf(\"Couldn't set env variable!\");\n",
      "\t\t}\n",
      "\t}\n",
      "\telse {\n",
      "\t\tprintf(\"%s\\n\", \"Usage READ: program ENV_VAR_NAME\");\n",
      "\t\tprintf(\"%s\\n\", \"Usage SET: program ENV_VAR_NAME VALUE\");\n",
      "\t}\n",
      "\treturn 0;\n",
      "}\n"
     ]
    }
   ],
   "source": [
    "! cat demos/env_demo.cpp"
   ]
  },
  {
   "cell_type": "code",
   "execution_count": 2,
   "metadata": {},
   "outputs": [],
   "source": [
    "# let's compile the program as 32-bit\n",
    "! g++ -m32 demos/env_demo.cpp -o env_demo.exe"
   ]
  },
  {
   "cell_type": "code",
   "execution_count": 3,
   "metadata": {},
   "outputs": [
    {
     "name": "stdout",
     "output_type": "stream",
     "text": [
      "-rwxr-xr-x 1 kali kali 15228 Feb 10 09:24 env_demo.exe\n"
     ]
    }
   ],
   "source": [
    "# check the exe program\n",
    "! ls -al env_demo.exe"
   ]
  },
  {
   "cell_type": "code",
   "execution_count": 6,
   "metadata": {},
   "outputs": [
    {
     "name": "stdout",
     "output_type": "stream",
     "text": [
      "Usage READ: program ENV_VAR_NAME\n",
      "Usage SET: program ENV_VAR_NAME VALUE\n"
     ]
    }
   ],
   "source": [
    "# run the program\n",
    "! ./env_demo.exe"
   ]
  },
  {
   "cell_type": "code",
   "execution_count": 7,
   "metadata": {},
   "outputs": [
    {
     "name": "stdout",
     "output_type": "stream",
     "text": [
      "PATH=/home/kali/miniconda3/bin:/home/kali/miniconda3/condabin:/usr/local/sbin:/usr/local/bin:/usr/sbin:/usr/bin:/sbin:/bin:/usr/local/games:/usr/games\n"
     ]
    }
   ],
   "source": [
    "! ./env_demo.exe PATH"
   ]
  },
  {
   "cell_type": "code",
   "execution_count": 8,
   "metadata": {},
   "outputs": [
    {
     "name": "stdout",
     "output_type": "stream",
     "text": [
      "USER=kali\n"
     ]
    }
   ],
   "source": [
    "! ./env_demo.exe USER"
   ]
  },
  {
   "cell_type": "code",
   "execution_count": 9,
   "metadata": {},
   "outputs": [
    {
     "name": "stdout",
     "output_type": "stream",
     "text": [
      "SOME_VAR=(null)\n"
     ]
    }
   ],
   "source": [
    "! ./env_demo.exe SOME_VAR"
   ]
  },
  {
   "cell_type": "code",
   "execution_count": 10,
   "metadata": {},
   "outputs": [
    {
     "name": "stdout",
     "output_type": "stream",
     "text": [
      "Successfully set env variable!\n",
      "SOME_VAR=THIS IS THE VALUE FOR SOME_VAR\n"
     ]
    }
   ],
   "source": [
    "# set new env varirable for current projcess and it's children using fork\n",
    "! ./env_demo.exe SOME_VAR \"THIS IS THE VALUE FOR SOME_VAR\""
   ]
  },
  {
   "cell_type": "markdown",
   "metadata": {},
   "source": [
    "## Observe difference between so_arg.cpp and so_stdio.cpp\n",
    "- `demos/stack_overflow/so_stdio.cpp` doesn't take/use any argument\n",
    "    - interactively prompts user to enter some text duing program execution\n",
    "- `demos/stack_overflow/so_arg.cpp` takes argument\n",
    "    - uses argument provided to the program\n",
    "    - not an interactive program\n",
    "- let's compile and run these programs to observe the address of buffer"
   ]
  },
  {
   "cell_type": "code",
   "execution_count": 3,
   "metadata": {},
   "outputs": [
    {
     "name": "stdout",
     "output_type": "stream",
     "text": [
      "#include <cstdio>\n",
      "#include <cstring>\n",
      "#include <iostream>\n",
      "\n",
      "using namespace std;\n",
      "\n",
      "#define BUFSIZE 128\n",
      "\n",
      "void copydata(char *dst_buf, char *src_buf) {\n",
      "    // similar to strcpy in cstdio\n",
      "    size_t i = 0;\n",
      "    // copy each character from src_buf to des_buffer\n",
      "    // stop when NUL character is encountered\n",
      "    while (*(src_buf+i) != 0) {\n",
      "        *(dst_buf+i) = *(src_buf+i);\n",
      "        i++;\n",
      "    }\n",
      "    *(dst_buf+i) = 0; // end with NUL character\n",
      "}\n",
      "\n",
      "void bad(char *data) {\n",
      "    char buffer[BUFSIZE];\n",
      "    printf(\"buffer is at %p\\n\", buffer);\n",
      "    //strcpy(buffer, data);\n",
      "    copydata(buffer, data);\n",
      "    cout << \"buffer contains: \\n\" << buffer << endl;\n",
      "}\n",
      "\n",
      "int main(int argc, char *argv[]) {\n",
      "    bad(argv[1]);\n",
      "    cout << \"Good bye!\" << endl;\n",
      "    return 0;\n",
      "}"
     ]
    }
   ],
   "source": [
    "! cat demos/stack_overflow/so_arg.cpp"
   ]
  },
  {
   "cell_type": "markdown",
   "metadata": {},
   "source": [
    "- let's compile the program and run it\n",
    "- use the provided compile.sh bash program\n",
    "    - helps in compiling programs disabling all the overflow-related security controls"
   ]
  },
  {
   "cell_type": "code",
   "execution_count": 4,
   "metadata": {},
   "outputs": [
    {
     "name": "stdout",
     "output_type": "stream",
     "text": [
      "#! /bin/bash\n",
      "\n",
      "# disable aslr\n",
      "read aslr < /proc/sys/kernel/randomize_va_space\n",
      "if (( $aslr != 0 )); then\n",
      "    if (( id -u != 0)); then\n",
      "        echo \"Need sudo priviledge to disable aslr...\"\n",
      "    fi\n",
      "    # provide password for sudo user\n",
      "    ls /proc/sys/kernel/randomize_va_space\n",
      "    echo 0 | sudo tee /proc/sys/kernel/randomize_va_space\n",
      "fi\n",
      "\n",
      "# compile disabling all the security flags\n",
      "if (( $# == 1 )); then\n",
      "    g++ -g -m32 -std=c++17 -fno-stack-protector -z execstack -no-pie $1 && echo \"Output file is a.out\"\n",
      "elif (( $# == 2 )); then\n",
      "    g++ -g -m32 -std=c++17 -fno-stack-protector -z execstack -no-pie -o $2 $1\n",
      "else\n",
      "    echo \"Error... No input file provided...\"\n",
      "    echo \"$0 <inputfile.cpp> [a.out]\"\n",
      "fi"
     ]
    }
   ],
   "source": [
    "# let's see the script\n",
    "! cat ./compile.sh"
   ]
  },
  {
   "cell_type": "code",
   "execution_count": 5,
   "metadata": {},
   "outputs": [
    {
     "name": "stdout",
     "output_type": "stream",
     "text": [
      "[sudo] password for kali: "
     ]
    }
   ],
   "source": [
    "! echo kali | sudo -S ./compile.sh demos/stack_overflow/so_arg.cpp so_arg.exe"
   ]
  },
  {
   "cell_type": "code",
   "execution_count": 6,
   "metadata": {},
   "outputs": [
    {
     "name": "stdout",
     "output_type": "stream",
     "text": [
      "buffer is at 0xffffc240\n",
      "buffer contains: \n",
      "Hello World!\n",
      "Good bye!\n"
     ]
    }
   ],
   "source": [
    "# provide the argument to program\n",
    "! ./so_arg.exe \"Hello World!\"\n",
    "# Note the address of buffer!"
   ]
  },
  {
   "cell_type": "code",
   "execution_count": 7,
   "metadata": {},
   "outputs": [
    {
     "name": "stdout",
     "output_type": "stream",
     "text": [
      "buffer is at 0xffffc240\n",
      "buffer contains: \n",
      "HELLO WORLD!\n",
      "Good bye!\n"
     ]
    }
   ],
   "source": [
    "# provide different argument with the same length to program\n",
    "! ./so_arg.exe \"HELLO WORLD!\"\n",
    "# Note the address of buffer!"
   ]
  },
  {
   "cell_type": "code",
   "execution_count": 8,
   "metadata": {},
   "outputs": [
    {
     "name": "stdout",
     "output_type": "stream",
     "text": [
      "buffer is at 0xffffc1e0\n",
      "buffer contains: \n",
      "AAAAAAAAAAAAAAAAAAAAAAAAAAAAAAAAAAAAAAAAAAAAAAAAAAAAAAAAAAAAAAAAAAAAAAAAAAAAAAAAAAAAAAAAAAAAAAAAAAAA\n",
      "Good bye!\n"
     ]
    }
   ],
   "source": [
    "! ./so_arg.exe $(python -c 'print(\"A\"*100)')\n",
    "# Note the address of buffer!"
   ]
  },
  {
   "cell_type": "code",
   "execution_count": 9,
   "metadata": {},
   "outputs": [
    {
     "name": "stdout",
     "output_type": "stream",
     "text": [
      "buffer is at 0xffffc180\n",
      "buffer contains: \n",
      "AAAAAAAAAAAAAAAAAAAAAAAAAAAAAAAAAAAAAAAAAAAAAAAAAAAAAAAAAAAAAAAAAAAAAAAAAAAAAAAAAAAAAAAAAAAAAAAAAAAAAAAAAAAAAAAAAAAAAAAAAAAAAAAAAAAAAAAAAAAAAAAAAAAAAAAAAAAAAAAAAAAAAAAAAAAAAAAAAAAAAAAAAAAAAAAAAAAAAAAA\n"
     ]
    }
   ],
   "source": [
    "! ./so_arg.exe $(python -c 'print(\"A\"*200)')\n",
    "# Note the address of buffer!"
   ]
  },
  {
   "cell_type": "markdown",
   "metadata": {},
   "source": [
    "- Notice the different address for buffer in so_arg.exe based on the length of argument\n",
    "- the address of the buffer shifts within the program\n",
    "- this makes it a little difficult to exploit the program if the argument length varies\n",
    "\n",
    "## buffer address in so_stdio.cpp\n",
    "- compile and run the program and notice the address of buffer"
   ]
  },
  {
   "cell_type": "code",
   "execution_count": 10,
   "metadata": {},
   "outputs": [
    {
     "name": "stdout",
     "output_type": "stream",
     "text": [
      "#include <stdio.h>\n",
      "#include <string.h>\n",
      "#include <sys/types.h>\n",
      "#include <stdlib.h>\n",
      "#include <unistd.h>\n",
      "#include <iostream>\n",
      "using namespace std;\n",
      "\n",
      "#define BUFSIZE 128\n",
      "\n",
      "using namespace std;\n",
      "\n",
      "void give_shell(){\n",
      "    // Set the gid to the effective gid\n",
      "    // this prevents /bin/sh from dropping the privileges\n",
      "    gid_t gid = getegid();\n",
      "    setresgid(gid, gid, gid);\n",
      "    system(\"/bin/sh\");\n",
      "}\n",
      "\n",
      "char * mgets(char *dst) {\n",
      "    char *ptr = dst;\n",
      "    int ch; \n",
      "\t/* skip leading white spaces */ \n",
      "    while ((ch = getchar()) && (ch == ' ' or ch == '\\t') )\n",
      "        ; \n",
      "\n",
      "    if ((ch == '\\n') or (ch == EOF)) { \n",
      "        *ptr = '\\0';\n",
      "        return dst; \n",
      "    } \n",
      "    else\n",
      "        *ptr = ch;\n",
      "\n",
      "    /* now read the rest until \\n or EOF */ \n",
      "    while (true) {\n",
      "        ch = getchar();\n",
      "        if (ch == '\\n' or ch == EOF) break;\n",
      "        *(++ptr) = ch; \n",
      "    }\n",
      "    *(++ptr) = 0;\n",
      "    return dst;\n",
      "}\n",
      "\n",
      "void bad() {\n",
      "    char buffer[BUFSIZE];\n",
      "    printf(\"buffer is at %p\\n\", buffer);\n",
      "    cout << \"Give me some text: \";\n",
      "    fflush(stdout);\n",
      "    mgets(buffer); // similar to C's gets;\n",
      "    //gets(buffer); // depricated\n",
      "    cout << \"Acknowledged: \" << buffer << \" with length \" << strlen(buffer) << endl;\n",
      "}\n",
      "\n",
      "int main(int argc, char *argv[]) {\n",
      "    gid_t gid = getegid();\n",
      "    setresgid(gid, gid, gid);\n",
      "    bad();\n",
      "    cout << \"Good bye!\\n\";\n",
      "    return 0;\n",
      "}"
     ]
    }
   ],
   "source": [
    "! cat demos/stack_overflow/so_stdio.cpp"
   ]
  },
  {
   "cell_type": "code",
   "execution_count": 11,
   "metadata": {},
   "outputs": [
    {
     "name": "stdout",
     "output_type": "stream",
     "text": [
      "[sudo] password for kali: "
     ]
    }
   ],
   "source": [
    "! echo kali | sudo -S ./compile.sh demos/stack_overflow/so_stdio.cpp so_stdio.exe"
   ]
  },
  {
   "cell_type": "code",
   "execution_count": 12,
   "metadata": {},
   "outputs": [
    {
     "name": "stdout",
     "output_type": "stream",
     "text": [
      "buffer is at 0xffffc240\n",
      "Give me some text: Acknowledged: Hello World with length 11\n",
      "Good bye!\n"
     ]
    }
   ],
   "source": [
    "# Must pipe the input or interactively type\n",
    "! echo \"Hello World\" | ./so_stdio.exe \n",
    "# Note the address of buffer"
   ]
  },
  {
   "cell_type": "code",
   "execution_count": 13,
   "metadata": {},
   "outputs": [
    {
     "name": "stdout",
     "output_type": "stream",
     "text": [
      "buffer is at 0xffffc240\n",
      "Give me some text: Acknowledged: World_Hello with length 11\n",
      "Good bye!\n"
     ]
    }
   ],
   "source": [
    "# run the progam with the same length argument of input\n",
    "! echo \"World_Hello\" | ./so_stdio.exe\n",
    "# Note the address of buffer; no change because same program is run with the same length of argument"
   ]
  },
  {
   "cell_type": "code",
   "execution_count": 14,
   "metadata": {},
   "outputs": [
    {
     "name": "stdout",
     "output_type": "stream",
     "text": [
      "buffer is at 0xffffc240\n",
      "Give me some text: Acknowledged: AAAAAAAAAAAAAAAAAAAAAAAAAAAAAAAAAAAAAAAAAAAAAAAAAAAAAAAAAAAAAAAAAAAAAAAAAAAAAAAAAAAAAAAAAAAAAAAAAAAA with length 100\n",
      "Good bye!\n"
     ]
    }
   ],
   "source": [
    "# run the program with 100 As\n",
    "! python -c 'print(\"A\"*100)' | ./so_stdio.exe\n",
    "# Note the address of buffer!"
   ]
  },
  {
   "cell_type": "code",
   "execution_count": 15,
   "metadata": {},
   "outputs": [
    {
     "name": "stdout",
     "output_type": "stream",
     "text": [
      "buffer is at 0xffffc240\n",
      "Give me some text: Acknowledged: AAAAAAAAAAAAAAAAAAAAAAAAAAAAAAAAAAAAAAAAAAAAAAAAAAAAAAAAAAAAAAAAAAAAAAAAAAAAAAAAAAAAAAAAAAAAAAAAAAAAAAAAAAAAAAAAAAAAAAAAAAAAAAAAAAAAAAAAAAAAAAAAAAAAAAAAAAAAAAAAAAAAAAAAAAAAAAAAAAAAAAAAAAAAAAAAAAAAAAAA with length 200\n"
     ]
    }
   ],
   "source": [
    "# run the program with 200 As\n",
    "! python -c 'print(\"A\"*200)' | ./so_stdio.exe\n",
    "# Note the address of buffer!"
   ]
  },
  {
   "cell_type": "markdown",
   "metadata": {},
   "source": [
    "#### Note:\n",
    "- as demonstrated above, length of data read from standard input doesn't shift the addresses of the buffer/variables"
   ]
  },
  {
   "cell_type": "markdown",
   "metadata": {},
   "source": [
    "## length of the program name\n",
    "- let's give names of different lengths to the same program and notice the address of buffer being shifted with the program\n",
    "- this is true regardless the program takes an argument or not \n",
    "    - NOTE the name of the program itself is passed as an argument to the program\n",
    "    - the first argument to main's argv[] is the name of the program that gets pushed on to the main's stack"
   ]
  },
  {
   "cell_type": "code",
   "execution_count": 6,
   "metadata": {},
   "outputs": [
    {
     "name": "stdout",
     "output_type": "stream",
     "text": [
      "[sudo] password for kali: "
     ]
    }
   ],
   "source": [
    "# let's compile the program and run the program with name stack_overflow_stdio.exe\n",
    "! echo kali | sudo -S ./compile.sh demos/stack_overflow/so_stdio.cpp stack_overflow_stdio.exe"
   ]
  },
  {
   "cell_type": "code",
   "execution_count": 7,
   "metadata": {},
   "outputs": [
    {
     "name": "stdout",
     "output_type": "stream",
     "text": [
      "buffer is at 0xffffc2a0\n",
      "Give me some text: Acknowledged: Hello_World with length 11\n",
      "Good bye!\n"
     ]
    }
   ],
   "source": [
    "! echo \"Hello_World\" | ./stack_overflow_stdio.exe"
   ]
  },
  {
   "cell_type": "code",
   "execution_count": 9,
   "metadata": {},
   "outputs": [
    {
     "name": "stdout",
     "output_type": "stream",
     "text": [
      "buffer is at 0xffffc2a0\n",
      "Give me some text: Acknowledged: Hello_Worl adfadsfasfasfasf asfadsfasdfadsfdfasfsa d with length 52\n",
      "Good bye!\n"
     ]
    }
   ],
   "source": [
    "# if the same program is run multiple times, \n",
    "! echo \"Hello_Worl adfadsfasfasfasf asfadsfasdfadsfdfasfsa d\" | ./stack_overflow_stdio.exe\n",
    "# Notice no change in buffer address"
   ]
  },
  {
   "cell_type": "code",
   "execution_count": 10,
   "metadata": {},
   "outputs": [
    {
     "name": "stdout",
     "output_type": "stream",
     "text": [
      "[sudo] password for kali: "
     ]
    }
   ],
   "source": [
    "# let's compile nd run the program with name stack.exe\n",
    "! echo kali | sudo -S ./compile.sh demos/stack_overflow/so_stdio.cpp stack.exe"
   ]
  },
  {
   "cell_type": "code",
   "execution_count": 11,
   "metadata": {},
   "outputs": [
    {
     "name": "stdout",
     "output_type": "stream",
     "text": [
      "buffer is at 0xffffc2d0\n",
      "Give me some text: Acknowledged: Hello_World with length 11\n",
      "Good bye!\n"
     ]
    }
   ],
   "source": [
    "! echo \"Hello_World\" | ./stack.exe"
   ]
  },
  {
   "cell_type": "code",
   "execution_count": 13,
   "metadata": {},
   "outputs": [
    {
     "name": "stdout",
     "output_type": "stream",
     "text": [
      "[sudo] password for kali: "
     ]
    }
   ],
   "source": [
    "# let's compile and run the program with the name stack1.exe\n",
    "! echo kali | sudo -S ./compile.sh demos/stack_overflow/so_stdio.cpp stack1.exe\n",
    "# minor change in length may not shift it"
   ]
  },
  {
   "cell_type": "code",
   "execution_count": 14,
   "metadata": {},
   "outputs": [
    {
     "name": "stdout",
     "output_type": "stream",
     "text": [
      "buffer is at 0xffffc2d0\n",
      "Give me some text: Acknowledged: Hello_World with length 11\n",
      "Good bye!\n"
     ]
    }
   ],
   "source": [
    "! echo \"Hello_World\" | ./stack1.exe"
   ]
  },
  {
   "cell_type": "code",
   "execution_count": 15,
   "metadata": {},
   "outputs": [
    {
     "name": "stdout",
     "output_type": "stream",
     "text": [
      "[sudo] password for kali: "
     ]
    }
   ],
   "source": [
    "# let's compile the program and run the program with the name stack11.exe\n",
    "! echo kali | sudo -S ./compile.sh demos/stack_overflow/so_stdio.cpp stack11.exe"
   ]
  },
  {
   "cell_type": "code",
   "execution_count": 16,
   "metadata": {},
   "outputs": [
    {
     "name": "stdout",
     "output_type": "stream",
     "text": [
      "buffer is at 0xffffc2d0\n",
      "Give me some text: Acknowledged: Hello_World with length 11\n",
      "Good bye!\n"
     ]
    }
   ],
   "source": [
    "! echo \"Hello_World\" | ./stack11.exe\n",
    "# perhaps, filename is not long engouh to make a difference"
   ]
  },
  {
   "cell_type": "code",
   "execution_count": 17,
   "metadata": {},
   "outputs": [
    {
     "name": "stdout",
     "output_type": "stream",
     "text": [
      "buffer is at 0xffffc2e0\n",
      "Give me some text: Acknowledged: Hello_World with length 11\n",
      "Good bye!\n"
     ]
    },
    {
     "name": "stderr",
     "output_type": "stream",
     "text": [
      "[sudo] password for kali: "
     ]
    }
   ],
   "source": [
    "%%bash\n",
    "# let's compile the program with output program name stack11111.exe\n",
    "echo kali | sudo -S ./compile.sh demos/stack_overflow/so_stdio.cpp stack11111.exe\n",
    "echo \"Hello_World\" | ./stack11111.exe"
   ]
  },
  {
   "cell_type": "code",
   "execution_count": 18,
   "metadata": {},
   "outputs": [
    {
     "name": "stdout",
     "output_type": "stream",
     "text": [
      "16\n"
     ]
    }
   ],
   "source": [
    "# let's find the no. of bytes the buffer address was shifted by\n",
    "print(0xffffc2e0-0xffffc2d0)"
   ]
  },
  {
   "cell_type": "markdown",
   "metadata": {},
   "source": [
    "## Run program with modified environment\n",
    "- **env** command let's you run the program in a modified environment\n",
    "- **env -i** - ignores environment or starts a program without one"
   ]
  },
  {
   "cell_type": "code",
   "execution_count": 19,
   "metadata": {},
   "outputs": [
    {
     "name": "stdout",
     "output_type": "stream",
     "text": [
      "buffer is at 0xffffc2a0\n",
      "Give me some text: Acknowledged: Hello with length 5\n",
      "Good bye!\n"
     ]
    }
   ],
   "source": [
    "! echo Hello | ./stack_overflow_stdio.exe"
   ]
  },
  {
   "cell_type": "code",
   "execution_count": 20,
   "metadata": {},
   "outputs": [
    {
     "name": "stdout",
     "output_type": "stream",
     "text": [
      "buffer is at 0xffffdd90\n",
      "Give me some text: Acknowledged: Hello with length 5\n",
      "Good bye!\n"
     ]
    }
   ],
   "source": [
    "! echo Hello | env -i ./stack_overflow_stdio.exe"
   ]
  },
  {
   "cell_type": "code",
   "execution_count": 21,
   "metadata": {},
   "outputs": [
    {
     "name": "stdout",
     "output_type": "stream",
     "text": [
      "COLORFGBG=15;0\n",
      "DBUS_SESSION_BUS_ADDRESS=unix:path=/run/user/1000/bus\n",
      "DESKTOP_SESSION=lightdm-xsession\n",
      "DISPLAY=:0.0\n",
      "GDMSESSION=lightdm-xsession\n",
      "HOME=/home/kali\n",
      "LANG=en_US.utf8\n",
      "LANGUAGE=\n",
      "LOGNAME=kali\n",
      "PANEL_GDK_CORE_DEVICE_EVENTS=0\n",
      "PATH=/home/kali/miniconda3/bin:/home/kali/miniconda3/condabin:/usr/local/sbin:/usr/local/bin:/usr/sbin:/usr/bin:/sbin:/bin:/usr/local/games:/usr/games\n",
      "PWD=/home/kali/Sp21/EthicalHacking\n",
      "QT_ACCESSIBILITY=1\n",
      "QT_AUTO_SCREEN_SCALE_FACTOR=0\n",
      "QT_QPA_PLATFORMTHEME=qt5ct\n",
      "SESSION_MANAGER=local/K:@/tmp/.ICE-unix/852,unix/K:/tmp/.ICE-unix/852\n",
      "SHELL=/usr/bin/zsh\n",
      "SSH_AGENT_PID=895\n",
      "SSH_AUTH_SOCK=/tmp/ssh-1ZCMbOabR0WB/agent.852\n",
      "TERM=xterm-color\n",
      "USER=kali\n",
      "WINDOWID=0\n",
      "XAUTHORITY=/home/kali/.Xauthority\n",
      "XDG_CONFIG_DIRS=/etc/xdg\n",
      "XDG_CURRENT_DESKTOP=XFCE\n",
      "XDG_DATA_DIRS=/usr/share/xfce4:/usr/local/share/:/usr/share/:/usr/share\n",
      "XDG_GREETER_DATA_DIR=/var/lib/lightdm/data/kali\n",
      "XDG_MENU_PREFIX=xfce-\n",
      "XDG_RUNTIME_DIR=/run/user/1000\n",
      "XDG_SEAT=seat0\n",
      "XDG_SEAT_PATH=/org/freedesktop/DisplayManager/Seat0\n",
      "XDG_SESSION_CLASS=user\n",
      "XDG_SESSION_DESKTOP=lightdm-xsession\n",
      "XDG_SESSION_ID=2\n",
      "XDG_SESSION_PATH=/org/freedesktop/DisplayManager/Session0\n",
      "XDG_SESSION_TYPE=x11\n",
      "XDG_VTNR=7\n",
      "_JAVA_OPTIONS=-Dawt.useSystemAAFontSettings=on -Dswing.aatext=true\n",
      "SHLVL=1\n",
      "OLDPWD=/home/kali/Sp21/EthicalHacking\n",
      "LS_COLORS=rs=0:di=01;34:ln=01;36:mh=00:pi=40;33:so=01;35:do=01;35:bd=40;33;01:cd=40;33;01:or=40;31;01:mi=00:su=37;41:sg=30;43:ca=30;41:tw=30;42:ow=34;42:st=37;44:ex=01;32:*.tar=01;31:*.tgz=01;31:*.arc=01;31:*.arj=01;31:*.taz=01;31:*.lha=01;31:*.lz4=01;31:*.lzh=01;31:*.lzma=01;31:*.tlz=01;31:*.txz=01;31:*.tzo=01;31:*.t7z=01;31:*.zip=01;31:*.z=01;31:*.dz=01;31:*.gz=01;31:*.lrz=01;31:*.lz=01;31:*.lzo=01;31:*.xz=01;31:*.zst=01;31:*.tzst=01;31:*.bz2=01;31:*.bz=01;31:*.tbz=01;31:*.tbz2=01;31:*.tz=01;31:*.deb=01;31:*.rpm=01;31:*.jar=01;31:*.war=01;31:*.ear=01;31:*.sar=01;31:*.rar=01;31:*.alz=01;31:*.ace=01;31:*.zoo=01;31:*.cpio=01;31:*.7z=01;31:*.rz=01;31:*.cab=01;31:*.wim=01;31:*.swm=01;31:*.dwm=01;31:*.esd=01;31:*.jpg=01;35:*.jpeg=01;35:*.mjpg=01;35:*.mjpeg=01;35:*.gif=01;35:*.bmp=01;35:*.pbm=01;35:*.pgm=01;35:*.ppm=01;35:*.tga=01;35:*.xbm=01;35:*.xpm=01;35:*.tif=01;35:*.tiff=01;35:*.png=01;35:*.svg=01;35:*.svgz=01;35:*.mng=01;35:*.pcx=01;35:*.mov=01;35:*.mpg=01;35:*.mpeg=01;35:*.m2v=01;35:*.mkv=01;35:*.webm=01;35:*.webp=01;35:*.ogm=01;35:*.mp4=01;35:*.m4v=01;35:*.mp4v=01;35:*.vob=01;35:*.qt=01;35:*.nuv=01;35:*.wmv=01;35:*.asf=01;35:*.rm=01;35:*.rmvb=01;35:*.flc=01;35:*.avi=01;35:*.fli=01;35:*.flv=01;35:*.gl=01;35:*.dl=01;35:*.xcf=01;35:*.xwd=01;35:*.yuv=01;35:*.cgm=01;35:*.emf=01;35:*.ogv=01;35:*.ogx=01;35:*.aac=00;36:*.au=00;36:*.flac=00;36:*.m4a=00;36:*.mid=00;36:*.midi=00;36:*.mka=00;36:*.mp3=00;36:*.mpc=00;36:*.ogg=00;36:*.ra=00;36:*.wav=00;36:*.oga=00;36:*.opus=00;36:*.spx=00;36:*.xspf=00;36:\n",
      "LESS_TERMCAP_mb=\u001b[1;31m\n",
      "LESS_TERMCAP_md=\u001b[1;36m\n",
      "LESS_TERMCAP_me=\u001b[0m\n",
      "LESS_TERMCAP_so=\u001b[01;33m\n",
      "LESS_TERMCAP_se=\u001b[0m\n",
      "LESS_TERMCAP_us=\u001b[1;32m\n",
      "LESS_TERMCAP_ue=\u001b[0m\n",
      "CONDA_EXE=/home/kali/miniconda3/bin/conda\n",
      "_CE_M=\n",
      "_CE_CONDA=\n",
      "CONDA_PYTHON_EXE=/home/kali/miniconda3/bin/python\n",
      "CONDA_SHLVL=1\n",
      "CONDA_PREFIX=/home/kali/miniconda3\n",
      "CONDA_DEFAULT_ENV=base\n",
      "CONDA_PROMPT_MODIFIER=\n",
      "CONDA_BACKUP_HOST=x86_64-conda_cos6-linux-gnu\n",
      "HOST=K\n",
      "ADDR2LINE=/home/kali/miniconda3/bin/x86_64-conda_cos6-linux-gnu-addr2line\n",
      "AR=/home/kali/miniconda3/bin/x86_64-conda_cos6-linux-gnu-ar\n",
      "AS=/home/kali/miniconda3/bin/x86_64-conda_cos6-linux-gnu-as\n",
      "CXXFILT=/home/kali/miniconda3/bin/x86_64-conda_cos6-linux-gnu-c++filt\n",
      "ELFEDIT=/home/kali/miniconda3/bin/x86_64-conda_cos6-linux-gnu-elfedit\n",
      "GPROF=/home/kali/miniconda3/bin/x86_64-conda_cos6-linux-gnu-gprof\n",
      "LD=/home/kali/miniconda3/bin/x86_64-conda_cos6-linux-gnu-ld\n",
      "LD_GOLD=/home/kali/miniconda3/bin/x86_64-conda_cos6-linux-gnu-ld.gold\n",
      "NM=/home/kali/miniconda3/bin/x86_64-conda_cos6-linux-gnu-nm\n",
      "OBJCOPY=/home/kali/miniconda3/bin/x86_64-conda_cos6-linux-gnu-objcopy\n",
      "OBJDUMP=/home/kali/miniconda3/bin/x86_64-conda_cos6-linux-gnu-objdump\n",
      "RANLIB=/home/kali/miniconda3/bin/x86_64-conda_cos6-linux-gnu-ranlib\n",
      "READELF=/home/kali/miniconda3/bin/x86_64-conda_cos6-linux-gnu-readelf\n",
      "SIZE=/home/kali/miniconda3/bin/x86_64-conda_cos6-linux-gnu-size\n",
      "STRINGS=/home/kali/miniconda3/bin/x86_64-conda_cos6-linux-gnu-strings\n",
      "STRIP=/home/kali/miniconda3/bin/x86_64-conda_cos6-linux-gnu-strip\n",
      "CC=/home/kali/miniconda3/bin/x86_64-conda_cos6-linux-gnu-cc\n",
      "CPP=/home/kali/miniconda3/bin/x86_64-conda_cos6-linux-gnu-cpp\n",
      "GCC=/home/kali/miniconda3/bin/x86_64-conda_cos6-linux-gnu-gcc\n",
      "GCC_AR=/home/kali/miniconda3/bin/x86_64-conda_cos6-linux-gnu-gcc-ar\n",
      "GCC_NM=/home/kali/miniconda3/bin/x86_64-conda_cos6-linux-gnu-gcc-nm\n",
      "GCC_RANLIB=/home/kali/miniconda3/bin/x86_64-conda_cos6-linux-gnu-gcc-ranlib\n",
      "CPPFLAGS=-DNDEBUG -D_FORTIFY_SOURCE=2 -O2 -isystem /home/kali/miniconda3/include\n",
      "CFLAGS=-march=nocona -mtune=haswell -ftree-vectorize -fPIC -fstack-protector-strong -fno-plt -O2 -ffunction-sections -pipe -isystem /home/kali/miniconda3/include\n",
      "LDFLAGS=-Wl,-O2 -Wl,--sort-common -Wl,--as-needed -Wl,-z,relro -Wl,-z,now -Wl,--disable-new-dtags -Wl,--gc-sections -Wl,-rpath,/home/kali/miniconda3/lib -Wl,-rpath-link,/home/kali/miniconda3/lib -L/home/kali/miniconda3/lib\n",
      "DEBUG_CPPFLAGS=-D_DEBUG -D_FORTIFY_SOURCE=2 -Og -isystem /home/kali/miniconda3/include\n",
      "DEBUG_CFLAGS=-march=nocona -mtune=haswell -ftree-vectorize -fPIC -fstack-protector-all -fno-plt -Og -g -Wall -Wextra -fvar-tracking-assignments -ffunction-sections -pipe -isystem /home/kali/miniconda3/include\n",
      "CMAKE_PREFIX_PATH=/home/kali/miniconda3:/home/kali/miniconda3/x86_64-conda_cos6-linux-gnu/sysroot/usr\n",
      "_CONDA_PYTHON_SYSCONFIGDATA_NAME=_sysconfigdata_x86_64_conda_cos6_linux_gnu\n",
      "CONDA_BUILD_SYSROOT=/home/kali/miniconda3/x86_64-conda_cos6-linux-gnu/sysroot\n",
      "CXX=/home/kali/miniconda3/bin/x86_64-conda_cos6-linux-gnu-c++\n",
      "GXX=/home/kali/miniconda3/bin/x86_64-conda_cos6-linux-gnu-g++\n",
      "CXXFLAGS=-fvisibility-inlines-hidden -std=c++17 -fmessage-length=0 -march=nocona -mtune=haswell -ftree-vectorize -fPIC -fstack-protector-strong -fno-plt -O2 -ffunction-sections -pipe -isystem /home/kali/miniconda3/include\n",
      "DEBUG_CXXFLAGS=-fvisibility-inlines-hidden -std=c++17 -fmessage-length=0 -march=nocona -mtune=haswell -ftree-vectorize -fPIC -fstack-protector-all -fno-plt -Og -g -Wall -Wextra -fvar-tracking-assignments -ffunction-sections -pipe -isystem /home/kali/miniconda3/include\n",
      "_=/usr/bin/env\n",
      "JPY_PARENT_PID=9269\n",
      "CLICOLOR=1\n",
      "PAGER=cat\n",
      "GIT_PAGER=cat\n",
      "MPLBACKEND=module://ipykernel.pylab.backend_inline\n"
     ]
    }
   ],
   "source": [
    "# let's look at the current environment\n",
    "! env"
   ]
  },
  {
   "cell_type": "code",
   "execution_count": 22,
   "metadata": {},
   "outputs": [
    {
     "name": "stdout",
     "output_type": "stream",
     "text": [
      "6912\n"
     ]
    }
   ],
   "source": [
    "# print the difference in addresses\n",
    "print(0xffffdd90-0xffffc290)"
   ]
  },
  {
   "cell_type": "code",
   "execution_count": 25,
   "metadata": {},
   "outputs": [
    {
     "name": "stdout",
     "output_type": "stream",
     "text": [
      "buffer is at 0xffffc2d0\n",
      "buffer contains: \n",
      "Hello\n",
      "Good bye!\n"
     ]
    }
   ],
   "source": [
    "! ./so_arg.exe Hello"
   ]
  },
  {
   "cell_type": "code",
   "execution_count": 26,
   "metadata": {},
   "outputs": [
    {
     "name": "stdout",
     "output_type": "stream",
     "text": [
      "buffer is at 0xffffdd90\n",
      "buffer contains: \n",
      "Hello\n",
      "Good bye!\n"
     ]
    }
   ],
   "source": [
    "! env -i ./so_arg.exe Hello"
   ]
  },
  {
   "cell_type": "code",
   "execution_count": 27,
   "metadata": {},
   "outputs": [
    {
     "name": "stdout",
     "output_type": "stream",
     "text": [
      "6864\n"
     ]
    }
   ],
   "source": [
    "# print the difference in addresses\n",
    "print(0xffffdd90-0xffffc2c0)"
   ]
  },
  {
   "cell_type": "code",
   "execution_count": 28,
   "metadata": {},
   "outputs": [
    {
     "name": "stdout",
     "output_type": "stream",
     "text": [
      "buffer is at 0xffffdd80\n",
      "buffer contains: \n",
      "Hello there beautiful world!\n",
      "Good bye!\n"
     ]
    }
   ],
   "source": [
    "# argument length and program length still matters\n",
    "# let's try with longer argument to demonstrate the shift in buffer's address\n",
    "! env -i ./so_arg.exe \"Hello there beautiful world!\""
   ]
  },
  {
   "cell_type": "markdown",
   "metadata": {},
   "source": [
    "## Detecting memory related-errors\n",
    "\n",
    "### Static Analysis\n",
    "- code can be manually read for memory related errors such as memory leak, buffer overrun, etc.\n",
    "    - pros and cons?\n",
    "- can use automated tools to scan for errors\n",
    "    - pros and cons?\n",
    "\n",
    "### Valgrind's Memcheck\n",
    "- https://valgrind.org/docs/manual/quick-start.html\n",
    "- compile your program using -g (dubuggin info) and -o1 (line numbers in error message)\n",
    "    - `-o0` is also a good idea, if you can tolerate the slowdown\n",
    "    \n",
    "### install valgrind and libc6-dbg:i386 packages"
   ]
  },
  {
   "cell_type": "code",
   "execution_count": 14,
   "metadata": {},
   "outputs": [
    {
     "name": "stdout",
     "output_type": "stream",
     "text": [
      "Reading package lists... Done\n",
      "Building dependency tree... Done\n",
      "Reading state information... Done\n",
      "The following packages were automatically installed and are no longer required:\n",
      "  cryptsetup-run fastjar gir1.2-gst-plugins-base-1.0 gnome-desktop3-data\n",
      "  gnome-session-canberra gstreamer1.0-pulseaudio jarwrapper\n",
      "  kali-wallpapers-2021.4 kazam libamtk-5-0 libamtk-5-common libavresample4\n",
      "  libcbor0 libdap27 libdapclient6v5 libepsilon1 libfluidsynth2 libfmt7\n",
      "  libgdal28 libgeos-3.9.0 libgnome-desktop-3-19 libgupnp-1.2-0 libidn11\n",
      "  libigdgmm11 libnetcdf18 libntfs-3g883 libodbc1 libodbccr2 libomp-9-dev\n",
      "  libomp5-9 libperl5.30 libproj19 libqhull8.0 librest-0.7-0 libssl1.0.2\n",
      "  libtepl-5-0 liburcu6 liburing1 libwireshark14 libwiretap11 libwsutil12\n",
      "  libxkbregistry0 libxml-dom-perl libxml-perl libxml-regexp-perl libyara4\n",
      "  linux-image-5.10.0-kali8-amd64 linux-image-5.9.0-kali4-amd64 odbcinst\n",
      "  odbcinst1debian2 python3-editor python3-exif python3-humanize python3-orjson\n",
      "  python3-pbr python3-plotly python3-pylnk python3-stem python3-tenacity\n",
      "  ruby-atomic ruby-thread-safe\n",
      "Use 'sudo apt autoremove' to remove them.\n",
      "The following additional packages will be installed:\n",
      "  valgrind-dbg\n",
      "Suggested packages:\n",
      "  valgrind-mpi kcachegrind alleyoop valkyrie\n",
      "The following NEW packages will be installed:\n",
      "  valgrind valgrind-dbg\n",
      "0 upgraded, 2 newly installed, 0 to remove and 271 not upgraded.\n",
      "Need to get 77.8 MB of archives.\n",
      "After this operation, 148 MB of additional disk space will be used.\n",
      "Get:1 http://kali.download/kali kali-rolling/main amd64 valgrind amd64 1:3.18.1-1 [14.1 MB]\n",
      "Get:2 http://kali.download/kali kali-rolling/main amd64 valgrind-dbg amd64 1:3.18.1-1 [63.6 MB]\n",
      "Fetched 77.8 MB in 23s (3,321 kB/s)                                            \u001b[0m\u001b[33m\u001b[33m\u001b[33m\u001b[33m\u001b[33m\u001b[33m\u001b[33m\u001b[33m\u001b[33m\u001b[33m\u001b[33m\u001b[33m\u001b[33m\u001b[33m\u001b[33m\u001b[33m\u001b[33m\u001b[33m\u001b[33m\u001b[33m\u001b[33m\u001b[33m\u001b[33m\u001b[33m\u001b[33m\u001b[33m\u001b[33m\u001b[33m\u001b[33m\u001b[33m\u001b[33m\u001b[33m\u001b[33m\u001b[33m\u001b[33m\n",
      "\n",
      "\u001b7\u001b[0;23r\u001b8\u001b[1ASelecting previously unselected package valgrind.\n",
      "(Reading database ... 363825 files and directories currently installed.)\n",
      "Preparing to unpack .../valgrind_1%3a3.18.1-1_amd64.deb ...\n",
      "\u001b7\u001b[24;0f\u001b[42m\u001b[30mProgress: [  0%]\u001b[49m\u001b[39m [..........................................................] \u001b8\u001b7\u001b[24;0f\u001b[42m\u001b[30mProgress: [ 11%]\u001b[49m\u001b[39m [######....................................................] \u001b8Unpacking valgrind (1:3.18.1-1) ...\n",
      "\u001b7\u001b[24;0f\u001b[42m\u001b[30mProgress: [ 22%]\u001b[49m\u001b[39m [############..............................................] \u001b8Selecting previously unselected package valgrind-dbg.\n",
      "Preparing to unpack .../valgrind-dbg_1%3a3.18.1-1_amd64.deb ...\n",
      "\u001b7\u001b[24;0f\u001b[42m\u001b[30mProgress: [ 33%]\u001b[49m\u001b[39m [###################.......................................] \u001b8Unpacking valgrind-dbg (1:3.18.1-1) ...\n",
      "\u001b7\u001b[24;0f\u001b[42m\u001b[30mProgress: [ 44%]\u001b[49m\u001b[39m [#########################.................................] \u001b8Setting up valgrind (1:3.18.1-1) ...\n",
      "\u001b7\u001b[24;0f\u001b[42m\u001b[30mProgress: [ 56%]\u001b[49m\u001b[39m [################################..........................] \u001b8\u001b7\u001b[24;0f\u001b[42m\u001b[30mProgress: [ 67%]\u001b[49m\u001b[39m [######################################....................] \u001b8Setting up valgrind-dbg (1:3.18.1-1) ...\n",
      "\u001b7\u001b[24;0f\u001b[42m\u001b[30mProgress: [ 78%]\u001b[49m\u001b[39m [#############################################.............] \u001b8\u001b7\u001b[24;0f\u001b[42m\u001b[30mProgress: [ 89%]\u001b[49m\u001b[39m [###################################################.......] \u001b8Processing triggers for kali-menu (2021.4.2) ...\n",
      "Processing triggers for man-db (2.9.4-4) ...\n",
      "\n",
      "Scanning processes...                                                                            ]\n",
      "Scanning linux images...                                                        \n",
      "\n",
      "Running kernel seems to be up-to-date.\n",
      "\n",
      "No services need to be restarted.\n",
      "\n",
      "No containers need to be restarted.\n",
      "\n",
      "No user sessions are running outdated binaries.\n"
     ]
    }
   ],
   "source": [
    "! echo kali | sudo -S apt install valgrind -y"
   ]
  },
  {
   "cell_type": "code",
   "execution_count": 15,
   "metadata": {},
   "outputs": [
    {
     "name": "stdout",
     "output_type": "stream",
     "text": [
      "valgrind-3.18.1\r\n"
     ]
    }
   ],
   "source": [
    "# check valgrind version\n",
    "! valgrind --version"
   ]
  },
  {
   "cell_type": "code",
   "execution_count": 34,
   "metadata": {},
   "outputs": [
    {
     "name": "stdout",
     "output_type": "stream",
     "text": [
      "Reading package lists...\n",
      "Building dependency tree...\n",
      "Reading state information...\n",
      "libc6-dbg is already the newest version (2.33-1).\n",
      "The following packages were automatically installed and are no longer required:\n",
      "  cryptsetup-run fastjar gir1.2-gst-plugins-base-1.0 gnome-desktop3-data\n",
      "  gnome-session-canberra gstreamer1.0-pulseaudio jarwrapper\n",
      "  kali-wallpapers-2021.4 kazam libamtk-5-0 libamtk-5-common libavresample4\n",
      "  libcbor0 libdap27 libdapclient6v5 libepsilon1 libfluidsynth2 libfmt7\n",
      "  libgdal28 libgeos-3.9.0 libgnome-desktop-3-19 libgupnp-1.2-0 libidn11\n",
      "  libigdgmm11 libnetcdf18 libntfs-3g883 libodbc1 libodbccr2 libomp-9-dev\n",
      "  libomp5-9 libperl5.30 libproj19 libqhull8.0 librest-0.7-0 libssl1.0.2\n",
      "  libtepl-5-0 liburcu6 liburing1 libwireshark14 libwiretap11 libwsutil12\n",
      "  libxkbregistry0 libxml-dom-perl libxml-perl libxml-regexp-perl libyara4\n",
      "  linux-image-5.10.0-kali8-amd64 linux-image-5.9.0-kali4-amd64 odbcinst\n",
      "  odbcinst1debian2 python3-editor python3-exif python3-humanize python3-orjson\n",
      "  python3-pbr python3-plotly python3-pylnk python3-stem python3-tenacity\n",
      "  ruby-atomic ruby-thread-safe\n",
      "Use 'sudo apt autoremove' to remove them.\n",
      "0 upgraded, 0 newly installed, 0 to remove and 271 not upgraded.\n",
      "Reading package lists...\n",
      "Building dependency tree...\n",
      "Reading state information...\n",
      "The following packages were automatically installed and are no longer required:\n",
      "  cryptsetup-run fastjar gir1.2-gst-plugins-base-1.0 gnome-desktop3-data\n",
      "  gnome-session-canberra gstreamer1.0-pulseaudio jarwrapper\n",
      "  kali-wallpapers-2021.4 kazam libamtk-5-0 libamtk-5-common libavresample4\n",
      "  libcbor0 libdap27 libdapclient6v5 libepsilon1 libfluidsynth2 libfmt7\n",
      "  libgdal28 libgeos-3.9.0 libgnome-desktop-3-19 libgupnp-1.2-0 libidn11\n",
      "  libigdgmm11 libnetcdf18 libntfs-3g883 libodbc1 libodbccr2 libomp-9-dev\n",
      "  libomp5-9 libperl5.30 libproj19 libqhull8.0 librest-0.7-0 libssl1.0.2\n",
      "  libtepl-5-0 liburcu6 liburing1 libwireshark14 libwiretap11 libwsutil12\n",
      "  libxkbregistry0 libxml-dom-perl libxml-perl libxml-regexp-perl libyara4\n",
      "  linux-image-5.10.0-kali8-amd64 linux-image-5.9.0-kali4-amd64 odbcinst\n",
      "  odbcinst1debian2 python3-editor python3-exif python3-humanize python3-orjson\n",
      "  python3-pbr python3-plotly python3-pylnk python3-stem python3-tenacity\n",
      "  ruby-atomic ruby-thread-safe\n",
      "Use 'sudo apt autoremove' to remove them.\n",
      "The following additional packages will be installed:\n",
      "  gcc-11-base:i386 libc6:i386 libgcc-s1:i386 libidn2-0:i386 libunistring2:i386\n",
      "Suggested packages:\n",
      "  glibc-doc:i386 locales:i386 libnss-nis:i386 libnss-nisplus:i386\n",
      "The following NEW packages will be installed:\n",
      "  gcc-11-base:i386 libc6:i386 libc6-dbg:i386 libgcc-s1:i386 libidn2-0:i386\n",
      "  libunistring2:i386\n",
      "0 upgraded, 6 newly installed, 0 to remove and 271 not upgraded.\n",
      "Need to get 10.9 MB of archives.\n",
      "After this operation, 26.1 MB of additional disk space will be used.\n",
      "Get:1 http://kali.download/kali kali-rolling/main i386 gcc-11-base i386 11.2.0-13 [207 kB]\n",
      "Get:2 http://kali.download/kali kali-rolling/main i386 libgcc-s1 i386 11.2.0-13 [49.8 kB]\n",
      "Get:3 http://kali.download/kali kali-rolling/main i386 libc6 i386 2.33-1 [2,783 kB]\n",
      "Get:4 http://kali.download/kali kali-rolling/main i386 libc6-dbg i386 2.33-1 [7,390 kB]\n",
      "Get:5 http://kali.download/kali kali-rolling/main i386 libunistring2 i386 0.9.10-6 [391 kB]\n",
      "Get:6 http://kali.download/kali kali-rolling/main i386 libidn2-0 i386 2.3.2-2 [96.4 kB]\n",
      "Fetched 10.9 MB in 4s (2,532 kB/s)\n",
      "Selecting previously unselected package gcc-11-base:i386.\r\n",
      "(Reading database ... \r",
      "(Reading database ... 5%\r",
      "(Reading database ... 10%\r",
      "(Reading database ... 15%\r",
      "(Reading database ... 20%\r",
      "(Reading database ... 25%\r",
      "(Reading database ... 30%\r",
      "(Reading database ... 35%\r",
      "(Reading database ... 40%\r",
      "(Reading database ... 45%\r",
      "(Reading database ... 50%\r",
      "(Reading database ... 55%\r",
      "(Reading database ... 60%\r",
      "(Reading database ... 65%\r",
      "(Reading database ... 70%\r",
      "(Reading database ... 75%\r",
      "(Reading database ... 80%\r",
      "(Reading database ... 85%\r",
      "(Reading database ... 90%\r",
      "(Reading database ... 95%\r",
      "(Reading database ... 100%\r",
      "(Reading database ... 364253 files and directories currently installed.)\r\n",
      "Preparing to unpack .../0-gcc-11-base_11.2.0-13_i386.deb ...\r\n",
      "Unpacking gcc-11-base:i386 (11.2.0-13) ...\r\n",
      "Selecting previously unselected package libgcc-s1:i386.\r\n",
      "Preparing to unpack .../1-libgcc-s1_11.2.0-13_i386.deb ...\r\n",
      "Unpacking libgcc-s1:i386 (11.2.0-13) ...\r\n",
      "Selecting previously unselected package libc6:i386.\r\n",
      "Preparing to unpack .../2-libc6_2.33-1_i386.deb ...\r\n",
      "Unpacking libc6:i386 (2.33-1) ...\r\n",
      "Replacing files in old package libc6-i386 (2.33-1) ...\r\n",
      "Selecting previously unselected package libc6-dbg:i386.\r\n",
      "Preparing to unpack .../3-libc6-dbg_2.33-1_i386.deb ...\r\n",
      "Unpacking libc6-dbg:i386 (2.33-1) ...\r\n",
      "Selecting previously unselected package libunistring2:i386.\r\n",
      "Preparing to unpack .../4-libunistring2_0.9.10-6_i386.deb ...\r\n",
      "Unpacking libunistring2:i386 (0.9.10-6) ...\r\n",
      "Selecting previously unselected package libidn2-0:i386.\r\n",
      "Preparing to unpack .../5-libidn2-0_2.3.2-2_i386.deb ...\r\n",
      "Unpacking libidn2-0:i386 (2.3.2-2) ...\r\n",
      "Setting up gcc-11-base:i386 (11.2.0-13) ...\r\n",
      "Setting up libgcc-s1:i386 (11.2.0-13) ...\r\n",
      "Setting up libc6:i386 (2.33-1) ...\r\n",
      "Setting up libunistring2:i386 (0.9.10-6) ...\r\n",
      "Setting up libidn2-0:i386 (2.3.2-2) ...\r\n",
      "Setting up libc6-dbg:i386 (2.33-1) ...\r\n",
      "Processing triggers for libc-bin (2.33-1) ...\r\n",
      "\n",
      "Running kernel seems to be up-to-date.\n",
      "\n",
      "No services need to be restarted.\n",
      "\n",
      "No containers need to be restarted.\n",
      "\n",
      "No user sessions are running outdated binaries.\n"
     ]
    },
    {
     "name": "stderr",
     "output_type": "stream",
     "text": [
      "[sudo] password for kali: \n",
      "WARNING: apt does not have a stable CLI interface. Use with caution in scripts.\n",
      "\n",
      "\n",
      "WARNING: apt does not have a stable CLI interface. Use with caution in scripts.\n",
      "\n",
      "dpkg-preconfigure: unable to re-open stdin: No such file or directory\n"
     ]
    }
   ],
   "source": [
    "%%bash\n",
    "# install libc6-dbg:i386 for debugging x86 program in x64\n",
    "echo kali | sudo -S sudo apt install libc6-dbg -y\n",
    "echo kali | sudo -S sudo apt install libc6-dbg:i386 -y"
   ]
  },
  {
   "cell_type": "code",
   "execution_count": 36,
   "metadata": {},
   "outputs": [
    {
     "name": "stdout",
     "output_type": "stream",
     "text": [
      "  #include <stdlib.h>\r\n",
      "  #include <cstring>\r\n",
      "  #include <cstdio>\r\n",
      "\r\n",
      "  void f(char * arg)\r\n",
      "  {\r\n",
      "  \t // C dynamic memory\r\n",
      "     int* x = (int *)malloc(10 * sizeof(int));\r\n",
      "     // C++ dynamic memory\r\n",
      "     char* name = new char[20];\r\n",
      "     \r\n",
      "     x[10] = 0;        // problem 1: heap block overrun\r\n",
      "                      // problem 2: memory leak -- x not freed\r\n",
      "     strcpy(name, arg);\r\n",
      "     // problem 1: heap block overrun\r\n",
      "     // problem 2: memory leak -- x not freed\r\n",
      "     printf(\"Hello %s\\n\", arg);\r\n",
      "  }\r\n",
      "\r\n",
      "  int main(int argc, char* argv[1])\r\n",
      "  {\r\n",
      "  \t // what if f() is called over and again in an infinite loop, e.g. \r\n",
      "     f(argv[1]);\r\n",
      "     return 0;\r\n",
      "  }\r\n"
     ]
    }
   ],
   "source": [
    "# let's use demos/memory_leak.cpp program for demo\n",
    "! cat demos/memory_leak.cpp"
   ]
  },
  {
   "cell_type": "code",
   "execution_count": 26,
   "metadata": {},
   "outputs": [],
   "source": [
    "# compile with -g -o0 options to use with valgrind\n",
    "! g++ -m32 -g -o0 demos/memory_leak.cpp -o memory_leak.exe"
   ]
  },
  {
   "cell_type": "code",
   "execution_count": 28,
   "metadata": {},
   "outputs": [
    {
     "name": "stdout",
     "output_type": "stream",
     "text": [
      "Hello John\r\n"
     ]
    }
   ],
   "source": [
    "# Run the program with an argument\n",
    "! ./memory_leak.exe John"
   ]
  },
  {
   "cell_type": "code",
   "execution_count": 43,
   "metadata": {},
   "outputs": [
    {
     "name": "stdout",
     "output_type": "stream",
     "text": [
      "malloc(): corrupted top size\r\n"
     ]
    }
   ],
   "source": [
    "# program crashes or behaves differently\n",
    "! ./memory_leak.exe \"some very very very very long string\""
   ]
  },
  {
   "cell_type": "code",
   "execution_count": 35,
   "metadata": {},
   "outputs": [
    {
     "name": "stdout",
     "output_type": "stream",
     "text": [
      "==37887== Memcheck, a memory error detector\n",
      "==37887== Copyright (C) 2002-2017, and GNU GPL'd, by Julian Seward et al.\n",
      "==37887== Using Valgrind-3.18.1 and LibVEX; rerun with -h for copyright info\n",
      "==37887== Command: ./memory_leak.exe John\\ Smith\n",
      "==37887== \n",
      "==37887== Invalid write of size 4\n",
      "==37887==    at 0x109205: f(char*) (memory_leak.cpp:12)\n",
      "==37887==    by 0x109264: main (memory_leak.cpp:23)\n",
      "==37887==  Address 0x4d94a80 is 0 bytes after a block of size 40 alloc'd\n",
      "==37887==    at 0x483E670: malloc (vg_replace_malloc.c:381)\n",
      "==37887==    by 0x1091E8: f(char*) (memory_leak.cpp:8)\n",
      "==37887==    by 0x109264: main (memory_leak.cpp:23)\n",
      "==37887== \n",
      "Hello John Smith\n",
      "==37887== \n",
      "==37887== HEAP SUMMARY:\n",
      "==37887==     in use at exit: 60 bytes in 2 blocks\n",
      "==37887==   total heap usage: 4 allocs, 2 frees, 20,028 bytes allocated\n",
      "==37887== \n",
      "==37887== 20 bytes in 1 blocks are definitely lost in loss record 1 of 2\n",
      "==37887==    at 0x484000B: operator new[](unsigned int) (vg_replace_malloc.c:633)\n",
      "==37887==    by 0x1091F8: f(char*) (memory_leak.cpp:10)\n",
      "==37887==    by 0x109264: main (memory_leak.cpp:23)\n",
      "==37887== \n",
      "==37887== 40 bytes in 1 blocks are definitely lost in loss record 2 of 2\n",
      "==37887==    at 0x483E670: malloc (vg_replace_malloc.c:381)\n",
      "==37887==    by 0x1091E8: f(char*) (memory_leak.cpp:8)\n",
      "==37887==    by 0x109264: main (memory_leak.cpp:23)\n",
      "==37887== \n",
      "==37887== LEAK SUMMARY:\n",
      "==37887==    definitely lost: 60 bytes in 2 blocks\n",
      "==37887==    indirectly lost: 0 bytes in 0 blocks\n",
      "==37887==      possibly lost: 0 bytes in 0 blocks\n",
      "==37887==    still reachable: 0 bytes in 0 blocks\n",
      "==37887==         suppressed: 0 bytes in 0 blocks\n",
      "==37887== \n",
      "==37887== For lists of detected and suppressed errors, rerun with: -s\n",
      "==37887== ERROR SUMMARY: 3 errors from 3 contexts (suppressed: 0 from 0)\n"
     ]
    }
   ],
   "source": [
    "! valgrind --leak-check=yes ./memory_leak.exe \"John Smith\""
   ]
  },
  {
   "cell_type": "markdown",
   "metadata": {},
   "source": [
    "### Fix memory leak and over-run issues\n",
    "- see `demos/memory_leak_fixed.cpp` for demo"
   ]
  },
  {
   "cell_type": "code",
   "execution_count": 37,
   "metadata": {},
   "outputs": [
    {
     "name": "stdout",
     "output_type": "stream",
     "text": [
      "  #include <stdlib.h>\r\n",
      "  #include <cstring>\r\n",
      "  #include <cstdio>\r\n",
      "\r\n",
      "  void f(char * arg)\r\n",
      "  {\r\n",
      "  \t // C dynamic memory\r\n",
      "     int* x = (int *)malloc(10 * sizeof(int));\r\n",
      "     // C++ dynamic memory\r\n",
      "     char* name = new char[20];\r\n",
      "     \r\n",
      "     x[9] = 0;        // problem 1: heap block overrun\r\n",
      "                      // problem 2: memory leak -- x not freed\r\n",
      "     strncpy(name, arg, sizeof(name)-1);\r\n",
      "     name[19] = '\\0';\r\n",
      "     // problem 1: heap block overrun\r\n",
      "     // problem 2: memory leak -- name not freed\r\n",
      "     printf(\"Hello %s\\n\", name);\r\n",
      "     free(x); // C\r\n",
      "     delete[] name; // C++\r\n",
      "  }\r\n",
      "\r\n",
      "  int main(int argc, char* argv[1])\r\n",
      "  {\r\n",
      "  \t // what if f() is called over and again in an infinite loop, e.g. \r\n",
      "     f(argv[1]);\r\n",
      "     return 0;\r\n",
      "  }\r\n"
     ]
    }
   ],
   "source": [
    "! cat demos/memory_leak_fixed.cpp"
   ]
  },
  {
   "cell_type": "code",
   "execution_count": 40,
   "metadata": {},
   "outputs": [],
   "source": [
    "# compile with -g -o0 options to use with valgrind\n",
    "! g++ -m32 -g -o0 demos/memory_leak_fixed.cpp -o memory_leak_fixed.exe"
   ]
  },
  {
   "cell_type": "code",
   "execution_count": 41,
   "metadata": {},
   "outputs": [
    {
     "name": "stdout",
     "output_type": "stream",
     "text": [
      "Hello some very very very\r\n"
     ]
    }
   ],
   "source": [
    "! ./memory_leak_fixed.exe \"some very very very very long string\""
   ]
  },
  {
   "cell_type": "code",
   "execution_count": 44,
   "metadata": {},
   "outputs": [
    {
     "name": "stdout",
     "output_type": "stream",
     "text": [
      "==38298== Memcheck, a memory error detector\n",
      "==38298== Copyright (C) 2002-2017, and GNU GPL'd, by Julian Seward et al.\n",
      "==38298== Using Valgrind-3.18.1 and LibVEX; rerun with -h for copyright info\n",
      "==38298== Command: ./memory_leak_fixed.exe some\\ very\\ very\\ very\\ very\\ long\\ string\n",
      "==38298== \n",
      "Hello some very very very\n",
      "==38298== \n",
      "==38298== HEAP SUMMARY:\n",
      "==38298==     in use at exit: 0 bytes in 0 blocks\n",
      "==38298==   total heap usage: 4 allocs, 4 frees, 20,028 bytes allocated\n",
      "==38298== \n",
      "==38298== All heap blocks were freed -- no leaks are possible\n",
      "==38298== \n",
      "==38298== For lists of detected and suppressed errors, rerun with: -s\n",
      "==38298== ERROR SUMMARY: 0 errors from 0 contexts (suppressed: 0 from 0)\n"
     ]
    }
   ],
   "source": [
    "! ! valgrind --leak-check=yes ./memory_leak_fixed.exe \"some very very very very long string\""
   ]
  },
  {
   "cell_type": "code",
   "execution_count": null,
   "metadata": {},
   "outputs": [],
   "source": []
  }
 ],
 "metadata": {
  "kernelspec": {
   "display_name": "Python 3",
   "language": "python",
   "name": "python3"
  },
  "language_info": {
   "codemirror_mode": {
    "name": "ipython",
    "version": 3
   },
   "file_extension": ".py",
   "mimetype": "text/x-python",
   "name": "python",
   "nbconvert_exporter": "python",
   "pygments_lexer": "ipython3",
   "version": "3.8.10"
  }
 },
 "nbformat": 4,
 "nbformat_minor": 4
}
