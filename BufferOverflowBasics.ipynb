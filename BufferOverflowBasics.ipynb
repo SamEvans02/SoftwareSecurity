{
 "cells": [
  {
   "cell_type": "markdown",
   "metadata": {},
   "source": [
    "# Buffer Overflow\n",
    "\n",
    "- one of the top 25 most dangerous software errors according to Common Weakness Enemuration (CWE) for several years as recently as 2019 [https://cwe.mitre.org/top25/archive/2019/2019_cwe_top25.html](https://cwe.mitre.org/top25/archive/2019/2019_cwe_top25.html)\n",
    "- most Internet worms use buffer overflow vulnerabilities to propagate\n",
    "- C and C++ assume that programmers are responsible for data integrity\n",
    "- modern compilers and OSes provide various protections making it harder to exploit traditional buffer overflows\n",
    "- once the buffer/memory is allocated, there's no built-in mechanism to safeguard the amount of data that can be stored into\n",
    "    - this is called buffer overrun or buffer overflow\n",
    "    - user data may overwrite other part of the memory it's not supposed to making the program behave differently or crashing it\n",
    "    - attackers could take advantage of this flaw to control the program and may pawn the system by executing shellcode or payload of their choice\n",
    "- buffer overflow can violate all three core principles of **CIA** triad - **Confidentiality, Integrity, and Availability**\n",
    "- **Confidentiality**: allows attackers to read confidential or data that they're not supposed to have access to\n",
    "- **Integrity**: allows attackers to modify part of the data/program that they're not supposed to\n",
    "- **Availability**: allows attackes to crash the system (SEGFAULT) violating availbility of the service\n",
    "\n",
    "- typically two types:\n",
    "    1. stack overflow\n",
    "    2. heap overflow\n",
    "- in this chapter, we'll focus on stack overflow"
   ]
  },
  {
   "cell_type": "markdown",
   "metadata": {},
   "source": [
    "## Disable ASLR and other compiler protections\n",
    "- compile.sh script disables ASLR and compiler protections"
   ]
  },
  {
   "cell_type": "code",
   "execution_count": 1,
   "metadata": {},
   "outputs": [
    {
     "name": "stdout",
     "output_type": "stream",
     "text": [
      "0\r\n"
     ]
    }
   ],
   "source": [
    "# if value is 0; ASLR is disabled\n",
    "! cat /proc/sys/kernel/randomize_va_space"
   ]
  },
  {
   "cell_type": "code",
   "execution_count": null,
   "metadata": {},
   "outputs": [
    {
     "name": "stdout",
     "output_type": "stream",
     "text": [
      "[sudo] password for kali: "
     ]
    }
   ],
   "source": [
    "# run this on terminal\n",
    "# can't interactively type sudo password!\n",
    "! echo 0 | sudo tee /proc/sys/kernel/randomize_va_space"
   ]
  },
  {
   "cell_type": "markdown",
   "metadata": {},
   "source": [
    "## Program's memory and stack may shift\n",
    "- programs and data must be loaded into RAM inorder to execute\n",
    "- depending on how the program is launched, several factors make the program's location in memory shift\n",
    "    - even after virtual-address space randomization is disabled\n",
    "- e.g. environment variables, length of program name, argument length to program, etc.\n",
    "\n",
    "### see the difference between stack_overflow_demo.cpp and stack_overflow_demo1.cpp\n",
    "- stack_overflow_demo.cpp doesn't take any argument from commandline\n",
    "    - interactive program that prompts user to enter some text\n",
    "- stack_overflow_demo1.cpp takes\n",
    "    - uses argument provided to the program\n",
    "    - doesn't prompt user\n",
    "- let's compile and run these programs to see the address of buffer"
   ]
  },
  {
   "cell_type": "code",
   "execution_count": 153,
   "metadata": {},
   "outputs": [],
   "source": [
    "%%bash\n",
    "cp ./booksrc/stack_overflow_demo.cpp .\n",
    "cp ./booksrc/stack_overflow_demo1.cpp ."
   ]
  },
  {
   "cell_type": "code",
   "execution_count": 154,
   "metadata": {},
   "outputs": [
    {
     "name": "stdout",
     "output_type": "stream",
     "text": [
      "#include <cstdio>\r\n",
      "#include <cstring>\r\n",
      "#include <iostream>\r\n",
      "\r\n",
      "using namespace std;\r\n",
      "\r\n",
      "void bad() {\r\n",
      "    char buffer[100];\r\n",
      "    printf(\"buffer is at %p\\n\", buffer);\r\n",
      "    cout << \"Enter some text: \";\r\n",
      "    cin >> buffer;\r\n",
      "    cout << \"buffer contains: \\n\" << buffer << endl;\r\n",
      "}\r\n",
      "\r\n",
      "int main(void) {\r\n",
      "    bad();\r\n",
      "    cout << \"Good bye!\" << endl;\r\n",
      "    return 0;\r\n",
      "}"
     ]
    }
   ],
   "source": [
    "! cat stack_overflow_demo.cpp"
   ]
  },
  {
   "cell_type": "code",
   "execution_count": 155,
   "metadata": {},
   "outputs": [
    {
     "name": "stdout",
     "output_type": "stream",
     "text": [
      "#include <cstdio>\r\n",
      "#include <cstring>\r\n",
      "#include <iostream>\r\n",
      "\r\n",
      "using namespace std;\r\n",
      "\r\n",
      "void bad(char *data) {\r\n",
      "    char buffer[100];\r\n",
      "    printf(\"buffer is at %p\\n\", buffer);\r\n",
      "    strcpy(buffer, data);\r\n",
      "    cout << \"buffer contains: \\n\" << buffer << endl;\r\n",
      "}\r\n",
      "\r\n",
      "int main(int argc, char *argv[]) {\r\n",
      "    bad(argv[1]);\r\n",
      "    cout << \"Good bye!\" << endl;\r\n",
      "    return 0;\r\n",
      "}"
     ]
    }
   ],
   "source": [
    "! cat stack_overflow_demo1.cpp"
   ]
  },
  {
   "cell_type": "markdown",
   "metadata": {},
   "source": [
    "### buffer address in stack_overflow_demo.cpp"
   ]
  },
  {
   "cell_type": "code",
   "execution_count": 156,
   "metadata": {},
   "outputs": [
    {
     "name": "stdout",
     "output_type": "stream",
     "text": [
      "[sudo] password for kali: "
     ]
    }
   ],
   "source": [
    "# let's compile the program and run it\n",
    "! echo kali | sudo -S ./compile.sh stack_overflow_demo.cpp stack_overflow_demo.exe"
   ]
  },
  {
   "cell_type": "code",
   "execution_count": 157,
   "metadata": {},
   "outputs": [
    {
     "name": "stdout",
     "output_type": "stream",
     "text": [
      "buffer is at 0xffffc2dc\r\n",
      "Enter some text: buffer contains: \r\n",
      "Hello_World\r\n",
      "Good bye!\r\n"
     ]
    }
   ],
   "source": [
    "# since stack_overflow_demo.exe is an interactive program,\n",
    "# you must pipe some data into the program on Jupyter Notebook\n",
    "# On terminal, you can either pipe or interactively type when prompted\n",
    "! echo \"Hello_World\" | ./stack_overflow_demo.exe\n",
    "# Note the address of buffer!"
   ]
  },
  {
   "cell_type": "code",
   "execution_count": 158,
   "metadata": {},
   "outputs": [
    {
     "name": "stdout",
     "output_type": "stream",
     "text": [
      "buffer is at 0xffffc2dc\r\n",
      "Enter some text: buffer contains: \r\n",
      "AAAAAAAAAAAAAAAAAAAAAAAAAAAAAAAAAAAAAAAAAAAAAAAAAAAAAAAAAAAAAAAAAAAAAAAAAAAAAAAAAAAAAAAAAAAAAAAAAAAA\r\n",
      "Good bye!\r\n"
     ]
    }
   ],
   "source": [
    "! python -c 'print(\"A\"*100)' | ./stack_overflow_demo.exe\n",
    "# Note the address of buffer!"
   ]
  },
  {
   "cell_type": "code",
   "execution_count": 159,
   "metadata": {},
   "outputs": [
    {
     "name": "stdout",
     "output_type": "stream",
     "text": [
      "buffer is at 0xffffc2dc\r\n",
      "Enter some text: buffer contains: \r\n",
      "AAAAAAAAAAAAAAAAAAAAAAAAAAAAAAAAAAAAAAAAAAAAAAAAAAAAAAAAAAAAAAAAAAAAAAAAAAAAAAAAAAAAAAAAAAAAAAAAAAAAAAAAAAAAAAAAAAAAAAAAAAAAAAAAAAAAAAAAAAAAAAAAAAAAAAAAAAAAAAAAAAAAAAAAAAAAAAAAAAAAAAAAAAAAAAAAAAAAAAAA\r\n",
      "/bin/bash: line 1: 39852 Done                    python -c 'print(\"A\"*200)'\r\n",
      "     39853 Segmentation fault      | ./stack_overflow_demo.exe\r\n"
     ]
    }
   ],
   "source": [
    "! python -c 'print(\"A\"*200)' | ./stack_overflow_demo.exe\n",
    "# Note the address of buffer!"
   ]
  },
  {
   "cell_type": "markdown",
   "metadata": {},
   "source": [
    "- Notice the same address for buffer in stack_overflow_demo.exe no matter how long the user-entered text is\n",
    "\n",
    "## buffer address in stack_overflow_demo1.cpp\n",
    "- compile and run the program and notice the address of buffer at different location"
   ]
  },
  {
   "cell_type": "code",
   "execution_count": 160,
   "metadata": {},
   "outputs": [
    {
     "name": "stdout",
     "output_type": "stream",
     "text": [
      "[sudo] password for kali: "
     ]
    }
   ],
   "source": [
    "! echo kali | sudo -S ./compile.sh stack_overflow_demo1.cpp stack_overflow_demo1.exe"
   ]
  },
  {
   "cell_type": "code",
   "execution_count": 161,
   "metadata": {},
   "outputs": [
    {
     "name": "stdout",
     "output_type": "stream",
     "text": [
      "buffer is at 0xffffc2bc\r\n",
      "buffer contains: \r\n",
      "Hello World\r\n",
      "Good bye!\r\n"
     ]
    }
   ],
   "source": [
    "# run the program with an argument\n",
    "# Note you CAN'T pipe the argument into the program as in previous example!\n",
    "! ./stack_overflow_demo1.exe \"Hello World\"\n",
    "# Note the address of buffer"
   ]
  },
  {
   "cell_type": "code",
   "execution_count": 162,
   "metadata": {},
   "outputs": [
    {
     "name": "stdout",
     "output_type": "stream",
     "text": [
      "buffer is at 0xffffc2bc\r\n",
      "buffer contains: \r\n",
      "Hello World\r\n",
      "Good bye!\r\n"
     ]
    }
   ],
   "source": [
    "! ./stack_overflow_demo1.exe \"Hello World\"\n",
    "# Note the address of buffer; no change because same program is run with the same length of argument"
   ]
  },
  {
   "cell_type": "code",
   "execution_count": 163,
   "metadata": {},
   "outputs": [
    {
     "name": "stdout",
     "output_type": "stream",
     "text": [
      "buffer is at 0xffffc26c\r\n",
      "buffer contains: \r\n",
      "AAAAAAAAAAAAAAAAAAAAAAAAAAAAAAAAAAAAAAAAAAAAAAAAAAAAAAAAAAAAAAAAAAAAAAAAAAAAAAAAAAAAAAAAAAAAAAAAAAAA\r\n",
      "Good bye!\r\n"
     ]
    }
   ],
   "source": [
    "! ./stack_overflow_demo1.exe $(python -c 'print(\"A\"*100)')\n",
    "# Note the address of buffer!"
   ]
  },
  {
   "cell_type": "code",
   "execution_count": 164,
   "metadata": {},
   "outputs": [
    {
     "name": "stdout",
     "output_type": "stream",
     "text": [
      "buffer is at 0xffffc20c\r\n",
      "buffer contains: \r\n",
      "AAAAAAAAAAAAAAAAAAAAAAAAAAAAAAAAAAAAAAAAAAAAAAAAAAAAAAAAAAAAAAAAAAAAAAAAAAAAAAAAAAAAAAAAAAAAAAAAAAAAAAAAAAAAAAAAAAAAAAAAAAAAAAAAAAAAAAAAAAAAAAAAAAAAAAAAAAAAAAAAAAAAAAAAAAAAAAAAAAAAAAAAAAAAAAAAAAAAAAAA\r\n"
     ]
    }
   ],
   "source": [
    "! ./stack_overflow_demo1.exe $(python -c 'print(\"A\"*200)')\n",
    "# Note the address of buffer!"
   ]
  },
  {
   "cell_type": "markdown",
   "metadata": {},
   "source": [
    "## length of the program name\n",
    "- let's give names of different lengths to the same program and notice the address of buffer\n",
    "- this is true regardless the program takes an argument or not \n",
    "    - NOTE the name of the program itself is passed as an argument to the program as an environment variable"
   ]
  },
  {
   "cell_type": "code",
   "execution_count": 165,
   "metadata": {},
   "outputs": [
    {
     "name": "stdout",
     "output_type": "stream",
     "text": [
      "[sudo] password for kali: "
     ]
    }
   ],
   "source": [
    "# let's compile the program and run stack_overflow_demo.cpp\n",
    "! echo kali | sudo -S ./compile.sh stack_overflow_demo.cpp stack_overflow_demo.exe"
   ]
  },
  {
   "cell_type": "code",
   "execution_count": 166,
   "metadata": {},
   "outputs": [
    {
     "name": "stdout",
     "output_type": "stream",
     "text": [
      "buffer is at 0xffffc2dc\r\n",
      "Enter some text: buffer contains: \r\n",
      "Hello_World\r\n",
      "Good bye!\r\n"
     ]
    }
   ],
   "source": [
    "! echo \"Hello_World\" | ./stack_overflow_demo.exe"
   ]
  },
  {
   "cell_type": "code",
   "execution_count": 167,
   "metadata": {},
   "outputs": [
    {
     "name": "stdout",
     "output_type": "stream",
     "text": [
      "buffer is at 0xffffc2dc\r\n",
      "Enter some text: buffer contains: \r\n",
      "Hello_World\r\n",
      "Good bye!\r\n"
     ]
    }
   ],
   "source": [
    "# if the same program is run multiple times, \n",
    "! echo \"Hello_World\" | ./stack_overflow_demo.exe\n",
    "# Notice no change in buffer address"
   ]
  },
  {
   "cell_type": "code",
   "execution_count": 168,
   "metadata": {},
   "outputs": [
    {
     "name": "stdout",
     "output_type": "stream",
     "text": [
      "[sudo] password for kali: "
     ]
    }
   ],
   "source": [
    "# let's compile the program and run stack_overflow_demo.cpp\n",
    "! echo kali | sudo -S ./compile.sh stack_overflow_demo.cpp stack.exe"
   ]
  },
  {
   "cell_type": "code",
   "execution_count": 169,
   "metadata": {},
   "outputs": [
    {
     "name": "stdout",
     "output_type": "stream",
     "text": [
      "buffer is at 0xffffc30c\r\n",
      "Enter some text: buffer contains: \r\n",
      "Hello_World\r\n",
      "Good bye!\r\n"
     ]
    }
   ],
   "source": [
    "! echo \"Hello_World\" | ./stack.exe"
   ]
  },
  {
   "cell_type": "code",
   "execution_count": 170,
   "metadata": {},
   "outputs": [
    {
     "name": "stdout",
     "output_type": "stream",
     "text": [
      "[sudo] password for kali: "
     ]
    }
   ],
   "source": [
    "# let's compile the program and run stack_overflow_demo.cpp; output program name is stack1.exe\n",
    "! echo kali | sudo -S ./compile.sh stack_overflow_demo.cpp stack1.exe"
   ]
  },
  {
   "cell_type": "code",
   "execution_count": 171,
   "metadata": {},
   "outputs": [
    {
     "name": "stdout",
     "output_type": "stream",
     "text": [
      "buffer is at 0xffffc30c\r\n",
      "Enter some text: buffer contains: \r\n",
      "Hello_World\r\n",
      "Good bye!\r\n"
     ]
    }
   ],
   "source": [
    "! echo \"Hello_World\" | ./stack1.exe"
   ]
  },
  {
   "cell_type": "code",
   "execution_count": 172,
   "metadata": {},
   "outputs": [
    {
     "name": "stdout",
     "output_type": "stream",
     "text": [
      "[sudo] password for kali: "
     ]
    }
   ],
   "source": [
    "# let's compile the program and run stack_overflow_demo.cpp; output program name is stack11.exe\n",
    "! echo kali | sudo -S ./compile.sh stack_overflow_demo.cpp stack11.exe"
   ]
  },
  {
   "cell_type": "code",
   "execution_count": 173,
   "metadata": {},
   "outputs": [
    {
     "name": "stdout",
     "output_type": "stream",
     "text": [
      "buffer is at 0xffffc30c\r\n",
      "Enter some text: buffer contains: \r\n",
      "Hello_World\r\n",
      "Good bye!\r\n"
     ]
    }
   ],
   "source": [
    "! echo \"Hello_World\" | ./stack11.exe\n",
    "# perhaps, filename is not long engouh to make a difference"
   ]
  },
  {
   "cell_type": "code",
   "execution_count": 174,
   "metadata": {},
   "outputs": [
    {
     "name": "stdout",
     "output_type": "stream",
     "text": [
      "buffer is at 0xffffc2fc\n",
      "Enter some text: buffer contains: \n",
      "Hello_World\n",
      "Good bye!\n"
     ]
    },
    {
     "name": "stderr",
     "output_type": "stream",
     "text": [
      "[sudo] password for kali: "
     ]
    }
   ],
   "source": [
    "%%bash\n",
    "# let's compile the program and run stack_overflow_demo.cpp; output program name is stack11111.exe\n",
    "echo kali | sudo -S ./compile.sh stack_overflow_demo.cpp stack11111.exe\n",
    "echo \"Hello_World\" | ./stack11111.exe"
   ]
  },
  {
   "cell_type": "code",
   "execution_count": null,
   "metadata": {},
   "outputs": [],
   "source": []
  }
 ],
 "metadata": {
  "kernelspec": {
   "display_name": "Python 3",
   "language": "python",
   "name": "python3"
  },
  "language_info": {
   "codemirror_mode": {
    "name": "ipython",
    "version": 3
   },
   "file_extension": ".py",
   "mimetype": "text/x-python",
   "name": "python",
   "nbconvert_exporter": "python",
   "pygments_lexer": "ipython3",
   "version": "3.8.3"
  }
 },
 "nbformat": 4,
 "nbformat_minor": 2
}
