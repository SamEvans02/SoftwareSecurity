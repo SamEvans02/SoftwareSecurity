{
 "cells": [
  {
   "cell_type": "markdown",
   "metadata": {},
   "source": [
    "# Buffer Overflow\n",
    "\n",
    "- one of the top 25 most dangerous software errors according to Common Weakness Enemuration (CWE) for several years as recently as 2019 [https://cwe.mitre.org/top25/archive/2019/2019_cwe_top25.html](https://cwe.mitre.org/top25/archive/2019/2019_cwe_top25.html)\n",
    "- learn buffer overflow with animation - [https://mirrorlearning.org/emate2/bufferoverflow/pub/bufferoverflow/Assets/index.html](https://mirrorlearning.org/emate2/bufferoverflow/pub/bufferoverflow/Assets/index.html)\n",
    "- most Internet worms use buffer overflow vulnerabilities to propagate\n",
    "- C and C++ assume that programmers are responsible for data integrity\n",
    "- modern compilers and OSes provide various protections making it harder to exploit traditional buffer overflows\n",
    "- once the buffer/memory is allocated, there's no built-in mechanism to safeguard the amount of data that can be stored into\n",
    "    - this is called buffer overrun or buffer overflow\n",
    "    - user data may overwrite other part of the memory it's not supposed to making the program behave differently or crashing it\n",
    "    - attackers could take advantage of this flaw to control the program and may pawn the system by executing shellcode or payload of their choice\n",
    "- buffer overflow can violate all three core principles of **CIA** triad - **Confidentiality, Integrity, and Availability**\n",
    "- **Confidentiality**: allows attackers to read confidential or data that they're not supposed to have access to\n",
    "- **Integrity**: allows attackers to modify part of the data/program that they're not supposed to\n",
    "- **Availability**: allows attackes to crash the system (SEGFAULT) violating availbility of the service\n",
    "\n",
    "- buffer can be overflown in all memory segments (Global, Stack and Heap)\n",
    "- Stack overflow can have the most significant consequences!"
   ]
  },
  {
   "cell_type": "markdown",
   "metadata": {},
   "source": [
    "## Disable ASLR and other compiler protections\n",
    "- compile.sh script disables ASLR and compiler protections"
   ]
  },
  {
   "cell_type": "code",
   "execution_count": 1,
   "metadata": {},
   "outputs": [
    {
     "name": "stdout",
     "output_type": "stream",
     "text": [
      "0\r\n"
     ]
    }
   ],
   "source": [
    "# if value is 0; ASLR is disabled\n",
    "! cat /proc/sys/kernel/randomize_va_space"
   ]
  },
  {
   "cell_type": "code",
   "execution_count": 2,
   "metadata": {},
   "outputs": [
    {
     "name": "stdout",
     "output_type": "stream",
     "text": [
      "[sudo] password for kali: 0\n"
     ]
    }
   ],
   "source": [
    "# disable ASLR if randomize_va_space is not 0\n",
    "! echo kali | sudo -S bash -c 'echo 0 | sudo -S tee /proc/sys/kernel/randomize_va_space'"
   ]
  },
  {
   "cell_type": "markdown",
   "metadata": {},
   "source": [
    "## Program's memory and stack may shift\n",
    "- programs and data must be loaded into RAM inorder to execute\n",
    "- depending on how the program is launched, several factors make the program's location in memory shift\n",
    "    - even after virtual-address space layout randomization is disabled\n",
    "- e.g. environment variables, length of program name, argument length to program, etc.\n",
    "\n",
    "### see the difference between so_arg.cpp and so_stdio.cpp\n",
    "- `demos/stack_overflow/so_stdio.cpp` doesn't take/use any argument\n",
    "    - interactively prompts user to enter some text duing program execution\n",
    "- `demos/stack_overflow/so_arg.cpp` takes data\n",
    "    - uses argument provided to the program\n",
    "    - doesn't prompt user\n",
    "- let's compile and run these programs to see the address of buffer"
   ]
  },
  {
   "cell_type": "code",
   "execution_count": 3,
   "metadata": {},
   "outputs": [
    {
     "name": "stdout",
     "output_type": "stream",
     "text": [
      "#include <cstdio>\r\n",
      "#include <cstring>\r\n",
      "#include <iostream>\r\n",
      "\r\n",
      "using namespace std;\r\n",
      "\r\n",
      "#define BUFSIZE 128\r\n",
      "\r\n",
      "void copydata(char *dst_buf, char *src_buf) {\r\n",
      "    // similar to strcpy in cstdio\r\n",
      "    size_t i = 0;\r\n",
      "    // copy each character from src_buf to des_buffer\r\n",
      "    // stop when NUL character is encountered\r\n",
      "    while (*(src_buf+i) != 0) {\r\n",
      "        *(dst_buf+i) = *(src_buf+i);\r\n",
      "        i++;\r\n",
      "    }\r\n",
      "    *(dst_buf+i) = 0; // end with NUL character\r\n",
      "}\r\n",
      "\r\n",
      "void bad(char *data) {\r\n",
      "    char buffer[BUFSIZE];\r\n",
      "    printf(\"buffer is at %p\\n\", buffer);\r\n",
      "    //strcpy(buffer, data);\r\n",
      "    copydata(buffer, data);\r\n",
      "    cout << \"buffer contains: \\n\" << buffer << endl;\r\n",
      "}\r\n",
      "\r\n",
      "int main(int argc, char *argv[]) {\r\n",
      "    bad(argv[1]);\r\n",
      "    cout << \"Good bye!\" << endl;\r\n",
      "    return 0;\r\n",
      "}"
     ]
    }
   ],
   "source": [
    "! cat demos/stack_overflow/so_arg.cpp"
   ]
  },
  {
   "cell_type": "markdown",
   "metadata": {},
   "source": [
    "- let's compile the program and run it\n",
    "- use the provided compile.sh bash program\n",
    "    - helps in compiling programs disabling all the overflow-related security controls"
   ]
  },
  {
   "cell_type": "code",
   "execution_count": 4,
   "metadata": {},
   "outputs": [
    {
     "name": "stdout",
     "output_type": "stream",
     "text": [
      "#! /bin/bash\r\n",
      "\r\n",
      "# disable aslr\r\n",
      "read aslr < /proc/sys/kernel/randomize_va_space\r\n",
      "if (( $aslr != 0 )); then\r\n",
      "    if (( id -u != 0)); then\r\n",
      "        echo \"Need sudo priviledge to disable aslr...\"\r\n",
      "    fi\r\n",
      "    # provide password for sudo user\r\n",
      "    ls /proc/sys/kernel/randomize_va_space\r\n",
      "    echo 0 | sudo tee /proc/sys/kernel/randomize_va_space\r\n",
      "fi\r\n",
      "\r\n",
      "# compile disabling all the security flags\r\n",
      "if (( $# == 1 )); then\r\n",
      "    g++ -g -m32 -std=c++17 -fno-stack-protector -z execstack -no-pie $1 && echo \"Output file is a.out\"\r\n",
      "elif (( $# == 2 )); then\r\n",
      "    g++ -g -m32 -std=c++17 -fno-stack-protector -z execstack -no-pie -o $2 $1\r\n",
      "else\r\n",
      "    echo \"Error... No input file provided...\"\r\n",
      "    echo \"$0 <inputfile.cpp> [a.out]\"\r\n",
      "fi"
     ]
    }
   ],
   "source": [
    "# let's see the script\n",
    "! cat ./compile.sh"
   ]
  },
  {
   "cell_type": "code",
   "execution_count": 5,
   "metadata": {},
   "outputs": [
    {
     "name": "stdout",
     "output_type": "stream",
     "text": [
      "[sudo] password for kali: "
     ]
    }
   ],
   "source": [
    "! echo kali | sudo -S ./compile.sh demos/stack_overflow/so_arg.cpp so_arg.exe"
   ]
  },
  {
   "cell_type": "code",
   "execution_count": 6,
   "metadata": {},
   "outputs": [
    {
     "name": "stdout",
     "output_type": "stream",
     "text": [
      "buffer is at 0xffffc240\r\n",
      "buffer contains: \r\n",
      "Hello World!\r\n",
      "Good bye!\r\n"
     ]
    }
   ],
   "source": [
    "# provide the argument to program\n",
    "! ./so_arg.exe \"Hello World!\"\n",
    "# Note the address of buffer!"
   ]
  },
  {
   "cell_type": "code",
   "execution_count": 7,
   "metadata": {},
   "outputs": [
    {
     "name": "stdout",
     "output_type": "stream",
     "text": [
      "buffer is at 0xffffc240\r\n",
      "buffer contains: \r\n",
      "HELLO WORLD!\r\n",
      "Good bye!\r\n"
     ]
    }
   ],
   "source": [
    "# provide different argument with the same length to program\n",
    "! ./so_arg.exe \"HELLO WORLD!\"\n",
    "# Note the address of buffer!"
   ]
  },
  {
   "cell_type": "code",
   "execution_count": 8,
   "metadata": {},
   "outputs": [
    {
     "name": "stdout",
     "output_type": "stream",
     "text": [
      "buffer is at 0xffffc1e0\r\n",
      "buffer contains: \r\n",
      "AAAAAAAAAAAAAAAAAAAAAAAAAAAAAAAAAAAAAAAAAAAAAAAAAAAAAAAAAAAAAAAAAAAAAAAAAAAAAAAAAAAAAAAAAAAAAAAAAAAA\r\n",
      "Good bye!\r\n"
     ]
    }
   ],
   "source": [
    "! ./so_arg.exe $(python -c 'print(\"A\"*100)')\n",
    "# Note the address of buffer!"
   ]
  },
  {
   "cell_type": "code",
   "execution_count": 9,
   "metadata": {},
   "outputs": [
    {
     "name": "stdout",
     "output_type": "stream",
     "text": [
      "buffer is at 0xffffc180\r\n",
      "buffer contains: \r\n",
      "AAAAAAAAAAAAAAAAAAAAAAAAAAAAAAAAAAAAAAAAAAAAAAAAAAAAAAAAAAAAAAAAAAAAAAAAAAAAAAAAAAAAAAAAAAAAAAAAAAAAAAAAAAAAAAAAAAAAAAAAAAAAAAAAAAAAAAAAAAAAAAAAAAAAAAAAAAAAAAAAAAAAAAAAAAAAAAAAAAAAAAAAAAAAAAAAAAAAAAAA\r\n"
     ]
    }
   ],
   "source": [
    "! ./so_arg.exe $(python -c 'print(\"A\"*200)')\n",
    "# Note the address of buffer!"
   ]
  },
  {
   "cell_type": "markdown",
   "metadata": {},
   "source": [
    "- Notice the different address for buffer in so_arg.exe based on the length of argument\n",
    "- the address of the buffer shifts within the program\n",
    "- this makes it a little difficult to exploit the program if the argument length varies\n",
    "\n",
    "## buffer address in so_stdio.cpp\n",
    "- compile and run the program and notice the address of buffer"
   ]
  },
  {
   "cell_type": "code",
   "execution_count": 10,
   "metadata": {},
   "outputs": [
    {
     "name": "stdout",
     "output_type": "stream",
     "text": [
      "#include <stdio.h>\r\n",
      "#include <string.h>\r\n",
      "#include <sys/types.h>\r\n",
      "#include <stdlib.h>\r\n",
      "#include <unistd.h>\r\n",
      "#include <iostream>\r\n",
      "using namespace std;\r\n",
      "\r\n",
      "#define BUFSIZE 128\r\n",
      "\r\n",
      "using namespace std;\r\n",
      "\r\n",
      "void give_shell(){\r\n",
      "    // Set the gid to the effective gid\r\n",
      "    // this prevents /bin/sh from dropping the privileges\r\n",
      "    gid_t gid = getegid();\r\n",
      "    setresgid(gid, gid, gid);\r\n",
      "    system(\"/bin/sh\");\r\n",
      "}\r\n",
      "\r\n",
      "char * mgets(char *dst) {\r\n",
      "    char *ptr = dst;\r\n",
      "    int ch; \r\n",
      "\t/* skip leading white spaces */ \r\n",
      "    while ((ch = getchar()) && (ch == ' ' or ch == '\\t') )\r\n",
      "        ; \r\n",
      "\r\n",
      "    if ((ch == '\\n') or (ch == EOF)) { \r\n",
      "        *ptr = '\\0';\r\n",
      "        return dst; \r\n",
      "    } \r\n",
      "    else\r\n",
      "        *ptr = ch;\r\n",
      "\r\n",
      "    /* now read the rest until \\n or EOF */ \r\n",
      "    while (true) {\r\n",
      "        ch = getchar();\r\n",
      "        if (ch == '\\n' or ch == EOF) break;\r\n",
      "        *(++ptr) = ch; \r\n",
      "    }\r\n",
      "    *(++ptr) = 0;\r\n",
      "    return dst;\r\n",
      "}\r\n",
      "\r\n",
      "void bad() {\r\n",
      "    char buffer[BUFSIZE];\r\n",
      "    printf(\"buffer is at %p\\n\", buffer);\r\n",
      "    cout << \"Give me some text: \";\r\n",
      "    fflush(stdout);\r\n",
      "    mgets(buffer); // similar to C's gets;\r\n",
      "    //gets(buffer); // depricated\r\n",
      "    cout << \"Acknowledged: \" << buffer << \" with length \" << strlen(buffer) << endl;\r\n",
      "}\r\n",
      "\r\n",
      "int main(int argc, char *argv[]) {\r\n",
      "    gid_t gid = getegid();\r\n",
      "    setresgid(gid, gid, gid);\r\n",
      "    bad();\r\n",
      "    cout << \"Good bye!\\n\";\r\n",
      "    return 0;\r\n",
      "}"
     ]
    }
   ],
   "source": [
    "! cat demos/stack_overflow/so_stdio.cpp"
   ]
  },
  {
   "cell_type": "code",
   "execution_count": 11,
   "metadata": {},
   "outputs": [
    {
     "name": "stdout",
     "output_type": "stream",
     "text": [
      "[sudo] password for kali: "
     ]
    }
   ],
   "source": [
    "! echo kali | sudo -S ./compile.sh demos/stack_overflow/so_stdio.cpp so_stdio.exe"
   ]
  },
  {
   "cell_type": "code",
   "execution_count": 12,
   "metadata": {},
   "outputs": [
    {
     "name": "stdout",
     "output_type": "stream",
     "text": [
      "buffer is at 0xffffc240\r\n",
      "Give me some text: Acknowledged: Hello World with length 11\r\n",
      "Good bye!\r\n"
     ]
    }
   ],
   "source": [
    "# Must pipe the input or interactively type\n",
    "! echo \"Hello World\" | ./so_stdio.exe \n",
    "# Note the address of buffer"
   ]
  },
  {
   "cell_type": "code",
   "execution_count": 13,
   "metadata": {},
   "outputs": [
    {
     "name": "stdout",
     "output_type": "stream",
     "text": [
      "buffer is at 0xffffc240\r\n",
      "Give me some text: Acknowledged: World_Hello with length 11\r\n",
      "Good bye!\r\n"
     ]
    }
   ],
   "source": [
    "# run the progam with the same length argument of input\n",
    "! echo \"World_Hello\" | ./so_stdio.exe\n",
    "# Note the address of buffer; no change because same program is run with the same length of argument"
   ]
  },
  {
   "cell_type": "code",
   "execution_count": 14,
   "metadata": {},
   "outputs": [
    {
     "name": "stdout",
     "output_type": "stream",
     "text": [
      "buffer is at 0xffffc240\r\n",
      "Give me some text: Acknowledged: AAAAAAAAAAAAAAAAAAAAAAAAAAAAAAAAAAAAAAAAAAAAAAAAAAAAAAAAAAAAAAAAAAAAAAAAAAAAAAAAAAAAAAAAAAAAAAAAAAAA with length 100\r\n",
      "Good bye!\r\n"
     ]
    }
   ],
   "source": [
    "# run the program with 100 As\n",
    "! python -c 'print(\"A\"*100)' | ./so_stdio.exe\n",
    "# Note the address of buffer!"
   ]
  },
  {
   "cell_type": "code",
   "execution_count": 15,
   "metadata": {},
   "outputs": [
    {
     "name": "stdout",
     "output_type": "stream",
     "text": [
      "buffer is at 0xffffc240\r\n",
      "Give me some text: Acknowledged: AAAAAAAAAAAAAAAAAAAAAAAAAAAAAAAAAAAAAAAAAAAAAAAAAAAAAAAAAAAAAAAAAAAAAAAAAAAAAAAAAAAAAAAAAAAAAAAAAAAAAAAAAAAAAAAAAAAAAAAAAAAAAAAAAAAAAAAAAAAAAAAAAAAAAAAAAAAAAAAAAAAAAAAAAAAAAAAAAAAAAAAAAAAAAAAAAAAAAAAA with length 200\r\n"
     ]
    }
   ],
   "source": [
    "# run the program with 200 As\n",
    "! python -c 'print(\"A\"*200)' | ./so_stdio.exe\n",
    "# Note the address of buffer!"
   ]
  },
  {
   "cell_type": "markdown",
   "metadata": {},
   "source": [
    "#### Note:\n",
    "- as demonstrated above, length of data read from standard input doesn't shift the addresses of the buffer/variables"
   ]
  },
  {
   "cell_type": "markdown",
   "metadata": {},
   "source": [
    "## length of the program name\n",
    "- let's give names of different lengths to the same program and notice the address of buffer being shifted with the program\n",
    "- this is true regardless the program takes an argument or not \n",
    "    - NOTE the name of the program itself is passed as an argument to the program\n",
    "    - the first argument to main's argv[] is the name of the program that gets pushed on to the main's stack"
   ]
  },
  {
   "cell_type": "code",
   "execution_count": 6,
   "metadata": {},
   "outputs": [
    {
     "name": "stdout",
     "output_type": "stream",
     "text": [
      "[sudo] password for kali: "
     ]
    }
   ],
   "source": [
    "# let's compile the program and run the program with name stack_overflow_stdio.exe\n",
    "! echo kali | sudo -S ./compile.sh demos/stack_overflow/so_stdio.cpp stack_overflow_stdio.exe"
   ]
  },
  {
   "cell_type": "code",
   "execution_count": 7,
   "metadata": {},
   "outputs": [
    {
     "name": "stdout",
     "output_type": "stream",
     "text": [
      "buffer is at 0xffffc2a0\r\n",
      "Give me some text: Acknowledged: Hello_World with length 11\r\n",
      "Good bye!\r\n"
     ]
    }
   ],
   "source": [
    "! echo \"Hello_World\" | ./stack_overflow_stdio.exe"
   ]
  },
  {
   "cell_type": "code",
   "execution_count": 9,
   "metadata": {},
   "outputs": [
    {
     "name": "stdout",
     "output_type": "stream",
     "text": [
      "buffer is at 0xffffc2a0\r\n",
      "Give me some text: Acknowledged: Hello_Worl adfadsfasfasfasf asfadsfasdfadsfdfasfsa d with length 52\r\n",
      "Good bye!\r\n"
     ]
    }
   ],
   "source": [
    "# if the same program is run multiple times, \n",
    "! echo \"Hello_Worl adfadsfasfasfasf asfadsfasdfadsfdfasfsa d\" | ./stack_overflow_stdio.exe\n",
    "# Notice no change in buffer address"
   ]
  },
  {
   "cell_type": "code",
   "execution_count": 10,
   "metadata": {},
   "outputs": [
    {
     "name": "stdout",
     "output_type": "stream",
     "text": [
      "[sudo] password for kali: "
     ]
    }
   ],
   "source": [
    "# let's compile nd run the program with name stack.exe\n",
    "! echo kali | sudo -S ./compile.sh demos/stack_overflow/so_stdio.cpp stack.exe"
   ]
  },
  {
   "cell_type": "code",
   "execution_count": 11,
   "metadata": {},
   "outputs": [
    {
     "name": "stdout",
     "output_type": "stream",
     "text": [
      "buffer is at 0xffffc2d0\r\n",
      "Give me some text: Acknowledged: Hello_World with length 11\r\n",
      "Good bye!\r\n"
     ]
    }
   ],
   "source": [
    "! echo \"Hello_World\" | ./stack.exe"
   ]
  },
  {
   "cell_type": "code",
   "execution_count": 13,
   "metadata": {},
   "outputs": [
    {
     "name": "stdout",
     "output_type": "stream",
     "text": [
      "[sudo] password for kali: "
     ]
    }
   ],
   "source": [
    "# let's compile and run the program with the name stack1.exe\n",
    "! echo kali | sudo -S ./compile.sh demos/stack_overflow/so_stdio.cpp stack1.exe\n",
    "# minor change in length may not shift it"
   ]
  },
  {
   "cell_type": "code",
   "execution_count": 14,
   "metadata": {},
   "outputs": [
    {
     "name": "stdout",
     "output_type": "stream",
     "text": [
      "buffer is at 0xffffc2d0\r\n",
      "Give me some text: Acknowledged: Hello_World with length 11\r\n",
      "Good bye!\r\n"
     ]
    }
   ],
   "source": [
    "! echo \"Hello_World\" | ./stack1.exe"
   ]
  },
  {
   "cell_type": "code",
   "execution_count": 15,
   "metadata": {},
   "outputs": [
    {
     "name": "stdout",
     "output_type": "stream",
     "text": [
      "[sudo] password for kali: "
     ]
    }
   ],
   "source": [
    "# let's compile the program and run the program with the name stack11.exe\n",
    "! echo kali | sudo -S ./compile.sh demos/stack_overflow/so_stdio.cpp stack11.exe"
   ]
  },
  {
   "cell_type": "code",
   "execution_count": 16,
   "metadata": {},
   "outputs": [
    {
     "name": "stdout",
     "output_type": "stream",
     "text": [
      "buffer is at 0xffffc2d0\r\n",
      "Give me some text: Acknowledged: Hello_World with length 11\r\n",
      "Good bye!\r\n"
     ]
    }
   ],
   "source": [
    "! echo \"Hello_World\" | ./stack11.exe\n",
    "# perhaps, filename is not long engouh to make a difference"
   ]
  },
  {
   "cell_type": "code",
   "execution_count": 17,
   "metadata": {},
   "outputs": [
    {
     "name": "stdout",
     "output_type": "stream",
     "text": [
      "buffer is at 0xffffc2e0\n",
      "Give me some text: Acknowledged: Hello_World with length 11\n",
      "Good bye!\n"
     ]
    },
    {
     "name": "stderr",
     "output_type": "stream",
     "text": [
      "[sudo] password for kali: "
     ]
    }
   ],
   "source": [
    "%%bash\n",
    "# let's compile the program with output program name stack11111.exe\n",
    "echo kali | sudo -S ./compile.sh demos/stack_overflow/so_stdio.cpp stack11111.exe\n",
    "echo \"Hello_World\" | ./stack11111.exe"
   ]
  },
  {
   "cell_type": "code",
   "execution_count": 18,
   "metadata": {},
   "outputs": [
    {
     "name": "stdout",
     "output_type": "stream",
     "text": [
      "16\n"
     ]
    }
   ],
   "source": [
    "# let's find the no. of bytes the buffer address was shifted by\n",
    "print(0xffffc2e0-0xffffc2d0)"
   ]
  },
  {
   "cell_type": "markdown",
   "metadata": {},
   "source": [
    "## Run program with modified environment\n",
    "- **env** command let's you run the program in a modified environment\n",
    "- **env -i** - ignores environment or starts a program without one"
   ]
  },
  {
   "cell_type": "code",
   "execution_count": 19,
   "metadata": {},
   "outputs": [
    {
     "name": "stdout",
     "output_type": "stream",
     "text": [
      "buffer is at 0xffffc2a0\r\n",
      "Give me some text: Acknowledged: Hello with length 5\r\n",
      "Good bye!\r\n"
     ]
    }
   ],
   "source": [
    "! echo Hello | ./stack_overflow_stdio.exe"
   ]
  },
  {
   "cell_type": "code",
   "execution_count": 20,
   "metadata": {},
   "outputs": [
    {
     "name": "stdout",
     "output_type": "stream",
     "text": [
      "buffer is at 0xffffdd90\r\n",
      "Give me some text: Acknowledged: Hello with length 5\r\n",
      "Good bye!\r\n"
     ]
    }
   ],
   "source": [
    "! echo Hello | env -i ./stack_overflow_stdio.exe"
   ]
  },
  {
   "cell_type": "code",
   "execution_count": 21,
   "metadata": {},
   "outputs": [
    {
     "name": "stdout",
     "output_type": "stream",
     "text": [
      "COLORFGBG=15;0\r\n",
      "DBUS_SESSION_BUS_ADDRESS=unix:path=/run/user/1000/bus\r\n",
      "DESKTOP_SESSION=lightdm-xsession\r\n",
      "DISPLAY=:0.0\r\n",
      "GDMSESSION=lightdm-xsession\r\n",
      "HOME=/home/kali\r\n",
      "LANG=en_US.utf8\r\n",
      "LANGUAGE=\r\n",
      "LOGNAME=kali\r\n",
      "PANEL_GDK_CORE_DEVICE_EVENTS=0\r\n",
      "PATH=/home/kali/miniconda3/bin:/home/kali/miniconda3/condabin:/usr/local/sbin:/usr/local/bin:/usr/sbin:/usr/bin:/sbin:/bin:/usr/local/games:/usr/games\r\n",
      "PWD=/home/kali/Sp21/EthicalHacking\r\n",
      "QT_ACCESSIBILITY=1\r\n",
      "QT_AUTO_SCREEN_SCALE_FACTOR=0\r\n",
      "QT_QPA_PLATFORMTHEME=qt5ct\r\n",
      "SESSION_MANAGER=local/K:@/tmp/.ICE-unix/852,unix/K:/tmp/.ICE-unix/852\r\n",
      "SHELL=/usr/bin/zsh\r\n",
      "SSH_AGENT_PID=895\r\n",
      "SSH_AUTH_SOCK=/tmp/ssh-1ZCMbOabR0WB/agent.852\r\n",
      "TERM=xterm-color\r\n",
      "USER=kali\r\n",
      "WINDOWID=0\r\n",
      "XAUTHORITY=/home/kali/.Xauthority\r\n",
      "XDG_CONFIG_DIRS=/etc/xdg\r\n",
      "XDG_CURRENT_DESKTOP=XFCE\r\n",
      "XDG_DATA_DIRS=/usr/share/xfce4:/usr/local/share/:/usr/share/:/usr/share\r\n",
      "XDG_GREETER_DATA_DIR=/var/lib/lightdm/data/kali\r\n",
      "XDG_MENU_PREFIX=xfce-\r\n",
      "XDG_RUNTIME_DIR=/run/user/1000\r\n",
      "XDG_SEAT=seat0\r\n",
      "XDG_SEAT_PATH=/org/freedesktop/DisplayManager/Seat0\r\n",
      "XDG_SESSION_CLASS=user\r\n",
      "XDG_SESSION_DESKTOP=lightdm-xsession\r\n",
      "XDG_SESSION_ID=2\r\n",
      "XDG_SESSION_PATH=/org/freedesktop/DisplayManager/Session0\r\n",
      "XDG_SESSION_TYPE=x11\r\n",
      "XDG_VTNR=7\r\n",
      "_JAVA_OPTIONS=-Dawt.useSystemAAFontSettings=on -Dswing.aatext=true\r\n",
      "SHLVL=1\r\n",
      "OLDPWD=/home/kali/Sp21/EthicalHacking\r\n",
      "LS_COLORS=rs=0:di=01;34:ln=01;36:mh=00:pi=40;33:so=01;35:do=01;35:bd=40;33;01:cd=40;33;01:or=40;31;01:mi=00:su=37;41:sg=30;43:ca=30;41:tw=30;42:ow=34;42:st=37;44:ex=01;32:*.tar=01;31:*.tgz=01;31:*.arc=01;31:*.arj=01;31:*.taz=01;31:*.lha=01;31:*.lz4=01;31:*.lzh=01;31:*.lzma=01;31:*.tlz=01;31:*.txz=01;31:*.tzo=01;31:*.t7z=01;31:*.zip=01;31:*.z=01;31:*.dz=01;31:*.gz=01;31:*.lrz=01;31:*.lz=01;31:*.lzo=01;31:*.xz=01;31:*.zst=01;31:*.tzst=01;31:*.bz2=01;31:*.bz=01;31:*.tbz=01;31:*.tbz2=01;31:*.tz=01;31:*.deb=01;31:*.rpm=01;31:*.jar=01;31:*.war=01;31:*.ear=01;31:*.sar=01;31:*.rar=01;31:*.alz=01;31:*.ace=01;31:*.zoo=01;31:*.cpio=01;31:*.7z=01;31:*.rz=01;31:*.cab=01;31:*.wim=01;31:*.swm=01;31:*.dwm=01;31:*.esd=01;31:*.jpg=01;35:*.jpeg=01;35:*.mjpg=01;35:*.mjpeg=01;35:*.gif=01;35:*.bmp=01;35:*.pbm=01;35:*.pgm=01;35:*.ppm=01;35:*.tga=01;35:*.xbm=01;35:*.xpm=01;35:*.tif=01;35:*.tiff=01;35:*.png=01;35:*.svg=01;35:*.svgz=01;35:*.mng=01;35:*.pcx=01;35:*.mov=01;35:*.mpg=01;35:*.mpeg=01;35:*.m2v=01;35:*.mkv=01;35:*.webm=01;35:*.webp=01;35:*.ogm=01;35:*.mp4=01;35:*.m4v=01;35:*.mp4v=01;35:*.vob=01;35:*.qt=01;35:*.nuv=01;35:*.wmv=01;35:*.asf=01;35:*.rm=01;35:*.rmvb=01;35:*.flc=01;35:*.avi=01;35:*.fli=01;35:*.flv=01;35:*.gl=01;35:*.dl=01;35:*.xcf=01;35:*.xwd=01;35:*.yuv=01;35:*.cgm=01;35:*.emf=01;35:*.ogv=01;35:*.ogx=01;35:*.aac=00;36:*.au=00;36:*.flac=00;36:*.m4a=00;36:*.mid=00;36:*.midi=00;36:*.mka=00;36:*.mp3=00;36:*.mpc=00;36:*.ogg=00;36:*.ra=00;36:*.wav=00;36:*.oga=00;36:*.opus=00;36:*.spx=00;36:*.xspf=00;36:\r\n",
      "LESS_TERMCAP_mb=\u001b[1;31m\r\n",
      "LESS_TERMCAP_md=\u001b[1;36m\r\n",
      "LESS_TERMCAP_me=\u001b[0m\r\n",
      "LESS_TERMCAP_so=\u001b[01;33m\r\n",
      "LESS_TERMCAP_se=\u001b[0m\r\n",
      "LESS_TERMCAP_us=\u001b[1;32m\r\n",
      "LESS_TERMCAP_ue=\u001b[0m\r\n",
      "CONDA_EXE=/home/kali/miniconda3/bin/conda\r\n",
      "_CE_M=\r\n",
      "_CE_CONDA=\r\n",
      "CONDA_PYTHON_EXE=/home/kali/miniconda3/bin/python\r\n",
      "CONDA_SHLVL=1\r\n",
      "CONDA_PREFIX=/home/kali/miniconda3\r\n",
      "CONDA_DEFAULT_ENV=base\r\n",
      "CONDA_PROMPT_MODIFIER=\r\n",
      "CONDA_BACKUP_HOST=x86_64-conda_cos6-linux-gnu\r\n",
      "HOST=K\r\n",
      "ADDR2LINE=/home/kali/miniconda3/bin/x86_64-conda_cos6-linux-gnu-addr2line\r\n",
      "AR=/home/kali/miniconda3/bin/x86_64-conda_cos6-linux-gnu-ar\r\n",
      "AS=/home/kali/miniconda3/bin/x86_64-conda_cos6-linux-gnu-as\r\n",
      "CXXFILT=/home/kali/miniconda3/bin/x86_64-conda_cos6-linux-gnu-c++filt\r\n",
      "ELFEDIT=/home/kali/miniconda3/bin/x86_64-conda_cos6-linux-gnu-elfedit\r\n",
      "GPROF=/home/kali/miniconda3/bin/x86_64-conda_cos6-linux-gnu-gprof\r\n",
      "LD=/home/kali/miniconda3/bin/x86_64-conda_cos6-linux-gnu-ld\r\n",
      "LD_GOLD=/home/kali/miniconda3/bin/x86_64-conda_cos6-linux-gnu-ld.gold\r\n",
      "NM=/home/kali/miniconda3/bin/x86_64-conda_cos6-linux-gnu-nm\r\n",
      "OBJCOPY=/home/kali/miniconda3/bin/x86_64-conda_cos6-linux-gnu-objcopy\r\n",
      "OBJDUMP=/home/kali/miniconda3/bin/x86_64-conda_cos6-linux-gnu-objdump\r\n",
      "RANLIB=/home/kali/miniconda3/bin/x86_64-conda_cos6-linux-gnu-ranlib\r\n",
      "READELF=/home/kali/miniconda3/bin/x86_64-conda_cos6-linux-gnu-readelf\r\n",
      "SIZE=/home/kali/miniconda3/bin/x86_64-conda_cos6-linux-gnu-size\r\n",
      "STRINGS=/home/kali/miniconda3/bin/x86_64-conda_cos6-linux-gnu-strings\r\n",
      "STRIP=/home/kali/miniconda3/bin/x86_64-conda_cos6-linux-gnu-strip\r\n",
      "CC=/home/kali/miniconda3/bin/x86_64-conda_cos6-linux-gnu-cc\r\n",
      "CPP=/home/kali/miniconda3/bin/x86_64-conda_cos6-linux-gnu-cpp\r\n",
      "GCC=/home/kali/miniconda3/bin/x86_64-conda_cos6-linux-gnu-gcc\r\n",
      "GCC_AR=/home/kali/miniconda3/bin/x86_64-conda_cos6-linux-gnu-gcc-ar\r\n",
      "GCC_NM=/home/kali/miniconda3/bin/x86_64-conda_cos6-linux-gnu-gcc-nm\r\n",
      "GCC_RANLIB=/home/kali/miniconda3/bin/x86_64-conda_cos6-linux-gnu-gcc-ranlib\r\n",
      "CPPFLAGS=-DNDEBUG -D_FORTIFY_SOURCE=2 -O2 -isystem /home/kali/miniconda3/include\r\n",
      "CFLAGS=-march=nocona -mtune=haswell -ftree-vectorize -fPIC -fstack-protector-strong -fno-plt -O2 -ffunction-sections -pipe -isystem /home/kali/miniconda3/include\r\n",
      "LDFLAGS=-Wl,-O2 -Wl,--sort-common -Wl,--as-needed -Wl,-z,relro -Wl,-z,now -Wl,--disable-new-dtags -Wl,--gc-sections -Wl,-rpath,/home/kali/miniconda3/lib -Wl,-rpath-link,/home/kali/miniconda3/lib -L/home/kali/miniconda3/lib\r\n",
      "DEBUG_CPPFLAGS=-D_DEBUG -D_FORTIFY_SOURCE=2 -Og -isystem /home/kali/miniconda3/include\r\n",
      "DEBUG_CFLAGS=-march=nocona -mtune=haswell -ftree-vectorize -fPIC -fstack-protector-all -fno-plt -Og -g -Wall -Wextra -fvar-tracking-assignments -ffunction-sections -pipe -isystem /home/kali/miniconda3/include\r\n",
      "CMAKE_PREFIX_PATH=/home/kali/miniconda3:/home/kali/miniconda3/x86_64-conda_cos6-linux-gnu/sysroot/usr\r\n",
      "_CONDA_PYTHON_SYSCONFIGDATA_NAME=_sysconfigdata_x86_64_conda_cos6_linux_gnu\r\n",
      "CONDA_BUILD_SYSROOT=/home/kali/miniconda3/x86_64-conda_cos6-linux-gnu/sysroot\r\n",
      "CXX=/home/kali/miniconda3/bin/x86_64-conda_cos6-linux-gnu-c++\r\n",
      "GXX=/home/kali/miniconda3/bin/x86_64-conda_cos6-linux-gnu-g++\r\n",
      "CXXFLAGS=-fvisibility-inlines-hidden -std=c++17 -fmessage-length=0 -march=nocona -mtune=haswell -ftree-vectorize -fPIC -fstack-protector-strong -fno-plt -O2 -ffunction-sections -pipe -isystem /home/kali/miniconda3/include\r\n",
      "DEBUG_CXXFLAGS=-fvisibility-inlines-hidden -std=c++17 -fmessage-length=0 -march=nocona -mtune=haswell -ftree-vectorize -fPIC -fstack-protector-all -fno-plt -Og -g -Wall -Wextra -fvar-tracking-assignments -ffunction-sections -pipe -isystem /home/kali/miniconda3/include\r\n",
      "_=/usr/bin/env\r\n",
      "JPY_PARENT_PID=9269\r\n",
      "CLICOLOR=1\r\n",
      "PAGER=cat\r\n",
      "GIT_PAGER=cat\r\n",
      "MPLBACKEND=module://ipykernel.pylab.backend_inline\r\n"
     ]
    }
   ],
   "source": [
    "# let's look at the current environment\n",
    "! env"
   ]
  },
  {
   "cell_type": "code",
   "execution_count": 22,
   "metadata": {},
   "outputs": [
    {
     "name": "stdout",
     "output_type": "stream",
     "text": [
      "6912\n"
     ]
    }
   ],
   "source": [
    "# print the difference in addresses\n",
    "print(0xffffdd90-0xffffc290)"
   ]
  },
  {
   "cell_type": "code",
   "execution_count": 25,
   "metadata": {},
   "outputs": [
    {
     "name": "stdout",
     "output_type": "stream",
     "text": [
      "buffer is at 0xffffc2d0\r\n",
      "buffer contains: \r\n",
      "Hello\r\n",
      "Good bye!\r\n"
     ]
    }
   ],
   "source": [
    "! ./so_arg.exe Hello"
   ]
  },
  {
   "cell_type": "code",
   "execution_count": 26,
   "metadata": {},
   "outputs": [
    {
     "name": "stdout",
     "output_type": "stream",
     "text": [
      "buffer is at 0xffffdd90\r\n",
      "buffer contains: \r\n",
      "Hello\r\n",
      "Good bye!\r\n"
     ]
    }
   ],
   "source": [
    "! env -i ./so_arg.exe Hello"
   ]
  },
  {
   "cell_type": "code",
   "execution_count": 27,
   "metadata": {},
   "outputs": [
    {
     "name": "stdout",
     "output_type": "stream",
     "text": [
      "6864\n"
     ]
    }
   ],
   "source": [
    "# print the difference in addresses\n",
    "print(0xffffdd90-0xffffc2c0)"
   ]
  },
  {
   "cell_type": "code",
   "execution_count": 28,
   "metadata": {},
   "outputs": [
    {
     "name": "stdout",
     "output_type": "stream",
     "text": [
      "buffer is at 0xffffdd80\r\n",
      "buffer contains: \r\n",
      "Hello there beautiful world!\r\n",
      "Good bye!\r\n"
     ]
    }
   ],
   "source": [
    "# argument length and program length still matters\n",
    "# let's try with longer argument to demonstrate the shift in buffer's address\n",
    "! env -i ./so_arg.exe \"Hello there beautiful world!\""
   ]
  },
  {
   "cell_type": "code",
   "execution_count": null,
   "metadata": {},
   "outputs": [],
   "source": []
  }
 ],
 "metadata": {
  "kernelspec": {
   "display_name": "Python 3",
   "language": "python",
   "name": "python3"
  },
  "language_info": {
   "codemirror_mode": {
    "name": "ipython",
    "version": 3
   },
   "file_extension": ".py",
   "mimetype": "text/x-python",
   "name": "python",
   "nbconvert_exporter": "python",
   "pygments_lexer": "ipython3",
   "version": "3.8.10"
  }
 },
 "nbformat": 4,
 "nbformat_minor": 2
}
